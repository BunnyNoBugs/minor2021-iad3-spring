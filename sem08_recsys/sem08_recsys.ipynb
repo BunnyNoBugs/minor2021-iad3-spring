{
 "cells": [
  {
   "cell_type": "markdown",
   "metadata": {
    "id": "rdcG8vCC7NT-"
   },
   "source": [
    "## Прикладные задачи анализа данных 2021\n",
    "\n",
    "## Рекомендательные системы - 1\n",
    "\n",
    "Ссылка на этот ноутбук в колабе\n",
    "https://colab.research.google.com/drive/13NMTVNVPXHfoSicHbNW39KC18-SfJwIn?usp=sharing"
   ]
  },
  {
   "cell_type": "markdown",
   "metadata": {
    "id": "9x8hyRrh7NUD"
   },
   "source": [
    "В этом задании будем практиковаться в реализации рекомендательных систем.\n",
    "\n",
    "Воспользуемся небольшим датасетом с Kaggle: [Articles Sharing and Reading from CI&T Deskdrop](https://www.kaggle.com/gspmoreira/articles-sharing-reading-from-cit-deskdrop)."
   ]
  },
  {
   "cell_type": "code",
   "execution_count": 60,
   "metadata": {
    "colab": {
     "base_uri": "https://localhost:8080/"
    },
    "id": "iio1_Ru07NUE",
    "outputId": "534d65c6-ddd4-4b3a-fcbb-591d8a646f1d"
   },
   "outputs": [
    {
     "name": "stdout",
     "output_type": "stream",
     "text": [
      "Populating the interactive namespace from numpy and matplotlib\n"
     ]
    }
   ],
   "source": [
    "%pylab inline\n",
    "\n",
    "import pandas as pd\n",
    "\n",
    "from tqdm import tqdm_notebook, tqdm"
   ]
  },
  {
   "cell_type": "markdown",
   "metadata": {
    "id": "TZm2RA1z7NUF"
   },
   "source": [
    "## Часть 0. Загрузка данных"
   ]
  },
  {
   "cell_type": "markdown",
   "metadata": {
    "id": "xLkQJwKV7NUF"
   },
   "source": [
    "Загрузим Deskdrop dataset, включающийся в себе логи за 1 год платформы, где пользователи читают статьи.\n",
    "\n",
    "Данные включают в себя 2 файла:  \n",
    "- **shared_articles.csv**\n",
    "- **users_interactions.csv**\n",
    "\n",
    "Как можно догадаться, в одном описания самих статей (нам понадобятся в контентных моделях), а в другом логи пользователей."
   ]
  },
  {
   "cell_type": "code",
   "execution_count": 7,
   "metadata": {
    "colab": {
     "base_uri": "https://localhost:8080/"
    },
    "id": "EympksqQ7NUF",
    "outputId": "6b1d4fdd-1b18-4c78-f2ab-8af9e4226a64"
   },
   "outputs": [],
   "source": [
    "# загружаем и разархивируем данные\n",
    "!pip3 -q install cython\n",
    "!pip3 -q install git+https://github.com/coreylynch/pyFM\n",
    "!pip3 -q install catboost\n",
    "!wget -q -N \"https://www.dropbox.com/s/z8syrl5trawxs0n/articles.zip?dl=0\" -O articles.zip\n",
    "!unzip -o -q articles.zip"
   ]
  },
  {
   "cell_type": "markdown",
   "metadata": {
    "id": "nWFKbw3a7NUG"
   },
   "source": [
    "#### shared_articles.csv"
   ]
  },
  {
   "cell_type": "markdown",
   "metadata": {
    "id": "6VKC0fE97NUG"
   },
   "source": [
    "Так как в файле перечислены даже удалённые статьи, то мы их сразу удалим (на самом деле они могли бы быть нам полезны для подсчёта различных величин, хоть мы и не можем их рекомендовать)."
   ]
  },
  {
   "cell_type": "code",
   "execution_count": 2,
   "metadata": {
    "colab": {
     "base_uri": "https://localhost:8080/",
     "height": 390
    },
    "id": "BArQeGip7NUG",
    "outputId": "cf8e2f28-77c5-4869-e97d-d6d295025677"
   },
   "outputs": [
    {
     "data": {
      "text/html": [
       "<div>\n",
       "<style scoped>\n",
       "    .dataframe tbody tr th:only-of-type {\n",
       "        vertical-align: middle;\n",
       "    }\n",
       "\n",
       "    .dataframe tbody tr th {\n",
       "        vertical-align: top;\n",
       "    }\n",
       "\n",
       "    .dataframe thead th {\n",
       "        text-align: right;\n",
       "    }\n",
       "</style>\n",
       "<table border=\"1\" class=\"dataframe\">\n",
       "  <thead>\n",
       "    <tr style=\"text-align: right;\">\n",
       "      <th></th>\n",
       "      <th>timestamp</th>\n",
       "      <th>eventType</th>\n",
       "      <th>contentId</th>\n",
       "      <th>authorPersonId</th>\n",
       "      <th>authorSessionId</th>\n",
       "      <th>authorUserAgent</th>\n",
       "      <th>authorRegion</th>\n",
       "      <th>authorCountry</th>\n",
       "      <th>contentType</th>\n",
       "      <th>url</th>\n",
       "      <th>title</th>\n",
       "      <th>text</th>\n",
       "      <th>lang</th>\n",
       "    </tr>\n",
       "  </thead>\n",
       "  <tbody>\n",
       "    <tr>\n",
       "      <th>1</th>\n",
       "      <td>1459193988</td>\n",
       "      <td>CONTENT SHARED</td>\n",
       "      <td>-4110354420726924665</td>\n",
       "      <td>4340306774493623681</td>\n",
       "      <td>8940341205206233829</td>\n",
       "      <td>NaN</td>\n",
       "      <td>NaN</td>\n",
       "      <td>NaN</td>\n",
       "      <td>HTML</td>\n",
       "      <td>http://www.nytimes.com/2016/03/28/business/dea...</td>\n",
       "      <td>Ethereum, a Virtual Currency, Enables Transact...</td>\n",
       "      <td>All of this work is still very early. The firs...</td>\n",
       "      <td>en</td>\n",
       "    </tr>\n",
       "    <tr>\n",
       "      <th>2</th>\n",
       "      <td>1459194146</td>\n",
       "      <td>CONTENT SHARED</td>\n",
       "      <td>-7292285110016212249</td>\n",
       "      <td>4340306774493623681</td>\n",
       "      <td>8940341205206233829</td>\n",
       "      <td>NaN</td>\n",
       "      <td>NaN</td>\n",
       "      <td>NaN</td>\n",
       "      <td>HTML</td>\n",
       "      <td>http://cointelegraph.com/news/bitcoin-future-w...</td>\n",
       "      <td>Bitcoin Future: When GBPcoin of Branson Wins O...</td>\n",
       "      <td>The alarm clock wakes me at 8:00 with stream o...</td>\n",
       "      <td>en</td>\n",
       "    </tr>\n",
       "  </tbody>\n",
       "</table>\n",
       "</div>"
      ],
      "text/plain": [
       "    timestamp       eventType            contentId       authorPersonId  \\\n",
       "1  1459193988  CONTENT SHARED -4110354420726924665  4340306774493623681   \n",
       "2  1459194146  CONTENT SHARED -7292285110016212249  4340306774493623681   \n",
       "\n",
       "       authorSessionId authorUserAgent authorRegion authorCountry contentType  \\\n",
       "1  8940341205206233829             NaN          NaN           NaN        HTML   \n",
       "2  8940341205206233829             NaN          NaN           NaN        HTML   \n",
       "\n",
       "                                                 url  \\\n",
       "1  http://www.nytimes.com/2016/03/28/business/dea...   \n",
       "2  http://cointelegraph.com/news/bitcoin-future-w...   \n",
       "\n",
       "                                               title  \\\n",
       "1  Ethereum, a Virtual Currency, Enables Transact...   \n",
       "2  Bitcoin Future: When GBPcoin of Branson Wins O...   \n",
       "\n",
       "                                                text lang  \n",
       "1  All of this work is still very early. The firs...   en  \n",
       "2  The alarm clock wakes me at 8:00 with stream o...   en  "
      ]
     },
     "execution_count": 2,
     "metadata": {},
     "output_type": "execute_result"
    }
   ],
   "source": [
    "articles_df = pd.read_csv('./articles/shared_articles.csv')\n",
    "articles_df = articles_df[articles_df['eventType'] == 'CONTENT SHARED']\n",
    "articles_df.head(2)"
   ]
  },
  {
   "cell_type": "markdown",
   "metadata": {
    "id": "9U9bXogy7NUG"
   },
   "source": [
    "#### users_interactions.csv"
   ]
  },
  {
   "cell_type": "markdown",
   "metadata": {
    "id": "3JdRT3Fp7NUH"
   },
   "source": [
    "В колонке eventType описаны действия, которые могли совершать пользователи над статьёй:  \n",
    "- VIEW\n",
    "- LIKE\n",
    "- COMMENT CREATED\n",
    "- FOLLOW\n",
    "- BOOKMARK"
   ]
  },
  {
   "cell_type": "code",
   "execution_count": 3,
   "metadata": {
    "colab": {
     "base_uri": "https://localhost:8080/",
     "height": 407
    },
    "id": "Ou_s98f37NUH",
    "outputId": "a8f209cb-2c65-4a6f-bed0-646e3ac43625"
   },
   "outputs": [
    {
     "data": {
      "text/html": [
       "<div>\n",
       "<style scoped>\n",
       "    .dataframe tbody tr th:only-of-type {\n",
       "        vertical-align: middle;\n",
       "    }\n",
       "\n",
       "    .dataframe tbody tr th {\n",
       "        vertical-align: top;\n",
       "    }\n",
       "\n",
       "    .dataframe thead th {\n",
       "        text-align: right;\n",
       "    }\n",
       "</style>\n",
       "<table border=\"1\" class=\"dataframe\">\n",
       "  <thead>\n",
       "    <tr style=\"text-align: right;\">\n",
       "      <th></th>\n",
       "      <th>timestamp</th>\n",
       "      <th>eventType</th>\n",
       "      <th>contentId</th>\n",
       "      <th>personId</th>\n",
       "      <th>sessionId</th>\n",
       "      <th>userAgent</th>\n",
       "      <th>userRegion</th>\n",
       "      <th>userCountry</th>\n",
       "    </tr>\n",
       "  </thead>\n",
       "  <tbody>\n",
       "    <tr>\n",
       "      <th>0</th>\n",
       "      <td>1465413032</td>\n",
       "      <td>VIEW</td>\n",
       "      <td>-3499919498720038879</td>\n",
       "      <td>-8845298781299428018</td>\n",
       "      <td>1264196770339959068</td>\n",
       "      <td>NaN</td>\n",
       "      <td>NaN</td>\n",
       "      <td>NaN</td>\n",
       "    </tr>\n",
       "    <tr>\n",
       "      <th>1</th>\n",
       "      <td>1465412560</td>\n",
       "      <td>VIEW</td>\n",
       "      <td>8890720798209849691</td>\n",
       "      <td>-1032019229384696495</td>\n",
       "      <td>3621737643587579081</td>\n",
       "      <td>Mozilla/5.0 (Macintosh; Intel Mac OS X 10_11_2...</td>\n",
       "      <td>NY</td>\n",
       "      <td>US</td>\n",
       "    </tr>\n",
       "    <tr>\n",
       "      <th>2</th>\n",
       "      <td>1465416190</td>\n",
       "      <td>VIEW</td>\n",
       "      <td>310515487419366995</td>\n",
       "      <td>-1130272294246983140</td>\n",
       "      <td>2631864456530402479</td>\n",
       "      <td>NaN</td>\n",
       "      <td>NaN</td>\n",
       "      <td>NaN</td>\n",
       "    </tr>\n",
       "    <tr>\n",
       "      <th>3</th>\n",
       "      <td>1465413895</td>\n",
       "      <td>FOLLOW</td>\n",
       "      <td>310515487419366995</td>\n",
       "      <td>344280948527967603</td>\n",
       "      <td>-3167637573980064150</td>\n",
       "      <td>NaN</td>\n",
       "      <td>NaN</td>\n",
       "      <td>NaN</td>\n",
       "    </tr>\n",
       "    <tr>\n",
       "      <th>4</th>\n",
       "      <td>1465412290</td>\n",
       "      <td>VIEW</td>\n",
       "      <td>-7820640624231356730</td>\n",
       "      <td>-445337111692715325</td>\n",
       "      <td>5611481178424124714</td>\n",
       "      <td>NaN</td>\n",
       "      <td>NaN</td>\n",
       "      <td>NaN</td>\n",
       "    </tr>\n",
       "    <tr>\n",
       "      <th>5</th>\n",
       "      <td>1465413742</td>\n",
       "      <td>VIEW</td>\n",
       "      <td>310515487419366995</td>\n",
       "      <td>-8763398617720485024</td>\n",
       "      <td>1395789369402380392</td>\n",
       "      <td>Mozilla/5.0 (Windows NT 10.0; WOW64) AppleWebK...</td>\n",
       "      <td>MG</td>\n",
       "      <td>BR</td>\n",
       "    </tr>\n",
       "    <tr>\n",
       "      <th>6</th>\n",
       "      <td>1465415950</td>\n",
       "      <td>VIEW</td>\n",
       "      <td>-8864073373672512525</td>\n",
       "      <td>3609194402293569455</td>\n",
       "      <td>1143207167886864524</td>\n",
       "      <td>NaN</td>\n",
       "      <td>NaN</td>\n",
       "      <td>NaN</td>\n",
       "    </tr>\n",
       "    <tr>\n",
       "      <th>7</th>\n",
       "      <td>1465415066</td>\n",
       "      <td>VIEW</td>\n",
       "      <td>-1492913151930215984</td>\n",
       "      <td>4254153380739593270</td>\n",
       "      <td>8743229464706506141</td>\n",
       "      <td>Mozilla/5.0 (X11; Linux x86_64) AppleWebKit/53...</td>\n",
       "      <td>SP</td>\n",
       "      <td>BR</td>\n",
       "    </tr>\n",
       "    <tr>\n",
       "      <th>8</th>\n",
       "      <td>1465413762</td>\n",
       "      <td>VIEW</td>\n",
       "      <td>310515487419366995</td>\n",
       "      <td>344280948527967603</td>\n",
       "      <td>-3167637573980064150</td>\n",
       "      <td>NaN</td>\n",
       "      <td>NaN</td>\n",
       "      <td>NaN</td>\n",
       "    </tr>\n",
       "    <tr>\n",
       "      <th>9</th>\n",
       "      <td>1465413771</td>\n",
       "      <td>VIEW</td>\n",
       "      <td>3064370296170038610</td>\n",
       "      <td>3609194402293569455</td>\n",
       "      <td>1143207167886864524</td>\n",
       "      <td>NaN</td>\n",
       "      <td>NaN</td>\n",
       "      <td>NaN</td>\n",
       "    </tr>\n",
       "  </tbody>\n",
       "</table>\n",
       "</div>"
      ],
      "text/plain": [
       "    timestamp eventType            contentId             personId  \\\n",
       "0  1465413032      VIEW -3499919498720038879 -8845298781299428018   \n",
       "1  1465412560      VIEW  8890720798209849691 -1032019229384696495   \n",
       "2  1465416190      VIEW   310515487419366995 -1130272294246983140   \n",
       "3  1465413895    FOLLOW   310515487419366995   344280948527967603   \n",
       "4  1465412290      VIEW -7820640624231356730  -445337111692715325   \n",
       "5  1465413742      VIEW   310515487419366995 -8763398617720485024   \n",
       "6  1465415950      VIEW -8864073373672512525  3609194402293569455   \n",
       "7  1465415066      VIEW -1492913151930215984  4254153380739593270   \n",
       "8  1465413762      VIEW   310515487419366995   344280948527967603   \n",
       "9  1465413771      VIEW  3064370296170038610  3609194402293569455   \n",
       "\n",
       "             sessionId                                          userAgent  \\\n",
       "0  1264196770339959068                                                NaN   \n",
       "1  3621737643587579081  Mozilla/5.0 (Macintosh; Intel Mac OS X 10_11_2...   \n",
       "2  2631864456530402479                                                NaN   \n",
       "3 -3167637573980064150                                                NaN   \n",
       "4  5611481178424124714                                                NaN   \n",
       "5  1395789369402380392  Mozilla/5.0 (Windows NT 10.0; WOW64) AppleWebK...   \n",
       "6  1143207167886864524                                                NaN   \n",
       "7  8743229464706506141  Mozilla/5.0 (X11; Linux x86_64) AppleWebKit/53...   \n",
       "8 -3167637573980064150                                                NaN   \n",
       "9  1143207167886864524                                                NaN   \n",
       "\n",
       "  userRegion userCountry  \n",
       "0        NaN         NaN  \n",
       "1         NY          US  \n",
       "2        NaN         NaN  \n",
       "3        NaN         NaN  \n",
       "4        NaN         NaN  \n",
       "5         MG          BR  \n",
       "6        NaN         NaN  \n",
       "7         SP          BR  \n",
       "8        NaN         NaN  \n",
       "9        NaN         NaN  "
      ]
     },
     "execution_count": 3,
     "metadata": {},
     "output_type": "execute_result"
    }
   ],
   "source": [
    "interactions_df = pd.read_csv('./articles/users_interactions.csv')\n",
    "interactions_df.head(10)"
   ]
  },
  {
   "cell_type": "code",
   "execution_count": 4,
   "metadata": {
    "id": "CL9lEVCX7NUH"
   },
   "outputs": [],
   "source": [
    "interactions_df.personId = interactions_df.personId.astype(str)\n",
    "interactions_df.contentId = interactions_df.contentId.astype(str)\n",
    "articles_df.contentId = articles_df.contentId.astype(str)"
   ]
  },
  {
   "cell_type": "markdown",
   "metadata": {
    "id": "WBuwRpLT7NUH"
   },
   "source": [
    "### Предобработка данных"
   ]
  },
  {
   "cell_type": "markdown",
   "metadata": {
    "id": "TJR_6LkW7NUH"
   },
   "source": [
    "В логах встречаются различные действия пользователей. Однако мы хотим работать лишь с одной величиной, характеризующей всё взаимодействие пользователя со статьёй. Предлагается задать действиям следующие веса:"
   ]
  },
  {
   "cell_type": "code",
   "execution_count": 5,
   "metadata": {
    "id": "_7ils2bV7NUI"
   },
   "outputs": [],
   "source": [
    "event_type_strength = {\n",
    "   'VIEW': 1.0,\n",
    "   'LIKE': 2.0, \n",
    "   'BOOKMARK': 2.5, \n",
    "   'FOLLOW': 3.0,\n",
    "   'COMMENT CREATED': 4.0,  \n",
    "}"
   ]
  },
  {
   "cell_type": "markdown",
   "metadata": {
    "id": "XNQQ0ZiP7NUI"
   },
   "source": [
    "Посчитаем числовую величину \"оценки\" пользователем статьи с указанными выше весами."
   ]
  },
  {
   "cell_type": "code",
   "execution_count": 7,
   "metadata": {
    "colab": {
     "base_uri": "https://localhost:8080/"
    },
    "id": "Ze3VeqBt7NUI",
    "outputId": "9801f763-9ab1-43f6-9f67-6736c5a7d9e4"
   },
   "outputs": [],
   "source": [
    "interactions_df['eventStrength'] = interactions_df.eventType.apply(lambda x : event_type_strength[x])"
   ]
  },
  {
   "cell_type": "code",
   "execution_count": 8,
   "metadata": {},
   "outputs": [
    {
     "data": {
      "text/plain": [
       "0        1.0\n",
       "1        1.0\n",
       "2        1.0\n",
       "3        3.0\n",
       "4        1.0\n",
       "        ... \n",
       "72307    2.0\n",
       "72308    1.0\n",
       "72309    1.0\n",
       "72310    1.0\n",
       "72311    1.0\n",
       "Name: eventStrength, Length: 72312, dtype: float64"
      ]
     },
     "execution_count": 8,
     "metadata": {},
     "output_type": "execute_result"
    }
   ],
   "source": [
    "interactions_df['eventStrength']"
   ]
  },
  {
   "cell_type": "markdown",
   "metadata": {
    "id": "PCq8b_uW7NUI"
   },
   "source": [
    "Ремендательные системы подвержены проблеме холодного старта. Будем работать только с теми пользователями, которые взаимодействовали хотя бы с 5-ю материалами.\n",
    "\n",
    "Оставим только таких пользователей."
   ]
  },
  {
   "cell_type": "code",
   "execution_count": 17,
   "metadata": {
    "colab": {
     "base_uri": "https://localhost:8080/"
    },
    "id": "5Pl5RgXO7NUI",
    "outputId": "1d927313-f5ae-450f-b438-27b5b593a702"
   },
   "outputs": [
    {
     "name": "stdout",
     "output_type": "stream",
     "text": [
      "# users: 1895\n",
      "# users with at least 5 interactions: 1140\n"
     ]
    }
   ],
   "source": [
    "users_interactions_count_df = (\n",
    "    interactions_df\n",
    "    .groupby(['personId', 'contentId'])\n",
    "    .first()\n",
    "    .reset_index()\n",
    "    .groupby('personId').size())\n",
    "print('# users:', len(users_interactions_count_df))\n",
    "\n",
    "users_with_enough_interactions_df = \\\n",
    "    users_interactions_count_df[users_interactions_count_df >= 5].reset_index()[['personId']]\n",
    "print('# users with at least 5 interactions:',len(users_with_enough_interactions_df))"
   ]
  },
  {
   "cell_type": "code",
   "execution_count": 21,
   "metadata": {
    "colab": {
     "base_uri": "https://localhost:8080/",
     "height": 283
    },
    "id": "w-5mU7u57NUJ",
    "outputId": "1e62f8de-0280-43d8-da76-296ccc3cf44d"
   },
   "outputs": [
    {
     "data": {
      "text/plain": [
       "<AxesSubplot:>"
      ]
     },
     "execution_count": 21,
     "metadata": {},
     "output_type": "execute_result"
    },
    {
     "data": {
      "image/png": "[encoded data removed]",
      "text/plain": [
       "<Figure size 432x288 with 1 Axes>"
      ]
     },
     "metadata": {
      "needs_background": "light"
     },
     "output_type": "display_data"
    }
   ],
   "source": [
    "users_interactions_count_df.hist(bins=20)"
   ]
  },
  {
   "cell_type": "markdown",
   "metadata": {
    "id": "x3ZW29Im7NUJ"
   },
   "source": [
    "Оставим только те взаимодействия, которые касаются только отфильтрованных пользователей."
   ]
  },
  {
   "cell_type": "code",
   "execution_count": 22,
   "metadata": {
    "id": "mR2-emAt7NUJ"
   },
   "outputs": [],
   "source": [
    "interactions_from_selected_users_df = interactions_df.loc[np.in1d(interactions_df.personId,\n",
    "            users_with_enough_interactions_df)]"
   ]
  },
  {
   "cell_type": "code",
   "execution_count": 23,
   "metadata": {
    "colab": {
     "base_uri": "https://localhost:8080/"
    },
    "id": "uFOf9qgX7NUJ",
    "outputId": "047bf06e-684b-4207-de94-cd82f7e1731d"
   },
   "outputs": [
    {
     "name": "stdout",
     "output_type": "stream",
     "text": [
      "# interactions before: (72312, 9)\n",
      "# interactions after: (69868, 9)\n"
     ]
    }
   ],
   "source": [
    "print('# interactions before:', interactions_df.shape)\n",
    "print('# interactions after:', interactions_from_selected_users_df.shape)"
   ]
  },
  {
   "cell_type": "markdown",
   "metadata": {
    "id": "TutcpN9Y7NUJ"
   },
   "source": [
    "В данной постановке каждый пользователей мог взаимодействовать с каждой статьёй более 1 раза (как минимум совершая различные действия). Предлагается \"схлопнуть\" все действия в одно взаимодействие с весом, равным сумме весов. \n",
    "\n",
    "Однако полученное число будет в том числе тем больше, чем больше действий произвёл человек. Чтобы уменьшить разброс предлагается взять логарифм от полученного числа (можно придумывать другие веса действиям и по-другому обрабатывать значения).\n",
    "\n",
    "Также сохраним последнее значение времени взаимодействия для разделениея выборки на обучение и контроль."
   ]
  },
  {
   "cell_type": "code",
   "execution_count": 33,
   "metadata": {
    "colab": {
     "base_uri": "https://localhost:8080/",
     "height": 662
    },
    "id": "815M8D_C7NUK",
    "outputId": "a2698fd3-043a-4653-e532-69e20ad50fa6"
   },
   "outputs": [
    {
     "data": {
      "text/html": [
       "<div>\n",
       "<style scoped>\n",
       "    .dataframe tbody tr th:only-of-type {\n",
       "        vertical-align: middle;\n",
       "    }\n",
       "\n",
       "    .dataframe tbody tr th {\n",
       "        vertical-align: top;\n",
       "    }\n",
       "\n",
       "    .dataframe thead th {\n",
       "        text-align: right;\n",
       "    }\n",
       "</style>\n",
       "<table border=\"1\" class=\"dataframe\">\n",
       "  <thead>\n",
       "    <tr style=\"text-align: right;\">\n",
       "      <th></th>\n",
       "      <th>personId</th>\n",
       "      <th>contentId</th>\n",
       "      <th>eventStrength</th>\n",
       "      <th>last_timestamp</th>\n",
       "    </tr>\n",
       "  </thead>\n",
       "  <tbody>\n",
       "    <tr>\n",
       "      <th>0</th>\n",
       "      <td>-1007001694607905623</td>\n",
       "      <td>-5065077552540450930</td>\n",
       "      <td>1.000000</td>\n",
       "      <td>1470395911</td>\n",
       "    </tr>\n",
       "    <tr>\n",
       "      <th>1</th>\n",
       "      <td>-1007001694607905623</td>\n",
       "      <td>-6623581327558800021</td>\n",
       "      <td>1.000000</td>\n",
       "      <td>1487240080</td>\n",
       "    </tr>\n",
       "    <tr>\n",
       "      <th>2</th>\n",
       "      <td>-1007001694607905623</td>\n",
       "      <td>-793729620925729327</td>\n",
       "      <td>1.000000</td>\n",
       "      <td>1472834892</td>\n",
       "    </tr>\n",
       "    <tr>\n",
       "      <th>3</th>\n",
       "      <td>-1007001694607905623</td>\n",
       "      <td>1469580151036142903</td>\n",
       "      <td>1.000000</td>\n",
       "      <td>1487240062</td>\n",
       "    </tr>\n",
       "    <tr>\n",
       "      <th>4</th>\n",
       "      <td>-1007001694607905623</td>\n",
       "      <td>7270966256391553686</td>\n",
       "      <td>1.584963</td>\n",
       "      <td>1485994324</td>\n",
       "    </tr>\n",
       "    <tr>\n",
       "      <th>5</th>\n",
       "      <td>-1007001694607905623</td>\n",
       "      <td>8729086959762650511</td>\n",
       "      <td>1.000000</td>\n",
       "      <td>1487240086</td>\n",
       "    </tr>\n",
       "    <tr>\n",
       "      <th>6</th>\n",
       "      <td>-1032019229384696495</td>\n",
       "      <td>-1006791494035379303</td>\n",
       "      <td>1.000000</td>\n",
       "      <td>1469129122</td>\n",
       "    </tr>\n",
       "    <tr>\n",
       "      <th>7</th>\n",
       "      <td>-1032019229384696495</td>\n",
       "      <td>-1039912738963181810</td>\n",
       "      <td>1.000000</td>\n",
       "      <td>1459376415</td>\n",
       "    </tr>\n",
       "    <tr>\n",
       "      <th>8</th>\n",
       "      <td>-1032019229384696495</td>\n",
       "      <td>-1081723567492738167</td>\n",
       "      <td>2.000000</td>\n",
       "      <td>1464054093</td>\n",
       "    </tr>\n",
       "    <tr>\n",
       "      <th>9</th>\n",
       "      <td>-1032019229384696495</td>\n",
       "      <td>-1111518890369033396</td>\n",
       "      <td>1.000000</td>\n",
       "      <td>1470109122</td>\n",
       "    </tr>\n",
       "    <tr>\n",
       "      <th>10</th>\n",
       "      <td>-1032019229384696495</td>\n",
       "      <td>-1114438937697017987</td>\n",
       "      <td>3.584963</td>\n",
       "      <td>1463954865</td>\n",
       "    </tr>\n",
       "    <tr>\n",
       "      <th>11</th>\n",
       "      <td>-1032019229384696495</td>\n",
       "      <td>-1137602700803601559</td>\n",
       "      <td>2.700440</td>\n",
       "      <td>1472077982</td>\n",
       "    </tr>\n",
       "    <tr>\n",
       "      <th>12</th>\n",
       "      <td>-1032019229384696495</td>\n",
       "      <td>-1151034582628982912</td>\n",
       "      <td>2.000000</td>\n",
       "      <td>1463259775</td>\n",
       "    </tr>\n",
       "    <tr>\n",
       "      <th>13</th>\n",
       "      <td>-1032019229384696495</td>\n",
       "      <td>-1249582672736761858</td>\n",
       "      <td>1.000000</td>\n",
       "      <td>1472566466</td>\n",
       "    </tr>\n",
       "    <tr>\n",
       "      <th>14</th>\n",
       "      <td>-1032019229384696495</td>\n",
       "      <td>-1254906787526072320</td>\n",
       "      <td>2.321928</td>\n",
       "      <td>1464885644</td>\n",
       "    </tr>\n",
       "    <tr>\n",
       "      <th>15</th>\n",
       "      <td>-1032019229384696495</td>\n",
       "      <td>-1313614305945895108</td>\n",
       "      <td>2.584963</td>\n",
       "      <td>1462025352</td>\n",
       "    </tr>\n",
       "    <tr>\n",
       "      <th>16</th>\n",
       "      <td>-1032019229384696495</td>\n",
       "      <td>-1415040208471067980</td>\n",
       "      <td>2.700440</td>\n",
       "      <td>1482413824</td>\n",
       "    </tr>\n",
       "    <tr>\n",
       "      <th>17</th>\n",
       "      <td>-1032019229384696495</td>\n",
       "      <td>-1453783314552286835</td>\n",
       "      <td>5.247928</td>\n",
       "      <td>1464202274</td>\n",
       "    </tr>\n",
       "    <tr>\n",
       "      <th>18</th>\n",
       "      <td>-1032019229384696495</td>\n",
       "      <td>-1470592927114056630</td>\n",
       "      <td>1.000000</td>\n",
       "      <td>1460149910</td>\n",
       "    </tr>\n",
       "    <tr>\n",
       "      <th>19</th>\n",
       "      <td>-1032019229384696495</td>\n",
       "      <td>-1556169727291354289</td>\n",
       "      <td>3.807355</td>\n",
       "      <td>1466029013</td>\n",
       "    </tr>\n",
       "  </tbody>\n",
       "</table>\n",
       "</div>"
      ],
      "text/plain": [
       "                personId             contentId  eventStrength  last_timestamp\n",
       "0   -1007001694607905623  -5065077552540450930       1.000000      1470395911\n",
       "1   -1007001694607905623  -6623581327558800021       1.000000      1487240080\n",
       "2   -1007001694607905623   -793729620925729327       1.000000      1472834892\n",
       "3   -1007001694607905623   1469580151036142903       1.000000      1487240062\n",
       "4   -1007001694607905623   7270966256391553686       1.584963      1485994324\n",
       "5   -1007001694607905623   8729086959762650511       1.000000      1487240086\n",
       "6   -1032019229384696495  -1006791494035379303       1.000000      1469129122\n",
       "7   -1032019229384696495  -1039912738963181810       1.000000      1459376415\n",
       "8   -1032019229384696495  -1081723567492738167       2.000000      1464054093\n",
       "9   -1032019229384696495  -1111518890369033396       1.000000      1470109122\n",
       "10  -1032019229384696495  -1114438937697017987       3.584963      1463954865\n",
       "11  -1032019229384696495  -1137602700803601559       2.700440      1472077982\n",
       "12  -1032019229384696495  -1151034582628982912       2.000000      1463259775\n",
       "13  -1032019229384696495  -1249582672736761858       1.000000      1472566466\n",
       "14  -1032019229384696495  -1254906787526072320       2.321928      1464885644\n",
       "15  -1032019229384696495  -1313614305945895108       2.584963      1462025352\n",
       "16  -1032019229384696495  -1415040208471067980       2.700440      1482413824\n",
       "17  -1032019229384696495  -1453783314552286835       5.247928      1464202274\n",
       "18  -1032019229384696495  -1470592927114056630       1.000000      1460149910\n",
       "19  -1032019229384696495  -1556169727291354289       3.807355      1466029013"
      ]
     },
     "execution_count": 33,
     "metadata": {},
     "output_type": "execute_result"
    }
   ],
   "source": [
    "def smooth_user_preference(x):\n",
    "    return math.log(1+x, 2)\n",
    "    \n",
    "interactions_full_df = (\n",
    "    interactions_from_selected_users_df\n",
    "    .groupby(['personId', 'contentId']).eventStrength.sum()\n",
    "    .apply(smooth_user_preference)\n",
    "    .reset_index().set_index(['personId', 'contentId'])\n",
    ")\n",
    "interactions_full_df['last_timestamp'] = (\n",
    "    interactions_from_selected_users_df\n",
    "    .groupby(['personId', 'contentId'])['timestamp'].last()\n",
    ")\n",
    "        \n",
    "interactions_full_df = interactions_full_df.reset_index()\n",
    "interactions_full_df.head(20)"
   ]
  },
  {
   "cell_type": "markdown",
   "metadata": {
    "id": "MxI6btUS7NUK"
   },
   "source": [
    "Разобьём выборку на обучение и контроль по времени."
   ]
  },
  {
   "cell_type": "code",
   "execution_count": 34,
   "metadata": {
    "colab": {
     "base_uri": "https://localhost:8080/",
     "height": 450
    },
    "id": "bXiUzchy7NUK",
    "outputId": "681f40d3-b8a0-4c9c-b183-f94de02a7e3a"
   },
   "outputs": [
    {
     "name": "stdout",
     "output_type": "stream",
     "text": [
      "# interactions on Train set: 29329\n",
      "# interactions on Test set: 9777\n"
     ]
    },
    {
     "data": {
      "text/html": [
       "<div>\n",
       "<style scoped>\n",
       "    .dataframe tbody tr th:only-of-type {\n",
       "        vertical-align: middle;\n",
       "    }\n",
       "\n",
       "    .dataframe tbody tr th {\n",
       "        vertical-align: top;\n",
       "    }\n",
       "\n",
       "    .dataframe thead th {\n",
       "        text-align: right;\n",
       "    }\n",
       "</style>\n",
       "<table border=\"1\" class=\"dataframe\">\n",
       "  <thead>\n",
       "    <tr style=\"text-align: right;\">\n",
       "      <th></th>\n",
       "      <th>personId</th>\n",
       "      <th>contentId</th>\n",
       "      <th>eventStrength</th>\n",
       "      <th>last_timestamp</th>\n",
       "    </tr>\n",
       "  </thead>\n",
       "  <tbody>\n",
       "    <tr>\n",
       "      <th>0</th>\n",
       "      <td>-1007001694607905623</td>\n",
       "      <td>-5065077552540450930</td>\n",
       "      <td>1.0</td>\n",
       "      <td>1470395911</td>\n",
       "    </tr>\n",
       "    <tr>\n",
       "      <th>2</th>\n",
       "      <td>-1007001694607905623</td>\n",
       "      <td>-793729620925729327</td>\n",
       "      <td>1.0</td>\n",
       "      <td>1472834892</td>\n",
       "    </tr>\n",
       "    <tr>\n",
       "      <th>6</th>\n",
       "      <td>-1032019229384696495</td>\n",
       "      <td>-1006791494035379303</td>\n",
       "      <td>1.0</td>\n",
       "      <td>1469129122</td>\n",
       "    </tr>\n",
       "    <tr>\n",
       "      <th>7</th>\n",
       "      <td>-1032019229384696495</td>\n",
       "      <td>-1039912738963181810</td>\n",
       "      <td>1.0</td>\n",
       "      <td>1459376415</td>\n",
       "    </tr>\n",
       "    <tr>\n",
       "      <th>8</th>\n",
       "      <td>-1032019229384696495</td>\n",
       "      <td>-1081723567492738167</td>\n",
       "      <td>2.0</td>\n",
       "      <td>1464054093</td>\n",
       "    </tr>\n",
       "    <tr>\n",
       "      <th>...</th>\n",
       "      <td>...</td>\n",
       "      <td>...</td>\n",
       "      <td>...</td>\n",
       "      <td>...</td>\n",
       "    </tr>\n",
       "    <tr>\n",
       "      <th>39099</th>\n",
       "      <td>997469202936578234</td>\n",
       "      <td>9112765177685685246</td>\n",
       "      <td>2.0</td>\n",
       "      <td>1472479493</td>\n",
       "    </tr>\n",
       "    <tr>\n",
       "      <th>39100</th>\n",
       "      <td>998688566268269815</td>\n",
       "      <td>-1255189867397298842</td>\n",
       "      <td>1.0</td>\n",
       "      <td>1474567164</td>\n",
       "    </tr>\n",
       "    <tr>\n",
       "      <th>39101</th>\n",
       "      <td>998688566268269815</td>\n",
       "      <td>-401664538366009049</td>\n",
       "      <td>1.0</td>\n",
       "      <td>1474567449</td>\n",
       "    </tr>\n",
       "    <tr>\n",
       "      <th>39103</th>\n",
       "      <td>998688566268269815</td>\n",
       "      <td>6881796783400625893</td>\n",
       "      <td>1.0</td>\n",
       "      <td>1474567675</td>\n",
       "    </tr>\n",
       "    <tr>\n",
       "      <th>39105</th>\n",
       "      <td>998688566268269815</td>\n",
       "      <td>739747367187387064</td>\n",
       "      <td>1.0</td>\n",
       "      <td>1474567514</td>\n",
       "    </tr>\n",
       "  </tbody>\n",
       "</table>\n",
       "<p>29329 rows × 4 columns</p>\n",
       "</div>"
      ],
      "text/plain": [
       "                   personId             contentId  eventStrength  \\\n",
       "0      -1007001694607905623  -5065077552540450930            1.0   \n",
       "2      -1007001694607905623   -793729620925729327            1.0   \n",
       "6      -1032019229384696495  -1006791494035379303            1.0   \n",
       "7      -1032019229384696495  -1039912738963181810            1.0   \n",
       "8      -1032019229384696495  -1081723567492738167            2.0   \n",
       "...                     ...                   ...            ...   \n",
       "39099    997469202936578234   9112765177685685246            2.0   \n",
       "39100    998688566268269815  -1255189867397298842            1.0   \n",
       "39101    998688566268269815   -401664538366009049            1.0   \n",
       "39103    998688566268269815   6881796783400625893            1.0   \n",
       "39105    998688566268269815    739747367187387064            1.0   \n",
       "\n",
       "       last_timestamp  \n",
       "0          1470395911  \n",
       "2          1472834892  \n",
       "6          1469129122  \n",
       "7          1459376415  \n",
       "8          1464054093  \n",
       "...               ...  \n",
       "39099      1472479493  \n",
       "39100      1474567164  \n",
       "39101      1474567449  \n",
       "39103      1474567675  \n",
       "39105      1474567514  \n",
       "\n",
       "[29329 rows x 4 columns]"
      ]
     },
     "execution_count": 34,
     "metadata": {},
     "output_type": "execute_result"
    }
   ],
   "source": [
    "from sklearn.model_selection import train_test_split\n",
    "\n",
    "split_ts = 1475519530\n",
    "interactions_train_df = interactions_full_df.loc[interactions_full_df.last_timestamp < split_ts].copy()\n",
    "interactions_test_df = interactions_full_df.loc[interactions_full_df.last_timestamp >= split_ts].copy()\n",
    "\n",
    "print('# interactions on Train set: %d' % len(interactions_train_df))\n",
    "print('# interactions on Test set: %d' % len(interactions_test_df))\n",
    "\n",
    "interactions_train_df"
   ]
  },
  {
   "cell_type": "markdown",
   "metadata": {
    "id": "aiGTY4Q77NUK"
   },
   "source": [
    "Также разбить данные можно не опираясь на временной фактор:\n",
    "```python\n",
    "interactions_train_df, interactions_test_df = train_test_split(interactions_full_df,\n",
    "                                   stratify=interactions_full_df['personId'], \n",
    "                                   test_size=0.25,\n",
    "                                   random_state=42)\n",
    "\n",
    "```\n",
    "Как повлият такое разбиение на итоговый результат?"
   ]
  },
  {
   "cell_type": "markdown",
   "metadata": {
    "id": "h1Z2axYX7NUK"
   },
   "source": [
    "Для удобства подсчёта качества запишем данные в формате, где строка соответствует пользователю, а столбцы будут истинными метками и предсказаниями в виде списков."
   ]
  },
  {
   "cell_type": "code",
   "execution_count": 35,
   "metadata": {
    "colab": {
     "base_uri": "https://localhost:8080/",
     "height": 110
    },
    "id": "InUCtDB17NUL",
    "outputId": "d4cd0df8-0a63-4edf-a0f7-7b8f980a8e65"
   },
   "outputs": [
    {
     "data": {
      "text/html": [
       "<div>\n",
       "<style scoped>\n",
       "    .dataframe tbody tr th:only-of-type {\n",
       "        vertical-align: middle;\n",
       "    }\n",
       "\n",
       "    .dataframe tbody tr th {\n",
       "        vertical-align: top;\n",
       "    }\n",
       "\n",
       "    .dataframe thead th {\n",
       "        text-align: right;\n",
       "    }\n",
       "</style>\n",
       "<table border=\"1\" class=\"dataframe\">\n",
       "  <thead>\n",
       "    <tr style=\"text-align: right;\">\n",
       "      <th></th>\n",
       "      <th>true_train</th>\n",
       "      <th>true_test</th>\n",
       "    </tr>\n",
       "    <tr>\n",
       "      <th>personId</th>\n",
       "      <th></th>\n",
       "      <th></th>\n",
       "    </tr>\n",
       "  </thead>\n",
       "  <tbody>\n",
       "    <tr>\n",
       "      <th>-1007001694607905623</th>\n",
       "      <td>[-5065077552540450930, -793729620925729327]</td>\n",
       "      <td>[-6623581327558800021, 1469580151036142903, 72...</td>\n",
       "    </tr>\n",
       "  </tbody>\n",
       "</table>\n",
       "</div>"
      ],
      "text/plain": [
       "                                                       true_train  \\\n",
       "personId                                                            \n",
       "-1007001694607905623  [-5065077552540450930, -793729620925729327]   \n",
       "\n",
       "                                                              true_test  \n",
       "personId                                                                 \n",
       "-1007001694607905623  [-6623581327558800021, 1469580151036142903, 72...  "
      ]
     },
     "execution_count": 35,
     "metadata": {},
     "output_type": "execute_result"
    }
   ],
   "source": [
    "interactions = (\n",
    "    interactions_train_df\n",
    "    .groupby('personId')['contentId'].agg(lambda x: list(x))\n",
    "    .reset_index()\n",
    "    .rename(columns={'contentId': 'true_train'})\n",
    "    .set_index('personId')\n",
    ")\n",
    "\n",
    "interactions['true_test'] = (\n",
    "    interactions_test_df\n",
    "    .groupby('personId')['contentId'].agg(lambda x: list(x))\n",
    ")\n",
    "\n",
    "# заполнение пропусков пустыми списками\n",
    "interactions.loc[pd.isnull(interactions.true_test), 'true_test'] = [\n",
    "    list() for x in range(len(interactions.loc[pd.isnull(interactions.true_test), 'true_test']))]\n",
    "\n",
    "interactions.head(1)"
   ]
  },
  {
   "cell_type": "markdown",
   "metadata": {
    "id": "J72sxcSc7NUL"
   },
   "source": [
    "## Часть 1: Baseline (модель по популярности)"
   ]
  },
  {
   "cell_type": "markdown",
   "metadata": {
    "id": "J4ZlOCua7NUM"
   },
   "source": [
    "Самой простой моделью рекомендаций (при этом достаточно сильной!) является модель, которая рекомендует наиболее популярные предметы. \n",
    "\n",
    "Реализуем её. Давайте считать, что рекомендуем мы по 10 материалов (такое ограничение на размер блока на сайте).\n",
    "\n",
    "Посчитаем популярность каждой статьи, как сумму всех \"оценок\" взаимодействий с ней. Отсортируем материалы по их популярности."
   ]
  },
  {
   "cell_type": "code",
   "execution_count": 46,
   "metadata": {
    "id": "6yaE1pGh7NUM"
   },
   "outputs": [],
   "source": [
    "popular_content = (\n",
    "    interactions_train_df\n",
    "    # your code here\n",
    ")"
   ]
  },
  {
   "cell_type": "code",
   "execution_count": 47,
   "metadata": {},
   "outputs": [
    {
     "data": {
      "text/html": [
       "<div>\n",
       "<style scoped>\n",
       "    .dataframe tbody tr th:only-of-type {\n",
       "        vertical-align: middle;\n",
       "    }\n",
       "\n",
       "    .dataframe tbody tr th {\n",
       "        vertical-align: top;\n",
       "    }\n",
       "\n",
       "    .dataframe thead th {\n",
       "        text-align: right;\n",
       "    }\n",
       "</style>\n",
       "<table border=\"1\" class=\"dataframe\">\n",
       "  <thead>\n",
       "    <tr style=\"text-align: right;\">\n",
       "      <th></th>\n",
       "      <th>contentId</th>\n",
       "      <th>eventStrength</th>\n",
       "    </tr>\n",
       "  </thead>\n",
       "  <tbody>\n",
       "    <tr>\n",
       "      <th>805</th>\n",
       "      <td>-6783772548752091658</td>\n",
       "      <td>231.177195</td>\n",
       "    </tr>\n",
       "    <tr>\n",
       "      <th>43</th>\n",
       "      <td>-133139342397538859</td>\n",
       "      <td>228.024567</td>\n",
       "    </tr>\n",
       "    <tr>\n",
       "      <th>1002</th>\n",
       "      <td>-8208801367848627943</td>\n",
       "      <td>189.937683</td>\n",
       "    </tr>\n",
       "    <tr>\n",
       "      <th>2211</th>\n",
       "      <td>8224860111193157980</td>\n",
       "      <td>186.044680</td>\n",
       "    </tr>\n",
       "    <tr>\n",
       "      <th>2111</th>\n",
       "      <td>7507067965574797372</td>\n",
       "      <td>179.094002</td>\n",
       "    </tr>\n",
       "    <tr>\n",
       "      <th>...</th>\n",
       "      <td>...</td>\n",
       "      <td>...</td>\n",
       "    </tr>\n",
       "    <tr>\n",
       "      <th>1982</th>\n",
       "      <td>6569723785655740276</td>\n",
       "      <td>1.000000</td>\n",
       "    </tr>\n",
       "    <tr>\n",
       "      <th>1368</th>\n",
       "      <td>2335028422423709400</td>\n",
       "      <td>1.000000</td>\n",
       "    </tr>\n",
       "    <tr>\n",
       "      <th>1942</th>\n",
       "      <td>6240076106289531207</td>\n",
       "      <td>1.000000</td>\n",
       "    </tr>\n",
       "    <tr>\n",
       "      <th>1980</th>\n",
       "      <td>6541551984368289722</td>\n",
       "      <td>1.000000</td>\n",
       "    </tr>\n",
       "    <tr>\n",
       "      <th>2048</th>\n",
       "      <td>7083316110921342538</td>\n",
       "      <td>1.000000</td>\n",
       "    </tr>\n",
       "  </tbody>\n",
       "</table>\n",
       "<p>2366 rows × 2 columns</p>\n",
       "</div>"
      ],
      "text/plain": [
       "                 contentId  eventStrength\n",
       "805   -6783772548752091658     231.177195\n",
       "43     -133139342397538859     228.024567\n",
       "1002  -8208801367848627943     189.937683\n",
       "2211   8224860111193157980     186.044680\n",
       "2111   7507067965574797372     179.094002\n",
       "...                    ...            ...\n",
       "1982   6569723785655740276       1.000000\n",
       "1368   2335028422423709400       1.000000\n",
       "1942   6240076106289531207       1.000000\n",
       "1980   6541551984368289722       1.000000\n",
       "2048   7083316110921342538       1.000000\n",
       "\n",
       "[2366 rows x 2 columns]"
      ]
     },
     "execution_count": 47,
     "metadata": {},
     "output_type": "execute_result"
    }
   ],
   "source": [
    "interactions_train_df.groupby('contentId').eventStrength.sum().reset_index().sort_values('eventStrength', ascending=False)"
   ]
  },
  {
   "cell_type": "code",
   "execution_count": 52,
   "metadata": {
    "colab": {
     "base_uri": "https://localhost:8080/"
    },
    "id": "DhKLmkaE7NUM",
    "outputId": "589cf0c3-5d04-40a6-884d-fe0268da3d6a"
   },
   "outputs": [
    {
     "name": "stdout",
     "output_type": "stream",
     "text": [
      "[\"Ray Kurzweil: The world isn't getting worse - our information is getting better\"]\n"
     ]
    }
   ],
   "source": [
    "print(articles_df.loc[articles_df.contentId == popular_content[2]]['title'].values)"
   ]
  },
  {
   "cell_type": "code",
   "execution_count": 49,
   "metadata": {
    "colab": {
     "base_uri": "https://localhost:8080/"
    },
    "id": "OsP9Qvv07NUM",
    "outputId": "7fbc077c-9afc-44ac-b7fd-df013a2c738e"
   },
   "outputs": [
    {
     "name": "stdout",
     "output_type": "stream",
     "text": [
      "['Sunset Blvd. (1950)']\n"
     ]
    }
   ],
   "source": [
    "print(articles_df.loc[articles_df.contentId == popular_content[2363]]['title'].values)"
   ]
  },
  {
   "cell_type": "markdown",
   "metadata": {
    "id": "ecBQ_knc7NUM"
   },
   "source": [
    "Теперь необходимо сделать предсказания для каждого пользователя. Не забываем, что надо рекомендовать то, что пользователь ещё не читал (для этого нужно проверить, что материал не встречался в true_train)."
   ]
  },
  {
   "cell_type": "code",
   "execution_count": 53,
   "metadata": {
    "colab": {
     "base_uri": "https://localhost:8080/"
    },
    "id": "wNwZ4i4c7NUM",
    "outputId": "0ac153a3-fd20-4020-fe09-cf90cbfca80d"
   },
   "outputs": [
    {
     "data": {
      "text/plain": [
       "array(['-6783772548752091658', '-133139342397538859',\n",
       "       '-8208801367848627943', '8224860111193157980',\n",
       "       '7507067965574797372', '-2358756719610361882',\n",
       "       '-6843047699859121724', '-1297580205670251233',\n",
       "       '8657408509986329668', '3367026768872537336'], dtype=object)"
      ]
     },
     "execution_count": 53,
     "metadata": {},
     "output_type": "execute_result"
    }
   ],
   "source": [
    "top_k = 10\n",
    "\n",
    "interactions['prediction_popular'] = (\n",
    "    interactions.true_train\n",
    "    .apply(\n",
    "        lambda x:\n",
    "        popular_content[~np.in1d(popular_content, x)][:top_k]\n",
    "    )\n",
    ")\n",
    "\n",
    "interactions['prediction_popular'][0]"
   ]
  },
  {
   "cell_type": "markdown",
   "metadata": {
    "id": "6MWC2ctS7NUN"
   },
   "source": [
    "Настало время оценить качество. Посчитаем precision@10 для каждого пользователя (доля угаданных рекомендаций). Усредним по всем пользователям. Везде далее будем считать эту же метрику."
   ]
  },
  {
   "cell_type": "code",
   "execution_count": 54,
   "metadata": {
    "id": "VV6hIjxF7NUN"
   },
   "outputs": [],
   "source": [
    "def calc_precision(column):\n",
    "\n",
    "    return (\n",
    "        interactions\n",
    "        .apply(\n",
    "            lambda row:\n",
    "            len(set(row['true_test']).intersection(\n",
    "                set(row[column]))) /\n",
    "            min(len(row['true_test']) + 0.001, 10.0),\n",
    "            axis=1)).mean()"
   ]
  },
  {
   "cell_type": "code",
   "execution_count": 55,
   "metadata": {
    "colab": {
     "base_uri": "https://localhost:8080/"
    },
    "id": "pKmSSmZN7NUN",
    "outputId": "186ab358-86dd-4795-9017-3c579fd8bc84"
   },
   "outputs": [
    {
     "data": {
      "text/plain": [
       "0.006454207722621084"
      ]
     },
     "execution_count": 55,
     "metadata": {},
     "output_type": "execute_result"
    }
   ],
   "source": [
    "calc_precision('prediction_popular')"
   ]
  },
  {
   "cell_type": "markdown",
   "metadata": {
    "id": "fO4DZi6g7NUN"
   },
   "source": [
    "## Часть 2. Коллаборативная фильтрация."
   ]
  },
  {
   "cell_type": "markdown",
   "metadata": {
    "id": "fHu7xtX97NUO"
   },
   "source": [
    "Перейдём к более сложному механизму рекомендаций, а именно коллаборативной фильтрации. Суть коллаборативной фильтрации в том, что учитывается схожесть пользователей и товаров между собой, а не факторы, которые их описывают. \n",
    "\n",
    "Для начала для удобства составим матрицу \"оценок\" пользователей. Нули будут обозначать отсутствие взаимодействия."
   ]
  },
  {
   "cell_type": "code",
   "execution_count": 56,
   "metadata": {
    "id": "QG7azMEM7NUO"
   },
   "outputs": [],
   "source": [
    "ratings = pd.pivot_table(\n",
    "    interactions_train_df,\n",
    "    values='eventStrength',\n",
    "    index='personId',\n",
    "    columns='contentId').fillna(0)"
   ]
  },
  {
   "cell_type": "code",
   "execution_count": 58,
   "metadata": {},
   "outputs": [
    {
     "data": {
      "text/plain": [
       "(1112, 2366)"
      ]
     },
     "execution_count": 58,
     "metadata": {},
     "output_type": "execute_result"
    }
   ],
   "source": [
    "ratings.shape"
   ]
  },
  {
   "cell_type": "markdown",
   "metadata": {
    "id": "bqdQD19J7NUO"
   },
   "source": [
    "### Memory-based"
   ]
  },
  {
   "cell_type": "markdown",
   "metadata": {
    "id": "WZiWouN47NUO"
   },
   "source": [
    "Посчитаем схожести пользователей с помощью корреляции Пирсона. Для каждой пары учитываем только ненулевые значения.\n",
    "\n",
    "Для скорости работы лучше переходить от pandas к numpy."
   ]
  },
  {
   "cell_type": "code",
   "execution_count": 59,
   "metadata": {
    "id": "aG8Pi_qR7NUO"
   },
   "outputs": [],
   "source": [
    "ratings_m = ratings.values"
   ]
  },
  {
   "cell_type": "code",
   "execution_count": 61,
   "metadata": {
    "colab": {
     "base_uri": "https://localhost:8080/",
     "height": 119,
     "referenced_widgets": [
      "249d8ff532de485fa02ca698bc81a1f8",
      "7ec9172d32874f68ba5e515a14199f58",
      "4b10f576f8c549928a758a3d665ac269",
      "798bd8df051b48a298318402337bfe4b",
      "e9e1069a0c384ffb82518203e9217f41",
      "e454b120947540ce81ccf4171a6fe603",
      "ccc2ef80f9b04385a733b7a76151b449",
      "26376adcdb944b3daeca408c00d14055"
     ]
    },
    "id": "lZanlVow7NUP",
    "outputId": "ed01b7df-4fc5-4bf3-de54-15d4d670fb83"
   },
   "outputs": [
    {
     "name": "stderr",
     "output_type": "stream",
     "text": [
      "<ipython-input-61-8568cc2fb5d9>:3: TqdmDeprecationWarning: This function will be removed in tqdm==5.0.0\n",
      "Please use `tqdm.notebook.tqdm` instead of `tqdm.tqdm_notebook`\n",
      "  for i in tqdm_notebook(range(len(ratings_m)-1)):\n"
     ]
    },
    {
     "data": {
      "application/vnd.jupyter.widget-view+json": {
       "model_id": "cf268d8786f54860b93fde0e3c27f436",
       "version_major": 2,
       "version_minor": 0
      },
      "text/plain": [
       "HBox(children=(HTML(value=''), FloatProgress(value=0.0, max=1111.0), HTML(value='')))"
      ]
     },
     "metadata": {},
     "output_type": "display_data"
    },
    {
     "name": "stdout",
     "output_type": "stream",
     "text": [
      "\n"
     ]
    }
   ],
   "source": [
    "similarity_users = np.zeros((len(ratings_m), len(ratings_m)))\n",
    "\n",
    "for i in tqdm_notebook(range(len(ratings_m)-1)):\n",
    "    for j in range(i+1, len(ratings_m)):\n",
    "        \n",
    "        # nonzero elements of two users\n",
    "        mask_uv = (ratings_m[i] != 0) & (ratings_m[j] != 0)\n",
    "        \n",
    "        # continue if no intersection\n",
    "        if np.sum(mask_uv) == 0:\n",
    "            continue\n",
    "            \n",
    "        # get nonzero elements\n",
    "        ratings_v = ratings_m[i, mask_uv]\n",
    "        ratings_u = ratings_m[j, mask_uv]\n",
    "        \n",
    "        # for nonzero std\n",
    "        if len(np.unique(ratings_v)) < 2 or len(np.unique(ratings_u)) < 2:\n",
    "            continue\n",
    "\n",
    "        \n",
    "        similarity_users[i,j] = # your code here, np.corrcoef may be helpful\n",
    "        similarity_users[j,i] = similarity_users[i,j]"
   ]
  },
  {
   "cell_type": "markdown",
   "metadata": {
    "id": "FanD_G5p7NUP"
   },
   "source": [
    "Теперь у нас есть матрицы схожести пользователей. Их можно использовать для рекомендаций.\n",
    "\n",
    "Для каждого пользователя:\n",
    "\n",
    "1. Найдём пользователей с похожестью больше $\\alpha$ на нашего пользователя.\n",
    "2. Посчитаем для каждой статьи долю пользователей (среди выделенных на первом шаге), которые взаимодействовали со статьёй.\n",
    "3. Порекомендуем статьи с наибольшими долями со второго шага (среди тех, которые пользователь ещё не видел).\n",
    "\n",
    "В нашем примере данных не очень много, поэтому возьмём $\\alpha = 0$.\n",
    "\n",
    "После того, как будут сделаны предсказания (новый столбец в interactions), посчитаем качество по той же метрике."
   ]
  },
  {
   "cell_type": "code",
   "execution_count": 75,
   "metadata": {},
   "outputs": [
    {
     "data": {
      "text/plain": [
       "(1112, 1112)"
      ]
     },
     "execution_count": 75,
     "metadata": {},
     "output_type": "execute_result"
    }
   ],
   "source": [
    "similarity_users.shape"
   ]
  },
  {
   "cell_type": "code",
   "execution_count": 72,
   "metadata": {
    "colab": {
     "base_uri": "https://localhost:8080/",
     "height": 173,
     "referenced_widgets": [
      "9b14cbbf06a1411580a995bc008a0a18",
      "e6c96c91db5d44f097e0b94693021837",
      "f060e9c96355446790a3d15fc24e8d6c",
      "4d23fcf9519448d1b63e179f658286db",
      "ed4b4af1b0094d14ab8dd4bab0ac4600",
      "a0e901d3ad134af9b0e1867ecd9659a9",
      "ab5c912745664a819494449027f8ede1",
      "5c96f7891bae48f99fe8d6953661cf88"
     ]
    },
    "id": "V1q95s9a7NUP",
    "outputId": "e28ccc50-86db-4963-f06b-e2e8cddc9f30"
   },
   "outputs": [
    {
     "name": "stderr",
     "output_type": "stream",
     "text": [
      "<ipython-input-72-27f095e833e5>:3: TqdmDeprecationWarning: This function will be removed in tqdm==5.0.0\n",
      "Please use `tqdm.notebook.tqdm` instead of `tqdm.tqdm_notebook`\n",
      "  for i in tqdm_notebook(range(len(similarity_users))):\n"
     ]
    },
    {
     "data": {
      "application/vnd.jupyter.widget-view+json": {
       "model_id": "b92b68a52402479b844860a8157ec1bb",
       "version_major": 2,
       "version_minor": 0
      },
      "text/plain": [
       "HBox(children=(HTML(value=''), FloatProgress(value=0.0, max=1112.0), HTML(value='')))"
      ]
     },
     "metadata": {},
     "output_type": "display_data"
    },
    {
     "name": "stderr",
     "output_type": "stream",
     "text": [
      "/Users/dchesakov/opt/anaconda3/lib/python3.8/site-packages/numpy/lib/arraysetops.py:580: FutureWarning: elementwise comparison failed; returning scalar instead, but in the future will perform elementwise comparison\n",
      "  mask |= (ar1 == a)\n"
     ]
    },
    {
     "name": "stdout",
     "output_type": "stream",
     "text": [
      "\n"
     ]
    }
   ],
   "source": [
    "prediction_user_based = []\n",
    "\n",
    "for i in tqdm_notebook(range(len(similarity_users))):\n",
    "    users_sim = similarity_users[i] > 0\n",
    "    if len(users_sim) == 0:\n",
    "        prediction_user_based.append([])\n",
    "    else:\n",
    "        tmp_recommend = np.argsort(ratings_m[users_sim].sum(axis=0))[::-1]\n",
    "        tmp_recommend = ratings.columns[tmp_recommend]\n",
    "        recommend = np.array(tmp_recommend)[~np.in1d(tmp_recommend, interactions.iloc[i])][:10]\n",
    "        prediction_user_based.append(list(recommend))\n",
    "\n",
    "interactions['prediction_user_based'] = prediction_user_based"
   ]
  },
  {
   "cell_type": "code",
   "execution_count": 73,
   "metadata": {
    "colab": {
     "base_uri": "https://localhost:8080/"
    },
    "id": "bGCsKsdH7NUP",
    "outputId": "3e1585d5-8c7a-4dc3-b54e-0f35aff5362a"
   },
   "outputs": [
    {
     "data": {
      "text/plain": [
       "0.003541692918885617"
      ]
     },
     "execution_count": 73,
     "metadata": {},
     "output_type": "execute_result"
    }
   ],
   "source": [
    "calc_precision('prediction_user_based')"
   ]
  },
  {
   "cell_type": "markdown",
   "metadata": {
    "id": "44S6wHKw7NUP"
   },
   "source": [
    "### Модель со скрытыми переменными"
   ]
  },
  {
   "cell_type": "markdown",
   "metadata": {
    "id": "NLxQug7T7NUP"
   },
   "source": [
    "Реализуем подход с разложением матрицы оценок. Для этого сделаем сингулярное разложение (svd в scipy.linalg), на выходе вы получите три матрицы.\n",
    "\n",
    "Заметим, что мы используем матрицу с нулями, будто отсутствующие взаимодействия негативные, что странно.\n",
    "\n",
    "Если бы мы учили модель со скрытыми переменными с помощью стохастического градиентного спуска, то неизвестные взаимодействия могли бы не использовать."
   ]
  },
  {
   "cell_type": "code",
   "execution_count": 76,
   "metadata": {
    "id": "Wt0wdgF67NUQ"
   },
   "outputs": [],
   "source": [
    "from scipy.linalg import svd"
   ]
  },
  {
   "cell_type": "code",
   "execution_count": 78,
   "metadata": {
    "colab": {
     "base_uri": "https://localhost:8080/"
    },
    "id": "Nrc4L1oK7NUQ",
    "outputId": "d8624b86-690b-44bd-9f07-d7aa8f67d0bb"
   },
   "outputs": [
    {
     "name": "stdout",
     "output_type": "stream",
     "text": [
      "(1112, 2366) (1112, 1112) (1112,) (2366, 2366)\n"
     ]
    }
   ],
   "source": [
    "U, sigma, V = svd(ratings)\n",
    "print(ratings.shape, U.shape, sigma.shape, V.shape)"
   ]
  },
  {
   "cell_type": "code",
   "execution_count": 79,
   "metadata": {
    "colab": {
     "base_uri": "https://localhost:8080/"
    },
    "id": "L-qvuwS_7NUQ",
    "outputId": "6b9f4fc0-8bd5-4263-f3f6-533b0335f5f2"
   },
   "outputs": [
    {
     "name": "stdout",
     "output_type": "stream",
     "text": [
      "8.503610383044752e-25\n"
     ]
    }
   ],
   "source": [
    "Sigma = np.zeros((1112, 2366))\n",
    "Sigma[:1112, :1112] = np.diag(sigma)\n",
    "\n",
    "new_ratings = U.dot(Sigma).dot(V)\n",
    "print(sum(sum((new_ratings - ratings.values) ** 2)))"
   ]
  },
  {
   "cell_type": "markdown",
   "metadata": {
    "id": "UdXQAsbT7NUQ"
   },
   "source": [
    "Значения у матрицы с сингулярными числами отсортированы по убыванию. Допустим мы хотим оставить только первые 100 компонент (и получить скрытые представления размерности 100). Для этого необходимо оставить 100 столбцов в матрице U, оставить из sigma только первые 100 значений (и сделать из них диагональную матрицу). Перемножим преобразованные матрицы ($\\hat{U}, \\hat{sigma}, \\hat{V^T}$), чтобы получить восстановленную матрицу оценок."
   ]
  },
  {
   "cell_type": "code",
   "execution_count": 85,
   "metadata": {},
   "outputs": [],
   "source": [
    "K = 100\n",
    "new_ratings = # your code here"
   ]
  },
  {
   "cell_type": "markdown",
   "metadata": {
    "id": "vfHCpcpk7NUQ"
   },
   "source": [
    "Посчитаем качество аппроксимации матрицы по норме Фробениуса (среднеквадратичную ошибку между всеми элементами соответствующими элементами двух матриц). Сравним его с простым бейзлайном с константным значением, равным среднему значению исходной матрицы. У аппроксимации ошибка должна получиться ниже."
   ]
  },
  {
   "cell_type": "code",
   "execution_count": 88,
   "metadata": {
    "colab": {
     "base_uri": "https://localhost:8080/"
    },
    "id": "0eJ04SyR7NUQ",
    "outputId": "31e72fa6-7ab7-4f6c-e2b9-3a88f8cfdb27"
   },
   "outputs": [
    {
     "name": "stdout",
     "output_type": "stream",
     "text": [
      "25843.42489891277\n",
      "78622.13000466056\n"
     ]
    }
   ],
   "source": [
    "print(sum(sum((new_ratings - ratings.values) ** 2)))\n",
    "print(sum(sum((ratings.values.mean() - ratings.values) ** 2)))"
   ]
  },
  {
   "cell_type": "markdown",
   "metadata": {
    "id": "La65ws_s7NUR"
   },
   "source": [
    "Теперь можно делать предсказания по матрице. Сделаем их (не забываем про то, что уже было просмотрено пользователем), оценим качество. Для этого необходимо для каждого пользователя найти предметы с наибольшими оценками в восстановленной матрице."
   ]
  },
  {
   "cell_type": "code",
   "execution_count": 89,
   "metadata": {
    "colab": {
     "base_uri": "https://localhost:8080/",
     "height": 119,
     "referenced_widgets": [
      "531e6e1b0b0a46d3982fe1a283b280db",
      "16f0c4dae501463aab652444e286789f",
      "26656807888e43b8af7c338593779fc0",
      "60bd9bb18cd144c88381a775268fd039",
      "84b5e2792bca4a848551e2d6660eb0de",
      "d9b9fd8bbcfc478c997140848cd22bf0",
      "ea2a0094076c4b32b49a78254559cd9b",
      "d462c4cbaf4846ff8db64e4e942b4a9b"
     ]
    },
    "id": "6vHccmsW7NUR",
    "outputId": "779c4c53-6d0a-42f9-ed97-374fed7bab6b"
   },
   "outputs": [
    {
     "name": "stderr",
     "output_type": "stream",
     "text": [
      "<ipython-input-89-82f8e5ff9862>:4: TqdmDeprecationWarning: This function will be removed in tqdm==5.0.0\n",
      "Please use `tqdm.notebook.tqdm` instead of `tqdm.tqdm_notebook`\n",
      "  for personId in tqdm_notebook(interactions.index):\n"
     ]
    },
    {
     "data": {
      "application/vnd.jupyter.widget-view+json": {
       "model_id": "29d737c2b2cc45a7b7feee1dbb09863f",
       "version_major": 2,
       "version_minor": 0
      },
      "text/plain": [
       "HBox(children=(HTML(value=''), FloatProgress(value=0.0, max=1112.0), HTML(value='')))"
      ]
     },
     "metadata": {},
     "output_type": "display_data"
    },
    {
     "name": "stdout",
     "output_type": "stream",
     "text": [
      "\n"
     ]
    }
   ],
   "source": [
    "new_ratings = pd.DataFrame(new_ratings, index=ratings.index, columns=ratings.columns)\n",
    "predictions = []\n",
    "\n",
    "for personId in tqdm_notebook(interactions.index):\n",
    "    prediction = (\n",
    "        new_ratings\n",
    "        .loc[personId]\n",
    "        .sort_values(ascending=False)\n",
    "        .index.values\n",
    "    )\n",
    "    \n",
    "    predictions.append(\n",
    "        list(prediction[~np.in1d(\n",
    "            prediction,\n",
    "            interactions.loc[personId, 'true_train'])])[:top_k])\n",
    "\n",
    "interactions['prediction_svd'] = predictions"
   ]
  },
  {
   "cell_type": "code",
   "execution_count": 90,
   "metadata": {
    "colab": {
     "base_uri": "https://localhost:8080/"
    },
    "id": "VAEaQ4dX7NUR",
    "outputId": "65e8a3b7-4296-4021-c3f8-edf90985aa59",
    "scrolled": true
   },
   "outputs": [
    {
     "data": {
      "text/plain": [
       "0.012212989310270754"
      ]
     },
     "execution_count": 90,
     "metadata": {},
     "output_type": "execute_result"
    }
   ],
   "source": [
    "calc_precision('prediction_svd')"
   ]
  },
  {
   "cell_type": "markdown",
   "metadata": {},
   "source": [
    "Как это будет зависеть от числа компонент?"
   ]
  },
  {
   "cell_type": "code",
   "execution_count": 96,
   "metadata": {},
   "outputs": [
    {
     "name": "stderr",
     "output_type": "stream",
     "text": [
      "<ipython-input-96-0d258483b712>:9: TqdmDeprecationWarning: This function will be removed in tqdm==5.0.0\n",
      "Please use `tqdm.notebook.tqdm` instead of `tqdm.tqdm_notebook`\n",
      "  for personId in tqdm_notebook(interactions.index):\n"
     ]
    },
    {
     "data": {
      "application/vnd.jupyter.widget-view+json": {
       "model_id": "bb87bcfe5d6642c5889d1beb6ec8d1ee",
       "version_major": 2,
       "version_minor": 0
      },
      "text/plain": [
       "HBox(children=(HTML(value=''), FloatProgress(value=0.0, max=1112.0), HTML(value='')))"
      ]
     },
     "metadata": {},
     "output_type": "display_data"
    },
    {
     "name": "stdout",
     "output_type": "stream",
     "text": [
      "\n"
     ]
    },
    {
     "data": {
      "application/vnd.jupyter.widget-view+json": {
       "model_id": "dcbd28aa3ccc45769de1a2a34ad868ed",
       "version_major": 2,
       "version_minor": 0
      },
      "text/plain": [
       "HBox(children=(HTML(value=''), FloatProgress(value=0.0, max=1112.0), HTML(value='')))"
      ]
     },
     "metadata": {},
     "output_type": "display_data"
    },
    {
     "name": "stdout",
     "output_type": "stream",
     "text": [
      "\n"
     ]
    },
    {
     "data": {
      "application/vnd.jupyter.widget-view+json": {
       "model_id": "5694732794e645eaac8a97122a926063",
       "version_major": 2,
       "version_minor": 0
      },
      "text/plain": [
       "HBox(children=(HTML(value=''), FloatProgress(value=0.0, max=1112.0), HTML(value='')))"
      ]
     },
     "metadata": {},
     "output_type": "display_data"
    },
    {
     "name": "stdout",
     "output_type": "stream",
     "text": [
      "\n"
     ]
    },
    {
     "data": {
      "application/vnd.jupyter.widget-view+json": {
       "model_id": "3d3990fa26014bcfa57ef84e4788d2de",
       "version_major": 2,
       "version_minor": 0
      },
      "text/plain": [
       "HBox(children=(HTML(value=''), FloatProgress(value=0.0, max=1112.0), HTML(value='')))"
      ]
     },
     "metadata": {},
     "output_type": "display_data"
    },
    {
     "name": "stdout",
     "output_type": "stream",
     "text": [
      "\n"
     ]
    },
    {
     "data": {
      "application/vnd.jupyter.widget-view+json": {
       "model_id": "cf9b32856d5542e0a44be84b4ef21f2f",
       "version_major": 2,
       "version_minor": 0
      },
      "text/plain": [
       "HBox(children=(HTML(value=''), FloatProgress(value=0.0, max=1112.0), HTML(value='')))"
      ]
     },
     "metadata": {},
     "output_type": "display_data"
    },
    {
     "name": "stdout",
     "output_type": "stream",
     "text": [
      "\n"
     ]
    },
    {
     "data": {
      "application/vnd.jupyter.widget-view+json": {
       "model_id": "903bf99969a54c00bdb31db9335e8285",
       "version_major": 2,
       "version_minor": 0
      },
      "text/plain": [
       "HBox(children=(HTML(value=''), FloatProgress(value=0.0, max=1112.0), HTML(value='')))"
      ]
     },
     "metadata": {},
     "output_type": "display_data"
    },
    {
     "name": "stdout",
     "output_type": "stream",
     "text": [
      "\n"
     ]
    }
   ],
   "source": [
    "K_prec = []\n",
    "\n",
    "for K in [1, 10, 50, 100, 500, 1000]:\n",
    "    new_ratings = # your code here\n",
    "    \n",
    "    new_ratings = pd.DataFrame(new_ratings, index=ratings.index, columns=ratings.columns)\n",
    "    predictions = []\n",
    "\n",
    "    for personId in tqdm_notebook(interactions.index):\n",
    "        prediction = (\n",
    "            new_ratings\n",
    "            .loc[personId]\n",
    "            .sort_values(ascending=False)\n",
    "            .index.values\n",
    "        )\n",
    "\n",
    "        predictions.append(\n",
    "            list(prediction[~np.in1d(\n",
    "                prediction,\n",
    "                interactions.loc[personId, 'true_train'])])[:top_k])\n",
    "\n",
    "    interactions[f'prediction_svd_{K}'] = predictions\n",
    "    K_prec.append(calc_precision(f'prediction_svd_{K}'))\n",
    "    interactions.drop([f'prediction_svd_{K}'], axis=1, inplace=True)"
   ]
  },
  {
   "cell_type": "code",
   "execution_count": 101,
   "metadata": {},
   "outputs": [
    {
     "data": {
      "text/plain": [
       "[<matplotlib.lines.Line2D at 0x7fb1d81a2e50>]"
      ]
     },
     "execution_count": 101,
     "metadata": {},
     "output_type": "execute_result"
    },
    {
     "data": {
      "image/png": "[encoded data removed]",
      "text/plain": [
       "<Figure size 432x288 with 1 Axes>"
      ]
     },
     "metadata": {
      "needs_background": "light"
     },
     "output_type": "display_data"
    }
   ],
   "source": [
    "plt.plot([1, 10, 50, 100, 500, 1000], K_prec)"
   ]
  },
  {
   "cell_type": "markdown",
   "metadata": {
    "id": "ETpXOarg7NUR"
   },
   "source": [
    "## Часть 3. Контентные  модели"
   ]
  },
  {
   "cell_type": "markdown",
   "metadata": {
    "id": "f0PzHZQG7NUR"
   },
   "source": [
    "В этой части реализуем альтернативный подход к рекомендательным системам — контентные модели."
   ]
  },
  {
   "cell_type": "markdown",
   "metadata": {
    "id": "WnxLuSm77NUR"
   },
   "source": [
    "Теперь мы будем оперировать не матрицей с оценками, а классической для машинного обучения матрицей объекты-признаки. Каждый объект будет характеризовать пару user-item и содержать признаки, описывающие как пользователя, так и товар. Кроме этого признаки могут описывать и саму пару целиком.\n",
    "\n",
    "Матрица со всеми взаимодействиями уже получена нами на этапа разбиения выборки на 2 части. \n",
    "\n",
    "Будем обучать классификатор на взаимодействие, а для него нужны отрицательные примеры. Добавим случайные отсутствующие взаимодействия как отрицательные.\n",
    "\n",
    "Заметим, что модель оценивает каждую пару потенциального взаимодействия, а значит, надо подготовить выборку из всех возможных пар из пользователей и статей."
   ]
  },
  {
   "cell_type": "code",
   "execution_count": 112,
   "metadata": {
    "id": "x8UE8_5F7NUR"
   },
   "outputs": [],
   "source": [
    "test_personId = np.repeat(interactions.index, len(ratings.columns)) \n",
    "test_contentId = list(ratings.columns) * len(interactions)\n",
    "test = pd.DataFrame(\n",
    "    np.array([test_personId, test_contentId]).T,\n",
    "    columns=['personId', 'contentId'])\n",
    "\n",
    "interactions_train_df = pd.concat((\n",
    "    interactions_train_df,\n",
    "    test.loc[\n",
    "        np.random.permutation(test.index)[\n",
    "            :4*len(interactions_train_df)]]), ignore_index=True)\n",
    "interactions_train_df.eventStrength.fillna(0, inplace=True)"
   ]
  },
  {
   "cell_type": "markdown",
   "metadata": {
    "id": "YHjAGl5X7NUS"
   },
   "source": [
    "Придумаем и добавим признаков о пользователях и статьях. Сначала добавим информацию о статьях в данные о взаимодействиях."
   ]
  },
  {
   "cell_type": "code",
   "execution_count": 113,
   "metadata": {
    "id": "rCrmLJ6o7NUS"
   },
   "outputs": [],
   "source": [
    "interactions_train_df = interactions_train_df.merge(articles_df, how='left', on='contentId')\n",
    "interactions_test_df = interactions_test_df.merge(articles_df, how='left', on='contentId')"
   ]
  },
  {
   "cell_type": "code",
   "execution_count": 114,
   "metadata": {
    "id": "Dl0THEi87NUS"
   },
   "outputs": [],
   "source": [
    "# first feature index\n",
    "features_start = len(interactions_train_df.columns)"
   ]
  },
  {
   "cell_type": "markdown",
   "metadata": {
    "id": "Qr-RuQyM7NUS"
   },
   "source": [
    "После обучения модели нам придётся делать предсказания на тестовой выборке для всех возможных пар статья-пользователь. Подготовим такую матрицу, чтобы параллельно посчитать признаки для неё."
   ]
  },
  {
   "cell_type": "code",
   "execution_count": 116,
   "metadata": {
    "colab": {
     "base_uri": "https://localhost:8080/",
     "height": 621
    },
    "id": "J-eO-JeM7NUS",
    "outputId": "a21f5bdf-edc0-4a41-93f9-033afea0545c"
   },
   "outputs": [
    {
     "data": {
      "text/html": [
       "<div>\n",
       "<style scoped>\n",
       "    .dataframe tbody tr th:only-of-type {\n",
       "        vertical-align: middle;\n",
       "    }\n",
       "\n",
       "    .dataframe tbody tr th {\n",
       "        vertical-align: top;\n",
       "    }\n",
       "\n",
       "    .dataframe thead th {\n",
       "        text-align: right;\n",
       "    }\n",
       "</style>\n",
       "<table border=\"1\" class=\"dataframe\">\n",
       "  <thead>\n",
       "    <tr style=\"text-align: right;\">\n",
       "      <th></th>\n",
       "      <th>personId</th>\n",
       "      <th>contentId</th>\n",
       "      <th>timestamp</th>\n",
       "      <th>eventType</th>\n",
       "      <th>authorPersonId</th>\n",
       "      <th>authorSessionId</th>\n",
       "      <th>authorUserAgent</th>\n",
       "      <th>authorRegion</th>\n",
       "      <th>authorCountry</th>\n",
       "      <th>contentType</th>\n",
       "      <th>url</th>\n",
       "      <th>title</th>\n",
       "      <th>text</th>\n",
       "      <th>lang</th>\n",
       "    </tr>\n",
       "  </thead>\n",
       "  <tbody>\n",
       "    <tr>\n",
       "      <th>0</th>\n",
       "      <td>-1007001694607905623</td>\n",
       "      <td>-4110354420726924665</td>\n",
       "      <td>1459193988</td>\n",
       "      <td>CONTENT SHARED</td>\n",
       "      <td>4340306774493623681</td>\n",
       "      <td>8940341205206233829</td>\n",
       "      <td>NaN</td>\n",
       "      <td>NaN</td>\n",
       "      <td>NaN</td>\n",
       "      <td>HTML</td>\n",
       "      <td>http://www.nytimes.com/2016/03/28/business/dea...</td>\n",
       "      <td>Ethereum, a Virtual Currency, Enables Transact...</td>\n",
       "      <td>All of this work is still very early. The firs...</td>\n",
       "      <td>en</td>\n",
       "    </tr>\n",
       "    <tr>\n",
       "      <th>1</th>\n",
       "      <td>-1007001694607905623</td>\n",
       "      <td>-7292285110016212249</td>\n",
       "      <td>1459194146</td>\n",
       "      <td>CONTENT SHARED</td>\n",
       "      <td>4340306774493623681</td>\n",
       "      <td>8940341205206233829</td>\n",
       "      <td>NaN</td>\n",
       "      <td>NaN</td>\n",
       "      <td>NaN</td>\n",
       "      <td>HTML</td>\n",
       "      <td>http://cointelegraph.com/news/bitcoin-future-w...</td>\n",
       "      <td>Bitcoin Future: When GBPcoin of Branson Wins O...</td>\n",
       "      <td>The alarm clock wakes me at 8:00 with stream o...</td>\n",
       "      <td>en</td>\n",
       "    </tr>\n",
       "    <tr>\n",
       "      <th>2</th>\n",
       "      <td>-1007001694607905623</td>\n",
       "      <td>-6151852268067518688</td>\n",
       "      <td>1459194474</td>\n",
       "      <td>CONTENT SHARED</td>\n",
       "      <td>3891637997717104548</td>\n",
       "      <td>-1457532940883382585</td>\n",
       "      <td>NaN</td>\n",
       "      <td>NaN</td>\n",
       "      <td>NaN</td>\n",
       "      <td>HTML</td>\n",
       "      <td>https://cloudplatform.googleblog.com/2016/03/G...</td>\n",
       "      <td>Google Data Center 360° Tour</td>\n",
       "      <td>We're excited to share the Google Data Center ...</td>\n",
       "      <td>en</td>\n",
       "    </tr>\n",
       "    <tr>\n",
       "      <th>3</th>\n",
       "      <td>-1007001694607905623</td>\n",
       "      <td>2448026894306402386</td>\n",
       "      <td>1459194497</td>\n",
       "      <td>CONTENT SHARED</td>\n",
       "      <td>4340306774493623681</td>\n",
       "      <td>8940341205206233829</td>\n",
       "      <td>NaN</td>\n",
       "      <td>NaN</td>\n",
       "      <td>NaN</td>\n",
       "      <td>HTML</td>\n",
       "      <td>https://bitcoinmagazine.com/articles/ibm-wants...</td>\n",
       "      <td>IBM Wants to \"Evolve the Internet\" With Blockc...</td>\n",
       "      <td>The Aite Group projects the blockchain market ...</td>\n",
       "      <td>en</td>\n",
       "    </tr>\n",
       "    <tr>\n",
       "      <th>4</th>\n",
       "      <td>-1007001694607905623</td>\n",
       "      <td>-2826566343807132236</td>\n",
       "      <td>1459194522</td>\n",
       "      <td>CONTENT SHARED</td>\n",
       "      <td>4340306774493623681</td>\n",
       "      <td>8940341205206233829</td>\n",
       "      <td>NaN</td>\n",
       "      <td>NaN</td>\n",
       "      <td>NaN</td>\n",
       "      <td>HTML</td>\n",
       "      <td>http://www.coindesk.com/ieee-blockchain-oxford...</td>\n",
       "      <td>IEEE to Talk Blockchain at Cloud Computing Oxf...</td>\n",
       "      <td>One of the largest and oldest organizations fo...</td>\n",
       "      <td>en</td>\n",
       "    </tr>\n",
       "  </tbody>\n",
       "</table>\n",
       "</div>"
      ],
      "text/plain": [
       "               personId             contentId   timestamp       eventType  \\\n",
       "0  -1007001694607905623  -4110354420726924665  1459193988  CONTENT SHARED   \n",
       "1  -1007001694607905623  -7292285110016212249  1459194146  CONTENT SHARED   \n",
       "2  -1007001694607905623  -6151852268067518688  1459194474  CONTENT SHARED   \n",
       "3  -1007001694607905623   2448026894306402386  1459194497  CONTENT SHARED   \n",
       "4  -1007001694607905623  -2826566343807132236  1459194522  CONTENT SHARED   \n",
       "\n",
       "        authorPersonId      authorSessionId authorUserAgent authorRegion  \\\n",
       "0  4340306774493623681  8940341205206233829             NaN          NaN   \n",
       "1  4340306774493623681  8940341205206233829             NaN          NaN   \n",
       "2  3891637997717104548 -1457532940883382585             NaN          NaN   \n",
       "3  4340306774493623681  8940341205206233829             NaN          NaN   \n",
       "4  4340306774493623681  8940341205206233829             NaN          NaN   \n",
       "\n",
       "  authorCountry contentType  \\\n",
       "0           NaN        HTML   \n",
       "1           NaN        HTML   \n",
       "2           NaN        HTML   \n",
       "3           NaN        HTML   \n",
       "4           NaN        HTML   \n",
       "\n",
       "                                                 url  \\\n",
       "0  http://www.nytimes.com/2016/03/28/business/dea...   \n",
       "1  http://cointelegraph.com/news/bitcoin-future-w...   \n",
       "2  https://cloudplatform.googleblog.com/2016/03/G...   \n",
       "3  https://bitcoinmagazine.com/articles/ibm-wants...   \n",
       "4  http://www.coindesk.com/ieee-blockchain-oxford...   \n",
       "\n",
       "                                               title  \\\n",
       "0  Ethereum, a Virtual Currency, Enables Transact...   \n",
       "1  Bitcoin Future: When GBPcoin of Branson Wins O...   \n",
       "2                       Google Data Center 360° Tour   \n",
       "3  IBM Wants to \"Evolve the Internet\" With Blockc...   \n",
       "4  IEEE to Talk Blockchain at Cloud Computing Oxf...   \n",
       "\n",
       "                                                text lang  \n",
       "0  All of this work is still very early. The firs...   en  \n",
       "1  The alarm clock wakes me at 8:00 with stream o...   en  \n",
       "2  We're excited to share the Google Data Center ...   en  \n",
       "3  The Aite Group projects the blockchain market ...   en  \n",
       "4  One of the largest and oldest organizations fo...   en  "
      ]
     },
     "execution_count": 116,
     "metadata": {},
     "output_type": "execute_result"
    }
   ],
   "source": [
    "test_personId = np.repeat(interactions.index, len(articles_df)) \n",
    "test_contentId = list(articles_df.contentId) * len(interactions)\n",
    "test = pd.DataFrame(\n",
    "    np.array([test_personId, test_contentId]).T,\n",
    "    columns=['personId', 'contentId'])\n",
    "test = test.merge(articles_df, how='left', on='contentId')\n",
    "\n",
    "test.head()"
   ]
  },
  {
   "cell_type": "markdown",
   "metadata": {
    "id": "0mETAklS7NUS"
   },
   "source": [
    "Добавим признаки-индикаторы возможных значений contentType."
   ]
  },
  {
   "cell_type": "code",
   "execution_count": 117,
   "metadata": {
    "id": "_qV8qSx77NUS"
   },
   "outputs": [],
   "source": [
    "interactions_train_df['is_HTML'] = interactions_train_df.contentType == 'HTML'\n",
    "interactions_train_df['is_RICH'] = interactions_train_df.contentType == 'RICH'\n",
    "interactions_train_df['is_VIDEO'] = interactions_train_df.contentType == 'VIDEO'\n",
    "\n",
    "test['is_HTML'] = test.contentType == 'HTML'\n",
    "test['is_RICH'] = test.contentType == 'RICH'\n",
    "test['is_VIDEO'] = test.contentType == 'VIDEO'"
   ]
  },
  {
   "cell_type": "markdown",
   "metadata": {
    "id": "CQ88UyYo7NUT"
   },
   "source": [
    "Добавим признаки \"длина названия\" и \"длина текста\" + некоторые проверки на ключевые слова."
   ]
  },
  {
   "cell_type": "code",
   "execution_count": 118,
   "metadata": {
    "id": "vrbwcMOc7NUT"
   },
   "outputs": [],
   "source": [
    "interactions_train_df['title_length'] = interactions_train_df.title.fillna('').apply(len)\n",
    "interactions_train_df['text_length'] = interactions_train_df.text.fillna('').apply(len)\n",
    "\n",
    "test['title_length'] = test.title.fillna('').apply(len)\n",
    "test['text_length'] = test.text.fillna('').apply(len)\n",
    "\n",
    "interactions_train_df['has_new'] = \\\n",
    "    interactions_train_df.title.fillna('').apply(lambda x: 'new' in x.lower())\n",
    "interactions_train_df['has_why'] = \\\n",
    "    interactions_train_df.title.fillna('').apply(lambda x: 'why' in x.lower())\n",
    "interactions_train_df['has_how'] = \\\n",
    "    interactions_train_df.title.fillna('').apply(lambda x: 'how' in x.lower())\n",
    "interactions_train_df['has_ai'] = \\\n",
    "    interactions_train_df.title.fillna('').apply(lambda x: 'ai' in x.lower())\n",
    "\n",
    "test['has_new'] = \\\n",
    "    test.title.fillna('').apply(lambda x: 'new' in x.lower())\n",
    "test['has_why'] = \\\n",
    "    test.title.fillna('').apply(lambda x: 'why' in x.lower())\n",
    "test['has_how'] = \\\n",
    "    test.title.fillna('').apply(lambda x: 'how' in x.lower())\n",
    "test['has_ai'] = \\\n",
    "    test.title.fillna('').apply(lambda x: 'ai' in x.lower())"
   ]
  },
  {
   "cell_type": "markdown",
   "metadata": {
    "id": "3VKPsutr7NUT"
   },
   "source": [
    "Добавим признаки-индикаторы языка."
   ]
  },
  {
   "cell_type": "code",
   "execution_count": 119,
   "metadata": {
    "id": "Fh9Zm1XR7NUT"
   },
   "outputs": [],
   "source": [
    "interactions_train_df['is_lang_en'] = interactions_train_df.lang == 'en'\n",
    "interactions_train_df['is_lang_pt'] = interactions_train_df.lang == 'pt'\n",
    "\n",
    "test['is_lang_en'] = test.lang == 'en'\n",
    "test['is_lang_pt'] = test.lang == 'pt'"
   ]
  },
  {
   "cell_type": "markdown",
   "metadata": {
    "id": "MwkU7S9H7NUT"
   },
   "source": [
    "Обучим на полученных признаках градиентный бустинг."
   ]
  },
  {
   "cell_type": "code",
   "execution_count": 123,
   "metadata": {
    "colab": {
     "base_uri": "https://localhost:8080/"
    },
    "id": "3cbtHpi77NUT",
    "outputId": "9f874932-dd52-4cb7-a6e0-6d5554fbe510",
    "scrolled": true
   },
   "outputs": [
    {
     "name": "stdout",
     "output_type": "stream",
     "text": [
      "Learning rate set to 0.086682\n",
      "0:\tlearn: 0.6578144\ttotal: 70.1ms\tremaining: 1m 10s\n",
      "1:\tlearn: 0.6287427\ttotal: 82.9ms\tremaining: 41.4s\n",
      "2:\tlearn: 0.6053089\ttotal: 93ms\tremaining: 30.9s\n",
      "3:\tlearn: 0.5859169\ttotal: 107ms\tremaining: 26.8s\n",
      "4:\tlearn: 0.5697004\ttotal: 122ms\tremaining: 24.2s\n",
      "5:\tlearn: 0.5567644\ttotal: 132ms\tremaining: 21.9s\n",
      "6:\tlearn: 0.5460216\ttotal: 146ms\tremaining: 20.7s\n",
      "7:\tlearn: 0.5368761\ttotal: 158ms\tremaining: 19.6s\n",
      "8:\tlearn: 0.5296647\ttotal: 169ms\tremaining: 18.6s\n",
      "9:\tlearn: 0.5237097\ttotal: 180ms\tremaining: 17.8s\n",
      "10:\tlearn: 0.5187155\ttotal: 199ms\tremaining: 17.8s\n",
      "11:\tlearn: 0.5143841\ttotal: 219ms\tremaining: 18s\n",
      "12:\tlearn: 0.5110235\ttotal: 236ms\tremaining: 17.9s\n",
      "13:\tlearn: 0.5082457\ttotal: 253ms\tremaining: 17.8s\n",
      "14:\tlearn: 0.5058991\ttotal: 269ms\tremaining: 17.7s\n",
      "15:\tlearn: 0.5037500\ttotal: 284ms\tremaining: 17.4s\n",
      "16:\tlearn: 0.5019902\ttotal: 297ms\tremaining: 17.2s\n",
      "17:\tlearn: 0.5002845\ttotal: 309ms\tremaining: 16.8s\n",
      "18:\tlearn: 0.4990433\ttotal: 322ms\tremaining: 16.6s\n",
      "19:\tlearn: 0.4979196\ttotal: 336ms\tremaining: 16.5s\n",
      "20:\tlearn: 0.4971569\ttotal: 349ms\tremaining: 16.3s\n",
      "21:\tlearn: 0.4963326\ttotal: 363ms\tremaining: 16.1s\n",
      "22:\tlearn: 0.4954406\ttotal: 374ms\tremaining: 15.9s\n",
      "23:\tlearn: 0.4947910\ttotal: 387ms\tremaining: 15.7s\n",
      "24:\tlearn: 0.4941330\ttotal: 397ms\tremaining: 15.5s\n",
      "25:\tlearn: 0.4936932\ttotal: 417ms\tremaining: 15.6s\n",
      "26:\tlearn: 0.4931275\ttotal: 435ms\tremaining: 15.7s\n",
      "27:\tlearn: 0.4926183\ttotal: 457ms\tremaining: 15.9s\n",
      "28:\tlearn: 0.4922599\ttotal: 477ms\tremaining: 16s\n",
      "29:\tlearn: 0.4919363\ttotal: 493ms\tremaining: 16s\n",
      "30:\tlearn: 0.4916325\ttotal: 508ms\tremaining: 15.9s\n",
      "31:\tlearn: 0.4913482\ttotal: 523ms\tremaining: 15.8s\n",
      "32:\tlearn: 0.4910360\ttotal: 541ms\tremaining: 15.9s\n",
      "33:\tlearn: 0.4907669\ttotal: 555ms\tremaining: 15.8s\n",
      "34:\tlearn: 0.4906190\ttotal: 569ms\tremaining: 15.7s\n",
      "35:\tlearn: 0.4903270\ttotal: 582ms\tremaining: 15.6s\n",
      "36:\tlearn: 0.4900311\ttotal: 594ms\tremaining: 15.5s\n",
      "37:\tlearn: 0.4897630\ttotal: 608ms\tremaining: 15.4s\n",
      "38:\tlearn: 0.4895817\ttotal: 622ms\tremaining: 15.3s\n",
      "39:\tlearn: 0.4893826\ttotal: 640ms\tremaining: 15.4s\n",
      "40:\tlearn: 0.4892151\ttotal: 653ms\tremaining: 15.3s\n",
      "41:\tlearn: 0.4890606\ttotal: 666ms\tremaining: 15.2s\n",
      "42:\tlearn: 0.4888975\ttotal: 678ms\tremaining: 15.1s\n",
      "43:\tlearn: 0.4887820\ttotal: 691ms\tremaining: 15s\n",
      "44:\tlearn: 0.4885436\ttotal: 701ms\tremaining: 14.9s\n",
      "45:\tlearn: 0.4883498\ttotal: 713ms\tremaining: 14.8s\n",
      "46:\tlearn: 0.4882369\ttotal: 727ms\tremaining: 14.7s\n",
      "47:\tlearn: 0.4881165\ttotal: 741ms\tremaining: 14.7s\n",
      "48:\tlearn: 0.4880055\ttotal: 755ms\tremaining: 14.7s\n",
      "49:\tlearn: 0.4878799\ttotal: 766ms\tremaining: 14.6s\n",
      "50:\tlearn: 0.4876090\ttotal: 778ms\tremaining: 14.5s\n",
      "51:\tlearn: 0.4875069\ttotal: 792ms\tremaining: 14.4s\n",
      "52:\tlearn: 0.4874046\ttotal: 804ms\tremaining: 14.4s\n",
      "53:\tlearn: 0.4872613\ttotal: 815ms\tremaining: 14.3s\n",
      "54:\tlearn: 0.4870988\ttotal: 833ms\tremaining: 14.3s\n",
      "55:\tlearn: 0.4869043\ttotal: 854ms\tremaining: 14.4s\n",
      "56:\tlearn: 0.4867791\ttotal: 873ms\tremaining: 14.4s\n",
      "57:\tlearn: 0.4866161\ttotal: 890ms\tremaining: 14.5s\n",
      "58:\tlearn: 0.4864693\ttotal: 906ms\tremaining: 14.5s\n",
      "59:\tlearn: 0.4863916\ttotal: 926ms\tremaining: 14.5s\n",
      "60:\tlearn: 0.4862660\ttotal: 945ms\tremaining: 14.5s\n",
      "61:\tlearn: 0.4861887\ttotal: 969ms\tremaining: 14.7s\n",
      "62:\tlearn: 0.4861007\ttotal: 984ms\tremaining: 14.6s\n",
      "63:\tlearn: 0.4859789\ttotal: 1s\tremaining: 14.6s\n",
      "64:\tlearn: 0.4858604\ttotal: 1.02s\tremaining: 14.6s\n",
      "65:\tlearn: 0.4857713\ttotal: 1.03s\tremaining: 14.6s\n",
      "66:\tlearn: 0.4856178\ttotal: 1.05s\tremaining: 14.7s\n",
      "67:\tlearn: 0.4855034\ttotal: 1.07s\tremaining: 14.7s\n",
      "68:\tlearn: 0.4853886\ttotal: 1.09s\tremaining: 14.7s\n",
      "69:\tlearn: 0.4853293\ttotal: 1.11s\tremaining: 14.7s\n",
      "70:\tlearn: 0.4851996\ttotal: 1.12s\tremaining: 14.7s\n",
      "71:\tlearn: 0.4851170\ttotal: 1.14s\tremaining: 14.7s\n",
      "72:\tlearn: 0.4849691\ttotal: 1.15s\tremaining: 14.7s\n",
      "73:\tlearn: 0.4849067\ttotal: 1.17s\tremaining: 14.6s\n",
      "74:\tlearn: 0.4847708\ttotal: 1.19s\tremaining: 14.6s\n",
      "75:\tlearn: 0.4845934\ttotal: 1.2s\tremaining: 14.6s\n",
      "76:\tlearn: 0.4844522\ttotal: 1.22s\tremaining: 14.6s\n",
      "77:\tlearn: 0.4843750\ttotal: 1.24s\tremaining: 14.6s\n",
      "78:\tlearn: 0.4842322\ttotal: 1.26s\tremaining: 14.7s\n",
      "79:\tlearn: 0.4841283\ttotal: 1.27s\tremaining: 14.7s\n",
      "80:\tlearn: 0.4840597\ttotal: 1.29s\tremaining: 14.7s\n",
      "81:\tlearn: 0.4839530\ttotal: 1.31s\tremaining: 14.6s\n",
      "82:\tlearn: 0.4839100\ttotal: 1.33s\tremaining: 14.7s\n",
      "83:\tlearn: 0.4838537\ttotal: 1.34s\tremaining: 14.6s\n",
      "84:\tlearn: 0.4837698\ttotal: 1.36s\tremaining: 14.6s\n",
      "85:\tlearn: 0.4836538\ttotal: 1.37s\tremaining: 14.6s\n",
      "86:\tlearn: 0.4835758\ttotal: 1.39s\tremaining: 14.6s\n",
      "87:\tlearn: 0.4834929\ttotal: 1.41s\tremaining: 14.6s\n",
      "88:\tlearn: 0.4833692\ttotal: 1.42s\tremaining: 14.6s\n",
      "89:\tlearn: 0.4832545\ttotal: 1.44s\tremaining: 14.5s\n",
      "90:\tlearn: 0.4831457\ttotal: 1.45s\tremaining: 14.5s\n",
      "91:\tlearn: 0.4830527\ttotal: 1.47s\tremaining: 14.5s\n",
      "92:\tlearn: 0.4829650\ttotal: 1.49s\tremaining: 14.5s\n",
      "93:\tlearn: 0.4828710\ttotal: 1.5s\tremaining: 14.5s\n",
      "94:\tlearn: 0.4827408\ttotal: 1.52s\tremaining: 14.5s\n",
      "95:\tlearn: 0.4825677\ttotal: 1.53s\tremaining: 14.4s\n",
      "96:\tlearn: 0.4824923\ttotal: 1.54s\tremaining: 14.4s\n",
      "97:\tlearn: 0.4824149\ttotal: 1.56s\tremaining: 14.4s\n",
      "98:\tlearn: 0.4822754\ttotal: 1.58s\tremaining: 14.4s\n",
      "99:\tlearn: 0.4822204\ttotal: 1.6s\tremaining: 14.4s\n",
      "100:\tlearn: 0.4821482\ttotal: 1.62s\tremaining: 14.4s\n",
      "101:\tlearn: 0.4820747\ttotal: 1.64s\tremaining: 14.5s\n",
      "102:\tlearn: 0.4819812\ttotal: 1.66s\tremaining: 14.5s\n",
      "103:\tlearn: 0.4819610\ttotal: 1.68s\tremaining: 14.5s\n",
      "104:\tlearn: 0.4818789\ttotal: 1.7s\tremaining: 14.5s\n",
      "105:\tlearn: 0.4817967\ttotal: 1.72s\tremaining: 14.5s\n",
      "106:\tlearn: 0.4816682\ttotal: 1.74s\tremaining: 14.5s\n",
      "107:\tlearn: 0.4815698\ttotal: 1.76s\tremaining: 14.6s\n",
      "108:\tlearn: 0.4814848\ttotal: 1.78s\tremaining: 14.6s\n",
      "109:\tlearn: 0.4814324\ttotal: 1.8s\tremaining: 14.6s\n",
      "110:\tlearn: 0.4813433\ttotal: 1.82s\tremaining: 14.6s\n",
      "111:\tlearn: 0.4812924\ttotal: 1.84s\tremaining: 14.6s\n",
      "112:\tlearn: 0.4811853\ttotal: 1.86s\tremaining: 14.6s\n",
      "113:\tlearn: 0.4811421\ttotal: 1.88s\tremaining: 14.6s\n",
      "114:\tlearn: 0.4810848\ttotal: 1.9s\tremaining: 14.7s\n",
      "115:\tlearn: 0.4809427\ttotal: 1.92s\tremaining: 14.7s\n",
      "116:\tlearn: 0.4807934\ttotal: 1.94s\tremaining: 14.7s\n",
      "117:\tlearn: 0.4806679\ttotal: 1.96s\tremaining: 14.7s\n",
      "118:\tlearn: 0.4805867\ttotal: 1.98s\tremaining: 14.6s\n",
      "119:\tlearn: 0.4804347\ttotal: 2s\tremaining: 14.6s\n",
      "120:\tlearn: 0.4803690\ttotal: 2.01s\tremaining: 14.6s\n",
      "121:\tlearn: 0.4802801\ttotal: 2.03s\tremaining: 14.6s\n",
      "122:\tlearn: 0.4801985\ttotal: 2.06s\tremaining: 14.7s\n",
      "123:\tlearn: 0.4801533\ttotal: 2.08s\tremaining: 14.7s\n",
      "124:\tlearn: 0.4800166\ttotal: 2.1s\tremaining: 14.7s\n",
      "125:\tlearn: 0.4799836\ttotal: 2.12s\tremaining: 14.7s\n",
      "126:\tlearn: 0.4798829\ttotal: 2.14s\tremaining: 14.7s\n",
      "127:\tlearn: 0.4797835\ttotal: 2.17s\tremaining: 14.8s\n",
      "128:\tlearn: 0.4797311\ttotal: 2.2s\tremaining: 14.8s\n",
      "129:\tlearn: 0.4796349\ttotal: 2.21s\tremaining: 14.8s\n",
      "130:\tlearn: 0.4795347\ttotal: 2.22s\tremaining: 14.8s\n",
      "131:\tlearn: 0.4794258\ttotal: 2.24s\tremaining: 14.7s\n",
      "132:\tlearn: 0.4793474\ttotal: 2.26s\tremaining: 14.7s\n",
      "133:\tlearn: 0.4792563\ttotal: 2.27s\tremaining: 14.7s\n",
      "134:\tlearn: 0.4791519\ttotal: 2.29s\tremaining: 14.7s\n",
      "135:\tlearn: 0.4790138\ttotal: 2.31s\tremaining: 14.7s\n",
      "136:\tlearn: 0.4789087\ttotal: 2.33s\tremaining: 14.7s\n",
      "137:\tlearn: 0.4788217\ttotal: 2.34s\tremaining: 14.6s\n",
      "138:\tlearn: 0.4787237\ttotal: 2.36s\tremaining: 14.6s\n",
      "139:\tlearn: 0.4786878\ttotal: 2.37s\tremaining: 14.6s\n",
      "140:\tlearn: 0.4785597\ttotal: 2.38s\tremaining: 14.5s\n",
      "141:\tlearn: 0.4785018\ttotal: 2.4s\tremaining: 14.5s\n",
      "142:\tlearn: 0.4783965\ttotal: 2.41s\tremaining: 14.5s\n",
      "143:\tlearn: 0.4783264\ttotal: 2.43s\tremaining: 14.4s\n",
      "144:\tlearn: 0.4782647\ttotal: 2.44s\tremaining: 14.4s\n",
      "145:\tlearn: 0.4781915\ttotal: 2.46s\tremaining: 14.4s\n",
      "146:\tlearn: 0.4780723\ttotal: 2.47s\tremaining: 14.4s\n",
      "147:\tlearn: 0.4779963\ttotal: 2.49s\tremaining: 14.3s\n",
      "148:\tlearn: 0.4778939\ttotal: 2.51s\tremaining: 14.3s\n",
      "149:\tlearn: 0.4777635\ttotal: 2.53s\tremaining: 14.3s\n",
      "150:\tlearn: 0.4776607\ttotal: 2.55s\tremaining: 14.3s\n",
      "151:\tlearn: 0.4776059\ttotal: 2.56s\tremaining: 14.3s\n",
      "152:\tlearn: 0.4775380\ttotal: 2.58s\tremaining: 14.3s\n",
      "153:\tlearn: 0.4774070\ttotal: 2.6s\tremaining: 14.3s\n",
      "154:\tlearn: 0.4773302\ttotal: 2.61s\tremaining: 14.2s\n",
      "155:\tlearn: 0.4772804\ttotal: 2.62s\tremaining: 14.2s\n",
      "156:\tlearn: 0.4771709\ttotal: 2.64s\tremaining: 14.2s\n",
      "157:\tlearn: 0.4770481\ttotal: 2.65s\tremaining: 14.1s\n",
      "158:\tlearn: 0.4769908\ttotal: 2.67s\tremaining: 14.1s\n",
      "159:\tlearn: 0.4769290\ttotal: 2.69s\tremaining: 14.1s\n",
      "160:\tlearn: 0.4768325\ttotal: 2.71s\tremaining: 14.1s\n",
      "161:\tlearn: 0.4767318\ttotal: 2.74s\tremaining: 14.2s\n",
      "162:\tlearn: 0.4766615\ttotal: 2.76s\tremaining: 14.2s\n",
      "163:\tlearn: 0.4765923\ttotal: 2.77s\tremaining: 14.1s\n",
      "164:\tlearn: 0.4765465\ttotal: 2.79s\tremaining: 14.1s\n",
      "165:\tlearn: 0.4765067\ttotal: 2.8s\tremaining: 14.1s\n",
      "166:\tlearn: 0.4763767\ttotal: 2.82s\tremaining: 14s\n",
      "167:\tlearn: 0.4762855\ttotal: 2.83s\tremaining: 14s\n",
      "168:\tlearn: 0.4761917\ttotal: 2.85s\tremaining: 14s\n",
      "169:\tlearn: 0.4760329\ttotal: 2.86s\tremaining: 14s\n",
      "170:\tlearn: 0.4759482\ttotal: 2.87s\tremaining: 13.9s\n",
      "171:\tlearn: 0.4758035\ttotal: 2.89s\tremaining: 13.9s\n",
      "172:\tlearn: 0.4757034\ttotal: 2.92s\tremaining: 13.9s\n",
      "173:\tlearn: 0.4756416\ttotal: 2.93s\tremaining: 13.9s\n",
      "174:\tlearn: 0.4755815\ttotal: 2.95s\tremaining: 13.9s\n",
      "175:\tlearn: 0.4755075\ttotal: 2.96s\tremaining: 13.9s\n",
      "176:\tlearn: 0.4754725\ttotal: 2.98s\tremaining: 13.8s\n",
      "177:\tlearn: 0.4753832\ttotal: 2.99s\tremaining: 13.8s\n",
      "178:\tlearn: 0.4753160\ttotal: 3.01s\tremaining: 13.8s\n",
      "179:\tlearn: 0.4752271\ttotal: 3.02s\tremaining: 13.8s\n",
      "180:\tlearn: 0.4751042\ttotal: 3.04s\tremaining: 13.7s\n",
      "181:\tlearn: 0.4750509\ttotal: 3.05s\tremaining: 13.7s\n",
      "182:\tlearn: 0.4749382\ttotal: 3.07s\tremaining: 13.7s\n",
      "183:\tlearn: 0.4749057\ttotal: 3.08s\tremaining: 13.7s\n",
      "184:\tlearn: 0.4748590\ttotal: 3.09s\tremaining: 13.6s\n",
      "185:\tlearn: 0.4747450\ttotal: 3.11s\tremaining: 13.6s\n",
      "186:\tlearn: 0.4747144\ttotal: 3.13s\tremaining: 13.6s\n",
      "187:\tlearn: 0.4746764\ttotal: 3.14s\tremaining: 13.6s\n",
      "188:\tlearn: 0.4746204\ttotal: 3.16s\tremaining: 13.6s\n",
      "189:\tlearn: 0.4745223\ttotal: 3.17s\tremaining: 13.5s\n",
      "190:\tlearn: 0.4744336\ttotal: 3.19s\tremaining: 13.5s\n",
      "191:\tlearn: 0.4743620\ttotal: 3.2s\tremaining: 13.5s\n",
      "192:\tlearn: 0.4742787\ttotal: 3.22s\tremaining: 13.5s\n",
      "193:\tlearn: 0.4742150\ttotal: 3.24s\tremaining: 13.5s\n",
      "194:\tlearn: 0.4741218\ttotal: 3.26s\tremaining: 13.5s\n",
      "195:\tlearn: 0.4740481\ttotal: 3.28s\tremaining: 13.5s\n",
      "196:\tlearn: 0.4739792\ttotal: 3.3s\tremaining: 13.4s\n",
      "197:\tlearn: 0.4739250\ttotal: 3.32s\tremaining: 13.5s\n",
      "198:\tlearn: 0.4738411\ttotal: 3.34s\tremaining: 13.4s\n",
      "199:\tlearn: 0.4737414\ttotal: 3.36s\tremaining: 13.4s\n",
      "200:\tlearn: 0.4736887\ttotal: 3.37s\tremaining: 13.4s\n",
      "201:\tlearn: 0.4735786\ttotal: 3.38s\tremaining: 13.4s\n",
      "202:\tlearn: 0.4734538\ttotal: 3.4s\tremaining: 13.3s\n",
      "203:\tlearn: 0.4734227\ttotal: 3.41s\tremaining: 13.3s\n",
      "204:\tlearn: 0.4733470\ttotal: 3.42s\tremaining: 13.3s\n",
      "205:\tlearn: 0.4733219\ttotal: 3.44s\tremaining: 13.3s\n",
      "206:\tlearn: 0.4732320\ttotal: 3.45s\tremaining: 13.2s\n",
      "207:\tlearn: 0.4731443\ttotal: 3.46s\tremaining: 13.2s\n",
      "208:\tlearn: 0.4730867\ttotal: 3.47s\tremaining: 13.2s\n",
      "209:\tlearn: 0.4729979\ttotal: 3.49s\tremaining: 13.1s\n",
      "210:\tlearn: 0.4729284\ttotal: 3.5s\tremaining: 13.1s\n",
      "211:\tlearn: 0.4728511\ttotal: 3.53s\tremaining: 13.1s\n",
      "212:\tlearn: 0.4727892\ttotal: 3.54s\tremaining: 13.1s\n",
      "213:\tlearn: 0.4727440\ttotal: 3.56s\tremaining: 13.1s\n",
      "214:\tlearn: 0.4727149\ttotal: 3.57s\tremaining: 13s\n",
      "215:\tlearn: 0.4726695\ttotal: 3.58s\tremaining: 13s\n",
      "216:\tlearn: 0.4726132\ttotal: 3.6s\tremaining: 13s\n",
      "217:\tlearn: 0.4725261\ttotal: 3.62s\tremaining: 13s\n",
      "218:\tlearn: 0.4724629\ttotal: 3.63s\tremaining: 12.9s\n",
      "219:\tlearn: 0.4723976\ttotal: 3.64s\tremaining: 12.9s\n",
      "220:\tlearn: 0.4723234\ttotal: 3.65s\tremaining: 12.9s\n",
      "221:\tlearn: 0.4722319\ttotal: 3.67s\tremaining: 12.9s\n",
      "222:\tlearn: 0.4721535\ttotal: 3.68s\tremaining: 12.8s\n",
      "223:\tlearn: 0.4720814\ttotal: 3.7s\tremaining: 12.8s\n",
      "224:\tlearn: 0.4719909\ttotal: 3.72s\tremaining: 12.8s\n",
      "225:\tlearn: 0.4719019\ttotal: 3.74s\tremaining: 12.8s\n",
      "226:\tlearn: 0.4718508\ttotal: 3.75s\tremaining: 12.8s\n",
      "227:\tlearn: 0.4717776\ttotal: 3.77s\tremaining: 12.8s\n",
      "228:\tlearn: 0.4716703\ttotal: 3.79s\tremaining: 12.7s\n",
      "229:\tlearn: 0.4715545\ttotal: 3.8s\tremaining: 12.7s\n",
      "230:\tlearn: 0.4714808\ttotal: 3.82s\tremaining: 12.7s\n",
      "231:\tlearn: 0.4714049\ttotal: 3.83s\tremaining: 12.7s\n",
      "232:\tlearn: 0.4713798\ttotal: 3.85s\tremaining: 12.7s\n",
      "233:\tlearn: 0.4713238\ttotal: 3.87s\tremaining: 12.7s\n",
      "234:\tlearn: 0.4712766\ttotal: 3.88s\tremaining: 12.6s\n",
      "235:\tlearn: 0.4712442\ttotal: 3.9s\tremaining: 12.6s\n",
      "236:\tlearn: 0.4711502\ttotal: 3.92s\tremaining: 12.6s\n",
      "237:\tlearn: 0.4710959\ttotal: 3.94s\tremaining: 12.6s\n",
      "238:\tlearn: 0.4710418\ttotal: 3.95s\tremaining: 12.6s\n",
      "239:\tlearn: 0.4709346\ttotal: 3.97s\tremaining: 12.6s\n",
      "240:\tlearn: 0.4708827\ttotal: 3.99s\tremaining: 12.6s\n",
      "241:\tlearn: 0.4708473\ttotal: 4s\tremaining: 12.5s\n",
      "242:\tlearn: 0.4707784\ttotal: 4.02s\tremaining: 12.5s\n",
      "243:\tlearn: 0.4706977\ttotal: 4.03s\tremaining: 12.5s\n",
      "244:\tlearn: 0.4706140\ttotal: 4.05s\tremaining: 12.5s\n",
      "245:\tlearn: 0.4705403\ttotal: 4.07s\tremaining: 12.5s\n",
      "246:\tlearn: 0.4705287\ttotal: 4.08s\tremaining: 12.4s\n",
      "247:\tlearn: 0.4705019\ttotal: 4.1s\tremaining: 12.4s\n",
      "248:\tlearn: 0.4704487\ttotal: 4.11s\tremaining: 12.4s\n",
      "249:\tlearn: 0.4704174\ttotal: 4.13s\tremaining: 12.4s\n",
      "250:\tlearn: 0.4703976\ttotal: 4.14s\tremaining: 12.4s\n",
      "251:\tlearn: 0.4703226\ttotal: 4.16s\tremaining: 12.3s\n",
      "252:\tlearn: 0.4702210\ttotal: 4.17s\tremaining: 12.3s\n",
      "253:\tlearn: 0.4701450\ttotal: 4.19s\tremaining: 12.3s\n",
      "254:\tlearn: 0.4701040\ttotal: 4.21s\tremaining: 12.3s\n",
      "255:\tlearn: 0.4699868\ttotal: 4.22s\tremaining: 12.3s\n",
      "256:\tlearn: 0.4699216\ttotal: 4.24s\tremaining: 12.3s\n",
      "257:\tlearn: 0.4698702\ttotal: 4.25s\tremaining: 12.2s\n",
      "258:\tlearn: 0.4698157\ttotal: 4.27s\tremaining: 12.2s\n",
      "259:\tlearn: 0.4697718\ttotal: 4.28s\tremaining: 12.2s\n",
      "260:\tlearn: 0.4696527\ttotal: 4.29s\tremaining: 12.2s\n",
      "261:\tlearn: 0.4695835\ttotal: 4.31s\tremaining: 12.1s\n",
      "262:\tlearn: 0.4695105\ttotal: 4.33s\tremaining: 12.1s\n",
      "263:\tlearn: 0.4694233\ttotal: 4.34s\tremaining: 12.1s\n",
      "264:\tlearn: 0.4693708\ttotal: 4.36s\tremaining: 12.1s\n",
      "265:\tlearn: 0.4692997\ttotal: 4.38s\tremaining: 12.1s\n",
      "266:\tlearn: 0.4692797\ttotal: 4.39s\tremaining: 12.1s\n",
      "267:\tlearn: 0.4692364\ttotal: 4.41s\tremaining: 12s\n",
      "268:\tlearn: 0.4691750\ttotal: 4.42s\tremaining: 12s\n",
      "269:\tlearn: 0.4691259\ttotal: 4.44s\tremaining: 12s\n",
      "270:\tlearn: 0.4690933\ttotal: 4.45s\tremaining: 12s\n",
      "271:\tlearn: 0.4690635\ttotal: 4.47s\tremaining: 12s\n",
      "272:\tlearn: 0.4690148\ttotal: 4.48s\tremaining: 11.9s\n",
      "273:\tlearn: 0.4689365\ttotal: 4.49s\tremaining: 11.9s\n",
      "274:\tlearn: 0.4688821\ttotal: 4.51s\tremaining: 11.9s\n",
      "275:\tlearn: 0.4688166\ttotal: 4.52s\tremaining: 11.9s\n",
      "276:\tlearn: 0.4687781\ttotal: 4.54s\tremaining: 11.8s\n",
      "277:\tlearn: 0.4687323\ttotal: 4.56s\tremaining: 11.8s\n",
      "278:\tlearn: 0.4686918\ttotal: 4.58s\tremaining: 11.8s\n",
      "279:\tlearn: 0.4686075\ttotal: 4.6s\tremaining: 11.8s\n",
      "280:\tlearn: 0.4685619\ttotal: 4.61s\tremaining: 11.8s\n",
      "281:\tlearn: 0.4685293\ttotal: 4.63s\tremaining: 11.8s\n",
      "282:\tlearn: 0.4684503\ttotal: 4.64s\tremaining: 11.8s\n",
      "283:\tlearn: 0.4684018\ttotal: 4.65s\tremaining: 11.7s\n",
      "284:\tlearn: 0.4683050\ttotal: 4.67s\tremaining: 11.7s\n",
      "285:\tlearn: 0.4682666\ttotal: 4.68s\tremaining: 11.7s\n",
      "286:\tlearn: 0.4682009\ttotal: 4.7s\tremaining: 11.7s\n",
      "287:\tlearn: 0.4681613\ttotal: 4.71s\tremaining: 11.7s\n",
      "288:\tlearn: 0.4681104\ttotal: 4.73s\tremaining: 11.6s\n",
      "289:\tlearn: 0.4680737\ttotal: 4.74s\tremaining: 11.6s\n",
      "290:\tlearn: 0.4680460\ttotal: 4.76s\tremaining: 11.6s\n",
      "291:\tlearn: 0.4679922\ttotal: 4.78s\tremaining: 11.6s\n",
      "292:\tlearn: 0.4679411\ttotal: 4.8s\tremaining: 11.6s\n",
      "293:\tlearn: 0.4678967\ttotal: 4.82s\tremaining: 11.6s\n",
      "294:\tlearn: 0.4677896\ttotal: 4.83s\tremaining: 11.5s\n",
      "295:\tlearn: 0.4677311\ttotal: 4.85s\tremaining: 11.5s\n",
      "296:\tlearn: 0.4677033\ttotal: 4.86s\tremaining: 11.5s\n",
      "297:\tlearn: 0.4676602\ttotal: 4.88s\tremaining: 11.5s\n",
      "298:\tlearn: 0.4675767\ttotal: 4.9s\tremaining: 11.5s\n",
      "299:\tlearn: 0.4675328\ttotal: 4.92s\tremaining: 11.5s\n",
      "300:\tlearn: 0.4674429\ttotal: 4.94s\tremaining: 11.5s\n",
      "301:\tlearn: 0.4673848\ttotal: 4.96s\tremaining: 11.5s\n",
      "302:\tlearn: 0.4673186\ttotal: 4.98s\tremaining: 11.5s\n",
      "303:\tlearn: 0.4672745\ttotal: 5s\tremaining: 11.4s\n",
      "304:\tlearn: 0.4672448\ttotal: 5.02s\tremaining: 11.4s\n",
      "305:\tlearn: 0.4671366\ttotal: 5.04s\tremaining: 11.4s\n",
      "306:\tlearn: 0.4671025\ttotal: 5.07s\tremaining: 11.4s\n",
      "307:\tlearn: 0.4670672\ttotal: 5.09s\tremaining: 11.4s\n",
      "308:\tlearn: 0.4669973\ttotal: 5.11s\tremaining: 11.4s\n",
      "309:\tlearn: 0.4669179\ttotal: 5.14s\tremaining: 11.4s\n",
      "310:\tlearn: 0.4668593\ttotal: 5.16s\tremaining: 11.4s\n",
      "311:\tlearn: 0.4667809\ttotal: 5.18s\tremaining: 11.4s\n",
      "312:\tlearn: 0.4667350\ttotal: 5.2s\tremaining: 11.4s\n",
      "313:\tlearn: 0.4667017\ttotal: 5.22s\tremaining: 11.4s\n",
      "314:\tlearn: 0.4666652\ttotal: 5.23s\tremaining: 11.4s\n",
      "315:\tlearn: 0.4666009\ttotal: 5.25s\tremaining: 11.4s\n",
      "316:\tlearn: 0.4665504\ttotal: 5.26s\tremaining: 11.3s\n",
      "317:\tlearn: 0.4665103\ttotal: 5.28s\tremaining: 11.3s\n",
      "318:\tlearn: 0.4664508\ttotal: 5.3s\tremaining: 11.3s\n",
      "319:\tlearn: 0.4664079\ttotal: 5.31s\tremaining: 11.3s\n",
      "320:\tlearn: 0.4663481\ttotal: 5.33s\tremaining: 11.3s\n",
      "321:\tlearn: 0.4663171\ttotal: 5.34s\tremaining: 11.3s\n",
      "322:\tlearn: 0.4662639\ttotal: 5.36s\tremaining: 11.2s\n",
      "323:\tlearn: 0.4662228\ttotal: 5.37s\tremaining: 11.2s\n",
      "324:\tlearn: 0.4661531\ttotal: 5.39s\tremaining: 11.2s\n",
      "325:\tlearn: 0.4661029\ttotal: 5.41s\tremaining: 11.2s\n",
      "326:\tlearn: 0.4660317\ttotal: 5.42s\tremaining: 11.2s\n",
      "327:\tlearn: 0.4659821\ttotal: 5.44s\tremaining: 11.1s\n",
      "328:\tlearn: 0.4659578\ttotal: 5.45s\tremaining: 11.1s\n",
      "329:\tlearn: 0.4658900\ttotal: 5.46s\tremaining: 11.1s\n",
      "330:\tlearn: 0.4658695\ttotal: 5.47s\tremaining: 11.1s\n",
      "331:\tlearn: 0.4657819\ttotal: 5.49s\tremaining: 11s\n",
      "332:\tlearn: 0.4657409\ttotal: 5.5s\tremaining: 11s\n",
      "333:\tlearn: 0.4657185\ttotal: 5.51s\tremaining: 11s\n",
      "334:\tlearn: 0.4656685\ttotal: 5.53s\tremaining: 11s\n",
      "335:\tlearn: 0.4656450\ttotal: 5.54s\tremaining: 10.9s\n",
      "336:\tlearn: 0.4656053\ttotal: 5.55s\tremaining: 10.9s\n",
      "337:\tlearn: 0.4655691\ttotal: 5.56s\tremaining: 10.9s\n",
      "338:\tlearn: 0.4655190\ttotal: 5.58s\tremaining: 10.9s\n",
      "339:\tlearn: 0.4654778\ttotal: 5.59s\tremaining: 10.8s\n",
      "340:\tlearn: 0.4654392\ttotal: 5.6s\tremaining: 10.8s\n",
      "341:\tlearn: 0.4654089\ttotal: 5.62s\tremaining: 10.8s\n",
      "342:\tlearn: 0.4653229\ttotal: 5.63s\tremaining: 10.8s\n",
      "343:\tlearn: 0.4652867\ttotal: 5.65s\tremaining: 10.8s\n",
      "344:\tlearn: 0.4652589\ttotal: 5.66s\tremaining: 10.7s\n",
      "345:\tlearn: 0.4652234\ttotal: 5.67s\tremaining: 10.7s\n",
      "346:\tlearn: 0.4651691\ttotal: 5.69s\tremaining: 10.7s\n",
      "347:\tlearn: 0.4651434\ttotal: 5.7s\tremaining: 10.7s\n",
      "348:\tlearn: 0.4651175\ttotal: 5.71s\tremaining: 10.7s\n",
      "349:\tlearn: 0.4650784\ttotal: 5.72s\tremaining: 10.6s\n",
      "350:\tlearn: 0.4650246\ttotal: 5.73s\tremaining: 10.6s\n",
      "351:\tlearn: 0.4649893\ttotal: 5.74s\tremaining: 10.6s\n",
      "352:\tlearn: 0.4649442\ttotal: 5.76s\tremaining: 10.6s\n",
      "353:\tlearn: 0.4648820\ttotal: 5.77s\tremaining: 10.5s\n",
      "354:\tlearn: 0.4648255\ttotal: 5.78s\tremaining: 10.5s\n",
      "355:\tlearn: 0.4647988\ttotal: 5.79s\tremaining: 10.5s\n",
      "356:\tlearn: 0.4647928\ttotal: 5.81s\tremaining: 10.5s\n",
      "357:\tlearn: 0.4647365\ttotal: 5.82s\tremaining: 10.4s\n",
      "358:\tlearn: 0.4646737\ttotal: 5.84s\tremaining: 10.4s\n",
      "359:\tlearn: 0.4646289\ttotal: 5.85s\tremaining: 10.4s\n",
      "360:\tlearn: 0.4646083\ttotal: 5.87s\tremaining: 10.4s\n",
      "361:\tlearn: 0.4645485\ttotal: 5.88s\tremaining: 10.4s\n",
      "362:\tlearn: 0.4644911\ttotal: 5.9s\tremaining: 10.3s\n",
      "363:\tlearn: 0.4644462\ttotal: 5.91s\tremaining: 10.3s\n",
      "364:\tlearn: 0.4643807\ttotal: 5.93s\tremaining: 10.3s\n",
      "365:\tlearn: 0.4643300\ttotal: 5.94s\tremaining: 10.3s\n",
      "366:\tlearn: 0.4642958\ttotal: 5.95s\tremaining: 10.3s\n",
      "367:\tlearn: 0.4642554\ttotal: 5.97s\tremaining: 10.3s\n",
      "368:\tlearn: 0.4642249\ttotal: 5.99s\tremaining: 10.2s\n",
      "369:\tlearn: 0.4641878\ttotal: 6s\tremaining: 10.2s\n",
      "370:\tlearn: 0.4641132\ttotal: 6.01s\tremaining: 10.2s\n",
      "371:\tlearn: 0.4640689\ttotal: 6.03s\tremaining: 10.2s\n",
      "372:\tlearn: 0.4640223\ttotal: 6.05s\tremaining: 10.2s\n",
      "373:\tlearn: 0.4639585\ttotal: 6.07s\tremaining: 10.2s\n",
      "374:\tlearn: 0.4639176\ttotal: 6.08s\tremaining: 10.1s\n",
      "375:\tlearn: 0.4638778\ttotal: 6.1s\tremaining: 10.1s\n",
      "376:\tlearn: 0.4638586\ttotal: 6.11s\tremaining: 10.1s\n",
      "377:\tlearn: 0.4638116\ttotal: 6.12s\tremaining: 10.1s\n",
      "378:\tlearn: 0.4637614\ttotal: 6.14s\tremaining: 10.1s\n",
      "379:\tlearn: 0.4636900\ttotal: 6.15s\tremaining: 10s\n",
      "380:\tlearn: 0.4636492\ttotal: 6.16s\tremaining: 10s\n",
      "381:\tlearn: 0.4636044\ttotal: 6.17s\tremaining: 9.99s\n",
      "382:\tlearn: 0.4635734\ttotal: 6.19s\tremaining: 9.97s\n",
      "383:\tlearn: 0.4635491\ttotal: 6.21s\tremaining: 9.95s\n",
      "384:\tlearn: 0.4635161\ttotal: 6.23s\tremaining: 9.95s\n",
      "385:\tlearn: 0.4634992\ttotal: 6.25s\tremaining: 9.94s\n",
      "386:\tlearn: 0.4634287\ttotal: 6.26s\tremaining: 9.92s\n",
      "387:\tlearn: 0.4634127\ttotal: 6.27s\tremaining: 9.89s\n",
      "388:\tlearn: 0.4633894\ttotal: 6.29s\tremaining: 9.87s\n",
      "389:\tlearn: 0.4633695\ttotal: 6.3s\tremaining: 9.85s\n",
      "390:\tlearn: 0.4633392\ttotal: 6.32s\tremaining: 9.84s\n",
      "391:\tlearn: 0.4633170\ttotal: 6.33s\tremaining: 9.81s\n",
      "392:\tlearn: 0.4632725\ttotal: 6.34s\tremaining: 9.8s\n",
      "393:\tlearn: 0.4632027\ttotal: 6.36s\tremaining: 9.78s\n",
      "394:\tlearn: 0.4631688\ttotal: 6.37s\tremaining: 9.75s\n",
      "395:\tlearn: 0.4631321\ttotal: 6.38s\tremaining: 9.73s\n",
      "396:\tlearn: 0.4631003\ttotal: 6.39s\tremaining: 9.71s\n",
      "397:\tlearn: 0.4630660\ttotal: 6.41s\tremaining: 9.69s\n",
      "398:\tlearn: 0.4630382\ttotal: 6.42s\tremaining: 9.67s\n",
      "399:\tlearn: 0.4629584\ttotal: 6.44s\tremaining: 9.66s\n",
      "400:\tlearn: 0.4628904\ttotal: 6.45s\tremaining: 9.64s\n",
      "401:\tlearn: 0.4628270\ttotal: 6.47s\tremaining: 9.62s\n",
      "402:\tlearn: 0.4627885\ttotal: 6.48s\tremaining: 9.6s\n",
      "403:\tlearn: 0.4627328\ttotal: 6.5s\tremaining: 9.58s\n",
      "404:\tlearn: 0.4626922\ttotal: 6.51s\tremaining: 9.56s\n",
      "405:\tlearn: 0.4626566\ttotal: 6.52s\tremaining: 9.54s\n",
      "406:\tlearn: 0.4626156\ttotal: 6.53s\tremaining: 9.51s\n",
      "407:\tlearn: 0.4625779\ttotal: 6.54s\tremaining: 9.49s\n",
      "408:\tlearn: 0.4625200\ttotal: 6.55s\tremaining: 9.47s\n",
      "409:\tlearn: 0.4624784\ttotal: 6.57s\tremaining: 9.45s\n",
      "410:\tlearn: 0.4624554\ttotal: 6.58s\tremaining: 9.43s\n",
      "411:\tlearn: 0.4624278\ttotal: 6.59s\tremaining: 9.41s\n",
      "412:\tlearn: 0.4623697\ttotal: 6.6s\tremaining: 9.39s\n",
      "413:\tlearn: 0.4623540\ttotal: 6.62s\tremaining: 9.37s\n",
      "414:\tlearn: 0.4622984\ttotal: 6.63s\tremaining: 9.35s\n",
      "415:\tlearn: 0.4622774\ttotal: 6.64s\tremaining: 9.32s\n",
      "416:\tlearn: 0.4622513\ttotal: 6.67s\tremaining: 9.32s\n",
      "417:\tlearn: 0.4622333\ttotal: 6.68s\tremaining: 9.3s\n",
      "418:\tlearn: 0.4621972\ttotal: 6.7s\tremaining: 9.29s\n",
      "419:\tlearn: 0.4621740\ttotal: 6.71s\tremaining: 9.27s\n",
      "420:\tlearn: 0.4621433\ttotal: 6.73s\tremaining: 9.26s\n",
      "421:\tlearn: 0.4621239\ttotal: 6.74s\tremaining: 9.24s\n",
      "422:\tlearn: 0.4620731\ttotal: 6.76s\tremaining: 9.22s\n",
      "423:\tlearn: 0.4620458\ttotal: 6.78s\tremaining: 9.21s\n",
      "424:\tlearn: 0.4620179\ttotal: 6.79s\tremaining: 9.19s\n",
      "425:\tlearn: 0.4619595\ttotal: 6.81s\tremaining: 9.17s\n",
      "426:\tlearn: 0.4619283\ttotal: 6.82s\tremaining: 9.16s\n",
      "427:\tlearn: 0.4618934\ttotal: 6.84s\tremaining: 9.14s\n",
      "428:\tlearn: 0.4618506\ttotal: 6.85s\tremaining: 9.12s\n",
      "429:\tlearn: 0.4617942\ttotal: 6.87s\tremaining: 9.11s\n",
      "430:\tlearn: 0.4617484\ttotal: 6.88s\tremaining: 9.09s\n",
      "431:\tlearn: 0.4617263\ttotal: 6.9s\tremaining: 9.07s\n",
      "432:\tlearn: 0.4616732\ttotal: 6.91s\tremaining: 9.05s\n",
      "433:\tlearn: 0.4616534\ttotal: 6.92s\tremaining: 9.03s\n",
      "434:\tlearn: 0.4616128\ttotal: 6.93s\tremaining: 9.01s\n",
      "435:\tlearn: 0.4615926\ttotal: 6.95s\tremaining: 8.99s\n",
      "436:\tlearn: 0.4615547\ttotal: 6.97s\tremaining: 8.98s\n",
      "437:\tlearn: 0.4615105\ttotal: 6.99s\tremaining: 8.96s\n",
      "438:\tlearn: 0.4614798\ttotal: 7s\tremaining: 8.95s\n",
      "439:\tlearn: 0.4614722\ttotal: 7.01s\tremaining: 8.93s\n",
      "440:\tlearn: 0.4614243\ttotal: 7.03s\tremaining: 8.91s\n",
      "441:\tlearn: 0.4613584\ttotal: 7.05s\tremaining: 8.91s\n",
      "442:\tlearn: 0.4613170\ttotal: 7.08s\tremaining: 8.9s\n",
      "443:\tlearn: 0.4612747\ttotal: 7.1s\tremaining: 8.9s\n",
      "444:\tlearn: 0.4612603\ttotal: 7.12s\tremaining: 8.88s\n",
      "445:\tlearn: 0.4612287\ttotal: 7.15s\tremaining: 8.88s\n",
      "446:\tlearn: 0.4611947\ttotal: 7.17s\tremaining: 8.87s\n",
      "447:\tlearn: 0.4611653\ttotal: 7.19s\tremaining: 8.86s\n",
      "448:\tlearn: 0.4611425\ttotal: 7.21s\tremaining: 8.85s\n",
      "449:\tlearn: 0.4610782\ttotal: 7.23s\tremaining: 8.84s\n",
      "450:\tlearn: 0.4610255\ttotal: 7.25s\tremaining: 8.83s\n",
      "451:\tlearn: 0.4609953\ttotal: 7.28s\tremaining: 8.82s\n",
      "452:\tlearn: 0.4609707\ttotal: 7.3s\tremaining: 8.81s\n",
      "453:\tlearn: 0.4609352\ttotal: 7.33s\tremaining: 8.81s\n",
      "454:\tlearn: 0.4609147\ttotal: 7.36s\tremaining: 8.81s\n",
      "455:\tlearn: 0.4609012\ttotal: 7.38s\tremaining: 8.8s\n",
      "456:\tlearn: 0.4608774\ttotal: 7.39s\tremaining: 8.79s\n",
      "457:\tlearn: 0.4608166\ttotal: 7.42s\tremaining: 8.78s\n",
      "458:\tlearn: 0.4607390\ttotal: 7.44s\tremaining: 8.77s\n",
      "459:\tlearn: 0.4607036\ttotal: 7.46s\tremaining: 8.75s\n",
      "460:\tlearn: 0.4606505\ttotal: 7.48s\tremaining: 8.75s\n",
      "461:\tlearn: 0.4606167\ttotal: 7.51s\tremaining: 8.74s\n",
      "462:\tlearn: 0.4605707\ttotal: 7.53s\tremaining: 8.74s\n",
      "463:\tlearn: 0.4605522\ttotal: 7.55s\tremaining: 8.73s\n",
      "464:\tlearn: 0.4605148\ttotal: 7.57s\tremaining: 8.71s\n",
      "465:\tlearn: 0.4604718\ttotal: 7.59s\tremaining: 8.7s\n",
      "466:\tlearn: 0.4604430\ttotal: 7.61s\tremaining: 8.68s\n",
      "467:\tlearn: 0.4604203\ttotal: 7.62s\tremaining: 8.66s\n",
      "468:\tlearn: 0.4603970\ttotal: 7.64s\tremaining: 8.65s\n",
      "469:\tlearn: 0.4603858\ttotal: 7.65s\tremaining: 8.63s\n",
      "470:\tlearn: 0.4603617\ttotal: 7.66s\tremaining: 8.61s\n",
      "471:\tlearn: 0.4603326\ttotal: 7.67s\tremaining: 8.59s\n",
      "472:\tlearn: 0.4602776\ttotal: 7.69s\tremaining: 8.57s\n",
      "473:\tlearn: 0.4602498\ttotal: 7.71s\tremaining: 8.56s\n",
      "474:\tlearn: 0.4602344\ttotal: 7.72s\tremaining: 8.54s\n",
      "475:\tlearn: 0.4602085\ttotal: 7.74s\tremaining: 8.52s\n",
      "476:\tlearn: 0.4601807\ttotal: 7.76s\tremaining: 8.51s\n",
      "477:\tlearn: 0.4601443\ttotal: 7.77s\tremaining: 8.49s\n",
      "478:\tlearn: 0.4601013\ttotal: 7.79s\tremaining: 8.47s\n",
      "479:\tlearn: 0.4600862\ttotal: 7.81s\tremaining: 8.46s\n",
      "480:\tlearn: 0.4600467\ttotal: 7.82s\tremaining: 8.44s\n",
      "481:\tlearn: 0.4600197\ttotal: 7.84s\tremaining: 8.42s\n",
      "482:\tlearn: 0.4599921\ttotal: 7.85s\tremaining: 8.4s\n",
      "483:\tlearn: 0.4599506\ttotal: 7.87s\tremaining: 8.39s\n",
      "484:\tlearn: 0.4599274\ttotal: 7.89s\tremaining: 8.37s\n",
      "485:\tlearn: 0.4598847\ttotal: 7.9s\tremaining: 8.36s\n",
      "486:\tlearn: 0.4598421\ttotal: 7.93s\tremaining: 8.35s\n",
      "487:\tlearn: 0.4598047\ttotal: 7.94s\tremaining: 8.33s\n",
      "488:\tlearn: 0.4597841\ttotal: 7.96s\tremaining: 8.31s\n",
      "489:\tlearn: 0.4597727\ttotal: 7.97s\tremaining: 8.3s\n",
      "490:\tlearn: 0.4597245\ttotal: 7.99s\tremaining: 8.28s\n",
      "491:\tlearn: 0.4596802\ttotal: 8.01s\tremaining: 8.27s\n",
      "492:\tlearn: 0.4596646\ttotal: 8.02s\tremaining: 8.25s\n",
      "493:\tlearn: 0.4596418\ttotal: 8.03s\tremaining: 8.23s\n",
      "494:\tlearn: 0.4596100\ttotal: 8.05s\tremaining: 8.21s\n",
      "495:\tlearn: 0.4595709\ttotal: 8.06s\tremaining: 8.19s\n",
      "496:\tlearn: 0.4595302\ttotal: 8.07s\tremaining: 8.17s\n",
      "497:\tlearn: 0.4595181\ttotal: 8.09s\tremaining: 8.16s\n",
      "498:\tlearn: 0.4594937\ttotal: 8.11s\tremaining: 8.15s\n",
      "499:\tlearn: 0.4594800\ttotal: 8.13s\tremaining: 8.13s\n",
      "500:\tlearn: 0.4594456\ttotal: 8.15s\tremaining: 8.12s\n",
      "501:\tlearn: 0.4594071\ttotal: 8.17s\tremaining: 8.11s\n",
      "502:\tlearn: 0.4593809\ttotal: 8.19s\tremaining: 8.09s\n",
      "503:\tlearn: 0.4593414\ttotal: 8.2s\tremaining: 8.07s\n",
      "504:\tlearn: 0.4593103\ttotal: 8.22s\tremaining: 8.05s\n",
      "505:\tlearn: 0.4592918\ttotal: 8.23s\tremaining: 8.03s\n",
      "506:\tlearn: 0.4592674\ttotal: 8.24s\tremaining: 8.02s\n",
      "507:\tlearn: 0.4592423\ttotal: 8.26s\tremaining: 8s\n",
      "508:\tlearn: 0.4591913\ttotal: 8.27s\tremaining: 7.98s\n",
      "509:\tlearn: 0.4591363\ttotal: 8.28s\tremaining: 7.96s\n",
      "510:\tlearn: 0.4591250\ttotal: 8.29s\tremaining: 7.93s\n",
      "511:\tlearn: 0.4590851\ttotal: 8.3s\tremaining: 7.91s\n",
      "512:\tlearn: 0.4590611\ttotal: 8.31s\tremaining: 7.89s\n",
      "513:\tlearn: 0.4590328\ttotal: 8.34s\tremaining: 7.88s\n",
      "514:\tlearn: 0.4589973\ttotal: 8.36s\tremaining: 7.87s\n",
      "515:\tlearn: 0.4589417\ttotal: 8.37s\tremaining: 7.85s\n",
      "516:\tlearn: 0.4589158\ttotal: 8.39s\tremaining: 7.84s\n",
      "517:\tlearn: 0.4588975\ttotal: 8.4s\tremaining: 7.82s\n",
      "518:\tlearn: 0.4588698\ttotal: 8.42s\tremaining: 7.8s\n",
      "519:\tlearn: 0.4588433\ttotal: 8.43s\tremaining: 7.78s\n",
      "520:\tlearn: 0.4588191\ttotal: 8.45s\tremaining: 7.76s\n",
      "521:\tlearn: 0.4587955\ttotal: 8.46s\tremaining: 7.75s\n",
      "522:\tlearn: 0.4587499\ttotal: 8.48s\tremaining: 7.73s\n",
      "523:\tlearn: 0.4587410\ttotal: 8.49s\tremaining: 7.71s\n",
      "524:\tlearn: 0.4587104\ttotal: 8.51s\tremaining: 7.7s\n",
      "525:\tlearn: 0.4586737\ttotal: 8.52s\tremaining: 7.68s\n",
      "526:\tlearn: 0.4586564\ttotal: 8.54s\tremaining: 7.67s\n",
      "527:\tlearn: 0.4586036\ttotal: 8.56s\tremaining: 7.65s\n",
      "528:\tlearn: 0.4585664\ttotal: 8.57s\tremaining: 7.63s\n",
      "529:\tlearn: 0.4585309\ttotal: 8.59s\tremaining: 7.62s\n",
      "530:\tlearn: 0.4584924\ttotal: 8.61s\tremaining: 7.6s\n",
      "531:\tlearn: 0.4584634\ttotal: 8.62s\tremaining: 7.58s\n",
      "532:\tlearn: 0.4584492\ttotal: 8.64s\tremaining: 7.57s\n",
      "533:\tlearn: 0.4584352\ttotal: 8.65s\tremaining: 7.55s\n",
      "534:\tlearn: 0.4583973\ttotal: 8.67s\tremaining: 7.53s\n",
      "535:\tlearn: 0.4583353\ttotal: 8.68s\tremaining: 7.52s\n",
      "536:\tlearn: 0.4582933\ttotal: 8.7s\tremaining: 7.5s\n",
      "537:\tlearn: 0.4582444\ttotal: 8.72s\tremaining: 7.48s\n",
      "538:\tlearn: 0.4582086\ttotal: 8.74s\tremaining: 7.47s\n",
      "539:\tlearn: 0.4581749\ttotal: 8.76s\tremaining: 7.46s\n",
      "540:\tlearn: 0.4581419\ttotal: 8.77s\tremaining: 7.44s\n",
      "541:\tlearn: 0.4581059\ttotal: 8.79s\tremaining: 7.42s\n",
      "542:\tlearn: 0.4580720\ttotal: 8.8s\tremaining: 7.41s\n",
      "543:\tlearn: 0.4580517\ttotal: 8.82s\tremaining: 7.39s\n",
      "544:\tlearn: 0.4580279\ttotal: 8.84s\tremaining: 7.38s\n",
      "545:\tlearn: 0.4580010\ttotal: 8.85s\tremaining: 7.36s\n",
      "546:\tlearn: 0.4579759\ttotal: 8.87s\tremaining: 7.35s\n",
      "547:\tlearn: 0.4579566\ttotal: 8.89s\tremaining: 7.33s\n",
      "548:\tlearn: 0.4579240\ttotal: 8.9s\tremaining: 7.31s\n",
      "549:\tlearn: 0.4578810\ttotal: 8.91s\tremaining: 7.29s\n",
      "550:\tlearn: 0.4578503\ttotal: 8.93s\tremaining: 7.28s\n",
      "551:\tlearn: 0.4578010\ttotal: 8.94s\tremaining: 7.26s\n",
      "552:\tlearn: 0.4577607\ttotal: 8.96s\tremaining: 7.25s\n",
      "553:\tlearn: 0.4577503\ttotal: 8.98s\tremaining: 7.23s\n",
      "554:\tlearn: 0.4577314\ttotal: 9s\tremaining: 7.21s\n",
      "555:\tlearn: 0.4576962\ttotal: 9.01s\tremaining: 7.2s\n",
      "556:\tlearn: 0.4576651\ttotal: 9.03s\tremaining: 7.18s\n",
      "557:\tlearn: 0.4576397\ttotal: 9.04s\tremaining: 7.16s\n",
      "558:\tlearn: 0.4576234\ttotal: 9.05s\tremaining: 7.14s\n",
      "559:\tlearn: 0.4576048\ttotal: 9.06s\tremaining: 7.12s\n",
      "560:\tlearn: 0.4575372\ttotal: 9.08s\tremaining: 7.11s\n",
      "561:\tlearn: 0.4575199\ttotal: 9.09s\tremaining: 7.08s\n",
      "562:\tlearn: 0.4574780\ttotal: 9.1s\tremaining: 7.07s\n",
      "563:\tlearn: 0.4574519\ttotal: 9.11s\tremaining: 7.04s\n",
      "564:\tlearn: 0.4574054\ttotal: 9.13s\tremaining: 7.03s\n",
      "565:\tlearn: 0.4573670\ttotal: 9.14s\tremaining: 7.01s\n",
      "566:\tlearn: 0.4573320\ttotal: 9.16s\tremaining: 7s\n",
      "567:\tlearn: 0.4573091\ttotal: 9.18s\tremaining: 6.99s\n",
      "568:\tlearn: 0.4572613\ttotal: 9.2s\tremaining: 6.97s\n",
      "569:\tlearn: 0.4572130\ttotal: 9.22s\tremaining: 6.95s\n",
      "570:\tlearn: 0.4571849\ttotal: 9.23s\tremaining: 6.94s\n",
      "571:\tlearn: 0.4571281\ttotal: 9.25s\tremaining: 6.92s\n",
      "572:\tlearn: 0.4570820\ttotal: 9.26s\tremaining: 6.9s\n",
      "573:\tlearn: 0.4570694\ttotal: 9.28s\tremaining: 6.88s\n",
      "574:\tlearn: 0.4570469\ttotal: 9.29s\tremaining: 6.87s\n",
      "575:\tlearn: 0.4570272\ttotal: 9.3s\tremaining: 6.85s\n",
      "576:\tlearn: 0.4569887\ttotal: 9.32s\tremaining: 6.83s\n",
      "577:\tlearn: 0.4569648\ttotal: 9.34s\tremaining: 6.82s\n",
      "578:\tlearn: 0.4569472\ttotal: 9.35s\tremaining: 6.8s\n",
      "579:\tlearn: 0.4569354\ttotal: 9.37s\tremaining: 6.79s\n",
      "580:\tlearn: 0.4568920\ttotal: 9.38s\tremaining: 6.77s\n",
      "581:\tlearn: 0.4568861\ttotal: 9.4s\tremaining: 6.75s\n",
      "582:\tlearn: 0.4568408\ttotal: 9.41s\tremaining: 6.73s\n",
      "583:\tlearn: 0.4568261\ttotal: 9.43s\tremaining: 6.71s\n",
      "584:\tlearn: 0.4567787\ttotal: 9.44s\tremaining: 6.7s\n",
      "585:\tlearn: 0.4567687\ttotal: 9.46s\tremaining: 6.68s\n",
      "586:\tlearn: 0.4567335\ttotal: 9.48s\tremaining: 6.67s\n",
      "587:\tlearn: 0.4567094\ttotal: 9.49s\tremaining: 6.65s\n",
      "588:\tlearn: 0.4566881\ttotal: 9.51s\tremaining: 6.64s\n",
      "589:\tlearn: 0.4566438\ttotal: 9.53s\tremaining: 6.62s\n",
      "590:\tlearn: 0.4566107\ttotal: 9.55s\tremaining: 6.61s\n",
      "591:\tlearn: 0.4565983\ttotal: 9.56s\tremaining: 6.59s\n",
      "592:\tlearn: 0.4565803\ttotal: 9.58s\tremaining: 6.57s\n",
      "593:\tlearn: 0.4565574\ttotal: 9.6s\tremaining: 6.56s\n",
      "594:\tlearn: 0.4565161\ttotal: 9.62s\tremaining: 6.54s\n",
      "595:\tlearn: 0.4564866\ttotal: 9.63s\tremaining: 6.53s\n",
      "596:\tlearn: 0.4564619\ttotal: 9.65s\tremaining: 6.51s\n",
      "597:\tlearn: 0.4564331\ttotal: 9.66s\tremaining: 6.5s\n",
      "598:\tlearn: 0.4564215\ttotal: 9.68s\tremaining: 6.48s\n",
      "599:\tlearn: 0.4564126\ttotal: 9.69s\tremaining: 6.46s\n",
      "600:\tlearn: 0.4563945\ttotal: 9.7s\tremaining: 6.44s\n",
      "601:\tlearn: 0.4563645\ttotal: 9.71s\tremaining: 6.42s\n",
      "602:\tlearn: 0.4563391\ttotal: 9.72s\tremaining: 6.4s\n",
      "603:\tlearn: 0.4563071\ttotal: 9.74s\tremaining: 6.38s\n",
      "604:\tlearn: 0.4562832\ttotal: 9.75s\tremaining: 6.37s\n",
      "605:\tlearn: 0.4562455\ttotal: 9.77s\tremaining: 6.35s\n",
      "606:\tlearn: 0.4562237\ttotal: 9.79s\tremaining: 6.34s\n",
      "607:\tlearn: 0.4561829\ttotal: 9.8s\tremaining: 6.32s\n",
      "608:\tlearn: 0.4561655\ttotal: 9.83s\tremaining: 6.31s\n",
      "609:\tlearn: 0.4561483\ttotal: 9.84s\tremaining: 6.29s\n",
      "610:\tlearn: 0.4561224\ttotal: 9.85s\tremaining: 6.27s\n",
      "611:\tlearn: 0.4561044\ttotal: 9.87s\tremaining: 6.26s\n",
      "612:\tlearn: 0.4560900\ttotal: 9.88s\tremaining: 6.24s\n",
      "613:\tlearn: 0.4560581\ttotal: 9.9s\tremaining: 6.22s\n",
      "614:\tlearn: 0.4560290\ttotal: 9.91s\tremaining: 6.2s\n",
      "615:\tlearn: 0.4560171\ttotal: 9.92s\tremaining: 6.18s\n",
      "616:\tlearn: 0.4560009\ttotal: 9.93s\tremaining: 6.17s\n",
      "617:\tlearn: 0.4559751\ttotal: 9.95s\tremaining: 6.15s\n",
      "618:\tlearn: 0.4559479\ttotal: 9.96s\tremaining: 6.13s\n",
      "619:\tlearn: 0.4559222\ttotal: 9.97s\tremaining: 6.11s\n",
      "620:\tlearn: 0.4558878\ttotal: 9.99s\tremaining: 6.1s\n",
      "621:\tlearn: 0.4558691\ttotal: 10s\tremaining: 6.08s\n",
      "622:\tlearn: 0.4558461\ttotal: 10s\tremaining: 6.07s\n",
      "623:\tlearn: 0.4558326\ttotal: 10s\tremaining: 6.05s\n",
      "624:\tlearn: 0.4558042\ttotal: 10.1s\tremaining: 6.03s\n",
      "625:\tlearn: 0.4557794\ttotal: 10.1s\tremaining: 6.02s\n",
      "626:\tlearn: 0.4557495\ttotal: 10.1s\tremaining: 6s\n",
      "627:\tlearn: 0.4557292\ttotal: 10.1s\tremaining: 5.99s\n",
      "628:\tlearn: 0.4557189\ttotal: 10.1s\tremaining: 5.98s\n",
      "629:\tlearn: 0.4556808\ttotal: 10.2s\tremaining: 5.97s\n",
      "630:\tlearn: 0.4556716\ttotal: 10.2s\tremaining: 5.95s\n",
      "631:\tlearn: 0.4556600\ttotal: 10.2s\tremaining: 5.94s\n",
      "632:\tlearn: 0.4556355\ttotal: 10.2s\tremaining: 5.92s\n",
      "633:\tlearn: 0.4556188\ttotal: 10.2s\tremaining: 5.91s\n",
      "634:\tlearn: 0.4555835\ttotal: 10.3s\tremaining: 5.9s\n",
      "635:\tlearn: 0.4555256\ttotal: 10.3s\tremaining: 5.89s\n",
      "636:\tlearn: 0.4554935\ttotal: 10.3s\tremaining: 5.88s\n",
      "637:\tlearn: 0.4554831\ttotal: 10.3s\tremaining: 5.86s\n",
      "638:\tlearn: 0.4554732\ttotal: 10.3s\tremaining: 5.85s\n",
      "639:\tlearn: 0.4554422\ttotal: 10.4s\tremaining: 5.83s\n",
      "640:\tlearn: 0.4554177\ttotal: 10.4s\tremaining: 5.81s\n",
      "641:\tlearn: 0.4553659\ttotal: 10.4s\tremaining: 5.8s\n",
      "642:\tlearn: 0.4553443\ttotal: 10.4s\tremaining: 5.78s\n",
      "643:\tlearn: 0.4553148\ttotal: 10.4s\tremaining: 5.77s\n",
      "644:\tlearn: 0.4552742\ttotal: 10.5s\tremaining: 5.75s\n",
      "645:\tlearn: 0.4552661\ttotal: 10.5s\tremaining: 5.74s\n",
      "646:\tlearn: 0.4552568\ttotal: 10.5s\tremaining: 5.72s\n",
      "647:\tlearn: 0.4552245\ttotal: 10.5s\tremaining: 5.7s\n",
      "648:\tlearn: 0.4552034\ttotal: 10.5s\tremaining: 5.68s\n",
      "649:\tlearn: 0.4551871\ttotal: 10.5s\tremaining: 5.67s\n",
      "650:\tlearn: 0.4551588\ttotal: 10.5s\tremaining: 5.65s\n",
      "651:\tlearn: 0.4551324\ttotal: 10.6s\tremaining: 5.63s\n",
      "652:\tlearn: 0.4551083\ttotal: 10.6s\tremaining: 5.62s\n",
      "653:\tlearn: 0.4550818\ttotal: 10.6s\tremaining: 5.6s\n",
      "654:\tlearn: 0.4550403\ttotal: 10.6s\tremaining: 5.58s\n",
      "655:\tlearn: 0.4549837\ttotal: 10.6s\tremaining: 5.57s\n",
      "656:\tlearn: 0.4549661\ttotal: 10.6s\tremaining: 5.55s\n",
      "657:\tlearn: 0.4549439\ttotal: 10.7s\tremaining: 5.54s\n",
      "658:\tlearn: 0.4549269\ttotal: 10.7s\tremaining: 5.52s\n",
      "659:\tlearn: 0.4548766\ttotal: 10.7s\tremaining: 5.5s\n",
      "660:\tlearn: 0.4548275\ttotal: 10.7s\tremaining: 5.49s\n",
      "661:\tlearn: 0.4548105\ttotal: 10.7s\tremaining: 5.47s\n",
      "662:\tlearn: 0.4547972\ttotal: 10.7s\tremaining: 5.45s\n",
      "663:\tlearn: 0.4547637\ttotal: 10.7s\tremaining: 5.44s\n",
      "664:\tlearn: 0.4547499\ttotal: 10.8s\tremaining: 5.42s\n",
      "665:\tlearn: 0.4547399\ttotal: 10.8s\tremaining: 5.4s\n",
      "666:\tlearn: 0.4546991\ttotal: 10.8s\tremaining: 5.39s\n",
      "667:\tlearn: 0.4546641\ttotal: 10.8s\tremaining: 5.37s\n",
      "668:\tlearn: 0.4546434\ttotal: 10.8s\tremaining: 5.36s\n",
      "669:\tlearn: 0.4546175\ttotal: 10.8s\tremaining: 5.34s\n",
      "670:\tlearn: 0.4545962\ttotal: 10.9s\tremaining: 5.32s\n",
      "671:\tlearn: 0.4545548\ttotal: 10.9s\tremaining: 5.31s\n",
      "672:\tlearn: 0.4545334\ttotal: 10.9s\tremaining: 5.29s\n",
      "673:\tlearn: 0.4545177\ttotal: 10.9s\tremaining: 5.27s\n",
      "674:\tlearn: 0.4545065\ttotal: 10.9s\tremaining: 5.25s\n",
      "675:\tlearn: 0.4544725\ttotal: 10.9s\tremaining: 5.24s\n",
      "676:\tlearn: 0.4544545\ttotal: 10.9s\tremaining: 5.22s\n",
      "677:\tlearn: 0.4544288\ttotal: 11s\tremaining: 5.2s\n",
      "678:\tlearn: 0.4544149\ttotal: 11s\tremaining: 5.18s\n",
      "679:\tlearn: 0.4543989\ttotal: 11s\tremaining: 5.16s\n",
      "680:\tlearn: 0.4543702\ttotal: 11s\tremaining: 5.15s\n",
      "681:\tlearn: 0.4543488\ttotal: 11s\tremaining: 5.13s\n",
      "682:\tlearn: 0.4543261\ttotal: 11s\tremaining: 5.12s\n",
      "683:\tlearn: 0.4543225\ttotal: 11s\tremaining: 5.1s\n",
      "684:\tlearn: 0.4542900\ttotal: 11.1s\tremaining: 5.09s\n",
      "685:\tlearn: 0.4542751\ttotal: 11.1s\tremaining: 5.07s\n",
      "686:\tlearn: 0.4542511\ttotal: 11.1s\tremaining: 5.06s\n",
      "687:\tlearn: 0.4542123\ttotal: 11.1s\tremaining: 5.04s\n",
      "688:\tlearn: 0.4541965\ttotal: 11.1s\tremaining: 5.03s\n",
      "689:\tlearn: 0.4541612\ttotal: 11.2s\tremaining: 5.02s\n",
      "690:\tlearn: 0.4541443\ttotal: 11.2s\tremaining: 5s\n",
      "691:\tlearn: 0.4541290\ttotal: 11.2s\tremaining: 4.99s\n",
      "692:\tlearn: 0.4540954\ttotal: 11.2s\tremaining: 4.97s\n",
      "693:\tlearn: 0.4540824\ttotal: 11.2s\tremaining: 4.96s\n",
      "694:\tlearn: 0.4540733\ttotal: 11.3s\tremaining: 4.94s\n",
      "695:\tlearn: 0.4540597\ttotal: 11.3s\tremaining: 4.92s\n",
      "696:\tlearn: 0.4540376\ttotal: 11.3s\tremaining: 4.9s\n",
      "697:\tlearn: 0.4540141\ttotal: 11.3s\tremaining: 4.89s\n",
      "698:\tlearn: 0.4539893\ttotal: 11.3s\tremaining: 4.87s\n",
      "699:\tlearn: 0.4539617\ttotal: 11.3s\tremaining: 4.86s\n",
      "700:\tlearn: 0.4539145\ttotal: 11.3s\tremaining: 4.84s\n",
      "701:\tlearn: 0.4538998\ttotal: 11.4s\tremaining: 4.82s\n",
      "702:\tlearn: 0.4538601\ttotal: 11.4s\tremaining: 4.8s\n",
      "703:\tlearn: 0.4538350\ttotal: 11.4s\tremaining: 4.79s\n",
      "704:\tlearn: 0.4538267\ttotal: 11.4s\tremaining: 4.77s\n",
      "705:\tlearn: 0.4537921\ttotal: 11.4s\tremaining: 4.75s\n",
      "706:\tlearn: 0.4537702\ttotal: 11.4s\tremaining: 4.74s\n",
      "707:\tlearn: 0.4537643\ttotal: 11.5s\tremaining: 4.72s\n",
      "708:\tlearn: 0.4537280\ttotal: 11.5s\tremaining: 4.71s\n",
      "709:\tlearn: 0.4536953\ttotal: 11.5s\tremaining: 4.69s\n",
      "710:\tlearn: 0.4536734\ttotal: 11.5s\tremaining: 4.67s\n",
      "711:\tlearn: 0.4536416\ttotal: 11.5s\tremaining: 4.66s\n",
      "712:\tlearn: 0.4536144\ttotal: 11.5s\tremaining: 4.64s\n",
      "713:\tlearn: 0.4535772\ttotal: 11.5s\tremaining: 4.62s\n",
      "714:\tlearn: 0.4535684\ttotal: 11.6s\tremaining: 4.6s\n",
      "715:\tlearn: 0.4535540\ttotal: 11.6s\tremaining: 4.59s\n",
      "716:\tlearn: 0.4535398\ttotal: 11.6s\tremaining: 4.57s\n",
      "717:\tlearn: 0.4535119\ttotal: 11.6s\tremaining: 4.56s\n",
      "718:\tlearn: 0.4534816\ttotal: 11.6s\tremaining: 4.54s\n",
      "719:\tlearn: 0.4534720\ttotal: 11.6s\tremaining: 4.53s\n",
      "720:\tlearn: 0.4534408\ttotal: 11.7s\tremaining: 4.51s\n",
      "721:\tlearn: 0.4534236\ttotal: 11.7s\tremaining: 4.5s\n",
      "722:\tlearn: 0.4534081\ttotal: 11.7s\tremaining: 4.48s\n",
      "723:\tlearn: 0.4534055\ttotal: 11.7s\tremaining: 4.47s\n",
      "724:\tlearn: 0.4533971\ttotal: 11.7s\tremaining: 4.45s\n",
      "725:\tlearn: 0.4533843\ttotal: 11.8s\tremaining: 4.44s\n",
      "726:\tlearn: 0.4533542\ttotal: 11.8s\tremaining: 4.42s\n",
      "727:\tlearn: 0.4533372\ttotal: 11.8s\tremaining: 4.4s\n",
      "728:\tlearn: 0.4532854\ttotal: 11.8s\tremaining: 4.39s\n",
      "729:\tlearn: 0.4532784\ttotal: 11.8s\tremaining: 4.38s\n",
      "730:\tlearn: 0.4532620\ttotal: 11.9s\tremaining: 4.36s\n",
      "731:\tlearn: 0.4532501\ttotal: 11.9s\tremaining: 4.35s\n",
      "732:\tlearn: 0.4532069\ttotal: 11.9s\tremaining: 4.33s\n",
      "733:\tlearn: 0.4531966\ttotal: 11.9s\tremaining: 4.32s\n",
      "734:\tlearn: 0.4531781\ttotal: 11.9s\tremaining: 4.3s\n",
      "735:\tlearn: 0.4531372\ttotal: 12s\tremaining: 4.29s\n",
      "736:\tlearn: 0.4531166\ttotal: 12s\tremaining: 4.28s\n",
      "737:\tlearn: 0.4530995\ttotal: 12s\tremaining: 4.26s\n",
      "738:\tlearn: 0.4530957\ttotal: 12s\tremaining: 4.25s\n",
      "739:\tlearn: 0.4530769\ttotal: 12s\tremaining: 4.23s\n",
      "740:\tlearn: 0.4530546\ttotal: 12.1s\tremaining: 4.22s\n",
      "741:\tlearn: 0.4530426\ttotal: 12.1s\tremaining: 4.21s\n",
      "742:\tlearn: 0.4530315\ttotal: 12.1s\tremaining: 4.19s\n",
      "743:\tlearn: 0.4530157\ttotal: 12.1s\tremaining: 4.18s\n",
      "744:\tlearn: 0.4529948\ttotal: 12.2s\tremaining: 4.16s\n",
      "745:\tlearn: 0.4529904\ttotal: 12.2s\tremaining: 4.15s\n",
      "746:\tlearn: 0.4529657\ttotal: 12.2s\tremaining: 4.13s\n",
      "747:\tlearn: 0.4529435\ttotal: 12.2s\tremaining: 4.11s\n",
      "748:\tlearn: 0.4529146\ttotal: 12.2s\tremaining: 4.1s\n",
      "749:\tlearn: 0.4529063\ttotal: 12.2s\tremaining: 4.08s\n",
      "750:\tlearn: 0.4528671\ttotal: 12.3s\tremaining: 4.06s\n",
      "751:\tlearn: 0.4528391\ttotal: 12.3s\tremaining: 4.05s\n",
      "752:\tlearn: 0.4528176\ttotal: 12.3s\tremaining: 4.03s\n",
      "753:\tlearn: 0.4527879\ttotal: 12.3s\tremaining: 4.01s\n",
      "754:\tlearn: 0.4527645\ttotal: 12.3s\tremaining: 4s\n",
      "755:\tlearn: 0.4527626\ttotal: 12.3s\tremaining: 3.98s\n",
      "756:\tlearn: 0.4527530\ttotal: 12.3s\tremaining: 3.96s\n",
      "757:\tlearn: 0.4527384\ttotal: 12.3s\tremaining: 3.94s\n",
      "758:\tlearn: 0.4526923\ttotal: 12.4s\tremaining: 3.92s\n",
      "759:\tlearn: 0.4526803\ttotal: 12.4s\tremaining: 3.91s\n",
      "760:\tlearn: 0.4526671\ttotal: 12.4s\tremaining: 3.89s\n",
      "761:\tlearn: 0.4526437\ttotal: 12.4s\tremaining: 3.87s\n",
      "762:\tlearn: 0.4526215\ttotal: 12.4s\tremaining: 3.86s\n",
      "763:\tlearn: 0.4526059\ttotal: 12.4s\tremaining: 3.84s\n",
      "764:\tlearn: 0.4525765\ttotal: 12.4s\tremaining: 3.82s\n",
      "765:\tlearn: 0.4525754\ttotal: 12.5s\tremaining: 3.81s\n",
      "766:\tlearn: 0.4525526\ttotal: 12.5s\tremaining: 3.79s\n",
      "767:\tlearn: 0.4525416\ttotal: 12.5s\tremaining: 3.78s\n",
      "768:\tlearn: 0.4525194\ttotal: 12.5s\tremaining: 3.76s\n",
      "769:\tlearn: 0.4525043\ttotal: 12.5s\tremaining: 3.75s\n",
      "770:\tlearn: 0.4524873\ttotal: 12.6s\tremaining: 3.73s\n",
      "771:\tlearn: 0.4524809\ttotal: 12.6s\tremaining: 3.71s\n",
      "772:\tlearn: 0.4524559\ttotal: 12.6s\tremaining: 3.7s\n",
      "773:\tlearn: 0.4524319\ttotal: 12.6s\tremaining: 3.69s\n",
      "774:\tlearn: 0.4524242\ttotal: 12.6s\tremaining: 3.67s\n",
      "775:\tlearn: 0.4524177\ttotal: 12.7s\tremaining: 3.65s\n",
      "776:\tlearn: 0.4523836\ttotal: 12.7s\tremaining: 3.64s\n",
      "777:\tlearn: 0.4523561\ttotal: 12.7s\tremaining: 3.62s\n",
      "778:\tlearn: 0.4523382\ttotal: 12.7s\tremaining: 3.61s\n",
      "779:\tlearn: 0.4523285\ttotal: 12.7s\tremaining: 3.59s\n",
      "780:\tlearn: 0.4523036\ttotal: 12.8s\tremaining: 3.58s\n",
      "781:\tlearn: 0.4522962\ttotal: 12.8s\tremaining: 3.56s\n",
      "782:\tlearn: 0.4522746\ttotal: 12.8s\tremaining: 3.54s\n",
      "783:\tlearn: 0.4522322\ttotal: 12.8s\tremaining: 3.52s\n",
      "784:\tlearn: 0.4522197\ttotal: 12.8s\tremaining: 3.5s\n",
      "785:\tlearn: 0.4522107\ttotal: 12.8s\tremaining: 3.49s\n",
      "786:\tlearn: 0.4521840\ttotal: 12.8s\tremaining: 3.47s\n",
      "787:\tlearn: 0.4521561\ttotal: 12.8s\tremaining: 3.45s\n",
      "788:\tlearn: 0.4521439\ttotal: 12.9s\tremaining: 3.44s\n",
      "789:\tlearn: 0.4521279\ttotal: 12.9s\tremaining: 3.42s\n",
      "790:\tlearn: 0.4521111\ttotal: 12.9s\tremaining: 3.4s\n",
      "791:\tlearn: 0.4520929\ttotal: 12.9s\tremaining: 3.39s\n",
      "792:\tlearn: 0.4520753\ttotal: 12.9s\tremaining: 3.37s\n",
      "793:\tlearn: 0.4520370\ttotal: 12.9s\tremaining: 3.36s\n",
      "794:\tlearn: 0.4520072\ttotal: 13s\tremaining: 3.34s\n",
      "795:\tlearn: 0.4519591\ttotal: 13s\tremaining: 3.32s\n",
      "796:\tlearn: 0.4519435\ttotal: 13s\tremaining: 3.31s\n",
      "797:\tlearn: 0.4519131\ttotal: 13s\tremaining: 3.29s\n",
      "798:\tlearn: 0.4518928\ttotal: 13s\tremaining: 3.27s\n",
      "799:\tlearn: 0.4518614\ttotal: 13s\tremaining: 3.26s\n",
      "800:\tlearn: 0.4518431\ttotal: 13s\tremaining: 3.24s\n",
      "801:\tlearn: 0.4518367\ttotal: 13.1s\tremaining: 3.22s\n",
      "802:\tlearn: 0.4518074\ttotal: 13.1s\tremaining: 3.21s\n",
      "803:\tlearn: 0.4517908\ttotal: 13.1s\tremaining: 3.19s\n",
      "804:\tlearn: 0.4517592\ttotal: 13.1s\tremaining: 3.18s\n",
      "805:\tlearn: 0.4517361\ttotal: 13.1s\tremaining: 3.16s\n",
      "806:\tlearn: 0.4517019\ttotal: 13.1s\tremaining: 3.14s\n",
      "807:\tlearn: 0.4516922\ttotal: 13.2s\tremaining: 3.13s\n",
      "808:\tlearn: 0.4516730\ttotal: 13.2s\tremaining: 3.11s\n",
      "809:\tlearn: 0.4516563\ttotal: 13.2s\tremaining: 3.09s\n",
      "810:\tlearn: 0.4516529\ttotal: 13.2s\tremaining: 3.08s\n",
      "811:\tlearn: 0.4516280\ttotal: 13.2s\tremaining: 3.06s\n",
      "812:\tlearn: 0.4516194\ttotal: 13.2s\tremaining: 3.04s\n",
      "813:\tlearn: 0.4516106\ttotal: 13.2s\tremaining: 3.03s\n",
      "814:\tlearn: 0.4515953\ttotal: 13.3s\tremaining: 3.01s\n",
      "815:\tlearn: 0.4515617\ttotal: 13.3s\tremaining: 3s\n",
      "816:\tlearn: 0.4515571\ttotal: 13.3s\tremaining: 2.98s\n",
      "817:\tlearn: 0.4515425\ttotal: 13.3s\tremaining: 2.96s\n",
      "818:\tlearn: 0.4515272\ttotal: 13.3s\tremaining: 2.95s\n",
      "819:\tlearn: 0.4515222\ttotal: 13.4s\tremaining: 2.93s\n",
      "820:\tlearn: 0.4515036\ttotal: 13.4s\tremaining: 2.92s\n",
      "821:\tlearn: 0.4514861\ttotal: 13.4s\tremaining: 2.9s\n",
      "822:\tlearn: 0.4514760\ttotal: 13.4s\tremaining: 2.88s\n",
      "823:\tlearn: 0.4514711\ttotal: 13.4s\tremaining: 2.87s\n",
      "824:\tlearn: 0.4514408\ttotal: 13.4s\tremaining: 2.85s\n",
      "825:\tlearn: 0.4514205\ttotal: 13.4s\tremaining: 2.83s\n",
      "826:\tlearn: 0.4514076\ttotal: 13.5s\tremaining: 2.82s\n",
      "827:\tlearn: 0.4513996\ttotal: 13.5s\tremaining: 2.8s\n",
      "828:\tlearn: 0.4513867\ttotal: 13.5s\tremaining: 2.78s\n",
      "829:\tlearn: 0.4513750\ttotal: 13.5s\tremaining: 2.77s\n",
      "830:\tlearn: 0.4513693\ttotal: 13.5s\tremaining: 2.75s\n",
      "831:\tlearn: 0.4513603\ttotal: 13.5s\tremaining: 2.73s\n",
      "832:\tlearn: 0.4513398\ttotal: 13.6s\tremaining: 2.72s\n",
      "833:\tlearn: 0.4513117\ttotal: 13.6s\tremaining: 2.7s\n",
      "834:\tlearn: 0.4512938\ttotal: 13.6s\tremaining: 2.69s\n",
      "835:\tlearn: 0.4512817\ttotal: 13.6s\tremaining: 2.67s\n",
      "836:\tlearn: 0.4512531\ttotal: 13.6s\tremaining: 2.65s\n",
      "837:\tlearn: 0.4512432\ttotal: 13.6s\tremaining: 2.63s\n",
      "838:\tlearn: 0.4512111\ttotal: 13.6s\tremaining: 2.62s\n",
      "839:\tlearn: 0.4511856\ttotal: 13.7s\tremaining: 2.6s\n",
      "840:\tlearn: 0.4511779\ttotal: 13.7s\tremaining: 2.58s\n",
      "841:\tlearn: 0.4511637\ttotal: 13.7s\tremaining: 2.57s\n",
      "842:\tlearn: 0.4511408\ttotal: 13.7s\tremaining: 2.55s\n",
      "843:\tlearn: 0.4511281\ttotal: 13.7s\tremaining: 2.54s\n",
      "844:\tlearn: 0.4511074\ttotal: 13.7s\tremaining: 2.52s\n",
      "845:\tlearn: 0.4511005\ttotal: 13.8s\tremaining: 2.5s\n",
      "846:\tlearn: 0.4510878\ttotal: 13.8s\tremaining: 2.49s\n",
      "847:\tlearn: 0.4510794\ttotal: 13.8s\tremaining: 2.47s\n",
      "848:\tlearn: 0.4510545\ttotal: 13.8s\tremaining: 2.45s\n",
      "849:\tlearn: 0.4510423\ttotal: 13.8s\tremaining: 2.44s\n",
      "850:\tlearn: 0.4510163\ttotal: 13.8s\tremaining: 2.42s\n",
      "851:\tlearn: 0.4510017\ttotal: 13.8s\tremaining: 2.4s\n",
      "852:\tlearn: 0.4509906\ttotal: 13.8s\tremaining: 2.39s\n",
      "853:\tlearn: 0.4509854\ttotal: 13.9s\tremaining: 2.37s\n",
      "854:\tlearn: 0.4509677\ttotal: 13.9s\tremaining: 2.35s\n",
      "855:\tlearn: 0.4509459\ttotal: 13.9s\tremaining: 2.34s\n",
      "856:\tlearn: 0.4509377\ttotal: 13.9s\tremaining: 2.32s\n",
      "857:\tlearn: 0.4509246\ttotal: 13.9s\tremaining: 2.31s\n",
      "858:\tlearn: 0.4509017\ttotal: 13.9s\tremaining: 2.29s\n",
      "859:\tlearn: 0.4508854\ttotal: 14s\tremaining: 2.27s\n",
      "860:\tlearn: 0.4508684\ttotal: 14s\tremaining: 2.26s\n",
      "861:\tlearn: 0.4508641\ttotal: 14s\tremaining: 2.24s\n",
      "862:\tlearn: 0.4508434\ttotal: 14s\tremaining: 2.23s\n",
      "863:\tlearn: 0.4508339\ttotal: 14s\tremaining: 2.21s\n",
      "864:\tlearn: 0.4508130\ttotal: 14.1s\tremaining: 2.19s\n",
      "865:\tlearn: 0.4508017\ttotal: 14.1s\tremaining: 2.18s\n",
      "866:\tlearn: 0.4507932\ttotal: 14.1s\tremaining: 2.16s\n",
      "867:\tlearn: 0.4507831\ttotal: 14.1s\tremaining: 2.15s\n",
      "868:\tlearn: 0.4507618\ttotal: 14.1s\tremaining: 2.13s\n",
      "869:\tlearn: 0.4507538\ttotal: 14.2s\tremaining: 2.12s\n",
      "870:\tlearn: 0.4507406\ttotal: 14.2s\tremaining: 2.1s\n",
      "871:\tlearn: 0.4507106\ttotal: 14.2s\tremaining: 2.08s\n",
      "872:\tlearn: 0.4506880\ttotal: 14.2s\tremaining: 2.07s\n",
      "873:\tlearn: 0.4506707\ttotal: 14.2s\tremaining: 2.05s\n",
      "874:\tlearn: 0.4506546\ttotal: 14.2s\tremaining: 2.03s\n",
      "875:\tlearn: 0.4506244\ttotal: 14.2s\tremaining: 2.02s\n",
      "876:\tlearn: 0.4505990\ttotal: 14.3s\tremaining: 2s\n",
      "877:\tlearn: 0.4505944\ttotal: 14.3s\tremaining: 1.98s\n",
      "878:\tlearn: 0.4505724\ttotal: 14.3s\tremaining: 1.97s\n",
      "879:\tlearn: 0.4505565\ttotal: 14.3s\tremaining: 1.95s\n",
      "880:\tlearn: 0.4505425\ttotal: 14.3s\tremaining: 1.93s\n",
      "881:\tlearn: 0.4505142\ttotal: 14.3s\tremaining: 1.92s\n",
      "882:\tlearn: 0.4504967\ttotal: 14.3s\tremaining: 1.9s\n",
      "883:\tlearn: 0.4504844\ttotal: 14.4s\tremaining: 1.88s\n",
      "884:\tlearn: 0.4504752\ttotal: 14.4s\tremaining: 1.87s\n",
      "885:\tlearn: 0.4504710\ttotal: 14.4s\tremaining: 1.85s\n",
      "886:\tlearn: 0.4504648\ttotal: 14.4s\tremaining: 1.83s\n",
      "887:\tlearn: 0.4504613\ttotal: 14.4s\tremaining: 1.82s\n",
      "888:\tlearn: 0.4504446\ttotal: 14.4s\tremaining: 1.8s\n",
      "889:\tlearn: 0.4504021\ttotal: 14.4s\tremaining: 1.78s\n",
      "890:\tlearn: 0.4503845\ttotal: 14.4s\tremaining: 1.77s\n",
      "891:\tlearn: 0.4503625\ttotal: 14.5s\tremaining: 1.75s\n",
      "892:\tlearn: 0.4503411\ttotal: 14.5s\tremaining: 1.73s\n",
      "893:\tlearn: 0.4503276\ttotal: 14.5s\tremaining: 1.72s\n",
      "894:\tlearn: 0.4503072\ttotal: 14.5s\tremaining: 1.7s\n",
      "895:\tlearn: 0.4503039\ttotal: 14.5s\tremaining: 1.68s\n",
      "896:\tlearn: 0.4502932\ttotal: 14.5s\tremaining: 1.67s\n",
      "897:\tlearn: 0.4502873\ttotal: 14.5s\tremaining: 1.65s\n",
      "898:\tlearn: 0.4502727\ttotal: 14.5s\tremaining: 1.63s\n",
      "899:\tlearn: 0.4502402\ttotal: 14.6s\tremaining: 1.62s\n",
      "900:\tlearn: 0.4502076\ttotal: 14.6s\tremaining: 1.6s\n",
      "901:\tlearn: 0.4501962\ttotal: 14.6s\tremaining: 1.58s\n",
      "902:\tlearn: 0.4501826\ttotal: 14.6s\tremaining: 1.57s\n",
      "903:\tlearn: 0.4501583\ttotal: 14.6s\tremaining: 1.55s\n",
      "904:\tlearn: 0.4501335\ttotal: 14.6s\tremaining: 1.53s\n",
      "905:\tlearn: 0.4501201\ttotal: 14.6s\tremaining: 1.52s\n",
      "906:\tlearn: 0.4500898\ttotal: 14.7s\tremaining: 1.5s\n",
      "907:\tlearn: 0.4500709\ttotal: 14.7s\tremaining: 1.49s\n",
      "908:\tlearn: 0.4500409\ttotal: 14.7s\tremaining: 1.47s\n",
      "909:\tlearn: 0.4500086\ttotal: 14.7s\tremaining: 1.46s\n",
      "910:\tlearn: 0.4499903\ttotal: 14.7s\tremaining: 1.44s\n",
      "911:\tlearn: 0.4499745\ttotal: 14.8s\tremaining: 1.42s\n",
      "912:\tlearn: 0.4499601\ttotal: 14.8s\tremaining: 1.41s\n",
      "913:\tlearn: 0.4499512\ttotal: 14.8s\tremaining: 1.39s\n",
      "914:\tlearn: 0.4499355\ttotal: 14.8s\tremaining: 1.38s\n",
      "915:\tlearn: 0.4499175\ttotal: 14.8s\tremaining: 1.36s\n",
      "916:\tlearn: 0.4499028\ttotal: 14.8s\tremaining: 1.34s\n",
      "917:\tlearn: 0.4498946\ttotal: 14.8s\tremaining: 1.32s\n",
      "918:\tlearn: 0.4498911\ttotal: 14.9s\tremaining: 1.31s\n",
      "919:\tlearn: 0.4498789\ttotal: 14.9s\tremaining: 1.29s\n",
      "920:\tlearn: 0.4498623\ttotal: 14.9s\tremaining: 1.28s\n",
      "921:\tlearn: 0.4498371\ttotal: 14.9s\tremaining: 1.26s\n",
      "922:\tlearn: 0.4498247\ttotal: 14.9s\tremaining: 1.24s\n",
      "923:\tlearn: 0.4498140\ttotal: 14.9s\tremaining: 1.23s\n",
      "924:\tlearn: 0.4498029\ttotal: 14.9s\tremaining: 1.21s\n",
      "925:\tlearn: 0.4497845\ttotal: 15s\tremaining: 1.2s\n",
      "926:\tlearn: 0.4497788\ttotal: 15s\tremaining: 1.18s\n",
      "927:\tlearn: 0.4497715\ttotal: 15s\tremaining: 1.16s\n",
      "928:\tlearn: 0.4497593\ttotal: 15s\tremaining: 1.15s\n",
      "929:\tlearn: 0.4497431\ttotal: 15s\tremaining: 1.13s\n",
      "930:\tlearn: 0.4497316\ttotal: 15s\tremaining: 1.11s\n",
      "931:\tlearn: 0.4497198\ttotal: 15s\tremaining: 1.1s\n",
      "932:\tlearn: 0.4497054\ttotal: 15.1s\tremaining: 1.08s\n",
      "933:\tlearn: 0.4496832\ttotal: 15.1s\tremaining: 1.06s\n",
      "934:\tlearn: 0.4496558\ttotal: 15.1s\tremaining: 1.05s\n",
      "935:\tlearn: 0.4496234\ttotal: 15.1s\tremaining: 1.03s\n",
      "936:\tlearn: 0.4496074\ttotal: 15.1s\tremaining: 1.02s\n",
      "937:\tlearn: 0.4495981\ttotal: 15.1s\tremaining: 1s\n",
      "938:\tlearn: 0.4495841\ttotal: 15.2s\tremaining: 985ms\n",
      "939:\tlearn: 0.4495746\ttotal: 15.2s\tremaining: 968ms\n",
      "940:\tlearn: 0.4495712\ttotal: 15.2s\tremaining: 952ms\n",
      "941:\tlearn: 0.4495573\ttotal: 15.2s\tremaining: 935ms\n",
      "942:\tlearn: 0.4495499\ttotal: 15.2s\tremaining: 919ms\n",
      "943:\tlearn: 0.4495326\ttotal: 15.2s\tremaining: 903ms\n",
      "944:\tlearn: 0.4495197\ttotal: 15.2s\tremaining: 886ms\n",
      "945:\tlearn: 0.4494997\ttotal: 15.2s\tremaining: 870ms\n",
      "946:\tlearn: 0.4494826\ttotal: 15.3s\tremaining: 854ms\n",
      "947:\tlearn: 0.4494498\ttotal: 15.3s\tremaining: 838ms\n",
      "948:\tlearn: 0.4494047\ttotal: 15.3s\tremaining: 822ms\n",
      "949:\tlearn: 0.4493770\ttotal: 15.3s\tremaining: 805ms\n",
      "950:\tlearn: 0.4493665\ttotal: 15.3s\tremaining: 789ms\n",
      "951:\tlearn: 0.4493586\ttotal: 15.3s\tremaining: 773ms\n",
      "952:\tlearn: 0.4493442\ttotal: 15.4s\tremaining: 757ms\n",
      "953:\tlearn: 0.4493251\ttotal: 15.4s\tremaining: 741ms\n",
      "954:\tlearn: 0.4493027\ttotal: 15.4s\tremaining: 725ms\n",
      "955:\tlearn: 0.4492974\ttotal: 15.4s\tremaining: 710ms\n",
      "956:\tlearn: 0.4492675\ttotal: 15.4s\tremaining: 694ms\n",
      "957:\tlearn: 0.4492554\ttotal: 15.5s\tremaining: 678ms\n",
      "958:\tlearn: 0.4492409\ttotal: 15.5s\tremaining: 661ms\n",
      "959:\tlearn: 0.4492215\ttotal: 15.5s\tremaining: 646ms\n",
      "960:\tlearn: 0.4492014\ttotal: 15.5s\tremaining: 629ms\n",
      "961:\tlearn: 0.4491892\ttotal: 15.5s\tremaining: 613ms\n",
      "962:\tlearn: 0.4491844\ttotal: 15.5s\tremaining: 597ms\n",
      "963:\tlearn: 0.4491793\ttotal: 15.6s\tremaining: 581ms\n",
      "964:\tlearn: 0.4491725\ttotal: 15.6s\tremaining: 565ms\n",
      "965:\tlearn: 0.4491449\ttotal: 15.6s\tremaining: 549ms\n",
      "966:\tlearn: 0.4491348\ttotal: 15.6s\tremaining: 533ms\n",
      "967:\tlearn: 0.4491179\ttotal: 15.6s\tremaining: 517ms\n",
      "968:\tlearn: 0.4490952\ttotal: 15.6s\tremaining: 501ms\n",
      "969:\tlearn: 0.4490740\ttotal: 15.7s\tremaining: 484ms\n",
      "970:\tlearn: 0.4490611\ttotal: 15.7s\tremaining: 468ms\n",
      "971:\tlearn: 0.4490422\ttotal: 15.7s\tremaining: 452ms\n",
      "972:\tlearn: 0.4490276\ttotal: 15.7s\tremaining: 436ms\n",
      "973:\tlearn: 0.4490156\ttotal: 15.7s\tremaining: 420ms\n",
      "974:\tlearn: 0.4490084\ttotal: 15.7s\tremaining: 404ms\n",
      "975:\tlearn: 0.4489754\ttotal: 15.8s\tremaining: 388ms\n",
      "976:\tlearn: 0.4489353\ttotal: 15.8s\tremaining: 372ms\n",
      "977:\tlearn: 0.4489139\ttotal: 15.8s\tremaining: 355ms\n",
      "978:\tlearn: 0.4489050\ttotal: 15.8s\tremaining: 339ms\n",
      "979:\tlearn: 0.4488985\ttotal: 15.8s\tremaining: 323ms\n",
      "980:\tlearn: 0.4488868\ttotal: 15.8s\tremaining: 307ms\n",
      "981:\tlearn: 0.4488809\ttotal: 15.8s\tremaining: 291ms\n",
      "982:\tlearn: 0.4488642\ttotal: 15.9s\tremaining: 274ms\n",
      "983:\tlearn: 0.4488415\ttotal: 15.9s\tremaining: 258ms\n",
      "984:\tlearn: 0.4488294\ttotal: 15.9s\tremaining: 242ms\n",
      "985:\tlearn: 0.4488134\ttotal: 15.9s\tremaining: 226ms\n",
      "986:\tlearn: 0.4487976\ttotal: 15.9s\tremaining: 210ms\n",
      "987:\tlearn: 0.4487683\ttotal: 15.9s\tremaining: 193ms\n",
      "988:\tlearn: 0.4487577\ttotal: 15.9s\tremaining: 177ms\n",
      "989:\tlearn: 0.4487426\ttotal: 15.9s\tremaining: 161ms\n",
      "990:\tlearn: 0.4487158\ttotal: 16s\tremaining: 145ms\n",
      "991:\tlearn: 0.4487117\ttotal: 16s\tremaining: 129ms\n",
      "992:\tlearn: 0.4486946\ttotal: 16s\tremaining: 113ms\n",
      "993:\tlearn: 0.4486859\ttotal: 16s\tremaining: 96.6ms\n",
      "994:\tlearn: 0.4486730\ttotal: 16s\tremaining: 80.5ms\n",
      "995:\tlearn: 0.4486580\ttotal: 16s\tremaining: 64.4ms\n",
      "996:\tlearn: 0.4486474\ttotal: 16s\tremaining: 48.3ms\n",
      "997:\tlearn: 0.4486441\ttotal: 16.1s\tremaining: 32.2ms\n",
      "998:\tlearn: 0.4485960\ttotal: 16.1s\tremaining: 16.1ms\n",
      "999:\tlearn: 0.4485893\ttotal: 16.1s\tremaining: 0us\n"
     ]
    },
    {
     "data": {
      "text/plain": [
       "<catboost.core.CatBoostClassifier at 0x7fb21946a700>"
      ]
     },
     "execution_count": 123,
     "metadata": {},
     "output_type": "execute_result"
    }
   ],
   "source": [
    "import catboost \n",
    "\n",
    "model = catboost.CatBoostClassifier()\n",
    "model.fit(interactions_train_df[interactions_train_df.columns[features_start:]],\n",
    "          np.array(interactions_train_df.eventStrength > 0, dtype=int))"
   ]
  },
  {
   "cell_type": "markdown",
   "metadata": {
    "id": "rgTIQSYB7NUT"
   },
   "source": [
    "Сделаем предсказания на тестовой выборке, сформируем из них рекомендации. "
   ]
  },
  {
   "cell_type": "code",
   "execution_count": 124,
   "metadata": {
    "colab": {
     "base_uri": "https://localhost:8080/",
     "height": 119,
     "referenced_widgets": [
      "67ec730a39c8423ab3582a31ce11710a",
      "e1c3a60b8cd14545b10a6359e5db0caf",
      "8cb76622632f4616886c93b739eeb8fa",
      "aa0b67fbc8ca486b87cf384c946b7f45",
      "d0a113abe0cd458794ffb98192fea209",
      "1ea7971560124fa3a3efa81b6d51e67a",
      "f77642c195a544598c1f0fe7649a1b59",
      "7bef45ec430a437890868abcd967ded4"
     ]
    },
    "id": "oiL_M4uu7NUU",
    "outputId": "822148cf-a87e-4202-ca60-837926c8bcb8"
   },
   "outputs": [
    {
     "name": "stderr",
     "output_type": "stream",
     "text": [
      "<ipython-input-124-abd912d38db8>:8: TqdmDeprecationWarning: This function will be removed in tqdm==5.0.0\n",
      "Please use `tqdm.notebook.tqdm` instead of `tqdm.tqdm_notebook`\n",
      "  for personId in tqdm_notebook(interactions.index):\n"
     ]
    },
    {
     "data": {
      "application/vnd.jupyter.widget-view+json": {
       "model_id": "c6cc2451141c4cd18bca8017bfb57a79",
       "version_major": 2,
       "version_minor": 0
      },
      "text/plain": [
       "HBox(children=(HTML(value=''), FloatProgress(value=0.0, max=1112.0), HTML(value='')))"
      ]
     },
     "metadata": {},
     "output_type": "display_data"
    },
    {
     "name": "stdout",
     "output_type": "stream",
     "text": [
      "\n"
     ]
    }
   ],
   "source": [
    "predictions = model.predict_proba(test[interactions_train_df.columns[features_start:]])[:, 1]\n",
    "test['predictions'] = predictions\n",
    "\n",
    "test = test.sort_values('predictions', ascending=False)\n",
    "predictions = test.groupby('personId')['contentId'].aggregate(list)\n",
    "tmp_predictions = []\n",
    "\n",
    "for personId in tqdm_notebook(interactions.index):\n",
    "    prediction = np.array(predictions.loc[personId])\n",
    "    \n",
    "    tmp_predictions.append(\n",
    "        list(prediction[~np.in1d(\n",
    "            prediction,\n",
    "            interactions.loc[personId, 'true_train'])])[:top_k])\n",
    "    \n",
    "interactions['prediction_content'] = tmp_predictions"
   ]
  },
  {
   "cell_type": "markdown",
   "metadata": {
    "id": "bV6jzq8n7NUU"
   },
   "source": [
    "Оценим их качество."
   ]
  },
  {
   "cell_type": "code",
   "execution_count": 125,
   "metadata": {
    "colab": {
     "base_uri": "https://localhost:8080/"
    },
    "id": "8Fh36H-l7NUU",
    "outputId": "ca880489-ec0a-4ccf-eda8-0310dcb7ff59",
    "scrolled": true
   },
   "outputs": [
    {
     "data": {
      "text/plain": [
       "0.0070152411407083184"
      ]
     },
     "execution_count": 125,
     "metadata": {},
     "output_type": "execute_result"
    }
   ],
   "source": [
    "calc_precision('prediction_content')"
   ]
  },
  {
   "cell_type": "markdown",
   "metadata": {
    "id": "hw46t8eo7NUU"
   },
   "source": [
    "## Часть 4. Факторизационная машина"
   ]
  },
  {
   "cell_type": "markdown",
   "metadata": {
    "id": "1ghXuccn7NUU"
   },
   "source": [
    "Вспомним, что факторизационная машина учитывает попарные взаимодействия признаков, что приводит сразу и к использованию контента (сами признаки), и к обучению скрытых представлений (индикаторы пользователей и статей).\n",
    "\n",
    "Попробуем факторизационные машины из библиотеки pyFM (так как можно работать прямо из питона). https://github.com/coreylynch/pyFM"
   ]
  },
  {
   "cell_type": "code",
   "execution_count": 126,
   "metadata": {
    "id": "IG-5ehv17NUU"
   },
   "outputs": [],
   "source": [
    "from pyfm import pylibfm\n",
    "from sklearn.feature_extraction import DictVectorizer"
   ]
  },
  {
   "cell_type": "markdown",
   "metadata": {
    "id": "TZmaTCfW7NUU"
   },
   "source": [
    "Перейдём к обобщению матричных разложений — факторизационным машинам, которые могут работать с контентной информацией. Вспомним, какие данные у нас изначально были:"
   ]
  },
  {
   "cell_type": "markdown",
   "metadata": {
    "id": "ZXGEQEDY7NUV"
   },
   "source": [
    "В факторизационную машину можно загрузить \"айдишники\" пользователей и статей (то есть сделать аналог коллаборативной фильтрации) и одновременно различные признаки.\n",
    "\n",
    "Удобно обрабатывать категориальные переменные (id и другие) можно с помощью DictVectorizer. Например, процесс может выглядить вот так:\n",
    "```python\n",
    "train = [\n",
    "    {\"user\": \"1\", \"item\": \"5\", \"age\": 19},\n",
    "    {\"user\": \"2\", \"item\": \"43\", \"age\": 33},\n",
    "    {\"user\": \"3\", \"item\": \"20\", \"age\": 55},\n",
    "    {\"user\": \"4\", \"item\": \"10\", \"age\": 20},\n",
    "]\n",
    "v = DictVectorizer()\n",
    "X = v.fit_transform(train)\n",
    "y = np.repeat(1.0, X.shape[0])\n",
    "fm = pylibfm.FM()\n",
    "fm.fit(X,y)\n",
    "fm.predict(v.transform({\"user\": \"1\", \"item\": \"10\", \"age\": 24}))\n",
    "```"
   ]
  },
  {
   "cell_type": "markdown",
   "metadata": {
    "id": "Su_a3Zqa7NUV"
   },
   "source": [
    "Сгенерируем таблицу с признаками в таком виде, где будут id пользователя, статьи и автора статьи и несколько признаков, которые вы сможете придумать."
   ]
  },
  {
   "cell_type": "code",
   "execution_count": 127,
   "metadata": {
    "colab": {
     "base_uri": "https://localhost:8080/",
     "height": 119,
     "referenced_widgets": [
      "d17cb63600374c26ab0d281375d15876",
      "36137f4db5f3486c85669219b7caf18e",
      "13d283f18dd946a6949bb9607b47ed84",
      "c83612af471143ecb9a740b6844a4026",
      "b3b7c0e1269d4cc9afbc584c49cec22a",
      "62b9e044fe0e4ea19cafef5ff3591624",
      "b077fc5cbdf541b1a460c11c08c4e19b",
      "04193592044345f69e8458706b3aeb08"
     ]
    },
    "id": "1lXklZjO7NUV",
    "outputId": "1aeb92bf-b88b-41de-e470-4f7a9cd78b64"
   },
   "outputs": [
    {
     "name": "stderr",
     "output_type": "stream",
     "text": [
      "<ipython-input-127-b0a5f9d83898>:3: TqdmDeprecationWarning: This function will be removed in tqdm==5.0.0\n",
      "Please use `tqdm.notebook.tqdm` instead of `tqdm.tqdm_notebook`\n",
      "  for i in tqdm_notebook(range(len(interactions_train_df))):\n"
     ]
    },
    {
     "data": {
      "application/vnd.jupyter.widget-view+json": {
       "model_id": "7a73a63882a840d59b22c6f6b05534bf",
       "version_major": 2,
       "version_minor": 0
      },
      "text/plain": [
       "HBox(children=(HTML(value=''), FloatProgress(value=0.0, max=146645.0), HTML(value='')))"
      ]
     },
     "metadata": {},
     "output_type": "display_data"
    },
    {
     "name": "stdout",
     "output_type": "stream",
     "text": [
      "\n"
     ]
    }
   ],
   "source": [
    "train_data = []\n",
    "\n",
    "for i in tqdm_notebook(range(len(interactions_train_df))):\n",
    "    features = {}\n",
    "    features['personId'] = str(interactions_train_df.iloc[i].personId)\n",
    "    features['contentId'] = str(interactions_train_df.iloc[i].contentId)\n",
    "    \n",
    "    try:\n",
    "        article = articles_df.loc[features['contentId']]\n",
    "        features['authorId'] = str(article.authorPersonId)\n",
    "        features['authorCountry'] = str(article.authorCountry)\n",
    "        features['lang'] = str(article.lang)\n",
    "    except:\n",
    "        features['authorId'] = 'unknown'\n",
    "        features['authorCountry'] = 'unknown'\n",
    "        features['lang'] = 'unknown'\n",
    "\n",
    "    train_data.append(features)"
   ]
  },
  {
   "cell_type": "markdown",
   "metadata": {
    "id": "KAiWGhdL7NUV"
   },
   "source": [
    "Повторим эту процедуру для тестовой выборки. Заметим, что модель оценивает каждую пару потенциального взаимодействия, а значит, надо подготовить выборку из всех возможных пар из пользователей и статей."
   ]
  },
  {
   "cell_type": "code",
   "execution_count": 128,
   "metadata": {
    "colab": {
     "base_uri": "https://localhost:8080/",
     "height": 119,
     "referenced_widgets": [
      "1f089d7029d54b9e9c32c4ea6f966dbf",
      "74a33172fe4441bd8648345afee51c8e",
      "1f0f4720bc3447188614d9ae51cd94d1",
      "e9288665a80d429785fd89abc6567cfd",
      "5a44c522db624e20a67c1851dde4c434",
      "64b32f7f09b846d5aa7c25e8a4671020",
      "c3398de5c6354b72807d9a03a7a6ee28",
      "143051d244b340e199c06229053f6ff0"
     ]
    },
    "id": "uJZpRg5F7NUV",
    "outputId": "00d836bb-0835-4917-f7d5-9b4b01591148"
   },
   "outputs": [
    {
     "name": "stderr",
     "output_type": "stream",
     "text": [
      "<ipython-input-128-f311dceddac6>:5: TqdmDeprecationWarning: This function will be removed in tqdm==5.0.0\n",
      "Please use `tqdm.notebook.tqdm` instead of `tqdm.tqdm_notebook`\n",
      "  for i in tqdm_notebook(range(len(interactions))):\n"
     ]
    },
    {
     "data": {
      "application/vnd.jupyter.widget-view+json": {
       "model_id": "d212e115a64d4ed7877fb703120d9457",
       "version_major": 2,
       "version_minor": 0
      },
      "text/plain": [
       "HBox(children=(HTML(value=''), FloatProgress(value=0.0, max=1112.0), HTML(value='')))"
      ]
     },
     "metadata": {},
     "output_type": "display_data"
    },
    {
     "name": "stdout",
     "output_type": "stream",
     "text": [
      "\n"
     ]
    }
   ],
   "source": [
    "from copy import deepcopy\n",
    "\n",
    "test_data = []\n",
    "\n",
    "for i in tqdm_notebook(range(len(interactions))):\n",
    "    features = {}\n",
    "    features['personId'] = str(interactions.index[i])  \n",
    "    for j in range(len(ratings.columns)):\n",
    "        \n",
    "        features['contentId'] = str(ratings.columns[j])\n",
    "        \n",
    "        try:\n",
    "            article = articles_df.loc[features['contentId']]\n",
    "            features['authorId'] = str(article.authorPersonId)\n",
    "            features['authorCountry'] = str(article.authorCountry)\n",
    "            features['lang'] = str(article.lang)\n",
    "        except:\n",
    "            features['authorId'] = 'unknown'\n",
    "            features['authorCountry'] = 'unknown'\n",
    "            features['lang'] = 'unknown'\n",
    "        \n",
    "        test_data.append(deepcopy(features))"
   ]
  },
  {
   "cell_type": "markdown",
   "metadata": {
    "id": "GEx1aZyz7NUV"
   },
   "source": [
    "Векторизуем, получим разреженные матрицы.\n",
    "\n",
    "Мы будем обучать регрессор на силу взаимодействия, а для него нужны отрицательные примеры. Добавим некоторое количество случайных примеров как негативные (матрица взаимодействий разреженная, поэтому шансы взять как негативное взаимодействие некоторое положительное мало)."
   ]
  },
  {
   "cell_type": "code",
   "execution_count": 129,
   "metadata": {
    "id": "_kfBG_vr7NUV"
   },
   "outputs": [],
   "source": [
    "dv = DictVectorizer()\n",
    "\n",
    "train_features = dv.fit_transform(\n",
    "    train_data + list(np.random.permutation(test_data)[:100000]))\n",
    "test_features = dv.transform(test_data)"
   ]
  },
  {
   "cell_type": "code",
   "execution_count": 130,
   "metadata": {
    "colab": {
     "base_uri": "https://localhost:8080/"
    },
    "id": "r1ORxv-K7NUW",
    "outputId": "91acf759-4568-449e-fc44-896caa611fc1"
   },
   "outputs": [
    {
     "data": {
      "text/plain": [
       "<246645x3481 sparse matrix of type '<class 'numpy.float64'>'\n",
       "\twith 1233225 stored elements in Compressed Sparse Row format>"
      ]
     },
     "execution_count": 130,
     "metadata": {},
     "output_type": "execute_result"
    }
   ],
   "source": [
    "train_features"
   ]
  },
  {
   "cell_type": "code",
   "execution_count": 131,
   "metadata": {
    "id": "54uYFuXL7NUW"
   },
   "outputs": [],
   "source": [
    "y_train = list(interactions_train_df.eventStrength.values) + list(np.zeros(100000))"
   ]
  },
  {
   "cell_type": "markdown",
   "metadata": {
    "id": "JvCCpAly7NUW"
   },
   "source": [
    "Укажем размером скрытого представления 10, сделаем 10 итераций."
   ]
  },
  {
   "cell_type": "code",
   "execution_count": 132,
   "metadata": {
    "colab": {
     "background_save": true,
     "base_uri": "https://localhost:8080/"
    },
    "id": "Htd7DQlA7NUW",
    "outputId": "f5c26041-8287-45ea-e216-e8fa90499b5c",
    "scrolled": true
   },
   "outputs": [
    {
     "name": "stdout",
     "output_type": "stream",
     "text": [
      "Creating validation dataset of 0.01 of training for adaptive regularization\n",
      "-- Epoch 1\n",
      "Training MSE: 0.11696\n",
      "-- Epoch 2\n",
      "Training MSE: 0.11019\n",
      "-- Epoch 3\n",
      "Training MSE: 0.10898\n",
      "-- Epoch 4\n",
      "Training MSE: 0.10835\n",
      "-- Epoch 5\n",
      "Training MSE: 0.10787\n",
      "-- Epoch 6\n",
      "Training MSE: 0.10748\n",
      "-- Epoch 7\n",
      "Training MSE: 0.10662\n",
      "-- Epoch 8\n",
      "Training MSE: 0.10556\n",
      "-- Epoch 9\n",
      "Training MSE: 0.10405\n",
      "-- Epoch 10\n",
      "Training MSE: 0.10214\n",
      "-- Epoch 11\n",
      "Training MSE: 0.10063\n",
      "-- Epoch 12\n",
      "Training MSE: 0.09926\n",
      "-- Epoch 13\n",
      "Training MSE: 0.09829\n",
      "-- Epoch 14\n",
      "Training MSE: 0.09688\n",
      "-- Epoch 15\n",
      "Training MSE: 0.09620\n",
      "-- Epoch 16\n",
      "Training MSE: 0.09509\n",
      "-- Epoch 17\n",
      "Training MSE: 0.09455\n",
      "-- Epoch 18\n",
      "Training MSE: 0.09414\n",
      "-- Epoch 19\n",
      "Training MSE: 0.09397\n",
      "-- Epoch 20\n",
      "Training MSE: 0.09366\n",
      "-- Epoch 21\n",
      "Training MSE: 0.09389\n",
      "-- Epoch 22\n",
      "Training MSE: 0.09327\n",
      "-- Epoch 23\n",
      "Training MSE: 0.09333\n",
      "-- Epoch 24\n",
      "Training MSE: 0.09277\n",
      "-- Epoch 25\n",
      "Training MSE: 0.09297\n",
      "-- Epoch 26\n",
      "Training MSE: 0.09297\n",
      "-- Epoch 27\n",
      "Training MSE: 0.09348\n",
      "-- Epoch 28\n",
      "Training MSE: 0.09364\n",
      "-- Epoch 29\n",
      "Training MSE: 0.09259\n",
      "-- Epoch 30\n",
      "Training MSE: 0.09272\n"
     ]
    }
   ],
   "source": [
    "fm = pylibfm.FM(num_factors=10, num_iter=30, task='regression')\n",
    "\n",
    "fm.fit(train_features, y_train)"
   ]
  },
  {
   "cell_type": "markdown",
   "metadata": {
    "id": "LctegjZ-7NUW"
   },
   "source": [
    "Предскажем и оценим качество."
   ]
  },
  {
   "cell_type": "code",
   "execution_count": 55,
   "metadata": {
    "colab": {
     "background_save": true
    },
    "id": "MBqPsN3m7NUW"
   },
   "outputs": [],
   "source": [
    "####### Здесь ваш код ##########\n",
    "test_features = dv.transform(test_data)\n",
    "\n",
    "y_predict = fm.predict(test_features)\n",
    "\n",
    "new_ratings = y_predict.reshape((1112, 2366))\n",
    "################################"
   ]
  },
  {
   "cell_type": "code",
   "execution_count": 56,
   "metadata": {
    "colab": {
     "background_save": true
    },
    "id": "OWF2OM_-7NUW"
   },
   "outputs": [],
   "source": [
    "predictions = []\n",
    "\n",
    "for i, person in enumerate(interactions.index):\n",
    "    user_prediction = ratings.columns[np.argsort(new_ratings[i])[::-1]]\n",
    "    predictions.append(\n",
    "        user_prediction[~np.in1d(user_prediction,\n",
    "                                 interactions.loc[person, 'true_train'])][:top_k])\n",
    "    \n",
    "interactions['fm_prediction'] = predictions"
   ]
  },
  {
   "cell_type": "code",
   "execution_count": 57,
   "metadata": {
    "colab": {
     "background_save": true
    },
    "id": "n6wF5i-27NUX",
    "outputId": "f9cb8a23-014c-45d7-bdd8-cc67c04161a6"
   },
   "outputs": [
    {
     "data": {
      "text/plain": [
       "0.007959594870574358"
      ]
     },
     "execution_count": 57,
     "metadata": {},
     "output_type": "execute_result"
    }
   ],
   "source": [
    "calc_precision('fm_prediction')"
   ]
  }
 ],
 "metadata": {
  "colab": {
   "collapsed_sections": [],
   "name": "sem08_recsys_solved.ipynb",
   "provenance": []
  },
  "kernelspec": {
   "display_name": "Python 3",
   "language": "python",
   "name": "python3"
  },
  "language_info": {
   "codemirror_mode": {
    "name": "ipython",
    "version": 3
   },
   "file_extension": ".py",
   "mimetype": "text/x-python",
   "name": "python",
   "nbconvert_exporter": "python",
   "pygments_lexer": "ipython3",
   "version": "3.8.5"
  },
  "widgets": {
   "application/vnd.jupyter.widget-state+json": {
    "04193592044345f69e8458706b3aeb08": {
     "model_module": "@jupyter-widgets/controls",
     "model_name": "DescriptionStyleModel",
     "state": {
      "_model_module": "@jupyter-widgets/controls",
      "_model_module_version": "1.5.0",
      "_model_name": "DescriptionStyleModel",
      "_view_count": null,
      "_view_module": "@jupyter-widgets/base",
      "_view_module_version": "1.2.0",
      "_view_name": "StyleView",
      "description_width": ""
     }
    },
    "13d283f18dd946a6949bb9607b47ed84": {
     "model_module": "@jupyter-widgets/controls",
     "model_name": "HTMLModel",
     "state": {
      "_dom_classes": [],
      "_model_module": "@jupyter-widgets/controls",
      "_model_module_version": "1.5.0",
      "_model_name": "HTMLModel",
      "_view_count": null,
      "_view_module": "@jupyter-widgets/controls",
      "_view_module_version": "1.5.0",
      "_view_name": "HTMLView",
      "description": "",
      "description_tooltip": null,
      "layout": "IPY_MODEL_b077fc5cbdf541b1a460c11c08c4e19b",
      "placeholder": "​",
      "style": "IPY_MODEL_04193592044345f69e8458706b3aeb08",
      "value": " 146645/146645 [00:52&lt;00:00, 2813.24it/s]"
     }
    },
    "143051d244b340e199c06229053f6ff0": {
     "model_module": "@jupyter-widgets/controls",
     "model_name": "DescriptionStyleModel",
     "state": {
      "_model_module": "@jupyter-widgets/controls",
      "_model_module_version": "1.5.0",
      "_model_name": "DescriptionStyleModel",
      "_view_count": null,
      "_view_module": "@jupyter-widgets/base",
      "_view_module_version": "1.2.0",
      "_view_name": "StyleView",
      "description_width": ""
     }
    },
    "16f0c4dae501463aab652444e286789f": {
     "model_module": "@jupyter-widgets/controls",
     "model_name": "FloatProgressModel",
     "state": {
      "_dom_classes": [],
      "_model_module": "@jupyter-widgets/controls",
      "_model_module_version": "1.5.0",
      "_model_name": "FloatProgressModel",
      "_view_count": null,
      "_view_module": "@jupyter-widgets/controls",
      "_view_module_version": "1.5.0",
      "_view_name": "ProgressView",
      "bar_style": "success",
      "description": "100%",
      "description_tooltip": null,
      "layout": "IPY_MODEL_84b5e2792bca4a848551e2d6660eb0de",
      "max": 1112,
      "min": 0,
      "orientation": "horizontal",
      "style": "IPY_MODEL_d9b9fd8bbcfc478c997140848cd22bf0",
      "value": 1112
     }
    },
    "1ea7971560124fa3a3efa81b6d51e67a": {
     "model_module": "@jupyter-widgets/controls",
     "model_name": "ProgressStyleModel",
     "state": {
      "_model_module": "@jupyter-widgets/controls",
      "_model_module_version": "1.5.0",
      "_model_name": "ProgressStyleModel",
      "_view_count": null,
      "_view_module": "@jupyter-widgets/base",
      "_view_module_version": "1.2.0",
      "_view_name": "StyleView",
      "bar_color": null,
      "description_width": "initial"
     }
    },
    "1f089d7029d54b9e9c32c4ea6f966dbf": {
     "model_module": "@jupyter-widgets/controls",
     "model_name": "HBoxModel",
     "state": {
      "_dom_classes": [],
      "_model_module": "@jupyter-widgets/controls",
      "_model_module_version": "1.5.0",
      "_model_name": "HBoxModel",
      "_view_count": null,
      "_view_module": "@jupyter-widgets/controls",
      "_view_module_version": "1.5.0",
      "_view_name": "HBoxView",
      "box_style": "",
      "children": [
       "IPY_MODEL_74a33172fe4441bd8648345afee51c8e",
       "IPY_MODEL_1f0f4720bc3447188614d9ae51cd94d1"
      ],
      "layout": "IPY_MODEL_e9288665a80d429785fd89abc6567cfd"
     }
    },
    "1f0f4720bc3447188614d9ae51cd94d1": {
     "model_module": "@jupyter-widgets/controls",
     "model_name": "HTMLModel",
     "state": {
      "_dom_classes": [],
      "_model_module": "@jupyter-widgets/controls",
      "_model_module_version": "1.5.0",
      "_model_name": "HTMLModel",
      "_view_count": null,
      "_view_module": "@jupyter-widgets/controls",
      "_view_module_version": "1.5.0",
      "_view_name": "HTMLView",
      "description": "",
      "description_tooltip": null,
      "layout": "IPY_MODEL_c3398de5c6354b72807d9a03a7a6ee28",
      "placeholder": "​",
      "style": "IPY_MODEL_143051d244b340e199c06229053f6ff0",
      "value": " 1112/1112 [01:04&lt;00:00, 17.17it/s]"
     }
    },
    "249d8ff532de485fa02ca698bc81a1f8": {
     "model_module": "@jupyter-widgets/controls",
     "model_name": "HBoxModel",
     "state": {
      "_dom_classes": [],
      "_model_module": "@jupyter-widgets/controls",
      "_model_module_version": "1.5.0",
      "_model_name": "HBoxModel",
      "_view_count": null,
      "_view_module": "@jupyter-widgets/controls",
      "_view_module_version": "1.5.0",
      "_view_name": "HBoxView",
      "box_style": "",
      "children": [
       "IPY_MODEL_7ec9172d32874f68ba5e515a14199f58",
       "IPY_MODEL_4b10f576f8c549928a758a3d665ac269"
      ],
      "layout": "IPY_MODEL_798bd8df051b48a298318402337bfe4b"
     }
    },
    "26376adcdb944b3daeca408c00d14055": {
     "model_module": "@jupyter-widgets/controls",
     "model_name": "DescriptionStyleModel",
     "state": {
      "_model_module": "@jupyter-widgets/controls",
      "_model_module_version": "1.5.0",
      "_model_name": "DescriptionStyleModel",
      "_view_count": null,
      "_view_module": "@jupyter-widgets/base",
      "_view_module_version": "1.2.0",
      "_view_name": "StyleView",
      "description_width": ""
     }
    },
    "26656807888e43b8af7c338593779fc0": {
     "model_module": "@jupyter-widgets/controls",
     "model_name": "HTMLModel",
     "state": {
      "_dom_classes": [],
      "_model_module": "@jupyter-widgets/controls",
      "_model_module_version": "1.5.0",
      "_model_name": "HTMLModel",
      "_view_count": null,
      "_view_module": "@jupyter-widgets/controls",
      "_view_module_version": "1.5.0",
      "_view_name": "HTMLView",
      "description": "",
      "description_tooltip": null,
      "layout": "IPY_MODEL_ea2a0094076c4b32b49a78254559cd9b",
      "placeholder": "​",
      "style": "IPY_MODEL_d462c4cbaf4846ff8db64e4e942b4a9b",
      "value": " 1112/1112 [01:50&lt;00:00, 10.10it/s]"
     }
    },
    "36137f4db5f3486c85669219b7caf18e": {
     "model_module": "@jupyter-widgets/controls",
     "model_name": "FloatProgressModel",
     "state": {
      "_dom_classes": [],
      "_model_module": "@jupyter-widgets/controls",
      "_model_module_version": "1.5.0",
      "_model_name": "FloatProgressModel",
      "_view_count": null,
      "_view_module": "@jupyter-widgets/controls",
      "_view_module_version": "1.5.0",
      "_view_name": "ProgressView",
      "bar_style": "success",
      "description": "100%",
      "description_tooltip": null,
      "layout": "IPY_MODEL_b3b7c0e1269d4cc9afbc584c49cec22a",
      "max": 146645,
      "min": 0,
      "orientation": "horizontal",
      "style": "IPY_MODEL_62b9e044fe0e4ea19cafef5ff3591624",
      "value": 146645
     }
    },
    "4b10f576f8c549928a758a3d665ac269": {
     "model_module": "@jupyter-widgets/controls",
     "model_name": "HTMLModel",
     "state": {
      "_dom_classes": [],
      "_model_module": "@jupyter-widgets/controls",
      "_model_module_version": "1.5.0",
      "_model_name": "HTMLModel",
      "_view_count": null,
      "_view_module": "@jupyter-widgets/controls",
      "_view_module_version": "1.5.0",
      "_view_name": "HTMLView",
      "description": "",
      "description_tooltip": null,
      "layout": "IPY_MODEL_ccc2ef80f9b04385a733b7a76151b449",
      "placeholder": "​",
      "style": "IPY_MODEL_26376adcdb944b3daeca408c00d14055",
      "value": " 1111/1111 [01:12&lt;00:00, 15.24it/s]"
     }
    },
    "4d23fcf9519448d1b63e179f658286db": {
     "model_module": "@jupyter-widgets/base",
     "model_name": "LayoutModel",
     "state": {
      "_model_module": "@jupyter-widgets/base",
      "_model_module_version": "1.2.0",
      "_model_name": "LayoutModel",
      "_view_count": null,
      "_view_module": "@jupyter-widgets/base",
      "_view_module_version": "1.2.0",
      "_view_name": "LayoutView",
      "align_content": null,
      "align_items": null,
      "align_self": null,
      "border": null,
      "bottom": null,
      "display": null,
      "flex": null,
      "flex_flow": null,
      "grid_area": null,
      "grid_auto_columns": null,
      "grid_auto_flow": null,
      "grid_auto_rows": null,
      "grid_column": null,
      "grid_gap": null,
      "grid_row": null,
      "grid_template_areas": null,
      "grid_template_columns": null,
      "grid_template_rows": null,
      "height": null,
      "justify_content": null,
      "justify_items": null,
      "left": null,
      "margin": null,
      "max_height": null,
      "max_width": null,
      "min_height": null,
      "min_width": null,
      "object_fit": null,
      "object_position": null,
      "order": null,
      "overflow": null,
      "overflow_x": null,
      "overflow_y": null,
      "padding": null,
      "right": null,
      "top": null,
      "visibility": null,
      "width": null
     }
    },
    "531e6e1b0b0a46d3982fe1a283b280db": {
     "model_module": "@jupyter-widgets/controls",
     "model_name": "HBoxModel",
     "state": {
      "_dom_classes": [],
      "_model_module": "@jupyter-widgets/controls",
      "_model_module_version": "1.5.0",
      "_model_name": "HBoxModel",
      "_view_count": null,
      "_view_module": "@jupyter-widgets/controls",
      "_view_module_version": "1.5.0",
      "_view_name": "HBoxView",
      "box_style": "",
      "children": [
       "IPY_MODEL_16f0c4dae501463aab652444e286789f",
       "IPY_MODEL_26656807888e43b8af7c338593779fc0"
      ],
      "layout": "IPY_MODEL_60bd9bb18cd144c88381a775268fd039"
     }
    },
    "5a44c522db624e20a67c1851dde4c434": {
     "model_module": "@jupyter-widgets/base",
     "model_name": "LayoutModel",
     "state": {
      "_model_module": "@jupyter-widgets/base",
      "_model_module_version": "1.2.0",
      "_model_name": "LayoutModel",
      "_view_count": null,
      "_view_module": "@jupyter-widgets/base",
      "_view_module_version": "1.2.0",
      "_view_name": "LayoutView",
      "align_content": null,
      "align_items": null,
      "align_self": null,
      "border": null,
      "bottom": null,
      "display": null,
      "flex": null,
      "flex_flow": null,
      "grid_area": null,
      "grid_auto_columns": null,
      "grid_auto_flow": null,
      "grid_auto_rows": null,
      "grid_column": null,
      "grid_gap": null,
      "grid_row": null,
      "grid_template_areas": null,
      "grid_template_columns": null,
      "grid_template_rows": null,
      "height": null,
      "justify_content": null,
      "justify_items": null,
      "left": null,
      "margin": null,
      "max_height": null,
      "max_width": null,
      "min_height": null,
      "min_width": null,
      "object_fit": null,
      "object_position": null,
      "order": null,
      "overflow": null,
      "overflow_x": null,
      "overflow_y": null,
      "padding": null,
      "right": null,
      "top": null,
      "visibility": null,
      "width": null
     }
    },
    "5c96f7891bae48f99fe8d6953661cf88": {
     "model_module": "@jupyter-widgets/controls",
     "model_name": "DescriptionStyleModel",
     "state": {
      "_model_module": "@jupyter-widgets/controls",
      "_model_module_version": "1.5.0",
      "_model_name": "DescriptionStyleModel",
      "_view_count": null,
      "_view_module": "@jupyter-widgets/base",
      "_view_module_version": "1.2.0",
      "_view_name": "StyleView",
      "description_width": ""
     }
    },
    "60bd9bb18cd144c88381a775268fd039": {
     "model_module": "@jupyter-widgets/base",
     "model_name": "LayoutModel",
     "state": {
      "_model_module": "@jupyter-widgets/base",
      "_model_module_version": "1.2.0",
      "_model_name": "LayoutModel",
      "_view_count": null,
      "_view_module": "@jupyter-widgets/base",
      "_view_module_version": "1.2.0",
      "_view_name": "LayoutView",
      "align_content": null,
      "align_items": null,
      "align_self": null,
      "border": null,
      "bottom": null,
      "display": null,
      "flex": null,
      "flex_flow": null,
      "grid_area": null,
      "grid_auto_columns": null,
      "grid_auto_flow": null,
      "grid_auto_rows": null,
      "grid_column": null,
      "grid_gap": null,
      "grid_row": null,
      "grid_template_areas": null,
      "grid_template_columns": null,
      "grid_template_rows": null,
      "height": null,
      "justify_content": null,
      "justify_items": null,
      "left": null,
      "margin": null,
      "max_height": null,
      "max_width": null,
      "min_height": null,
      "min_width": null,
      "object_fit": null,
      "object_position": null,
      "order": null,
      "overflow": null,
      "overflow_x": null,
      "overflow_y": null,
      "padding": null,
      "right": null,
      "top": null,
      "visibility": null,
      "width": null
     }
    },
    "62b9e044fe0e4ea19cafef5ff3591624": {
     "model_module": "@jupyter-widgets/controls",
     "model_name": "ProgressStyleModel",
     "state": {
      "_model_module": "@jupyter-widgets/controls",
      "_model_module_version": "1.5.0",
      "_model_name": "ProgressStyleModel",
      "_view_count": null,
      "_view_module": "@jupyter-widgets/base",
      "_view_module_version": "1.2.0",
      "_view_name": "StyleView",
      "bar_color": null,
      "description_width": "initial"
     }
    },
    "64b32f7f09b846d5aa7c25e8a4671020": {
     "model_module": "@jupyter-widgets/controls",
     "model_name": "ProgressStyleModel",
     "state": {
      "_model_module": "@jupyter-widgets/controls",
      "_model_module_version": "1.5.0",
      "_model_name": "ProgressStyleModel",
      "_view_count": null,
      "_view_module": "@jupyter-widgets/base",
      "_view_module_version": "1.2.0",
      "_view_name": "StyleView",
      "bar_color": null,
      "description_width": "initial"
     }
    },
    "67ec730a39c8423ab3582a31ce11710a": {
     "model_module": "@jupyter-widgets/controls",
     "model_name": "HBoxModel",
     "state": {
      "_dom_classes": [],
      "_model_module": "@jupyter-widgets/controls",
      "_model_module_version": "1.5.0",
      "_model_name": "HBoxModel",
      "_view_count": null,
      "_view_module": "@jupyter-widgets/controls",
      "_view_module_version": "1.5.0",
      "_view_name": "HBoxView",
      "box_style": "",
      "children": [
       "IPY_MODEL_e1c3a60b8cd14545b10a6359e5db0caf",
       "IPY_MODEL_8cb76622632f4616886c93b739eeb8fa"
      ],
      "layout": "IPY_MODEL_aa0b67fbc8ca486b87cf384c946b7f45"
     }
    },
    "74a33172fe4441bd8648345afee51c8e": {
     "model_module": "@jupyter-widgets/controls",
     "model_name": "FloatProgressModel",
     "state": {
      "_dom_classes": [],
      "_model_module": "@jupyter-widgets/controls",
      "_model_module_version": "1.5.0",
      "_model_name": "FloatProgressModel",
      "_view_count": null,
      "_view_module": "@jupyter-widgets/controls",
      "_view_module_version": "1.5.0",
      "_view_name": "ProgressView",
      "bar_style": "success",
      "description": "100%",
      "description_tooltip": null,
      "layout": "IPY_MODEL_5a44c522db624e20a67c1851dde4c434",
      "max": 1112,
      "min": 0,
      "orientation": "horizontal",
      "style": "IPY_MODEL_64b32f7f09b846d5aa7c25e8a4671020",
      "value": 1112
     }
    },
    "798bd8df051b48a298318402337bfe4b": {
     "model_module": "@jupyter-widgets/base",
     "model_name": "LayoutModel",
     "state": {
      "_model_module": "@jupyter-widgets/base",
      "_model_module_version": "1.2.0",
      "_model_name": "LayoutModel",
      "_view_count": null,
      "_view_module": "@jupyter-widgets/base",
      "_view_module_version": "1.2.0",
      "_view_name": "LayoutView",
      "align_content": null,
      "align_items": null,
      "align_self": null,
      "border": null,
      "bottom": null,
      "display": null,
      "flex": null,
      "flex_flow": null,
      "grid_area": null,
      "grid_auto_columns": null,
      "grid_auto_flow": null,
      "grid_auto_rows": null,
      "grid_column": null,
      "grid_gap": null,
      "grid_row": null,
      "grid_template_areas": null,
      "grid_template_columns": null,
      "grid_template_rows": null,
      "height": null,
      "justify_content": null,
      "justify_items": null,
      "left": null,
      "margin": null,
      "max_height": null,
      "max_width": null,
      "min_height": null,
      "min_width": null,
      "object_fit": null,
      "object_position": null,
      "order": null,
      "overflow": null,
      "overflow_x": null,
      "overflow_y": null,
      "padding": null,
      "right": null,
      "top": null,
      "visibility": null,
      "width": null
     }
    },
    "7bef45ec430a437890868abcd967ded4": {
     "model_module": "@jupyter-widgets/controls",
     "model_name": "DescriptionStyleModel",
     "state": {
      "_model_module": "@jupyter-widgets/controls",
      "_model_module_version": "1.5.0",
      "_model_name": "DescriptionStyleModel",
      "_view_count": null,
      "_view_module": "@jupyter-widgets/base",
      "_view_module_version": "1.2.0",
      "_view_name": "StyleView",
      "description_width": ""
     }
    },
    "7ec9172d32874f68ba5e515a14199f58": {
     "model_module": "@jupyter-widgets/controls",
     "model_name": "FloatProgressModel",
     "state": {
      "_dom_classes": [],
      "_model_module": "@jupyter-widgets/controls",
      "_model_module_version": "1.5.0",
      "_model_name": "FloatProgressModel",
      "_view_count": null,
      "_view_module": "@jupyter-widgets/controls",
      "_view_module_version": "1.5.0",
      "_view_name": "ProgressView",
      "bar_style": "success",
      "description": "100%",
      "description_tooltip": null,
      "layout": "IPY_MODEL_e9e1069a0c384ffb82518203e9217f41",
      "max": 1111,
      "min": 0,
      "orientation": "horizontal",
      "style": "IPY_MODEL_e454b120947540ce81ccf4171a6fe603",
      "value": 1111
     }
    },
    "84b5e2792bca4a848551e2d6660eb0de": {
     "model_module": "@jupyter-widgets/base",
     "model_name": "LayoutModel",
     "state": {
      "_model_module": "@jupyter-widgets/base",
      "_model_module_version": "1.2.0",
      "_model_name": "LayoutModel",
      "_view_count": null,
      "_view_module": "@jupyter-widgets/base",
      "_view_module_version": "1.2.0",
      "_view_name": "LayoutView",
      "align_content": null,
      "align_items": null,
      "align_self": null,
      "border": null,
      "bottom": null,
      "display": null,
      "flex": null,
      "flex_flow": null,
      "grid_area": null,
      "grid_auto_columns": null,
      "grid_auto_flow": null,
      "grid_auto_rows": null,
      "grid_column": null,
      "grid_gap": null,
      "grid_row": null,
      "grid_template_areas": null,
      "grid_template_columns": null,
      "grid_template_rows": null,
      "height": null,
      "justify_content": null,
      "justify_items": null,
      "left": null,
      "margin": null,
      "max_height": null,
      "max_width": null,
      "min_height": null,
      "min_width": null,
      "object_fit": null,
      "object_position": null,
      "order": null,
      "overflow": null,
      "overflow_x": null,
      "overflow_y": null,
      "padding": null,
      "right": null,
      "top": null,
      "visibility": null,
      "width": null
     }
    },
    "8cb76622632f4616886c93b739eeb8fa": {
     "model_module": "@jupyter-widgets/controls",
     "model_name": "HTMLModel",
     "state": {
      "_dom_classes": [],
      "_model_module": "@jupyter-widgets/controls",
      "_model_module_version": "1.5.0",
      "_model_name": "HTMLModel",
      "_view_count": null,
      "_view_module": "@jupyter-widgets/controls",
      "_view_module_version": "1.5.0",
      "_view_name": "HTMLView",
      "description": "",
      "description_tooltip": null,
      "layout": "IPY_MODEL_f77642c195a544598c1f0fe7649a1b59",
      "placeholder": "​",
      "style": "IPY_MODEL_7bef45ec430a437890868abcd967ded4",
      "value": " 1112/1112 [00:02&lt;00:00, 393.15it/s]"
     }
    },
    "9b14cbbf06a1411580a995bc008a0a18": {
     "model_module": "@jupyter-widgets/controls",
     "model_name": "HBoxModel",
     "state": {
      "_dom_classes": [],
      "_model_module": "@jupyter-widgets/controls",
      "_model_module_version": "1.5.0",
      "_model_name": "HBoxModel",
      "_view_count": null,
      "_view_module": "@jupyter-widgets/controls",
      "_view_module_version": "1.5.0",
      "_view_name": "HBoxView",
      "box_style": "",
      "children": [
       "IPY_MODEL_e6c96c91db5d44f097e0b94693021837",
       "IPY_MODEL_f060e9c96355446790a3d15fc24e8d6c"
      ],
      "layout": "IPY_MODEL_4d23fcf9519448d1b63e179f658286db"
     }
    },
    "a0e901d3ad134af9b0e1867ecd9659a9": {
     "model_module": "@jupyter-widgets/controls",
     "model_name": "ProgressStyleModel",
     "state": {
      "_model_module": "@jupyter-widgets/controls",
      "_model_module_version": "1.5.0",
      "_model_name": "ProgressStyleModel",
      "_view_count": null,
      "_view_module": "@jupyter-widgets/base",
      "_view_module_version": "1.2.0",
      "_view_name": "StyleView",
      "bar_color": null,
      "description_width": "initial"
     }
    },
    "aa0b67fbc8ca486b87cf384c946b7f45": {
     "model_module": "@jupyter-widgets/base",
     "model_name": "LayoutModel",
     "state": {
      "_model_module": "@jupyter-widgets/base",
      "_model_module_version": "1.2.0",
      "_model_name": "LayoutModel",
      "_view_count": null,
      "_view_module": "@jupyter-widgets/base",
      "_view_module_version": "1.2.0",
      "_view_name": "LayoutView",
      "align_content": null,
      "align_items": null,
      "align_self": null,
      "border": null,
      "bottom": null,
      "display": null,
      "flex": null,
      "flex_flow": null,
      "grid_area": null,
      "grid_auto_columns": null,
      "grid_auto_flow": null,
      "grid_auto_rows": null,
      "grid_column": null,
      "grid_gap": null,
      "grid_row": null,
      "grid_template_areas": null,
      "grid_template_columns": null,
      "grid_template_rows": null,
      "height": null,
      "justify_content": null,
      "justify_items": null,
      "left": null,
      "margin": null,
      "max_height": null,
      "max_width": null,
      "min_height": null,
      "min_width": null,
      "object_fit": null,
      "object_position": null,
      "order": null,
      "overflow": null,
      "overflow_x": null,
      "overflow_y": null,
      "padding": null,
      "right": null,
      "top": null,
      "visibility": null,
      "width": null
     }
    },
    "ab5c912745664a819494449027f8ede1": {
     "model_module": "@jupyter-widgets/base",
     "model_name": "LayoutModel",
     "state": {
      "_model_module": "@jupyter-widgets/base",
      "_model_module_version": "1.2.0",
      "_model_name": "LayoutModel",
      "_view_count": null,
      "_view_module": "@jupyter-widgets/base",
      "_view_module_version": "1.2.0",
      "_view_name": "LayoutView",
      "align_content": null,
      "align_items": null,
      "align_self": null,
      "border": null,
      "bottom": null,
      "display": null,
      "flex": null,
      "flex_flow": null,
      "grid_area": null,
      "grid_auto_columns": null,
      "grid_auto_flow": null,
      "grid_auto_rows": null,
      "grid_column": null,
      "grid_gap": null,
      "grid_row": null,
      "grid_template_areas": null,
      "grid_template_columns": null,
      "grid_template_rows": null,
      "height": null,
      "justify_content": null,
      "justify_items": null,
      "left": null,
      "margin": null,
      "max_height": null,
      "max_width": null,
      "min_height": null,
      "min_width": null,
      "object_fit": null,
      "object_position": null,
      "order": null,
      "overflow": null,
      "overflow_x": null,
      "overflow_y": null,
      "padding": null,
      "right": null,
      "top": null,
      "visibility": null,
      "width": null
     }
    },
    "b077fc5cbdf541b1a460c11c08c4e19b": {
     "model_module": "@jupyter-widgets/base",
     "model_name": "LayoutModel",
     "state": {
      "_model_module": "@jupyter-widgets/base",
      "_model_module_version": "1.2.0",
      "_model_name": "LayoutModel",
      "_view_count": null,
      "_view_module": "@jupyter-widgets/base",
      "_view_module_version": "1.2.0",
      "_view_name": "LayoutView",
      "align_content": null,
      "align_items": null,
      "align_self": null,
      "border": null,
      "bottom": null,
      "display": null,
      "flex": null,
      "flex_flow": null,
      "grid_area": null,
      "grid_auto_columns": null,
      "grid_auto_flow": null,
      "grid_auto_rows": null,
      "grid_column": null,
      "grid_gap": null,
      "grid_row": null,
      "grid_template_areas": null,
      "grid_template_columns": null,
      "grid_template_rows": null,
      "height": null,
      "justify_content": null,
      "justify_items": null,
      "left": null,
      "margin": null,
      "max_height": null,
      "max_width": null,
      "min_height": null,
      "min_width": null,
      "object_fit": null,
      "object_position": null,
      "order": null,
      "overflow": null,
      "overflow_x": null,
      "overflow_y": null,
      "padding": null,
      "right": null,
      "top": null,
      "visibility": null,
      "width": null
     }
    },
    "b3b7c0e1269d4cc9afbc584c49cec22a": {
     "model_module": "@jupyter-widgets/base",
     "model_name": "LayoutModel",
     "state": {
      "_model_module": "@jupyter-widgets/base",
      "_model_module_version": "1.2.0",
      "_model_name": "LayoutModel",
      "_view_count": null,
      "_view_module": "@jupyter-widgets/base",
      "_view_module_version": "1.2.0",
      "_view_name": "LayoutView",
      "align_content": null,
      "align_items": null,
      "align_self": null,
      "border": null,
      "bottom": null,
      "display": null,
      "flex": null,
      "flex_flow": null,
      "grid_area": null,
      "grid_auto_columns": null,
      "grid_auto_flow": null,
      "grid_auto_rows": null,
      "grid_column": null,
      "grid_gap": null,
      "grid_row": null,
      "grid_template_areas": null,
      "grid_template_columns": null,
      "grid_template_rows": null,
      "height": null,
      "justify_content": null,
      "justify_items": null,
      "left": null,
      "margin": null,
      "max_height": null,
      "max_width": null,
      "min_height": null,
      "min_width": null,
      "object_fit": null,
      "object_position": null,
      "order": null,
      "overflow": null,
      "overflow_x": null,
      "overflow_y": null,
      "padding": null,
      "right": null,
      "top": null,
      "visibility": null,
      "width": null
     }
    },
    "c3398de5c6354b72807d9a03a7a6ee28": {
     "model_module": "@jupyter-widgets/base",
     "model_name": "LayoutModel",
     "state": {
      "_model_module": "@jupyter-widgets/base",
      "_model_module_version": "1.2.0",
      "_model_name": "LayoutModel",
      "_view_count": null,
      "_view_module": "@jupyter-widgets/base",
      "_view_module_version": "1.2.0",
      "_view_name": "LayoutView",
      "align_content": null,
      "align_items": null,
      "align_self": null,
      "border": null,
      "bottom": null,
      "display": null,
      "flex": null,
      "flex_flow": null,
      "grid_area": null,
      "grid_auto_columns": null,
      "grid_auto_flow": null,
      "grid_auto_rows": null,
      "grid_column": null,
      "grid_gap": null,
      "grid_row": null,
      "grid_template_areas": null,
      "grid_template_columns": null,
      "grid_template_rows": null,
      "height": null,
      "justify_content": null,
      "justify_items": null,
      "left": null,
      "margin": null,
      "max_height": null,
      "max_width": null,
      "min_height": null,
      "min_width": null,
      "object_fit": null,
      "object_position": null,
      "order": null,
      "overflow": null,
      "overflow_x": null,
      "overflow_y": null,
      "padding": null,
      "right": null,
      "top": null,
      "visibility": null,
      "width": null
     }
    },
    "c83612af471143ecb9a740b6844a4026": {
     "model_module": "@jupyter-widgets/base",
     "model_name": "LayoutModel",
     "state": {
      "_model_module": "@jupyter-widgets/base",
      "_model_module_version": "1.2.0",
      "_model_name": "LayoutModel",
      "_view_count": null,
      "_view_module": "@jupyter-widgets/base",
      "_view_module_version": "1.2.0",
      "_view_name": "LayoutView",
      "align_content": null,
      "align_items": null,
      "align_self": null,
      "border": null,
      "bottom": null,
      "display": null,
      "flex": null,
      "flex_flow": null,
      "grid_area": null,
      "grid_auto_columns": null,
      "grid_auto_flow": null,
      "grid_auto_rows": null,
      "grid_column": null,
      "grid_gap": null,
      "grid_row": null,
      "grid_template_areas": null,
      "grid_template_columns": null,
      "grid_template_rows": null,
      "height": null,
      "justify_content": null,
      "justify_items": null,
      "left": null,
      "margin": null,
      "max_height": null,
      "max_width": null,
      "min_height": null,
      "min_width": null,
      "object_fit": null,
      "object_position": null,
      "order": null,
      "overflow": null,
      "overflow_x": null,
      "overflow_y": null,
      "padding": null,
      "right": null,
      "top": null,
      "visibility": null,
      "width": null
     }
    },
    "ccc2ef80f9b04385a733b7a76151b449": {
     "model_module": "@jupyter-widgets/base",
     "model_name": "LayoutModel",
     "state": {
      "_model_module": "@jupyter-widgets/base",
      "_model_module_version": "1.2.0",
      "_model_name": "LayoutModel",
      "_view_count": null,
      "_view_module": "@jupyter-widgets/base",
      "_view_module_version": "1.2.0",
      "_view_name": "LayoutView",
      "align_content": null,
      "align_items": null,
      "align_self": null,
      "border": null,
      "bottom": null,
      "display": null,
      "flex": null,
      "flex_flow": null,
      "grid_area": null,
      "grid_auto_columns": null,
      "grid_auto_flow": null,
      "grid_auto_rows": null,
      "grid_column": null,
      "grid_gap": null,
      "grid_row": null,
      "grid_template_areas": null,
      "grid_template_columns": null,
      "grid_template_rows": null,
      "height": null,
      "justify_content": null,
      "justify_items": null,
      "left": null,
      "margin": null,
      "max_height": null,
      "max_width": null,
      "min_height": null,
      "min_width": null,
      "object_fit": null,
      "object_position": null,
      "order": null,
      "overflow": null,
      "overflow_x": null,
      "overflow_y": null,
      "padding": null,
      "right": null,
      "top": null,
      "visibility": null,
      "width": null
     }
    },
    "d0a113abe0cd458794ffb98192fea209": {
     "model_module": "@jupyter-widgets/base",
     "model_name": "LayoutModel",
     "state": {
      "_model_module": "@jupyter-widgets/base",
      "_model_module_version": "1.2.0",
      "_model_name": "LayoutModel",
      "_view_count": null,
      "_view_module": "@jupyter-widgets/base",
      "_view_module_version": "1.2.0",
      "_view_name": "LayoutView",
      "align_content": null,
      "align_items": null,
      "align_self": null,
      "border": null,
      "bottom": null,
      "display": null,
      "flex": null,
      "flex_flow": null,
      "grid_area": null,
      "grid_auto_columns": null,
      "grid_auto_flow": null,
      "grid_auto_rows": null,
      "grid_column": null,
      "grid_gap": null,
      "grid_row": null,
      "grid_template_areas": null,
      "grid_template_columns": null,
      "grid_template_rows": null,
      "height": null,
      "justify_content": null,
      "justify_items": null,
      "left": null,
      "margin": null,
      "max_height": null,
      "max_width": null,
      "min_height": null,
      "min_width": null,
      "object_fit": null,
      "object_position": null,
      "order": null,
      "overflow": null,
      "overflow_x": null,
      "overflow_y": null,
      "padding": null,
      "right": null,
      "top": null,
      "visibility": null,
      "width": null
     }
    },
    "d17cb63600374c26ab0d281375d15876": {
     "model_module": "@jupyter-widgets/controls",
     "model_name": "HBoxModel",
     "state": {
      "_dom_classes": [],
      "_model_module": "@jupyter-widgets/controls",
      "_model_module_version": "1.5.0",
      "_model_name": "HBoxModel",
      "_view_count": null,
      "_view_module": "@jupyter-widgets/controls",
      "_view_module_version": "1.5.0",
      "_view_name": "HBoxView",
      "box_style": "",
      "children": [
       "IPY_MODEL_36137f4db5f3486c85669219b7caf18e",
       "IPY_MODEL_13d283f18dd946a6949bb9607b47ed84"
      ],
      "layout": "IPY_MODEL_c83612af471143ecb9a740b6844a4026"
     }
    },
    "d462c4cbaf4846ff8db64e4e942b4a9b": {
     "model_module": "@jupyter-widgets/controls",
     "model_name": "DescriptionStyleModel",
     "state": {
      "_model_module": "@jupyter-widgets/controls",
      "_model_module_version": "1.5.0",
      "_model_name": "DescriptionStyleModel",
      "_view_count": null,
      "_view_module": "@jupyter-widgets/base",
      "_view_module_version": "1.2.0",
      "_view_name": "StyleView",
      "description_width": ""
     }
    },
    "d9b9fd8bbcfc478c997140848cd22bf0": {
     "model_module": "@jupyter-widgets/controls",
     "model_name": "ProgressStyleModel",
     "state": {
      "_model_module": "@jupyter-widgets/controls",
      "_model_module_version": "1.5.0",
      "_model_name": "ProgressStyleModel",
      "_view_count": null,
      "_view_module": "@jupyter-widgets/base",
      "_view_module_version": "1.2.0",
      "_view_name": "StyleView",
      "bar_color": null,
      "description_width": "initial"
     }
    },
    "e1c3a60b8cd14545b10a6359e5db0caf": {
     "model_module": "@jupyter-widgets/controls",
     "model_name": "FloatProgressModel",
     "state": {
      "_dom_classes": [],
      "_model_module": "@jupyter-widgets/controls",
      "_model_module_version": "1.5.0",
      "_model_name": "FloatProgressModel",
      "_view_count": null,
      "_view_module": "@jupyter-widgets/controls",
      "_view_module_version": "1.5.0",
      "_view_name": "ProgressView",
      "bar_style": "success",
      "description": "100%",
      "description_tooltip": null,
      "layout": "IPY_MODEL_d0a113abe0cd458794ffb98192fea209",
      "max": 1112,
      "min": 0,
      "orientation": "horizontal",
      "style": "IPY_MODEL_1ea7971560124fa3a3efa81b6d51e67a",
      "value": 1112
     }
    },
    "e454b120947540ce81ccf4171a6fe603": {
     "model_module": "@jupyter-widgets/controls",
     "model_name": "ProgressStyleModel",
     "state": {
      "_model_module": "@jupyter-widgets/controls",
      "_model_module_version": "1.5.0",
      "_model_name": "ProgressStyleModel",
      "_view_count": null,
      "_view_module": "@jupyter-widgets/base",
      "_view_module_version": "1.2.0",
      "_view_name": "StyleView",
      "bar_color": null,
      "description_width": "initial"
     }
    },
    "e6c96c91db5d44f097e0b94693021837": {
     "model_module": "@jupyter-widgets/controls",
     "model_name": "FloatProgressModel",
     "state": {
      "_dom_classes": [],
      "_model_module": "@jupyter-widgets/controls",
      "_model_module_version": "1.5.0",
      "_model_name": "FloatProgressModel",
      "_view_count": null,
      "_view_module": "@jupyter-widgets/controls",
      "_view_module_version": "1.5.0",
      "_view_name": "ProgressView",
      "bar_style": "success",
      "description": "100%",
      "description_tooltip": null,
      "layout": "IPY_MODEL_ed4b4af1b0094d14ab8dd4bab0ac4600",
      "max": 1112,
      "min": 0,
      "orientation": "horizontal",
      "style": "IPY_MODEL_a0e901d3ad134af9b0e1867ecd9659a9",
      "value": 1112
     }
    },
    "e9288665a80d429785fd89abc6567cfd": {
     "model_module": "@jupyter-widgets/base",
     "model_name": "LayoutModel",
     "state": {
      "_model_module": "@jupyter-widgets/base",
      "_model_module_version": "1.2.0",
      "_model_name": "LayoutModel",
      "_view_count": null,
      "_view_module": "@jupyter-widgets/base",
      "_view_module_version": "1.2.0",
      "_view_name": "LayoutView",
      "align_content": null,
      "align_items": null,
      "align_self": null,
      "border": null,
      "bottom": null,
      "display": null,
      "flex": null,
      "flex_flow": null,
      "grid_area": null,
      "grid_auto_columns": null,
      "grid_auto_flow": null,
      "grid_auto_rows": null,
      "grid_column": null,
      "grid_gap": null,
      "grid_row": null,
      "grid_template_areas": null,
      "grid_template_columns": null,
      "grid_template_rows": null,
      "height": null,
      "justify_content": null,
      "justify_items": null,
      "left": null,
      "margin": null,
      "max_height": null,
      "max_width": null,
      "min_height": null,
      "min_width": null,
      "object_fit": null,
      "object_position": null,
      "order": null,
      "overflow": null,
      "overflow_x": null,
      "overflow_y": null,
      "padding": null,
      "right": null,
      "top": null,
      "visibility": null,
      "width": null
     }
    },
    "e9e1069a0c384ffb82518203e9217f41": {
     "model_module": "@jupyter-widgets/base",
     "model_name": "LayoutModel",
     "state": {
      "_model_module": "@jupyter-widgets/base",
      "_model_module_version": "1.2.0",
      "_model_name": "LayoutModel",
      "_view_count": null,
      "_view_module": "@jupyter-widgets/base",
      "_view_module_version": "1.2.0",
      "_view_name": "LayoutView",
      "align_content": null,
      "align_items": null,
      "align_self": null,
      "border": null,
      "bottom": null,
      "display": null,
      "flex": null,
      "flex_flow": null,
      "grid_area": null,
      "grid_auto_columns": null,
      "grid_auto_flow": null,
      "grid_auto_rows": null,
      "grid_column": null,
      "grid_gap": null,
      "grid_row": null,
      "grid_template_areas": null,
      "grid_template_columns": null,
      "grid_template_rows": null,
      "height": null,
      "justify_content": null,
      "justify_items": null,
      "left": null,
      "margin": null,
      "max_height": null,
      "max_width": null,
      "min_height": null,
      "min_width": null,
      "object_fit": null,
      "object_position": null,
      "order": null,
      "overflow": null,
      "overflow_x": null,
      "overflow_y": null,
      "padding": null,
      "right": null,
      "top": null,
      "visibility": null,
      "width": null
     }
    },
    "ea2a0094076c4b32b49a78254559cd9b": {
     "model_module": "@jupyter-widgets/base",
     "model_name": "LayoutModel",
     "state": {
      "_model_module": "@jupyter-widgets/base",
      "_model_module_version": "1.2.0",
      "_model_name": "LayoutModel",
      "_view_count": null,
      "_view_module": "@jupyter-widgets/base",
      "_view_module_version": "1.2.0",
      "_view_name": "LayoutView",
      "align_content": null,
      "align_items": null,
      "align_self": null,
      "border": null,
      "bottom": null,
      "display": null,
      "flex": null,
      "flex_flow": null,
      "grid_area": null,
      "grid_auto_columns": null,
      "grid_auto_flow": null,
      "grid_auto_rows": null,
      "grid_column": null,
      "grid_gap": null,
      "grid_row": null,
      "grid_template_areas": null,
      "grid_template_columns": null,
      "grid_template_rows": null,
      "height": null,
      "justify_content": null,
      "justify_items": null,
      "left": null,
      "margin": null,
      "max_height": null,
      "max_width": null,
      "min_height": null,
      "min_width": null,
      "object_fit": null,
      "object_position": null,
      "order": null,
      "overflow": null,
      "overflow_x": null,
      "overflow_y": null,
      "padding": null,
      "right": null,
      "top": null,
      "visibility": null,
      "width": null
     }
    },
    "ed4b4af1b0094d14ab8dd4bab0ac4600": {
     "model_module": "@jupyter-widgets/base",
     "model_name": "LayoutModel",
     "state": {
      "_model_module": "@jupyter-widgets/base",
      "_model_module_version": "1.2.0",
      "_model_name": "LayoutModel",
      "_view_count": null,
      "_view_module": "@jupyter-widgets/base",
      "_view_module_version": "1.2.0",
      "_view_name": "LayoutView",
      "align_content": null,
      "align_items": null,
      "align_self": null,
      "border": null,
      "bottom": null,
      "display": null,
      "flex": null,
      "flex_flow": null,
      "grid_area": null,
      "grid_auto_columns": null,
      "grid_auto_flow": null,
      "grid_auto_rows": null,
      "grid_column": null,
      "grid_gap": null,
      "grid_row": null,
      "grid_template_areas": null,
      "grid_template_columns": null,
      "grid_template_rows": null,
      "height": null,
      "justify_content": null,
      "justify_items": null,
      "left": null,
      "margin": null,
      "max_height": null,
      "max_width": null,
      "min_height": null,
      "min_width": null,
      "object_fit": null,
      "object_position": null,
      "order": null,
      "overflow": null,
      "overflow_x": null,
      "overflow_y": null,
      "padding": null,
      "right": null,
      "top": null,
      "visibility": null,
      "width": null
     }
    },
    "f060e9c96355446790a3d15fc24e8d6c": {
     "model_module": "@jupyter-widgets/controls",
     "model_name": "HTMLModel",
     "state": {
      "_dom_classes": [],
      "_model_module": "@jupyter-widgets/controls",
      "_model_module_version": "1.5.0",
      "_model_name": "HTMLModel",
      "_view_count": null,
      "_view_module": "@jupyter-widgets/controls",
      "_view_module_version": "1.5.0",
      "_view_name": "HTMLView",
      "description": "",
      "description_tooltip": null,
      "layout": "IPY_MODEL_ab5c912745664a819494449027f8ede1",
      "placeholder": "​",
      "style": "IPY_MODEL_5c96f7891bae48f99fe8d6953661cf88",
      "value": " 1112/1112 [00:15&lt;00:00, 73.01it/s]"
     }
    },
    "f77642c195a544598c1f0fe7649a1b59": {
     "model_module": "@jupyter-widgets/base",
     "model_name": "LayoutModel",
     "state": {
      "_model_module": "@jupyter-widgets/base",
      "_model_module_version": "1.2.0",
      "_model_name": "LayoutModel",
      "_view_count": null,
      "_view_module": "@jupyter-widgets/base",
      "_view_module_version": "1.2.0",
      "_view_name": "LayoutView",
      "align_content": null,
      "align_items": null,
      "align_self": null,
      "border": null,
      "bottom": null,
      "display": null,
      "flex": null,
      "flex_flow": null,
      "grid_area": null,
      "grid_auto_columns": null,
      "grid_auto_flow": null,
      "grid_auto_rows": null,
      "grid_column": null,
      "grid_gap": null,
      "grid_row": null,
      "grid_template_areas": null,
      "grid_template_columns": null,
      "grid_template_rows": null,
      "height": null,
      "justify_content": null,
      "justify_items": null,
      "left": null,
      "margin": null,
      "max_height": null,
      "max_width": null,
      "min_height": null,
      "min_width": null,
      "object_fit": null,
      "object_position": null,
      "order": null,
      "overflow": null,
      "overflow_x": null,
      "overflow_y": null,
      "padding": null,
      "right": null,
      "top": null,
      "visibility": null,
      "width": null
     }
    }
   }
  }
 },
 "nbformat": 4,
 "nbformat_minor": 1
}
