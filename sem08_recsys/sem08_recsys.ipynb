{
  "nbformat": 4,
  "nbformat_minor": 0,
  "metadata": {
    "colab": {
      "name": "sem08_recsys.ipynb",
      "provenance": [],
      "collapsed_sections": [],
      "include_colab_link": true
    },
    "kernelspec": {
      "display_name": "Python 3",
      "language": "python",
      "name": "python3"
    },
    "language_info": {
      "codemirror_mode": {
        "name": "ipython",
        "version": 3
      },
      "file_extension": ".py",
      "mimetype": "text/x-python",
      "name": "python",
      "nbconvert_exporter": "python",
      "pygments_lexer": "ipython3",
      "version": "3.8.5"
    },
    "widgets": {
      "application/vnd.jupyter.widget-state+json": {
        "0b8925d9f3f341f49023ff6f096797f4": {
          "model_module": "@jupyter-widgets/controls",
          "model_name": "HBoxModel",
          "state": {
            "_view_name": "HBoxView",
            "_dom_classes": [],
            "_model_name": "HBoxModel",
            "_view_module": "@jupyter-widgets/controls",
            "_model_module_version": "1.5.0",
            "_view_count": null,
            "_view_module_version": "1.5.0",
            "box_style": "",
            "layout": "IPY_MODEL_d411bba38d3e4bd7821d6e7b8340d398",
            "_model_module": "@jupyter-widgets/controls",
            "children": [
              "IPY_MODEL_acc210d1fc3c4c5a84343864f00ae780",
              "IPY_MODEL_5f962272efa847569b94e0d1f10866d0"
            ]
          }
        },
        "d411bba38d3e4bd7821d6e7b8340d398": {
          "model_module": "@jupyter-widgets/base",
          "model_name": "LayoutModel",
          "state": {
            "_view_name": "LayoutView",
            "grid_template_rows": null,
            "right": null,
            "justify_content": null,
            "_view_module": "@jupyter-widgets/base",
            "overflow": null,
            "_model_module_version": "1.2.0",
            "_view_count": null,
            "flex_flow": null,
            "width": null,
            "min_width": null,
            "border": null,
            "align_items": null,
            "bottom": null,
            "_model_module": "@jupyter-widgets/base",
            "top": null,
            "grid_column": null,
            "overflow_y": null,
            "overflow_x": null,
            "grid_auto_flow": null,
            "grid_area": null,
            "grid_template_columns": null,
            "flex": null,
            "_model_name": "LayoutModel",
            "justify_items": null,
            "grid_row": null,
            "max_height": null,
            "align_content": null,
            "visibility": null,
            "align_self": null,
            "height": null,
            "min_height": null,
            "padding": null,
            "grid_auto_rows": null,
            "grid_gap": null,
            "max_width": null,
            "order": null,
            "_view_module_version": "1.2.0",
            "grid_template_areas": null,
            "object_position": null,
            "object_fit": null,
            "grid_auto_columns": null,
            "margin": null,
            "display": null,
            "left": null
          }
        },
        "acc210d1fc3c4c5a84343864f00ae780": {
          "model_module": "@jupyter-widgets/controls",
          "model_name": "FloatProgressModel",
          "state": {
            "_view_name": "ProgressView",
            "style": "IPY_MODEL_e196ca8857c1478e97d7d18d4dc17bba",
            "_dom_classes": [],
            "description": "100%",
            "_model_name": "FloatProgressModel",
            "bar_style": "success",
            "max": 1111,
            "_view_module": "@jupyter-widgets/controls",
            "_model_module_version": "1.5.0",
            "value": 1111,
            "_view_count": null,
            "_view_module_version": "1.5.0",
            "orientation": "horizontal",
            "min": 0,
            "description_tooltip": null,
            "_model_module": "@jupyter-widgets/controls",
            "layout": "IPY_MODEL_fddd208882474dc1bf27743a1a1f19da"
          }
        },
        "5f962272efa847569b94e0d1f10866d0": {
          "model_module": "@jupyter-widgets/controls",
          "model_name": "HTMLModel",
          "state": {
            "_view_name": "HTMLView",
            "style": "IPY_MODEL_2390b77b7b464e29bab775a54e51c392",
            "_dom_classes": [],
            "description": "",
            "_model_name": "HTMLModel",
            "placeholder": "​",
            "_view_module": "@jupyter-widgets/controls",
            "_model_module_version": "1.5.0",
            "value": " 1111/1111 [00:45&lt;00:00, 24.28it/s]",
            "_view_count": null,
            "_view_module_version": "1.5.0",
            "description_tooltip": null,
            "_model_module": "@jupyter-widgets/controls",
            "layout": "IPY_MODEL_b5cca3a73efc4517a49b9c143d623495"
          }
        },
        "e196ca8857c1478e97d7d18d4dc17bba": {
          "model_module": "@jupyter-widgets/controls",
          "model_name": "ProgressStyleModel",
          "state": {
            "_view_name": "StyleView",
            "_model_name": "ProgressStyleModel",
            "description_width": "initial",
            "_view_module": "@jupyter-widgets/base",
            "_model_module_version": "1.5.0",
            "_view_count": null,
            "_view_module_version": "1.2.0",
            "bar_color": null,
            "_model_module": "@jupyter-widgets/controls"
          }
        },
        "fddd208882474dc1bf27743a1a1f19da": {
          "model_module": "@jupyter-widgets/base",
          "model_name": "LayoutModel",
          "state": {
            "_view_name": "LayoutView",
            "grid_template_rows": null,
            "right": null,
            "justify_content": null,
            "_view_module": "@jupyter-widgets/base",
            "overflow": null,
            "_model_module_version": "1.2.0",
            "_view_count": null,
            "flex_flow": null,
            "width": null,
            "min_width": null,
            "border": null,
            "align_items": null,
            "bottom": null,
            "_model_module": "@jupyter-widgets/base",
            "top": null,
            "grid_column": null,
            "overflow_y": null,
            "overflow_x": null,
            "grid_auto_flow": null,
            "grid_area": null,
            "grid_template_columns": null,
            "flex": null,
            "_model_name": "LayoutModel",
            "justify_items": null,
            "grid_row": null,
            "max_height": null,
            "align_content": null,
            "visibility": null,
            "align_self": null,
            "height": null,
            "min_height": null,
            "padding": null,
            "grid_auto_rows": null,
            "grid_gap": null,
            "max_width": null,
            "order": null,
            "_view_module_version": "1.2.0",
            "grid_template_areas": null,
            "object_position": null,
            "object_fit": null,
            "grid_auto_columns": null,
            "margin": null,
            "display": null,
            "left": null
          }
        },
        "2390b77b7b464e29bab775a54e51c392": {
          "model_module": "@jupyter-widgets/controls",
          "model_name": "DescriptionStyleModel",
          "state": {
            "_view_name": "StyleView",
            "_model_name": "DescriptionStyleModel",
            "description_width": "",
            "_view_module": "@jupyter-widgets/base",
            "_model_module_version": "1.5.0",
            "_view_count": null,
            "_view_module_version": "1.2.0",
            "_model_module": "@jupyter-widgets/controls"
          }
        },
        "b5cca3a73efc4517a49b9c143d623495": {
          "model_module": "@jupyter-widgets/base",
          "model_name": "LayoutModel",
          "state": {
            "_view_name": "LayoutView",
            "grid_template_rows": null,
            "right": null,
            "justify_content": null,
            "_view_module": "@jupyter-widgets/base",
            "overflow": null,
            "_model_module_version": "1.2.0",
            "_view_count": null,
            "flex_flow": null,
            "width": null,
            "min_width": null,
            "border": null,
            "align_items": null,
            "bottom": null,
            "_model_module": "@jupyter-widgets/base",
            "top": null,
            "grid_column": null,
            "overflow_y": null,
            "overflow_x": null,
            "grid_auto_flow": null,
            "grid_area": null,
            "grid_template_columns": null,
            "flex": null,
            "_model_name": "LayoutModel",
            "justify_items": null,
            "grid_row": null,
            "max_height": null,
            "align_content": null,
            "visibility": null,
            "align_self": null,
            "height": null,
            "min_height": null,
            "padding": null,
            "grid_auto_rows": null,
            "grid_gap": null,
            "max_width": null,
            "order": null,
            "_view_module_version": "1.2.0",
            "grid_template_areas": null,
            "object_position": null,
            "object_fit": null,
            "grid_auto_columns": null,
            "margin": null,
            "display": null,
            "left": null
          }
        },
        "dbc6f279d4024e9cac2e046980b18a7c": {
          "model_module": "@jupyter-widgets/controls",
          "model_name": "HBoxModel",
          "state": {
            "_view_name": "HBoxView",
            "_dom_classes": [],
            "_model_name": "HBoxModel",
            "_view_module": "@jupyter-widgets/controls",
            "_model_module_version": "1.5.0",
            "_view_count": null,
            "_view_module_version": "1.5.0",
            "box_style": "",
            "layout": "IPY_MODEL_c04baba2612f4afdb6ea1441d30fb110",
            "_model_module": "@jupyter-widgets/controls",
            "children": [
              "IPY_MODEL_940e6d34dcc749f29117887986ebbc6c",
              "IPY_MODEL_9754c6233cba43bc8f034fecca62e66d"
            ]
          }
        },
        "c04baba2612f4afdb6ea1441d30fb110": {
          "model_module": "@jupyter-widgets/base",
          "model_name": "LayoutModel",
          "state": {
            "_view_name": "LayoutView",
            "grid_template_rows": null,
            "right": null,
            "justify_content": null,
            "_view_module": "@jupyter-widgets/base",
            "overflow": null,
            "_model_module_version": "1.2.0",
            "_view_count": null,
            "flex_flow": null,
            "width": null,
            "min_width": null,
            "border": null,
            "align_items": null,
            "bottom": null,
            "_model_module": "@jupyter-widgets/base",
            "top": null,
            "grid_column": null,
            "overflow_y": null,
            "overflow_x": null,
            "grid_auto_flow": null,
            "grid_area": null,
            "grid_template_columns": null,
            "flex": null,
            "_model_name": "LayoutModel",
            "justify_items": null,
            "grid_row": null,
            "max_height": null,
            "align_content": null,
            "visibility": null,
            "align_self": null,
            "height": null,
            "min_height": null,
            "padding": null,
            "grid_auto_rows": null,
            "grid_gap": null,
            "max_width": null,
            "order": null,
            "_view_module_version": "1.2.0",
            "grid_template_areas": null,
            "object_position": null,
            "object_fit": null,
            "grid_auto_columns": null,
            "margin": null,
            "display": null,
            "left": null
          }
        },
        "940e6d34dcc749f29117887986ebbc6c": {
          "model_module": "@jupyter-widgets/controls",
          "model_name": "FloatProgressModel",
          "state": {
            "_view_name": "ProgressView",
            "style": "IPY_MODEL_b69f3f358cd342f98066cc0de7744d9d",
            "_dom_classes": [],
            "description": "100%",
            "_model_name": "FloatProgressModel",
            "bar_style": "success",
            "max": 1112,
            "_view_module": "@jupyter-widgets/controls",
            "_model_module_version": "1.5.0",
            "value": 1112,
            "_view_count": null,
            "_view_module_version": "1.5.0",
            "orientation": "horizontal",
            "min": 0,
            "description_tooltip": null,
            "_model_module": "@jupyter-widgets/controls",
            "layout": "IPY_MODEL_7edeec5328b1452a87b5d5373f7fc830"
          }
        },
        "9754c6233cba43bc8f034fecca62e66d": {
          "model_module": "@jupyter-widgets/controls",
          "model_name": "HTMLModel",
          "state": {
            "_view_name": "HTMLView",
            "style": "IPY_MODEL_50debec351fc41888c4b94ece21c49eb",
            "_dom_classes": [],
            "description": "",
            "_model_name": "HTMLModel",
            "placeholder": "​",
            "_view_module": "@jupyter-widgets/controls",
            "_model_module_version": "1.5.0",
            "value": " 1112/1112 [00:05&lt;00:00, 219.84it/s]",
            "_view_count": null,
            "_view_module_version": "1.5.0",
            "description_tooltip": null,
            "_model_module": "@jupyter-widgets/controls",
            "layout": "IPY_MODEL_35ebf00482e144cd90ef9f852369841c"
          }
        },
        "b69f3f358cd342f98066cc0de7744d9d": {
          "model_module": "@jupyter-widgets/controls",
          "model_name": "ProgressStyleModel",
          "state": {
            "_view_name": "StyleView",
            "_model_name": "ProgressStyleModel",
            "description_width": "initial",
            "_view_module": "@jupyter-widgets/base",
            "_model_module_version": "1.5.0",
            "_view_count": null,
            "_view_module_version": "1.2.0",
            "bar_color": null,
            "_model_module": "@jupyter-widgets/controls"
          }
        },
        "7edeec5328b1452a87b5d5373f7fc830": {
          "model_module": "@jupyter-widgets/base",
          "model_name": "LayoutModel",
          "state": {
            "_view_name": "LayoutView",
            "grid_template_rows": null,
            "right": null,
            "justify_content": null,
            "_view_module": "@jupyter-widgets/base",
            "overflow": null,
            "_model_module_version": "1.2.0",
            "_view_count": null,
            "flex_flow": null,
            "width": null,
            "min_width": null,
            "border": null,
            "align_items": null,
            "bottom": null,
            "_model_module": "@jupyter-widgets/base",
            "top": null,
            "grid_column": null,
            "overflow_y": null,
            "overflow_x": null,
            "grid_auto_flow": null,
            "grid_area": null,
            "grid_template_columns": null,
            "flex": null,
            "_model_name": "LayoutModel",
            "justify_items": null,
            "grid_row": null,
            "max_height": null,
            "align_content": null,
            "visibility": null,
            "align_self": null,
            "height": null,
            "min_height": null,
            "padding": null,
            "grid_auto_rows": null,
            "grid_gap": null,
            "max_width": null,
            "order": null,
            "_view_module_version": "1.2.0",
            "grid_template_areas": null,
            "object_position": null,
            "object_fit": null,
            "grid_auto_columns": null,
            "margin": null,
            "display": null,
            "left": null
          }
        },
        "50debec351fc41888c4b94ece21c49eb": {
          "model_module": "@jupyter-widgets/controls",
          "model_name": "DescriptionStyleModel",
          "state": {
            "_view_name": "StyleView",
            "_model_name": "DescriptionStyleModel",
            "description_width": "",
            "_view_module": "@jupyter-widgets/base",
            "_model_module_version": "1.5.0",
            "_view_count": null,
            "_view_module_version": "1.2.0",
            "_model_module": "@jupyter-widgets/controls"
          }
        },
        "35ebf00482e144cd90ef9f852369841c": {
          "model_module": "@jupyter-widgets/base",
          "model_name": "LayoutModel",
          "state": {
            "_view_name": "LayoutView",
            "grid_template_rows": null,
            "right": null,
            "justify_content": null,
            "_view_module": "@jupyter-widgets/base",
            "overflow": null,
            "_model_module_version": "1.2.0",
            "_view_count": null,
            "flex_flow": null,
            "width": null,
            "min_width": null,
            "border": null,
            "align_items": null,
            "bottom": null,
            "_model_module": "@jupyter-widgets/base",
            "top": null,
            "grid_column": null,
            "overflow_y": null,
            "overflow_x": null,
            "grid_auto_flow": null,
            "grid_area": null,
            "grid_template_columns": null,
            "flex": null,
            "_model_name": "LayoutModel",
            "justify_items": null,
            "grid_row": null,
            "max_height": null,
            "align_content": null,
            "visibility": null,
            "align_self": null,
            "height": null,
            "min_height": null,
            "padding": null,
            "grid_auto_rows": null,
            "grid_gap": null,
            "max_width": null,
            "order": null,
            "_view_module_version": "1.2.0",
            "grid_template_areas": null,
            "object_position": null,
            "object_fit": null,
            "grid_auto_columns": null,
            "margin": null,
            "display": null,
            "left": null
          }
        },
        "4353a836b55d4a7abfb684b0ba63aa5b": {
          "model_module": "@jupyter-widgets/controls",
          "model_name": "HBoxModel",
          "state": {
            "_view_name": "HBoxView",
            "_dom_classes": [],
            "_model_name": "HBoxModel",
            "_view_module": "@jupyter-widgets/controls",
            "_model_module_version": "1.5.0",
            "_view_count": null,
            "_view_module_version": "1.5.0",
            "box_style": "",
            "layout": "IPY_MODEL_696cdd9bf8754172bb34b84c51fbc863",
            "_model_module": "@jupyter-widgets/controls",
            "children": [
              "IPY_MODEL_3ad00acaa3d242078a021d9fa37eb90c",
              "IPY_MODEL_e3f0295ff09a4506b655be794f7748fd"
            ]
          }
        },
        "696cdd9bf8754172bb34b84c51fbc863": {
          "model_module": "@jupyter-widgets/base",
          "model_name": "LayoutModel",
          "state": {
            "_view_name": "LayoutView",
            "grid_template_rows": null,
            "right": null,
            "justify_content": null,
            "_view_module": "@jupyter-widgets/base",
            "overflow": null,
            "_model_module_version": "1.2.0",
            "_view_count": null,
            "flex_flow": null,
            "width": null,
            "min_width": null,
            "border": null,
            "align_items": null,
            "bottom": null,
            "_model_module": "@jupyter-widgets/base",
            "top": null,
            "grid_column": null,
            "overflow_y": null,
            "overflow_x": null,
            "grid_auto_flow": null,
            "grid_area": null,
            "grid_template_columns": null,
            "flex": null,
            "_model_name": "LayoutModel",
            "justify_items": null,
            "grid_row": null,
            "max_height": null,
            "align_content": null,
            "visibility": null,
            "align_self": null,
            "height": null,
            "min_height": null,
            "padding": null,
            "grid_auto_rows": null,
            "grid_gap": null,
            "max_width": null,
            "order": null,
            "_view_module_version": "1.2.0",
            "grid_template_areas": null,
            "object_position": null,
            "object_fit": null,
            "grid_auto_columns": null,
            "margin": null,
            "display": null,
            "left": null
          }
        },
        "3ad00acaa3d242078a021d9fa37eb90c": {
          "model_module": "@jupyter-widgets/controls",
          "model_name": "FloatProgressModel",
          "state": {
            "_view_name": "ProgressView",
            "style": "IPY_MODEL_4055c9e1bf31465995090f220222affe",
            "_dom_classes": [],
            "description": "100%",
            "_model_name": "FloatProgressModel",
            "bar_style": "success",
            "max": 1112,
            "_view_module": "@jupyter-widgets/controls",
            "_model_module_version": "1.5.0",
            "value": 1112,
            "_view_count": null,
            "_view_module_version": "1.5.0",
            "orientation": "horizontal",
            "min": 0,
            "description_tooltip": null,
            "_model_module": "@jupyter-widgets/controls",
            "layout": "IPY_MODEL_4d6efcb09941482b8773fd584af53aa3"
          }
        },
        "e3f0295ff09a4506b655be794f7748fd": {
          "model_module": "@jupyter-widgets/controls",
          "model_name": "HTMLModel",
          "state": {
            "_view_name": "HTMLView",
            "style": "IPY_MODEL_0ccda7a4de0a498ba018c518a3ff838d",
            "_dom_classes": [],
            "description": "",
            "_model_name": "HTMLModel",
            "placeholder": "​",
            "_view_module": "@jupyter-widgets/controls",
            "_model_module_version": "1.5.0",
            "value": " 1112/1112 [00:04&lt;00:00, 270.79it/s]",
            "_view_count": null,
            "_view_module_version": "1.5.0",
            "description_tooltip": null,
            "_model_module": "@jupyter-widgets/controls",
            "layout": "IPY_MODEL_773366a240454587ba94e77e6a4b76d6"
          }
        },
        "4055c9e1bf31465995090f220222affe": {
          "model_module": "@jupyter-widgets/controls",
          "model_name": "ProgressStyleModel",
          "state": {
            "_view_name": "StyleView",
            "_model_name": "ProgressStyleModel",
            "description_width": "initial",
            "_view_module": "@jupyter-widgets/base",
            "_model_module_version": "1.5.0",
            "_view_count": null,
            "_view_module_version": "1.2.0",
            "bar_color": null,
            "_model_module": "@jupyter-widgets/controls"
          }
        },
        "4d6efcb09941482b8773fd584af53aa3": {
          "model_module": "@jupyter-widgets/base",
          "model_name": "LayoutModel",
          "state": {
            "_view_name": "LayoutView",
            "grid_template_rows": null,
            "right": null,
            "justify_content": null,
            "_view_module": "@jupyter-widgets/base",
            "overflow": null,
            "_model_module_version": "1.2.0",
            "_view_count": null,
            "flex_flow": null,
            "width": null,
            "min_width": null,
            "border": null,
            "align_items": null,
            "bottom": null,
            "_model_module": "@jupyter-widgets/base",
            "top": null,
            "grid_column": null,
            "overflow_y": null,
            "overflow_x": null,
            "grid_auto_flow": null,
            "grid_area": null,
            "grid_template_columns": null,
            "flex": null,
            "_model_name": "LayoutModel",
            "justify_items": null,
            "grid_row": null,
            "max_height": null,
            "align_content": null,
            "visibility": null,
            "align_self": null,
            "height": null,
            "min_height": null,
            "padding": null,
            "grid_auto_rows": null,
            "grid_gap": null,
            "max_width": null,
            "order": null,
            "_view_module_version": "1.2.0",
            "grid_template_areas": null,
            "object_position": null,
            "object_fit": null,
            "grid_auto_columns": null,
            "margin": null,
            "display": null,
            "left": null
          }
        },
        "0ccda7a4de0a498ba018c518a3ff838d": {
          "model_module": "@jupyter-widgets/controls",
          "model_name": "DescriptionStyleModel",
          "state": {
            "_view_name": "StyleView",
            "_model_name": "DescriptionStyleModel",
            "description_width": "",
            "_view_module": "@jupyter-widgets/base",
            "_model_module_version": "1.5.0",
            "_view_count": null,
            "_view_module_version": "1.2.0",
            "_model_module": "@jupyter-widgets/controls"
          }
        },
        "773366a240454587ba94e77e6a4b76d6": {
          "model_module": "@jupyter-widgets/base",
          "model_name": "LayoutModel",
          "state": {
            "_view_name": "LayoutView",
            "grid_template_rows": null,
            "right": null,
            "justify_content": null,
            "_view_module": "@jupyter-widgets/base",
            "overflow": null,
            "_model_module_version": "1.2.0",
            "_view_count": null,
            "flex_flow": null,
            "width": null,
            "min_width": null,
            "border": null,
            "align_items": null,
            "bottom": null,
            "_model_module": "@jupyter-widgets/base",
            "top": null,
            "grid_column": null,
            "overflow_y": null,
            "overflow_x": null,
            "grid_auto_flow": null,
            "grid_area": null,
            "grid_template_columns": null,
            "flex": null,
            "_model_name": "LayoutModel",
            "justify_items": null,
            "grid_row": null,
            "max_height": null,
            "align_content": null,
            "visibility": null,
            "align_self": null,
            "height": null,
            "min_height": null,
            "padding": null,
            "grid_auto_rows": null,
            "grid_gap": null,
            "max_width": null,
            "order": null,
            "_view_module_version": "1.2.0",
            "grid_template_areas": null,
            "object_position": null,
            "object_fit": null,
            "grid_auto_columns": null,
            "margin": null,
            "display": null,
            "left": null
          }
        },
        "41d831f5c3b047ef9327fbdc3f0a61fb": {
          "model_module": "@jupyter-widgets/controls",
          "model_name": "HBoxModel",
          "state": {
            "_view_name": "HBoxView",
            "_dom_classes": [],
            "_model_name": "HBoxModel",
            "_view_module": "@jupyter-widgets/controls",
            "_model_module_version": "1.5.0",
            "_view_count": null,
            "_view_module_version": "1.5.0",
            "box_style": "",
            "layout": "IPY_MODEL_1d1dd2cba4d84102a13acbec17201e3d",
            "_model_module": "@jupyter-widgets/controls",
            "children": [
              "IPY_MODEL_cd678f9cd9764caa80b3ee8835817aff",
              "IPY_MODEL_bb0750f17a1348d3b5c242d5407d0e7a"
            ]
          }
        },
        "1d1dd2cba4d84102a13acbec17201e3d": {
          "model_module": "@jupyter-widgets/base",
          "model_name": "LayoutModel",
          "state": {
            "_view_name": "LayoutView",
            "grid_template_rows": null,
            "right": null,
            "justify_content": null,
            "_view_module": "@jupyter-widgets/base",
            "overflow": null,
            "_model_module_version": "1.2.0",
            "_view_count": null,
            "flex_flow": null,
            "width": null,
            "min_width": null,
            "border": null,
            "align_items": null,
            "bottom": null,
            "_model_module": "@jupyter-widgets/base",
            "top": null,
            "grid_column": null,
            "overflow_y": null,
            "overflow_x": null,
            "grid_auto_flow": null,
            "grid_area": null,
            "grid_template_columns": null,
            "flex": null,
            "_model_name": "LayoutModel",
            "justify_items": null,
            "grid_row": null,
            "max_height": null,
            "align_content": null,
            "visibility": null,
            "align_self": null,
            "height": null,
            "min_height": null,
            "padding": null,
            "grid_auto_rows": null,
            "grid_gap": null,
            "max_width": null,
            "order": null,
            "_view_module_version": "1.2.0",
            "grid_template_areas": null,
            "object_position": null,
            "object_fit": null,
            "grid_auto_columns": null,
            "margin": null,
            "display": null,
            "left": null
          }
        },
        "cd678f9cd9764caa80b3ee8835817aff": {
          "model_module": "@jupyter-widgets/controls",
          "model_name": "FloatProgressModel",
          "state": {
            "_view_name": "ProgressView",
            "style": "IPY_MODEL_2b897371db4147e098a1eda8cccc7eb3",
            "_dom_classes": [],
            "description": "100%",
            "_model_name": "FloatProgressModel",
            "bar_style": "success",
            "max": 1112,
            "_view_module": "@jupyter-widgets/controls",
            "_model_module_version": "1.5.0",
            "value": 1112,
            "_view_count": null,
            "_view_module_version": "1.5.0",
            "orientation": "horizontal",
            "min": 0,
            "description_tooltip": null,
            "_model_module": "@jupyter-widgets/controls",
            "layout": "IPY_MODEL_c6214500f0054b6095dbc9a38369685c"
          }
        },
        "bb0750f17a1348d3b5c242d5407d0e7a": {
          "model_module": "@jupyter-widgets/controls",
          "model_name": "HTMLModel",
          "state": {
            "_view_name": "HTMLView",
            "style": "IPY_MODEL_6e81fead0bbd4727a8367a1f06a55dc3",
            "_dom_classes": [],
            "description": "",
            "_model_name": "HTMLModel",
            "placeholder": "​",
            "_view_module": "@jupyter-widgets/controls",
            "_model_module_version": "1.5.0",
            "value": " 1112/1112 [00:10&lt;00:00, 102.49it/s]",
            "_view_count": null,
            "_view_module_version": "1.5.0",
            "description_tooltip": null,
            "_model_module": "@jupyter-widgets/controls",
            "layout": "IPY_MODEL_b9634e5377b142d1bb5616eb517ddd4e"
          }
        },
        "2b897371db4147e098a1eda8cccc7eb3": {
          "model_module": "@jupyter-widgets/controls",
          "model_name": "ProgressStyleModel",
          "state": {
            "_view_name": "StyleView",
            "_model_name": "ProgressStyleModel",
            "description_width": "initial",
            "_view_module": "@jupyter-widgets/base",
            "_model_module_version": "1.5.0",
            "_view_count": null,
            "_view_module_version": "1.2.0",
            "bar_color": null,
            "_model_module": "@jupyter-widgets/controls"
          }
        },
        "c6214500f0054b6095dbc9a38369685c": {
          "model_module": "@jupyter-widgets/base",
          "model_name": "LayoutModel",
          "state": {
            "_view_name": "LayoutView",
            "grid_template_rows": null,
            "right": null,
            "justify_content": null,
            "_view_module": "@jupyter-widgets/base",
            "overflow": null,
            "_model_module_version": "1.2.0",
            "_view_count": null,
            "flex_flow": null,
            "width": null,
            "min_width": null,
            "border": null,
            "align_items": null,
            "bottom": null,
            "_model_module": "@jupyter-widgets/base",
            "top": null,
            "grid_column": null,
            "overflow_y": null,
            "overflow_x": null,
            "grid_auto_flow": null,
            "grid_area": null,
            "grid_template_columns": null,
            "flex": null,
            "_model_name": "LayoutModel",
            "justify_items": null,
            "grid_row": null,
            "max_height": null,
            "align_content": null,
            "visibility": null,
            "align_self": null,
            "height": null,
            "min_height": null,
            "padding": null,
            "grid_auto_rows": null,
            "grid_gap": null,
            "max_width": null,
            "order": null,
            "_view_module_version": "1.2.0",
            "grid_template_areas": null,
            "object_position": null,
            "object_fit": null,
            "grid_auto_columns": null,
            "margin": null,
            "display": null,
            "left": null
          }
        },
        "6e81fead0bbd4727a8367a1f06a55dc3": {
          "model_module": "@jupyter-widgets/controls",
          "model_name": "DescriptionStyleModel",
          "state": {
            "_view_name": "StyleView",
            "_model_name": "DescriptionStyleModel",
            "description_width": "",
            "_view_module": "@jupyter-widgets/base",
            "_model_module_version": "1.5.0",
            "_view_count": null,
            "_view_module_version": "1.2.0",
            "_model_module": "@jupyter-widgets/controls"
          }
        },
        "b9634e5377b142d1bb5616eb517ddd4e": {
          "model_module": "@jupyter-widgets/base",
          "model_name": "LayoutModel",
          "state": {
            "_view_name": "LayoutView",
            "grid_template_rows": null,
            "right": null,
            "justify_content": null,
            "_view_module": "@jupyter-widgets/base",
            "overflow": null,
            "_model_module_version": "1.2.0",
            "_view_count": null,
            "flex_flow": null,
            "width": null,
            "min_width": null,
            "border": null,
            "align_items": null,
            "bottom": null,
            "_model_module": "@jupyter-widgets/base",
            "top": null,
            "grid_column": null,
            "overflow_y": null,
            "overflow_x": null,
            "grid_auto_flow": null,
            "grid_area": null,
            "grid_template_columns": null,
            "flex": null,
            "_model_name": "LayoutModel",
            "justify_items": null,
            "grid_row": null,
            "max_height": null,
            "align_content": null,
            "visibility": null,
            "align_self": null,
            "height": null,
            "min_height": null,
            "padding": null,
            "grid_auto_rows": null,
            "grid_gap": null,
            "max_width": null,
            "order": null,
            "_view_module_version": "1.2.0",
            "grid_template_areas": null,
            "object_position": null,
            "object_fit": null,
            "grid_auto_columns": null,
            "margin": null,
            "display": null,
            "left": null
          }
        },
        "4f22d05910cd44e4ae12aa2100d317e5": {
          "model_module": "@jupyter-widgets/controls",
          "model_name": "HBoxModel",
          "state": {
            "_view_name": "HBoxView",
            "_dom_classes": [],
            "_model_name": "HBoxModel",
            "_view_module": "@jupyter-widgets/controls",
            "_model_module_version": "1.5.0",
            "_view_count": null,
            "_view_module_version": "1.5.0",
            "box_style": "",
            "layout": "IPY_MODEL_4ba399bbb60b4b22ba2dd0de910aa197",
            "_model_module": "@jupyter-widgets/controls",
            "children": [
              "IPY_MODEL_6c9f1aa9c8ff45bdab821938c5d43899",
              "IPY_MODEL_54280d1992d34ed6800ae3548c805336"
            ]
          }
        },
        "4ba399bbb60b4b22ba2dd0de910aa197": {
          "model_module": "@jupyter-widgets/base",
          "model_name": "LayoutModel",
          "state": {
            "_view_name": "LayoutView",
            "grid_template_rows": null,
            "right": null,
            "justify_content": null,
            "_view_module": "@jupyter-widgets/base",
            "overflow": null,
            "_model_module_version": "1.2.0",
            "_view_count": null,
            "flex_flow": null,
            "width": null,
            "min_width": null,
            "border": null,
            "align_items": null,
            "bottom": null,
            "_model_module": "@jupyter-widgets/base",
            "top": null,
            "grid_column": null,
            "overflow_y": null,
            "overflow_x": null,
            "grid_auto_flow": null,
            "grid_area": null,
            "grid_template_columns": null,
            "flex": null,
            "_model_name": "LayoutModel",
            "justify_items": null,
            "grid_row": null,
            "max_height": null,
            "align_content": null,
            "visibility": null,
            "align_self": null,
            "height": null,
            "min_height": null,
            "padding": null,
            "grid_auto_rows": null,
            "grid_gap": null,
            "max_width": null,
            "order": null,
            "_view_module_version": "1.2.0",
            "grid_template_areas": null,
            "object_position": null,
            "object_fit": null,
            "grid_auto_columns": null,
            "margin": null,
            "display": null,
            "left": null
          }
        },
        "6c9f1aa9c8ff45bdab821938c5d43899": {
          "model_module": "@jupyter-widgets/controls",
          "model_name": "FloatProgressModel",
          "state": {
            "_view_name": "ProgressView",
            "style": "IPY_MODEL_5a6fe0d80ead445eb1fcb2f9fcb1d930",
            "_dom_classes": [],
            "description": "100%",
            "_model_name": "FloatProgressModel",
            "bar_style": "success",
            "max": 1112,
            "_view_module": "@jupyter-widgets/controls",
            "_model_module_version": "1.5.0",
            "value": 1112,
            "_view_count": null,
            "_view_module_version": "1.5.0",
            "orientation": "horizontal",
            "min": 0,
            "description_tooltip": null,
            "_model_module": "@jupyter-widgets/controls",
            "layout": "IPY_MODEL_4393bb5206de474fbf85dcbed5c557fc"
          }
        },
        "54280d1992d34ed6800ae3548c805336": {
          "model_module": "@jupyter-widgets/controls",
          "model_name": "HTMLModel",
          "state": {
            "_view_name": "HTMLView",
            "style": "IPY_MODEL_3d4abf306e3d45eba14348e4b9899ec5",
            "_dom_classes": [],
            "description": "",
            "_model_name": "HTMLModel",
            "placeholder": "​",
            "_view_module": "@jupyter-widgets/controls",
            "_model_module_version": "1.5.0",
            "value": " 1112/1112 [00:06&lt;00:00, 175.47it/s]",
            "_view_count": null,
            "_view_module_version": "1.5.0",
            "description_tooltip": null,
            "_model_module": "@jupyter-widgets/controls",
            "layout": "IPY_MODEL_17dbe0e333064abfad4fd31a507f96af"
          }
        },
        "5a6fe0d80ead445eb1fcb2f9fcb1d930": {
          "model_module": "@jupyter-widgets/controls",
          "model_name": "ProgressStyleModel",
          "state": {
            "_view_name": "StyleView",
            "_model_name": "ProgressStyleModel",
            "description_width": "initial",
            "_view_module": "@jupyter-widgets/base",
            "_model_module_version": "1.5.0",
            "_view_count": null,
            "_view_module_version": "1.2.0",
            "bar_color": null,
            "_model_module": "@jupyter-widgets/controls"
          }
        },
        "4393bb5206de474fbf85dcbed5c557fc": {
          "model_module": "@jupyter-widgets/base",
          "model_name": "LayoutModel",
          "state": {
            "_view_name": "LayoutView",
            "grid_template_rows": null,
            "right": null,
            "justify_content": null,
            "_view_module": "@jupyter-widgets/base",
            "overflow": null,
            "_model_module_version": "1.2.0",
            "_view_count": null,
            "flex_flow": null,
            "width": null,
            "min_width": null,
            "border": null,
            "align_items": null,
            "bottom": null,
            "_model_module": "@jupyter-widgets/base",
            "top": null,
            "grid_column": null,
            "overflow_y": null,
            "overflow_x": null,
            "grid_auto_flow": null,
            "grid_area": null,
            "grid_template_columns": null,
            "flex": null,
            "_model_name": "LayoutModel",
            "justify_items": null,
            "grid_row": null,
            "max_height": null,
            "align_content": null,
            "visibility": null,
            "align_self": null,
            "height": null,
            "min_height": null,
            "padding": null,
            "grid_auto_rows": null,
            "grid_gap": null,
            "max_width": null,
            "order": null,
            "_view_module_version": "1.2.0",
            "grid_template_areas": null,
            "object_position": null,
            "object_fit": null,
            "grid_auto_columns": null,
            "margin": null,
            "display": null,
            "left": null
          }
        },
        "3d4abf306e3d45eba14348e4b9899ec5": {
          "model_module": "@jupyter-widgets/controls",
          "model_name": "DescriptionStyleModel",
          "state": {
            "_view_name": "StyleView",
            "_model_name": "DescriptionStyleModel",
            "description_width": "",
            "_view_module": "@jupyter-widgets/base",
            "_model_module_version": "1.5.0",
            "_view_count": null,
            "_view_module_version": "1.2.0",
            "_model_module": "@jupyter-widgets/controls"
          }
        },
        "17dbe0e333064abfad4fd31a507f96af": {
          "model_module": "@jupyter-widgets/base",
          "model_name": "LayoutModel",
          "state": {
            "_view_name": "LayoutView",
            "grid_template_rows": null,
            "right": null,
            "justify_content": null,
            "_view_module": "@jupyter-widgets/base",
            "overflow": null,
            "_model_module_version": "1.2.0",
            "_view_count": null,
            "flex_flow": null,
            "width": null,
            "min_width": null,
            "border": null,
            "align_items": null,
            "bottom": null,
            "_model_module": "@jupyter-widgets/base",
            "top": null,
            "grid_column": null,
            "overflow_y": null,
            "overflow_x": null,
            "grid_auto_flow": null,
            "grid_area": null,
            "grid_template_columns": null,
            "flex": null,
            "_model_name": "LayoutModel",
            "justify_items": null,
            "grid_row": null,
            "max_height": null,
            "align_content": null,
            "visibility": null,
            "align_self": null,
            "height": null,
            "min_height": null,
            "padding": null,
            "grid_auto_rows": null,
            "grid_gap": null,
            "max_width": null,
            "order": null,
            "_view_module_version": "1.2.0",
            "grid_template_areas": null,
            "object_position": null,
            "object_fit": null,
            "grid_auto_columns": null,
            "margin": null,
            "display": null,
            "left": null
          }
        },
        "15d2ad9c151649c79d31088e360ac8cf": {
          "model_module": "@jupyter-widgets/controls",
          "model_name": "HBoxModel",
          "state": {
            "_view_name": "HBoxView",
            "_dom_classes": [],
            "_model_name": "HBoxModel",
            "_view_module": "@jupyter-widgets/controls",
            "_model_module_version": "1.5.0",
            "_view_count": null,
            "_view_module_version": "1.5.0",
            "box_style": "",
            "layout": "IPY_MODEL_3cdd06a7efb84fa8a57605f4d8dc9954",
            "_model_module": "@jupyter-widgets/controls",
            "children": [
              "IPY_MODEL_20a5d3deda92449f91fd20baf231c2a5",
              "IPY_MODEL_cbcad4dda93c472abe6be20e75ce7aae"
            ]
          }
        },
        "3cdd06a7efb84fa8a57605f4d8dc9954": {
          "model_module": "@jupyter-widgets/base",
          "model_name": "LayoutModel",
          "state": {
            "_view_name": "LayoutView",
            "grid_template_rows": null,
            "right": null,
            "justify_content": null,
            "_view_module": "@jupyter-widgets/base",
            "overflow": null,
            "_model_module_version": "1.2.0",
            "_view_count": null,
            "flex_flow": null,
            "width": null,
            "min_width": null,
            "border": null,
            "align_items": null,
            "bottom": null,
            "_model_module": "@jupyter-widgets/base",
            "top": null,
            "grid_column": null,
            "overflow_y": null,
            "overflow_x": null,
            "grid_auto_flow": null,
            "grid_area": null,
            "grid_template_columns": null,
            "flex": null,
            "_model_name": "LayoutModel",
            "justify_items": null,
            "grid_row": null,
            "max_height": null,
            "align_content": null,
            "visibility": null,
            "align_self": null,
            "height": null,
            "min_height": null,
            "padding": null,
            "grid_auto_rows": null,
            "grid_gap": null,
            "max_width": null,
            "order": null,
            "_view_module_version": "1.2.0",
            "grid_template_areas": null,
            "object_position": null,
            "object_fit": null,
            "grid_auto_columns": null,
            "margin": null,
            "display": null,
            "left": null
          }
        },
        "20a5d3deda92449f91fd20baf231c2a5": {
          "model_module": "@jupyter-widgets/controls",
          "model_name": "FloatProgressModel",
          "state": {
            "_view_name": "ProgressView",
            "style": "IPY_MODEL_95040055c3c64142b3c3fb2e30789dc4",
            "_dom_classes": [],
            "description": "100%",
            "_model_name": "FloatProgressModel",
            "bar_style": "success",
            "max": 1112,
            "_view_module": "@jupyter-widgets/controls",
            "_model_module_version": "1.5.0",
            "value": 1112,
            "_view_count": null,
            "_view_module_version": "1.5.0",
            "orientation": "horizontal",
            "min": 0,
            "description_tooltip": null,
            "_model_module": "@jupyter-widgets/controls",
            "layout": "IPY_MODEL_450dbe2ceb4f4a5eabebbed7eb1481a0"
          }
        },
        "cbcad4dda93c472abe6be20e75ce7aae": {
          "model_module": "@jupyter-widgets/controls",
          "model_name": "HTMLModel",
          "state": {
            "_view_name": "HTMLView",
            "style": "IPY_MODEL_1ec42abefb5d42ff9acb08e2db97a696",
            "_dom_classes": [],
            "description": "",
            "_model_name": "HTMLModel",
            "placeholder": "​",
            "_view_module": "@jupyter-widgets/controls",
            "_model_module_version": "1.5.0",
            "value": " 1112/1112 [00:04&lt;00:00, 272.38it/s]",
            "_view_count": null,
            "_view_module_version": "1.5.0",
            "description_tooltip": null,
            "_model_module": "@jupyter-widgets/controls",
            "layout": "IPY_MODEL_a1a1dceb910e4541a8748ded23597c5b"
          }
        },
        "95040055c3c64142b3c3fb2e30789dc4": {
          "model_module": "@jupyter-widgets/controls",
          "model_name": "ProgressStyleModel",
          "state": {
            "_view_name": "StyleView",
            "_model_name": "ProgressStyleModel",
            "description_width": "initial",
            "_view_module": "@jupyter-widgets/base",
            "_model_module_version": "1.5.0",
            "_view_count": null,
            "_view_module_version": "1.2.0",
            "bar_color": null,
            "_model_module": "@jupyter-widgets/controls"
          }
        },
        "450dbe2ceb4f4a5eabebbed7eb1481a0": {
          "model_module": "@jupyter-widgets/base",
          "model_name": "LayoutModel",
          "state": {
            "_view_name": "LayoutView",
            "grid_template_rows": null,
            "right": null,
            "justify_content": null,
            "_view_module": "@jupyter-widgets/base",
            "overflow": null,
            "_model_module_version": "1.2.0",
            "_view_count": null,
            "flex_flow": null,
            "width": null,
            "min_width": null,
            "border": null,
            "align_items": null,
            "bottom": null,
            "_model_module": "@jupyter-widgets/base",
            "top": null,
            "grid_column": null,
            "overflow_y": null,
            "overflow_x": null,
            "grid_auto_flow": null,
            "grid_area": null,
            "grid_template_columns": null,
            "flex": null,
            "_model_name": "LayoutModel",
            "justify_items": null,
            "grid_row": null,
            "max_height": null,
            "align_content": null,
            "visibility": null,
            "align_self": null,
            "height": null,
            "min_height": null,
            "padding": null,
            "grid_auto_rows": null,
            "grid_gap": null,
            "max_width": null,
            "order": null,
            "_view_module_version": "1.2.0",
            "grid_template_areas": null,
            "object_position": null,
            "object_fit": null,
            "grid_auto_columns": null,
            "margin": null,
            "display": null,
            "left": null
          }
        },
        "1ec42abefb5d42ff9acb08e2db97a696": {
          "model_module": "@jupyter-widgets/controls",
          "model_name": "DescriptionStyleModel",
          "state": {
            "_view_name": "StyleView",
            "_model_name": "DescriptionStyleModel",
            "description_width": "",
            "_view_module": "@jupyter-widgets/base",
            "_model_module_version": "1.5.0",
            "_view_count": null,
            "_view_module_version": "1.2.0",
            "_model_module": "@jupyter-widgets/controls"
          }
        },
        "a1a1dceb910e4541a8748ded23597c5b": {
          "model_module": "@jupyter-widgets/base",
          "model_name": "LayoutModel",
          "state": {
            "_view_name": "LayoutView",
            "grid_template_rows": null,
            "right": null,
            "justify_content": null,
            "_view_module": "@jupyter-widgets/base",
            "overflow": null,
            "_model_module_version": "1.2.0",
            "_view_count": null,
            "flex_flow": null,
            "width": null,
            "min_width": null,
            "border": null,
            "align_items": null,
            "bottom": null,
            "_model_module": "@jupyter-widgets/base",
            "top": null,
            "grid_column": null,
            "overflow_y": null,
            "overflow_x": null,
            "grid_auto_flow": null,
            "grid_area": null,
            "grid_template_columns": null,
            "flex": null,
            "_model_name": "LayoutModel",
            "justify_items": null,
            "grid_row": null,
            "max_height": null,
            "align_content": null,
            "visibility": null,
            "align_self": null,
            "height": null,
            "min_height": null,
            "padding": null,
            "grid_auto_rows": null,
            "grid_gap": null,
            "max_width": null,
            "order": null,
            "_view_module_version": "1.2.0",
            "grid_template_areas": null,
            "object_position": null,
            "object_fit": null,
            "grid_auto_columns": null,
            "margin": null,
            "display": null,
            "left": null
          }
        },
        "526efa9c06494d6e84582cd75544ad75": {
          "model_module": "@jupyter-widgets/controls",
          "model_name": "HBoxModel",
          "state": {
            "_view_name": "HBoxView",
            "_dom_classes": [],
            "_model_name": "HBoxModel",
            "_view_module": "@jupyter-widgets/controls",
            "_model_module_version": "1.5.0",
            "_view_count": null,
            "_view_module_version": "1.5.0",
            "box_style": "",
            "layout": "IPY_MODEL_7d8fcaaf862641398f3489f8a4b7c34a",
            "_model_module": "@jupyter-widgets/controls",
            "children": [
              "IPY_MODEL_461bc0d4c5aa499383da3993e04fcd06",
              "IPY_MODEL_34554a7623ea48f19730ea1e09511b16"
            ]
          }
        },
        "7d8fcaaf862641398f3489f8a4b7c34a": {
          "model_module": "@jupyter-widgets/base",
          "model_name": "LayoutModel",
          "state": {
            "_view_name": "LayoutView",
            "grid_template_rows": null,
            "right": null,
            "justify_content": null,
            "_view_module": "@jupyter-widgets/base",
            "overflow": null,
            "_model_module_version": "1.2.0",
            "_view_count": null,
            "flex_flow": null,
            "width": null,
            "min_width": null,
            "border": null,
            "align_items": null,
            "bottom": null,
            "_model_module": "@jupyter-widgets/base",
            "top": null,
            "grid_column": null,
            "overflow_y": null,
            "overflow_x": null,
            "grid_auto_flow": null,
            "grid_area": null,
            "grid_template_columns": null,
            "flex": null,
            "_model_name": "LayoutModel",
            "justify_items": null,
            "grid_row": null,
            "max_height": null,
            "align_content": null,
            "visibility": null,
            "align_self": null,
            "height": null,
            "min_height": null,
            "padding": null,
            "grid_auto_rows": null,
            "grid_gap": null,
            "max_width": null,
            "order": null,
            "_view_module_version": "1.2.0",
            "grid_template_areas": null,
            "object_position": null,
            "object_fit": null,
            "grid_auto_columns": null,
            "margin": null,
            "display": null,
            "left": null
          }
        },
        "461bc0d4c5aa499383da3993e04fcd06": {
          "model_module": "@jupyter-widgets/controls",
          "model_name": "FloatProgressModel",
          "state": {
            "_view_name": "ProgressView",
            "style": "IPY_MODEL_cfbebbf2b4c94197b851275750ad7cc1",
            "_dom_classes": [],
            "description": "100%",
            "_model_name": "FloatProgressModel",
            "bar_style": "success",
            "max": 1112,
            "_view_module": "@jupyter-widgets/controls",
            "_model_module_version": "1.5.0",
            "value": 1112,
            "_view_count": null,
            "_view_module_version": "1.5.0",
            "orientation": "horizontal",
            "min": 0,
            "description_tooltip": null,
            "_model_module": "@jupyter-widgets/controls",
            "layout": "IPY_MODEL_329f35fa9fee49eeae62541a444fd670"
          }
        },
        "34554a7623ea48f19730ea1e09511b16": {
          "model_module": "@jupyter-widgets/controls",
          "model_name": "HTMLModel",
          "state": {
            "_view_name": "HTMLView",
            "style": "IPY_MODEL_9fad631a3cff4635a8650a874c9550db",
            "_dom_classes": [],
            "description": "",
            "_model_name": "HTMLModel",
            "placeholder": "​",
            "_view_module": "@jupyter-widgets/controls",
            "_model_module_version": "1.5.0",
            "value": " 1112/1112 [00:13&lt;00:00, 83.55it/s]",
            "_view_count": null,
            "_view_module_version": "1.5.0",
            "description_tooltip": null,
            "_model_module": "@jupyter-widgets/controls",
            "layout": "IPY_MODEL_f62ebfe91ae54bb4844b50a72c2dabe9"
          }
        },
        "cfbebbf2b4c94197b851275750ad7cc1": {
          "model_module": "@jupyter-widgets/controls",
          "model_name": "ProgressStyleModel",
          "state": {
            "_view_name": "StyleView",
            "_model_name": "ProgressStyleModel",
            "description_width": "initial",
            "_view_module": "@jupyter-widgets/base",
            "_model_module_version": "1.5.0",
            "_view_count": null,
            "_view_module_version": "1.2.0",
            "bar_color": null,
            "_model_module": "@jupyter-widgets/controls"
          }
        },
        "329f35fa9fee49eeae62541a444fd670": {
          "model_module": "@jupyter-widgets/base",
          "model_name": "LayoutModel",
          "state": {
            "_view_name": "LayoutView",
            "grid_template_rows": null,
            "right": null,
            "justify_content": null,
            "_view_module": "@jupyter-widgets/base",
            "overflow": null,
            "_model_module_version": "1.2.0",
            "_view_count": null,
            "flex_flow": null,
            "width": null,
            "min_width": null,
            "border": null,
            "align_items": null,
            "bottom": null,
            "_model_module": "@jupyter-widgets/base",
            "top": null,
            "grid_column": null,
            "overflow_y": null,
            "overflow_x": null,
            "grid_auto_flow": null,
            "grid_area": null,
            "grid_template_columns": null,
            "flex": null,
            "_model_name": "LayoutModel",
            "justify_items": null,
            "grid_row": null,
            "max_height": null,
            "align_content": null,
            "visibility": null,
            "align_self": null,
            "height": null,
            "min_height": null,
            "padding": null,
            "grid_auto_rows": null,
            "grid_gap": null,
            "max_width": null,
            "order": null,
            "_view_module_version": "1.2.0",
            "grid_template_areas": null,
            "object_position": null,
            "object_fit": null,
            "grid_auto_columns": null,
            "margin": null,
            "display": null,
            "left": null
          }
        },
        "9fad631a3cff4635a8650a874c9550db": {
          "model_module": "@jupyter-widgets/controls",
          "model_name": "DescriptionStyleModel",
          "state": {
            "_view_name": "StyleView",
            "_model_name": "DescriptionStyleModel",
            "description_width": "",
            "_view_module": "@jupyter-widgets/base",
            "_model_module_version": "1.5.0",
            "_view_count": null,
            "_view_module_version": "1.2.0",
            "_model_module": "@jupyter-widgets/controls"
          }
        },
        "f62ebfe91ae54bb4844b50a72c2dabe9": {
          "model_module": "@jupyter-widgets/base",
          "model_name": "LayoutModel",
          "state": {
            "_view_name": "LayoutView",
            "grid_template_rows": null,
            "right": null,
            "justify_content": null,
            "_view_module": "@jupyter-widgets/base",
            "overflow": null,
            "_model_module_version": "1.2.0",
            "_view_count": null,
            "flex_flow": null,
            "width": null,
            "min_width": null,
            "border": null,
            "align_items": null,
            "bottom": null,
            "_model_module": "@jupyter-widgets/base",
            "top": null,
            "grid_column": null,
            "overflow_y": null,
            "overflow_x": null,
            "grid_auto_flow": null,
            "grid_area": null,
            "grid_template_columns": null,
            "flex": null,
            "_model_name": "LayoutModel",
            "justify_items": null,
            "grid_row": null,
            "max_height": null,
            "align_content": null,
            "visibility": null,
            "align_self": null,
            "height": null,
            "min_height": null,
            "padding": null,
            "grid_auto_rows": null,
            "grid_gap": null,
            "max_width": null,
            "order": null,
            "_view_module_version": "1.2.0",
            "grid_template_areas": null,
            "object_position": null,
            "object_fit": null,
            "grid_auto_columns": null,
            "margin": null,
            "display": null,
            "left": null
          }
        },
        "8e9f6691177848cbb457818f152375d2": {
          "model_module": "@jupyter-widgets/controls",
          "model_name": "HBoxModel",
          "state": {
            "_view_name": "HBoxView",
            "_dom_classes": [],
            "_model_name": "HBoxModel",
            "_view_module": "@jupyter-widgets/controls",
            "_model_module_version": "1.5.0",
            "_view_count": null,
            "_view_module_version": "1.5.0",
            "box_style": "",
            "layout": "IPY_MODEL_8bac25da726a4d7abfda05d4e348a385",
            "_model_module": "@jupyter-widgets/controls",
            "children": [
              "IPY_MODEL_7706dc6f315740748aee32ac75079b1e",
              "IPY_MODEL_d35954c5d31d4ca7a387a923722f6652"
            ]
          }
        },
        "8bac25da726a4d7abfda05d4e348a385": {
          "model_module": "@jupyter-widgets/base",
          "model_name": "LayoutModel",
          "state": {
            "_view_name": "LayoutView",
            "grid_template_rows": null,
            "right": null,
            "justify_content": null,
            "_view_module": "@jupyter-widgets/base",
            "overflow": null,
            "_model_module_version": "1.2.0",
            "_view_count": null,
            "flex_flow": null,
            "width": null,
            "min_width": null,
            "border": null,
            "align_items": null,
            "bottom": null,
            "_model_module": "@jupyter-widgets/base",
            "top": null,
            "grid_column": null,
            "overflow_y": null,
            "overflow_x": null,
            "grid_auto_flow": null,
            "grid_area": null,
            "grid_template_columns": null,
            "flex": null,
            "_model_name": "LayoutModel",
            "justify_items": null,
            "grid_row": null,
            "max_height": null,
            "align_content": null,
            "visibility": null,
            "align_self": null,
            "height": null,
            "min_height": null,
            "padding": null,
            "grid_auto_rows": null,
            "grid_gap": null,
            "max_width": null,
            "order": null,
            "_view_module_version": "1.2.0",
            "grid_template_areas": null,
            "object_position": null,
            "object_fit": null,
            "grid_auto_columns": null,
            "margin": null,
            "display": null,
            "left": null
          }
        },
        "7706dc6f315740748aee32ac75079b1e": {
          "model_module": "@jupyter-widgets/controls",
          "model_name": "FloatProgressModel",
          "state": {
            "_view_name": "ProgressView",
            "style": "IPY_MODEL_c3ab7bdff17c47c29b0fe6b026758759",
            "_dom_classes": [],
            "description": "100%",
            "_model_name": "FloatProgressModel",
            "bar_style": "success",
            "max": 1112,
            "_view_module": "@jupyter-widgets/controls",
            "_model_module_version": "1.5.0",
            "value": 1112,
            "_view_count": null,
            "_view_module_version": "1.5.0",
            "orientation": "horizontal",
            "min": 0,
            "description_tooltip": null,
            "_model_module": "@jupyter-widgets/controls",
            "layout": "IPY_MODEL_81f233e449de44689ce00c4067def40a"
          }
        },
        "d35954c5d31d4ca7a387a923722f6652": {
          "model_module": "@jupyter-widgets/controls",
          "model_name": "HTMLModel",
          "state": {
            "_view_name": "HTMLView",
            "style": "IPY_MODEL_1b942aa84c3742858023167fca2cc66c",
            "_dom_classes": [],
            "description": "",
            "_model_name": "HTMLModel",
            "placeholder": "​",
            "_view_module": "@jupyter-widgets/controls",
            "_model_module_version": "1.5.0",
            "value": " 1112/1112 [00:08&lt;00:00, 127.36it/s]",
            "_view_count": null,
            "_view_module_version": "1.5.0",
            "description_tooltip": null,
            "_model_module": "@jupyter-widgets/controls",
            "layout": "IPY_MODEL_90f3a1afd8b04f1bb898275b0b3ac430"
          }
        },
        "c3ab7bdff17c47c29b0fe6b026758759": {
          "model_module": "@jupyter-widgets/controls",
          "model_name": "ProgressStyleModel",
          "state": {
            "_view_name": "StyleView",
            "_model_name": "ProgressStyleModel",
            "description_width": "initial",
            "_view_module": "@jupyter-widgets/base",
            "_model_module_version": "1.5.0",
            "_view_count": null,
            "_view_module_version": "1.2.0",
            "bar_color": null,
            "_model_module": "@jupyter-widgets/controls"
          }
        },
        "81f233e449de44689ce00c4067def40a": {
          "model_module": "@jupyter-widgets/base",
          "model_name": "LayoutModel",
          "state": {
            "_view_name": "LayoutView",
            "grid_template_rows": null,
            "right": null,
            "justify_content": null,
            "_view_module": "@jupyter-widgets/base",
            "overflow": null,
            "_model_module_version": "1.2.0",
            "_view_count": null,
            "flex_flow": null,
            "width": null,
            "min_width": null,
            "border": null,
            "align_items": null,
            "bottom": null,
            "_model_module": "@jupyter-widgets/base",
            "top": null,
            "grid_column": null,
            "overflow_y": null,
            "overflow_x": null,
            "grid_auto_flow": null,
            "grid_area": null,
            "grid_template_columns": null,
            "flex": null,
            "_model_name": "LayoutModel",
            "justify_items": null,
            "grid_row": null,
            "max_height": null,
            "align_content": null,
            "visibility": null,
            "align_self": null,
            "height": null,
            "min_height": null,
            "padding": null,
            "grid_auto_rows": null,
            "grid_gap": null,
            "max_width": null,
            "order": null,
            "_view_module_version": "1.2.0",
            "grid_template_areas": null,
            "object_position": null,
            "object_fit": null,
            "grid_auto_columns": null,
            "margin": null,
            "display": null,
            "left": null
          }
        },
        "1b942aa84c3742858023167fca2cc66c": {
          "model_module": "@jupyter-widgets/controls",
          "model_name": "DescriptionStyleModel",
          "state": {
            "_view_name": "StyleView",
            "_model_name": "DescriptionStyleModel",
            "description_width": "",
            "_view_module": "@jupyter-widgets/base",
            "_model_module_version": "1.5.0",
            "_view_count": null,
            "_view_module_version": "1.2.0",
            "_model_module": "@jupyter-widgets/controls"
          }
        },
        "90f3a1afd8b04f1bb898275b0b3ac430": {
          "model_module": "@jupyter-widgets/base",
          "model_name": "LayoutModel",
          "state": {
            "_view_name": "LayoutView",
            "grid_template_rows": null,
            "right": null,
            "justify_content": null,
            "_view_module": "@jupyter-widgets/base",
            "overflow": null,
            "_model_module_version": "1.2.0",
            "_view_count": null,
            "flex_flow": null,
            "width": null,
            "min_width": null,
            "border": null,
            "align_items": null,
            "bottom": null,
            "_model_module": "@jupyter-widgets/base",
            "top": null,
            "grid_column": null,
            "overflow_y": null,
            "overflow_x": null,
            "grid_auto_flow": null,
            "grid_area": null,
            "grid_template_columns": null,
            "flex": null,
            "_model_name": "LayoutModel",
            "justify_items": null,
            "grid_row": null,
            "max_height": null,
            "align_content": null,
            "visibility": null,
            "align_self": null,
            "height": null,
            "min_height": null,
            "padding": null,
            "grid_auto_rows": null,
            "grid_gap": null,
            "max_width": null,
            "order": null,
            "_view_module_version": "1.2.0",
            "grid_template_areas": null,
            "object_position": null,
            "object_fit": null,
            "grid_auto_columns": null,
            "margin": null,
            "display": null,
            "left": null
          }
        },
        "40c5078595fc4c38ae6eec529dd621ea": {
          "model_module": "@jupyter-widgets/controls",
          "model_name": "HBoxModel",
          "state": {
            "_view_name": "HBoxView",
            "_dom_classes": [],
            "_model_name": "HBoxModel",
            "_view_module": "@jupyter-widgets/controls",
            "_model_module_version": "1.5.0",
            "_view_count": null,
            "_view_module_version": "1.5.0",
            "box_style": "",
            "layout": "IPY_MODEL_c5b9d5a261424d2d86be86aa6f6686a7",
            "_model_module": "@jupyter-widgets/controls",
            "children": [
              "IPY_MODEL_0e5b62ea43bd4044bd5d5ceb0e5d17d9",
              "IPY_MODEL_2ace768c02874621aab77ca2d468a915"
            ]
          }
        },
        "c5b9d5a261424d2d86be86aa6f6686a7": {
          "model_module": "@jupyter-widgets/base",
          "model_name": "LayoutModel",
          "state": {
            "_view_name": "LayoutView",
            "grid_template_rows": null,
            "right": null,
            "justify_content": null,
            "_view_module": "@jupyter-widgets/base",
            "overflow": null,
            "_model_module_version": "1.2.0",
            "_view_count": null,
            "flex_flow": null,
            "width": null,
            "min_width": null,
            "border": null,
            "align_items": null,
            "bottom": null,
            "_model_module": "@jupyter-widgets/base",
            "top": null,
            "grid_column": null,
            "overflow_y": null,
            "overflow_x": null,
            "grid_auto_flow": null,
            "grid_area": null,
            "grid_template_columns": null,
            "flex": null,
            "_model_name": "LayoutModel",
            "justify_items": null,
            "grid_row": null,
            "max_height": null,
            "align_content": null,
            "visibility": null,
            "align_self": null,
            "height": null,
            "min_height": null,
            "padding": null,
            "grid_auto_rows": null,
            "grid_gap": null,
            "max_width": null,
            "order": null,
            "_view_module_version": "1.2.0",
            "grid_template_areas": null,
            "object_position": null,
            "object_fit": null,
            "grid_auto_columns": null,
            "margin": null,
            "display": null,
            "left": null
          }
        },
        "0e5b62ea43bd4044bd5d5ceb0e5d17d9": {
          "model_module": "@jupyter-widgets/controls",
          "model_name": "FloatProgressModel",
          "state": {
            "_view_name": "ProgressView",
            "style": "IPY_MODEL_020c9fbb393a4d98926a04d3168ba4f3",
            "_dom_classes": [],
            "description": "100%",
            "_model_name": "FloatProgressModel",
            "bar_style": "success",
            "max": 1112,
            "_view_module": "@jupyter-widgets/controls",
            "_model_module_version": "1.5.0",
            "value": 1112,
            "_view_count": null,
            "_view_module_version": "1.5.0",
            "orientation": "horizontal",
            "min": 0,
            "description_tooltip": null,
            "_model_module": "@jupyter-widgets/controls",
            "layout": "IPY_MODEL_49d5d9c065f14085bd284994b1c10c50"
          }
        },
        "2ace768c02874621aab77ca2d468a915": {
          "model_module": "@jupyter-widgets/controls",
          "model_name": "HTMLModel",
          "state": {
            "_view_name": "HTMLView",
            "style": "IPY_MODEL_4786eef282bf43fd9ae38050d6a2ec55",
            "_dom_classes": [],
            "description": "",
            "_model_name": "HTMLModel",
            "placeholder": "​",
            "_view_module": "@jupyter-widgets/controls",
            "_model_module_version": "1.5.0",
            "value": " 1112/1112 [00:04&lt;00:00, 273.03it/s]",
            "_view_count": null,
            "_view_module_version": "1.5.0",
            "description_tooltip": null,
            "_model_module": "@jupyter-widgets/controls",
            "layout": "IPY_MODEL_61ff77131414419ab9e354733515dc5c"
          }
        },
        "020c9fbb393a4d98926a04d3168ba4f3": {
          "model_module": "@jupyter-widgets/controls",
          "model_name": "ProgressStyleModel",
          "state": {
            "_view_name": "StyleView",
            "_model_name": "ProgressStyleModel",
            "description_width": "initial",
            "_view_module": "@jupyter-widgets/base",
            "_model_module_version": "1.5.0",
            "_view_count": null,
            "_view_module_version": "1.2.0",
            "bar_color": null,
            "_model_module": "@jupyter-widgets/controls"
          }
        },
        "49d5d9c065f14085bd284994b1c10c50": {
          "model_module": "@jupyter-widgets/base",
          "model_name": "LayoutModel",
          "state": {
            "_view_name": "LayoutView",
            "grid_template_rows": null,
            "right": null,
            "justify_content": null,
            "_view_module": "@jupyter-widgets/base",
            "overflow": null,
            "_model_module_version": "1.2.0",
            "_view_count": null,
            "flex_flow": null,
            "width": null,
            "min_width": null,
            "border": null,
            "align_items": null,
            "bottom": null,
            "_model_module": "@jupyter-widgets/base",
            "top": null,
            "grid_column": null,
            "overflow_y": null,
            "overflow_x": null,
            "grid_auto_flow": null,
            "grid_area": null,
            "grid_template_columns": null,
            "flex": null,
            "_model_name": "LayoutModel",
            "justify_items": null,
            "grid_row": null,
            "max_height": null,
            "align_content": null,
            "visibility": null,
            "align_self": null,
            "height": null,
            "min_height": null,
            "padding": null,
            "grid_auto_rows": null,
            "grid_gap": null,
            "max_width": null,
            "order": null,
            "_view_module_version": "1.2.0",
            "grid_template_areas": null,
            "object_position": null,
            "object_fit": null,
            "grid_auto_columns": null,
            "margin": null,
            "display": null,
            "left": null
          }
        },
        "4786eef282bf43fd9ae38050d6a2ec55": {
          "model_module": "@jupyter-widgets/controls",
          "model_name": "DescriptionStyleModel",
          "state": {
            "_view_name": "StyleView",
            "_model_name": "DescriptionStyleModel",
            "description_width": "",
            "_view_module": "@jupyter-widgets/base",
            "_model_module_version": "1.5.0",
            "_view_count": null,
            "_view_module_version": "1.2.0",
            "_model_module": "@jupyter-widgets/controls"
          }
        },
        "61ff77131414419ab9e354733515dc5c": {
          "model_module": "@jupyter-widgets/base",
          "model_name": "LayoutModel",
          "state": {
            "_view_name": "LayoutView",
            "grid_template_rows": null,
            "right": null,
            "justify_content": null,
            "_view_module": "@jupyter-widgets/base",
            "overflow": null,
            "_model_module_version": "1.2.0",
            "_view_count": null,
            "flex_flow": null,
            "width": null,
            "min_width": null,
            "border": null,
            "align_items": null,
            "bottom": null,
            "_model_module": "@jupyter-widgets/base",
            "top": null,
            "grid_column": null,
            "overflow_y": null,
            "overflow_x": null,
            "grid_auto_flow": null,
            "grid_area": null,
            "grid_template_columns": null,
            "flex": null,
            "_model_name": "LayoutModel",
            "justify_items": null,
            "grid_row": null,
            "max_height": null,
            "align_content": null,
            "visibility": null,
            "align_self": null,
            "height": null,
            "min_height": null,
            "padding": null,
            "grid_auto_rows": null,
            "grid_gap": null,
            "max_width": null,
            "order": null,
            "_view_module_version": "1.2.0",
            "grid_template_areas": null,
            "object_position": null,
            "object_fit": null,
            "grid_auto_columns": null,
            "margin": null,
            "display": null,
            "left": null
          }
        },
        "1a272cfc1cf3434b8e6ad5a76fe057ca": {
          "model_module": "@jupyter-widgets/controls",
          "model_name": "HBoxModel",
          "state": {
            "_view_name": "HBoxView",
            "_dom_classes": [],
            "_model_name": "HBoxModel",
            "_view_module": "@jupyter-widgets/controls",
            "_model_module_version": "1.5.0",
            "_view_count": null,
            "_view_module_version": "1.5.0",
            "box_style": "",
            "layout": "IPY_MODEL_1aee220898ae4163850bc25e912c8a36",
            "_model_module": "@jupyter-widgets/controls",
            "children": [
              "IPY_MODEL_39448115adf74d52b0de25932a270188",
              "IPY_MODEL_5d9de2d044e64a31a909f6066c21b25c"
            ]
          }
        },
        "1aee220898ae4163850bc25e912c8a36": {
          "model_module": "@jupyter-widgets/base",
          "model_name": "LayoutModel",
          "state": {
            "_view_name": "LayoutView",
            "grid_template_rows": null,
            "right": null,
            "justify_content": null,
            "_view_module": "@jupyter-widgets/base",
            "overflow": null,
            "_model_module_version": "1.2.0",
            "_view_count": null,
            "flex_flow": null,
            "width": null,
            "min_width": null,
            "border": null,
            "align_items": null,
            "bottom": null,
            "_model_module": "@jupyter-widgets/base",
            "top": null,
            "grid_column": null,
            "overflow_y": null,
            "overflow_x": null,
            "grid_auto_flow": null,
            "grid_area": null,
            "grid_template_columns": null,
            "flex": null,
            "_model_name": "LayoutModel",
            "justify_items": null,
            "grid_row": null,
            "max_height": null,
            "align_content": null,
            "visibility": null,
            "align_self": null,
            "height": null,
            "min_height": null,
            "padding": null,
            "grid_auto_rows": null,
            "grid_gap": null,
            "max_width": null,
            "order": null,
            "_view_module_version": "1.2.0",
            "grid_template_areas": null,
            "object_position": null,
            "object_fit": null,
            "grid_auto_columns": null,
            "margin": null,
            "display": null,
            "left": null
          }
        },
        "39448115adf74d52b0de25932a270188": {
          "model_module": "@jupyter-widgets/controls",
          "model_name": "FloatProgressModel",
          "state": {
            "_view_name": "ProgressView",
            "style": "IPY_MODEL_9ceb2fac010847eeacf13d716c1dddc4",
            "_dom_classes": [],
            "description": "100%",
            "_model_name": "FloatProgressModel",
            "bar_style": "success",
            "max": 1112,
            "_view_module": "@jupyter-widgets/controls",
            "_model_module_version": "1.5.0",
            "value": 1112,
            "_view_count": null,
            "_view_module_version": "1.5.0",
            "orientation": "horizontal",
            "min": 0,
            "description_tooltip": null,
            "_model_module": "@jupyter-widgets/controls",
            "layout": "IPY_MODEL_59b417fc2df043f8be3a872d567bb42f"
          }
        },
        "5d9de2d044e64a31a909f6066c21b25c": {
          "model_module": "@jupyter-widgets/controls",
          "model_name": "HTMLModel",
          "state": {
            "_view_name": "HTMLView",
            "style": "IPY_MODEL_a1f2a90286fc494b810e4ad16260cbb7",
            "_dom_classes": [],
            "description": "",
            "_model_name": "HTMLModel",
            "placeholder": "​",
            "_view_module": "@jupyter-widgets/controls",
            "_model_module_version": "1.5.0",
            "value": " 1112/1112 [00:04&lt;00:00, 252.74it/s]",
            "_view_count": null,
            "_view_module_version": "1.5.0",
            "description_tooltip": null,
            "_model_module": "@jupyter-widgets/controls",
            "layout": "IPY_MODEL_ba407dd457af4557bef3109dc020428f"
          }
        },
        "9ceb2fac010847eeacf13d716c1dddc4": {
          "model_module": "@jupyter-widgets/controls",
          "model_name": "ProgressStyleModel",
          "state": {
            "_view_name": "StyleView",
            "_model_name": "ProgressStyleModel",
            "description_width": "initial",
            "_view_module": "@jupyter-widgets/base",
            "_model_module_version": "1.5.0",
            "_view_count": null,
            "_view_module_version": "1.2.0",
            "bar_color": null,
            "_model_module": "@jupyter-widgets/controls"
          }
        },
        "59b417fc2df043f8be3a872d567bb42f": {
          "model_module": "@jupyter-widgets/base",
          "model_name": "LayoutModel",
          "state": {
            "_view_name": "LayoutView",
            "grid_template_rows": null,
            "right": null,
            "justify_content": null,
            "_view_module": "@jupyter-widgets/base",
            "overflow": null,
            "_model_module_version": "1.2.0",
            "_view_count": null,
            "flex_flow": null,
            "width": null,
            "min_width": null,
            "border": null,
            "align_items": null,
            "bottom": null,
            "_model_module": "@jupyter-widgets/base",
            "top": null,
            "grid_column": null,
            "overflow_y": null,
            "overflow_x": null,
            "grid_auto_flow": null,
            "grid_area": null,
            "grid_template_columns": null,
            "flex": null,
            "_model_name": "LayoutModel",
            "justify_items": null,
            "grid_row": null,
            "max_height": null,
            "align_content": null,
            "visibility": null,
            "align_self": null,
            "height": null,
            "min_height": null,
            "padding": null,
            "grid_auto_rows": null,
            "grid_gap": null,
            "max_width": null,
            "order": null,
            "_view_module_version": "1.2.0",
            "grid_template_areas": null,
            "object_position": null,
            "object_fit": null,
            "grid_auto_columns": null,
            "margin": null,
            "display": null,
            "left": null
          }
        },
        "a1f2a90286fc494b810e4ad16260cbb7": {
          "model_module": "@jupyter-widgets/controls",
          "model_name": "DescriptionStyleModel",
          "state": {
            "_view_name": "StyleView",
            "_model_name": "DescriptionStyleModel",
            "description_width": "",
            "_view_module": "@jupyter-widgets/base",
            "_model_module_version": "1.5.0",
            "_view_count": null,
            "_view_module_version": "1.2.0",
            "_model_module": "@jupyter-widgets/controls"
          }
        },
        "ba407dd457af4557bef3109dc020428f": {
          "model_module": "@jupyter-widgets/base",
          "model_name": "LayoutModel",
          "state": {
            "_view_name": "LayoutView",
            "grid_template_rows": null,
            "right": null,
            "justify_content": null,
            "_view_module": "@jupyter-widgets/base",
            "overflow": null,
            "_model_module_version": "1.2.0",
            "_view_count": null,
            "flex_flow": null,
            "width": null,
            "min_width": null,
            "border": null,
            "align_items": null,
            "bottom": null,
            "_model_module": "@jupyter-widgets/base",
            "top": null,
            "grid_column": null,
            "overflow_y": null,
            "overflow_x": null,
            "grid_auto_flow": null,
            "grid_area": null,
            "grid_template_columns": null,
            "flex": null,
            "_model_name": "LayoutModel",
            "justify_items": null,
            "grid_row": null,
            "max_height": null,
            "align_content": null,
            "visibility": null,
            "align_self": null,
            "height": null,
            "min_height": null,
            "padding": null,
            "grid_auto_rows": null,
            "grid_gap": null,
            "max_width": null,
            "order": null,
            "_view_module_version": "1.2.0",
            "grid_template_areas": null,
            "object_position": null,
            "object_fit": null,
            "grid_auto_columns": null,
            "margin": null,
            "display": null,
            "left": null
          }
        },
        "f4a272b85d384a90866d9b0eff9b0d17": {
          "model_module": "@jupyter-widgets/controls",
          "model_name": "HBoxModel",
          "state": {
            "_view_name": "HBoxView",
            "_dom_classes": [],
            "_model_name": "HBoxModel",
            "_view_module": "@jupyter-widgets/controls",
            "_model_module_version": "1.5.0",
            "_view_count": null,
            "_view_module_version": "1.5.0",
            "box_style": "",
            "layout": "IPY_MODEL_3e86308514bb4305808ebac9590a6cf4",
            "_model_module": "@jupyter-widgets/controls",
            "children": [
              "IPY_MODEL_60cec39c0b39414d887aefa72b860f96",
              "IPY_MODEL_788ab62b70054bafbc098a012e96476f"
            ]
          }
        },
        "3e86308514bb4305808ebac9590a6cf4": {
          "model_module": "@jupyter-widgets/base",
          "model_name": "LayoutModel",
          "state": {
            "_view_name": "LayoutView",
            "grid_template_rows": null,
            "right": null,
            "justify_content": null,
            "_view_module": "@jupyter-widgets/base",
            "overflow": null,
            "_model_module_version": "1.2.0",
            "_view_count": null,
            "flex_flow": null,
            "width": null,
            "min_width": null,
            "border": null,
            "align_items": null,
            "bottom": null,
            "_model_module": "@jupyter-widgets/base",
            "top": null,
            "grid_column": null,
            "overflow_y": null,
            "overflow_x": null,
            "grid_auto_flow": null,
            "grid_area": null,
            "grid_template_columns": null,
            "flex": null,
            "_model_name": "LayoutModel",
            "justify_items": null,
            "grid_row": null,
            "max_height": null,
            "align_content": null,
            "visibility": null,
            "align_self": null,
            "height": null,
            "min_height": null,
            "padding": null,
            "grid_auto_rows": null,
            "grid_gap": null,
            "max_width": null,
            "order": null,
            "_view_module_version": "1.2.0",
            "grid_template_areas": null,
            "object_position": null,
            "object_fit": null,
            "grid_auto_columns": null,
            "margin": null,
            "display": null,
            "left": null
          }
        },
        "60cec39c0b39414d887aefa72b860f96": {
          "model_module": "@jupyter-widgets/controls",
          "model_name": "FloatProgressModel",
          "state": {
            "_view_name": "ProgressView",
            "style": "IPY_MODEL_d58b7d95590e481db0c93f3d80fd5984",
            "_dom_classes": [],
            "description": "100%",
            "_model_name": "FloatProgressModel",
            "bar_style": "success",
            "max": 146645,
            "_view_module": "@jupyter-widgets/controls",
            "_model_module_version": "1.5.0",
            "value": 146645,
            "_view_count": null,
            "_view_module_version": "1.5.0",
            "orientation": "horizontal",
            "min": 0,
            "description_tooltip": null,
            "_model_module": "@jupyter-widgets/controls",
            "layout": "IPY_MODEL_293a600c5dc24d05933689b579f6b994"
          }
        },
        "788ab62b70054bafbc098a012e96476f": {
          "model_module": "@jupyter-widgets/controls",
          "model_name": "HTMLModel",
          "state": {
            "_view_name": "HTMLView",
            "style": "IPY_MODEL_644be23f0f8a41cb80ffcafbcfa29dfd",
            "_dom_classes": [],
            "description": "",
            "_model_name": "HTMLModel",
            "placeholder": "​",
            "_view_module": "@jupyter-widgets/controls",
            "_model_module_version": "1.5.0",
            "value": " 146645/146645 [01:04&lt;00:00, 2262.99it/s]",
            "_view_count": null,
            "_view_module_version": "1.5.0",
            "description_tooltip": null,
            "_model_module": "@jupyter-widgets/controls",
            "layout": "IPY_MODEL_c32daa63678f4fc5a290b4d2b02b68d4"
          }
        },
        "d58b7d95590e481db0c93f3d80fd5984": {
          "model_module": "@jupyter-widgets/controls",
          "model_name": "ProgressStyleModel",
          "state": {
            "_view_name": "StyleView",
            "_model_name": "ProgressStyleModel",
            "description_width": "initial",
            "_view_module": "@jupyter-widgets/base",
            "_model_module_version": "1.5.0",
            "_view_count": null,
            "_view_module_version": "1.2.0",
            "bar_color": null,
            "_model_module": "@jupyter-widgets/controls"
          }
        },
        "293a600c5dc24d05933689b579f6b994": {
          "model_module": "@jupyter-widgets/base",
          "model_name": "LayoutModel",
          "state": {
            "_view_name": "LayoutView",
            "grid_template_rows": null,
            "right": null,
            "justify_content": null,
            "_view_module": "@jupyter-widgets/base",
            "overflow": null,
            "_model_module_version": "1.2.0",
            "_view_count": null,
            "flex_flow": null,
            "width": null,
            "min_width": null,
            "border": null,
            "align_items": null,
            "bottom": null,
            "_model_module": "@jupyter-widgets/base",
            "top": null,
            "grid_column": null,
            "overflow_y": null,
            "overflow_x": null,
            "grid_auto_flow": null,
            "grid_area": null,
            "grid_template_columns": null,
            "flex": null,
            "_model_name": "LayoutModel",
            "justify_items": null,
            "grid_row": null,
            "max_height": null,
            "align_content": null,
            "visibility": null,
            "align_self": null,
            "height": null,
            "min_height": null,
            "padding": null,
            "grid_auto_rows": null,
            "grid_gap": null,
            "max_width": null,
            "order": null,
            "_view_module_version": "1.2.0",
            "grid_template_areas": null,
            "object_position": null,
            "object_fit": null,
            "grid_auto_columns": null,
            "margin": null,
            "display": null,
            "left": null
          }
        },
        "644be23f0f8a41cb80ffcafbcfa29dfd": {
          "model_module": "@jupyter-widgets/controls",
          "model_name": "DescriptionStyleModel",
          "state": {
            "_view_name": "StyleView",
            "_model_name": "DescriptionStyleModel",
            "description_width": "",
            "_view_module": "@jupyter-widgets/base",
            "_model_module_version": "1.5.0",
            "_view_count": null,
            "_view_module_version": "1.2.0",
            "_model_module": "@jupyter-widgets/controls"
          }
        },
        "c32daa63678f4fc5a290b4d2b02b68d4": {
          "model_module": "@jupyter-widgets/base",
          "model_name": "LayoutModel",
          "state": {
            "_view_name": "LayoutView",
            "grid_template_rows": null,
            "right": null,
            "justify_content": null,
            "_view_module": "@jupyter-widgets/base",
            "overflow": null,
            "_model_module_version": "1.2.0",
            "_view_count": null,
            "flex_flow": null,
            "width": null,
            "min_width": null,
            "border": null,
            "align_items": null,
            "bottom": null,
            "_model_module": "@jupyter-widgets/base",
            "top": null,
            "grid_column": null,
            "overflow_y": null,
            "overflow_x": null,
            "grid_auto_flow": null,
            "grid_area": null,
            "grid_template_columns": null,
            "flex": null,
            "_model_name": "LayoutModel",
            "justify_items": null,
            "grid_row": null,
            "max_height": null,
            "align_content": null,
            "visibility": null,
            "align_self": null,
            "height": null,
            "min_height": null,
            "padding": null,
            "grid_auto_rows": null,
            "grid_gap": null,
            "max_width": null,
            "order": null,
            "_view_module_version": "1.2.0",
            "grid_template_areas": null,
            "object_position": null,
            "object_fit": null,
            "grid_auto_columns": null,
            "margin": null,
            "display": null,
            "left": null
          }
        },
        "e2d8eb27c3ef4bdfae6420d10da6d7c3": {
          "model_module": "@jupyter-widgets/controls",
          "model_name": "HBoxModel",
          "state": {
            "_view_name": "HBoxView",
            "_dom_classes": [],
            "_model_name": "HBoxModel",
            "_view_module": "@jupyter-widgets/controls",
            "_model_module_version": "1.5.0",
            "_view_count": null,
            "_view_module_version": "1.5.0",
            "box_style": "",
            "layout": "IPY_MODEL_43a79986a8694762bf76d95450b6e847",
            "_model_module": "@jupyter-widgets/controls",
            "children": [
              "IPY_MODEL_e5380a4ca63c4c5084b82a31ffa9fd83",
              "IPY_MODEL_ce9236ed9faf40268108572733cb693e"
            ]
          }
        },
        "43a79986a8694762bf76d95450b6e847": {
          "model_module": "@jupyter-widgets/base",
          "model_name": "LayoutModel",
          "state": {
            "_view_name": "LayoutView",
            "grid_template_rows": null,
            "right": null,
            "justify_content": null,
            "_view_module": "@jupyter-widgets/base",
            "overflow": null,
            "_model_module_version": "1.2.0",
            "_view_count": null,
            "flex_flow": null,
            "width": null,
            "min_width": null,
            "border": null,
            "align_items": null,
            "bottom": null,
            "_model_module": "@jupyter-widgets/base",
            "top": null,
            "grid_column": null,
            "overflow_y": null,
            "overflow_x": null,
            "grid_auto_flow": null,
            "grid_area": null,
            "grid_template_columns": null,
            "flex": null,
            "_model_name": "LayoutModel",
            "justify_items": null,
            "grid_row": null,
            "max_height": null,
            "align_content": null,
            "visibility": null,
            "align_self": null,
            "height": null,
            "min_height": null,
            "padding": null,
            "grid_auto_rows": null,
            "grid_gap": null,
            "max_width": null,
            "order": null,
            "_view_module_version": "1.2.0",
            "grid_template_areas": null,
            "object_position": null,
            "object_fit": null,
            "grid_auto_columns": null,
            "margin": null,
            "display": null,
            "left": null
          }
        },
        "e5380a4ca63c4c5084b82a31ffa9fd83": {
          "model_module": "@jupyter-widgets/controls",
          "model_name": "FloatProgressModel",
          "state": {
            "_view_name": "ProgressView",
            "style": "IPY_MODEL_e0cfa89d3f89479090d0cf14af284981",
            "_dom_classes": [],
            "description": "100%",
            "_model_name": "FloatProgressModel",
            "bar_style": "success",
            "max": 1112,
            "_view_module": "@jupyter-widgets/controls",
            "_model_module_version": "1.5.0",
            "value": 1112,
            "_view_count": null,
            "_view_module_version": "1.5.0",
            "orientation": "horizontal",
            "min": 0,
            "description_tooltip": null,
            "_model_module": "@jupyter-widgets/controls",
            "layout": "IPY_MODEL_2454f0dfcc6245b1a85569718feae9f0"
          }
        },
        "ce9236ed9faf40268108572733cb693e": {
          "model_module": "@jupyter-widgets/controls",
          "model_name": "HTMLModel",
          "state": {
            "_view_name": "HTMLView",
            "style": "IPY_MODEL_b628b6d0a7254c72afe63d170ac56f6a",
            "_dom_classes": [],
            "description": "",
            "_model_name": "HTMLModel",
            "placeholder": "​",
            "_view_module": "@jupyter-widgets/controls",
            "_model_module_version": "1.5.0",
            "value": " 1112/1112 [01:09&lt;00:00, 15.90it/s]",
            "_view_count": null,
            "_view_module_version": "1.5.0",
            "description_tooltip": null,
            "_model_module": "@jupyter-widgets/controls",
            "layout": "IPY_MODEL_976fba56a4644623a2773c328aa3fe07"
          }
        },
        "e0cfa89d3f89479090d0cf14af284981": {
          "model_module": "@jupyter-widgets/controls",
          "model_name": "ProgressStyleModel",
          "state": {
            "_view_name": "StyleView",
            "_model_name": "ProgressStyleModel",
            "description_width": "initial",
            "_view_module": "@jupyter-widgets/base",
            "_model_module_version": "1.5.0",
            "_view_count": null,
            "_view_module_version": "1.2.0",
            "bar_color": null,
            "_model_module": "@jupyter-widgets/controls"
          }
        },
        "2454f0dfcc6245b1a85569718feae9f0": {
          "model_module": "@jupyter-widgets/base",
          "model_name": "LayoutModel",
          "state": {
            "_view_name": "LayoutView",
            "grid_template_rows": null,
            "right": null,
            "justify_content": null,
            "_view_module": "@jupyter-widgets/base",
            "overflow": null,
            "_model_module_version": "1.2.0",
            "_view_count": null,
            "flex_flow": null,
            "width": null,
            "min_width": null,
            "border": null,
            "align_items": null,
            "bottom": null,
            "_model_module": "@jupyter-widgets/base",
            "top": null,
            "grid_column": null,
            "overflow_y": null,
            "overflow_x": null,
            "grid_auto_flow": null,
            "grid_area": null,
            "grid_template_columns": null,
            "flex": null,
            "_model_name": "LayoutModel",
            "justify_items": null,
            "grid_row": null,
            "max_height": null,
            "align_content": null,
            "visibility": null,
            "align_self": null,
            "height": null,
            "min_height": null,
            "padding": null,
            "grid_auto_rows": null,
            "grid_gap": null,
            "max_width": null,
            "order": null,
            "_view_module_version": "1.2.0",
            "grid_template_areas": null,
            "object_position": null,
            "object_fit": null,
            "grid_auto_columns": null,
            "margin": null,
            "display": null,
            "left": null
          }
        },
        "b628b6d0a7254c72afe63d170ac56f6a": {
          "model_module": "@jupyter-widgets/controls",
          "model_name": "DescriptionStyleModel",
          "state": {
            "_view_name": "StyleView",
            "_model_name": "DescriptionStyleModel",
            "description_width": "",
            "_view_module": "@jupyter-widgets/base",
            "_model_module_version": "1.5.0",
            "_view_count": null,
            "_view_module_version": "1.2.0",
            "_model_module": "@jupyter-widgets/controls"
          }
        },
        "976fba56a4644623a2773c328aa3fe07": {
          "model_module": "@jupyter-widgets/base",
          "model_name": "LayoutModel",
          "state": {
            "_view_name": "LayoutView",
            "grid_template_rows": null,
            "right": null,
            "justify_content": null,
            "_view_module": "@jupyter-widgets/base",
            "overflow": null,
            "_model_module_version": "1.2.0",
            "_view_count": null,
            "flex_flow": null,
            "width": null,
            "min_width": null,
            "border": null,
            "align_items": null,
            "bottom": null,
            "_model_module": "@jupyter-widgets/base",
            "top": null,
            "grid_column": null,
            "overflow_y": null,
            "overflow_x": null,
            "grid_auto_flow": null,
            "grid_area": null,
            "grid_template_columns": null,
            "flex": null,
            "_model_name": "LayoutModel",
            "justify_items": null,
            "grid_row": null,
            "max_height": null,
            "align_content": null,
            "visibility": null,
            "align_self": null,
            "height": null,
            "min_height": null,
            "padding": null,
            "grid_auto_rows": null,
            "grid_gap": null,
            "max_width": null,
            "order": null,
            "_view_module_version": "1.2.0",
            "grid_template_areas": null,
            "object_position": null,
            "object_fit": null,
            "grid_auto_columns": null,
            "margin": null,
            "display": null,
            "left": null
          }
        }
      }
    },
    "accelerator": "GPU"
  },
  "cells": [
    {
      "cell_type": "markdown",
      "metadata": {
        "id": "view-in-github",
        "colab_type": "text"
      },
      "source": [
        "<a href=\"https://colab.research.google.com/github/BunnyNoBugs/minor2021-iad3-spring/blob/main/sem08_recsys/sem08_recsys.ipynb\" target=\"_parent\"><img src=\"https://colab.research.google.com/assets/colab-badge.svg\" alt=\"Open In Colab\"/></a>"
      ]
    },
    {
      "cell_type": "markdown",
      "metadata": {
        "id": "rdcG8vCC7NT-"
      },
      "source": [
        "## Прикладные задачи анализа данных 2021\n",
        "\n",
        "## Рекомендательные системы - 1\n",
        "\n",
        "Ссылка на этот ноутбук в колабе"
      ]
    },
    {
      "cell_type": "markdown",
      "metadata": {
        "id": "9x8hyRrh7NUD"
      },
      "source": [
        "В этом задании будем практиковаться в реализации рекомендательных систем.\n",
        "\n",
        "Воспользуемся небольшим датасетом с Kaggle: [Articles Sharing and Reading from CI&T Deskdrop](https://www.kaggle.com/gspmoreira/articles-sharing-reading-from-cit-deskdrop)."
      ]
    },
    {
      "cell_type": "code",
      "metadata": {
        "colab": {
          "base_uri": "https://localhost:8080/"
        },
        "id": "iio1_Ru07NUE",
        "outputId": "38b9f914-9395-4d37-a400-35cacc221e1f"
      },
      "source": [
        "%pylab inline\n",
        "\n",
        "import pandas as pd\n",
        "\n",
        "from tqdm import tqdm_notebook, tqdm"
      ],
      "execution_count": 19,
      "outputs": [
        {
          "output_type": "stream",
          "text": [
            "Populating the interactive namespace from numpy and matplotlib\n"
          ],
          "name": "stdout"
        }
      ]
    },
    {
      "cell_type": "markdown",
      "metadata": {
        "id": "TZm2RA1z7NUF"
      },
      "source": [
        "## Часть 0. Загрузка данных"
      ]
    },
    {
      "cell_type": "markdown",
      "metadata": {
        "id": "xLkQJwKV7NUF"
      },
      "source": [
        "Загрузим Deskdrop dataset, включающийся в себе логи за 1 год платформы, где пользователи читают статьи.\n",
        "\n",
        "Данные включают в себя 2 файла:  \n",
        "- **shared_articles.csv**\n",
        "- **users_interactions.csv**\n",
        "\n",
        "Как можно догадаться, в одном описания самих статей (нам понадобятся в контентных моделях), а в другом логи пользователей."
      ]
    },
    {
      "cell_type": "code",
      "metadata": {
        "colab": {
          "base_uri": "https://localhost:8080/"
        },
        "id": "EympksqQ7NUF",
        "outputId": "594fcd51-d38a-418d-b243-385d88ab46bf"
      },
      "source": [
        "# загружаем и разархивируем данные\n",
        "!pip3 -q install cython\n",
        "!pip3 -q install git+https://github.com/coreylynch/pyFM\n",
        "!pip3 -q install catboost\n",
        "!wget -q -N \"https://www.dropbox.com/s/z8syrl5trawxs0n/articles.zip?dl=0\" -O articles.zip\n",
        "!unzip -o -q articles.zip"
      ],
      "execution_count": 20,
      "outputs": [
        {
          "output_type": "stream",
          "text": [
            "  Building wheel for pyfm (setup.py) ... \u001b[?25l\u001b[?25hdone\n"
          ],
          "name": "stdout"
        }
      ]
    },
    {
      "cell_type": "markdown",
      "metadata": {
        "id": "nWFKbw3a7NUG"
      },
      "source": [
        "#### shared_articles.csv"
      ]
    },
    {
      "cell_type": "markdown",
      "metadata": {
        "id": "6VKC0fE97NUG"
      },
      "source": [
        "Так как в файле перечислены даже удалённые статьи, то мы их сразу удалим (на самом деле они могли бы быть нам полезны для подсчёта различных величин, хоть мы и не можем их рекомендовать)."
      ]
    },
    {
      "cell_type": "code",
      "metadata": {
        "colab": {
          "base_uri": "https://localhost:8080/",
          "height": 378
        },
        "id": "BArQeGip7NUG",
        "outputId": "50db8304-eb15-465c-df44-f4cbdfff9462"
      },
      "source": [
        "articles_df = pd.read_csv('./articles/shared_articles.csv')\n",
        "articles_df = articles_df[articles_df['eventType'] == 'CONTENT SHARED']\n",
        "articles_df.head(2)"
      ],
      "execution_count": 21,
      "outputs": [
        {
          "output_type": "execute_result",
          "data": {
            "text/html": [
              "<div>\n",
              "<style scoped>\n",
              "    .dataframe tbody tr th:only-of-type {\n",
              "        vertical-align: middle;\n",
              "    }\n",
              "\n",
              "    .dataframe tbody tr th {\n",
              "        vertical-align: top;\n",
              "    }\n",
              "\n",
              "    .dataframe thead th {\n",
              "        text-align: right;\n",
              "    }\n",
              "</style>\n",
              "<table border=\"1\" class=\"dataframe\">\n",
              "  <thead>\n",
              "    <tr style=\"text-align: right;\">\n",
              "      <th></th>\n",
              "      <th>timestamp</th>\n",
              "      <th>eventType</th>\n",
              "      <th>contentId</th>\n",
              "      <th>authorPersonId</th>\n",
              "      <th>authorSessionId</th>\n",
              "      <th>authorUserAgent</th>\n",
              "      <th>authorRegion</th>\n",
              "      <th>authorCountry</th>\n",
              "      <th>contentType</th>\n",
              "      <th>url</th>\n",
              "      <th>title</th>\n",
              "      <th>text</th>\n",
              "      <th>lang</th>\n",
              "    </tr>\n",
              "  </thead>\n",
              "  <tbody>\n",
              "    <tr>\n",
              "      <th>1</th>\n",
              "      <td>1459193988</td>\n",
              "      <td>CONTENT SHARED</td>\n",
              "      <td>-4110354420726924665</td>\n",
              "      <td>4340306774493623681</td>\n",
              "      <td>8940341205206233829</td>\n",
              "      <td>NaN</td>\n",
              "      <td>NaN</td>\n",
              "      <td>NaN</td>\n",
              "      <td>HTML</td>\n",
              "      <td>http://www.nytimes.com/2016/03/28/business/dea...</td>\n",
              "      <td>Ethereum, a Virtual Currency, Enables Transact...</td>\n",
              "      <td>All of this work is still very early. The firs...</td>\n",
              "      <td>en</td>\n",
              "    </tr>\n",
              "    <tr>\n",
              "      <th>2</th>\n",
              "      <td>1459194146</td>\n",
              "      <td>CONTENT SHARED</td>\n",
              "      <td>-7292285110016212249</td>\n",
              "      <td>4340306774493623681</td>\n",
              "      <td>8940341205206233829</td>\n",
              "      <td>NaN</td>\n",
              "      <td>NaN</td>\n",
              "      <td>NaN</td>\n",
              "      <td>HTML</td>\n",
              "      <td>http://cointelegraph.com/news/bitcoin-future-w...</td>\n",
              "      <td>Bitcoin Future: When GBPcoin of Branson Wins O...</td>\n",
              "      <td>The alarm clock wakes me at 8:00 with stream o...</td>\n",
              "      <td>en</td>\n",
              "    </tr>\n",
              "  </tbody>\n",
              "</table>\n",
              "</div>"
            ],
            "text/plain": [
              "    timestamp  ... lang\n",
              "1  1459193988  ...   en\n",
              "2  1459194146  ...   en\n",
              "\n",
              "[2 rows x 13 columns]"
            ]
          },
          "metadata": {
            "tags": []
          },
          "execution_count": 21
        }
      ]
    },
    {
      "cell_type": "markdown",
      "metadata": {
        "id": "9U9bXogy7NUG"
      },
      "source": [
        "#### users_interactions.csv"
      ]
    },
    {
      "cell_type": "markdown",
      "metadata": {
        "id": "3JdRT3Fp7NUH"
      },
      "source": [
        "В колонке eventType описаны действия, которые могли совершать пользователи над статьёй:  \n",
        "- VIEW\n",
        "- LIKE\n",
        "- COMMENT CREATED\n",
        "- FOLLOW\n",
        "- BOOKMARK"
      ]
    },
    {
      "cell_type": "code",
      "metadata": {
        "colab": {
          "base_uri": "https://localhost:8080/",
          "height": 343
        },
        "id": "Ou_s98f37NUH",
        "outputId": "226b2eda-4b2d-4625-ba89-a4cb847d33e1"
      },
      "source": [
        "interactions_df = pd.read_csv('./articles/users_interactions.csv')\n",
        "interactions_df.head(10)"
      ],
      "execution_count": 22,
      "outputs": [
        {
          "output_type": "execute_result",
          "data": {
            "text/html": [
              "<div>\n",
              "<style scoped>\n",
              "    .dataframe tbody tr th:only-of-type {\n",
              "        vertical-align: middle;\n",
              "    }\n",
              "\n",
              "    .dataframe tbody tr th {\n",
              "        vertical-align: top;\n",
              "    }\n",
              "\n",
              "    .dataframe thead th {\n",
              "        text-align: right;\n",
              "    }\n",
              "</style>\n",
              "<table border=\"1\" class=\"dataframe\">\n",
              "  <thead>\n",
              "    <tr style=\"text-align: right;\">\n",
              "      <th></th>\n",
              "      <th>timestamp</th>\n",
              "      <th>eventType</th>\n",
              "      <th>contentId</th>\n",
              "      <th>personId</th>\n",
              "      <th>sessionId</th>\n",
              "      <th>userAgent</th>\n",
              "      <th>userRegion</th>\n",
              "      <th>userCountry</th>\n",
              "    </tr>\n",
              "  </thead>\n",
              "  <tbody>\n",
              "    <tr>\n",
              "      <th>0</th>\n",
              "      <td>1465413032</td>\n",
              "      <td>VIEW</td>\n",
              "      <td>-3499919498720038879</td>\n",
              "      <td>-8845298781299428018</td>\n",
              "      <td>1264196770339959068</td>\n",
              "      <td>NaN</td>\n",
              "      <td>NaN</td>\n",
              "      <td>NaN</td>\n",
              "    </tr>\n",
              "    <tr>\n",
              "      <th>1</th>\n",
              "      <td>1465412560</td>\n",
              "      <td>VIEW</td>\n",
              "      <td>8890720798209849691</td>\n",
              "      <td>-1032019229384696495</td>\n",
              "      <td>3621737643587579081</td>\n",
              "      <td>Mozilla/5.0 (Macintosh; Intel Mac OS X 10_11_2...</td>\n",
              "      <td>NY</td>\n",
              "      <td>US</td>\n",
              "    </tr>\n",
              "    <tr>\n",
              "      <th>2</th>\n",
              "      <td>1465416190</td>\n",
              "      <td>VIEW</td>\n",
              "      <td>310515487419366995</td>\n",
              "      <td>-1130272294246983140</td>\n",
              "      <td>2631864456530402479</td>\n",
              "      <td>NaN</td>\n",
              "      <td>NaN</td>\n",
              "      <td>NaN</td>\n",
              "    </tr>\n",
              "    <tr>\n",
              "      <th>3</th>\n",
              "      <td>1465413895</td>\n",
              "      <td>FOLLOW</td>\n",
              "      <td>310515487419366995</td>\n",
              "      <td>344280948527967603</td>\n",
              "      <td>-3167637573980064150</td>\n",
              "      <td>NaN</td>\n",
              "      <td>NaN</td>\n",
              "      <td>NaN</td>\n",
              "    </tr>\n",
              "    <tr>\n",
              "      <th>4</th>\n",
              "      <td>1465412290</td>\n",
              "      <td>VIEW</td>\n",
              "      <td>-7820640624231356730</td>\n",
              "      <td>-445337111692715325</td>\n",
              "      <td>5611481178424124714</td>\n",
              "      <td>NaN</td>\n",
              "      <td>NaN</td>\n",
              "      <td>NaN</td>\n",
              "    </tr>\n",
              "    <tr>\n",
              "      <th>5</th>\n",
              "      <td>1465413742</td>\n",
              "      <td>VIEW</td>\n",
              "      <td>310515487419366995</td>\n",
              "      <td>-8763398617720485024</td>\n",
              "      <td>1395789369402380392</td>\n",
              "      <td>Mozilla/5.0 (Windows NT 10.0; WOW64) AppleWebK...</td>\n",
              "      <td>MG</td>\n",
              "      <td>BR</td>\n",
              "    </tr>\n",
              "    <tr>\n",
              "      <th>6</th>\n",
              "      <td>1465415950</td>\n",
              "      <td>VIEW</td>\n",
              "      <td>-8864073373672512525</td>\n",
              "      <td>3609194402293569455</td>\n",
              "      <td>1143207167886864524</td>\n",
              "      <td>NaN</td>\n",
              "      <td>NaN</td>\n",
              "      <td>NaN</td>\n",
              "    </tr>\n",
              "    <tr>\n",
              "      <th>7</th>\n",
              "      <td>1465415066</td>\n",
              "      <td>VIEW</td>\n",
              "      <td>-1492913151930215984</td>\n",
              "      <td>4254153380739593270</td>\n",
              "      <td>8743229464706506141</td>\n",
              "      <td>Mozilla/5.0 (X11; Linux x86_64) AppleWebKit/53...</td>\n",
              "      <td>SP</td>\n",
              "      <td>BR</td>\n",
              "    </tr>\n",
              "    <tr>\n",
              "      <th>8</th>\n",
              "      <td>1465413762</td>\n",
              "      <td>VIEW</td>\n",
              "      <td>310515487419366995</td>\n",
              "      <td>344280948527967603</td>\n",
              "      <td>-3167637573980064150</td>\n",
              "      <td>NaN</td>\n",
              "      <td>NaN</td>\n",
              "      <td>NaN</td>\n",
              "    </tr>\n",
              "    <tr>\n",
              "      <th>9</th>\n",
              "      <td>1465413771</td>\n",
              "      <td>VIEW</td>\n",
              "      <td>3064370296170038610</td>\n",
              "      <td>3609194402293569455</td>\n",
              "      <td>1143207167886864524</td>\n",
              "      <td>NaN</td>\n",
              "      <td>NaN</td>\n",
              "      <td>NaN</td>\n",
              "    </tr>\n",
              "  </tbody>\n",
              "</table>\n",
              "</div>"
            ],
            "text/plain": [
              "    timestamp eventType  ...  userRegion  userCountry\n",
              "0  1465413032      VIEW  ...         NaN          NaN\n",
              "1  1465412560      VIEW  ...          NY           US\n",
              "2  1465416190      VIEW  ...         NaN          NaN\n",
              "3  1465413895    FOLLOW  ...         NaN          NaN\n",
              "4  1465412290      VIEW  ...         NaN          NaN\n",
              "5  1465413742      VIEW  ...          MG           BR\n",
              "6  1465415950      VIEW  ...         NaN          NaN\n",
              "7  1465415066      VIEW  ...          SP           BR\n",
              "8  1465413762      VIEW  ...         NaN          NaN\n",
              "9  1465413771      VIEW  ...         NaN          NaN\n",
              "\n",
              "[10 rows x 8 columns]"
            ]
          },
          "metadata": {
            "tags": []
          },
          "execution_count": 22
        }
      ]
    },
    {
      "cell_type": "code",
      "metadata": {
        "id": "CL9lEVCX7NUH"
      },
      "source": [
        "interactions_df.personId = interactions_df.personId.astype(str)\n",
        "interactions_df.contentId = interactions_df.contentId.astype(str)\n",
        "articles_df.contentId = articles_df.contentId.astype(str)"
      ],
      "execution_count": 23,
      "outputs": []
    },
    {
      "cell_type": "markdown",
      "metadata": {
        "id": "WBuwRpLT7NUH"
      },
      "source": [
        "### Предобработка данных"
      ]
    },
    {
      "cell_type": "markdown",
      "metadata": {
        "id": "TJR_6LkW7NUH"
      },
      "source": [
        "В логах встречаются различные действия пользователей. Однако мы хотим работать лишь с одной величиной, характеризующей всё взаимодействие пользователя со статьёй. Предлагается задать действиям следующие веса:"
      ]
    },
    {
      "cell_type": "code",
      "metadata": {
        "id": "_7ils2bV7NUI"
      },
      "source": [
        "event_type_strength = {\n",
        "   'VIEW': 1.0,\n",
        "   'LIKE': 2.0, \n",
        "   'BOOKMARK': 2.5, \n",
        "   'FOLLOW': 3.0,\n",
        "   'COMMENT CREATED': 4.0,  \n",
        "}"
      ],
      "execution_count": 24,
      "outputs": []
    },
    {
      "cell_type": "markdown",
      "metadata": {
        "id": "XNQQ0ZiP7NUI"
      },
      "source": [
        "Посчитаем числовую величину \"оценки\" пользователем статьи с указанными выше весами."
      ]
    },
    {
      "cell_type": "code",
      "metadata": {
        "id": "Ze3VeqBt7NUI"
      },
      "source": [
        "interactions_df['eventStrength'] = interactions_df.eventType.apply(lambda x : event_type_strength[x])"
      ],
      "execution_count": 25,
      "outputs": []
    },
    {
      "cell_type": "code",
      "metadata": {
        "id": "2HSuPwH481C2",
        "outputId": "7bd4009c-f703-410e-8a1d-33ba02f8fd0d",
        "colab": {
          "base_uri": "https://localhost:8080/"
        }
      },
      "source": [
        "interactions_df['eventStrength']"
      ],
      "execution_count": 26,
      "outputs": [
        {
          "output_type": "execute_result",
          "data": {
            "text/plain": [
              "0        1.0\n",
              "1        1.0\n",
              "2        1.0\n",
              "3        3.0\n",
              "4        1.0\n",
              "        ... \n",
              "72307    2.0\n",
              "72308    1.0\n",
              "72309    1.0\n",
              "72310    1.0\n",
              "72311    1.0\n",
              "Name: eventStrength, Length: 72312, dtype: float64"
            ]
          },
          "metadata": {
            "tags": []
          },
          "execution_count": 26
        }
      ]
    },
    {
      "cell_type": "markdown",
      "metadata": {
        "id": "PCq8b_uW7NUI"
      },
      "source": [
        "Ремендательные системы подвержены проблеме холодного старта. Будем работать только с теми пользователями, которые взаимодействовали хотя бы с 5-ю материалами.\n",
        "\n",
        "Оставим только таких пользователей."
      ]
    },
    {
      "cell_type": "code",
      "metadata": {
        "colab": {
          "base_uri": "https://localhost:8080/"
        },
        "id": "5Pl5RgXO7NUI",
        "outputId": "ce9f4ddb-b7c8-4fba-bde3-48ded81fc095"
      },
      "source": [
        "users_interactions_count_df = (\n",
        "    interactions_df\n",
        "    .groupby(['personId', 'contentId'])\n",
        "    .first()\n",
        "    .reset_index()\n",
        "    .groupby('personId').size())\n",
        "print('# users:', len(users_interactions_count_df))\n",
        "\n",
        "users_with_enough_interactions_df = \\\n",
        "    users_interactions_count_df[users_interactions_count_df >= 5].reset_index()[['personId']]\n",
        "print('# users with at least 5 interactions:',len(users_with_enough_interactions_df))"
      ],
      "execution_count": 27,
      "outputs": [
        {
          "output_type": "stream",
          "text": [
            "# users: 1895\n",
            "# users with at least 5 interactions: 1140\n"
          ],
          "name": "stdout"
        }
      ]
    },
    {
      "cell_type": "code",
      "metadata": {
        "colab": {
          "base_uri": "https://localhost:8080/",
          "height": 282
        },
        "id": "w-5mU7u57NUJ",
        "outputId": "dfb9aa3c-393b-4afb-ce17-78aaa3524dca"
      },
      "source": [
        "users_interactions_count_df.hist(bins=20)"
      ],
      "execution_count": 28,
      "outputs": [
        {
          "output_type": "execute_result",
          "data": {
            "text/plain": [
              "<matplotlib.axes._subplots.AxesSubplot at 0x7ff4b56d6c50>"
            ]
          },
          "metadata": {
            "tags": []
          },
          "execution_count": 28
        },
        {
          "output_type": "display_data",
          "data": {
            "image/png": "[encoded data removed]",
            "text/plain": [
              "<Figure size 432x288 with 1 Axes>"
            ]
          },
          "metadata": {
            "tags": [],
            "needs_background": "light"
          }
        }
      ]
    },
    {
      "cell_type": "markdown",
      "metadata": {
        "id": "x3ZW29Im7NUJ"
      },
      "source": [
        "Оставим только те взаимодействия, которые касаются только отфильтрованных пользователей."
      ]
    },
    {
      "cell_type": "code",
      "metadata": {
        "id": "mR2-emAt7NUJ"
      },
      "source": [
        "interactions_from_selected_users_df = interactions_df.loc[np.in1d(interactions_df.personId,\n",
        "            users_with_enough_interactions_df)]"
      ],
      "execution_count": 29,
      "outputs": []
    },
    {
      "cell_type": "code",
      "metadata": {
        "colab": {
          "base_uri": "https://localhost:8080/"
        },
        "id": "uFOf9qgX7NUJ",
        "outputId": "c91ac039-bb5f-414f-9601-3eb16291ecd1"
      },
      "source": [
        "print('# interactions before:', interactions_df.shape)\n",
        "print('# interactions after:', interactions_from_selected_users_df.shape)"
      ],
      "execution_count": 30,
      "outputs": [
        {
          "output_type": "stream",
          "text": [
            "# interactions before: (72312, 9)\n",
            "# interactions after: (69868, 9)\n"
          ],
          "name": "stdout"
        }
      ]
    },
    {
      "cell_type": "markdown",
      "metadata": {
        "id": "TutcpN9Y7NUJ"
      },
      "source": [
        "В данной постановке каждый пользователей мог взаимодействовать с каждой статьёй более 1 раза (как минимум совершая различные действия). Предлагается \"схлопнуть\" все действия в одно взаимодействие с весом, равным сумме весов. \n",
        "\n",
        "Однако полученное число будет в том числе тем больше, чем больше действий произвёл человек. Чтобы уменьшить разброс предлагается взять логарифм от полученного числа (можно придумывать другие веса действиям и по-другому обрабатывать значения).\n",
        "\n",
        "Также сохраним последнее значение времени взаимодействия для разделениея выборки на обучение и контроль."
      ]
    },
    {
      "cell_type": "code",
      "metadata": {
        "colab": {
          "base_uri": "https://localhost:8080/",
          "height": 639
        },
        "id": "815M8D_C7NUK",
        "outputId": "4e7f6cc2-3fd6-41ea-f424-b73c86fe7620"
      },
      "source": [
        "def smooth_user_preference(x):\n",
        "    return math.log(1+x, 2)\n",
        "    \n",
        "interactions_full_df = (\n",
        "    interactions_from_selected_users_df\n",
        "    .groupby(['personId', 'contentId']).eventStrength.sum()\n",
        "    .apply(smooth_user_preference)\n",
        "    .reset_index().set_index(['personId', 'contentId'])\n",
        ")\n",
        "interactions_full_df['last_timestamp'] = (\n",
        "    interactions_from_selected_users_df\n",
        "    .groupby(['personId', 'contentId'])['timestamp'].last()\n",
        ")\n",
        "        \n",
        "interactions_full_df = interactions_full_df.reset_index()\n",
        "interactions_full_df.head(20)"
      ],
      "execution_count": 31,
      "outputs": [
        {
          "output_type": "execute_result",
          "data": {
            "text/html": [
              "<div>\n",
              "<style scoped>\n",
              "    .dataframe tbody tr th:only-of-type {\n",
              "        vertical-align: middle;\n",
              "    }\n",
              "\n",
              "    .dataframe tbody tr th {\n",
              "        vertical-align: top;\n",
              "    }\n",
              "\n",
              "    .dataframe thead th {\n",
              "        text-align: right;\n",
              "    }\n",
              "</style>\n",
              "<table border=\"1\" class=\"dataframe\">\n",
              "  <thead>\n",
              "    <tr style=\"text-align: right;\">\n",
              "      <th></th>\n",
              "      <th>personId</th>\n",
              "      <th>contentId</th>\n",
              "      <th>eventStrength</th>\n",
              "      <th>last_timestamp</th>\n",
              "    </tr>\n",
              "  </thead>\n",
              "  <tbody>\n",
              "    <tr>\n",
              "      <th>0</th>\n",
              "      <td>-1007001694607905623</td>\n",
              "      <td>-5065077552540450930</td>\n",
              "      <td>1.000000</td>\n",
              "      <td>1470395911</td>\n",
              "    </tr>\n",
              "    <tr>\n",
              "      <th>1</th>\n",
              "      <td>-1007001694607905623</td>\n",
              "      <td>-6623581327558800021</td>\n",
              "      <td>1.000000</td>\n",
              "      <td>1487240080</td>\n",
              "    </tr>\n",
              "    <tr>\n",
              "      <th>2</th>\n",
              "      <td>-1007001694607905623</td>\n",
              "      <td>-793729620925729327</td>\n",
              "      <td>1.000000</td>\n",
              "      <td>1472834892</td>\n",
              "    </tr>\n",
              "    <tr>\n",
              "      <th>3</th>\n",
              "      <td>-1007001694607905623</td>\n",
              "      <td>1469580151036142903</td>\n",
              "      <td>1.000000</td>\n",
              "      <td>1487240062</td>\n",
              "    </tr>\n",
              "    <tr>\n",
              "      <th>4</th>\n",
              "      <td>-1007001694607905623</td>\n",
              "      <td>7270966256391553686</td>\n",
              "      <td>1.584963</td>\n",
              "      <td>1485994324</td>\n",
              "    </tr>\n",
              "    <tr>\n",
              "      <th>5</th>\n",
              "      <td>-1007001694607905623</td>\n",
              "      <td>8729086959762650511</td>\n",
              "      <td>1.000000</td>\n",
              "      <td>1487240086</td>\n",
              "    </tr>\n",
              "    <tr>\n",
              "      <th>6</th>\n",
              "      <td>-1032019229384696495</td>\n",
              "      <td>-1006791494035379303</td>\n",
              "      <td>1.000000</td>\n",
              "      <td>1469129122</td>\n",
              "    </tr>\n",
              "    <tr>\n",
              "      <th>7</th>\n",
              "      <td>-1032019229384696495</td>\n",
              "      <td>-1039912738963181810</td>\n",
              "      <td>1.000000</td>\n",
              "      <td>1459376415</td>\n",
              "    </tr>\n",
              "    <tr>\n",
              "      <th>8</th>\n",
              "      <td>-1032019229384696495</td>\n",
              "      <td>-1081723567492738167</td>\n",
              "      <td>2.000000</td>\n",
              "      <td>1464054093</td>\n",
              "    </tr>\n",
              "    <tr>\n",
              "      <th>9</th>\n",
              "      <td>-1032019229384696495</td>\n",
              "      <td>-1111518890369033396</td>\n",
              "      <td>1.000000</td>\n",
              "      <td>1470109122</td>\n",
              "    </tr>\n",
              "    <tr>\n",
              "      <th>10</th>\n",
              "      <td>-1032019229384696495</td>\n",
              "      <td>-1114438937697017987</td>\n",
              "      <td>3.584963</td>\n",
              "      <td>1463954865</td>\n",
              "    </tr>\n",
              "    <tr>\n",
              "      <th>11</th>\n",
              "      <td>-1032019229384696495</td>\n",
              "      <td>-1137602700803601559</td>\n",
              "      <td>2.700440</td>\n",
              "      <td>1472077982</td>\n",
              "    </tr>\n",
              "    <tr>\n",
              "      <th>12</th>\n",
              "      <td>-1032019229384696495</td>\n",
              "      <td>-1151034582628982912</td>\n",
              "      <td>2.000000</td>\n",
              "      <td>1463259775</td>\n",
              "    </tr>\n",
              "    <tr>\n",
              "      <th>13</th>\n",
              "      <td>-1032019229384696495</td>\n",
              "      <td>-1249582672736761858</td>\n",
              "      <td>1.000000</td>\n",
              "      <td>1472566466</td>\n",
              "    </tr>\n",
              "    <tr>\n",
              "      <th>14</th>\n",
              "      <td>-1032019229384696495</td>\n",
              "      <td>-1254906787526072320</td>\n",
              "      <td>2.321928</td>\n",
              "      <td>1464885644</td>\n",
              "    </tr>\n",
              "    <tr>\n",
              "      <th>15</th>\n",
              "      <td>-1032019229384696495</td>\n",
              "      <td>-1313614305945895108</td>\n",
              "      <td>2.584963</td>\n",
              "      <td>1462025352</td>\n",
              "    </tr>\n",
              "    <tr>\n",
              "      <th>16</th>\n",
              "      <td>-1032019229384696495</td>\n",
              "      <td>-1415040208471067980</td>\n",
              "      <td>2.700440</td>\n",
              "      <td>1482413824</td>\n",
              "    </tr>\n",
              "    <tr>\n",
              "      <th>17</th>\n",
              "      <td>-1032019229384696495</td>\n",
              "      <td>-1453783314552286835</td>\n",
              "      <td>5.247928</td>\n",
              "      <td>1464202274</td>\n",
              "    </tr>\n",
              "    <tr>\n",
              "      <th>18</th>\n",
              "      <td>-1032019229384696495</td>\n",
              "      <td>-1470592927114056630</td>\n",
              "      <td>1.000000</td>\n",
              "      <td>1460149910</td>\n",
              "    </tr>\n",
              "    <tr>\n",
              "      <th>19</th>\n",
              "      <td>-1032019229384696495</td>\n",
              "      <td>-1556169727291354289</td>\n",
              "      <td>3.807355</td>\n",
              "      <td>1466029013</td>\n",
              "    </tr>\n",
              "  </tbody>\n",
              "</table>\n",
              "</div>"
            ],
            "text/plain": [
              "                personId             contentId  eventStrength  last_timestamp\n",
              "0   -1007001694607905623  -5065077552540450930       1.000000      1470395911\n",
              "1   -1007001694607905623  -6623581327558800021       1.000000      1487240080\n",
              "2   -1007001694607905623   -793729620925729327       1.000000      1472834892\n",
              "3   -1007001694607905623   1469580151036142903       1.000000      1487240062\n",
              "4   -1007001694607905623   7270966256391553686       1.584963      1485994324\n",
              "5   -1007001694607905623   8729086959762650511       1.000000      1487240086\n",
              "6   -1032019229384696495  -1006791494035379303       1.000000      1469129122\n",
              "7   -1032019229384696495  -1039912738963181810       1.000000      1459376415\n",
              "8   -1032019229384696495  -1081723567492738167       2.000000      1464054093\n",
              "9   -1032019229384696495  -1111518890369033396       1.000000      1470109122\n",
              "10  -1032019229384696495  -1114438937697017987       3.584963      1463954865\n",
              "11  -1032019229384696495  -1137602700803601559       2.700440      1472077982\n",
              "12  -1032019229384696495  -1151034582628982912       2.000000      1463259775\n",
              "13  -1032019229384696495  -1249582672736761858       1.000000      1472566466\n",
              "14  -1032019229384696495  -1254906787526072320       2.321928      1464885644\n",
              "15  -1032019229384696495  -1313614305945895108       2.584963      1462025352\n",
              "16  -1032019229384696495  -1415040208471067980       2.700440      1482413824\n",
              "17  -1032019229384696495  -1453783314552286835       5.247928      1464202274\n",
              "18  -1032019229384696495  -1470592927114056630       1.000000      1460149910\n",
              "19  -1032019229384696495  -1556169727291354289       3.807355      1466029013"
            ]
          },
          "metadata": {
            "tags": []
          },
          "execution_count": 31
        }
      ]
    },
    {
      "cell_type": "markdown",
      "metadata": {
        "id": "MxI6btUS7NUK"
      },
      "source": [
        "Разобьём выборку на обучение и контроль по времени."
      ]
    },
    {
      "cell_type": "code",
      "metadata": {
        "colab": {
          "base_uri": "https://localhost:8080/",
          "height": 435
        },
        "id": "bXiUzchy7NUK",
        "outputId": "fd1c4e52-1460-4ce9-f499-1a0aacf086d6"
      },
      "source": [
        "from sklearn.model_selection import train_test_split\n",
        "\n",
        "split_ts = 1475519530\n",
        "interactions_train_df = interactions_full_df.loc[interactions_full_df.last_timestamp < split_ts].copy()\n",
        "interactions_test_df = interactions_full_df.loc[interactions_full_df.last_timestamp >= split_ts].copy()\n",
        "\n",
        "print('# interactions on Train set: %d' % len(interactions_train_df))\n",
        "print('# interactions on Test set: %d' % len(interactions_test_df))\n",
        "\n",
        "interactions_train_df"
      ],
      "execution_count": 32,
      "outputs": [
        {
          "output_type": "stream",
          "text": [
            "# interactions on Train set: 29329\n",
            "# interactions on Test set: 9777\n"
          ],
          "name": "stdout"
        },
        {
          "output_type": "execute_result",
          "data": {
            "text/html": [
              "<div>\n",
              "<style scoped>\n",
              "    .dataframe tbody tr th:only-of-type {\n",
              "        vertical-align: middle;\n",
              "    }\n",
              "\n",
              "    .dataframe tbody tr th {\n",
              "        vertical-align: top;\n",
              "    }\n",
              "\n",
              "    .dataframe thead th {\n",
              "        text-align: right;\n",
              "    }\n",
              "</style>\n",
              "<table border=\"1\" class=\"dataframe\">\n",
              "  <thead>\n",
              "    <tr style=\"text-align: right;\">\n",
              "      <th></th>\n",
              "      <th>personId</th>\n",
              "      <th>contentId</th>\n",
              "      <th>eventStrength</th>\n",
              "      <th>last_timestamp</th>\n",
              "    </tr>\n",
              "  </thead>\n",
              "  <tbody>\n",
              "    <tr>\n",
              "      <th>0</th>\n",
              "      <td>-1007001694607905623</td>\n",
              "      <td>-5065077552540450930</td>\n",
              "      <td>1.0</td>\n",
              "      <td>1470395911</td>\n",
              "    </tr>\n",
              "    <tr>\n",
              "      <th>2</th>\n",
              "      <td>-1007001694607905623</td>\n",
              "      <td>-793729620925729327</td>\n",
              "      <td>1.0</td>\n",
              "      <td>1472834892</td>\n",
              "    </tr>\n",
              "    <tr>\n",
              "      <th>6</th>\n",
              "      <td>-1032019229384696495</td>\n",
              "      <td>-1006791494035379303</td>\n",
              "      <td>1.0</td>\n",
              "      <td>1469129122</td>\n",
              "    </tr>\n",
              "    <tr>\n",
              "      <th>7</th>\n",
              "      <td>-1032019229384696495</td>\n",
              "      <td>-1039912738963181810</td>\n",
              "      <td>1.0</td>\n",
              "      <td>1459376415</td>\n",
              "    </tr>\n",
              "    <tr>\n",
              "      <th>8</th>\n",
              "      <td>-1032019229384696495</td>\n",
              "      <td>-1081723567492738167</td>\n",
              "      <td>2.0</td>\n",
              "      <td>1464054093</td>\n",
              "    </tr>\n",
              "    <tr>\n",
              "      <th>...</th>\n",
              "      <td>...</td>\n",
              "      <td>...</td>\n",
              "      <td>...</td>\n",
              "      <td>...</td>\n",
              "    </tr>\n",
              "    <tr>\n",
              "      <th>39099</th>\n",
              "      <td>997469202936578234</td>\n",
              "      <td>9112765177685685246</td>\n",
              "      <td>2.0</td>\n",
              "      <td>1472479493</td>\n",
              "    </tr>\n",
              "    <tr>\n",
              "      <th>39100</th>\n",
              "      <td>998688566268269815</td>\n",
              "      <td>-1255189867397298842</td>\n",
              "      <td>1.0</td>\n",
              "      <td>1474567164</td>\n",
              "    </tr>\n",
              "    <tr>\n",
              "      <th>39101</th>\n",
              "      <td>998688566268269815</td>\n",
              "      <td>-401664538366009049</td>\n",
              "      <td>1.0</td>\n",
              "      <td>1474567449</td>\n",
              "    </tr>\n",
              "    <tr>\n",
              "      <th>39103</th>\n",
              "      <td>998688566268269815</td>\n",
              "      <td>6881796783400625893</td>\n",
              "      <td>1.0</td>\n",
              "      <td>1474567675</td>\n",
              "    </tr>\n",
              "    <tr>\n",
              "      <th>39105</th>\n",
              "      <td>998688566268269815</td>\n",
              "      <td>739747367187387064</td>\n",
              "      <td>1.0</td>\n",
              "      <td>1474567514</td>\n",
              "    </tr>\n",
              "  </tbody>\n",
              "</table>\n",
              "<p>29329 rows × 4 columns</p>\n",
              "</div>"
            ],
            "text/plain": [
              "                   personId  ... last_timestamp\n",
              "0      -1007001694607905623  ...     1470395911\n",
              "2      -1007001694607905623  ...     1472834892\n",
              "6      -1032019229384696495  ...     1469129122\n",
              "7      -1032019229384696495  ...     1459376415\n",
              "8      -1032019229384696495  ...     1464054093\n",
              "...                     ...  ...            ...\n",
              "39099    997469202936578234  ...     1472479493\n",
              "39100    998688566268269815  ...     1474567164\n",
              "39101    998688566268269815  ...     1474567449\n",
              "39103    998688566268269815  ...     1474567675\n",
              "39105    998688566268269815  ...     1474567514\n",
              "\n",
              "[29329 rows x 4 columns]"
            ]
          },
          "metadata": {
            "tags": []
          },
          "execution_count": 32
        }
      ]
    },
    {
      "cell_type": "markdown",
      "metadata": {
        "id": "aiGTY4Q77NUK"
      },
      "source": [
        "Также разбить данные можно не опираясь на временной фактор:\n",
        "```python\n",
        "interactions_train_df, interactions_test_df = train_test_split(interactions_full_df,\n",
        "                                   stratify=interactions_full_df['personId'], \n",
        "                                   test_size=0.25,\n",
        "                                   random_state=42)\n",
        "\n",
        "```\n",
        "Как повлият такое разбиение на итоговый результат?"
      ]
    },
    {
      "cell_type": "markdown",
      "metadata": {
        "id": "h1Z2axYX7NUK"
      },
      "source": [
        "Для удобства подсчёта качества запишем данные в формате, где строка соответствует пользователю, а столбцы будут истинными метками и предсказаниями в виде списков."
      ]
    },
    {
      "cell_type": "code",
      "metadata": {
        "colab": {
          "base_uri": "https://localhost:8080/",
          "height": 106
        },
        "id": "InUCtDB17NUL",
        "outputId": "13df0d55-a226-4953-9e84-a66e729e029e"
      },
      "source": [
        "interactions = (\n",
        "    interactions_train_df\n",
        "    .groupby('personId')['contentId'].agg(lambda x: list(x))\n",
        "    .reset_index()\n",
        "    .rename(columns={'contentId': 'true_train'})\n",
        "    .set_index('personId')\n",
        ")\n",
        "\n",
        "interactions['true_test'] = (\n",
        "    interactions_test_df\n",
        "    .groupby('personId')['contentId'].agg(lambda x: list(x))\n",
        ")\n",
        "\n",
        "# заполнение пропусков пустыми списками\n",
        "interactions.loc[pd.isnull(interactions.true_test), 'true_test'] = [\n",
        "    list() for x in range(len(interactions.loc[pd.isnull(interactions.true_test), 'true_test']))]\n",
        "\n",
        "interactions.head(1)"
      ],
      "execution_count": 33,
      "outputs": [
        {
          "output_type": "execute_result",
          "data": {
            "text/html": [
              "<div>\n",
              "<style scoped>\n",
              "    .dataframe tbody tr th:only-of-type {\n",
              "        vertical-align: middle;\n",
              "    }\n",
              "\n",
              "    .dataframe tbody tr th {\n",
              "        vertical-align: top;\n",
              "    }\n",
              "\n",
              "    .dataframe thead th {\n",
              "        text-align: right;\n",
              "    }\n",
              "</style>\n",
              "<table border=\"1\" class=\"dataframe\">\n",
              "  <thead>\n",
              "    <tr style=\"text-align: right;\">\n",
              "      <th></th>\n",
              "      <th>true_train</th>\n",
              "      <th>true_test</th>\n",
              "    </tr>\n",
              "    <tr>\n",
              "      <th>personId</th>\n",
              "      <th></th>\n",
              "      <th></th>\n",
              "    </tr>\n",
              "  </thead>\n",
              "  <tbody>\n",
              "    <tr>\n",
              "      <th>-1007001694607905623</th>\n",
              "      <td>[-5065077552540450930, -793729620925729327]</td>\n",
              "      <td>[-6623581327558800021, 1469580151036142903, 72...</td>\n",
              "    </tr>\n",
              "  </tbody>\n",
              "</table>\n",
              "</div>"
            ],
            "text/plain": [
              "                                                       true_train                                          true_test\n",
              "personId                                                                                                            \n",
              "-1007001694607905623  [-5065077552540450930, -793729620925729327]  [-6623581327558800021, 1469580151036142903, 72..."
            ]
          },
          "metadata": {
            "tags": []
          },
          "execution_count": 33
        }
      ]
    },
    {
      "cell_type": "markdown",
      "metadata": {
        "id": "J72sxcSc7NUL"
      },
      "source": [
        "## Часть 1: Baseline (модель по популярности)"
      ]
    },
    {
      "cell_type": "markdown",
      "metadata": {
        "id": "J4ZlOCua7NUM"
      },
      "source": [
        "Самой простой моделью рекомендаций (при этом достаточно сильной!) является модель, которая рекомендует наиболее популярные предметы. \n",
        "\n",
        "Реализуем её. Давайте считать, что рекомендуем мы по 10 материалов (такое ограничение на размер блока на сайте).\n",
        "\n",
        "Посчитаем популярность каждой статьи, как сумму всех \"оценок\" взаимодействий с ней. Отсортируем материалы по их популярности."
      ]
    },
    {
      "cell_type": "code",
      "metadata": {
        "id": "6yaE1pGh7NUM",
        "outputId": "b6ce53ba-5a30-4110-b585-2a5a6b12abe6",
        "colab": {
          "base_uri": "https://localhost:8080/"
        }
      },
      "source": [
        "popular_content = interactions_train_df.groupby('contentId').eventStrength.sum().reset_index().sort_values('eventStrength', ascending=False)['contentId'].values\n",
        "popular_content"
      ],
      "execution_count": 34,
      "outputs": [
        {
          "output_type": "execute_result",
          "data": {
            "text/plain": [
              "array(['-6783772548752091658', '-133139342397538859',\n",
              "       '-8208801367848627943', ..., '6240076106289531207',\n",
              "       '6541551984368289722', '7083316110921342538'], dtype=object)"
            ]
          },
          "metadata": {
            "tags": []
          },
          "execution_count": 34
        }
      ]
    },
    {
      "cell_type": "code",
      "metadata": {
        "id": "Dn8-4obF81C6",
        "outputId": "bb9f11c5-299b-48c6-8b8e-5bad849c6754",
        "colab": {
          "base_uri": "https://localhost:8080/",
          "height": 402
        }
      },
      "source": [
        "interactions_train_df.groupby('contentId').eventStrength.sum().reset_index().sort_values('eventStrength', ascending=False)"
      ],
      "execution_count": 35,
      "outputs": [
        {
          "output_type": "execute_result",
          "data": {
            "text/html": [
              "<div>\n",
              "<style scoped>\n",
              "    .dataframe tbody tr th:only-of-type {\n",
              "        vertical-align: middle;\n",
              "    }\n",
              "\n",
              "    .dataframe tbody tr th {\n",
              "        vertical-align: top;\n",
              "    }\n",
              "\n",
              "    .dataframe thead th {\n",
              "        text-align: right;\n",
              "    }\n",
              "</style>\n",
              "<table border=\"1\" class=\"dataframe\">\n",
              "  <thead>\n",
              "    <tr style=\"text-align: right;\">\n",
              "      <th></th>\n",
              "      <th>contentId</th>\n",
              "      <th>eventStrength</th>\n",
              "    </tr>\n",
              "  </thead>\n",
              "  <tbody>\n",
              "    <tr>\n",
              "      <th>805</th>\n",
              "      <td>-6783772548752091658</td>\n",
              "      <td>231.177195</td>\n",
              "    </tr>\n",
              "    <tr>\n",
              "      <th>43</th>\n",
              "      <td>-133139342397538859</td>\n",
              "      <td>228.024567</td>\n",
              "    </tr>\n",
              "    <tr>\n",
              "      <th>1002</th>\n",
              "      <td>-8208801367848627943</td>\n",
              "      <td>189.937683</td>\n",
              "    </tr>\n",
              "    <tr>\n",
              "      <th>2211</th>\n",
              "      <td>8224860111193157980</td>\n",
              "      <td>186.044680</td>\n",
              "    </tr>\n",
              "    <tr>\n",
              "      <th>2111</th>\n",
              "      <td>7507067965574797372</td>\n",
              "      <td>179.094002</td>\n",
              "    </tr>\n",
              "    <tr>\n",
              "      <th>...</th>\n",
              "      <td>...</td>\n",
              "      <td>...</td>\n",
              "    </tr>\n",
              "    <tr>\n",
              "      <th>1982</th>\n",
              "      <td>6569723785655740276</td>\n",
              "      <td>1.000000</td>\n",
              "    </tr>\n",
              "    <tr>\n",
              "      <th>1368</th>\n",
              "      <td>2335028422423709400</td>\n",
              "      <td>1.000000</td>\n",
              "    </tr>\n",
              "    <tr>\n",
              "      <th>1942</th>\n",
              "      <td>6240076106289531207</td>\n",
              "      <td>1.000000</td>\n",
              "    </tr>\n",
              "    <tr>\n",
              "      <th>1980</th>\n",
              "      <td>6541551984368289722</td>\n",
              "      <td>1.000000</td>\n",
              "    </tr>\n",
              "    <tr>\n",
              "      <th>2048</th>\n",
              "      <td>7083316110921342538</td>\n",
              "      <td>1.000000</td>\n",
              "    </tr>\n",
              "  </tbody>\n",
              "</table>\n",
              "<p>2366 rows × 2 columns</p>\n",
              "</div>"
            ],
            "text/plain": [
              "                 contentId  eventStrength\n",
              "805   -6783772548752091658     231.177195\n",
              "43     -133139342397538859     228.024567\n",
              "1002  -8208801367848627943     189.937683\n",
              "2211   8224860111193157980     186.044680\n",
              "2111   7507067965574797372     179.094002\n",
              "...                    ...            ...\n",
              "1982   6569723785655740276       1.000000\n",
              "1368   2335028422423709400       1.000000\n",
              "1942   6240076106289531207       1.000000\n",
              "1980   6541551984368289722       1.000000\n",
              "2048   7083316110921342538       1.000000\n",
              "\n",
              "[2366 rows x 2 columns]"
            ]
          },
          "metadata": {
            "tags": []
          },
          "execution_count": 35
        }
      ]
    },
    {
      "cell_type": "code",
      "metadata": {
        "colab": {
          "base_uri": "https://localhost:8080/"
        },
        "id": "DhKLmkaE7NUM",
        "outputId": "a6da2b17-b259-47e3-c00c-c9e8119e27ab"
      },
      "source": [
        "print(articles_df.loc[articles_df.contentId == popular_content[2]]['title'].values)"
      ],
      "execution_count": 36,
      "outputs": [
        {
          "output_type": "stream",
          "text": [
            "[\"Ray Kurzweil: The world isn't getting worse - our information is getting better\"]\n"
          ],
          "name": "stdout"
        }
      ]
    },
    {
      "cell_type": "code",
      "metadata": {
        "colab": {
          "base_uri": "https://localhost:8080/"
        },
        "id": "OsP9Qvv07NUM",
        "outputId": "23a7f323-5586-4cfb-d70c-cdc8b7f83367"
      },
      "source": [
        "print(articles_df.loc[articles_df.contentId == popular_content[2363]]['title'].values)"
      ],
      "execution_count": 37,
      "outputs": [
        {
          "output_type": "stream",
          "text": [
            "['Sunset Blvd. (1950)']\n"
          ],
          "name": "stdout"
        }
      ]
    },
    {
      "cell_type": "markdown",
      "metadata": {
        "id": "ecBQ_knc7NUM"
      },
      "source": [
        "Теперь необходимо сделать предсказания для каждого пользователя. Не забываем, что надо рекомендовать то, что пользователь ещё не читал (для этого нужно проверить, что материал не встречался в true_train)."
      ]
    },
    {
      "cell_type": "code",
      "metadata": {
        "colab": {
          "base_uri": "https://localhost:8080/"
        },
        "id": "wNwZ4i4c7NUM",
        "outputId": "f21ec36c-ca1a-4132-9ee0-ecaaa07cea00"
      },
      "source": [
        "top_k = 10\n",
        "\n",
        "interactions['prediction_popular'] = (\n",
        "    interactions.true_train\n",
        "    .apply(\n",
        "        lambda x:\n",
        "        popular_content[~np.in1d(popular_content, x)][:top_k]\n",
        "    )\n",
        ")\n",
        "\n",
        "interactions['prediction_popular'][0]"
      ],
      "execution_count": 38,
      "outputs": [
        {
          "output_type": "execute_result",
          "data": {
            "text/plain": [
              "array(['-6783772548752091658', '-133139342397538859',\n",
              "       '-8208801367848627943', '8224860111193157980',\n",
              "       '7507067965574797372', '-2358756719610361882',\n",
              "       '-6843047699859121724', '-1297580205670251233',\n",
              "       '8657408509986329668', '3367026768872537336'], dtype=object)"
            ]
          },
          "metadata": {
            "tags": []
          },
          "execution_count": 38
        }
      ]
    },
    {
      "cell_type": "markdown",
      "metadata": {
        "id": "6MWC2ctS7NUN"
      },
      "source": [
        "Настало время оценить качество. Посчитаем precision@10 для каждого пользователя (доля угаданных рекомендаций). Усредним по всем пользователям. Везде далее будем считать эту же метрику."
      ]
    },
    {
      "cell_type": "code",
      "metadata": {
        "id": "VV6hIjxF7NUN"
      },
      "source": [
        "def calc_precision(column):\n",
        "\n",
        "    return (\n",
        "        interactions\n",
        "        .apply(\n",
        "            lambda row:\n",
        "            len(set(row['true_test']).intersection(\n",
        "                set(row[column]))) /\n",
        "            min(len(row['true_test']) + 0.001, 10.0),\n",
        "            axis=1)).mean()"
      ],
      "execution_count": 39,
      "outputs": []
    },
    {
      "cell_type": "code",
      "metadata": {
        "colab": {
          "base_uri": "https://localhost:8080/"
        },
        "id": "pKmSSmZN7NUN",
        "outputId": "85943a6c-ce15-4fb7-c635-97ca3de3633f"
      },
      "source": [
        "calc_precision('prediction_popular')"
      ],
      "execution_count": 40,
      "outputs": [
        {
          "output_type": "execute_result",
          "data": {
            "text/plain": [
              "0.006454207722621084"
            ]
          },
          "metadata": {
            "tags": []
          },
          "execution_count": 40
        }
      ]
    },
    {
      "cell_type": "markdown",
      "metadata": {
        "id": "fO4DZi6g7NUN"
      },
      "source": [
        "## Часть 2. Коллаборативная фильтрация."
      ]
    },
    {
      "cell_type": "markdown",
      "metadata": {
        "id": "fHu7xtX97NUO"
      },
      "source": [
        "Перейдём к более сложному механизму рекомендаций, а именно коллаборативной фильтрации. Суть коллаборативной фильтрации в том, что учитывается схожесть пользователей и товаров между собой, а не факторы, которые их описывают. \n",
        "\n",
        "Для начала для удобства составим матрицу \"оценок\" пользователей. Нули будут обозначать отсутствие взаимодействия."
      ]
    },
    {
      "cell_type": "code",
      "metadata": {
        "id": "QG7azMEM7NUO"
      },
      "source": [
        "ratings = pd.pivot_table(\n",
        "    interactions_train_df,\n",
        "    values='eventStrength',\n",
        "    index='personId',\n",
        "    columns='contentId').fillna(0)"
      ],
      "execution_count": 41,
      "outputs": []
    },
    {
      "cell_type": "code",
      "metadata": {
        "id": "oqKURXiY81C8",
        "outputId": "d4352bf4-024b-4fe4-b97a-5f85d8828fcd",
        "colab": {
          "base_uri": "https://localhost:8080/"
        }
      },
      "source": [
        "ratings.shape"
      ],
      "execution_count": 42,
      "outputs": [
        {
          "output_type": "execute_result",
          "data": {
            "text/plain": [
              "(1112, 2366)"
            ]
          },
          "metadata": {
            "tags": []
          },
          "execution_count": 42
        }
      ]
    },
    {
      "cell_type": "markdown",
      "metadata": {
        "id": "bqdQD19J7NUO"
      },
      "source": [
        "### Memory-based"
      ]
    },
    {
      "cell_type": "markdown",
      "metadata": {
        "id": "WZiWouN47NUO"
      },
      "source": [
        "Посчитаем схожести пользователей с помощью корреляции Пирсона. Для каждой пары учитываем только ненулевые значения.\n",
        "\n",
        "Для скорости работы лучше переходить от pandas к numpy."
      ]
    },
    {
      "cell_type": "code",
      "metadata": {
        "id": "aG8Pi_qR7NUO"
      },
      "source": [
        "ratings_m = ratings.values"
      ],
      "execution_count": 43,
      "outputs": []
    },
    {
      "cell_type": "code",
      "metadata": {
        "colab": {
          "base_uri": "https://localhost:8080/",
          "height": 116,
          "referenced_widgets": [
            "0b8925d9f3f341f49023ff6f096797f4",
            "d411bba38d3e4bd7821d6e7b8340d398",
            "acc210d1fc3c4c5a84343864f00ae780",
            "5f962272efa847569b94e0d1f10866d0",
            "e196ca8857c1478e97d7d18d4dc17bba",
            "fddd208882474dc1bf27743a1a1f19da",
            "2390b77b7b464e29bab775a54e51c392",
            "b5cca3a73efc4517a49b9c143d623495"
          ]
        },
        "id": "lZanlVow7NUP",
        "outputId": "85d2ea9c-1f17-4213-df0d-dd27bea9a8ae"
      },
      "source": [
        "similarity_users = np.zeros((len(ratings_m), len(ratings_m)))\n",
        "\n",
        "for i in tqdm_notebook(range(len(ratings_m)-1)):\n",
        "    for j in range(i+1, len(ratings_m)):\n",
        "        \n",
        "        # nonzero elements of two users\n",
        "        mask_uv = (ratings_m[i] != 0) & (ratings_m[j] != 0)\n",
        "        \n",
        "        # continue if no intersection\n",
        "        if np.sum(mask_uv) == 0:\n",
        "            continue\n",
        "            \n",
        "        # get nonzero elements\n",
        "        ratings_v = ratings_m[i, mask_uv]\n",
        "        ratings_u = ratings_m[j, mask_uv]\n",
        "        \n",
        "        # for nonzero std\n",
        "        if len(np.unique(ratings_v)) < 2 or len(np.unique(ratings_u)) < 2:\n",
        "            continue\n",
        "\n",
        "        \n",
        "        similarity_users[i,j] = np.corrcoef(ratings_u, ratings_v)[0, 1]\n",
        "        similarity_users[j,i] = similarity_users[i,j]"
      ],
      "execution_count": 44,
      "outputs": [
        {
          "output_type": "stream",
          "text": [
            "/usr/local/lib/python3.7/dist-packages/ipykernel_launcher.py:3: TqdmDeprecationWarning: This function will be removed in tqdm==5.0.0\n",
            "Please use `tqdm.notebook.tqdm` instead of `tqdm.tqdm_notebook`\n",
            "  This is separate from the ipykernel package so we can avoid doing imports until\n"
          ],
          "name": "stderr"
        },
        {
          "output_type": "display_data",
          "data": {
            "application/vnd.jupyter.widget-view+json": {
              "model_id": "0b8925d9f3f341f49023ff6f096797f4",
              "version_minor": 0,
              "version_major": 2
            },
            "text/plain": [
              "HBox(children=(FloatProgress(value=0.0, max=1111.0), HTML(value='')))"
            ]
          },
          "metadata": {
            "tags": []
          }
        },
        {
          "output_type": "stream",
          "text": [
            "\n"
          ],
          "name": "stdout"
        }
      ]
    },
    {
      "cell_type": "markdown",
      "metadata": {
        "id": "FanD_G5p7NUP"
      },
      "source": [
        "Теперь у нас есть матрицы схожести пользователей. Их можно использовать для рекомендаций.\n",
        "\n",
        "Для каждого пользователя:\n",
        "\n",
        "1. Найдём пользователей с похожестью больше $\\alpha$ на нашего пользователя.\n",
        "2. Посчитаем для каждой статьи долю пользователей (среди выделенных на первом шаге), которые взаимодействовали со статьёй.\n",
        "3. Порекомендуем статьи с наибольшими долями со второго шага (среди тех, которые пользователь ещё не видел).\n",
        "\n",
        "В нашем примере данных не очень много, поэтому возьмём $\\alpha = 0$.\n",
        "\n",
        "После того, как будут сделаны предсказания (новый столбец в interactions), посчитаем качество по той же метрике."
      ]
    },
    {
      "cell_type": "code",
      "metadata": {
        "id": "DITvOTiH81C9",
        "outputId": "d7eee668-31f7-4ae8-bc67-729f144a9d41",
        "colab": {
          "base_uri": "https://localhost:8080/"
        }
      },
      "source": [
        "similarity_users.shape"
      ],
      "execution_count": 45,
      "outputs": [
        {
          "output_type": "execute_result",
          "data": {
            "text/plain": [
              "(1112, 1112)"
            ]
          },
          "metadata": {
            "tags": []
          },
          "execution_count": 45
        }
      ]
    },
    {
      "cell_type": "code",
      "metadata": {
        "colab": {
          "base_uri": "https://localhost:8080/",
          "height": 170,
          "referenced_widgets": [
            "dbc6f279d4024e9cac2e046980b18a7c",
            "c04baba2612f4afdb6ea1441d30fb110",
            "940e6d34dcc749f29117887986ebbc6c",
            "9754c6233cba43bc8f034fecca62e66d",
            "b69f3f358cd342f98066cc0de7744d9d",
            "7edeec5328b1452a87b5d5373f7fc830",
            "50debec351fc41888c4b94ece21c49eb",
            "35ebf00482e144cd90ef9f852369841c"
          ]
        },
        "id": "V1q95s9a7NUP",
        "outputId": "a3a74d34-11db-42ed-8cbc-1f66ec674ba5"
      },
      "source": [
        "prediction_user_based = []\n",
        "\n",
        "for i in tqdm_notebook(range(len(similarity_users))):\n",
        "    users_sim = similarity_users[i] > 0\n",
        "    if len(users_sim) == 0:\n",
        "        prediction_user_based.append([])\n",
        "    else:\n",
        "        tmp_recommend = np.argsort(ratings_m[users_sim].sum(axis=0))[::-1]\n",
        "        tmp_recommend = ratings.columns[tmp_recommend]\n",
        "        recommend = np.array(tmp_recommend)[~np.in1d(tmp_recommend, interactions.iloc[i])][:10]\n",
        "        prediction_user_based.append(list(recommend))\n",
        "\n",
        "interactions['prediction_user_based'] = prediction_user_based"
      ],
      "execution_count": 46,
      "outputs": [
        {
          "output_type": "stream",
          "text": [
            "/usr/local/lib/python3.7/dist-packages/ipykernel_launcher.py:3: TqdmDeprecationWarning: This function will be removed in tqdm==5.0.0\n",
            "Please use `tqdm.notebook.tqdm` instead of `tqdm.tqdm_notebook`\n",
            "  This is separate from the ipykernel package so we can avoid doing imports until\n"
          ],
          "name": "stderr"
        },
        {
          "output_type": "display_data",
          "data": {
            "application/vnd.jupyter.widget-view+json": {
              "model_id": "dbc6f279d4024e9cac2e046980b18a7c",
              "version_minor": 0,
              "version_major": 2
            },
            "text/plain": [
              "HBox(children=(FloatProgress(value=0.0, max=1112.0), HTML(value='')))"
            ]
          },
          "metadata": {
            "tags": []
          }
        },
        {
          "output_type": "stream",
          "text": [
            "/usr/local/lib/python3.7/dist-packages/numpy/lib/arraysetops.py:580: FutureWarning: elementwise comparison failed; returning scalar instead, but in the future will perform elementwise comparison\n",
            "  mask |= (ar1 == a)\n"
          ],
          "name": "stderr"
        },
        {
          "output_type": "stream",
          "text": [
            "\n"
          ],
          "name": "stdout"
        }
      ]
    },
    {
      "cell_type": "code",
      "metadata": {
        "colab": {
          "base_uri": "https://localhost:8080/"
        },
        "id": "bGCsKsdH7NUP",
        "outputId": "2fbc89b4-08a0-40d1-f89d-12e179c446ee"
      },
      "source": [
        "calc_precision('prediction_user_based')"
      ],
      "execution_count": 47,
      "outputs": [
        {
          "output_type": "execute_result",
          "data": {
            "text/plain": [
              "0.003541692918885617"
            ]
          },
          "metadata": {
            "tags": []
          },
          "execution_count": 47
        }
      ]
    },
    {
      "cell_type": "markdown",
      "metadata": {
        "id": "44S6wHKw7NUP"
      },
      "source": [
        "### Модель со скрытыми переменными"
      ]
    },
    {
      "cell_type": "markdown",
      "metadata": {
        "id": "NLxQug7T7NUP"
      },
      "source": [
        "Реализуем подход с разложением матрицы оценок. Для этого сделаем сингулярное разложение (svd в scipy.linalg), на выходе вы получите три матрицы.\n",
        "\n",
        "Заметим, что мы используем матрицу с нулями, будто отсутствующие взаимодействия негативные, что странно.\n",
        "\n",
        "Если бы мы учили модель со скрытыми переменными с помощью стохастического градиентного спуска, то неизвестные взаимодействия могли бы не использовать."
      ]
    },
    {
      "cell_type": "code",
      "metadata": {
        "id": "Wt0wdgF67NUQ"
      },
      "source": [
        "from scipy.linalg import svd"
      ],
      "execution_count": 48,
      "outputs": []
    },
    {
      "cell_type": "code",
      "metadata": {
        "colab": {
          "base_uri": "https://localhost:8080/"
        },
        "id": "Nrc4L1oK7NUQ",
        "outputId": "ef864aba-c130-416a-abf4-8cdfce7c2f05"
      },
      "source": [
        "U, sigma, V = svd(ratings)\n",
        "print(ratings.shape, U.shape, sigma.shape, V.shape)"
      ],
      "execution_count": 49,
      "outputs": [
        {
          "output_type": "stream",
          "text": [
            "(1112, 2366) (1112, 1112) (1112,) (2366, 2366)\n"
          ],
          "name": "stdout"
        }
      ]
    },
    {
      "cell_type": "code",
      "metadata": {
        "colab": {
          "base_uri": "https://localhost:8080/"
        },
        "id": "L-qvuwS_7NUQ",
        "outputId": "8d50708e-f28f-494e-aed9-0c425bde9bdc"
      },
      "source": [
        "Sigma = np.zeros((1112, 2366))\n",
        "Sigma[:1112, :1112] = np.diag(sigma)\n",
        "\n",
        "new_ratings = U.dot(Sigma).dot(V)\n",
        "print(sum(sum((new_ratings - ratings.values) ** 2)))"
      ],
      "execution_count": 50,
      "outputs": [
        {
          "output_type": "stream",
          "text": [
            "1.0049074409063946e-24\n"
          ],
          "name": "stdout"
        }
      ]
    },
    {
      "cell_type": "markdown",
      "metadata": {
        "id": "UdXQAsbT7NUQ"
      },
      "source": [
        "Значения у матрицы с сингулярными числами отсортированы по убыванию. Допустим мы хотим оставить только первые 100 компонент (и получить скрытые представления размерности 100). Для этого необходимо оставить 100 столбцов в матрице U, оставить из sigma только первые 100 значений (и сделать из них диагональную матрицу). Перемножим преобразованные матрицы ($\\hat{U}, \\hat{sigma}, \\hat{V^T}$), чтобы получить восстановленную матрицу оценок."
      ]
    },
    {
      "cell_type": "code",
      "metadata": {
        "id": "OZLjH49b81C_"
      },
      "source": [
        "K = 100\n",
        "new_ratings = U[:, :K].dot(Sigma[:K]).dot(V)"
      ],
      "execution_count": 51,
      "outputs": []
    },
    {
      "cell_type": "markdown",
      "metadata": {
        "id": "vfHCpcpk7NUQ"
      },
      "source": [
        "Посчитаем качество аппроксимации матрицы по норме Фробениуса (среднеквадратичную ошибку между всеми элементами соответствующими элементами двух матриц). Сравним его с простым бейзлайном с константным значением, равным среднему значению исходной матрицы. У аппроксимации ошибка должна получиться ниже."
      ]
    },
    {
      "cell_type": "code",
      "metadata": {
        "colab": {
          "base_uri": "https://localhost:8080/"
        },
        "id": "0eJ04SyR7NUQ",
        "outputId": "ebeae948-e65f-4658-e5a8-15f8a16c4d83"
      },
      "source": [
        "print(sum(sum((new_ratings - ratings.values) ** 2)))\n",
        "print(sum(sum((ratings.values.mean() - ratings.values) ** 2)))"
      ],
      "execution_count": 52,
      "outputs": [
        {
          "output_type": "stream",
          "text": [
            "25843.424898912766\n",
            "78622.13000466056\n"
          ],
          "name": "stdout"
        }
      ]
    },
    {
      "cell_type": "markdown",
      "metadata": {
        "id": "La65ws_s7NUR"
      },
      "source": [
        "Теперь можно делать предсказания по матрице. Сделаем их (не забываем про то, что уже было просмотрено пользователем), оценим качество. Для этого необходимо для каждого пользователя найти предметы с наибольшими оценками в восстановленной матрице."
      ]
    },
    {
      "cell_type": "code",
      "metadata": {
        "colab": {
          "base_uri": "https://localhost:8080/",
          "height": 116,
          "referenced_widgets": [
            "4353a836b55d4a7abfb684b0ba63aa5b",
            "696cdd9bf8754172bb34b84c51fbc863",
            "3ad00acaa3d242078a021d9fa37eb90c",
            "e3f0295ff09a4506b655be794f7748fd",
            "4055c9e1bf31465995090f220222affe",
            "4d6efcb09941482b8773fd584af53aa3",
            "0ccda7a4de0a498ba018c518a3ff838d",
            "773366a240454587ba94e77e6a4b76d6"
          ]
        },
        "id": "6vHccmsW7NUR",
        "outputId": "49918e25-50c8-43be-fb6b-6b28b2a57bc3"
      },
      "source": [
        "new_ratings = pd.DataFrame(new_ratings, index=ratings.index, columns=ratings.columns)\n",
        "predictions = []\n",
        "\n",
        "for personId in tqdm_notebook(interactions.index):\n",
        "    prediction = (\n",
        "        new_ratings\n",
        "        .loc[personId]\n",
        "        .sort_values(ascending=False)\n",
        "        .index.values\n",
        "    )\n",
        "    \n",
        "    predictions.append(\n",
        "        list(prediction[~np.in1d(\n",
        "            prediction,\n",
        "            interactions.loc[personId, 'true_train'])])[:top_k])\n",
        "\n",
        "interactions['prediction_svd'] = predictions"
      ],
      "execution_count": 53,
      "outputs": [
        {
          "output_type": "stream",
          "text": [
            "/usr/local/lib/python3.7/dist-packages/ipykernel_launcher.py:4: TqdmDeprecationWarning: This function will be removed in tqdm==5.0.0\n",
            "Please use `tqdm.notebook.tqdm` instead of `tqdm.tqdm_notebook`\n",
            "  after removing the cwd from sys.path.\n"
          ],
          "name": "stderr"
        },
        {
          "output_type": "display_data",
          "data": {
            "application/vnd.jupyter.widget-view+json": {
              "model_id": "4353a836b55d4a7abfb684b0ba63aa5b",
              "version_minor": 0,
              "version_major": 2
            },
            "text/plain": [
              "HBox(children=(FloatProgress(value=0.0, max=1112.0), HTML(value='')))"
            ]
          },
          "metadata": {
            "tags": []
          }
        },
        {
          "output_type": "stream",
          "text": [
            "\n"
          ],
          "name": "stdout"
        }
      ]
    },
    {
      "cell_type": "code",
      "metadata": {
        "colab": {
          "base_uri": "https://localhost:8080/"
        },
        "id": "VAEaQ4dX7NUR",
        "scrolled": true,
        "outputId": "c7789794-f929-4193-d6f3-4084278ecfbb"
      },
      "source": [
        "calc_precision('prediction_svd')"
      ],
      "execution_count": 54,
      "outputs": [
        {
          "output_type": "execute_result",
          "data": {
            "text/plain": [
              "0.012212989310270754"
            ]
          },
          "metadata": {
            "tags": []
          },
          "execution_count": 54
        }
      ]
    },
    {
      "cell_type": "markdown",
      "metadata": {
        "id": "UuiDL0pL81C_"
      },
      "source": [
        "Как это будет зависеть от числа компонент?"
      ]
    },
    {
      "cell_type": "code",
      "metadata": {
        "id": "ZO-XCp2t81DA",
        "colab": {
          "base_uri": "https://localhost:8080/",
          "height": 360,
          "referenced_widgets": [
            "41d831f5c3b047ef9327fbdc3f0a61fb",
            "1d1dd2cba4d84102a13acbec17201e3d",
            "cd678f9cd9764caa80b3ee8835817aff",
            "bb0750f17a1348d3b5c242d5407d0e7a",
            "2b897371db4147e098a1eda8cccc7eb3",
            "c6214500f0054b6095dbc9a38369685c",
            "6e81fead0bbd4727a8367a1f06a55dc3",
            "b9634e5377b142d1bb5616eb517ddd4e",
            "4f22d05910cd44e4ae12aa2100d317e5",
            "4ba399bbb60b4b22ba2dd0de910aa197",
            "6c9f1aa9c8ff45bdab821938c5d43899",
            "54280d1992d34ed6800ae3548c805336",
            "5a6fe0d80ead445eb1fcb2f9fcb1d930",
            "4393bb5206de474fbf85dcbed5c557fc",
            "3d4abf306e3d45eba14348e4b9899ec5",
            "17dbe0e333064abfad4fd31a507f96af",
            "15d2ad9c151649c79d31088e360ac8cf",
            "3cdd06a7efb84fa8a57605f4d8dc9954",
            "20a5d3deda92449f91fd20baf231c2a5",
            "cbcad4dda93c472abe6be20e75ce7aae",
            "95040055c3c64142b3c3fb2e30789dc4",
            "450dbe2ceb4f4a5eabebbed7eb1481a0",
            "1ec42abefb5d42ff9acb08e2db97a696",
            "a1a1dceb910e4541a8748ded23597c5b",
            "526efa9c06494d6e84582cd75544ad75",
            "7d8fcaaf862641398f3489f8a4b7c34a",
            "461bc0d4c5aa499383da3993e04fcd06",
            "34554a7623ea48f19730ea1e09511b16",
            "cfbebbf2b4c94197b851275750ad7cc1",
            "329f35fa9fee49eeae62541a444fd670",
            "9fad631a3cff4635a8650a874c9550db",
            "f62ebfe91ae54bb4844b50a72c2dabe9",
            "8e9f6691177848cbb457818f152375d2",
            "8bac25da726a4d7abfda05d4e348a385",
            "7706dc6f315740748aee32ac75079b1e",
            "d35954c5d31d4ca7a387a923722f6652",
            "c3ab7bdff17c47c29b0fe6b026758759",
            "81f233e449de44689ce00c4067def40a",
            "1b942aa84c3742858023167fca2cc66c",
            "90f3a1afd8b04f1bb898275b0b3ac430",
            "40c5078595fc4c38ae6eec529dd621ea",
            "c5b9d5a261424d2d86be86aa6f6686a7",
            "0e5b62ea43bd4044bd5d5ceb0e5d17d9",
            "2ace768c02874621aab77ca2d468a915",
            "020c9fbb393a4d98926a04d3168ba4f3",
            "49d5d9c065f14085bd284994b1c10c50",
            "4786eef282bf43fd9ae38050d6a2ec55",
            "61ff77131414419ab9e354733515dc5c"
          ]
        },
        "outputId": "874c0e54-49e1-4c65-e359-540008f1a9c3"
      },
      "source": [
        "K_prec = []\n",
        "\n",
        "for K in [1, 10, 50, 100, 500, 1000]:\n",
        "    new_ratings = U[:, :K].dot(Sigma[:K]).dot(V)\n",
        "    \n",
        "    new_ratings = pd.DataFrame(new_ratings, index=ratings.index, columns=ratings.columns)\n",
        "    predictions = []\n",
        "\n",
        "    for personId in tqdm_notebook(interactions.index):\n",
        "        prediction = (\n",
        "            new_ratings\n",
        "            .loc[personId]\n",
        "            .sort_values(ascending=False)\n",
        "            .index.values\n",
        "        )\n",
        "\n",
        "        predictions.append(\n",
        "            list(prediction[~np.in1d(\n",
        "                prediction,\n",
        "                interactions.loc[personId, 'true_train'])])[:top_k])\n",
        "\n",
        "    interactions[f'prediction_svd_{K}'] = predictions\n",
        "    K_prec.append(calc_precision(f'prediction_svd_{K}'))\n",
        "    interactions.drop([f'prediction_svd_{K}'], axis=1, inplace=True)"
      ],
      "execution_count": 55,
      "outputs": [
        {
          "output_type": "stream",
          "text": [
            "/usr/local/lib/python3.7/dist-packages/ipykernel_launcher.py:9: TqdmDeprecationWarning: This function will be removed in tqdm==5.0.0\n",
            "Please use `tqdm.notebook.tqdm` instead of `tqdm.tqdm_notebook`\n",
            "  if __name__ == '__main__':\n"
          ],
          "name": "stderr"
        },
        {
          "output_type": "display_data",
          "data": {
            "application/vnd.jupyter.widget-view+json": {
              "model_id": "41d831f5c3b047ef9327fbdc3f0a61fb",
              "version_minor": 0,
              "version_major": 2
            },
            "text/plain": [
              "HBox(children=(FloatProgress(value=0.0, max=1112.0), HTML(value='')))"
            ]
          },
          "metadata": {
            "tags": []
          }
        },
        {
          "output_type": "stream",
          "text": [
            "\n"
          ],
          "name": "stdout"
        },
        {
          "output_type": "display_data",
          "data": {
            "application/vnd.jupyter.widget-view+json": {
              "model_id": "4f22d05910cd44e4ae12aa2100d317e5",
              "version_minor": 0,
              "version_major": 2
            },
            "text/plain": [
              "HBox(children=(FloatProgress(value=0.0, max=1112.0), HTML(value='')))"
            ]
          },
          "metadata": {
            "tags": []
          }
        },
        {
          "output_type": "stream",
          "text": [
            "\n"
          ],
          "name": "stdout"
        },
        {
          "output_type": "display_data",
          "data": {
            "application/vnd.jupyter.widget-view+json": {
              "model_id": "15d2ad9c151649c79d31088e360ac8cf",
              "version_minor": 0,
              "version_major": 2
            },
            "text/plain": [
              "HBox(children=(FloatProgress(value=0.0, max=1112.0), HTML(value='')))"
            ]
          },
          "metadata": {
            "tags": []
          }
        },
        {
          "output_type": "stream",
          "text": [
            "\n"
          ],
          "name": "stdout"
        },
        {
          "output_type": "display_data",
          "data": {
            "application/vnd.jupyter.widget-view+json": {
              "model_id": "526efa9c06494d6e84582cd75544ad75",
              "version_minor": 0,
              "version_major": 2
            },
            "text/plain": [
              "HBox(children=(FloatProgress(value=0.0, max=1112.0), HTML(value='')))"
            ]
          },
          "metadata": {
            "tags": []
          }
        },
        {
          "output_type": "stream",
          "text": [
            "\n"
          ],
          "name": "stdout"
        },
        {
          "output_type": "display_data",
          "data": {
            "application/vnd.jupyter.widget-view+json": {
              "model_id": "8e9f6691177848cbb457818f152375d2",
              "version_minor": 0,
              "version_major": 2
            },
            "text/plain": [
              "HBox(children=(FloatProgress(value=0.0, max=1112.0), HTML(value='')))"
            ]
          },
          "metadata": {
            "tags": []
          }
        },
        {
          "output_type": "stream",
          "text": [
            "\n"
          ],
          "name": "stdout"
        },
        {
          "output_type": "display_data",
          "data": {
            "application/vnd.jupyter.widget-view+json": {
              "model_id": "40c5078595fc4c38ae6eec529dd621ea",
              "version_minor": 0,
              "version_major": 2
            },
            "text/plain": [
              "HBox(children=(FloatProgress(value=0.0, max=1112.0), HTML(value='')))"
            ]
          },
          "metadata": {
            "tags": []
          }
        },
        {
          "output_type": "stream",
          "text": [
            "\n"
          ],
          "name": "stdout"
        }
      ]
    },
    {
      "cell_type": "code",
      "metadata": {
        "id": "O8L2360W81DA",
        "outputId": "237cd7a6-5545-40b5-e2f6-d32e513d2197",
        "colab": {
          "base_uri": "https://localhost:8080/",
          "height": 282
        }
      },
      "source": [
        "plt.plot([1, 10, 50, 100, 500, 1000], K_prec)"
      ],
      "execution_count": 56,
      "outputs": [
        {
          "output_type": "execute_result",
          "data": {
            "text/plain": [
              "[<matplotlib.lines.Line2D at 0x7ff4c8597350>]"
            ]
          },
          "metadata": {
            "tags": []
          },
          "execution_count": 56
        },
        {
          "output_type": "display_data",
          "data": {
            "image/png": "[encoded data removed]",
            "text/plain": [
              "<Figure size 432x288 with 1 Axes>"
            ]
          },
          "metadata": {
            "tags": [],
            "needs_background": "light"
          }
        }
      ]
    },
    {
      "cell_type": "markdown",
      "metadata": {
        "id": "ETpXOarg7NUR"
      },
      "source": [
        "## Часть 3. Контентные  модели"
      ]
    },
    {
      "cell_type": "markdown",
      "metadata": {
        "id": "f0PzHZQG7NUR"
      },
      "source": [
        "В этой части реализуем альтернативный подход к рекомендательным системам — контентные модели."
      ]
    },
    {
      "cell_type": "markdown",
      "metadata": {
        "id": "WnxLuSm77NUR"
      },
      "source": [
        "Теперь мы будем оперировать не матрицей с оценками, а классической для машинного обучения матрицей объекты-признаки. Каждый объект будет характеризовать пару user-item и содержать признаки, описывающие как пользователя, так и товар. Кроме этого признаки могут описывать и саму пару целиком.\n",
        "\n",
        "Матрица со всеми взаимодействиями уже получена нами на этапа разбиения выборки на 2 части. \n",
        "\n",
        "Будем обучать классификатор на взаимодействие, а для него нужны отрицательные примеры. Добавим случайные отсутствующие взаимодействия как отрицательные.\n",
        "\n",
        "Заметим, что модель оценивает каждую пару потенциального взаимодействия, а значит, надо подготовить выборку из всех возможных пар из пользователей и статей."
      ]
    },
    {
      "cell_type": "code",
      "metadata": {
        "id": "x8UE8_5F7NUR"
      },
      "source": [
        "test_personId = np.repeat(interactions.index, len(ratings.columns)) \n",
        "test_contentId = list(ratings.columns) * len(interactions)\n",
        "test = pd.DataFrame(\n",
        "    np.array([test_personId, test_contentId]).T,\n",
        "    columns=['personId', 'contentId'])\n",
        "\n",
        "interactions_train_df = pd.concat((\n",
        "    interactions_train_df,\n",
        "    test.loc[\n",
        "        np.random.permutation(test.index)[\n",
        "            :4*len(interactions_train_df)]]), ignore_index=True)\n",
        "interactions_train_df.eventStrength.fillna(0, inplace=True)"
      ],
      "execution_count": 57,
      "outputs": []
    },
    {
      "cell_type": "markdown",
      "metadata": {
        "id": "YHjAGl5X7NUS"
      },
      "source": [
        "Придумаем и добавим признаков о пользователях и статьях. Сначала добавим информацию о статьях в данные о взаимодействиях."
      ]
    },
    {
      "cell_type": "code",
      "metadata": {
        "id": "rCrmLJ6o7NUS"
      },
      "source": [
        "interactions_train_df = interactions_train_df.merge(articles_df, how='left', on='contentId')\n",
        "interactions_test_df = interactions_test_df.merge(articles_df, how='left', on='contentId')"
      ],
      "execution_count": 58,
      "outputs": []
    },
    {
      "cell_type": "code",
      "metadata": {
        "id": "Dl0THEi87NUS"
      },
      "source": [
        "# first feature index\n",
        "features_start = len(interactions_train_df.columns)"
      ],
      "execution_count": 59,
      "outputs": []
    },
    {
      "cell_type": "markdown",
      "metadata": {
        "id": "Qr-RuQyM7NUS"
      },
      "source": [
        "После обучения модели нам придётся делать предсказания на тестовой выборке для всех возможных пар статья-пользователь. Подготовим такую матрицу, чтобы параллельно посчитать признаки для неё."
      ]
    },
    {
      "cell_type": "code",
      "metadata": {
        "colab": {
          "base_uri": "https://localhost:8080/",
          "height": 602
        },
        "id": "J-eO-JeM7NUS",
        "outputId": "f34c8eb0-f7fd-4cb1-cb48-5c192b59e10a"
      },
      "source": [
        "test_personId = np.repeat(interactions.index, len(articles_df)) \n",
        "test_contentId = list(articles_df.contentId) * len(interactions)\n",
        "test = pd.DataFrame(\n",
        "    np.array([test_personId, test_contentId]).T,\n",
        "    columns=['personId', 'contentId'])\n",
        "test = test.merge(articles_df, how='left', on='contentId')\n",
        "\n",
        "test.head()"
      ],
      "execution_count": 60,
      "outputs": [
        {
          "output_type": "execute_result",
          "data": {
            "text/html": [
              "<div>\n",
              "<style scoped>\n",
              "    .dataframe tbody tr th:only-of-type {\n",
              "        vertical-align: middle;\n",
              "    }\n",
              "\n",
              "    .dataframe tbody tr th {\n",
              "        vertical-align: top;\n",
              "    }\n",
              "\n",
              "    .dataframe thead th {\n",
              "        text-align: right;\n",
              "    }\n",
              "</style>\n",
              "<table border=\"1\" class=\"dataframe\">\n",
              "  <thead>\n",
              "    <tr style=\"text-align: right;\">\n",
              "      <th></th>\n",
              "      <th>personId</th>\n",
              "      <th>contentId</th>\n",
              "      <th>timestamp</th>\n",
              "      <th>eventType</th>\n",
              "      <th>authorPersonId</th>\n",
              "      <th>authorSessionId</th>\n",
              "      <th>authorUserAgent</th>\n",
              "      <th>authorRegion</th>\n",
              "      <th>authorCountry</th>\n",
              "      <th>contentType</th>\n",
              "      <th>url</th>\n",
              "      <th>title</th>\n",
              "      <th>text</th>\n",
              "      <th>lang</th>\n",
              "    </tr>\n",
              "  </thead>\n",
              "  <tbody>\n",
              "    <tr>\n",
              "      <th>0</th>\n",
              "      <td>-1007001694607905623</td>\n",
              "      <td>-4110354420726924665</td>\n",
              "      <td>1459193988</td>\n",
              "      <td>CONTENT SHARED</td>\n",
              "      <td>4340306774493623681</td>\n",
              "      <td>8940341205206233829</td>\n",
              "      <td>NaN</td>\n",
              "      <td>NaN</td>\n",
              "      <td>NaN</td>\n",
              "      <td>HTML</td>\n",
              "      <td>http://www.nytimes.com/2016/03/28/business/dea...</td>\n",
              "      <td>Ethereum, a Virtual Currency, Enables Transact...</td>\n",
              "      <td>All of this work is still very early. The firs...</td>\n",
              "      <td>en</td>\n",
              "    </tr>\n",
              "    <tr>\n",
              "      <th>1</th>\n",
              "      <td>-1007001694607905623</td>\n",
              "      <td>-7292285110016212249</td>\n",
              "      <td>1459194146</td>\n",
              "      <td>CONTENT SHARED</td>\n",
              "      <td>4340306774493623681</td>\n",
              "      <td>8940341205206233829</td>\n",
              "      <td>NaN</td>\n",
              "      <td>NaN</td>\n",
              "      <td>NaN</td>\n",
              "      <td>HTML</td>\n",
              "      <td>http://cointelegraph.com/news/bitcoin-future-w...</td>\n",
              "      <td>Bitcoin Future: When GBPcoin of Branson Wins O...</td>\n",
              "      <td>The alarm clock wakes me at 8:00 with stream o...</td>\n",
              "      <td>en</td>\n",
              "    </tr>\n",
              "    <tr>\n",
              "      <th>2</th>\n",
              "      <td>-1007001694607905623</td>\n",
              "      <td>-6151852268067518688</td>\n",
              "      <td>1459194474</td>\n",
              "      <td>CONTENT SHARED</td>\n",
              "      <td>3891637997717104548</td>\n",
              "      <td>-1457532940883382585</td>\n",
              "      <td>NaN</td>\n",
              "      <td>NaN</td>\n",
              "      <td>NaN</td>\n",
              "      <td>HTML</td>\n",
              "      <td>https://cloudplatform.googleblog.com/2016/03/G...</td>\n",
              "      <td>Google Data Center 360° Tour</td>\n",
              "      <td>We're excited to share the Google Data Center ...</td>\n",
              "      <td>en</td>\n",
              "    </tr>\n",
              "    <tr>\n",
              "      <th>3</th>\n",
              "      <td>-1007001694607905623</td>\n",
              "      <td>2448026894306402386</td>\n",
              "      <td>1459194497</td>\n",
              "      <td>CONTENT SHARED</td>\n",
              "      <td>4340306774493623681</td>\n",
              "      <td>8940341205206233829</td>\n",
              "      <td>NaN</td>\n",
              "      <td>NaN</td>\n",
              "      <td>NaN</td>\n",
              "      <td>HTML</td>\n",
              "      <td>https://bitcoinmagazine.com/articles/ibm-wants...</td>\n",
              "      <td>IBM Wants to \"Evolve the Internet\" With Blockc...</td>\n",
              "      <td>The Aite Group projects the blockchain market ...</td>\n",
              "      <td>en</td>\n",
              "    </tr>\n",
              "    <tr>\n",
              "      <th>4</th>\n",
              "      <td>-1007001694607905623</td>\n",
              "      <td>-2826566343807132236</td>\n",
              "      <td>1459194522</td>\n",
              "      <td>CONTENT SHARED</td>\n",
              "      <td>4340306774493623681</td>\n",
              "      <td>8940341205206233829</td>\n",
              "      <td>NaN</td>\n",
              "      <td>NaN</td>\n",
              "      <td>NaN</td>\n",
              "      <td>HTML</td>\n",
              "      <td>http://www.coindesk.com/ieee-blockchain-oxford...</td>\n",
              "      <td>IEEE to Talk Blockchain at Cloud Computing Oxf...</td>\n",
              "      <td>One of the largest and oldest organizations fo...</td>\n",
              "      <td>en</td>\n",
              "    </tr>\n",
              "  </tbody>\n",
              "</table>\n",
              "</div>"
            ],
            "text/plain": [
              "               personId  ... lang\n",
              "0  -1007001694607905623  ...   en\n",
              "1  -1007001694607905623  ...   en\n",
              "2  -1007001694607905623  ...   en\n",
              "3  -1007001694607905623  ...   en\n",
              "4  -1007001694607905623  ...   en\n",
              "\n",
              "[5 rows x 14 columns]"
            ]
          },
          "metadata": {
            "tags": []
          },
          "execution_count": 60
        }
      ]
    },
    {
      "cell_type": "markdown",
      "metadata": {
        "id": "0mETAklS7NUS"
      },
      "source": [
        "Добавим признаки-индикаторы возможных значений contentType."
      ]
    },
    {
      "cell_type": "code",
      "metadata": {
        "id": "_qV8qSx77NUS"
      },
      "source": [
        "interactions_train_df['is_HTML'] = interactions_train_df.contentType == 'HTML'\n",
        "interactions_train_df['is_RICH'] = interactions_train_df.contentType == 'RICH'\n",
        "interactions_train_df['is_VIDEO'] = interactions_train_df.contentType == 'VIDEO'\n",
        "\n",
        "test['is_HTML'] = test.contentType == 'HTML'\n",
        "test['is_RICH'] = test.contentType == 'RICH'\n",
        "test['is_VIDEO'] = test.contentType == 'VIDEO'"
      ],
      "execution_count": 61,
      "outputs": []
    },
    {
      "cell_type": "markdown",
      "metadata": {
        "id": "CQ88UyYo7NUT"
      },
      "source": [
        "Добавим признаки \"длина названия\" и \"длина текста\" + некоторые проверки на ключевые слова."
      ]
    },
    {
      "cell_type": "code",
      "metadata": {
        "id": "vrbwcMOc7NUT"
      },
      "source": [
        "interactions_train_df['title_length'] = interactions_train_df.title.fillna('').apply(len)\n",
        "interactions_train_df['text_length'] = interactions_train_df.text.fillna('').apply(len)\n",
        "\n",
        "test['title_length'] = test.title.fillna('').apply(len)\n",
        "test['text_length'] = test.text.fillna('').apply(len)\n",
        "\n",
        "interactions_train_df['has_new'] = \\\n",
        "    interactions_train_df.title.fillna('').apply(lambda x: 'new' in x.lower())\n",
        "interactions_train_df['has_why'] = \\\n",
        "    interactions_train_df.title.fillna('').apply(lambda x: 'why' in x.lower())\n",
        "interactions_train_df['has_how'] = \\\n",
        "    interactions_train_df.title.fillna('').apply(lambda x: 'how' in x.lower())\n",
        "interactions_train_df['has_ai'] = \\\n",
        "    interactions_train_df.title.fillna('').apply(lambda x: 'ai' in x.lower())\n",
        "\n",
        "test['has_new'] = \\\n",
        "    test.title.fillna('').apply(lambda x: 'new' in x.lower())\n",
        "test['has_why'] = \\\n",
        "    test.title.fillna('').apply(lambda x: 'why' in x.lower())\n",
        "test['has_how'] = \\\n",
        "    test.title.fillna('').apply(lambda x: 'how' in x.lower())\n",
        "test['has_ai'] = \\\n",
        "    test.title.fillna('').apply(lambda x: 'ai' in x.lower())"
      ],
      "execution_count": 62,
      "outputs": []
    },
    {
      "cell_type": "markdown",
      "metadata": {
        "id": "3VKPsutr7NUT"
      },
      "source": [
        "Добавим признаки-индикаторы языка."
      ]
    },
    {
      "cell_type": "code",
      "metadata": {
        "id": "Fh9Zm1XR7NUT"
      },
      "source": [
        "interactions_train_df['is_lang_en'] = interactions_train_df.lang == 'en'\n",
        "interactions_train_df['is_lang_pt'] = interactions_train_df.lang == 'pt'\n",
        "\n",
        "test['is_lang_en'] = test.lang == 'en'\n",
        "test['is_lang_pt'] = test.lang == 'pt'"
      ],
      "execution_count": 63,
      "outputs": []
    },
    {
      "cell_type": "markdown",
      "metadata": {
        "id": "MwkU7S9H7NUT"
      },
      "source": [
        "Обучим на полученных признаках градиентный бустинг."
      ]
    },
    {
      "cell_type": "code",
      "metadata": {
        "colab": {
          "base_uri": "https://localhost:8080/"
        },
        "id": "3cbtHpi77NUT",
        "scrolled": true,
        "outputId": "c28ed140-037e-4484-cbec-fbfa83769bf0"
      },
      "source": [
        "import catboost \n",
        "\n",
        "model = catboost.CatBoostClassifier()\n",
        "model.fit(interactions_train_df[interactions_train_df.columns[features_start:]],\n",
        "          np.array(interactions_train_df.eventStrength > 0, dtype=int))"
      ],
      "execution_count": 64,
      "outputs": [
        {
          "output_type": "stream",
          "text": [
            "Learning rate set to 0.086682\n",
            "0:\tlearn: 0.6578548\ttotal: 105ms\tremaining: 1m 44s\n",
            "1:\tlearn: 0.6290463\ttotal: 143ms\tremaining: 1m 11s\n",
            "2:\tlearn: 0.6052198\ttotal: 198ms\tremaining: 1m 5s\n",
            "3:\tlearn: 0.5860653\ttotal: 232ms\tremaining: 57.7s\n",
            "4:\tlearn: 0.5700255\ttotal: 280ms\tremaining: 55.7s\n",
            "5:\tlearn: 0.5570026\ttotal: 327ms\tremaining: 54.2s\n",
            "6:\tlearn: 0.5461129\ttotal: 369ms\tremaining: 52.4s\n",
            "7:\tlearn: 0.5372640\ttotal: 413ms\tremaining: 51.2s\n",
            "8:\tlearn: 0.5301535\ttotal: 447ms\tremaining: 49.2s\n",
            "9:\tlearn: 0.5243288\ttotal: 491ms\tremaining: 48.6s\n",
            "10:\tlearn: 0.5193718\ttotal: 535ms\tremaining: 48.1s\n",
            "11:\tlearn: 0.5152016\ttotal: 574ms\tremaining: 47.3s\n",
            "12:\tlearn: 0.5119258\ttotal: 607ms\tremaining: 46s\n",
            "13:\tlearn: 0.5089950\ttotal: 654ms\tremaining: 46.1s\n",
            "14:\tlearn: 0.5067669\ttotal: 688ms\tremaining: 45.2s\n",
            "15:\tlearn: 0.5046828\ttotal: 733ms\tremaining: 45.1s\n",
            "16:\tlearn: 0.5031119\ttotal: 769ms\tremaining: 44.5s\n",
            "17:\tlearn: 0.5015955\ttotal: 808ms\tremaining: 44.1s\n",
            "18:\tlearn: 0.5002020\ttotal: 862ms\tremaining: 44.5s\n",
            "19:\tlearn: 0.4993316\ttotal: 895ms\tremaining: 43.9s\n",
            "20:\tlearn: 0.4983074\ttotal: 941ms\tremaining: 43.8s\n",
            "21:\tlearn: 0.4976541\ttotal: 977ms\tremaining: 43.4s\n",
            "22:\tlearn: 0.4968542\ttotal: 1.02s\tremaining: 43.3s\n",
            "23:\tlearn: 0.4960511\ttotal: 1.06s\tremaining: 43s\n",
            "24:\tlearn: 0.4954484\ttotal: 1.1s\tremaining: 43s\n",
            "25:\tlearn: 0.4950093\ttotal: 1.15s\tremaining: 43.1s\n",
            "26:\tlearn: 0.4945203\ttotal: 1.21s\tremaining: 43.5s\n",
            "27:\tlearn: 0.4941661\ttotal: 1.25s\tremaining: 43.5s\n",
            "28:\tlearn: 0.4938648\ttotal: 1.29s\tremaining: 43.3s\n",
            "29:\tlearn: 0.4934397\ttotal: 1.34s\tremaining: 43.2s\n",
            "30:\tlearn: 0.4930993\ttotal: 1.38s\tremaining: 43.1s\n",
            "31:\tlearn: 0.4929941\ttotal: 1.42s\tremaining: 42.8s\n",
            "32:\tlearn: 0.4926753\ttotal: 1.46s\tremaining: 42.8s\n",
            "33:\tlearn: 0.4922640\ttotal: 1.51s\tremaining: 43s\n",
            "34:\tlearn: 0.4919429\ttotal: 1.56s\tremaining: 43s\n",
            "35:\tlearn: 0.4916843\ttotal: 1.6s\tremaining: 42.9s\n",
            "36:\tlearn: 0.4913960\ttotal: 1.64s\tremaining: 42.8s\n",
            "37:\tlearn: 0.4912100\ttotal: 1.68s\tremaining: 42.6s\n",
            "38:\tlearn: 0.4909174\ttotal: 1.72s\tremaining: 42.5s\n",
            "39:\tlearn: 0.4907436\ttotal: 1.77s\tremaining: 42.5s\n",
            "40:\tlearn: 0.4906389\ttotal: 1.81s\tremaining: 42.5s\n",
            "41:\tlearn: 0.4904224\ttotal: 1.85s\tremaining: 42.3s\n",
            "42:\tlearn: 0.4902862\ttotal: 1.9s\tremaining: 42.3s\n",
            "43:\tlearn: 0.4899875\ttotal: 1.94s\tremaining: 42.2s\n",
            "44:\tlearn: 0.4897123\ttotal: 1.99s\tremaining: 42.1s\n",
            "45:\tlearn: 0.4895048\ttotal: 2.03s\tremaining: 42.1s\n",
            "46:\tlearn: 0.4893223\ttotal: 2.08s\tremaining: 42.1s\n",
            "47:\tlearn: 0.4890965\ttotal: 2.12s\tremaining: 42s\n",
            "48:\tlearn: 0.4889768\ttotal: 2.17s\tremaining: 42.1s\n",
            "49:\tlearn: 0.4888557\ttotal: 2.22s\tremaining: 42.2s\n",
            "50:\tlearn: 0.4886314\ttotal: 2.27s\tremaining: 42.2s\n",
            "51:\tlearn: 0.4884358\ttotal: 2.31s\tremaining: 42.1s\n",
            "52:\tlearn: 0.4882681\ttotal: 2.35s\tremaining: 42s\n",
            "53:\tlearn: 0.4881805\ttotal: 2.39s\tremaining: 41.8s\n",
            "54:\tlearn: 0.4880302\ttotal: 2.44s\tremaining: 41.8s\n",
            "55:\tlearn: 0.4878428\ttotal: 2.48s\tremaining: 41.8s\n",
            "56:\tlearn: 0.4876671\ttotal: 2.52s\tremaining: 41.7s\n",
            "57:\tlearn: 0.4875583\ttotal: 2.56s\tremaining: 41.6s\n",
            "58:\tlearn: 0.4873920\ttotal: 2.61s\tremaining: 41.6s\n",
            "59:\tlearn: 0.4871880\ttotal: 2.65s\tremaining: 41.5s\n",
            "60:\tlearn: 0.4869932\ttotal: 2.69s\tremaining: 41.4s\n",
            "61:\tlearn: 0.4868477\ttotal: 2.74s\tremaining: 41.4s\n",
            "62:\tlearn: 0.4866850\ttotal: 2.78s\tremaining: 41.4s\n",
            "63:\tlearn: 0.4865500\ttotal: 2.82s\tremaining: 41.3s\n",
            "64:\tlearn: 0.4863332\ttotal: 2.87s\tremaining: 41.3s\n",
            "65:\tlearn: 0.4862456\ttotal: 2.91s\tremaining: 41.2s\n",
            "66:\tlearn: 0.4860701\ttotal: 2.96s\tremaining: 41.2s\n",
            "67:\tlearn: 0.4859660\ttotal: 3s\tremaining: 41.1s\n",
            "68:\tlearn: 0.4858768\ttotal: 3.04s\tremaining: 41.1s\n",
            "69:\tlearn: 0.4856962\ttotal: 3.09s\tremaining: 41s\n",
            "70:\tlearn: 0.4855426\ttotal: 3.13s\tremaining: 41s\n",
            "71:\tlearn: 0.4853904\ttotal: 3.17s\tremaining: 40.9s\n",
            "72:\tlearn: 0.4853290\ttotal: 3.22s\tremaining: 40.9s\n",
            "73:\tlearn: 0.4852301\ttotal: 3.26s\tremaining: 40.8s\n",
            "74:\tlearn: 0.4850900\ttotal: 3.31s\tremaining: 40.8s\n",
            "75:\tlearn: 0.4850069\ttotal: 3.35s\tremaining: 40.8s\n",
            "76:\tlearn: 0.4848479\ttotal: 3.4s\tremaining: 40.8s\n",
            "77:\tlearn: 0.4847226\ttotal: 3.45s\tremaining: 40.7s\n",
            "78:\tlearn: 0.4846194\ttotal: 3.49s\tremaining: 40.7s\n",
            "79:\tlearn: 0.4844305\ttotal: 3.54s\tremaining: 40.7s\n",
            "80:\tlearn: 0.4843743\ttotal: 3.58s\tremaining: 40.7s\n",
            "81:\tlearn: 0.4842393\ttotal: 3.62s\tremaining: 40.6s\n",
            "82:\tlearn: 0.4841009\ttotal: 3.66s\tremaining: 40.5s\n",
            "83:\tlearn: 0.4839552\ttotal: 3.71s\tremaining: 40.4s\n",
            "84:\tlearn: 0.4838655\ttotal: 3.76s\tremaining: 40.4s\n",
            "85:\tlearn: 0.4838565\ttotal: 3.79s\tremaining: 40.3s\n",
            "86:\tlearn: 0.4837563\ttotal: 3.83s\tremaining: 40.3s\n",
            "87:\tlearn: 0.4836628\ttotal: 3.88s\tremaining: 40.2s\n",
            "88:\tlearn: 0.4836155\ttotal: 3.92s\tremaining: 40.2s\n",
            "89:\tlearn: 0.4834829\ttotal: 3.97s\tremaining: 40.1s\n",
            "90:\tlearn: 0.4833872\ttotal: 4.01s\tremaining: 40.1s\n",
            "91:\tlearn: 0.4832476\ttotal: 4.06s\tremaining: 40s\n",
            "92:\tlearn: 0.4832102\ttotal: 4.09s\tremaining: 39.9s\n",
            "93:\tlearn: 0.4830589\ttotal: 4.14s\tremaining: 39.9s\n",
            "94:\tlearn: 0.4829422\ttotal: 4.2s\tremaining: 40s\n",
            "95:\tlearn: 0.4828426\ttotal: 4.24s\tremaining: 39.9s\n",
            "96:\tlearn: 0.4827487\ttotal: 4.28s\tremaining: 39.9s\n",
            "97:\tlearn: 0.4826852\ttotal: 4.33s\tremaining: 39.8s\n",
            "98:\tlearn: 0.4826080\ttotal: 4.37s\tremaining: 39.8s\n",
            "99:\tlearn: 0.4824556\ttotal: 4.42s\tremaining: 39.8s\n",
            "100:\tlearn: 0.4823895\ttotal: 4.46s\tremaining: 39.7s\n",
            "101:\tlearn: 0.4822962\ttotal: 4.51s\tremaining: 39.7s\n",
            "102:\tlearn: 0.4822243\ttotal: 4.55s\tremaining: 39.7s\n",
            "103:\tlearn: 0.4821261\ttotal: 4.59s\tremaining: 39.6s\n",
            "104:\tlearn: 0.4820790\ttotal: 4.64s\tremaining: 39.5s\n",
            "105:\tlearn: 0.4819505\ttotal: 4.68s\tremaining: 39.5s\n",
            "106:\tlearn: 0.4818520\ttotal: 4.73s\tremaining: 39.5s\n",
            "107:\tlearn: 0.4817067\ttotal: 4.78s\tremaining: 39.5s\n",
            "108:\tlearn: 0.4816136\ttotal: 4.83s\tremaining: 39.4s\n",
            "109:\tlearn: 0.4815362\ttotal: 4.87s\tremaining: 39.4s\n",
            "110:\tlearn: 0.4815144\ttotal: 4.92s\tremaining: 39.4s\n",
            "111:\tlearn: 0.4813917\ttotal: 4.96s\tremaining: 39.4s\n",
            "112:\tlearn: 0.4812576\ttotal: 5.01s\tremaining: 39.3s\n",
            "113:\tlearn: 0.4811247\ttotal: 5.05s\tremaining: 39.3s\n",
            "114:\tlearn: 0.4810574\ttotal: 5.1s\tremaining: 39.3s\n",
            "115:\tlearn: 0.4810041\ttotal: 5.14s\tremaining: 39.2s\n",
            "116:\tlearn: 0.4809498\ttotal: 5.19s\tremaining: 39.2s\n",
            "117:\tlearn: 0.4808693\ttotal: 5.24s\tremaining: 39.2s\n",
            "118:\tlearn: 0.4807925\ttotal: 5.28s\tremaining: 39.1s\n",
            "119:\tlearn: 0.4807745\ttotal: 5.32s\tremaining: 39s\n",
            "120:\tlearn: 0.4806609\ttotal: 5.37s\tremaining: 39s\n",
            "121:\tlearn: 0.4805749\ttotal: 5.41s\tremaining: 38.9s\n",
            "122:\tlearn: 0.4805123\ttotal: 5.45s\tremaining: 38.9s\n",
            "123:\tlearn: 0.4804223\ttotal: 5.49s\tremaining: 38.8s\n",
            "124:\tlearn: 0.4803067\ttotal: 5.54s\tremaining: 38.8s\n",
            "125:\tlearn: 0.4802500\ttotal: 5.58s\tremaining: 38.7s\n",
            "126:\tlearn: 0.4801397\ttotal: 5.63s\tremaining: 38.7s\n",
            "127:\tlearn: 0.4800262\ttotal: 5.67s\tremaining: 38.6s\n",
            "128:\tlearn: 0.4798665\ttotal: 5.71s\tremaining: 38.6s\n",
            "129:\tlearn: 0.4797524\ttotal: 5.76s\tremaining: 38.6s\n",
            "130:\tlearn: 0.4796928\ttotal: 5.8s\tremaining: 38.5s\n",
            "131:\tlearn: 0.4796088\ttotal: 5.84s\tremaining: 38.4s\n",
            "132:\tlearn: 0.4795324\ttotal: 5.88s\tremaining: 38.3s\n",
            "133:\tlearn: 0.4794578\ttotal: 5.93s\tremaining: 38.3s\n",
            "134:\tlearn: 0.4793496\ttotal: 5.98s\tremaining: 38.3s\n",
            "135:\tlearn: 0.4792662\ttotal: 6.01s\tremaining: 38.2s\n",
            "136:\tlearn: 0.4791749\ttotal: 6.05s\tremaining: 38.1s\n",
            "137:\tlearn: 0.4790696\ttotal: 6.09s\tremaining: 38.1s\n",
            "138:\tlearn: 0.4789752\ttotal: 6.13s\tremaining: 38s\n",
            "139:\tlearn: 0.4789169\ttotal: 6.17s\tremaining: 37.9s\n",
            "140:\tlearn: 0.4788151\ttotal: 6.23s\tremaining: 37.9s\n",
            "141:\tlearn: 0.4786890\ttotal: 6.27s\tremaining: 37.9s\n",
            "142:\tlearn: 0.4786389\ttotal: 6.32s\tremaining: 37.8s\n",
            "143:\tlearn: 0.4785292\ttotal: 6.36s\tremaining: 37.8s\n",
            "144:\tlearn: 0.4784350\ttotal: 6.41s\tremaining: 37.8s\n",
            "145:\tlearn: 0.4783669\ttotal: 6.45s\tremaining: 37.8s\n",
            "146:\tlearn: 0.4782540\ttotal: 6.5s\tremaining: 37.7s\n",
            "147:\tlearn: 0.4781719\ttotal: 6.54s\tremaining: 37.7s\n",
            "148:\tlearn: 0.4780358\ttotal: 6.59s\tremaining: 37.6s\n",
            "149:\tlearn: 0.4779547\ttotal: 6.63s\tremaining: 37.6s\n",
            "150:\tlearn: 0.4778036\ttotal: 6.67s\tremaining: 37.5s\n",
            "151:\tlearn: 0.4777274\ttotal: 6.72s\tremaining: 37.5s\n",
            "152:\tlearn: 0.4776830\ttotal: 6.77s\tremaining: 37.5s\n",
            "153:\tlearn: 0.4775593\ttotal: 6.81s\tremaining: 37.4s\n",
            "154:\tlearn: 0.4774908\ttotal: 6.86s\tremaining: 37.4s\n",
            "155:\tlearn: 0.4773908\ttotal: 6.91s\tremaining: 37.4s\n",
            "156:\tlearn: 0.4773492\ttotal: 6.95s\tremaining: 37.3s\n",
            "157:\tlearn: 0.4772522\ttotal: 6.99s\tremaining: 37.2s\n",
            "158:\tlearn: 0.4771286\ttotal: 7.03s\tremaining: 37.2s\n",
            "159:\tlearn: 0.4770834\ttotal: 7.08s\tremaining: 37.1s\n",
            "160:\tlearn: 0.4769931\ttotal: 7.12s\tremaining: 37.1s\n",
            "161:\tlearn: 0.4769144\ttotal: 7.17s\tremaining: 37.1s\n",
            "162:\tlearn: 0.4768064\ttotal: 7.22s\tremaining: 37.1s\n",
            "163:\tlearn: 0.4767738\ttotal: 7.26s\tremaining: 37s\n",
            "164:\tlearn: 0.4767299\ttotal: 7.3s\tremaining: 37s\n",
            "165:\tlearn: 0.4766644\ttotal: 7.35s\tremaining: 36.9s\n",
            "166:\tlearn: 0.4765970\ttotal: 7.39s\tremaining: 36.9s\n",
            "167:\tlearn: 0.4764955\ttotal: 7.44s\tremaining: 36.8s\n",
            "168:\tlearn: 0.4764136\ttotal: 7.48s\tremaining: 36.8s\n",
            "169:\tlearn: 0.4763186\ttotal: 7.52s\tremaining: 36.7s\n",
            "170:\tlearn: 0.4762571\ttotal: 7.56s\tremaining: 36.7s\n",
            "171:\tlearn: 0.4762130\ttotal: 7.61s\tremaining: 36.6s\n",
            "172:\tlearn: 0.4761688\ttotal: 7.64s\tremaining: 36.5s\n",
            "173:\tlearn: 0.4760971\ttotal: 7.69s\tremaining: 36.5s\n",
            "174:\tlearn: 0.4760567\ttotal: 7.73s\tremaining: 36.5s\n",
            "175:\tlearn: 0.4759783\ttotal: 7.78s\tremaining: 36.4s\n",
            "176:\tlearn: 0.4758770\ttotal: 7.82s\tremaining: 36.3s\n",
            "177:\tlearn: 0.4758295\ttotal: 7.85s\tremaining: 36.3s\n",
            "178:\tlearn: 0.4757227\ttotal: 7.89s\tremaining: 36.2s\n",
            "179:\tlearn: 0.4756207\ttotal: 7.93s\tremaining: 36.1s\n",
            "180:\tlearn: 0.4755637\ttotal: 7.98s\tremaining: 36.1s\n",
            "181:\tlearn: 0.4755323\ttotal: 8.03s\tremaining: 36.1s\n",
            "182:\tlearn: 0.4755022\ttotal: 8.07s\tremaining: 36s\n",
            "183:\tlearn: 0.4754339\ttotal: 8.12s\tremaining: 36s\n",
            "184:\tlearn: 0.4753700\ttotal: 8.16s\tremaining: 35.9s\n",
            "185:\tlearn: 0.4752563\ttotal: 8.2s\tremaining: 35.9s\n",
            "186:\tlearn: 0.4751974\ttotal: 8.26s\tremaining: 35.9s\n",
            "187:\tlearn: 0.4751280\ttotal: 8.3s\tremaining: 35.9s\n",
            "188:\tlearn: 0.4750606\ttotal: 8.35s\tremaining: 35.8s\n",
            "189:\tlearn: 0.4750259\ttotal: 8.39s\tremaining: 35.8s\n",
            "190:\tlearn: 0.4749572\ttotal: 8.43s\tremaining: 35.7s\n",
            "191:\tlearn: 0.4748240\ttotal: 8.48s\tremaining: 35.7s\n",
            "192:\tlearn: 0.4747909\ttotal: 8.52s\tremaining: 35.6s\n",
            "193:\tlearn: 0.4746972\ttotal: 8.56s\tremaining: 35.6s\n",
            "194:\tlearn: 0.4745793\ttotal: 8.61s\tremaining: 35.5s\n",
            "195:\tlearn: 0.4744927\ttotal: 8.65s\tremaining: 35.5s\n",
            "196:\tlearn: 0.4744208\ttotal: 8.7s\tremaining: 35.4s\n",
            "197:\tlearn: 0.4742965\ttotal: 8.74s\tremaining: 35.4s\n",
            "198:\tlearn: 0.4742166\ttotal: 8.78s\tremaining: 35.3s\n",
            "199:\tlearn: 0.4741639\ttotal: 8.82s\tremaining: 35.3s\n",
            "200:\tlearn: 0.4740949\ttotal: 8.86s\tremaining: 35.2s\n",
            "201:\tlearn: 0.4740072\ttotal: 8.91s\tremaining: 35.2s\n",
            "202:\tlearn: 0.4739528\ttotal: 8.95s\tremaining: 35.1s\n",
            "203:\tlearn: 0.4738542\ttotal: 8.99s\tremaining: 35.1s\n",
            "204:\tlearn: 0.4738276\ttotal: 9.04s\tremaining: 35.1s\n",
            "205:\tlearn: 0.4737499\ttotal: 9.09s\tremaining: 35s\n",
            "206:\tlearn: 0.4736825\ttotal: 9.13s\tremaining: 35s\n",
            "207:\tlearn: 0.4736252\ttotal: 9.17s\tremaining: 34.9s\n",
            "208:\tlearn: 0.4735915\ttotal: 9.22s\tremaining: 34.9s\n",
            "209:\tlearn: 0.4735573\ttotal: 9.28s\tremaining: 34.9s\n",
            "210:\tlearn: 0.4734463\ttotal: 9.32s\tremaining: 34.9s\n",
            "211:\tlearn: 0.4733423\ttotal: 9.38s\tremaining: 34.8s\n",
            "212:\tlearn: 0.4732352\ttotal: 9.42s\tremaining: 34.8s\n",
            "213:\tlearn: 0.4731983\ttotal: 9.46s\tremaining: 34.7s\n",
            "214:\tlearn: 0.4731539\ttotal: 9.5s\tremaining: 34.7s\n",
            "215:\tlearn: 0.4730973\ttotal: 9.55s\tremaining: 34.7s\n",
            "216:\tlearn: 0.4730421\ttotal: 9.6s\tremaining: 34.6s\n",
            "217:\tlearn: 0.4729762\ttotal: 9.64s\tremaining: 34.6s\n",
            "218:\tlearn: 0.4728911\ttotal: 9.69s\tremaining: 34.6s\n",
            "219:\tlearn: 0.4727998\ttotal: 9.73s\tremaining: 34.5s\n",
            "220:\tlearn: 0.4727763\ttotal: 9.78s\tremaining: 34.5s\n",
            "221:\tlearn: 0.4727125\ttotal: 9.83s\tremaining: 34.4s\n",
            "222:\tlearn: 0.4726517\ttotal: 9.87s\tremaining: 34.4s\n",
            "223:\tlearn: 0.4725717\ttotal: 9.92s\tremaining: 34.4s\n",
            "224:\tlearn: 0.4725077\ttotal: 9.96s\tremaining: 34.3s\n",
            "225:\tlearn: 0.4724207\ttotal: 10s\tremaining: 34.3s\n",
            "226:\tlearn: 0.4723489\ttotal: 10.1s\tremaining: 34.3s\n",
            "227:\tlearn: 0.4722893\ttotal: 10.1s\tremaining: 34.2s\n",
            "228:\tlearn: 0.4721897\ttotal: 10.1s\tremaining: 34.2s\n",
            "229:\tlearn: 0.4721173\ttotal: 10.2s\tremaining: 34.1s\n",
            "230:\tlearn: 0.4720432\ttotal: 10.2s\tremaining: 34.1s\n",
            "231:\tlearn: 0.4720069\ttotal: 10.3s\tremaining: 34.1s\n",
            "232:\tlearn: 0.4719113\ttotal: 10.3s\tremaining: 34s\n",
            "233:\tlearn: 0.4718240\ttotal: 10.4s\tremaining: 34s\n",
            "234:\tlearn: 0.4717255\ttotal: 10.4s\tremaining: 33.9s\n",
            "235:\tlearn: 0.4716531\ttotal: 10.5s\tremaining: 33.9s\n",
            "236:\tlearn: 0.4716262\ttotal: 10.5s\tremaining: 33.8s\n",
            "237:\tlearn: 0.4715812\ttotal: 10.5s\tremaining: 33.8s\n",
            "238:\tlearn: 0.4714903\ttotal: 10.6s\tremaining: 33.7s\n",
            "239:\tlearn: 0.4714469\ttotal: 10.6s\tremaining: 33.7s\n",
            "240:\tlearn: 0.4713626\ttotal: 10.7s\tremaining: 33.6s\n",
            "241:\tlearn: 0.4712745\ttotal: 10.7s\tremaining: 33.6s\n",
            "242:\tlearn: 0.4712077\ttotal: 10.8s\tremaining: 33.5s\n",
            "243:\tlearn: 0.4711156\ttotal: 10.8s\tremaining: 33.5s\n",
            "244:\tlearn: 0.4710818\ttotal: 10.9s\tremaining: 33.5s\n",
            "245:\tlearn: 0.4710459\ttotal: 10.9s\tremaining: 33.4s\n",
            "246:\tlearn: 0.4709886\ttotal: 11s\tremaining: 33.4s\n",
            "247:\tlearn: 0.4709233\ttotal: 11s\tremaining: 33.3s\n",
            "248:\tlearn: 0.4708643\ttotal: 11s\tremaining: 33.3s\n",
            "249:\tlearn: 0.4708359\ttotal: 11.1s\tremaining: 33.2s\n",
            "250:\tlearn: 0.4707920\ttotal: 11.1s\tremaining: 33.2s\n",
            "251:\tlearn: 0.4707245\ttotal: 11.2s\tremaining: 33.1s\n",
            "252:\tlearn: 0.4706980\ttotal: 11.2s\tremaining: 33.1s\n",
            "253:\tlearn: 0.4706470\ttotal: 11.3s\tremaining: 33.1s\n",
            "254:\tlearn: 0.4705587\ttotal: 11.3s\tremaining: 33s\n",
            "255:\tlearn: 0.4705087\ttotal: 11.3s\tremaining: 33s\n",
            "256:\tlearn: 0.4704628\ttotal: 11.4s\tremaining: 32.9s\n",
            "257:\tlearn: 0.4703878\ttotal: 11.4s\tremaining: 32.9s\n",
            "258:\tlearn: 0.4703228\ttotal: 11.5s\tremaining: 32.8s\n",
            "259:\tlearn: 0.4702646\ttotal: 11.5s\tremaining: 32.8s\n",
            "260:\tlearn: 0.4702128\ttotal: 11.6s\tremaining: 32.7s\n",
            "261:\tlearn: 0.4701759\ttotal: 11.6s\tremaining: 32.7s\n",
            "262:\tlearn: 0.4701081\ttotal: 11.6s\tremaining: 32.6s\n",
            "263:\tlearn: 0.4700453\ttotal: 11.7s\tremaining: 32.6s\n",
            "264:\tlearn: 0.4700016\ttotal: 11.7s\tremaining: 32.5s\n",
            "265:\tlearn: 0.4699542\ttotal: 11.8s\tremaining: 32.5s\n",
            "266:\tlearn: 0.4699258\ttotal: 11.8s\tremaining: 32.4s\n",
            "267:\tlearn: 0.4698646\ttotal: 11.9s\tremaining: 32.4s\n",
            "268:\tlearn: 0.4697882\ttotal: 11.9s\tremaining: 32.3s\n",
            "269:\tlearn: 0.4697419\ttotal: 11.9s\tremaining: 32.3s\n",
            "270:\tlearn: 0.4696911\ttotal: 12s\tremaining: 32.2s\n",
            "271:\tlearn: 0.4696223\ttotal: 12s\tremaining: 32.2s\n",
            "272:\tlearn: 0.4695297\ttotal: 12.1s\tremaining: 32.1s\n",
            "273:\tlearn: 0.4694571\ttotal: 12.1s\tremaining: 32.1s\n",
            "274:\tlearn: 0.4694095\ttotal: 12.2s\tremaining: 32s\n",
            "275:\tlearn: 0.4693601\ttotal: 12.2s\tremaining: 32s\n",
            "276:\tlearn: 0.4693193\ttotal: 12.2s\tremaining: 32s\n",
            "277:\tlearn: 0.4692686\ttotal: 12.3s\tremaining: 31.9s\n",
            "278:\tlearn: 0.4692315\ttotal: 12.3s\tremaining: 31.9s\n",
            "279:\tlearn: 0.4691918\ttotal: 12.4s\tremaining: 31.9s\n",
            "280:\tlearn: 0.4691277\ttotal: 12.4s\tremaining: 31.8s\n",
            "281:\tlearn: 0.4690112\ttotal: 12.5s\tremaining: 31.8s\n",
            "282:\tlearn: 0.4689594\ttotal: 12.5s\tremaining: 31.7s\n",
            "283:\tlearn: 0.4688688\ttotal: 12.6s\tremaining: 31.7s\n",
            "284:\tlearn: 0.4688140\ttotal: 12.6s\tremaining: 31.6s\n",
            "285:\tlearn: 0.4687560\ttotal: 12.7s\tremaining: 31.6s\n",
            "286:\tlearn: 0.4686832\ttotal: 12.7s\tremaining: 31.6s\n",
            "287:\tlearn: 0.4686041\ttotal: 12.7s\tremaining: 31.5s\n",
            "288:\tlearn: 0.4685314\ttotal: 12.8s\tremaining: 31.5s\n",
            "289:\tlearn: 0.4684503\ttotal: 12.8s\tremaining: 31.4s\n",
            "290:\tlearn: 0.4684124\ttotal: 12.9s\tremaining: 31.4s\n",
            "291:\tlearn: 0.4683322\ttotal: 12.9s\tremaining: 31.3s\n",
            "292:\tlearn: 0.4682982\ttotal: 13s\tremaining: 31.3s\n",
            "293:\tlearn: 0.4682716\ttotal: 13s\tremaining: 31.2s\n",
            "294:\tlearn: 0.4681896\ttotal: 13.1s\tremaining: 31.2s\n",
            "295:\tlearn: 0.4680986\ttotal: 13.1s\tremaining: 31.1s\n",
            "296:\tlearn: 0.4680710\ttotal: 13.1s\tremaining: 31.1s\n",
            "297:\tlearn: 0.4680543\ttotal: 13.2s\tremaining: 31s\n",
            "298:\tlearn: 0.4680047\ttotal: 13.2s\tremaining: 31s\n",
            "299:\tlearn: 0.4679389\ttotal: 13.3s\tremaining: 31s\n",
            "300:\tlearn: 0.4678945\ttotal: 13.3s\tremaining: 30.9s\n",
            "301:\tlearn: 0.4678469\ttotal: 13.4s\tremaining: 30.9s\n",
            "302:\tlearn: 0.4677690\ttotal: 13.4s\tremaining: 30.9s\n",
            "303:\tlearn: 0.4677115\ttotal: 13.5s\tremaining: 30.8s\n",
            "304:\tlearn: 0.4676841\ttotal: 13.5s\tremaining: 30.8s\n",
            "305:\tlearn: 0.4676551\ttotal: 13.6s\tremaining: 30.8s\n",
            "306:\tlearn: 0.4676251\ttotal: 13.6s\tremaining: 30.7s\n",
            "307:\tlearn: 0.4675830\ttotal: 13.7s\tremaining: 30.7s\n",
            "308:\tlearn: 0.4675089\ttotal: 13.7s\tremaining: 30.6s\n",
            "309:\tlearn: 0.4674613\ttotal: 13.8s\tremaining: 30.6s\n",
            "310:\tlearn: 0.4673968\ttotal: 13.8s\tremaining: 30.6s\n",
            "311:\tlearn: 0.4673563\ttotal: 13.8s\tremaining: 30.5s\n",
            "312:\tlearn: 0.4673148\ttotal: 13.9s\tremaining: 30.5s\n",
            "313:\tlearn: 0.4672818\ttotal: 13.9s\tremaining: 30.4s\n",
            "314:\tlearn: 0.4672310\ttotal: 14s\tremaining: 30.4s\n",
            "315:\tlearn: 0.4671882\ttotal: 14s\tremaining: 30.3s\n",
            "316:\tlearn: 0.4671197\ttotal: 14.1s\tremaining: 30.3s\n",
            "317:\tlearn: 0.4670920\ttotal: 14.1s\tremaining: 30.3s\n",
            "318:\tlearn: 0.4670207\ttotal: 14.1s\tremaining: 30.2s\n",
            "319:\tlearn: 0.4669892\ttotal: 14.2s\tremaining: 30.2s\n",
            "320:\tlearn: 0.4669393\ttotal: 14.2s\tremaining: 30.1s\n",
            "321:\tlearn: 0.4668743\ttotal: 14.3s\tremaining: 30.1s\n",
            "322:\tlearn: 0.4668086\ttotal: 14.3s\tremaining: 30.1s\n",
            "323:\tlearn: 0.4667819\ttotal: 14.4s\tremaining: 30s\n",
            "324:\tlearn: 0.4666898\ttotal: 14.4s\tremaining: 30s\n",
            "325:\tlearn: 0.4666330\ttotal: 14.5s\tremaining: 29.9s\n",
            "326:\tlearn: 0.4666136\ttotal: 14.5s\tremaining: 29.9s\n",
            "327:\tlearn: 0.4665823\ttotal: 14.6s\tremaining: 29.8s\n",
            "328:\tlearn: 0.4665167\ttotal: 14.6s\tremaining: 29.8s\n",
            "329:\tlearn: 0.4664512\ttotal: 14.7s\tremaining: 29.8s\n",
            "330:\tlearn: 0.4664029\ttotal: 14.7s\tremaining: 29.7s\n",
            "331:\tlearn: 0.4663575\ttotal: 14.8s\tremaining: 29.7s\n",
            "332:\tlearn: 0.4663488\ttotal: 14.8s\tremaining: 29.6s\n",
            "333:\tlearn: 0.4663087\ttotal: 14.8s\tremaining: 29.6s\n",
            "334:\tlearn: 0.4662775\ttotal: 14.9s\tremaining: 29.5s\n",
            "335:\tlearn: 0.4662385\ttotal: 14.9s\tremaining: 29.5s\n",
            "336:\tlearn: 0.4661671\ttotal: 15s\tremaining: 29.5s\n",
            "337:\tlearn: 0.4661174\ttotal: 15s\tremaining: 29.4s\n",
            "338:\tlearn: 0.4660688\ttotal: 15.1s\tremaining: 29.4s\n",
            "339:\tlearn: 0.4660229\ttotal: 15.1s\tremaining: 29.3s\n",
            "340:\tlearn: 0.4659297\ttotal: 15.1s\tremaining: 29.3s\n",
            "341:\tlearn: 0.4658694\ttotal: 15.2s\tremaining: 29.2s\n",
            "342:\tlearn: 0.4658316\ttotal: 15.2s\tremaining: 29.2s\n",
            "343:\tlearn: 0.4657852\ttotal: 15.3s\tremaining: 29.1s\n",
            "344:\tlearn: 0.4657321\ttotal: 15.3s\tremaining: 29.1s\n",
            "345:\tlearn: 0.4657160\ttotal: 15.4s\tremaining: 29.1s\n",
            "346:\tlearn: 0.4656886\ttotal: 15.4s\tremaining: 29s\n",
            "347:\tlearn: 0.4656463\ttotal: 15.5s\tremaining: 29s\n",
            "348:\tlearn: 0.4656020\ttotal: 15.5s\tremaining: 28.9s\n",
            "349:\tlearn: 0.4655641\ttotal: 15.6s\tremaining: 28.9s\n",
            "350:\tlearn: 0.4655178\ttotal: 15.6s\tremaining: 28.8s\n",
            "351:\tlearn: 0.4654682\ttotal: 15.6s\tremaining: 28.8s\n",
            "352:\tlearn: 0.4654524\ttotal: 15.7s\tremaining: 28.7s\n",
            "353:\tlearn: 0.4654039\ttotal: 15.7s\tremaining: 28.7s\n",
            "354:\tlearn: 0.4653495\ttotal: 15.8s\tremaining: 28.7s\n",
            "355:\tlearn: 0.4653139\ttotal: 15.8s\tremaining: 28.6s\n",
            "356:\tlearn: 0.4652440\ttotal: 15.9s\tremaining: 28.6s\n",
            "357:\tlearn: 0.4652146\ttotal: 15.9s\tremaining: 28.5s\n",
            "358:\tlearn: 0.4652025\ttotal: 15.9s\tremaining: 28.5s\n",
            "359:\tlearn: 0.4651670\ttotal: 16s\tremaining: 28.4s\n",
            "360:\tlearn: 0.4650934\ttotal: 16s\tremaining: 28.4s\n",
            "361:\tlearn: 0.4650158\ttotal: 16.1s\tremaining: 28.3s\n",
            "362:\tlearn: 0.4649713\ttotal: 16.1s\tremaining: 28.3s\n",
            "363:\tlearn: 0.4649094\ttotal: 16.2s\tremaining: 28.2s\n",
            "364:\tlearn: 0.4648485\ttotal: 16.2s\tremaining: 28.2s\n",
            "365:\tlearn: 0.4647954\ttotal: 16.3s\tremaining: 28.2s\n",
            "366:\tlearn: 0.4647563\ttotal: 16.3s\tremaining: 28.1s\n",
            "367:\tlearn: 0.4647199\ttotal: 16.3s\tremaining: 28.1s\n",
            "368:\tlearn: 0.4646838\ttotal: 16.4s\tremaining: 28s\n",
            "369:\tlearn: 0.4646519\ttotal: 16.4s\tremaining: 28s\n",
            "370:\tlearn: 0.4645921\ttotal: 16.5s\tremaining: 27.9s\n",
            "371:\tlearn: 0.4645695\ttotal: 16.5s\tremaining: 27.9s\n",
            "372:\tlearn: 0.4645499\ttotal: 16.6s\tremaining: 27.8s\n",
            "373:\tlearn: 0.4645137\ttotal: 16.6s\tremaining: 27.8s\n",
            "374:\tlearn: 0.4644191\ttotal: 16.7s\tremaining: 27.8s\n",
            "375:\tlearn: 0.4643748\ttotal: 16.7s\tremaining: 27.7s\n",
            "376:\tlearn: 0.4643391\ttotal: 16.7s\tremaining: 27.7s\n",
            "377:\tlearn: 0.4643038\ttotal: 16.8s\tremaining: 27.6s\n",
            "378:\tlearn: 0.4642499\ttotal: 16.8s\tremaining: 27.6s\n",
            "379:\tlearn: 0.4642166\ttotal: 16.9s\tremaining: 27.5s\n",
            "380:\tlearn: 0.4641609\ttotal: 16.9s\tremaining: 27.5s\n",
            "381:\tlearn: 0.4641566\ttotal: 17s\tremaining: 27.4s\n",
            "382:\tlearn: 0.4641390\ttotal: 17s\tremaining: 27.4s\n",
            "383:\tlearn: 0.4640866\ttotal: 17s\tremaining: 27.3s\n",
            "384:\tlearn: 0.4640338\ttotal: 17.1s\tremaining: 27.3s\n",
            "385:\tlearn: 0.4639831\ttotal: 17.1s\tremaining: 27.2s\n",
            "386:\tlearn: 0.4639549\ttotal: 17.2s\tremaining: 27.2s\n",
            "387:\tlearn: 0.4638682\ttotal: 17.2s\tremaining: 27.1s\n",
            "388:\tlearn: 0.4638401\ttotal: 17.3s\tremaining: 27.1s\n",
            "389:\tlearn: 0.4637310\ttotal: 17.3s\tremaining: 27.1s\n",
            "390:\tlearn: 0.4636939\ttotal: 17.4s\tremaining: 27s\n",
            "391:\tlearn: 0.4636544\ttotal: 17.4s\tremaining: 27s\n",
            "392:\tlearn: 0.4636040\ttotal: 17.4s\tremaining: 26.9s\n",
            "393:\tlearn: 0.4635393\ttotal: 17.5s\tremaining: 26.9s\n",
            "394:\tlearn: 0.4635038\ttotal: 17.5s\tremaining: 26.8s\n",
            "395:\tlearn: 0.4634569\ttotal: 17.6s\tremaining: 26.8s\n",
            "396:\tlearn: 0.4634282\ttotal: 17.6s\tremaining: 26.8s\n",
            "397:\tlearn: 0.4633579\ttotal: 17.7s\tremaining: 26.7s\n",
            "398:\tlearn: 0.4633339\ttotal: 17.7s\tremaining: 26.7s\n",
            "399:\tlearn: 0.4632957\ttotal: 17.8s\tremaining: 26.6s\n",
            "400:\tlearn: 0.4632740\ttotal: 17.8s\tremaining: 26.6s\n",
            "401:\tlearn: 0.4632440\ttotal: 17.9s\tremaining: 26.6s\n",
            "402:\tlearn: 0.4631763\ttotal: 17.9s\tremaining: 26.5s\n",
            "403:\tlearn: 0.4631316\ttotal: 17.9s\tremaining: 26.5s\n",
            "404:\tlearn: 0.4630827\ttotal: 18s\tremaining: 26.4s\n",
            "405:\tlearn: 0.4630564\ttotal: 18s\tremaining: 26.4s\n",
            "406:\tlearn: 0.4630017\ttotal: 18.1s\tremaining: 26.3s\n",
            "407:\tlearn: 0.4629526\ttotal: 18.1s\tremaining: 26.3s\n",
            "408:\tlearn: 0.4629162\ttotal: 18.2s\tremaining: 26.2s\n",
            "409:\tlearn: 0.4628884\ttotal: 18.2s\tremaining: 26.2s\n",
            "410:\tlearn: 0.4628626\ttotal: 18.2s\tremaining: 26.2s\n",
            "411:\tlearn: 0.4628141\ttotal: 18.3s\tremaining: 26.1s\n",
            "412:\tlearn: 0.4627489\ttotal: 18.4s\tremaining: 26.1s\n",
            "413:\tlearn: 0.4627025\ttotal: 18.4s\tremaining: 26s\n",
            "414:\tlearn: 0.4626679\ttotal: 18.4s\tremaining: 26s\n",
            "415:\tlearn: 0.4626280\ttotal: 18.5s\tremaining: 26s\n",
            "416:\tlearn: 0.4626048\ttotal: 18.5s\tremaining: 25.9s\n",
            "417:\tlearn: 0.4625838\ttotal: 18.6s\tremaining: 25.9s\n",
            "418:\tlearn: 0.4625561\ttotal: 18.6s\tremaining: 25.8s\n",
            "419:\tlearn: 0.4625108\ttotal: 18.7s\tremaining: 25.8s\n",
            "420:\tlearn: 0.4624747\ttotal: 18.7s\tremaining: 25.7s\n",
            "421:\tlearn: 0.4624488\ttotal: 18.8s\tremaining: 25.7s\n",
            "422:\tlearn: 0.4624183\ttotal: 18.8s\tremaining: 25.7s\n",
            "423:\tlearn: 0.4623552\ttotal: 18.9s\tremaining: 25.6s\n",
            "424:\tlearn: 0.4623275\ttotal: 18.9s\tremaining: 25.6s\n",
            "425:\tlearn: 0.4622775\ttotal: 18.9s\tremaining: 25.5s\n",
            "426:\tlearn: 0.4622684\ttotal: 19s\tremaining: 25.5s\n",
            "427:\tlearn: 0.4622093\ttotal: 19s\tremaining: 25.4s\n",
            "428:\tlearn: 0.4621773\ttotal: 19.1s\tremaining: 25.4s\n",
            "429:\tlearn: 0.4621559\ttotal: 19.1s\tremaining: 25.3s\n",
            "430:\tlearn: 0.4620920\ttotal: 19.2s\tremaining: 25.3s\n",
            "431:\tlearn: 0.4620502\ttotal: 19.2s\tremaining: 25.3s\n",
            "432:\tlearn: 0.4619668\ttotal: 19.3s\tremaining: 25.2s\n",
            "433:\tlearn: 0.4619269\ttotal: 19.3s\tremaining: 25.2s\n",
            "434:\tlearn: 0.4618890\ttotal: 19.4s\tremaining: 25.2s\n",
            "435:\tlearn: 0.4618495\ttotal: 19.4s\tremaining: 25.1s\n",
            "436:\tlearn: 0.4617674\ttotal: 19.5s\tremaining: 25.1s\n",
            "437:\tlearn: 0.4617280\ttotal: 19.5s\tremaining: 25s\n",
            "438:\tlearn: 0.4617081\ttotal: 19.6s\tremaining: 25s\n",
            "439:\tlearn: 0.4616651\ttotal: 19.6s\tremaining: 24.9s\n",
            "440:\tlearn: 0.4616570\ttotal: 19.6s\tremaining: 24.9s\n",
            "441:\tlearn: 0.4616355\ttotal: 19.7s\tremaining: 24.9s\n",
            "442:\tlearn: 0.4616233\ttotal: 19.7s\tremaining: 24.8s\n",
            "443:\tlearn: 0.4615749\ttotal: 19.8s\tremaining: 24.8s\n",
            "444:\tlearn: 0.4615340\ttotal: 19.8s\tremaining: 24.7s\n",
            "445:\tlearn: 0.4614965\ttotal: 19.9s\tremaining: 24.7s\n",
            "446:\tlearn: 0.4614714\ttotal: 19.9s\tremaining: 24.6s\n",
            "447:\tlearn: 0.4614250\ttotal: 20s\tremaining: 24.6s\n",
            "448:\tlearn: 0.4613739\ttotal: 20s\tremaining: 24.6s\n",
            "449:\tlearn: 0.4613291\ttotal: 20.1s\tremaining: 24.5s\n",
            "450:\tlearn: 0.4613051\ttotal: 20.1s\tremaining: 24.5s\n",
            "451:\tlearn: 0.4612836\ttotal: 20.1s\tremaining: 24.4s\n",
            "452:\tlearn: 0.4612679\ttotal: 20.2s\tremaining: 24.4s\n",
            "453:\tlearn: 0.4611965\ttotal: 20.2s\tremaining: 24.3s\n",
            "454:\tlearn: 0.4611611\ttotal: 20.3s\tremaining: 24.3s\n",
            "455:\tlearn: 0.4611327\ttotal: 20.3s\tremaining: 24.3s\n",
            "456:\tlearn: 0.4611171\ttotal: 20.4s\tremaining: 24.2s\n",
            "457:\tlearn: 0.4610858\ttotal: 20.4s\tremaining: 24.2s\n",
            "458:\tlearn: 0.4610401\ttotal: 20.5s\tremaining: 24.1s\n",
            "459:\tlearn: 0.4610147\ttotal: 20.5s\tremaining: 24.1s\n",
            "460:\tlearn: 0.4610037\ttotal: 20.6s\tremaining: 24s\n",
            "461:\tlearn: 0.4609546\ttotal: 20.6s\tremaining: 24s\n",
            "462:\tlearn: 0.4608943\ttotal: 20.7s\tremaining: 24s\n",
            "463:\tlearn: 0.4608664\ttotal: 20.7s\tremaining: 23.9s\n",
            "464:\tlearn: 0.4608440\ttotal: 20.7s\tremaining: 23.9s\n",
            "465:\tlearn: 0.4608047\ttotal: 20.8s\tremaining: 23.8s\n",
            "466:\tlearn: 0.4607713\ttotal: 20.8s\tremaining: 23.8s\n",
            "467:\tlearn: 0.4607281\ttotal: 20.9s\tremaining: 23.7s\n",
            "468:\tlearn: 0.4607068\ttotal: 20.9s\tremaining: 23.7s\n",
            "469:\tlearn: 0.4606767\ttotal: 21s\tremaining: 23.6s\n",
            "470:\tlearn: 0.4606465\ttotal: 21s\tremaining: 23.6s\n",
            "471:\tlearn: 0.4606238\ttotal: 21s\tremaining: 23.5s\n",
            "472:\tlearn: 0.4605968\ttotal: 21.1s\tremaining: 23.5s\n",
            "473:\tlearn: 0.4605684\ttotal: 21.1s\tremaining: 23.5s\n",
            "474:\tlearn: 0.4604894\ttotal: 21.2s\tremaining: 23.4s\n",
            "475:\tlearn: 0.4604721\ttotal: 21.2s\tremaining: 23.4s\n",
            "476:\tlearn: 0.4604411\ttotal: 21.3s\tremaining: 23.3s\n",
            "477:\tlearn: 0.4603739\ttotal: 21.3s\tremaining: 23.3s\n",
            "478:\tlearn: 0.4603336\ttotal: 21.4s\tremaining: 23.2s\n",
            "479:\tlearn: 0.4603115\ttotal: 21.4s\tremaining: 23.2s\n",
            "480:\tlearn: 0.4602428\ttotal: 21.5s\tremaining: 23.2s\n",
            "481:\tlearn: 0.4601970\ttotal: 21.5s\tremaining: 23.1s\n",
            "482:\tlearn: 0.4601803\ttotal: 21.5s\tremaining: 23.1s\n",
            "483:\tlearn: 0.4601400\ttotal: 21.6s\tremaining: 23s\n",
            "484:\tlearn: 0.4601061\ttotal: 21.6s\tremaining: 23s\n",
            "485:\tlearn: 0.4600586\ttotal: 21.7s\tremaining: 22.9s\n",
            "486:\tlearn: 0.4600442\ttotal: 21.7s\tremaining: 22.9s\n",
            "487:\tlearn: 0.4600226\ttotal: 21.7s\tremaining: 22.8s\n",
            "488:\tlearn: 0.4599610\ttotal: 21.8s\tremaining: 22.8s\n",
            "489:\tlearn: 0.4599357\ttotal: 21.8s\tremaining: 22.7s\n",
            "490:\tlearn: 0.4599164\ttotal: 21.9s\tremaining: 22.7s\n",
            "491:\tlearn: 0.4598691\ttotal: 21.9s\tremaining: 22.6s\n",
            "492:\tlearn: 0.4598390\ttotal: 22s\tremaining: 22.6s\n",
            "493:\tlearn: 0.4598156\ttotal: 22s\tremaining: 22.6s\n",
            "494:\tlearn: 0.4597742\ttotal: 22.1s\tremaining: 22.5s\n",
            "495:\tlearn: 0.4597221\ttotal: 22.1s\tremaining: 22.5s\n",
            "496:\tlearn: 0.4596975\ttotal: 22.1s\tremaining: 22.4s\n",
            "497:\tlearn: 0.4596651\ttotal: 22.2s\tremaining: 22.4s\n",
            "498:\tlearn: 0.4596364\ttotal: 22.2s\tremaining: 22.3s\n",
            "499:\tlearn: 0.4596161\ttotal: 22.3s\tremaining: 22.3s\n",
            "500:\tlearn: 0.4595793\ttotal: 22.3s\tremaining: 22.2s\n",
            "501:\tlearn: 0.4595178\ttotal: 22.4s\tremaining: 22.2s\n",
            "502:\tlearn: 0.4595057\ttotal: 22.4s\tremaining: 22.2s\n",
            "503:\tlearn: 0.4594781\ttotal: 22.5s\tremaining: 22.1s\n",
            "504:\tlearn: 0.4594690\ttotal: 22.5s\tremaining: 22.1s\n",
            "505:\tlearn: 0.4594543\ttotal: 22.6s\tremaining: 22s\n",
            "506:\tlearn: 0.4594446\ttotal: 22.6s\tremaining: 22s\n",
            "507:\tlearn: 0.4594049\ttotal: 22.6s\tremaining: 21.9s\n",
            "508:\tlearn: 0.4593914\ttotal: 22.7s\tremaining: 21.9s\n",
            "509:\tlearn: 0.4593786\ttotal: 22.7s\tremaining: 21.8s\n",
            "510:\tlearn: 0.4593599\ttotal: 22.8s\tremaining: 21.8s\n",
            "511:\tlearn: 0.4593382\ttotal: 22.8s\tremaining: 21.7s\n",
            "512:\tlearn: 0.4593136\ttotal: 22.9s\tremaining: 21.7s\n",
            "513:\tlearn: 0.4592591\ttotal: 22.9s\tremaining: 21.7s\n",
            "514:\tlearn: 0.4592248\ttotal: 22.9s\tremaining: 21.6s\n",
            "515:\tlearn: 0.4592005\ttotal: 23s\tremaining: 21.6s\n",
            "516:\tlearn: 0.4591673\ttotal: 23s\tremaining: 21.5s\n",
            "517:\tlearn: 0.4591171\ttotal: 23.1s\tremaining: 21.5s\n",
            "518:\tlearn: 0.4591027\ttotal: 23.1s\tremaining: 21.4s\n",
            "519:\tlearn: 0.4590560\ttotal: 23.2s\tremaining: 21.4s\n",
            "520:\tlearn: 0.4590170\ttotal: 23.2s\tremaining: 21.3s\n",
            "521:\tlearn: 0.4590060\ttotal: 23.3s\tremaining: 21.3s\n",
            "522:\tlearn: 0.4589602\ttotal: 23.3s\tremaining: 21.3s\n",
            "523:\tlearn: 0.4589306\ttotal: 23.3s\tremaining: 21.2s\n",
            "524:\tlearn: 0.4588853\ttotal: 23.4s\tremaining: 21.2s\n",
            "525:\tlearn: 0.4588698\ttotal: 23.5s\tremaining: 21.1s\n",
            "526:\tlearn: 0.4588400\ttotal: 23.5s\tremaining: 21.1s\n",
            "527:\tlearn: 0.4588039\ttotal: 23.5s\tremaining: 21s\n",
            "528:\tlearn: 0.4587776\ttotal: 23.6s\tremaining: 21s\n",
            "529:\tlearn: 0.4587551\ttotal: 23.6s\tremaining: 20.9s\n",
            "530:\tlearn: 0.4587234\ttotal: 23.7s\tremaining: 20.9s\n",
            "531:\tlearn: 0.4586643\ttotal: 23.7s\tremaining: 20.9s\n",
            "532:\tlearn: 0.4585998\ttotal: 23.8s\tremaining: 20.8s\n",
            "533:\tlearn: 0.4585510\ttotal: 23.8s\tremaining: 20.8s\n",
            "534:\tlearn: 0.4585053\ttotal: 23.8s\tremaining: 20.7s\n",
            "535:\tlearn: 0.4584866\ttotal: 23.9s\tremaining: 20.7s\n",
            "536:\tlearn: 0.4584695\ttotal: 23.9s\tremaining: 20.6s\n",
            "537:\tlearn: 0.4584567\ttotal: 24s\tremaining: 20.6s\n",
            "538:\tlearn: 0.4584195\ttotal: 24s\tremaining: 20.5s\n",
            "539:\tlearn: 0.4583738\ttotal: 24s\tremaining: 20.5s\n",
            "540:\tlearn: 0.4583631\ttotal: 24.1s\tremaining: 20.4s\n",
            "541:\tlearn: 0.4583340\ttotal: 24.1s\tremaining: 20.4s\n",
            "542:\tlearn: 0.4583107\ttotal: 24.2s\tremaining: 20.4s\n",
            "543:\tlearn: 0.4582969\ttotal: 24.2s\tremaining: 20.3s\n",
            "544:\tlearn: 0.4582634\ttotal: 24.3s\tremaining: 20.3s\n",
            "545:\tlearn: 0.4582212\ttotal: 24.3s\tremaining: 20.2s\n",
            "546:\tlearn: 0.4582112\ttotal: 24.4s\tremaining: 20.2s\n",
            "547:\tlearn: 0.4581952\ttotal: 24.4s\tremaining: 20.1s\n",
            "548:\tlearn: 0.4581818\ttotal: 24.4s\tremaining: 20.1s\n",
            "549:\tlearn: 0.4581525\ttotal: 24.5s\tremaining: 20s\n",
            "550:\tlearn: 0.4581014\ttotal: 24.5s\tremaining: 20s\n",
            "551:\tlearn: 0.4580791\ttotal: 24.6s\tremaining: 20s\n",
            "552:\tlearn: 0.4580156\ttotal: 24.6s\tremaining: 19.9s\n",
            "553:\tlearn: 0.4579896\ttotal: 24.7s\tremaining: 19.9s\n",
            "554:\tlearn: 0.4579390\ttotal: 24.7s\tremaining: 19.8s\n",
            "555:\tlearn: 0.4579100\ttotal: 24.8s\tremaining: 19.8s\n",
            "556:\tlearn: 0.4578819\ttotal: 24.8s\tremaining: 19.7s\n",
            "557:\tlearn: 0.4578415\ttotal: 24.9s\tremaining: 19.7s\n",
            "558:\tlearn: 0.4578289\ttotal: 24.9s\tremaining: 19.7s\n",
            "559:\tlearn: 0.4578131\ttotal: 25s\tremaining: 19.6s\n",
            "560:\tlearn: 0.4577739\ttotal: 25s\tremaining: 19.6s\n",
            "561:\tlearn: 0.4577469\ttotal: 25s\tremaining: 19.5s\n",
            "562:\tlearn: 0.4577251\ttotal: 25.1s\tremaining: 19.5s\n",
            "563:\tlearn: 0.4577044\ttotal: 25.1s\tremaining: 19.4s\n",
            "564:\tlearn: 0.4576831\ttotal: 25.2s\tremaining: 19.4s\n",
            "565:\tlearn: 0.4576632\ttotal: 25.2s\tremaining: 19.3s\n",
            "566:\tlearn: 0.4576311\ttotal: 25.3s\tremaining: 19.3s\n",
            "567:\tlearn: 0.4576211\ttotal: 25.3s\tremaining: 19.2s\n",
            "568:\tlearn: 0.4575986\ttotal: 25.4s\tremaining: 19.2s\n",
            "569:\tlearn: 0.4575744\ttotal: 25.4s\tremaining: 19.2s\n",
            "570:\tlearn: 0.4575248\ttotal: 25.5s\tremaining: 19.1s\n",
            "571:\tlearn: 0.4574960\ttotal: 25.5s\tremaining: 19.1s\n",
            "572:\tlearn: 0.4574693\ttotal: 25.5s\tremaining: 19s\n",
            "573:\tlearn: 0.4574525\ttotal: 25.6s\tremaining: 19s\n",
            "574:\tlearn: 0.4574355\ttotal: 25.6s\tremaining: 18.9s\n",
            "575:\tlearn: 0.4574119\ttotal: 25.7s\tremaining: 18.9s\n",
            "576:\tlearn: 0.4573849\ttotal: 25.7s\tremaining: 18.9s\n",
            "577:\tlearn: 0.4573389\ttotal: 25.8s\tremaining: 18.8s\n",
            "578:\tlearn: 0.4572968\ttotal: 25.8s\tremaining: 18.8s\n",
            "579:\tlearn: 0.4572666\ttotal: 25.9s\tremaining: 18.7s\n",
            "580:\tlearn: 0.4572219\ttotal: 25.9s\tremaining: 18.7s\n",
            "581:\tlearn: 0.4572021\ttotal: 25.9s\tremaining: 18.6s\n",
            "582:\tlearn: 0.4571808\ttotal: 26s\tremaining: 18.6s\n",
            "583:\tlearn: 0.4571493\ttotal: 26s\tremaining: 18.5s\n",
            "584:\tlearn: 0.4571059\ttotal: 26.1s\tremaining: 18.5s\n",
            "585:\tlearn: 0.4570696\ttotal: 26.1s\tremaining: 18.4s\n",
            "586:\tlearn: 0.4570464\ttotal: 26.2s\tremaining: 18.4s\n",
            "587:\tlearn: 0.4570188\ttotal: 26.2s\tremaining: 18.4s\n",
            "588:\tlearn: 0.4570031\ttotal: 26.2s\tremaining: 18.3s\n",
            "589:\tlearn: 0.4569532\ttotal: 26.3s\tremaining: 18.3s\n",
            "590:\tlearn: 0.4569352\ttotal: 26.3s\tremaining: 18.2s\n",
            "591:\tlearn: 0.4569048\ttotal: 26.4s\tremaining: 18.2s\n",
            "592:\tlearn: 0.4568627\ttotal: 26.4s\tremaining: 18.1s\n",
            "593:\tlearn: 0.4568440\ttotal: 26.5s\tremaining: 18.1s\n",
            "594:\tlearn: 0.4568084\ttotal: 26.5s\tremaining: 18.1s\n",
            "595:\tlearn: 0.4567784\ttotal: 26.6s\tremaining: 18s\n",
            "596:\tlearn: 0.4567340\ttotal: 26.6s\tremaining: 18s\n",
            "597:\tlearn: 0.4567007\ttotal: 26.7s\tremaining: 17.9s\n",
            "598:\tlearn: 0.4566828\ttotal: 26.7s\tremaining: 17.9s\n",
            "599:\tlearn: 0.4566513\ttotal: 26.8s\tremaining: 17.8s\n",
            "600:\tlearn: 0.4566305\ttotal: 26.8s\tremaining: 17.8s\n",
            "601:\tlearn: 0.4565991\ttotal: 26.8s\tremaining: 17.7s\n",
            "602:\tlearn: 0.4565495\ttotal: 26.9s\tremaining: 17.7s\n",
            "603:\tlearn: 0.4564971\ttotal: 26.9s\tremaining: 17.7s\n",
            "604:\tlearn: 0.4564568\ttotal: 27s\tremaining: 17.6s\n",
            "605:\tlearn: 0.4564335\ttotal: 27s\tremaining: 17.6s\n",
            "606:\tlearn: 0.4563825\ttotal: 27.1s\tremaining: 17.5s\n",
            "607:\tlearn: 0.4563540\ttotal: 27.1s\tremaining: 17.5s\n",
            "608:\tlearn: 0.4563067\ttotal: 27.2s\tremaining: 17.4s\n",
            "609:\tlearn: 0.4562642\ttotal: 27.2s\tremaining: 17.4s\n",
            "610:\tlearn: 0.4562334\ttotal: 27.3s\tremaining: 17.4s\n",
            "611:\tlearn: 0.4562027\ttotal: 27.3s\tremaining: 17.3s\n",
            "612:\tlearn: 0.4561701\ttotal: 27.4s\tremaining: 17.3s\n",
            "613:\tlearn: 0.4561325\ttotal: 27.4s\tremaining: 17.2s\n",
            "614:\tlearn: 0.4560964\ttotal: 27.4s\tremaining: 17.2s\n",
            "615:\tlearn: 0.4560814\ttotal: 27.5s\tremaining: 17.1s\n",
            "616:\tlearn: 0.4560579\ttotal: 27.6s\tremaining: 17.1s\n",
            "617:\tlearn: 0.4560312\ttotal: 27.6s\tremaining: 17.1s\n",
            "618:\tlearn: 0.4560210\ttotal: 27.6s\tremaining: 17s\n",
            "619:\tlearn: 0.4560047\ttotal: 27.7s\tremaining: 17s\n",
            "620:\tlearn: 0.4559516\ttotal: 27.7s\tremaining: 16.9s\n",
            "621:\tlearn: 0.4558960\ttotal: 27.8s\tremaining: 16.9s\n",
            "622:\tlearn: 0.4558593\ttotal: 27.8s\tremaining: 16.8s\n",
            "623:\tlearn: 0.4558160\ttotal: 27.9s\tremaining: 16.8s\n",
            "624:\tlearn: 0.4557985\ttotal: 27.9s\tremaining: 16.8s\n",
            "625:\tlearn: 0.4557786\ttotal: 28s\tremaining: 16.7s\n",
            "626:\tlearn: 0.4557434\ttotal: 28s\tremaining: 16.7s\n",
            "627:\tlearn: 0.4557054\ttotal: 28.1s\tremaining: 16.6s\n",
            "628:\tlearn: 0.4556625\ttotal: 28.1s\tremaining: 16.6s\n",
            "629:\tlearn: 0.4556236\ttotal: 28.2s\tremaining: 16.5s\n",
            "630:\tlearn: 0.4556031\ttotal: 28.2s\tremaining: 16.5s\n",
            "631:\tlearn: 0.4555443\ttotal: 28.3s\tremaining: 16.5s\n",
            "632:\tlearn: 0.4555215\ttotal: 28.3s\tremaining: 16.4s\n",
            "633:\tlearn: 0.4554988\ttotal: 28.4s\tremaining: 16.4s\n",
            "634:\tlearn: 0.4554666\ttotal: 28.4s\tremaining: 16.3s\n",
            "635:\tlearn: 0.4554466\ttotal: 28.5s\tremaining: 16.3s\n",
            "636:\tlearn: 0.4554068\ttotal: 28.5s\tremaining: 16.3s\n",
            "637:\tlearn: 0.4553994\ttotal: 28.6s\tremaining: 16.2s\n",
            "638:\tlearn: 0.4553879\ttotal: 28.6s\tremaining: 16.2s\n",
            "639:\tlearn: 0.4553665\ttotal: 28.7s\tremaining: 16.1s\n",
            "640:\tlearn: 0.4553501\ttotal: 28.7s\tremaining: 16.1s\n",
            "641:\tlearn: 0.4553277\ttotal: 28.7s\tremaining: 16s\n",
            "642:\tlearn: 0.4553164\ttotal: 28.8s\tremaining: 16s\n",
            "643:\tlearn: 0.4553011\ttotal: 28.8s\tremaining: 15.9s\n",
            "644:\tlearn: 0.4552785\ttotal: 28.9s\tremaining: 15.9s\n",
            "645:\tlearn: 0.4552390\ttotal: 28.9s\tremaining: 15.8s\n",
            "646:\tlearn: 0.4552252\ttotal: 29s\tremaining: 15.8s\n",
            "647:\tlearn: 0.4552124\ttotal: 29s\tremaining: 15.7s\n",
            "648:\tlearn: 0.4551934\ttotal: 29s\tremaining: 15.7s\n",
            "649:\tlearn: 0.4551804\ttotal: 29.1s\tremaining: 15.7s\n",
            "650:\tlearn: 0.4551306\ttotal: 29.1s\tremaining: 15.6s\n",
            "651:\tlearn: 0.4550906\ttotal: 29.2s\tremaining: 15.6s\n",
            "652:\tlearn: 0.4550596\ttotal: 29.2s\tremaining: 15.5s\n",
            "653:\tlearn: 0.4550427\ttotal: 29.3s\tremaining: 15.5s\n",
            "654:\tlearn: 0.4550068\ttotal: 29.3s\tremaining: 15.4s\n",
            "655:\tlearn: 0.4549672\ttotal: 29.4s\tremaining: 15.4s\n",
            "656:\tlearn: 0.4549362\ttotal: 29.4s\tremaining: 15.4s\n",
            "657:\tlearn: 0.4549206\ttotal: 29.5s\tremaining: 15.3s\n",
            "658:\tlearn: 0.4549071\ttotal: 29.5s\tremaining: 15.3s\n",
            "659:\tlearn: 0.4548903\ttotal: 29.5s\tremaining: 15.2s\n",
            "660:\tlearn: 0.4548725\ttotal: 29.6s\tremaining: 15.2s\n",
            "661:\tlearn: 0.4548690\ttotal: 29.6s\tremaining: 15.1s\n",
            "662:\tlearn: 0.4548281\ttotal: 29.7s\tremaining: 15.1s\n",
            "663:\tlearn: 0.4548195\ttotal: 29.7s\tremaining: 15s\n",
            "664:\tlearn: 0.4547906\ttotal: 29.8s\tremaining: 15s\n",
            "665:\tlearn: 0.4547759\ttotal: 29.8s\tremaining: 15s\n",
            "666:\tlearn: 0.4547578\ttotal: 29.9s\tremaining: 14.9s\n",
            "667:\tlearn: 0.4547310\ttotal: 29.9s\tremaining: 14.9s\n",
            "668:\tlearn: 0.4546989\ttotal: 29.9s\tremaining: 14.8s\n",
            "669:\tlearn: 0.4546700\ttotal: 30s\tremaining: 14.8s\n",
            "670:\tlearn: 0.4546475\ttotal: 30s\tremaining: 14.7s\n",
            "671:\tlearn: 0.4546327\ttotal: 30.1s\tremaining: 14.7s\n",
            "672:\tlearn: 0.4546054\ttotal: 30.1s\tremaining: 14.6s\n",
            "673:\tlearn: 0.4545699\ttotal: 30.2s\tremaining: 14.6s\n",
            "674:\tlearn: 0.4545573\ttotal: 30.2s\tremaining: 14.6s\n",
            "675:\tlearn: 0.4545517\ttotal: 30.3s\tremaining: 14.5s\n",
            "676:\tlearn: 0.4545317\ttotal: 30.3s\tremaining: 14.5s\n",
            "677:\tlearn: 0.4545171\ttotal: 30.4s\tremaining: 14.4s\n",
            "678:\tlearn: 0.4544888\ttotal: 30.4s\tremaining: 14.4s\n",
            "679:\tlearn: 0.4544617\ttotal: 30.5s\tremaining: 14.3s\n",
            "680:\tlearn: 0.4544375\ttotal: 30.5s\tremaining: 14.3s\n",
            "681:\tlearn: 0.4544212\ttotal: 30.5s\tremaining: 14.2s\n",
            "682:\tlearn: 0.4543928\ttotal: 30.6s\tremaining: 14.2s\n",
            "683:\tlearn: 0.4543485\ttotal: 30.6s\tremaining: 14.2s\n",
            "684:\tlearn: 0.4543306\ttotal: 30.7s\tremaining: 14.1s\n",
            "685:\tlearn: 0.4543221\ttotal: 30.7s\tremaining: 14.1s\n",
            "686:\tlearn: 0.4543031\ttotal: 30.8s\tremaining: 14s\n",
            "687:\tlearn: 0.4542772\ttotal: 30.8s\tremaining: 14s\n",
            "688:\tlearn: 0.4542626\ttotal: 30.9s\tremaining: 13.9s\n",
            "689:\tlearn: 0.4542307\ttotal: 30.9s\tremaining: 13.9s\n",
            "690:\tlearn: 0.4541984\ttotal: 31s\tremaining: 13.8s\n",
            "691:\tlearn: 0.4541835\ttotal: 31s\tremaining: 13.8s\n",
            "692:\tlearn: 0.4541577\ttotal: 31s\tremaining: 13.8s\n",
            "693:\tlearn: 0.4541451\ttotal: 31.1s\tremaining: 13.7s\n",
            "694:\tlearn: 0.4541110\ttotal: 31.1s\tremaining: 13.7s\n",
            "695:\tlearn: 0.4540710\ttotal: 31.2s\tremaining: 13.6s\n",
            "696:\tlearn: 0.4540599\ttotal: 31.2s\tremaining: 13.6s\n",
            "697:\tlearn: 0.4540520\ttotal: 31.3s\tremaining: 13.5s\n",
            "698:\tlearn: 0.4540216\ttotal: 31.3s\tremaining: 13.5s\n",
            "699:\tlearn: 0.4539960\ttotal: 31.4s\tremaining: 13.4s\n",
            "700:\tlearn: 0.4539790\ttotal: 31.4s\tremaining: 13.4s\n",
            "701:\tlearn: 0.4539661\ttotal: 31.4s\tremaining: 13.3s\n",
            "702:\tlearn: 0.4539500\ttotal: 31.5s\tremaining: 13.3s\n",
            "703:\tlearn: 0.4539358\ttotal: 31.5s\tremaining: 13.3s\n",
            "704:\tlearn: 0.4539186\ttotal: 31.6s\tremaining: 13.2s\n",
            "705:\tlearn: 0.4538781\ttotal: 31.6s\tremaining: 13.2s\n",
            "706:\tlearn: 0.4538693\ttotal: 31.7s\tremaining: 13.1s\n",
            "707:\tlearn: 0.4538544\ttotal: 31.7s\tremaining: 13.1s\n",
            "708:\tlearn: 0.4538073\ttotal: 31.8s\tremaining: 13s\n",
            "709:\tlearn: 0.4537884\ttotal: 31.8s\tremaining: 13s\n",
            "710:\tlearn: 0.4537781\ttotal: 31.9s\tremaining: 13s\n",
            "711:\tlearn: 0.4537683\ttotal: 31.9s\tremaining: 12.9s\n",
            "712:\tlearn: 0.4537488\ttotal: 31.9s\tremaining: 12.9s\n",
            "713:\tlearn: 0.4537277\ttotal: 32s\tremaining: 12.8s\n",
            "714:\tlearn: 0.4537128\ttotal: 32s\tremaining: 12.8s\n",
            "715:\tlearn: 0.4536928\ttotal: 32.1s\tremaining: 12.7s\n",
            "716:\tlearn: 0.4536654\ttotal: 32.1s\tremaining: 12.7s\n",
            "717:\tlearn: 0.4536502\ttotal: 32.2s\tremaining: 12.6s\n",
            "718:\tlearn: 0.4536354\ttotal: 32.2s\tremaining: 12.6s\n",
            "719:\tlearn: 0.4536102\ttotal: 32.3s\tremaining: 12.5s\n",
            "720:\tlearn: 0.4535982\ttotal: 32.3s\tremaining: 12.5s\n",
            "721:\tlearn: 0.4535806\ttotal: 32.3s\tremaining: 12.5s\n",
            "722:\tlearn: 0.4535479\ttotal: 32.4s\tremaining: 12.4s\n",
            "723:\tlearn: 0.4535334\ttotal: 32.4s\tremaining: 12.4s\n",
            "724:\tlearn: 0.4535152\ttotal: 32.5s\tremaining: 12.3s\n",
            "725:\tlearn: 0.4534736\ttotal: 32.5s\tremaining: 12.3s\n",
            "726:\tlearn: 0.4534469\ttotal: 32.6s\tremaining: 12.2s\n",
            "727:\tlearn: 0.4534072\ttotal: 32.6s\tremaining: 12.2s\n",
            "728:\tlearn: 0.4533694\ttotal: 32.7s\tremaining: 12.1s\n",
            "729:\tlearn: 0.4533465\ttotal: 32.7s\tremaining: 12.1s\n",
            "730:\tlearn: 0.4533343\ttotal: 32.8s\tremaining: 12.1s\n",
            "731:\tlearn: 0.4533069\ttotal: 32.8s\tremaining: 12s\n",
            "732:\tlearn: 0.4532751\ttotal: 32.9s\tremaining: 12s\n",
            "733:\tlearn: 0.4532494\ttotal: 32.9s\tremaining: 11.9s\n",
            "734:\tlearn: 0.4532128\ttotal: 33s\tremaining: 11.9s\n",
            "735:\tlearn: 0.4532071\ttotal: 33s\tremaining: 11.8s\n",
            "736:\tlearn: 0.4531983\ttotal: 33s\tremaining: 11.8s\n",
            "737:\tlearn: 0.4531830\ttotal: 33.1s\tremaining: 11.7s\n",
            "738:\tlearn: 0.4531445\ttotal: 33.1s\tremaining: 11.7s\n",
            "739:\tlearn: 0.4531301\ttotal: 33.2s\tremaining: 11.7s\n",
            "740:\tlearn: 0.4531063\ttotal: 33.2s\tremaining: 11.6s\n",
            "741:\tlearn: 0.4530792\ttotal: 33.3s\tremaining: 11.6s\n",
            "742:\tlearn: 0.4530543\ttotal: 33.3s\tremaining: 11.5s\n",
            "743:\tlearn: 0.4530330\ttotal: 33.3s\tremaining: 11.5s\n",
            "744:\tlearn: 0.4530093\ttotal: 33.4s\tremaining: 11.4s\n",
            "745:\tlearn: 0.4530013\ttotal: 33.4s\tremaining: 11.4s\n",
            "746:\tlearn: 0.4529858\ttotal: 33.5s\tremaining: 11.3s\n",
            "747:\tlearn: 0.4529683\ttotal: 33.5s\tremaining: 11.3s\n",
            "748:\tlearn: 0.4529396\ttotal: 33.6s\tremaining: 11.2s\n",
            "749:\tlearn: 0.4529214\ttotal: 33.6s\tremaining: 11.2s\n",
            "750:\tlearn: 0.4529092\ttotal: 33.7s\tremaining: 11.2s\n",
            "751:\tlearn: 0.4528902\ttotal: 33.7s\tremaining: 11.1s\n",
            "752:\tlearn: 0.4528785\ttotal: 33.7s\tremaining: 11.1s\n",
            "753:\tlearn: 0.4528548\ttotal: 33.8s\tremaining: 11s\n",
            "754:\tlearn: 0.4528340\ttotal: 33.8s\tremaining: 11s\n",
            "755:\tlearn: 0.4528251\ttotal: 33.9s\tremaining: 10.9s\n",
            "756:\tlearn: 0.4527921\ttotal: 33.9s\tremaining: 10.9s\n",
            "757:\tlearn: 0.4527765\ttotal: 34s\tremaining: 10.8s\n",
            "758:\tlearn: 0.4527453\ttotal: 34s\tremaining: 10.8s\n",
            "759:\tlearn: 0.4527113\ttotal: 34.1s\tremaining: 10.8s\n",
            "760:\tlearn: 0.4526902\ttotal: 34.1s\tremaining: 10.7s\n",
            "761:\tlearn: 0.4526751\ttotal: 34.2s\tremaining: 10.7s\n",
            "762:\tlearn: 0.4526684\ttotal: 34.2s\tremaining: 10.6s\n",
            "763:\tlearn: 0.4526398\ttotal: 34.2s\tremaining: 10.6s\n",
            "764:\tlearn: 0.4526319\ttotal: 34.3s\tremaining: 10.5s\n",
            "765:\tlearn: 0.4525921\ttotal: 34.3s\tremaining: 10.5s\n",
            "766:\tlearn: 0.4525756\ttotal: 34.4s\tremaining: 10.4s\n",
            "767:\tlearn: 0.4525599\ttotal: 34.4s\tremaining: 10.4s\n",
            "768:\tlearn: 0.4525479\ttotal: 34.5s\tremaining: 10.3s\n",
            "769:\tlearn: 0.4525144\ttotal: 34.5s\tremaining: 10.3s\n",
            "770:\tlearn: 0.4525000\ttotal: 34.6s\tremaining: 10.3s\n",
            "771:\tlearn: 0.4524789\ttotal: 34.6s\tremaining: 10.2s\n",
            "772:\tlearn: 0.4524590\ttotal: 34.6s\tremaining: 10.2s\n",
            "773:\tlearn: 0.4524456\ttotal: 34.7s\tremaining: 10.1s\n",
            "774:\tlearn: 0.4524200\ttotal: 34.7s\tremaining: 10.1s\n",
            "775:\tlearn: 0.4523928\ttotal: 34.8s\tremaining: 10s\n",
            "776:\tlearn: 0.4523507\ttotal: 34.8s\tremaining: 10s\n",
            "777:\tlearn: 0.4523380\ttotal: 34.9s\tremaining: 9.95s\n",
            "778:\tlearn: 0.4523235\ttotal: 34.9s\tremaining: 9.91s\n",
            "779:\tlearn: 0.4522989\ttotal: 35s\tremaining: 9.87s\n",
            "780:\tlearn: 0.4522687\ttotal: 35s\tremaining: 9.82s\n",
            "781:\tlearn: 0.4522446\ttotal: 35.1s\tremaining: 9.78s\n",
            "782:\tlearn: 0.4522271\ttotal: 35.1s\tremaining: 9.73s\n",
            "783:\tlearn: 0.4522051\ttotal: 35.2s\tremaining: 9.69s\n",
            "784:\tlearn: 0.4521765\ttotal: 35.2s\tremaining: 9.64s\n",
            "785:\tlearn: 0.4521581\ttotal: 35.3s\tremaining: 9.6s\n",
            "786:\tlearn: 0.4521341\ttotal: 35.3s\tremaining: 9.56s\n",
            "787:\tlearn: 0.4521006\ttotal: 35.4s\tremaining: 9.51s\n",
            "788:\tlearn: 0.4520791\ttotal: 35.4s\tremaining: 9.47s\n",
            "789:\tlearn: 0.4520427\ttotal: 35.5s\tremaining: 9.42s\n",
            "790:\tlearn: 0.4520359\ttotal: 35.5s\tremaining: 9.38s\n",
            "791:\tlearn: 0.4520208\ttotal: 35.5s\tremaining: 9.34s\n",
            "792:\tlearn: 0.4520065\ttotal: 35.6s\tremaining: 9.29s\n",
            "793:\tlearn: 0.4519794\ttotal: 35.6s\tremaining: 9.24s\n",
            "794:\tlearn: 0.4519716\ttotal: 35.7s\tremaining: 9.2s\n",
            "795:\tlearn: 0.4519493\ttotal: 35.7s\tremaining: 9.15s\n",
            "796:\tlearn: 0.4519077\ttotal: 35.8s\tremaining: 9.11s\n",
            "797:\tlearn: 0.4518877\ttotal: 35.8s\tremaining: 9.07s\n",
            "798:\tlearn: 0.4518714\ttotal: 35.9s\tremaining: 9.02s\n",
            "799:\tlearn: 0.4518576\ttotal: 35.9s\tremaining: 8.97s\n",
            "800:\tlearn: 0.4518306\ttotal: 36s\tremaining: 8.93s\n",
            "801:\tlearn: 0.4518214\ttotal: 36s\tremaining: 8.89s\n",
            "802:\tlearn: 0.4518087\ttotal: 36s\tremaining: 8.84s\n",
            "803:\tlearn: 0.4517865\ttotal: 36.1s\tremaining: 8.8s\n",
            "804:\tlearn: 0.4517785\ttotal: 36.1s\tremaining: 8.75s\n",
            "805:\tlearn: 0.4517564\ttotal: 36.2s\tremaining: 8.71s\n",
            "806:\tlearn: 0.4517520\ttotal: 36.2s\tremaining: 8.66s\n",
            "807:\tlearn: 0.4517141\ttotal: 36.3s\tremaining: 8.62s\n",
            "808:\tlearn: 0.4517117\ttotal: 36.3s\tremaining: 8.57s\n",
            "809:\tlearn: 0.4517023\ttotal: 36.3s\tremaining: 8.53s\n",
            "810:\tlearn: 0.4516868\ttotal: 36.4s\tremaining: 8.48s\n",
            "811:\tlearn: 0.4516639\ttotal: 36.4s\tremaining: 8.44s\n",
            "812:\tlearn: 0.4516368\ttotal: 36.5s\tremaining: 8.39s\n",
            "813:\tlearn: 0.4516196\ttotal: 36.5s\tremaining: 8.35s\n",
            "814:\tlearn: 0.4516051\ttotal: 36.6s\tremaining: 8.3s\n",
            "815:\tlearn: 0.4515979\ttotal: 36.6s\tremaining: 8.26s\n",
            "816:\tlearn: 0.4515854\ttotal: 36.7s\tremaining: 8.21s\n",
            "817:\tlearn: 0.4515665\ttotal: 36.7s\tremaining: 8.17s\n",
            "818:\tlearn: 0.4515458\ttotal: 36.8s\tremaining: 8.13s\n",
            "819:\tlearn: 0.4515318\ttotal: 36.8s\tremaining: 8.08s\n",
            "820:\tlearn: 0.4515167\ttotal: 36.9s\tremaining: 8.04s\n",
            "821:\tlearn: 0.4514900\ttotal: 36.9s\tremaining: 7.99s\n",
            "822:\tlearn: 0.4514607\ttotal: 37s\tremaining: 7.95s\n",
            "823:\tlearn: 0.4514273\ttotal: 37s\tremaining: 7.9s\n",
            "824:\tlearn: 0.4514077\ttotal: 37s\tremaining: 7.86s\n",
            "825:\tlearn: 0.4513855\ttotal: 37.1s\tremaining: 7.81s\n",
            "826:\tlearn: 0.4513708\ttotal: 37.1s\tremaining: 7.77s\n",
            "827:\tlearn: 0.4513501\ttotal: 37.2s\tremaining: 7.72s\n",
            "828:\tlearn: 0.4513312\ttotal: 37.2s\tremaining: 7.68s\n",
            "829:\tlearn: 0.4513281\ttotal: 37.3s\tremaining: 7.63s\n",
            "830:\tlearn: 0.4513205\ttotal: 37.3s\tremaining: 7.59s\n",
            "831:\tlearn: 0.4512999\ttotal: 37.3s\tremaining: 7.54s\n",
            "832:\tlearn: 0.4512872\ttotal: 37.4s\tremaining: 7.5s\n",
            "833:\tlearn: 0.4512441\ttotal: 37.4s\tremaining: 7.45s\n",
            "834:\tlearn: 0.4512311\ttotal: 37.5s\tremaining: 7.41s\n",
            "835:\tlearn: 0.4512216\ttotal: 37.5s\tremaining: 7.36s\n",
            "836:\tlearn: 0.4511847\ttotal: 37.6s\tremaining: 7.32s\n",
            "837:\tlearn: 0.4511709\ttotal: 37.6s\tremaining: 7.27s\n",
            "838:\tlearn: 0.4511579\ttotal: 37.7s\tremaining: 7.23s\n",
            "839:\tlearn: 0.4511375\ttotal: 37.7s\tremaining: 7.18s\n",
            "840:\tlearn: 0.4511249\ttotal: 37.7s\tremaining: 7.13s\n",
            "841:\tlearn: 0.4510958\ttotal: 37.8s\tremaining: 7.09s\n",
            "842:\tlearn: 0.4510823\ttotal: 37.8s\tremaining: 7.04s\n",
            "843:\tlearn: 0.4510741\ttotal: 37.9s\tremaining: 7s\n",
            "844:\tlearn: 0.4510498\ttotal: 37.9s\tremaining: 6.95s\n",
            "845:\tlearn: 0.4510403\ttotal: 38s\tremaining: 6.91s\n",
            "846:\tlearn: 0.4510305\ttotal: 38s\tremaining: 6.86s\n",
            "847:\tlearn: 0.4510223\ttotal: 38s\tremaining: 6.82s\n",
            "848:\tlearn: 0.4510057\ttotal: 38.1s\tremaining: 6.77s\n",
            "849:\tlearn: 0.4510013\ttotal: 38.1s\tremaining: 6.73s\n",
            "850:\tlearn: 0.4509966\ttotal: 38.2s\tremaining: 6.68s\n",
            "851:\tlearn: 0.4509791\ttotal: 38.2s\tremaining: 6.64s\n",
            "852:\tlearn: 0.4509530\ttotal: 38.3s\tremaining: 6.59s\n",
            "853:\tlearn: 0.4509380\ttotal: 38.3s\tremaining: 6.55s\n",
            "854:\tlearn: 0.4509214\ttotal: 38.3s\tremaining: 6.5s\n",
            "855:\tlearn: 0.4509062\ttotal: 38.4s\tremaining: 6.46s\n",
            "856:\tlearn: 0.4508681\ttotal: 38.4s\tremaining: 6.41s\n",
            "857:\tlearn: 0.4508477\ttotal: 38.5s\tremaining: 6.37s\n",
            "858:\tlearn: 0.4508196\ttotal: 38.5s\tremaining: 6.32s\n",
            "859:\tlearn: 0.4508100\ttotal: 38.6s\tremaining: 6.28s\n",
            "860:\tlearn: 0.4508005\ttotal: 38.6s\tremaining: 6.23s\n",
            "861:\tlearn: 0.4507921\ttotal: 38.7s\tremaining: 6.19s\n",
            "862:\tlearn: 0.4507857\ttotal: 38.7s\tremaining: 6.14s\n",
            "863:\tlearn: 0.4507739\ttotal: 38.7s\tremaining: 6.1s\n",
            "864:\tlearn: 0.4507605\ttotal: 38.8s\tremaining: 6.05s\n",
            "865:\tlearn: 0.4507561\ttotal: 38.8s\tremaining: 6.01s\n",
            "866:\tlearn: 0.4507390\ttotal: 38.9s\tremaining: 5.96s\n",
            "867:\tlearn: 0.4507236\ttotal: 38.9s\tremaining: 5.92s\n",
            "868:\tlearn: 0.4507157\ttotal: 39s\tremaining: 5.87s\n",
            "869:\tlearn: 0.4507002\ttotal: 39s\tremaining: 5.83s\n",
            "870:\tlearn: 0.4506965\ttotal: 39s\tremaining: 5.78s\n",
            "871:\tlearn: 0.4506783\ttotal: 39.1s\tremaining: 5.74s\n",
            "872:\tlearn: 0.4506575\ttotal: 39.1s\tremaining: 5.69s\n",
            "873:\tlearn: 0.4506402\ttotal: 39.2s\tremaining: 5.65s\n",
            "874:\tlearn: 0.4506291\ttotal: 39.2s\tremaining: 5.61s\n",
            "875:\tlearn: 0.4506212\ttotal: 39.3s\tremaining: 5.56s\n",
            "876:\tlearn: 0.4506033\ttotal: 39.3s\tremaining: 5.51s\n",
            "877:\tlearn: 0.4505904\ttotal: 39.4s\tremaining: 5.47s\n",
            "878:\tlearn: 0.4505831\ttotal: 39.4s\tremaining: 5.42s\n",
            "879:\tlearn: 0.4505783\ttotal: 39.4s\tremaining: 5.38s\n",
            "880:\tlearn: 0.4505543\ttotal: 39.5s\tremaining: 5.33s\n",
            "881:\tlearn: 0.4505327\ttotal: 39.5s\tremaining: 5.29s\n",
            "882:\tlearn: 0.4505165\ttotal: 39.6s\tremaining: 5.25s\n",
            "883:\tlearn: 0.4504938\ttotal: 39.6s\tremaining: 5.2s\n",
            "884:\tlearn: 0.4504788\ttotal: 39.7s\tremaining: 5.16s\n",
            "885:\tlearn: 0.4504607\ttotal: 39.7s\tremaining: 5.11s\n",
            "886:\tlearn: 0.4504322\ttotal: 39.8s\tremaining: 5.07s\n",
            "887:\tlearn: 0.4504132\ttotal: 39.8s\tremaining: 5.02s\n",
            "888:\tlearn: 0.4503901\ttotal: 39.9s\tremaining: 4.98s\n",
            "889:\tlearn: 0.4503585\ttotal: 39.9s\tremaining: 4.93s\n",
            "890:\tlearn: 0.4503501\ttotal: 39.9s\tremaining: 4.89s\n",
            "891:\tlearn: 0.4503259\ttotal: 40s\tremaining: 4.84s\n",
            "892:\tlearn: 0.4503140\ttotal: 40s\tremaining: 4.8s\n",
            "893:\tlearn: 0.4503080\ttotal: 40.1s\tremaining: 4.75s\n",
            "894:\tlearn: 0.4502977\ttotal: 40.1s\tremaining: 4.71s\n",
            "895:\tlearn: 0.4502738\ttotal: 40.2s\tremaining: 4.66s\n",
            "896:\tlearn: 0.4502373\ttotal: 40.2s\tremaining: 4.62s\n",
            "897:\tlearn: 0.4502153\ttotal: 40.3s\tremaining: 4.57s\n",
            "898:\tlearn: 0.4502081\ttotal: 40.3s\tremaining: 4.53s\n",
            "899:\tlearn: 0.4501998\ttotal: 40.3s\tremaining: 4.48s\n",
            "900:\tlearn: 0.4501768\ttotal: 40.4s\tremaining: 4.44s\n",
            "901:\tlearn: 0.4501447\ttotal: 40.4s\tremaining: 4.39s\n",
            "902:\tlearn: 0.4501368\ttotal: 40.5s\tremaining: 4.35s\n",
            "903:\tlearn: 0.4501312\ttotal: 40.5s\tremaining: 4.3s\n",
            "904:\tlearn: 0.4501217\ttotal: 40.6s\tremaining: 4.26s\n",
            "905:\tlearn: 0.4500936\ttotal: 40.6s\tremaining: 4.21s\n",
            "906:\tlearn: 0.4500845\ttotal: 40.7s\tremaining: 4.17s\n",
            "907:\tlearn: 0.4500823\ttotal: 40.7s\tremaining: 4.13s\n",
            "908:\tlearn: 0.4500744\ttotal: 40.8s\tremaining: 4.08s\n",
            "909:\tlearn: 0.4500565\ttotal: 40.8s\tremaining: 4.04s\n",
            "910:\tlearn: 0.4500436\ttotal: 40.9s\tremaining: 3.99s\n",
            "911:\tlearn: 0.4500073\ttotal: 40.9s\tremaining: 3.95s\n",
            "912:\tlearn: 0.4499973\ttotal: 40.9s\tremaining: 3.9s\n",
            "913:\tlearn: 0.4499763\ttotal: 41s\tremaining: 3.86s\n",
            "914:\tlearn: 0.4499679\ttotal: 41s\tremaining: 3.81s\n",
            "915:\tlearn: 0.4499488\ttotal: 41.1s\tremaining: 3.77s\n",
            "916:\tlearn: 0.4499365\ttotal: 41.1s\tremaining: 3.72s\n",
            "917:\tlearn: 0.4499150\ttotal: 41.2s\tremaining: 3.68s\n",
            "918:\tlearn: 0.4498800\ttotal: 41.2s\tremaining: 3.63s\n",
            "919:\tlearn: 0.4498422\ttotal: 41.3s\tremaining: 3.59s\n",
            "920:\tlearn: 0.4498147\ttotal: 41.3s\tremaining: 3.54s\n",
            "921:\tlearn: 0.4498071\ttotal: 41.4s\tremaining: 3.5s\n",
            "922:\tlearn: 0.4497811\ttotal: 41.4s\tremaining: 3.45s\n",
            "923:\tlearn: 0.4497688\ttotal: 41.5s\tremaining: 3.41s\n",
            "924:\tlearn: 0.4497462\ttotal: 41.5s\tremaining: 3.37s\n",
            "925:\tlearn: 0.4497339\ttotal: 41.6s\tremaining: 3.32s\n",
            "926:\tlearn: 0.4497270\ttotal: 41.6s\tremaining: 3.28s\n",
            "927:\tlearn: 0.4497221\ttotal: 41.7s\tremaining: 3.23s\n",
            "928:\tlearn: 0.4497058\ttotal: 41.7s\tremaining: 3.19s\n",
            "929:\tlearn: 0.4496937\ttotal: 41.7s\tremaining: 3.14s\n",
            "930:\tlearn: 0.4496834\ttotal: 41.8s\tremaining: 3.1s\n",
            "931:\tlearn: 0.4496792\ttotal: 41.8s\tremaining: 3.05s\n",
            "932:\tlearn: 0.4496569\ttotal: 41.9s\tremaining: 3.01s\n",
            "933:\tlearn: 0.4496422\ttotal: 41.9s\tremaining: 2.96s\n",
            "934:\tlearn: 0.4496341\ttotal: 42s\tremaining: 2.92s\n",
            "935:\tlearn: 0.4496209\ttotal: 42s\tremaining: 2.87s\n",
            "936:\tlearn: 0.4496110\ttotal: 42.1s\tremaining: 2.83s\n",
            "937:\tlearn: 0.4496026\ttotal: 42.1s\tremaining: 2.78s\n",
            "938:\tlearn: 0.4495777\ttotal: 42.1s\tremaining: 2.74s\n",
            "939:\tlearn: 0.4495615\ttotal: 42.2s\tremaining: 2.69s\n",
            "940:\tlearn: 0.4495403\ttotal: 42.2s\tremaining: 2.65s\n",
            "941:\tlearn: 0.4495134\ttotal: 42.3s\tremaining: 2.6s\n",
            "942:\tlearn: 0.4494759\ttotal: 42.3s\tremaining: 2.56s\n",
            "943:\tlearn: 0.4494600\ttotal: 42.4s\tremaining: 2.51s\n",
            "944:\tlearn: 0.4494437\ttotal: 42.4s\tremaining: 2.47s\n",
            "945:\tlearn: 0.4494164\ttotal: 42.5s\tremaining: 2.42s\n",
            "946:\tlearn: 0.4494012\ttotal: 42.5s\tremaining: 2.38s\n",
            "947:\tlearn: 0.4493736\ttotal: 42.6s\tremaining: 2.33s\n",
            "948:\tlearn: 0.4493318\ttotal: 42.6s\tremaining: 2.29s\n",
            "949:\tlearn: 0.4493042\ttotal: 42.7s\tremaining: 2.25s\n",
            "950:\tlearn: 0.4492894\ttotal: 42.7s\tremaining: 2.2s\n",
            "951:\tlearn: 0.4492883\ttotal: 42.8s\tremaining: 2.16s\n",
            "952:\tlearn: 0.4492587\ttotal: 42.8s\tremaining: 2.11s\n",
            "953:\tlearn: 0.4492504\ttotal: 42.9s\tremaining: 2.07s\n",
            "954:\tlearn: 0.4492348\ttotal: 42.9s\tremaining: 2.02s\n",
            "955:\tlearn: 0.4492187\ttotal: 43s\tremaining: 1.98s\n",
            "956:\tlearn: 0.4491940\ttotal: 43s\tremaining: 1.93s\n",
            "957:\tlearn: 0.4491818\ttotal: 43.1s\tremaining: 1.89s\n",
            "958:\tlearn: 0.4491714\ttotal: 43.1s\tremaining: 1.84s\n",
            "959:\tlearn: 0.4491609\ttotal: 43.1s\tremaining: 1.8s\n",
            "960:\tlearn: 0.4491519\ttotal: 43.2s\tremaining: 1.75s\n",
            "961:\tlearn: 0.4491492\ttotal: 43.2s\tremaining: 1.71s\n",
            "962:\tlearn: 0.4491363\ttotal: 43.3s\tremaining: 1.66s\n",
            "963:\tlearn: 0.4490890\ttotal: 43.3s\tremaining: 1.62s\n",
            "964:\tlearn: 0.4490828\ttotal: 43.4s\tremaining: 1.57s\n",
            "965:\tlearn: 0.4490751\ttotal: 43.4s\tremaining: 1.53s\n",
            "966:\tlearn: 0.4490610\ttotal: 43.5s\tremaining: 1.48s\n",
            "967:\tlearn: 0.4490511\ttotal: 43.5s\tremaining: 1.44s\n",
            "968:\tlearn: 0.4490393\ttotal: 43.6s\tremaining: 1.39s\n",
            "969:\tlearn: 0.4490195\ttotal: 43.6s\tremaining: 1.35s\n",
            "970:\tlearn: 0.4490100\ttotal: 43.7s\tremaining: 1.3s\n",
            "971:\tlearn: 0.4489943\ttotal: 43.7s\tremaining: 1.26s\n",
            "972:\tlearn: 0.4489852\ttotal: 43.7s\tremaining: 1.21s\n",
            "973:\tlearn: 0.4489771\ttotal: 43.8s\tremaining: 1.17s\n",
            "974:\tlearn: 0.4489644\ttotal: 43.8s\tremaining: 1.12s\n",
            "975:\tlearn: 0.4489471\ttotal: 43.9s\tremaining: 1.08s\n",
            "976:\tlearn: 0.4489418\ttotal: 43.9s\tremaining: 1.03s\n",
            "977:\tlearn: 0.4489299\ttotal: 44s\tremaining: 989ms\n",
            "978:\tlearn: 0.4489241\ttotal: 44s\tremaining: 944ms\n",
            "979:\tlearn: 0.4488972\ttotal: 44.1s\tremaining: 900ms\n",
            "980:\tlearn: 0.4488877\ttotal: 44.1s\tremaining: 855ms\n",
            "981:\tlearn: 0.4488838\ttotal: 44.2s\tremaining: 810ms\n",
            "982:\tlearn: 0.4488676\ttotal: 44.2s\tremaining: 765ms\n",
            "983:\tlearn: 0.4488527\ttotal: 44.3s\tremaining: 720ms\n",
            "984:\tlearn: 0.4488455\ttotal: 44.3s\tremaining: 675ms\n",
            "985:\tlearn: 0.4488316\ttotal: 44.4s\tremaining: 630ms\n",
            "986:\tlearn: 0.4488202\ttotal: 44.4s\tremaining: 585ms\n",
            "987:\tlearn: 0.4488033\ttotal: 44.4s\tremaining: 540ms\n",
            "988:\tlearn: 0.4487920\ttotal: 44.5s\tremaining: 495ms\n",
            "989:\tlearn: 0.4487785\ttotal: 44.5s\tremaining: 450ms\n",
            "990:\tlearn: 0.4487329\ttotal: 44.6s\tremaining: 405ms\n",
            "991:\tlearn: 0.4487275\ttotal: 44.6s\tremaining: 360ms\n",
            "992:\tlearn: 0.4486985\ttotal: 44.7s\tremaining: 315ms\n",
            "993:\tlearn: 0.4486696\ttotal: 44.7s\tremaining: 270ms\n",
            "994:\tlearn: 0.4486560\ttotal: 44.8s\tremaining: 225ms\n",
            "995:\tlearn: 0.4486477\ttotal: 44.8s\tremaining: 180ms\n",
            "996:\tlearn: 0.4486257\ttotal: 44.9s\tremaining: 135ms\n",
            "997:\tlearn: 0.4486152\ttotal: 44.9s\tremaining: 90ms\n",
            "998:\tlearn: 0.4486064\ttotal: 45s\tremaining: 45ms\n",
            "999:\tlearn: 0.4486000\ttotal: 45s\tremaining: 0us\n"
          ],
          "name": "stdout"
        },
        {
          "output_type": "execute_result",
          "data": {
            "text/plain": [
              "<catboost.core.CatBoostClassifier at 0x7ff4c896f510>"
            ]
          },
          "metadata": {
            "tags": []
          },
          "execution_count": 64
        }
      ]
    },
    {
      "cell_type": "markdown",
      "metadata": {
        "id": "rgTIQSYB7NUT"
      },
      "source": [
        "Сделаем предсказания на тестовой выборке, сформируем из них рекомендации. "
      ]
    },
    {
      "cell_type": "code",
      "metadata": {
        "colab": {
          "base_uri": "https://localhost:8080/",
          "height": 116,
          "referenced_widgets": [
            "1a272cfc1cf3434b8e6ad5a76fe057ca",
            "1aee220898ae4163850bc25e912c8a36",
            "39448115adf74d52b0de25932a270188",
            "5d9de2d044e64a31a909f6066c21b25c",
            "9ceb2fac010847eeacf13d716c1dddc4",
            "59b417fc2df043f8be3a872d567bb42f",
            "a1f2a90286fc494b810e4ad16260cbb7",
            "ba407dd457af4557bef3109dc020428f"
          ]
        },
        "id": "oiL_M4uu7NUU",
        "outputId": "18e82a8e-9667-473a-b65f-128574cc36a7"
      },
      "source": [
        "predictions = model.predict_proba(test[interactions_train_df.columns[features_start:]])[:, 1]\n",
        "test['predictions'] = predictions\n",
        "\n",
        "test = test.sort_values('predictions', ascending=False)\n",
        "predictions = test.groupby('personId')['contentId'].aggregate(list)\n",
        "tmp_predictions = []\n",
        "\n",
        "for personId in tqdm_notebook(interactions.index):\n",
        "    prediction = np.array(predictions.loc[personId])\n",
        "    \n",
        "    tmp_predictions.append(\n",
        "        list(prediction[~np.in1d(\n",
        "            prediction,\n",
        "            interactions.loc[personId, 'true_train'])])[:top_k])\n",
        "    \n",
        "interactions['prediction_content'] = tmp_predictions"
      ],
      "execution_count": 66,
      "outputs": [
        {
          "output_type": "stream",
          "text": [
            "/usr/local/lib/python3.7/dist-packages/ipykernel_launcher.py:8: TqdmDeprecationWarning: This function will be removed in tqdm==5.0.0\n",
            "Please use `tqdm.notebook.tqdm` instead of `tqdm.tqdm_notebook`\n",
            "  \n"
          ],
          "name": "stderr"
        },
        {
          "output_type": "display_data",
          "data": {
            "application/vnd.jupyter.widget-view+json": {
              "model_id": "1a272cfc1cf3434b8e6ad5a76fe057ca",
              "version_minor": 0,
              "version_major": 2
            },
            "text/plain": [
              "HBox(children=(FloatProgress(value=0.0, max=1112.0), HTML(value='')))"
            ]
          },
          "metadata": {
            "tags": []
          }
        },
        {
          "output_type": "stream",
          "text": [
            "\n"
          ],
          "name": "stdout"
        }
      ]
    },
    {
      "cell_type": "markdown",
      "metadata": {
        "id": "bV6jzq8n7NUU"
      },
      "source": [
        "Оценим их качество."
      ]
    },
    {
      "cell_type": "code",
      "metadata": {
        "colab": {
          "base_uri": "https://localhost:8080/"
        },
        "id": "8Fh36H-l7NUU",
        "scrolled": true,
        "outputId": "5e065499-fb8c-4220-bff3-22904c304d14"
      },
      "source": [
        "calc_precision('prediction_content')"
      ],
      "execution_count": 67,
      "outputs": [
        {
          "output_type": "execute_result",
          "data": {
            "text/plain": [
              "0.007644612680964311"
            ]
          },
          "metadata": {
            "tags": []
          },
          "execution_count": 67
        }
      ]
    },
    {
      "cell_type": "markdown",
      "metadata": {
        "id": "hw46t8eo7NUU"
      },
      "source": [
        "## Часть 4. Факторизационная машина"
      ]
    },
    {
      "cell_type": "markdown",
      "metadata": {
        "id": "1ghXuccn7NUU"
      },
      "source": [
        "Вспомним, что факторизационная машина учитывает попарные взаимодействия признаков, что приводит сразу и к использованию контента (сами признаки), и к обучению скрытых представлений (индикаторы пользователей и статей).\n",
        "\n",
        "Попробуем факторизационные машины из библиотеки pyFM (так как можно работать прямо из питона). https://github.com/coreylynch/pyFM"
      ]
    },
    {
      "cell_type": "code",
      "metadata": {
        "id": "IG-5ehv17NUU"
      },
      "source": [
        "from pyfm import pylibfm\n",
        "from sklearn.feature_extraction import DictVectorizer"
      ],
      "execution_count": 68,
      "outputs": []
    },
    {
      "cell_type": "markdown",
      "metadata": {
        "id": "TZmaTCfW7NUU"
      },
      "source": [
        "Перейдём к обобщению матричных разложений — факторизационным машинам, которые могут работать с контентной информацией. Вспомним, какие данные у нас изначально были:"
      ]
    },
    {
      "cell_type": "markdown",
      "metadata": {
        "id": "ZXGEQEDY7NUV"
      },
      "source": [
        "В факторизационную машину можно загрузить \"айдишники\" пользователей и статей (то есть сделать аналог коллаборативной фильтрации) и одновременно различные признаки.\n",
        "\n",
        "Удобно обрабатывать категориальные переменные (id и другие) можно с помощью DictVectorizer. Например, процесс может выглядить вот так:\n",
        "```python\n",
        "train = [\n",
        "    {\"user\": \"1\", \"item\": \"5\", \"age\": 19},\n",
        "    {\"user\": \"2\", \"item\": \"43\", \"age\": 33},\n",
        "    {\"user\": \"3\", \"item\": \"20\", \"age\": 55},\n",
        "    {\"user\": \"4\", \"item\": \"10\", \"age\": 20},\n",
        "]\n",
        "v = DictVectorizer()\n",
        "X = v.fit_transform(train)\n",
        "y = np.repeat(1.0, X.shape[0])\n",
        "fm = pylibfm.FM()\n",
        "fm.fit(X,y)\n",
        "fm.predict(v.transform({\"user\": \"1\", \"item\": \"10\", \"age\": 24}))\n",
        "```"
      ]
    },
    {
      "cell_type": "markdown",
      "metadata": {
        "id": "Su_a3Zqa7NUV"
      },
      "source": [
        "Сгенерируем таблицу с признаками в таком виде, где будут id пользователя, статьи и автора статьи и несколько признаков, которые вы сможете придумать."
      ]
    },
    {
      "cell_type": "code",
      "metadata": {
        "colab": {
          "base_uri": "https://localhost:8080/",
          "height": 116,
          "referenced_widgets": [
            "f4a272b85d384a90866d9b0eff9b0d17",
            "3e86308514bb4305808ebac9590a6cf4",
            "60cec39c0b39414d887aefa72b860f96",
            "788ab62b70054bafbc098a012e96476f",
            "d58b7d95590e481db0c93f3d80fd5984",
            "293a600c5dc24d05933689b579f6b994",
            "644be23f0f8a41cb80ffcafbcfa29dfd",
            "c32daa63678f4fc5a290b4d2b02b68d4"
          ]
        },
        "id": "1lXklZjO7NUV",
        "outputId": "22be556f-711d-4047-e697-107974398f07"
      },
      "source": [
        "train_data = []\n",
        "\n",
        "for i in tqdm_notebook(range(len(interactions_train_df))):\n",
        "    features = {}\n",
        "    features['personId'] = str(interactions_train_df.iloc[i].personId)\n",
        "    features['contentId'] = str(interactions_train_df.iloc[i].contentId)\n",
        "    \n",
        "    try:\n",
        "        article = articles_df.loc[features['contentId']]\n",
        "        features['authorId'] = str(article.authorPersonId)\n",
        "        features['authorCountry'] = str(article.authorCountry)\n",
        "        features['lang'] = str(article.lang)\n",
        "    except:\n",
        "        features['authorId'] = 'unknown'\n",
        "        features['authorCountry'] = 'unknown'\n",
        "        features['lang'] = 'unknown'\n",
        "\n",
        "    train_data.append(features)"
      ],
      "execution_count": 69,
      "outputs": [
        {
          "output_type": "stream",
          "text": [
            "/usr/local/lib/python3.7/dist-packages/ipykernel_launcher.py:3: TqdmDeprecationWarning: This function will be removed in tqdm==5.0.0\n",
            "Please use `tqdm.notebook.tqdm` instead of `tqdm.tqdm_notebook`\n",
            "  This is separate from the ipykernel package so we can avoid doing imports until\n"
          ],
          "name": "stderr"
        },
        {
          "output_type": "display_data",
          "data": {
            "application/vnd.jupyter.widget-view+json": {
              "model_id": "f4a272b85d384a90866d9b0eff9b0d17",
              "version_minor": 0,
              "version_major": 2
            },
            "text/plain": [
              "HBox(children=(FloatProgress(value=0.0, max=146645.0), HTML(value='')))"
            ]
          },
          "metadata": {
            "tags": []
          }
        },
        {
          "output_type": "stream",
          "text": [
            "\n"
          ],
          "name": "stdout"
        }
      ]
    },
    {
      "cell_type": "markdown",
      "metadata": {
        "id": "KAiWGhdL7NUV"
      },
      "source": [
        "Повторим эту процедуру для тестовой выборки. Заметим, что модель оценивает каждую пару потенциального взаимодействия, а значит, надо подготовить выборку из всех возможных пар из пользователей и статей."
      ]
    },
    {
      "cell_type": "code",
      "metadata": {
        "colab": {
          "base_uri": "https://localhost:8080/",
          "height": 116,
          "referenced_widgets": [
            "e2d8eb27c3ef4bdfae6420d10da6d7c3",
            "43a79986a8694762bf76d95450b6e847",
            "e5380a4ca63c4c5084b82a31ffa9fd83",
            "ce9236ed9faf40268108572733cb693e",
            "e0cfa89d3f89479090d0cf14af284981",
            "2454f0dfcc6245b1a85569718feae9f0",
            "b628b6d0a7254c72afe63d170ac56f6a",
            "976fba56a4644623a2773c328aa3fe07"
          ]
        },
        "id": "uJZpRg5F7NUV",
        "outputId": "1d2b622c-b01d-43b1-fd5b-af7d20ba1081"
      },
      "source": [
        "from copy import deepcopy\n",
        "\n",
        "test_data = []\n",
        "\n",
        "for i in tqdm_notebook(range(len(interactions))):\n",
        "    features = {}\n",
        "    features['personId'] = str(interactions.index[i])  \n",
        "    for j in range(len(ratings.columns)):\n",
        "        \n",
        "        features['contentId'] = str(ratings.columns[j])\n",
        "        \n",
        "        try:\n",
        "            article = articles_df.loc[features['contentId']]\n",
        "            features['authorId'] = str(article.authorPersonId)\n",
        "            features['authorCountry'] = str(article.authorCountry)\n",
        "            features['lang'] = str(article.lang)\n",
        "        except:\n",
        "            features['authorId'] = 'unknown'\n",
        "            features['authorCountry'] = 'unknown'\n",
        "            features['lang'] = 'unknown'\n",
        "        \n",
        "        test_data.append(deepcopy(features))"
      ],
      "execution_count": 70,
      "outputs": [
        {
          "output_type": "stream",
          "text": [
            "/usr/local/lib/python3.7/dist-packages/ipykernel_launcher.py:5: TqdmDeprecationWarning: This function will be removed in tqdm==5.0.0\n",
            "Please use `tqdm.notebook.tqdm` instead of `tqdm.tqdm_notebook`\n",
            "  \"\"\"\n"
          ],
          "name": "stderr"
        },
        {
          "output_type": "display_data",
          "data": {
            "application/vnd.jupyter.widget-view+json": {
              "model_id": "e2d8eb27c3ef4bdfae6420d10da6d7c3",
              "version_minor": 0,
              "version_major": 2
            },
            "text/plain": [
              "HBox(children=(FloatProgress(value=0.0, max=1112.0), HTML(value='')))"
            ]
          },
          "metadata": {
            "tags": []
          }
        },
        {
          "output_type": "stream",
          "text": [
            "\n"
          ],
          "name": "stdout"
        }
      ]
    },
    {
      "cell_type": "markdown",
      "metadata": {
        "id": "GEx1aZyz7NUV"
      },
      "source": [
        "Векторизуем, получим разреженные матрицы.\n",
        "\n",
        "Мы будем обучать регрессор на силу взаимодействия, а для него нужны отрицательные примеры. Добавим некоторое количество случайных примеров как негативные (матрица взаимодействий разреженная, поэтому шансы взять как негативное взаимодействие некоторое положительное мало)."
      ]
    },
    {
      "cell_type": "code",
      "metadata": {
        "id": "_kfBG_vr7NUV"
      },
      "source": [
        "dv = DictVectorizer()\n",
        "\n",
        "train_features = dv.fit_transform(\n",
        "    train_data + list(np.random.permutation(test_data)[:100000]))\n",
        "test_features = dv.transform(test_data)"
      ],
      "execution_count": 71,
      "outputs": []
    },
    {
      "cell_type": "code",
      "metadata": {
        "colab": {
          "base_uri": "https://localhost:8080/"
        },
        "id": "r1ORxv-K7NUW",
        "outputId": "9171a136-39f8-47c1-c2b3-cdca2637418b"
      },
      "source": [
        "train_features"
      ],
      "execution_count": 72,
      "outputs": [
        {
          "output_type": "execute_result",
          "data": {
            "text/plain": [
              "<246645x3481 sparse matrix of type '<class 'numpy.float64'>'\n",
              "\twith 1233225 stored elements in Compressed Sparse Row format>"
            ]
          },
          "metadata": {
            "tags": []
          },
          "execution_count": 72
        }
      ]
    },
    {
      "cell_type": "code",
      "metadata": {
        "id": "54uYFuXL7NUW"
      },
      "source": [
        "y_train = list(interactions_train_df.eventStrength.values) + list(np.zeros(100000))"
      ],
      "execution_count": 73,
      "outputs": []
    },
    {
      "cell_type": "markdown",
      "metadata": {
        "id": "JvCCpAly7NUW"
      },
      "source": [
        "Укажем размером скрытого представления 10, сделаем 10 итераций."
      ]
    },
    {
      "cell_type": "code",
      "metadata": {
        "colab": {
          "base_uri": "https://localhost:8080/"
        },
        "id": "Htd7DQlA7NUW",
        "scrolled": true,
        "outputId": "7a435e0a-8a8d-4ed6-9ccf-3938ab939933"
      },
      "source": [
        "fm = pylibfm.FM(num_factors=10, num_iter=30, task='regression')\n",
        "\n",
        "fm.fit(train_features, y_train)"
      ],
      "execution_count": 74,
      "outputs": [
        {
          "output_type": "stream",
          "text": [
            "Creating validation dataset of 0.01 of training for adaptive regularization\n",
            "-- Epoch 1\n",
            "Training MSE: 0.11759\n",
            "-- Epoch 2\n",
            "Training MSE: 0.11125\n",
            "-- Epoch 3\n",
            "Training MSE: 0.11132\n",
            "-- Epoch 4\n",
            "Training MSE: 0.11181\n",
            "-- Epoch 5\n",
            "Training MSE: 0.11153\n",
            "-- Epoch 6\n",
            "Training MSE: 0.11093\n",
            "-- Epoch 7\n",
            "Training MSE: 0.11025\n",
            "-- Epoch 8\n",
            "Training MSE: 0.10954\n",
            "-- Epoch 9\n",
            "Training MSE: 0.10904\n",
            "-- Epoch 10\n",
            "Training MSE: 0.10863\n",
            "-- Epoch 11\n",
            "Training MSE: 0.10816\n",
            "-- Epoch 12\n",
            "Training MSE: 0.10713\n",
            "-- Epoch 13\n",
            "Training MSE: 0.10617\n",
            "-- Epoch 14\n",
            "Training MSE: 0.10493\n",
            "-- Epoch 15\n",
            "Training MSE: 0.10382\n",
            "-- Epoch 16\n",
            "Training MSE: 0.10302\n",
            "-- Epoch 17\n",
            "Training MSE: 0.10172\n",
            "-- Epoch 18\n",
            "Training MSE: 0.10046\n",
            "-- Epoch 19\n",
            "Training MSE: 0.09969\n",
            "-- Epoch 20\n",
            "Training MSE: 0.09876\n",
            "-- Epoch 21\n",
            "Training MSE: 0.09788\n",
            "-- Epoch 22\n",
            "Training MSE: 0.09663\n",
            "-- Epoch 23\n",
            "Training MSE: 0.09590\n",
            "-- Epoch 24\n",
            "Training MSE: 0.09524\n",
            "-- Epoch 25\n",
            "Training MSE: 0.09513\n",
            "-- Epoch 26\n",
            "Training MSE: 0.09469\n",
            "-- Epoch 27\n",
            "Training MSE: 0.09408\n",
            "-- Epoch 28\n",
            "Training MSE: 0.09380\n",
            "-- Epoch 29\n",
            "Training MSE: 0.09353\n",
            "-- Epoch 30\n",
            "Training MSE: 0.09370\n"
          ],
          "name": "stdout"
        }
      ]
    },
    {
      "cell_type": "markdown",
      "metadata": {
        "id": "LctegjZ-7NUW"
      },
      "source": [
        "Предскажем и оценим качество."
      ]
    },
    {
      "cell_type": "code",
      "metadata": {
        "id": "MBqPsN3m7NUW"
      },
      "source": [
        "####### Здесь ваш код ##########\n",
        "test_features = dv.transform(test_data)\n",
        "\n",
        "y_predict = fm.predict(test_features)\n",
        "\n",
        "new_ratings = y_predict.reshape((1112, 2366))\n",
        "################################"
      ],
      "execution_count": 75,
      "outputs": []
    },
    {
      "cell_type": "code",
      "metadata": {
        "id": "OWF2OM_-7NUW"
      },
      "source": [
        "predictions = []\n",
        "\n",
        "for i, person in enumerate(interactions.index):\n",
        "    user_prediction = ratings.columns[np.argsort(new_ratings[i])[::-1]]\n",
        "    predictions.append(\n",
        "        user_prediction[~np.in1d(user_prediction,\n",
        "                                 interactions.loc[person, 'true_train'])][:top_k])\n",
        "    \n",
        "interactions['fm_prediction'] = predictions"
      ],
      "execution_count": 76,
      "outputs": []
    },
    {
      "cell_type": "code",
      "metadata": {
        "colab": {
          "base_uri": "https://localhost:8080/"
        },
        "id": "n6wF5i-27NUX",
        "outputId": "9be72de2-d3ed-43c5-95ae-327408abec7d"
      },
      "source": [
        "calc_precision('fm_prediction')"
      ],
      "execution_count": 77,
      "outputs": [
        {
          "output_type": "execute_result",
          "data": {
            "text/plain": [
              "0.006760729486693511"
            ]
          },
          "metadata": {
            "tags": []
          },
          "execution_count": 77
        }
      ]
    },
    {
      "cell_type": "code",
      "metadata": {
        "id": "iN__DwKd1Xuj"
      },
      "source": [
        ""
      ],
      "execution_count": null,
      "outputs": []
    }
  ]
}