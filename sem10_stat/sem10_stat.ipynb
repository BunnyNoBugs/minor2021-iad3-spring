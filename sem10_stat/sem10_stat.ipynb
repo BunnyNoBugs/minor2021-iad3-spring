{
 "cells": [
  {
   "cell_type": "code",
   "execution_count": 1,
   "metadata": {},
   "outputs": [],
   "source": [
    "import pandas as pd\n",
    "import numpy as np\n",
    "import random\n",
    "import scipy as sp\n",
    "import scipy.stats as sts\n",
    "import matplotlib.pyplot as plt\n",
    "%matplotlib inline\n",
    "\n",
    "random.seed(42)"
   ]
  },
  {
   "cell_type": "markdown",
   "metadata": {
    "id": "z5PnrdtN-ltL"
   },
   "source": [
    "<a id='rv'></a>\n",
    "# Случайные величины. Нормальный закон распределения."
   ]
  },
  {
   "cell_type": "markdown",
   "metadata": {
    "collapsed": true,
    "id": "CnjcXBn2-ltL"
   },
   "source": [
    "Случайные величины бывают:\n",
    "- дискретные\n",
    "- непрерывные"
   ]
  },
  {
   "cell_type": "markdown",
   "metadata": {
    "id": "fvhBwi2w-ltL"
   },
   "source": [
    "На практике статистические заключения опираются на допущения о том, как распределены рассматриваемые случайные переменные (данные). (Даже принято преобразовывать данные с тем, чтобы они соответствовали одному из известных распределений)"
   ]
  },
  {
   "cell_type": "markdown",
   "metadata": {
    "id": "Qb09lL7a-ltM"
   },
   "source": [
    "<a id='pd'></a>\n",
    "## Распределение вероятностей"
   ]
  },
  {
   "cell_type": "markdown",
   "metadata": {
    "collapsed": true,
    "id": "AQsf8QGo-ltM"
   },
   "source": [
    "*Закон распределения вероятностей* — это выражение, которое определяет, какие значения будет принимать данная переменная или параметр, и как часто будет встречаться каждое из этих значений."
   ]
  },
  {
   "cell_type": "markdown",
   "metadata": {
    "id": "doy1j9Ar-ltM"
   },
   "source": [
    "Иногда закон распределения случайной величины можно выписать сразу. Например, если случайная величина $X$ - число выпадающих  очков при бросках игральной кости (шестигранный кубик с точками), то закон распределения ее значений такой:\n",
    "\n",
    "| | | | | | | |\n",
    "|-------------:|:---------|:--------|:---------|:---------|:--------|:---------|\n",
    "|$$X$$         |1         |2        |3         |4         |5        |6         |\n",
    "|$$p(X)$$      |1/6       |1/6      |1/6       |1/6       |1/6      |1/6       |\n"
   ]
  },
  {
   "cell_type": "markdown",
   "metadata": {
    "collapsed": true,
    "id": "FlgIq8qB-ltN"
   },
   "source": [
    "Но далеко не всегда мы  знаем заранее закон распределения случайной величины (ее функцию вероятности). В таком случае мы ее стараемся оценить на основании имеющихся данных. "
   ]
  },
  {
   "cell_type": "markdown",
   "metadata": {
    "collapsed": true,
    "id": "aLE-LFS1-ltN"
   },
   "source": [
    "Раздобудем результаты $n=200$ бросков игральной кости. Чтобы не бросать кубик самим, смоделируем результаты в Python:"
   ]
  },
  {
   "cell_type": "code",
   "execution_count": 2,
   "metadata": {
    "colab": {
     "base_uri": "https://localhost:8080/"
    },
    "id": "joUtaXBb-ltN",
    "outputId": "d0f20a7c-6cbc-4c5e-a949-4ac1f547e495"
   },
   "outputs": [
    {
     "name": "stdout",
     "output_type": "stream",
     "text": [
      "Выпавшие значения Х: [6 2 6 ... 4 5 2]\n"
     ]
    }
   ],
   "source": [
    "n=20000\n",
    "sample = np.random.choice([1,2,3,4,5,6], n)\n",
    "print(\"Выпавшие значения Х:\",sample )"
   ]
  },
  {
   "cell_type": "markdown",
   "metadata": {
    "id": "yU36TF4b-ltN"
   },
   "source": [
    "Тогда вероятности значений случайной величины  X можно оценить с помощью *относительных частот* выпадения значений. "
   ]
  },
  {
   "cell_type": "code",
   "execution_count": 3,
   "metadata": {
    "colab": {
     "base_uri": "https://localhost:8080/"
    },
    "id": "hA8480n1-ltO",
    "outputId": "abce0b4f-eedc-48a9-a8fa-95e609be3ddc"
   },
   "outputs": [
    {
     "name": "stdout",
     "output_type": "stream",
     "text": [
      "Число выпадений каждого значения:\n",
      "Counter({5: 3371, 3: 3355, 6: 3351, 2: 3339, 1: 3295, 4: 3289}) \n",
      "\n",
      "Вероятности выпадений каждого значения:\n",
      "{6: 0.16755, 2: 0.16695, 5: 0.16855, 4: 0.16445, 3: 0.16775, 1: 0.16475}\n"
     ]
    }
   ],
   "source": [
    "# посчитаем число выпадений каждой из сторон:\n",
    "from collections import Counter\n",
    "\n",
    "c = Counter()\n",
    "for i in sample:\n",
    "    c[i] += 1\n",
    "\n",
    "print(\"Число выпадений каждого значения:\")    \n",
    "print(c, '\\n')\n",
    "\n",
    "# получим вероятности, поделив каждое число выпадений на общее количество бросков:\n",
    "\n",
    "print(\"Вероятности выпадений каждого значения:\")\n",
    "p_X={key: value/n for key, value in c.items()}\n",
    "print(p_X)"
   ]
  },
  {
   "cell_type": "code",
   "execution_count": 4,
   "metadata": {
    "id": "ObJYyltu-ltO"
   },
   "outputs": [
    {
     "data": {
      "image/png": "[encoded data removed]",
      "text/plain": [
       "<Figure size 432x288 with 1 Axes>"
      ]
     },
     "metadata": {
      "needs_background": "light"
     },
     "output_type": "display_data"
    }
   ],
   "source": [
    "# Нарисуем распределение вероятностей:\n",
    "for key in p_X:\n",
    "    plt.scatter([key], p_X[key], label=key)\n",
    "plt.show()"
   ]
  },
  {
   "cell_type": "markdown",
   "metadata": {
    "id": "sXcUn_l3-ltO"
   },
   "source": [
    "**Задание.** Проведите эксперименты для $n=2000,20000,200000$ бросков. Что происходит с вероятностями? Что это за значение, к которому вероятности стремятся?"
   ]
  },
  {
   "cell_type": "markdown",
   "metadata": {
    "id": "ufdl4kco-ltO"
   },
   "source": [
    "<a id='cdf'></a>\n",
    "## Функция распределения"
   ]
  },
  {
   "cell_type": "markdown",
   "metadata": {
    "id": "1ADNxuxL-ltO"
   },
   "source": [
    "Знание распределения вероятностей позволяет построить *функцию распределения* $F(x)$. (Обратное тоже верно)))\n",
    "\n",
    "$F(x)$ - это вероятность того, что случайная величина  $X$  примет значение меньшее, чем $x$, т.е.\n",
    "\n",
    "$$F(x)=P(X<=x)$$\n",
    "\n",
    "Из этого определения следует очень важная для практики формула вероятности попадания случайной величины $X$ в интервал:\n",
    "\n",
    "**$$P(a<X<=b)=F(b)-F(a)$$**\n",
    "\n"
   ]
  },
  {
   "cell_type": "code",
   "execution_count": 5,
   "metadata": {
    "colab": {
     "base_uri": "https://localhost:8080/"
    },
    "id": "KYQ4MSU2Cjef",
    "outputId": "a27166c7-21b1-42f7-b700-e73443eb9bfc"
   },
   "outputs": [
    {
     "data": {
      "text/plain": [
       "(20000,)"
      ]
     },
     "execution_count": 5,
     "metadata": {},
     "output_type": "execute_result"
    }
   ],
   "source": [
    "sample.shape"
   ]
  },
  {
   "cell_type": "code",
   "execution_count": 6,
   "metadata": {
    "colab": {
     "base_uri": "https://localhost:8080/",
     "height": 297
    },
    "id": "Zsjfv_r8-ltP",
    "outputId": "c07563b5-a31b-425c-c754-c89471f99cd1"
   },
   "outputs": [
    {
     "data": {
      "text/plain": [
       "<matplotlib.legend.Legend at 0x7fd7d08482e0>"
      ]
     },
     "execution_count": 6,
     "metadata": {},
     "output_type": "execute_result"
    },
    {
     "data": {
      "image/png": "[encoded data removed]",
      "text/plain": [
       "<Figure size 432x288 with 1 Axes>"
      ]
     },
     "metadata": {
      "needs_background": "light"
     },
     "output_type": "display_data"
    }
   ],
   "source": [
    "# Построим функцию распределения для нашей выборки. \n",
    "from statsmodels.distributions.empirical_distribution import ECDF\n",
    "F = ECDF(sample, side='right')\n",
    "plt.step(F.x, F.y, label='F(x)')\n",
    "\n",
    "plt.ylabel('$F(x)$')\n",
    "plt.xlabel('$x$')\n",
    "plt.legend(loc='upper left')"
   ]
  },
  {
   "cell_type": "code",
   "execution_count": 7,
   "metadata": {
    "colab": {
     "base_uri": "https://localhost:8080/"
    },
    "id": "aCatVnIQ-ltP",
    "outputId": "9f142f91-b582-403b-e956-b48b4816744a"
   },
   "outputs": [
    {
     "data": {
      "text/plain": [
       "(array([0.83245]), array([1.]))"
      ]
     },
     "execution_count": 7,
     "metadata": {},
     "output_type": "execute_result"
    }
   ],
   "source": [
    "F([5]), F([10])"
   ]
  },
  {
   "cell_type": "markdown",
   "metadata": {
    "id": "XiHxoKNG-ltP"
   },
   "source": [
    "**Задание.**\n",
    "1. Найдите F(1), F(3), F(6), F(10). Почему получились именно такие значения?\n",
    "\n",
    "2. Найдите вероятность того, что при броске выпадет не менее 3 и не более 5 очков."
   ]
  },
  {
   "cell_type": "code",
   "execution_count": 8,
   "metadata": {},
   "outputs": [],
   "source": [
    "# your code here"
   ]
  },
  {
   "cell_type": "markdown",
   "metadata": {},
   "source": [
    "Построим гистаграмму принимаемых значений"
   ]
  },
  {
   "cell_type": "code",
   "execution_count": 9,
   "metadata": {},
   "outputs": [
    {
     "data": {
      "image/png": "[encoded data removed]",
      "text/plain": [
       "<Figure size 432x288 with 1 Axes>"
      ]
     },
     "metadata": {
      "needs_background": "light"
     },
     "output_type": "display_data"
    }
   ],
   "source": [
    "plt.hist(sample, bins=6, density=True);"
   ]
  },
  {
   "cell_type": "code",
   "execution_count": 10,
   "metadata": {},
   "outputs": [
    {
     "data": {
      "image/png": "[encoded data removed]",
      "text/plain": [
       "<Figure size 432x288 with 1 Axes>"
      ]
     },
     "metadata": {
      "needs_background": "light"
     },
     "output_type": "display_data"
    }
   ],
   "source": [
    "plt.hist(sample, bins=100, density=True, cumulative=True);"
   ]
  },
  {
   "cell_type": "markdown",
   "metadata": {
    "id": "RKvrHhZm-ltQ"
   },
   "source": [
    "<a id='nb'></a>\n",
    "## Нормальный закон распределения"
   ]
  },
  {
   "cell_type": "markdown",
   "metadata": {
    "id": "-NlQuKjW-ltQ"
   },
   "source": [
    "В теории статистики доказаны две теоремы, которые обосновывают все статистические вычисления. В силу своей важности эти теоремы получили громкие названия - Центральная предельная теорема и Закон больших чисел.\n",
    "\n"
   ]
  },
  {
   "cell_type": "markdown",
   "metadata": {
    "id": "iV5r-e9K-ltQ"
   },
   "source": [
    "<a id='lbn'></a>\n",
    "### Закон больших чисел и центральная предельная теорема"
   ]
  },
  {
   "cell_type": "markdown",
   "metadata": {
    "id": "XAytLZIk-ltQ"
   },
   "source": [
    "*Закон больших чисел*  утверждает, что какое бы ни было распределение случайной величины, среднее арифметическое ее реализаций при их большом числе близко к истинному значению среднего значения распределения. "
   ]
  },
  {
   "cell_type": "markdown",
   "metadata": {
    "id": "sgbVipgG-ltQ"
   },
   "source": [
    "*Центральная предельная теорема* утверждает, что если случайная величина формирует свои значения под действием многочисленных, независимых факторов, влияние каждого из которых пренебрежимо мало, то такая величина распределена нормально. \n",
    "\n",
    "То есть имеет распределение, которое называют *нормальным*, и свойства которого очень хорошо изучены. "
   ]
  },
  {
   "cell_type": "markdown",
   "metadata": {},
   "source": [
    "По ЦПТ получается, что среднее случайных величин будет распределено как $N(\\mu, \\sigma^2/n)$\n",
    "\n",
    "Напишите функцию, которая будет выдавать ожидаемое нами стандартное отклонение для среднего по k случайных равномерно распределенным  от 0 до 1 величинам\n",
    "\n",
    "*Подсказка:*\n",
    "Вообще говоря дисперсия равномерной случайной величины равна $\\frac{(b - a)^2}{12}$"
   ]
  },
  {
   "cell_type": "code",
   "execution_count": 17,
   "metadata": {},
   "outputs": [],
   "source": [
    "def get_std(k):\n",
    "    return # your code here"
   ]
  },
  {
   "cell_type": "markdown",
   "metadata": {
    "id": "VklmHFEi-ltR"
   },
   "source": [
    "#### Давайте посмотрим на теорему в действии\n",
    "\n",
    "Сформируем случайную величину, которая представляет собой сумму $k$ случайных чисел из какого-нибудь распределения (например, равномерного). Сгенерируем  $N$ таких сумм и посмотрим, как они будут распределены."
   ]
  },
  {
   "cell_type": "code",
   "execution_count": 12,
   "metadata": {
    "id": "P0nk9DEP-ltR"
   },
   "outputs": [],
   "source": [
    "N = 10000\n",
    "k = 10"
   ]
  },
  {
   "cell_type": "code",
   "execution_count": 13,
   "metadata": {
    "colab": {
     "base_uri": "https://localhost:8080/",
     "height": 283
    },
    "id": "1zoIFDwj-ltR",
    "outputId": "4df79cf2-58c3-4bf7-a8c6-cab614ac0885"
   },
   "outputs": [
    {
     "data": {
      "image/png": "[encoded data removed]",
      "text/plain": [
       "<Figure size 432x288 with 1 Axes>"
      ]
     },
     "metadata": {
      "needs_background": "light"
     },
     "output_type": "display_data"
    }
   ],
   "source": [
    "# Убедимся, что умеем генерировать массив из N случайных равномерно распределенных на [0; 1] чисел\n",
    "plt.hist(np.random.random(N));"
   ]
  },
  {
   "cell_type": "code",
   "execution_count": 14,
   "metadata": {
    "colab": {
     "base_uri": "https://localhost:8080/",
     "height": 283
    },
    "id": "goL6wmHM-ltR",
    "outputId": "0cfe384a-f65d-4805-8b0b-9accb4c4f305"
   },
   "outputs": [
    {
     "data": {
      "image/png": "[encoded data removed]",
      "text/plain": [
       "<Figure size 432x288 with 1 Axes>"
      ]
     },
     "metadata": {
      "needs_background": "light"
     },
     "output_type": "display_data"
    }
   ],
   "source": [
    "# Складываем покоординатно k массивов, получаем массив из N сумм, строим  гистограмму\n",
    "uniform_sum = sum(np.random.random(N) for _ in range(k))\n",
    "plt.hist(uniform_sum, bins=100);"
   ]
  },
  {
   "cell_type": "code",
   "execution_count": 15,
   "metadata": {},
   "outputs": [
    {
     "data": {
      "image/png": "[encoded data removed]",
      "text/plain": [
       "<Figure size 432x288 with 1 Axes>"
      ]
     },
     "metadata": {
      "needs_background": "light"
     },
     "output_type": "display_data"
    }
   ],
   "source": [
    "# А теперь давайте посмотрим на то, как распределено среднее по этим величинам\n",
    "uniform_mean = uniform_sum / k\n",
    "plt.hist(uniform_mean, bins=100)\n",
    "plt.xlim([0,1]);"
   ]
  },
  {
   "cell_type": "code",
   "execution_count": 16,
   "metadata": {},
   "outputs": [
    {
     "data": {
      "text/plain": [
       "(0.5005365458103525, 0.09153288369985894, None)"
      ]
     },
     "execution_count": 16,
     "metadata": {},
     "output_type": "execute_result"
    }
   ],
   "source": [
    "np.mean(uniform_mean), np.std(uniform_mean), get_std(k)"
   ]
  },
  {
   "cell_type": "code",
   "execution_count": 17,
   "metadata": {},
   "outputs": [],
   "source": [
    "k = 100"
   ]
  },
  {
   "cell_type": "code",
   "execution_count": 18,
   "metadata": {
    "colab": {
     "base_uri": "https://localhost:8080/",
     "height": 283
    },
    "id": "goL6wmHM-ltR",
    "outputId": "0cfe384a-f65d-4805-8b0b-9accb4c4f305"
   },
   "outputs": [
    {
     "data": {
      "image/png": "[encoded data removed]",
      "text/plain": [
       "<Figure size 432x288 with 1 Axes>"
      ]
     },
     "metadata": {
      "needs_background": "light"
     },
     "output_type": "display_data"
    }
   ],
   "source": [
    "uniform_sum = sum(np.random.random(N) for _ in range(k))\n",
    "uniform_mean = uniform_sum / k\n",
    "plt.hist(uniform_mean, bins=100)\n",
    "plt.xlim([0,1]);"
   ]
  },
  {
   "cell_type": "code",
   "execution_count": 19,
   "metadata": {},
   "outputs": [
    {
     "data": {
      "text/plain": [
       "(0.5002039514162995, 0.028754823598406434, 0.028867513459481287)"
      ]
     },
     "execution_count": 19,
     "metadata": {},
     "output_type": "execute_result"
    }
   ],
   "source": [
    "np.mean(uniform_mean), np.std(uniform_mean), get_std(k)"
   ]
  },
  {
   "cell_type": "code",
   "execution_count": 20,
   "metadata": {},
   "outputs": [],
   "source": [
    "k = 1000"
   ]
  },
  {
   "cell_type": "code",
   "execution_count": 21,
   "metadata": {
    "colab": {
     "base_uri": "https://localhost:8080/",
     "height": 283
    },
    "id": "goL6wmHM-ltR",
    "outputId": "0cfe384a-f65d-4805-8b0b-9accb4c4f305"
   },
   "outputs": [
    {
     "data": {
      "image/png": "[encoded data removed]",
      "text/plain": [
       "<Figure size 432x288 with 1 Axes>"
      ]
     },
     "metadata": {
      "needs_background": "light"
     },
     "output_type": "display_data"
    }
   ],
   "source": [
    "uniform_sum = sum(np.random.random(N) for _ in range(k))\n",
    "uniform_mean = uniform_sum / k\n",
    "plt.hist(uniform_mean, bins=100)\n",
    "plt.xlim([0,1]);"
   ]
  },
  {
   "cell_type": "code",
   "execution_count": 22,
   "metadata": {},
   "outputs": [
    {
     "data": {
      "text/plain": [
       "(0.5000132745005168, 0.009234485017778264, 0.009128709291752768)"
      ]
     },
     "execution_count": 22,
     "metadata": {},
     "output_type": "execute_result"
    }
   ],
   "source": [
    "np.mean(uniform_mean), np.std(uniform_mean), get_std(k)"
   ]
  },
  {
   "cell_type": "markdown",
   "metadata": {},
   "source": [
    "Эмпирический результат совпал с теоретическим -- ура!"
   ]
  },
  {
   "cell_type": "markdown",
   "metadata": {
    "id": "qzinJ6k2-ltS"
   },
   "source": [
    "<a id='pdf'></a>\n",
    "### Формулы для функции и плотности нормального распределения"
   ]
  },
  {
   "cell_type": "markdown",
   "metadata": {
    "id": "JlZkhflT-ltS"
   },
   "source": [
    "*Теория.  Взглянуть мельком.*\n",
    "\n",
    "Функция нормального распределения:\n",
    "\n",
    "$$Ф(x)=\\frac{1}{\\sigma\\sqrt{2\\pi}}\\int\\limits_{-\\infty}^x\\exp\\left(-\\frac{(t-\\mu)^2}{2\\sigma^2}\\right) dt. $$\n",
    "\n",
    "Плотность нормального распределения\n",
    "\n",
    " $$  f(x) = \\frac{1}{\\sigma\\sqrt{2\\pi}}\\exp\\left(-\\frac{(x-\\mu)^2}{2\\sigma^2}\\right). $$"
   ]
  },
  {
   "cell_type": "markdown",
   "metadata": {
    "id": "hqZghcj1-ltS"
   },
   "source": [
    "<a id='gr'></a>\n",
    "### Генерирование выборки, графики функций распределения и плотностей, эмпирических и теоретических"
   ]
  },
  {
   "cell_type": "code",
   "execution_count": 23,
   "metadata": {
    "colab": {
     "base_uri": "https://localhost:8080/"
    },
    "id": "RqsNnL1Z-ltT",
    "outputId": "e0dc384e-3bc1-4602-f31d-401df3e18517"
   },
   "outputs": [
    {
     "data": {
      "text/plain": [
       "array([-2.18048011, -0.13711946,  1.00446548,  0.29570885,  1.23402765,\n",
       "       -1.80322735,  0.96238498, -1.02908015, -0.0979976 ,  0.2406351 ])"
      ]
     },
     "execution_count": 23,
     "metadata": {},
     "output_type": "execute_result"
    }
   ],
   "source": [
    "mu=0\n",
    "sigma=1\n",
    "n = 100\n",
    "# Сгенерируем выборку из нормального распределения\n",
    "sample_normal = np.random.normal(mu, sigma, n)\n",
    "# 10 первых значений\n",
    "sample_normal[:10]"
   ]
  },
  {
   "cell_type": "code",
   "execution_count": 24,
   "metadata": {},
   "outputs": [],
   "source": [
    "norm_random_variates = sts.norm(mu, sigma)"
   ]
  },
  {
   "cell_type": "code",
   "execution_count": 25,
   "metadata": {
    "colab": {
     "base_uri": "https://localhost:8080/",
     "height": 297
    },
    "id": "5Cizqtke-ltT",
    "outputId": "374ade4c-fce0-4408-e1a3-75f7949cba1b"
   },
   "outputs": [
    {
     "data": {
      "text/plain": [
       "<matplotlib.legend.Legend at 0x7f9af092f310>"
      ]
     },
     "execution_count": 25,
     "metadata": {},
     "output_type": "execute_result"
    },
    {
     "data": {
      "image/png": "[encoded data removed]",
      "text/plain": [
       "<Figure size 432x288 with 1 Axes>"
      ]
     },
     "metadata": {
      "needs_background": "light"
     },
     "output_type": "display_data"
    }
   ],
   "source": [
    "# Нарисуем функцию распределения: теоретическую и эмпирическую, составленную по выборке\n",
    "\n",
    "# теоретическая функция распределения cdf - cumulative density function\n",
    "x = np.linspace(-5,5, 100)\n",
    "cdf = norm_random_variates.cdf(x)\n",
    "plt.plot(x, cdf, label='теоретическая Ф(x) ')\n",
    "\n",
    "# 'эмпирическая функция распределения\n",
    "F = ECDF(sample_normal)\n",
    "plt.step(F.x,F.y, label='эмпирическая, F(x)')\n",
    "\n",
    "plt.ylabel('$Ф(x)$')\n",
    "plt.xlabel('$x$')\n",
    "plt.legend(loc='upper left')"
   ]
  },
  {
   "cell_type": "code",
   "execution_count": 26,
   "metadata": {},
   "outputs": [
    {
     "data": {
      "text/plain": [
       "Text(0.5, 0, '$x$')"
      ]
     },
     "execution_count": 26,
     "metadata": {},
     "output_type": "execute_result"
    },
    {
     "data": {
      "image/png": "[encoded data removed]",
      "text/plain": [
       "<Figure size 432x288 with 1 Axes>"
      ]
     },
     "metadata": {
      "needs_background": "light"
     },
     "output_type": "display_data"
    }
   ],
   "source": [
    "plt.hist(sample_normal, bins=20, density=True)\n",
    "plt.ylabel('частота встречаемости значений')\n",
    "plt.xlabel('$x$')"
   ]
  },
  {
   "cell_type": "markdown",
   "metadata": {},
   "source": [
    "#### Возьмем n побольше"
   ]
  },
  {
   "cell_type": "code",
   "execution_count": 27,
   "metadata": {},
   "outputs": [],
   "source": [
    "n = 100000\n",
    "# Сгенерируем выборку из нормального распределения\n",
    "sample_normal = np.random.normal(mu, sigma, n)"
   ]
  },
  {
   "cell_type": "code",
   "execution_count": 28,
   "metadata": {},
   "outputs": [
    {
     "data": {
      "text/plain": [
       "<matplotlib.legend.Legend at 0x7f9ac10fb700>"
      ]
     },
     "execution_count": 28,
     "metadata": {},
     "output_type": "execute_result"
    },
    {
     "data": {
      "image/png": "[encoded data removed]",
      "text/plain": [
       "<Figure size 432x288 with 1 Axes>"
      ]
     },
     "metadata": {
      "needs_background": "light"
     },
     "output_type": "display_data"
    }
   ],
   "source": [
    "# теоретическая функция распределения cdf - cumulative density function\n",
    "x = np.linspace(-5,5, 100)\n",
    "cdf = norm_random_variates.cdf(x)\n",
    "plt.plot(x, cdf, label='теоретическая Ф(x) ')\n",
    "\n",
    "# 'эмпирическая функция распределения\n",
    "F = ECDF(sample_normal)\n",
    "plt.step(F.x,F.y, label='эмпирическая, F(x)')\n",
    "\n",
    "plt.ylabel('$Ф(x)$')\n",
    "plt.xlabel('$x$')\n",
    "plt.legend(loc='upper left')"
   ]
  },
  {
   "cell_type": "code",
   "execution_count": 29,
   "metadata": {
    "colab": {
     "base_uri": "https://localhost:8080/",
     "height": 297
    },
    "id": "gsjlG6WF-ltT",
    "outputId": "61998024-332e-4a3e-eb4a-0a4f982b934b"
   },
   "outputs": [
    {
     "data": {
      "text/plain": [
       "Text(0.5, 0, '$x$')"
      ]
     },
     "execution_count": 29,
     "metadata": {},
     "output_type": "execute_result"
    },
    {
     "data": {
      "image/png": "[encoded data removed]",
      "text/plain": [
       "<Figure size 432x288 with 1 Axes>"
      ]
     },
     "metadata": {
      "needs_background": "light"
     },
     "output_type": "display_data"
    }
   ],
   "source": [
    "# Построим гистограмму\n",
    "plt.hist(sample_normal, bins=100, density=True)\n",
    "plt.ylabel('частота встречаемости значений')\n",
    "plt.xlabel('$x$')"
   ]
  },
  {
   "cell_type": "markdown",
   "metadata": {
    "id": "sk00A_tW-ltT"
   },
   "source": [
    "*Плотностью распределения* называется производная от функции распределения: $f(x)=F'(x)$"
   ]
  },
  {
   "cell_type": "code",
   "execution_count": 30,
   "metadata": {
    "colab": {
     "base_uri": "https://localhost:8080/",
     "height": 297
    },
    "id": "V_ryK0iU-ltT",
    "outputId": "edfd2913-d1dd-4af1-8969-e3c8ba7b5f3a"
   },
   "outputs": [
    {
     "data": {
      "text/plain": [
       "Text(0.5, 0, '$x$')"
      ]
     },
     "execution_count": 30,
     "metadata": {},
     "output_type": "execute_result"
    },
    {
     "data": {
      "image/png": "[encoded data removed]",
      "text/plain": [
       "<Figure size 432x288 with 1 Axes>"
      ]
     },
     "metadata": {
      "needs_background": "light"
     },
     "output_type": "display_data"
    }
   ],
   "source": [
    "# Нарисуем плотность распределения: теоретическую и эмпирическую, составленную по выборке\n",
    "\n",
    "# эмпирическая, построенная по выборке с помощью ядерного сглаживания - KDE, Kernel Density Estimation \n",
    "# используем библиотеку Pandas:\n",
    "df = pd.DataFrame(sample_normal, columns=['KDE'])\n",
    "ax = df.plot(kind='density')\n",
    "\n",
    "# теоретическая плотность - pdf probability density function\n",
    "x = np.linspace(-5,5,100)\n",
    "pdf = norm_random_variates.pdf(x)\n",
    "plt.plot(x, pdf, label='теоретическая плотность распределения', alpha=0.5)\n",
    "plt.legend()\n",
    "plt.ylabel('$f(x)$')\n",
    "plt.xlabel('$x$')"
   ]
  },
  {
   "cell_type": "markdown",
   "metadata": {
    "id": "HDM5122Y-ltT"
   },
   "source": [
    "<a id='ci'></a>\n",
    "## Нахождение доверительных интервалов"
   ]
  },
  {
   "cell_type": "markdown",
   "metadata": {
    "id": "o7eMgeIAE_AH"
   },
   "source": [
    "Предварительно сделаем несколько упражнений"
   ]
  },
  {
   "cell_type": "markdown",
   "metadata": {
    "id": "9GYT1KTX-ltU"
   },
   "source": [
    "*Упр. 1*\n",
    "\n",
    "Найдем, левее какого числа находится 95% значений нормально распределенной случайной величины с $\\mu=0$ и $\\sigma=1$, т.е. 95-ю квантиль"
   ]
  },
  {
   "cell_type": "code",
   "execution_count": 31,
   "metadata": {
    "colab": {
     "base_uri": "https://localhost:8080/"
    },
    "id": "gcM33qbj-ltU",
    "outputId": "ea9a1d31-0593-4673-9b3e-f739713f82d2"
   },
   "outputs": [
    {
     "data": {
      "text/plain": [
       "1.6448536269514722"
      ]
     },
     "execution_count": 31,
     "metadata": {},
     "output_type": "execute_result"
    }
   ],
   "source": [
    "mu=0\n",
    "sigma=1\n",
    "sts.norm(mu, sigma).ppf(0.95)"
   ]
  },
  {
   "cell_type": "markdown",
   "metadata": {
    "id": "qfP7k_ln-ltU"
   },
   "source": [
    "*Упр. 2*\n",
    "\n",
    "Выполним обратную операцию, убедимся, что вероятность принять значения, меньшие чем 1.6448536269514722, равна 95%\n"
   ]
  },
  {
   "cell_type": "code",
   "execution_count": 32,
   "metadata": {
    "colab": {
     "base_uri": "https://localhost:8080/"
    },
    "id": "27ur6Cp--ltU",
    "outputId": "570f1591-29dc-49b9-a4ce-c255a0c20dd3"
   },
   "outputs": [
    {
     "data": {
      "text/plain": [
       "0.95"
      ]
     },
     "execution_count": 32,
     "metadata": {},
     "output_type": "execute_result"
    }
   ],
   "source": [
    "sts.norm(mu, sigma).cdf(1.644853626951472)"
   ]
  },
  {
   "cell_type": "markdown",
   "metadata": {
    "id": "9tq7k135-ltU"
   },
   "source": [
    "*Упр. 3*\n",
    "\n",
    "Пользуясь формулой $P(a\\le X<b)=F(b)-F(a)$ определим вероятность того, что нормально распределенная случайная величина с $\\mu=0$  $\\sigma=1$ примет значения $x \\in [2;3]$ "
   ]
  },
  {
   "cell_type": "code",
   "execution_count": 33,
   "metadata": {
    "colab": {
     "base_uri": "https://localhost:8080/"
    },
    "id": "IPHQDCwC-ltU",
    "outputId": "cb67b7f0-c353-44eb-ae58-fa790ae69857"
   },
   "outputs": [
    {
     "name": "stdout",
     "output_type": "stream",
     "text": [
      "0.021400233916549105\n"
     ]
    }
   ],
   "source": [
    "P=sts.norm(mu, sigma).cdf(3)-sts.norm(mu, sigma).cdf(2)\n",
    "print(P)"
   ]
  },
  {
   "cell_type": "markdown",
   "metadata": {
    "id": "IXiHPkHP-ltV"
   },
   "source": [
    "На практике приходится решать и обратную задачу - находить, в каких границах  могут находиться с заданной вероятностью (\"надежностью\") значения случайной величины."
   ]
  },
  {
   "cell_type": "markdown",
   "metadata": {
    "id": "JO8Ia9nR-ltV"
   },
   "source": [
    "**Доверительным** называют интервал, который покрывает неизвестный параметр с заданной надёжностью.\n",
    "\n",
    "В дальнейшем нам нужно будет находить доверительный интервал для математического ожидания  нормально распределенной случайной величины с надежностью $\\gamma$. "
   ]
  },
  {
   "cell_type": "markdown",
   "metadata": {
    "id": "8dQsIOIS-ltV"
   },
   "source": [
    "*Теория. *\n",
    "\n",
    "\n",
    "В теории при небольших объемах данных такой интервал можно найти из формулы:\n",
    "$${P}\\left( {\\bar X}-t_{\\frac{1+\\gamma}{2},n-1}\\cdot \\frac{S}{\\sqrt{n}}\\le \\mu\\le {\\bar X}+t_{\\frac{1+\\gamma}{2},n-1}\\cdot \\frac{S}{\\sqrt{n}}\\right)=\\gamma, $$\n",
    "где $t_{\\alpha,n-1}$ -- $\\alpha$-квантили распределения Стьюдента, т.е. распределения случайой величины $T=\\frac{{\\bar X}-\\mu}{S\\,/\\,\\sqrt{n}}$, а $S$ -- несмещеное выборочное стандартное отклонение.\n",
    "\n",
    "При больших объемах и/или известном стандартном отклонении математического ожидания вместо распределения Стьюдента используется нормальное распределение, и\n",
    "\n",
    "$${P}\\left( {\\bar X}-z_{\\frac{1+\\gamma}{2}}\\cdot \\frac{\\sigma}{\\sqrt{n}}\\le \\mu\\le {\\bar X}+z_{\\frac{1+\\gamma}{2}}\\cdot \\frac{\\sigma}{\\sqrt{n}}\\right)=\\gamma, $$\n",
    "где $z_{\\alpha}$ -- $\\alpha$-квантили стандартного нормального распределения, т.е. распределения случайной величины $Z=\\frac{{\\bar X}-\\mu}{\\sigma\\,/\\,\\sqrt{n}}$, а $S$ -- известное стандартное отклонение."
   ]
  },
  {
   "cell_type": "markdown",
   "metadata": {},
   "source": [
    "Возьмем выборку из распределения бернулли"
   ]
  },
  {
   "cell_type": "code",
   "execution_count": 34,
   "metadata": {},
   "outputs": [],
   "source": [
    "random_ber = np.random.randint(2, size=50)"
   ]
  },
  {
   "cell_type": "markdown",
   "metadata": {},
   "source": [
    "#### Доверительный интервал на основе нормального распределения\n",
    "\n",
    "$$\\hat{p}\\pm z_{1-\\frac{\\alpha}{2}} \\sqrt{\\frac{\\hat{p}\\left(1-\\hat{p}\\right)}{n}}$$"
   ]
  },
  {
   "cell_type": "code",
   "execution_count": 35,
   "metadata": {},
   "outputs": [],
   "source": [
    "from statsmodels.stats.proportion import proportion_confint"
   ]
  },
  {
   "cell_type": "code",
   "execution_count": 36,
   "metadata": {},
   "outputs": [],
   "source": [
    "def normal_int(random_ber):\n",
    "    \n",
    "    s = random_ber.sum()\n",
    "    n = len(random_ber)\n",
    "    \n",
    "    normal_interval = proportion_confint(s, n, method = 'normal', alpha = 0.05)\n",
    "    return np.array(normal_interval)\n",
    "\n",
    "def normal_int_custom(random_ber):\n",
    "    \n",
    "    s = random_ber.sum()\n",
    "    n = len(random_ber)\n",
    "    z_alpha = 1.959964\n",
    "    \n",
    "    p_hat = # your code here\n",
    "    half_int = # your code here\n",
    "    return np.array([p_hat - half_int, p_hat + half_int]) # your code here"
   ]
  },
  {
   "cell_type": "code",
   "execution_count": 37,
   "metadata": {},
   "outputs": [],
   "source": [
    "assert np.allclose(normal_int(random_ber), normal_int_custom(random_ber))"
   ]
  },
  {
   "cell_type": "code",
   "execution_count": 38,
   "metadata": {},
   "outputs": [
    {
     "name": "stdout",
     "output_type": "stream",
     "text": [
      "[0.01597423 0.58402577]\n",
      "[0.30398177 0.49601823]\n",
      "[0.4550224 0.5169776]\n",
      "[0.48820026 0.50779974]\n"
     ]
    }
   ],
   "source": [
    "for size in [10, 100, 1000, 10000]:\n",
    "    random_ber = np.random.randint(2, size=size)\n",
    "    print(normal_int(random_ber))"
   ]
  },
  {
   "cell_type": "markdown",
   "metadata": {},
   "source": [
    "#### Доверительный интервал Уилсона (лучше, для средних значений близких к 0 и 1)\n",
    "\n",
    "$$\\frac1{ 1 + \\frac{z^2}{n} } \\left( \\hat{p} + \\frac{z^2}{2n} \\pm z \\sqrt{ \\frac{ \\hat{p}\\left(1-\\hat{p}\\right)}{n} + \\frac{\n",
    "z^2}{4n^2} } \\right), \\;\\; z \\equiv z_{1-\\frac{\\alpha}{2}}$$ "
   ]
  },
  {
   "cell_type": "code",
   "execution_count": 39,
   "metadata": {},
   "outputs": [],
   "source": [
    "p = 0.9\n",
    "random_ber = np.random.choice(2, size=1000, p=[1.-p, p])"
   ]
  },
  {
   "cell_type": "code",
   "execution_count": 40,
   "metadata": {},
   "outputs": [],
   "source": [
    "def wilson_int(random_ber):\n",
    "    \n",
    "    s = random_ber.sum()\n",
    "    n = len(random_ber)\n",
    "    \n",
    "    normal_interval = proportion_confint(s, n, method = 'wilson', alpha = 0.05)\n",
    "    return np.array(normal_interval)\n",
    "\n",
    "def wilson_int_custom(random_ber):\n",
    "    \n",
    "    s = random_ber.sum()\n",
    "    n = len(random_ber)\n",
    "    z_alpha = 1.959964\n",
    "    \n",
    "    p_hat = # your code here\n",
    "    \n",
    "    half_int = # your code here\n",
    "    \n",
    "    return 1/(1 + z_alpha*z_alpha/n)*np.array([p_hat + z_alpha**2/(2*n) - half_int, \n",
    "                                               p_hat + z_alpha**2/(2*n) + half_int])"
   ]
  },
  {
   "cell_type": "code",
   "execution_count": 41,
   "metadata": {},
   "outputs": [
    {
     "name": "stdout",
     "output_type": "stream",
     "text": [
      "[0.89282775 0.928019  ]\n",
      "[0.89287878 0.92796797]\n"
     ]
    }
   ],
   "source": [
    "print(wilson_int(random_ber))\n",
    "print(wilson_int_custom(random_ber))"
   ]
  },
  {
   "cell_type": "code",
   "execution_count": 42,
   "metadata": {},
   "outputs": [],
   "source": [
    "assert np.allclose(wilson_int(random_ber), wilson_int_custom(random_ber), atol=1e-4)"
   ]
  },
  {
   "cell_type": "code",
   "execution_count": 43,
   "metadata": {},
   "outputs": [
    {
     "name": "stdout",
     "output_type": "stream",
     "text": [
      "[0.59584997 0.98212379] [0.71406149 1.        ]\n",
      "[0.86250485 0.96568074] [0.8799921 0.9800079]\n",
      "[0.88632685 0.92256583] [0.8879126 0.9240874]\n",
      "[0.89909657 0.91059239] [0.89925309 0.91074691]\n"
     ]
    }
   ],
   "source": [
    "p = 0.9\n",
    "\n",
    "for size in [10, 100, 1000, 10000]:\n",
    "    random_ber = np.random.choice(2, size=size, p=[1.-p, p])\n",
    "    print(wilson_int(random_ber), normal_int(random_ber))"
   ]
  },
  {
   "cell_type": "markdown",
   "metadata": {},
   "source": [
    "### Размер выборки для интервала заданной ширины"
   ]
  },
  {
   "cell_type": "code",
   "execution_count": 44,
   "metadata": {},
   "outputs": [],
   "source": [
    "from statsmodels.stats.proportion import samplesize_confint_proportion"
   ]
  },
  {
   "cell_type": "code",
   "execution_count": 45,
   "metadata": {},
   "outputs": [
    {
     "data": {
      "text/plain": [
       "9604"
      ]
     },
     "execution_count": 45,
     "metadata": {},
     "output_type": "execute_result"
    }
   ],
   "source": [
    "half_int = 0.01\n",
    "\n",
    "n_samples = int(np.ceil(samplesize_confint_proportion(0.5, half_int)))\n",
    "n_samples"
   ]
  },
  {
   "cell_type": "code",
   "execution_count": 46,
   "metadata": {},
   "outputs": [],
   "source": [
    "s_start, s_end = proportion_confint(np.random.randint(2, size=n_samples).sum(), \n",
    "                                    n_samples, method = 'normal', alpha = 0.05)"
   ]
  },
  {
   "cell_type": "code",
   "execution_count": 47,
   "metadata": {},
   "outputs": [],
   "source": [
    "assert np.allclose((s_end-s_start)/2, half_int, atol=1e-6)"
   ]
  },
  {
   "cell_type": "markdown",
   "metadata": {},
   "source": [
    "### Доверительный интервал для разности долей (независимые выборки)\n",
    "  \n",
    "$$ \\hat{p}_1 = \\frac{a}{n_1}$$\n",
    "\n",
    "$$ \\hat{p}_2 = \\frac{b}{n_2}$$\n",
    "\n",
    "\n",
    "$$\\text{Доверительный интервал для }p_1 - p_2\\colon \\;\\; \\hat{p}_1 - \\hat{p}_2 \\pm z_{1-\\frac{\\alpha}{2}}\\sqrt{\\frac{\\hat{p}_1(1 - \\hat{p}_1)}{n_1} + \\frac{\\hat{p}_2(1 - \\hat{p}_2)}{n_2}}$$"
   ]
  },
  {
   "cell_type": "code",
   "execution_count": 48,
   "metadata": {},
   "outputs": [],
   "source": [
    "import scipy"
   ]
  },
  {
   "cell_type": "code",
   "execution_count": 49,
   "metadata": {},
   "outputs": [],
   "source": [
    "p_a, p_b = 0.9, 0.8\n",
    "\n",
    "test_a = np.random.choice(2, size=200, p=[1.-p_a, p_a])\n",
    "test_b = np.random.choice(2, size=500, p=[1.-p_b, p_b])"
   ]
  },
  {
   "cell_type": "code",
   "execution_count": 50,
   "metadata": {},
   "outputs": [
    {
     "name": "stdout",
     "output_type": "stream",
     "text": [
      "confidence interval: [0.099534, 0.196466]\n"
     ]
    }
   ],
   "source": [
    "def proportions_confint_diff_ind(sample1, sample2, alpha = 0.05):\n",
    "    \n",
    "    z = scipy.stats.norm.ppf(1 - alpha / 2.)   \n",
    "    p1 = np.mean(sample1)\n",
    "    p2 = np.mean(sample2)\n",
    "    \n",
    "    half_int = z * np.sqrt(p1 * (1 - p1)/ len(sample1) + p2 * (1 - p2)/ len(sample2))\n",
    "    \n",
    "    left_boundary = (p1 - p2) - half_int\n",
    "    right_boundary = (p1 - p2) + half_int\n",
    "    \n",
    "    return left_boundary, right_boundary\n",
    "\n",
    "print(\"confidence interval: [%f, %f]\" % proportions_confint_diff_ind(test_a, test_b))"
   ]
  },
  {
   "cell_type": "code",
   "execution_count": 51,
   "metadata": {},
   "outputs": [
    {
     "data": {
      "text/plain": [
       "(0.09953408921718804, 0.19646591078281178)"
      ]
     },
     "execution_count": 51,
     "metadata": {},
     "output_type": "execute_result"
    }
   ],
   "source": [
    "proportions_confint_diff_ind(test_a, test_b)"
   ]
  },
  {
   "cell_type": "markdown",
   "metadata": {},
   "source": [
    "Не надо забывать о правильной интерпретации доверительного интервала. У нас есть истинная статистика из генеральной совокупности, когда мы строим доверительный интервал, он всегда либо содержит истинное значение, либо не содержит -- вероятности там нет. Однако если мы возьмем много подвыборок и по каждой построим доверительный интервал, то истинное значение попадет в такие интервалы в 95% случаев.\n",
    "\n"
   ]
  },
  {
   "cell_type": "markdown",
   "metadata": {},
   "source": [
    "Покажем, что так и есть на практике"
   ]
  },
  {
   "cell_type": "code",
   "execution_count": 52,
   "metadata": {},
   "outputs": [],
   "source": [
    "p_a, p_b = 0.9, 0.8\n",
    "p_diff = 0.1\n",
    "N = 1000\n",
    "\n",
    "p_in_interval = np.zeros(N)\n",
    "\n",
    "for i in range(N):\n",
    "    test_a = np.random.choice(2, size=10000, p=[1.-p_a, p_a])\n",
    "    test_b = np.random.choice(2, size=10000, p=[1.-p_b, p_b])\n",
    "    l_b, r_b = proportions_confint_diff_ind(test_a, test_b)\n",
    "    \n",
    "    if l_b <= p_diff <= r_b:\n",
    "        p_in_interval[i] = 1."
   ]
  },
  {
   "cell_type": "code",
   "execution_count": 53,
   "metadata": {},
   "outputs": [
    {
     "data": {
      "text/plain": [
       "0.953"
      ]
     },
     "execution_count": 53,
     "metadata": {},
     "output_type": "execute_result"
    }
   ],
   "source": [
    "p_in_interval.mean()"
   ]
  },
  {
   "cell_type": "markdown",
   "metadata": {},
   "source": [
    "[Прикольная визуализация](https://rpsychologist.com/d3/ci/), если еще хочется посмотреть на то, что такое доверительный интервал"
   ]
  },
  {
   "cell_type": "markdown",
   "metadata": {},
   "source": [
    "# Проверка гипотез"
   ]
  },
  {
   "cell_type": "markdown",
   "metadata": {},
   "source": [
    "P-value\n",
    "![title](https://upload.wikimedia.org/wikipedia/commons/thumb/3/3a/P-value_in_statistical_significance_testing.svg/474px-P-value_in_statistical_significance_testing.svg.png)"
   ]
  },
  {
   "cell_type": "markdown",
   "metadata": {},
   "source": [
    "### Критерии Стьюдента\n",
    "\n",
    "Работает для тех значений, которые распределены нормально\n",
    "\n",
    "Нужно проверить на нормальность:\n",
    "- q-q plot\n",
    "- Критерий Шапиро-Уилка: (гипотеза о нормальности распределения)"
   ]
  },
  {
   "cell_type": "code",
   "execution_count": 54,
   "metadata": {},
   "outputs": [
    {
     "name": "stdout",
     "output_type": "stream",
     "text": [
      "Populating the interactive namespace from numpy and matplotlib\n"
     ]
    },
    {
     "name": "stderr",
     "output_type": "stream",
     "text": [
      "/Users/dchesakov/opt/anaconda3/lib/python3.8/site-packages/IPython/core/magics/pylab.py:159: UserWarning: pylab import has clobbered these variables: ['sample', 'random', 'size']\n",
      "`%matplotlib` prevents importing * from pylab and numpy\n",
      "  warn(\"pylab import has clobbered these variables: %s\"  % clobbered +\n"
     ]
    }
   ],
   "source": [
    "from scipy import stats\n",
    "%pylab inline"
   ]
  },
  {
   "cell_type": "code",
   "execution_count": 55,
   "metadata": {},
   "outputs": [],
   "source": [
    "test_norm = np.random.normal(size=5000)\n",
    "test_exp = np.random.exponential(size=5000)"
   ]
  },
  {
   "cell_type": "code",
   "execution_count": 56,
   "metadata": {},
   "outputs": [
    {
     "data": {
      "image/png": "[encoded data removed]",
      "text/plain": [
       "<Figure size 432x288 with 1 Axes>"
      ]
     },
     "metadata": {
      "needs_background": "light"
     },
     "output_type": "display_data"
    }
   ],
   "source": [
    "plt.hist(test_norm, bins=100)\n",
    "plt.show()"
   ]
  },
  {
   "cell_type": "code",
   "execution_count": 57,
   "metadata": {},
   "outputs": [
    {
     "data": {
      "image/png": "[encoded data removed]",
      "text/plain": [
       "<Figure size 432x288 with 1 Axes>"
      ]
     },
     "metadata": {
      "needs_background": "light"
     },
     "output_type": "display_data"
    }
   ],
   "source": [
    "plt.hist(test_exp, bins=100)\n",
    "plt.show()"
   ]
  },
  {
   "cell_type": "code",
   "execution_count": 58,
   "metadata": {},
   "outputs": [
    {
     "data": {
      "image/png": "[encoded data removed]",
      "text/plain": [
       "<Figure size 432x288 with 1 Axes>"
      ]
     },
     "metadata": {
      "needs_background": "light"
     },
     "output_type": "display_data"
    }
   ],
   "source": [
    "stats.probplot(test_norm, dist =\"norm\", plot = pylab)\n",
    "pylab.show()"
   ]
  },
  {
   "cell_type": "code",
   "execution_count": 59,
   "metadata": {},
   "outputs": [
    {
     "data": {
      "image/png": "[encoded data removed]",
      "text/plain": [
       "<Figure size 432x288 with 1 Axes>"
      ]
     },
     "metadata": {
      "needs_background": "light"
     },
     "output_type": "display_data"
    }
   ],
   "source": [
    "stats.probplot(test_exp, dist=\"norm\", plot = pylab)\n",
    "pylab.show()"
   ]
  },
  {
   "cell_type": "code",
   "execution_count": 60,
   "metadata": {},
   "outputs": [
    {
     "name": "stdout",
     "output_type": "stream",
     "text": [
      "Shapiro-Wilk normality test, W-statistic: 0.999522, p-value: 0.248571\n"
     ]
    }
   ],
   "source": [
    "print(\"Shapiro-Wilk normality test, W-statistic: %f, p-value: %f\" % stats.shapiro(test_norm))"
   ]
  },
  {
   "cell_type": "code",
   "execution_count": 61,
   "metadata": {},
   "outputs": [
    {
     "name": "stdout",
     "output_type": "stream",
     "text": [
      "Shapiro-Wilk normality test, W-statistic: 0.818700, p-value: 0.000000\n"
     ]
    }
   ],
   "source": [
    "print(\"Shapiro-Wilk normality test, W-statistic: %f, p-value: %f\" % stats.shapiro(test_exp))"
   ]
  },
  {
   "cell_type": "markdown",
   "metadata": {},
   "source": [
    "### а) Одновыборочный критерий Стьюдента\n",
    "\n",
    "$H_0\\colon$ среднее значение некоторой выборки равняется заданному число\n",
    "\n",
    "$H_1\\colon$ не равно."
   ]
  },
  {
   "cell_type": "code",
   "execution_count": 62,
   "metadata": {},
   "outputs": [
    {
     "data": {
      "text/plain": [
       "Ttest_1sampResult(statistic=-0.5174292085009297, pvalue=0.6048794686324739)"
      ]
     },
     "execution_count": 62,
     "metadata": {},
     "output_type": "execute_result"
    }
   ],
   "source": [
    "import scipy\n",
    "from statsmodels.stats.weightstats import *\n",
    "\n",
    "stats.ttest_1samp(test_norm, 0.02)"
   ]
  },
  {
   "cell_type": "code",
   "execution_count": 63,
   "metadata": {},
   "outputs": [
    {
     "name": "stdout",
     "output_type": "stream",
     "text": [
      "95% confidence interval: [-0.015334, 0.040574]\n"
     ]
    }
   ],
   "source": [
    "print(\"95%% confidence interval: [%f, %f]\" % zconfint(test_norm))"
   ]
  },
  {
   "cell_type": "code",
   "execution_count": 64,
   "metadata": {},
   "outputs": [
    {
     "data": {
      "text/plain": [
       "Ttest_1sampResult(statistic=-2.6208306198741798, pvalue=0.008798134567053537)"
      ]
     },
     "execution_count": 64,
     "metadata": {},
     "output_type": "execute_result"
    }
   ],
   "source": [
    "stats.ttest_1samp(test_norm, 0.05)"
   ]
  },
  {
   "cell_type": "markdown",
   "metadata": {},
   "source": [
    "### б) Двувыборочный критерий Стьюдента\n",
    "\n",
    "$H_0\\colon$ средние значения двух выборок одинаковы\n",
    "\n",
    "$H_1\\colon$ не одинаковы."
   ]
  },
  {
   "cell_type": "code",
   "execution_count": 65,
   "metadata": {},
   "outputs": [],
   "source": [
    "test_a = np.random.normal(loc = 0.05, size=10000)\n",
    "test_b = np.random.normal(loc = 0.0, size=10000)"
   ]
  },
  {
   "cell_type": "code",
   "execution_count": 66,
   "metadata": {},
   "outputs": [
    {
     "data": {
      "image/png": "[encoded data removed]",
      "text/plain": [
       "<Figure size 432x288 with 1 Axes>"
      ]
     },
     "metadata": {
      "needs_background": "light"
     },
     "output_type": "display_data"
    }
   ],
   "source": [
    "plt.hist(test_a, bins=100, alpha = 0.3)\n",
    "plt.hist(test_b, bins=100, alpha = 0.3)\n",
    "plt.show()"
   ]
  },
  {
   "cell_type": "code",
   "execution_count": 67,
   "metadata": {},
   "outputs": [
    {
     "name": "stdout",
     "output_type": "stream",
     "text": [
      "95% confidence interval for a: [0.043288, 0.082314]\n",
      "95% confidence interval for b: [-0.007278, 0.031343]\n"
     ]
    }
   ],
   "source": [
    "print(\"95%% confidence interval for a: [%f, %f]\" % zconfint(test_a))\n",
    "print(\"95%% confidence interval for b: [%f, %f]\" % zconfint(test_b))"
   ]
  },
  {
   "cell_type": "code",
   "execution_count": 68,
   "metadata": {},
   "outputs": [
    {
     "data": {
      "text/plain": [
       "Ttest_indResult(statistic=3.624581969371949, pvalue=0.00029014723446298775)"
      ]
     },
     "execution_count": 68,
     "metadata": {},
     "output_type": "execute_result"
    }
   ],
   "source": [
    "scipy.stats.ttest_ind(test_a, test_b, equal_var=False)"
   ]
  },
  {
   "cell_type": "markdown",
   "metadata": {},
   "source": [
    "### d) Двувыборочный критерий Стьюдента для зависимых выборок\n",
    "$H_0\\colon$ средние значения двух выборок одинаковы\n",
    "\n",
    "$H_1\\colon$ не одинаковы."
   ]
  },
  {
   "cell_type": "code",
   "execution_count": 69,
   "metadata": {},
   "outputs": [],
   "source": [
    "SIZE = 10000"
   ]
  },
  {
   "cell_type": "code",
   "execution_count": 70,
   "metadata": {},
   "outputs": [],
   "source": [
    "test_ab = np.random.normal(size=SIZE)\n",
    "test_a = test_ab + np.random.normal(loc=0.5, size=SIZE)\n",
    "test_b = test_ab + np.random.normal(loc=0.5, size=SIZE)"
   ]
  },
  {
   "cell_type": "code",
   "execution_count": 71,
   "metadata": {},
   "outputs": [
    {
     "data": {
      "image/png": "[encoded data removed]",
      "text/plain": [
       "<Figure size 432x288 with 1 Axes>"
      ]
     },
     "metadata": {
      "needs_background": "light"
     },
     "output_type": "display_data"
    }
   ],
   "source": [
    "mean_list = test_a - test_b\n",
    "plt.hist(mean_list, bins=100, alpha = 0.3)\n",
    "plt.show()"
   ]
  },
  {
   "cell_type": "code",
   "execution_count": 72,
   "metadata": {},
   "outputs": [
    {
     "data": {
      "text/plain": [
       "Ttest_relResult(statistic=0.32411191449728377, pvalue=0.7458600862170525)"
      ]
     },
     "execution_count": 72,
     "metadata": {},
     "output_type": "execute_result"
    }
   ],
   "source": [
    "stats.ttest_rel(test_a, test_b)"
   ]
  },
  {
   "cell_type": "code",
   "execution_count": 73,
   "metadata": {},
   "outputs": [
    {
     "name": "stdout",
     "output_type": "stream",
     "text": [
      "95% confidence interval: [-0.023177, 0.032359]\n"
     ]
    }
   ],
   "source": [
    "print(\"95%% confidence interval: [%f, %f]\" % DescrStatsW(mean_list).tconfint_mean())"
   ]
  },
  {
   "cell_type": "markdown",
   "metadata": {},
   "source": [
    "# Непараметрические криетрии\n",
    "\n",
    "Используются, если выборки распределены ненормально"
   ]
  },
  {
   "cell_type": "markdown",
   "metadata": {},
   "source": [
    "### Двувыборочный непараметрический критерий для независимых выборок\n",
    "$H_0\\colon$ средние значения двух выборок одинаковы\n",
    "\n",
    "$H_1\\colon$  не одинаковы.\n",
    "\n",
    "### Ранговый критерий Манна-Уитни\n",
    "\n",
    "$H_0\\colon F_{X_1}(x) = F_{X_2}(x)$\n",
    "\n",
    "$H_1\\colon F_{X_1}(x) = F_{X_2}(x + \\Delta), \\Delta\\neq 0$"
   ]
  },
  {
   "cell_type": "code",
   "execution_count": 74,
   "metadata": {},
   "outputs": [],
   "source": [
    "np.random.seed(42)\n",
    "N = 10\n",
    "\n",
    "test_a = np.random.beta(2., 2., size=N)\n",
    "test_b = np.random.beta(2., 3., size=N)"
   ]
  },
  {
   "cell_type": "code",
   "execution_count": 75,
   "metadata": {},
   "outputs": [
    {
     "data": {
      "text/plain": [
       "(0.5472312733236799, 0.36687490750463303)"
      ]
     },
     "execution_count": 75,
     "metadata": {},
     "output_type": "execute_result"
    }
   ],
   "source": [
    "test_a.mean(), test_b.mean()"
   ]
  },
  {
   "cell_type": "code",
   "execution_count": 76,
   "metadata": {},
   "outputs": [
    {
     "data": {
      "image/png": "[encoded data removed]",
      "text/plain": [
       "<Figure size 432x288 with 1 Axes>"
      ]
     },
     "metadata": {
      "needs_background": "light"
     },
     "output_type": "display_data"
    }
   ],
   "source": [
    "plt.hist(test_a, bins=100, alpha=0.6)\n",
    "plt.hist(test_b, bins=100, alpha=0.6)\n",
    "plt.show()"
   ]
  },
  {
   "cell_type": "code",
   "execution_count": 77,
   "metadata": {},
   "outputs": [
    {
     "data": {
      "text/plain": [
       "Ttest_indResult(statistic=2.0495584680258787, pvalue=0.05567583433587789)"
      ]
     },
     "execution_count": 77,
     "metadata": {},
     "output_type": "execute_result"
    }
   ],
   "source": [
    "scipy.stats.ttest_ind(test_a, test_b, equal_var=False)"
   ]
  },
  {
   "cell_type": "code",
   "execution_count": 78,
   "metadata": {},
   "outputs": [
    {
     "data": {
      "text/plain": [
       "MannwhitneyuResult(statistic=26.0, pvalue=0.03783078607194352)"
      ]
     },
     "execution_count": 78,
     "metadata": {},
     "output_type": "execute_result"
    }
   ],
   "source": [
    "stats.mannwhitneyu(test_a, test_b)"
   ]
  },
  {
   "cell_type": "code",
   "execution_count": 79,
   "metadata": {},
   "outputs": [
    {
     "name": "stdout",
     "output_type": "stream",
     "text": [
      "95% confidence interval for the mean test_a: [0.415666, 0.678797]\n",
      "95% confidence interval for the mean test_b: [0.255353, 0.478397]\n"
     ]
    }
   ],
   "source": [
    "print('95%% confidence interval for the mean test_a: [%f, %f]' % zconfint(test_a))\n",
    "print('95%% confidence interval for the mean test_b: [%f, %f]' % zconfint(test_b))"
   ]
  },
  {
   "cell_type": "markdown",
   "metadata": {
    "id": "50IIxLyU-ltW"
   },
   "source": [
    "\n",
    "<a id='ab'></a>\n",
    "##  A/B тестирование\n",
    "\n",
    "A/B-тестирование (англ. A/B testing, Split testing) — метод маркетингового исследования, суть которого заключается в том, что контрольная группа элементов сравнивается с набором тестовых групп, в которых один или несколько показателей были изменены, для того, чтобы выяснить, какие из изменений улучшают целевой показатель и улучшают ли.\n",
    "\n",
    "Типичное применение в веб-дизайне — исследование влияния цветовой схемы, расположения и размера элементов интерфейса на конверсию сайта."
   ]
  },
  {
   "cell_type": "markdown",
   "metadata": {
    "id": "JctzO1Gn-ltX"
   },
   "source": [
    "Конверсия (Conversion Rate) в интернет-маркетинге — это отношение числа посетителей сайта, выполнивших на нём какие-либо целевые действия (покупку, регистрацию, подписку, посещение определённой страницы сайта, переход по рекламной ссылке), к общему числу посетителей сайта, выраженное в процентах. \n",
    "\n",
    "\n",
    "\n",
    "В теории принципы A/B тестирования невероятно просты:\n",
    "\n",
    "- Выдвигаем предположение о том, что какое-то изменение (например, персонализация главной страницы) увеличит конверсию интернет-магазина.\n",
    "\n",
    "- Создаем альтернативную версию сайта «Б» — копию исходной версии «А» с изменениями, от которых мы ждем роста эффективности сайта.\n",
    "\n",
    "- Всех посетителей сайта случайным образом делим на две равные группы: одной группе показываем исходный вариант (контрольная группа) , второй группе (тестовой) — альтернативный. Одновременно измеряем конверсию для обеих версий сайта.\n",
    "\n",
    "- Определяем статистически достоверно победивший вариант."
   ]
  },
  {
   "cell_type": "markdown",
   "metadata": {
    "id": "UVNAqfIA-ltX"
   },
   "source": [
    "Мы будем анализировать результаты A/B тестирования двух версий дизайна кнопки сайта интернет-магазина. \n",
    "\n",
    "Целевым действием считаем клик по этой кнопке. \n",
    "\n",
    "Первые три этапа А/В тестирования за нас провели, результаты предоставили в виде файла ab_dataset.csv. Нам осталось выполнить четвертый пункт."
   ]
  },
  {
   "cell_type": "markdown",
   "metadata": {
    "id": "rQ4Gzr9o-ltX"
   },
   "source": [
    " <a id='eda'></a>\n",
    "### Первичный анализ данных"
   ]
  },
  {
   "cell_type": "markdown",
   "metadata": {
    "id": "Vo3Whc3h-ltX"
   },
   "source": [
    "Прочитаем данные из файла `ab_dataset.csv`. Сохраним их в датафрейм `df`. \n",
    "\n",
    "Прочитаем данные и посмотрим на первые 5 строк:"
   ]
  },
  {
   "cell_type": "code",
   "execution_count": 80,
   "metadata": {
    "colab": {
     "base_uri": "https://localhost:8080/",
     "height": 204
    },
    "id": "WmrvOCGt-ltX",
    "outputId": "ba6c4690-59e0-4944-d2e8-5e0d97fcc53f"
   },
   "outputs": [
    {
     "data": {
      "text/html": [
       "<div>\n",
       "<style scoped>\n",
       "    .dataframe tbody tr th:only-of-type {\n",
       "        vertical-align: middle;\n",
       "    }\n",
       "\n",
       "    .dataframe tbody tr th {\n",
       "        vertical-align: top;\n",
       "    }\n",
       "\n",
       "    .dataframe thead th {\n",
       "        text-align: right;\n",
       "    }\n",
       "</style>\n",
       "<table border=\"1\" class=\"dataframe\">\n",
       "  <thead>\n",
       "    <tr style=\"text-align: right;\">\n",
       "      <th></th>\n",
       "      <th>user_id</th>\n",
       "      <th>timestamp</th>\n",
       "      <th>group</th>\n",
       "      <th>landing_page</th>\n",
       "      <th>converted</th>\n",
       "    </tr>\n",
       "  </thead>\n",
       "  <tbody>\n",
       "    <tr>\n",
       "      <th>0</th>\n",
       "      <td>851104</td>\n",
       "      <td>2017-01-21 22:11:48.556739</td>\n",
       "      <td>control</td>\n",
       "      <td>old_page</td>\n",
       "      <td>0</td>\n",
       "    </tr>\n",
       "    <tr>\n",
       "      <th>1</th>\n",
       "      <td>804228</td>\n",
       "      <td>2017-01-12 08:01:45.159739</td>\n",
       "      <td>control</td>\n",
       "      <td>old_page</td>\n",
       "      <td>0</td>\n",
       "    </tr>\n",
       "    <tr>\n",
       "      <th>2</th>\n",
       "      <td>661590</td>\n",
       "      <td>2017-01-11 16:55:06.154213</td>\n",
       "      <td>treatment</td>\n",
       "      <td>new_page</td>\n",
       "      <td>0</td>\n",
       "    </tr>\n",
       "    <tr>\n",
       "      <th>3</th>\n",
       "      <td>853541</td>\n",
       "      <td>2017-01-08 18:28:03.143765</td>\n",
       "      <td>treatment</td>\n",
       "      <td>new_page</td>\n",
       "      <td>0</td>\n",
       "    </tr>\n",
       "    <tr>\n",
       "      <th>4</th>\n",
       "      <td>864975</td>\n",
       "      <td>2017-01-21 01:52:26.210827</td>\n",
       "      <td>control</td>\n",
       "      <td>old_page</td>\n",
       "      <td>1</td>\n",
       "    </tr>\n",
       "  </tbody>\n",
       "</table>\n",
       "</div>"
      ],
      "text/plain": [
       "   user_id                   timestamp      group landing_page  converted\n",
       "0   851104  2017-01-21 22:11:48.556739    control     old_page          0\n",
       "1   804228  2017-01-12 08:01:45.159739    control     old_page          0\n",
       "2   661590  2017-01-11 16:55:06.154213  treatment     new_page          0\n",
       "3   853541  2017-01-08 18:28:03.143765  treatment     new_page          0\n",
       "4   864975  2017-01-21 01:52:26.210827    control     old_page          1"
      ]
     },
     "execution_count": 80,
     "metadata": {},
     "output_type": "execute_result"
    }
   ],
   "source": [
    "df = pd.read_csv('ab_data.csv')\n",
    "\n",
    "df.head()"
   ]
  },
  {
   "cell_type": "markdown",
   "metadata": {
    "id": "OjE-8Ylg-ltY"
   },
   "source": [
    "Посмотрим, сколько посетителей заходио на сайт (количество строк в нашем датафрейме)"
   ]
  },
  {
   "cell_type": "code",
   "execution_count": 81,
   "metadata": {
    "colab": {
     "base_uri": "https://localhost:8080/"
    },
    "id": "jyudDfaq-ltY",
    "outputId": "c9435919-dbdf-4c45-d60b-dcb20a0f58f2"
   },
   "outputs": [
    {
     "name": "stdout",
     "output_type": "stream",
     "text": [
      "Число строк: 294478\n"
     ]
    }
   ],
   "source": [
    "#количество посетителей всего\n",
    "\n",
    "n_rows = df.shape[0]\n",
    "print(\"Число строк: {}\".format(n_rows))"
   ]
  },
  {
   "cell_type": "markdown",
   "metadata": {
    "id": "RAOG9bmL-ltY"
   },
   "source": [
    "Сколько уникальных пользователей (уникальных `user_id`) в датасете?"
   ]
  },
  {
   "cell_type": "code",
   "execution_count": 82,
   "metadata": {
    "colab": {
     "base_uri": "https://localhost:8080/"
    },
    "id": "WFa9Jd7--ltY",
    "outputId": "728d0f5c-949e-4d85-93cb-5d2a4810ae44"
   },
   "outputs": [
    {
     "name": "stdout",
     "output_type": "stream",
     "text": [
      "Число уникальных пользователей : 290584\n"
     ]
    }
   ],
   "source": [
    "user_total = df.nunique()['user_id']\n",
    "print(\"Число уникальных пользователей : {}\".format(user_total))"
   ]
  },
  {
   "cell_type": "markdown",
   "metadata": {
    "collapsed": true,
    "id": "o3N6lGi5-ltY"
   },
   "source": [
    "Посетителей из контрольной `control` группы должны были направлять на страницу в старом дизайне  `old_page` , пользователей из тестовой группы `treatment` - на страницу в новом дизайне `new_page`. Проверим, были ли ошибки при направлении."
   ]
  },
  {
   "cell_type": "code",
   "execution_count": 83,
   "metadata": {
    "colab": {
     "base_uri": "https://localhost:8080/"
    },
    "id": "BmE8wUnS-ltY",
    "outputId": "d1f3bf07-dae9-4f5d-9d9f-c05f4caf75ff"
   },
   "outputs": [
    {
     "name": "stdout",
     "output_type": "stream",
     "text": [
      "Из тестовой группы неверно направлены 1965 пользователей\n",
      "Из контрольной группы неверно направлены  1928 пользователей\n"
     ]
    }
   ],
   "source": [
    "mismatch_1 = df.query(\"group == 'treatment' and landing_page == 'old_page'\")\n",
    "print(\"Из тестовой группы неверно направлены {}\".format(len(mismatch_1)) + \" пользователей\")\n",
    "\n",
    "mismatch_2 = df.query(\"group == 'control' and landing_page == 'new_page'\")\n",
    "print(\"Из контрольной группы неверно направлены  {}\".format(len(mismatch_2)) + \" пользователей\")\n"
   ]
  },
  {
   "cell_type": "markdown",
   "metadata": {
    "id": "a2XyBHO6-ltY"
   },
   "source": [
    "Выясним, есть ли в данных пропуски."
   ]
  },
  {
   "cell_type": "code",
   "execution_count": 84,
   "metadata": {
    "colab": {
     "base_uri": "https://localhost:8080/"
    },
    "id": "HZeyu9Vg-ltZ",
    "outputId": "dd30978d-17ba-460a-b0d7-99d115ec0a68"
   },
   "outputs": [
    {
     "name": "stdout",
     "output_type": "stream",
     "text": [
      "<class 'pandas.core.frame.DataFrame'>\n",
      "RangeIndex: 294478 entries, 0 to 294477\n",
      "Data columns (total 5 columns):\n",
      " #   Column        Non-Null Count   Dtype \n",
      "---  ------        --------------   ----- \n",
      " 0   user_id       294478 non-null  int64 \n",
      " 1   timestamp     294478 non-null  object\n",
      " 2   group         294478 non-null  object\n",
      " 3   landing_page  294478 non-null  object\n",
      " 4   converted     294478 non-null  int64 \n",
      "dtypes: int64(2), object(3)\n",
      "memory usage: 11.2+ MB\n"
     ]
    }
   ],
   "source": [
    "df.info()"
   ]
  },
  {
   "cell_type": "markdown",
   "metadata": {
    "id": "fBYhavoY-ltZ"
   },
   "source": [
    "Из сообщений следует, что пропущенных значений нет."
   ]
  },
  {
   "cell_type": "markdown",
   "metadata": {
    "collapsed": true,
    "id": "cG8tfrF9-ltZ"
   },
   "source": [
    "Конверсия по всем посетителям"
   ]
  },
  {
   "cell_type": "code",
   "execution_count": 85,
   "metadata": {
    "colab": {
     "base_uri": "https://localhost:8080/"
    },
    "id": "p4Wtr0fr-ltZ",
    "outputId": "ec23a6bc-480f-45ed-a2a3-283acf734415"
   },
   "outputs": [
    {
     "name": "stdout",
     "output_type": "stream",
     "text": [
      "Конверсия по всем посетителям: 11.96591935560551 %\n"
     ]
    }
   ],
   "source": [
    "p_all=df['converted'].mean()\n",
    "print(\"Конверсия по всем посетителям: {} %\".format(p_all*100))"
   ]
  },
  {
   "cell_type": "code",
   "execution_count": 86,
   "metadata": {
    "colab": {
     "base_uri": "https://localhost:8080/"
    },
    "id": "PdJekzO9-ltZ",
    "outputId": "d6e30996-45d7-4855-8ae7-692db14a122f"
   },
   "outputs": [
    {
     "data": {
      "text/plain": [
       "0.11965919355605512"
      ]
     },
     "execution_count": 86,
     "metadata": {},
     "output_type": "execute_result"
    }
   ],
   "source": [
    "# можно и так:\n",
    "sum(df['converted'].values)/n_rows"
   ]
  },
  {
   "cell_type": "markdown",
   "metadata": {
    "id": "rz1RnfX_-ltZ"
   },
   "source": [
    "Давайте посмотрим на описательную статистику нашего датасета (воспользуемся функцией  `describe`) и постараемся получить ответы на следующие вопросы:\n",
    "\n",
    "- Какова вероятность клика для посетителей из контрольной группы (старый дизайн)?\n",
    "\n",
    "- Какова вероятность клика для посетителей из тестовой группы (новый дизайн кнопки)?\n",
    "\n",
    "- Каково соотношение размеров тестовой и контрольный групп? Какова вероятность, что очередной посетитель будет направлен на версию со старым дизайном? С новым дизайном?"
   ]
  },
  {
   "cell_type": "code",
   "execution_count": 87,
   "metadata": {
    "colab": {
     "base_uri": "https://localhost:8080/",
     "height": 173
    },
    "id": "cywgO088-ltZ",
    "outputId": "c8540ac3-b974-4552-e14b-5346f480e619"
   },
   "outputs": [
    {
     "data": {
      "text/html": [
       "<div>\n",
       "<style scoped>\n",
       "    .dataframe tbody tr th:only-of-type {\n",
       "        vertical-align: middle;\n",
       "    }\n",
       "\n",
       "    .dataframe tbody tr th {\n",
       "        vertical-align: top;\n",
       "    }\n",
       "\n",
       "    .dataframe thead tr th {\n",
       "        text-align: left;\n",
       "    }\n",
       "\n",
       "    .dataframe thead tr:last-of-type th {\n",
       "        text-align: right;\n",
       "    }\n",
       "</style>\n",
       "<table border=\"1\" class=\"dataframe\">\n",
       "  <thead>\n",
       "    <tr>\n",
       "      <th></th>\n",
       "      <th colspan=\"8\" halign=\"left\">user_id</th>\n",
       "      <th colspan=\"8\" halign=\"left\">converted</th>\n",
       "    </tr>\n",
       "    <tr>\n",
       "      <th></th>\n",
       "      <th>count</th>\n",
       "      <th>mean</th>\n",
       "      <th>std</th>\n",
       "      <th>min</th>\n",
       "      <th>25%</th>\n",
       "      <th>50%</th>\n",
       "      <th>75%</th>\n",
       "      <th>max</th>\n",
       "      <th>count</th>\n",
       "      <th>mean</th>\n",
       "      <th>std</th>\n",
       "      <th>min</th>\n",
       "      <th>25%</th>\n",
       "      <th>50%</th>\n",
       "      <th>75%</th>\n",
       "      <th>max</th>\n",
       "    </tr>\n",
       "    <tr>\n",
       "      <th>group</th>\n",
       "      <th></th>\n",
       "      <th></th>\n",
       "      <th></th>\n",
       "      <th></th>\n",
       "      <th></th>\n",
       "      <th></th>\n",
       "      <th></th>\n",
       "      <th></th>\n",
       "      <th></th>\n",
       "      <th></th>\n",
       "      <th></th>\n",
       "      <th></th>\n",
       "      <th></th>\n",
       "      <th></th>\n",
       "      <th></th>\n",
       "      <th></th>\n",
       "    </tr>\n",
       "  </thead>\n",
       "  <tbody>\n",
       "    <tr>\n",
       "      <th>control</th>\n",
       "      <td>147202.0</td>\n",
       "      <td>788123.098035</td>\n",
       "      <td>91278.896888</td>\n",
       "      <td>630002.0</td>\n",
       "      <td>709287.0</td>\n",
       "      <td>788053.5</td>\n",
       "      <td>867155.50</td>\n",
       "      <td>945998.0</td>\n",
       "      <td>147202.0</td>\n",
       "      <td>0.120399</td>\n",
       "      <td>0.325429</td>\n",
       "      <td>0.0</td>\n",
       "      <td>0.0</td>\n",
       "      <td>0.0</td>\n",
       "      <td>0.0</td>\n",
       "      <td>1.0</td>\n",
       "    </tr>\n",
       "    <tr>\n",
       "      <th>treatment</th>\n",
       "      <td>147276.0</td>\n",
       "      <td>787825.226283</td>\n",
       "      <td>91142.800641</td>\n",
       "      <td>630000.0</td>\n",
       "      <td>708729.5</td>\n",
       "      <td>787837.5</td>\n",
       "      <td>866693.75</td>\n",
       "      <td>945999.0</td>\n",
       "      <td>147276.0</td>\n",
       "      <td>0.118920</td>\n",
       "      <td>0.323695</td>\n",
       "      <td>0.0</td>\n",
       "      <td>0.0</td>\n",
       "      <td>0.0</td>\n",
       "      <td>0.0</td>\n",
       "      <td>1.0</td>\n",
       "    </tr>\n",
       "  </tbody>\n",
       "</table>\n",
       "</div>"
      ],
      "text/plain": [
       "            user_id                                                   \\\n",
       "              count           mean           std       min       25%   \n",
       "group                                                                  \n",
       "control    147202.0  788123.098035  91278.896888  630002.0  709287.0   \n",
       "treatment  147276.0  787825.226283  91142.800641  630000.0  708729.5   \n",
       "\n",
       "                                         converted                           \\\n",
       "                50%        75%       max     count      mean       std  min   \n",
       "group                                                                         \n",
       "control    788053.5  867155.50  945998.0  147202.0  0.120399  0.325429  0.0   \n",
       "treatment  787837.5  866693.75  945999.0  147276.0  0.118920  0.323695  0.0   \n",
       "\n",
       "                               \n",
       "           25%  50%  75%  max  \n",
       "group                          \n",
       "control    0.0  0.0  0.0  1.0  \n",
       "treatment  0.0  0.0  0.0  1.0  "
      ]
     },
     "execution_count": 87,
     "metadata": {},
     "output_type": "execute_result"
    }
   ],
   "source": [
    "df_grp = df.groupby('group')\n",
    "df_grp.describe()"
   ]
  },
  {
   "cell_type": "markdown",
   "metadata": {
    "id": "BB1aqoKD-ltZ"
   },
   "source": [
    "Ответы на остальные вопросы можно найти, например, так:"
   ]
  },
  {
   "cell_type": "code",
   "execution_count": 88,
   "metadata": {
    "colab": {
     "base_uri": "https://localhost:8080/"
    },
    "id": "2q4mHg1y-lta",
    "outputId": "2f124504-d8f9-4178-cb6c-00aea14146a7"
   },
   "outputs": [
    {
     "name": "stdout",
     "output_type": "stream",
     "text": [
      "Соотношение размеров тестовой и контрольной групп: 1.0005027105609978\n",
      "Вероятность, что новый пользователь будет направлен на версию со старым дизайном: 0.5001256460584492\n",
      "Вероятность, что новый пользователь будет направлен на версию с новым дизайном: 0.49987435394155083\n"
     ]
    }
   ],
   "source": [
    "#объем тестовой группы\n",
    "n_rows_treat = len(df[df['group'] == 'treatment'])\n",
    "\n",
    "#объем контрольной группы\n",
    "n_rows_contr = n_rows-n_rows_treat\n",
    "\n",
    "print(\"Соотношение размеров тестовой и контрольной групп: {}\".format(n_rows_treat/n_rows_contr))\n",
    "\n",
    "print(\"Вероятность, что новый пользователь будет направлен на версию со старым дизайном: {}\".format(n_rows_treat/n_rows))\n",
    "print(\"Вероятность, что новый пользователь будет направлен на версию с новым дизайном: {}\".format(n_rows_contr/n_rows))\n"
   ]
  },
  {
   "cell_type": "markdown",
   "metadata": {
    "id": "ORB7gHw3-lta"
   },
   "source": [
    "**Задание **\n",
    "\n",
    "А теперь ответьте на главный вопрос данного этапа:  выявил ли предварительный анализ, что дизайн кнопки влияет на конверсию и если да, то как именно?"
   ]
  },
  {
   "cell_type": "markdown",
   "metadata": {
    "id": "fBO2y259-lta"
   },
   "source": [
    "<a id='si'></a>\n",
    "### Статистический вывод для A/B Теста"
   ]
  },
  {
   "cell_type": "markdown",
   "metadata": {
    "id": "BiX8WZHj-lta"
   },
   "source": [
    "По нашим данным очевидно, что кликабельность старой версии выше, чем новой, и напрашивается решение оставить всё как есть.  Однако бизнес потребует обоснований для такого глобального решения, бОльших, чем \"очевидно по результатам одного эксперимента\". \n",
    "\n",
    "И такие обоснования предоставляет специально разработанная методология - статистический вывод. \n",
    "\n",
    "Статистический вывод - это переход от данных о статистической выборке (нашего датасета) к обобщениям в виде параметров генеральной совокупности с вычислением степени уверенности в справедливости этих обобщений."
   ]
  },
  {
   "cell_type": "markdown",
   "metadata": {
    "id": "vOkVOhCV-lta"
   },
   "source": [
    "Будем считать, что клик — это некоторая случайная переменная , принимающая значения 1  или 0 с вероятностями $\\theta$ и $1-\\theta$ соответственно. \n",
    "\n",
    "Применительно к нашей задаче посетитель может кликнуть на кнопку (с вероятностью $\\theta$) или не кликнуть на нее (с вероятностью, соответственно,  $1-\\theta$)"
   ]
  },
  {
   "cell_type": "markdown",
   "metadata": {
    "id": "PqV1-lnU-lta"
   },
   "source": [
    "На практике статистические заключения опираются на допущения о том, как распределены рассматриваемые случайные переменные (данные). (Даже принято преобразовывать данные с тем, чтобы они соответствовали одному из известных распределений)\n",
    "\n",
    "Распределение вероятностей — это выражение, которое определяет, какие значения будет принимать данная переменная или параметр,  и как часто будет встречаться каждое из этих значений.\n",
    "\n",
    " Наша случайная переменная — клик — имеет распределение, которое называется распределением Бернулли с параметром $\\theta$:\n",
    "$$ p(k) = \\theta^k (1 - \\theta)^{1 - k}, $$\n",
    "\n",
    "где $p(k)$ —  вероятность случайной переменной  принять значение $k$, $k \\in \\{ 0;1\\}$."
   ]
  },
  {
   "cell_type": "markdown",
   "metadata": {
    "id": "-x3YSR-B-lta"
   },
   "source": [
    "Из теории известно, что среднее значение распределения Бернулли равно $\\mu = \\theta$, а дисперсия равна $\\sigma^2 = \\theta(1 - \\theta)$. Нас интересует конверсия сайта, в рассматриваемой постановке она равна $\\theta$."
   ]
  },
  {
   "cell_type": "markdown",
   "metadata": {
    "id": "63ZFf2FT-ltb"
   },
   "source": [
    "<a id='si1'></a>\n",
    "#### Формулировка рабочей гипотезы"
   ]
  },
  {
   "cell_type": "markdown",
   "metadata": {
    "id": "76-2Q9oh-ltb"
   },
   "source": [
    "Рабочая гипотеза в нашем случае может быть сформулирована, например, так: \"Конверсия сайта со старым дизайном не меньше, чем с новым\""
   ]
  },
  {
   "cell_type": "markdown",
   "metadata": {
    "id": "UTPeiEN1-ltb"
   },
   "source": [
    "<a id='si2'></a>\n",
    "#### Формальное описание нулевой и альтернативной гипотез"
   ]
  },
  {
   "cell_type": "markdown",
   "metadata": {
    "id": "41QMxujG-ltb"
   },
   "source": [
    "$H_{0}$ : $\\theta_{new}$ <= $\\theta_{old}$ \n",
    "\n",
    "$H_{1}$ : $\\theta_{new}$ > $\\theta_{old}$ "
   ]
  },
  {
   "cell_type": "markdown",
   "metadata": {
    "id": "qyHMx20O-ltb"
   },
   "source": [
    "<a id='si1'></a>\n",
    "#### Выбор подходящего статистического теста (статистического критерия)"
   ]
  },
  {
   "cell_type": "markdown",
   "metadata": {
    "id": "qV49ZVmt-ltb"
   },
   "source": [
    "Истинные значения $\\theta_{new}$ и $\\theta_{old}$ мы найти не можем, но мы можем их сравнить. В этом помогут те самые две теоремы."
   ]
  },
  {
   "cell_type": "markdown",
   "metadata": {
    "id": "_h9hAZ18-ltc"
   },
   "source": [
    "\n",
    "\n",
    "\n",
    "\n",
    "\n",
    "На основании Закона больших чисел мы можем оценить средние значения случайных величин $\\theta_{new}$ и $\\theta_{old}$ на  генеральных совокупностях по их средним значениям на наших больших выборках."
   ]
  },
  {
   "cell_type": "markdown",
   "metadata": {
    "id": "9kDK8gEd-ltc"
   },
   "source": [
    "На основании Центральной предельной теоремы средние значения распределены нормально при больших объемах выборок."
   ]
  },
  {
   "cell_type": "markdown",
   "metadata": {
    "id": "pMT1DSIj-ltc"
   },
   "source": [
    "Чтобы выбрать для проверки наших гипотез подходящий статистический критерий, уясним задачу. Нам нужно выяснить, случайно или значимо отличаются средние значения, т.е. доли, кликнувших посетителей в контрольной и тестовой выборках."
   ]
  },
  {
   "cell_type": "markdown",
   "metadata": {
    "id": "x4saRv3C-ltc"
   },
   "source": [
    "<a id='si4'></a>\n",
    "#### Проведение вычислений. $Z$-критерий."
   ]
  },
  {
   "cell_type": "code",
   "execution_count": 679,
   "metadata": {
    "colab": {
     "base_uri": "https://localhost:8080/"
    },
    "id": "VpV4OkX2-ltc",
    "outputId": "cef54ff1-356e-4bc1-a3f0-eb14d4a1113c"
   },
   "outputs": [
    {
     "name": "stdout",
     "output_type": "stream",
     "text": [
      "Z-статистика=-1.2369217547321678,  p_value=0.8919419336512124\n"
     ]
    }
   ],
   "source": [
    "#Z-статистика\n",
    "import statsmodels.api as sm\n",
    "import statsmodels\n",
    "\n",
    "convert_contr = sum(df.query(\"group == 'control'\")['converted'])\n",
    "convert_treat = sum(df.query(\"group == 'treatment'\")['converted'])\n",
    "\n",
    "z_score, p_value = sm.stats.proportions_ztest([convert_treat, convert_contr], [n_rows_treat, n_rows_contr], \n",
    "                                              alternative='larger')\n",
    "print(\"Z-статистика={},  p_value={}\".format(z_score, p_value))\n"
   ]
  },
  {
   "cell_type": "markdown",
   "metadata": {},
   "source": [
    "#### Проведение вычислений. $T$-test."
   ]
  },
  {
   "cell_type": "code",
   "execution_count": 680,
   "metadata": {},
   "outputs": [],
   "source": [
    "t_score, p_value, _ = statsmodels.stats.weightstats.ttest_ind(df.query(\"group == 'treatment'\")['converted'],\n",
    "                                                              df.query(\"group == 'control'\")['converted'],\n",
    "                                                              alternative=\"larger\",\n",
    "                                                              usevar='unequal')"
   ]
  },
  {
   "cell_type": "code",
   "execution_count": 683,
   "metadata": {},
   "outputs": [
    {
     "name": "stdout",
     "output_type": "stream",
     "text": [
      "T-статистика=-1.236919107065096,  p_value=0.8919409489056576\n"
     ]
    }
   ],
   "source": [
    "print(\"T-статистика={},  p_value={}\".format(t_score, p_value))"
   ]
  },
  {
   "cell_type": "markdown",
   "metadata": {},
   "source": [
    "#### Проведение вычислений. $Mann–Whitney$-test."
   ]
  },
  {
   "cell_type": "code",
   "execution_count": 692,
   "metadata": {},
   "outputs": [],
   "source": [
    "w_score, p_value = scipy.stats.mannwhitneyu(df.query(\"group == 'treatment'\")['converted'], \n",
    "                         df.query(\"group == 'control'\")['converted'],\n",
    "                         alternative=\"greater\")"
   ]
  },
  {
   "cell_type": "code",
   "execution_count": 693,
   "metadata": {},
   "outputs": [
    {
     "name": "stdout",
     "output_type": "stream",
     "text": [
      "W-статистика=10823622516.0,  p_value=0.8919415509213815\n"
     ]
    }
   ],
   "source": [
    "print(\"W-статистика={},  p_value={}\".format(w_score, p_value))"
   ]
  },
  {
   "cell_type": "markdown",
   "metadata": {
    "id": "03JQLOJ2-ltd"
   },
   "source": [
    "<a id='m12'></a>\n",
    "### Ошибки первого и второго рода"
   ]
  },
  {
   "cell_type": "markdown",
   "metadata": {
    "id": "yTDRFQb3-lte"
   },
   "source": [
    "|  | | | |\n",
    "|----------|:---------|:--------|:---------|\n",
    "|  | | \tВерная гипотеза: | |\n",
    "|  |     | $H_0$   | $H_1$    |\n",
    "| Результат применения критерия: | $H_0$   |$H_0$ верно принята  |$H_0$ неверно принята (ошибка II рода)  |  \n",
    "|  |$H_1$   |$H_0$ неверно отвергнута(ошибка I рода)  | $H_0$ верно отвергнута   |\n",
    "\n"
   ]
  },
  {
   "cell_type": "markdown",
   "metadata": {
    "id": "q5HXVl1S-lte"
   },
   "source": [
    "Уровень значимости (статистическая значимость, statistical significance) $\\alpha$ - это и есть вероятность ошибки первого рода, т. е. вероятность принятия альтернативной гипотезы при условии, что на самом деле верна нулевая гипотеза. \n",
    "\n",
    "Обозначим  $\\beta$  вероятность ошибки второго рода. \n",
    "\n",
    "Величина  $1-\\beta$ называется *статистической мощностью* (statistical power) критерия. По сути мощность показывает, сколько значений, соответствующих альтернативной гипотезе, мы действительно отнесем к альтернативной гипотезе"
   ]
  },
  {
   "cell_type": "markdown",
   "metadata": {},
   "source": [
    "![asd](https://habrastorage.org/files/475/9e5/ebc/4759e5ebcfc54b11a852704017d2d8ac.png)"
   ]
  },
  {
   "cell_type": "code",
   "execution_count": null,
   "metadata": {},
   "outputs": [],
   "source": []
  },
  {
   "cell_type": "code",
   "execution_count": null,
   "metadata": {},
   "outputs": [],
   "source": []
  },
  {
   "cell_type": "code",
   "execution_count": null,
   "metadata": {},
   "outputs": [],
   "source": []
  },
  {
   "cell_type": "code",
   "execution_count": null,
   "metadata": {},
   "outputs": [],
   "source": []
  },
  {
   "cell_type": "code",
   "execution_count": null,
   "metadata": {},
   "outputs": [],
   "source": []
  }
 ],
 "metadata": {
  "kernelspec": {
   "display_name": "Python 3",
   "language": "python",
   "name": "python3"
  },
  "language_info": {
   "codemirror_mode": {
    "name": "ipython",
    "version": 3
   },
   "file_extension": ".py",
   "mimetype": "text/x-python",
   "name": "python",
   "nbconvert_exporter": "python",
   "pygments_lexer": "ipython3",
   "version": "3.8.5"
  }
 },
 "nbformat": 4,
 "nbformat_minor": 4
}
