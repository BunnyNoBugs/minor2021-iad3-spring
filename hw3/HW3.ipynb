{
  "nbformat": 4,
  "nbformat_minor": 0,
  "metadata": {
    "colab": {
      "name": "HW3.ipynb",
      "provenance": [],
      "collapsed_sections": [],
      "include_colab_link": true
    },
    "kernelspec": {
      "display_name": "Python 3",
      "name": "python3"
    },
    "language_info": {
      "name": "python"
    }
  },
  "cells": [
    {
      "cell_type": "markdown",
      "metadata": {
        "id": "view-in-github",
        "colab_type": "text"
      },
      "source": [
        "<a href=\"https://colab.research.google.com/github/BunnyNoBugs/minor2021-iad3-spring/blob/main/hw3/HW3.ipynb\" target=\"_parent\"><img src=\"https://colab.research.google.com/assets/colab-badge.svg\" alt=\"Open In Colab\"/></a>"
      ]
    },
    {
      "cell_type": "markdown",
      "metadata": {
        "id": "ExuV3ktSQYrH"
      },
      "source": [
        "# Введение"
      ]
    },
    {
      "cell_type": "markdown",
      "metadata": {
        "id": "ef6180WvQbD-"
      },
      "source": [
        "В этом задании Вы продолжите работать с данными из семинара [Articles Sharing and Reading from CI&T Deskdrop](https://www.kaggle.com/gspmoreira/articles-sharing-reading-from-cit-deskdrop)."
      ]
    },
    {
      "cell_type": "code",
      "metadata": {
        "id": "M5mH3ZolSlcm"
      },
      "source": [
        "import pandas as pd\n",
        "import numpy as np\n",
        "import math\n",
        "import torch"
      ],
      "execution_count": 2,
      "outputs": []
    },
    {
      "cell_type": "code",
      "metadata": {
        "id": "GgoASy-JA62p"
      },
      "source": [
        "if torch.cuda.is_available():\n",
        "    device = 'cuda:0'\n",
        "else:\n",
        "    device='cpu'"
      ],
      "execution_count": 3,
      "outputs": []
    },
    {
      "cell_type": "markdown",
      "metadata": {
        "id": "nSV_mxD9TciM"
      },
      "source": [
        "## Загрузка и предобработка данных"
      ]
    },
    {
      "cell_type": "markdown",
      "metadata": {
        "id": "PRQVuRvER0hd"
      },
      "source": [
        "Загрузим данные и проведем предобраотку данных как на семинаре."
      ]
    },
    {
      "cell_type": "code",
      "metadata": {
        "id": "8E837g9kQTbb"
      },
      "source": [
        "!wget -q -N https://www.dropbox.com/s/z8syrl5trawxs0n/articles.zip?dl=0 -O articles.zip\n",
        "!unzip -o -q articles.zip"
      ],
      "execution_count": 4,
      "outputs": []
    },
    {
      "cell_type": "code",
      "metadata": {
        "colab": {
          "base_uri": "https://localhost:8080/",
          "height": 378
        },
        "id": "hdM1xSchR9jt",
        "outputId": "bb55882e-4e8e-4ba5-c362-08f81dbc9c11"
      },
      "source": [
        "articles_df = pd.read_csv('articles/shared_articles.csv')\n",
        "articles_df = articles_df[articles_df['eventType'] == 'CONTENT SHARED']\n",
        "articles_df.head(2)"
      ],
      "execution_count": 5,
      "outputs": [
        {
          "output_type": "execute_result",
          "data": {
            "text/html": [
              "<div>\n",
              "<style scoped>\n",
              "    .dataframe tbody tr th:only-of-type {\n",
              "        vertical-align: middle;\n",
              "    }\n",
              "\n",
              "    .dataframe tbody tr th {\n",
              "        vertical-align: top;\n",
              "    }\n",
              "\n",
              "    .dataframe thead th {\n",
              "        text-align: right;\n",
              "    }\n",
              "</style>\n",
              "<table border=\"1\" class=\"dataframe\">\n",
              "  <thead>\n",
              "    <tr style=\"text-align: right;\">\n",
              "      <th></th>\n",
              "      <th>timestamp</th>\n",
              "      <th>eventType</th>\n",
              "      <th>contentId</th>\n",
              "      <th>authorPersonId</th>\n",
              "      <th>authorSessionId</th>\n",
              "      <th>authorUserAgent</th>\n",
              "      <th>authorRegion</th>\n",
              "      <th>authorCountry</th>\n",
              "      <th>contentType</th>\n",
              "      <th>url</th>\n",
              "      <th>title</th>\n",
              "      <th>text</th>\n",
              "      <th>lang</th>\n",
              "    </tr>\n",
              "  </thead>\n",
              "  <tbody>\n",
              "    <tr>\n",
              "      <th>1</th>\n",
              "      <td>1459193988</td>\n",
              "      <td>CONTENT SHARED</td>\n",
              "      <td>-4110354420726924665</td>\n",
              "      <td>4340306774493623681</td>\n",
              "      <td>8940341205206233829</td>\n",
              "      <td>NaN</td>\n",
              "      <td>NaN</td>\n",
              "      <td>NaN</td>\n",
              "      <td>HTML</td>\n",
              "      <td>http://www.nytimes.com/2016/03/28/business/dea...</td>\n",
              "      <td>Ethereum, a Virtual Currency, Enables Transact...</td>\n",
              "      <td>All of this work is still very early. The firs...</td>\n",
              "      <td>en</td>\n",
              "    </tr>\n",
              "    <tr>\n",
              "      <th>2</th>\n",
              "      <td>1459194146</td>\n",
              "      <td>CONTENT SHARED</td>\n",
              "      <td>-7292285110016212249</td>\n",
              "      <td>4340306774493623681</td>\n",
              "      <td>8940341205206233829</td>\n",
              "      <td>NaN</td>\n",
              "      <td>NaN</td>\n",
              "      <td>NaN</td>\n",
              "      <td>HTML</td>\n",
              "      <td>http://cointelegraph.com/news/bitcoin-future-w...</td>\n",
              "      <td>Bitcoin Future: When GBPcoin of Branson Wins O...</td>\n",
              "      <td>The alarm clock wakes me at 8:00 with stream o...</td>\n",
              "      <td>en</td>\n",
              "    </tr>\n",
              "  </tbody>\n",
              "</table>\n",
              "</div>"
            ],
            "text/plain": [
              "    timestamp  ... lang\n",
              "1  1459193988  ...   en\n",
              "2  1459194146  ...   en\n",
              "\n",
              "[2 rows x 13 columns]"
            ]
          },
          "metadata": {
            "tags": []
          },
          "execution_count": 5
        }
      ]
    },
    {
      "cell_type": "code",
      "metadata": {
        "colab": {
          "base_uri": "https://localhost:8080/",
          "height": 106
        },
        "id": "KK9wMAkvSjbk",
        "outputId": "3e3ee0eb-ef3f-4ef5-d1ce-62d0a9e12a91"
      },
      "source": [
        "interactions_df = pd.read_csv('articles/users_interactions.csv')\n",
        "interactions_df.head(2)"
      ],
      "execution_count": 6,
      "outputs": [
        {
          "output_type": "execute_result",
          "data": {
            "text/html": [
              "<div>\n",
              "<style scoped>\n",
              "    .dataframe tbody tr th:only-of-type {\n",
              "        vertical-align: middle;\n",
              "    }\n",
              "\n",
              "    .dataframe tbody tr th {\n",
              "        vertical-align: top;\n",
              "    }\n",
              "\n",
              "    .dataframe thead th {\n",
              "        text-align: right;\n",
              "    }\n",
              "</style>\n",
              "<table border=\"1\" class=\"dataframe\">\n",
              "  <thead>\n",
              "    <tr style=\"text-align: right;\">\n",
              "      <th></th>\n",
              "      <th>timestamp</th>\n",
              "      <th>eventType</th>\n",
              "      <th>contentId</th>\n",
              "      <th>personId</th>\n",
              "      <th>sessionId</th>\n",
              "      <th>userAgent</th>\n",
              "      <th>userRegion</th>\n",
              "      <th>userCountry</th>\n",
              "    </tr>\n",
              "  </thead>\n",
              "  <tbody>\n",
              "    <tr>\n",
              "      <th>0</th>\n",
              "      <td>1465413032</td>\n",
              "      <td>VIEW</td>\n",
              "      <td>-3499919498720038879</td>\n",
              "      <td>-8845298781299428018</td>\n",
              "      <td>1264196770339959068</td>\n",
              "      <td>NaN</td>\n",
              "      <td>NaN</td>\n",
              "      <td>NaN</td>\n",
              "    </tr>\n",
              "    <tr>\n",
              "      <th>1</th>\n",
              "      <td>1465412560</td>\n",
              "      <td>VIEW</td>\n",
              "      <td>8890720798209849691</td>\n",
              "      <td>-1032019229384696495</td>\n",
              "      <td>3621737643587579081</td>\n",
              "      <td>Mozilla/5.0 (Macintosh; Intel Mac OS X 10_11_2...</td>\n",
              "      <td>NY</td>\n",
              "      <td>US</td>\n",
              "    </tr>\n",
              "  </tbody>\n",
              "</table>\n",
              "</div>"
            ],
            "text/plain": [
              "    timestamp eventType  ...  userRegion  userCountry\n",
              "0  1465413032      VIEW  ...         NaN          NaN\n",
              "1  1465412560      VIEW  ...          NY           US\n",
              "\n",
              "[2 rows x 8 columns]"
            ]
          },
          "metadata": {
            "tags": []
          },
          "execution_count": 6
        }
      ]
    },
    {
      "cell_type": "code",
      "metadata": {
        "id": "5nQScdSTTzNG"
      },
      "source": [
        "interactions_df.personId = interactions_df.personId.astype(str)\n",
        "interactions_df.contentId = interactions_df.contentId.astype(str)\n",
        "articles_df.contentId = articles_df.contentId.astype(str)"
      ],
      "execution_count": 7,
      "outputs": []
    },
    {
      "cell_type": "code",
      "metadata": {
        "id": "eu6R9rDQT2P4"
      },
      "source": [
        "# зададим словарь определяющий силу взаимодействия\n",
        "event_type_strength = {\n",
        "   'VIEW': 1.0,\n",
        "   'LIKE': 2.0, \n",
        "   'BOOKMARK': 2.5, \n",
        "   'FOLLOW': 3.0,\n",
        "   'COMMENT CREATED': 4.0,  \n",
        "}\n",
        "\n",
        "interactions_df['eventStrength'] = interactions_df.eventType.apply(lambda x: event_type_strength[x])"
      ],
      "execution_count": 8,
      "outputs": []
    },
    {
      "cell_type": "markdown",
      "metadata": {
        "id": "ATO5PRRwUkQ0"
      },
      "source": [
        "Оставляем только тех пользователей, которые произамодействовали более чем с пятью статьями."
      ]
    },
    {
      "cell_type": "code",
      "metadata": {
        "colab": {
          "base_uri": "https://localhost:8080/"
        },
        "id": "d-0HoboYUBm5",
        "outputId": "3ac27888-8a4e-4011-bedf-2207c30c30e6"
      },
      "source": [
        "users_interactions_count_df = (\n",
        "    interactions_df\n",
        "    .groupby(['personId', 'contentId'])\n",
        "    .first()\n",
        "    .reset_index()\n",
        "    .groupby('personId').size())\n",
        "print('# users:', len(users_interactions_count_df))\n",
        "\n",
        "users_with_enough_interactions_df = \\\n",
        "    users_interactions_count_df[users_interactions_count_df >= 5].reset_index()[['personId']]\n",
        "print('# users with at least 5 interactions:',len(users_with_enough_interactions_df))"
      ],
      "execution_count": 9,
      "outputs": [
        {
          "output_type": "stream",
          "text": [
            "# users: 1895\n",
            "# users with at least 5 interactions: 1140\n"
          ],
          "name": "stdout"
        }
      ]
    },
    {
      "cell_type": "markdown",
      "metadata": {
        "id": "gQagI3DHUuX5"
      },
      "source": [
        "Оставляем только те взаимодействия, которые относятся к отфильтрованным пользователям."
      ]
    },
    {
      "cell_type": "code",
      "metadata": {
        "id": "34rrdGdpUFgk"
      },
      "source": [
        "interactions_from_selected_users_df = interactions_df.loc[np.in1d(interactions_df.personId,\n",
        "            users_with_enough_interactions_df)]"
      ],
      "execution_count": 10,
      "outputs": []
    },
    {
      "cell_type": "code",
      "metadata": {
        "colab": {
          "base_uri": "https://localhost:8080/"
        },
        "id": "Hd3VS_BgU9HN",
        "outputId": "97c9887f-6324-405c-d78c-af0c659b8289"
      },
      "source": [
        "print('# interactions before:', interactions_df.shape)\n",
        "print('# interactions after:', interactions_from_selected_users_df.shape)"
      ],
      "execution_count": 11,
      "outputs": [
        {
          "output_type": "stream",
          "text": [
            "# interactions before: (72312, 9)\n",
            "# interactions after: (69868, 9)\n"
          ],
          "name": "stdout"
        }
      ]
    },
    {
      "cell_type": "markdown",
      "metadata": {
        "id": "FYpRiFkQVR6B"
      },
      "source": [
        "Объединяем все взаимодействия пользователя по каждой статье и сглаживаем полученный результат, взяв от него логарифм."
      ]
    },
    {
      "cell_type": "code",
      "metadata": {
        "colab": {
          "base_uri": "https://localhost:8080/",
          "height": 195
        },
        "id": "mtPtAehKVEUu",
        "outputId": "e5b0b144-3070-49a9-d6d8-61f2ef617ac3"
      },
      "source": [
        "def smooth_user_preference(x):\n",
        "    return math.log(1+x, 2)\n",
        "    \n",
        "interactions_full_df = (\n",
        "    interactions_from_selected_users_df\n",
        "    .groupby(['personId', 'contentId']).eventStrength.sum()\n",
        "    .apply(smooth_user_preference)\n",
        "    .reset_index().set_index(['personId', 'contentId'])\n",
        ")\n",
        "interactions_full_df['last_timestamp'] = (\n",
        "    interactions_from_selected_users_df\n",
        "    .groupby(['personId', 'contentId'])['timestamp'].last()\n",
        ")\n",
        "        \n",
        "interactions_full_df = interactions_full_df.reset_index()\n",
        "interactions_full_df.head(5)"
      ],
      "execution_count": 12,
      "outputs": [
        {
          "output_type": "execute_result",
          "data": {
            "text/html": [
              "<div>\n",
              "<style scoped>\n",
              "    .dataframe tbody tr th:only-of-type {\n",
              "        vertical-align: middle;\n",
              "    }\n",
              "\n",
              "    .dataframe tbody tr th {\n",
              "        vertical-align: top;\n",
              "    }\n",
              "\n",
              "    .dataframe thead th {\n",
              "        text-align: right;\n",
              "    }\n",
              "</style>\n",
              "<table border=\"1\" class=\"dataframe\">\n",
              "  <thead>\n",
              "    <tr style=\"text-align: right;\">\n",
              "      <th></th>\n",
              "      <th>personId</th>\n",
              "      <th>contentId</th>\n",
              "      <th>eventStrength</th>\n",
              "      <th>last_timestamp</th>\n",
              "    </tr>\n",
              "  </thead>\n",
              "  <tbody>\n",
              "    <tr>\n",
              "      <th>0</th>\n",
              "      <td>-1007001694607905623</td>\n",
              "      <td>-5065077552540450930</td>\n",
              "      <td>1.000000</td>\n",
              "      <td>1470395911</td>\n",
              "    </tr>\n",
              "    <tr>\n",
              "      <th>1</th>\n",
              "      <td>-1007001694607905623</td>\n",
              "      <td>-6623581327558800021</td>\n",
              "      <td>1.000000</td>\n",
              "      <td>1487240080</td>\n",
              "    </tr>\n",
              "    <tr>\n",
              "      <th>2</th>\n",
              "      <td>-1007001694607905623</td>\n",
              "      <td>-793729620925729327</td>\n",
              "      <td>1.000000</td>\n",
              "      <td>1472834892</td>\n",
              "    </tr>\n",
              "    <tr>\n",
              "      <th>3</th>\n",
              "      <td>-1007001694607905623</td>\n",
              "      <td>1469580151036142903</td>\n",
              "      <td>1.000000</td>\n",
              "      <td>1487240062</td>\n",
              "    </tr>\n",
              "    <tr>\n",
              "      <th>4</th>\n",
              "      <td>-1007001694607905623</td>\n",
              "      <td>7270966256391553686</td>\n",
              "      <td>1.584963</td>\n",
              "      <td>1485994324</td>\n",
              "    </tr>\n",
              "  </tbody>\n",
              "</table>\n",
              "</div>"
            ],
            "text/plain": [
              "               personId             contentId  eventStrength  last_timestamp\n",
              "0  -1007001694607905623  -5065077552540450930       1.000000      1470395911\n",
              "1  -1007001694607905623  -6623581327558800021       1.000000      1487240080\n",
              "2  -1007001694607905623   -793729620925729327       1.000000      1472834892\n",
              "3  -1007001694607905623   1469580151036142903       1.000000      1487240062\n",
              "4  -1007001694607905623   7270966256391553686       1.584963      1485994324"
            ]
          },
          "metadata": {
            "tags": []
          },
          "execution_count": 12
        }
      ]
    },
    {
      "cell_type": "markdown",
      "metadata": {
        "id": "ODJYMtnNWM5w"
      },
      "source": [
        "Разобьём выборку на обучение и контроль по времени."
      ]
    },
    {
      "cell_type": "code",
      "metadata": {
        "colab": {
          "base_uri": "https://localhost:8080/",
          "height": 435
        },
        "id": "3F2CfAwoVrfo",
        "outputId": "9365e45e-fc0b-4cea-a185-1422f7d7974f"
      },
      "source": [
        "from sklearn.model_selection import train_test_split\n",
        "\n",
        "split_ts = 1475519530\n",
        "interactions_train_df = interactions_full_df.loc[interactions_full_df.last_timestamp < split_ts].copy()\n",
        "interactions_test_df = interactions_full_df.loc[interactions_full_df.last_timestamp >= split_ts].copy()\n",
        "\n",
        "print('# interactions on Train set: %d' % len(interactions_train_df))\n",
        "print('# interactions on Test set: %d' % len(interactions_test_df))\n",
        "\n",
        "interactions_train_df"
      ],
      "execution_count": 13,
      "outputs": [
        {
          "output_type": "stream",
          "text": [
            "# interactions on Train set: 29329\n",
            "# interactions on Test set: 9777\n"
          ],
          "name": "stdout"
        },
        {
          "output_type": "execute_result",
          "data": {
            "text/html": [
              "<div>\n",
              "<style scoped>\n",
              "    .dataframe tbody tr th:only-of-type {\n",
              "        vertical-align: middle;\n",
              "    }\n",
              "\n",
              "    .dataframe tbody tr th {\n",
              "        vertical-align: top;\n",
              "    }\n",
              "\n",
              "    .dataframe thead th {\n",
              "        text-align: right;\n",
              "    }\n",
              "</style>\n",
              "<table border=\"1\" class=\"dataframe\">\n",
              "  <thead>\n",
              "    <tr style=\"text-align: right;\">\n",
              "      <th></th>\n",
              "      <th>personId</th>\n",
              "      <th>contentId</th>\n",
              "      <th>eventStrength</th>\n",
              "      <th>last_timestamp</th>\n",
              "    </tr>\n",
              "  </thead>\n",
              "  <tbody>\n",
              "    <tr>\n",
              "      <th>0</th>\n",
              "      <td>-1007001694607905623</td>\n",
              "      <td>-5065077552540450930</td>\n",
              "      <td>1.0</td>\n",
              "      <td>1470395911</td>\n",
              "    </tr>\n",
              "    <tr>\n",
              "      <th>2</th>\n",
              "      <td>-1007001694607905623</td>\n",
              "      <td>-793729620925729327</td>\n",
              "      <td>1.0</td>\n",
              "      <td>1472834892</td>\n",
              "    </tr>\n",
              "    <tr>\n",
              "      <th>6</th>\n",
              "      <td>-1032019229384696495</td>\n",
              "      <td>-1006791494035379303</td>\n",
              "      <td>1.0</td>\n",
              "      <td>1469129122</td>\n",
              "    </tr>\n",
              "    <tr>\n",
              "      <th>7</th>\n",
              "      <td>-1032019229384696495</td>\n",
              "      <td>-1039912738963181810</td>\n",
              "      <td>1.0</td>\n",
              "      <td>1459376415</td>\n",
              "    </tr>\n",
              "    <tr>\n",
              "      <th>8</th>\n",
              "      <td>-1032019229384696495</td>\n",
              "      <td>-1081723567492738167</td>\n",
              "      <td>2.0</td>\n",
              "      <td>1464054093</td>\n",
              "    </tr>\n",
              "    <tr>\n",
              "      <th>...</th>\n",
              "      <td>...</td>\n",
              "      <td>...</td>\n",
              "      <td>...</td>\n",
              "      <td>...</td>\n",
              "    </tr>\n",
              "    <tr>\n",
              "      <th>39099</th>\n",
              "      <td>997469202936578234</td>\n",
              "      <td>9112765177685685246</td>\n",
              "      <td>2.0</td>\n",
              "      <td>1472479493</td>\n",
              "    </tr>\n",
              "    <tr>\n",
              "      <th>39100</th>\n",
              "      <td>998688566268269815</td>\n",
              "      <td>-1255189867397298842</td>\n",
              "      <td>1.0</td>\n",
              "      <td>1474567164</td>\n",
              "    </tr>\n",
              "    <tr>\n",
              "      <th>39101</th>\n",
              "      <td>998688566268269815</td>\n",
              "      <td>-401664538366009049</td>\n",
              "      <td>1.0</td>\n",
              "      <td>1474567449</td>\n",
              "    </tr>\n",
              "    <tr>\n",
              "      <th>39103</th>\n",
              "      <td>998688566268269815</td>\n",
              "      <td>6881796783400625893</td>\n",
              "      <td>1.0</td>\n",
              "      <td>1474567675</td>\n",
              "    </tr>\n",
              "    <tr>\n",
              "      <th>39105</th>\n",
              "      <td>998688566268269815</td>\n",
              "      <td>739747367187387064</td>\n",
              "      <td>1.0</td>\n",
              "      <td>1474567514</td>\n",
              "    </tr>\n",
              "  </tbody>\n",
              "</table>\n",
              "<p>29329 rows × 4 columns</p>\n",
              "</div>"
            ],
            "text/plain": [
              "                   personId  ... last_timestamp\n",
              "0      -1007001694607905623  ...     1470395911\n",
              "2      -1007001694607905623  ...     1472834892\n",
              "6      -1032019229384696495  ...     1469129122\n",
              "7      -1032019229384696495  ...     1459376415\n",
              "8      -1032019229384696495  ...     1464054093\n",
              "...                     ...  ...            ...\n",
              "39099    997469202936578234  ...     1472479493\n",
              "39100    998688566268269815  ...     1474567164\n",
              "39101    998688566268269815  ...     1474567449\n",
              "39103    998688566268269815  ...     1474567675\n",
              "39105    998688566268269815  ...     1474567514\n",
              "\n",
              "[29329 rows x 4 columns]"
            ]
          },
          "metadata": {
            "tags": []
          },
          "execution_count": 13
        }
      ]
    },
    {
      "cell_type": "markdown",
      "metadata": {
        "id": "h5G3FTYOXLVg"
      },
      "source": [
        "Для удобства подсчёта качества запишем данные в формате, где строка соответствует пользователю, а столбцы будут истинными метками и предсказаниями в виде списков."
      ]
    },
    {
      "cell_type": "code",
      "metadata": {
        "colab": {
          "base_uri": "https://localhost:8080/",
          "height": 106
        },
        "id": "RT-_toqfXOa2",
        "outputId": "2fdc4bd3-0b03-4db5-b8fb-74c0c74c6c3e"
      },
      "source": [
        "interactions = (\n",
        "    interactions_train_df\n",
        "    .groupby('personId')['contentId'].agg(lambda x: list(x))\n",
        "    .reset_index()\n",
        "    .rename(columns={'contentId': 'true_train'})\n",
        "    .set_index('personId')\n",
        ")\n",
        "\n",
        "interactions['true_test'] = (\n",
        "    interactions_test_df\n",
        "    .groupby('personId')['contentId'].agg(lambda x: list(x))\n",
        ")\n",
        "\n",
        "# заполнение пропусков пустыми списками\n",
        "interactions.loc[pd.isnull(interactions.true_test), 'true_test'] = [\n",
        "    list() for x in range(len(interactions.loc[pd.isnull(interactions.true_test), 'true_test']))]\n",
        "\n",
        "interactions.head(1)"
      ],
      "execution_count": 14,
      "outputs": [
        {
          "output_type": "execute_result",
          "data": {
            "text/html": [
              "<div>\n",
              "<style scoped>\n",
              "    .dataframe tbody tr th:only-of-type {\n",
              "        vertical-align: middle;\n",
              "    }\n",
              "\n",
              "    .dataframe tbody tr th {\n",
              "        vertical-align: top;\n",
              "    }\n",
              "\n",
              "    .dataframe thead th {\n",
              "        text-align: right;\n",
              "    }\n",
              "</style>\n",
              "<table border=\"1\" class=\"dataframe\">\n",
              "  <thead>\n",
              "    <tr style=\"text-align: right;\">\n",
              "      <th></th>\n",
              "      <th>true_train</th>\n",
              "      <th>true_test</th>\n",
              "    </tr>\n",
              "    <tr>\n",
              "      <th>personId</th>\n",
              "      <th></th>\n",
              "      <th></th>\n",
              "    </tr>\n",
              "  </thead>\n",
              "  <tbody>\n",
              "    <tr>\n",
              "      <th>-1007001694607905623</th>\n",
              "      <td>[-5065077552540450930, -793729620925729327]</td>\n",
              "      <td>[-6623581327558800021, 1469580151036142903, 72...</td>\n",
              "    </tr>\n",
              "  </tbody>\n",
              "</table>\n",
              "</div>"
            ],
            "text/plain": [
              "                                                       true_train                                          true_test\n",
              "personId                                                                                                            \n",
              "-1007001694607905623  [-5065077552540450930, -793729620925729327]  [-6623581327558800021, 1469580151036142903, 72..."
            ]
          },
          "metadata": {
            "tags": []
          },
          "execution_count": 14
        }
      ]
    },
    {
      "cell_type": "markdown",
      "metadata": {
        "id": "-UWDyWKsamSa"
      },
      "source": [
        "## Библиотека LightFM"
      ]
    },
    {
      "cell_type": "markdown",
      "metadata": {
        "id": "L-iXjvdZa25Z"
      },
      "source": [
        "Для рекомендации Вы будете пользоваться библиотекой [LightFM](https://making.lyst.com/lightfm/docs/home.html), в которой реализованы популярные алгоритмы. Для оценивания качества рекомендации, как и на семинаре, будем пользоваться метрикой *precision@10*."
      ]
    },
    {
      "cell_type": "code",
      "metadata": {
        "colab": {
          "base_uri": "https://localhost:8080/"
        },
        "id": "Qtyn38PZXPLf",
        "outputId": "d6e2f1ee-f033-44e9-e206-a6e188e9b6f6"
      },
      "source": [
        "!pip install lightfm\n",
        "from lightfm import LightFM\n",
        "from lightfm.evaluation import precision_at_k"
      ],
      "execution_count": 15,
      "outputs": [
        {
          "output_type": "stream",
          "text": [
            "Requirement already satisfied: lightfm in /usr/local/lib/python3.7/dist-packages (1.16)\n",
            "Requirement already satisfied: scikit-learn in /usr/local/lib/python3.7/dist-packages (from lightfm) (0.22.2.post1)\n",
            "Requirement already satisfied: numpy in /usr/local/lib/python3.7/dist-packages (from lightfm) (1.19.5)\n",
            "Requirement already satisfied: scipy>=0.17.0 in /usr/local/lib/python3.7/dist-packages (from lightfm) (1.4.1)\n",
            "Requirement already satisfied: requests in /usr/local/lib/python3.7/dist-packages (from lightfm) (2.23.0)\n",
            "Requirement already satisfied: joblib>=0.11 in /usr/local/lib/python3.7/dist-packages (from scikit-learn->lightfm) (1.0.1)\n",
            "Requirement already satisfied: urllib3!=1.25.0,!=1.25.1,<1.26,>=1.21.1 in /usr/local/lib/python3.7/dist-packages (from requests->lightfm) (1.24.3)\n",
            "Requirement already satisfied: certifi>=2017.4.17 in /usr/local/lib/python3.7/dist-packages (from requests->lightfm) (2020.12.5)\n",
            "Requirement already satisfied: idna<3,>=2.5 in /usr/local/lib/python3.7/dist-packages (from requests->lightfm) (2.10)\n",
            "Requirement already satisfied: chardet<4,>=3.0.2 in /usr/local/lib/python3.7/dist-packages (from requests->lightfm) (3.0.4)\n"
          ],
          "name": "stdout"
        }
      ]
    },
    {
      "cell_type": "markdown",
      "metadata": {
        "id": "0CjyGqulcZTf"
      },
      "source": [
        "## Задание 1. (2 балла)"
      ]
    },
    {
      "cell_type": "markdown",
      "metadata": {
        "id": "4Sof6V5Dd4h9"
      },
      "source": [
        "Модели в LightFM работают с разреженными матрицами. Создайте разреженные матрицы `data_train` и `data_test` (размером количество пользователей на количество статей), такие что на пересечении строки пользователя и столбца статьи стоит сила их взаимодействия, если взаимодействие было, и стоит ноль, если взаимодействия не было."
      ]
    },
    {
      "cell_type": "code",
      "metadata": {
        "id": "02BL5Q6wkWuc"
      },
      "source": [
        "from scipy.sparse import lil_matrix, csr_matrix"
      ],
      "execution_count": 16,
      "outputs": []
    },
    {
      "cell_type": "code",
      "metadata": {
        "id": "fnOqA4gKm9rt"
      },
      "source": [
        "users_id_to_idx = pd.DataFrame(interactions_full_df['personId'].unique(), columns=['id'])\n",
        "users_id_to_idx = users_id_to_idx.reset_index()\n",
        "users_id_to_idx = users_id_to_idx.set_index('id')\n",
        "\n",
        "articles_id_to_idx = pd.DataFrame(interactions_full_df['contentId'].unique(), columns=['id'])\n",
        "articles_id_to_idx = articles_id_to_idx.reset_index()\n",
        "articles_id_to_idx = articles_id_to_idx.set_index('id')"
      ],
      "execution_count": 17,
      "outputs": []
    },
    {
      "cell_type": "code",
      "metadata": {
        "id": "1cLZ5ga4eIdg"
      },
      "source": [
        "# Ваш код здесь\n",
        "\n",
        "n_users = len(interactions_full_df['personId'].unique())\n",
        "n_articles = len(interactions_full_df['contentId'].unique())\n",
        "\n",
        "data_train = lil_matrix((n_users, n_articles))\n",
        "data_test = lil_matrix((n_users, n_articles))"
      ],
      "execution_count": 18,
      "outputs": []
    },
    {
      "cell_type": "code",
      "metadata": {
        "id": "xXWOWVDcQnL0"
      },
      "source": [
        "for i in interactions_train_df.iterrows():\n",
        "    user_idx = users_id_to_idx.loc[i[1]['personId']]['index']\n",
        "    article_idx = articles_id_to_idx.loc[i[1]['contentId']]['index']\n",
        "    interaction_strength = i[1]['eventStrength']\n",
        "\n",
        "    data_train[user_idx, article_idx] = interaction_strength\n",
        "\n",
        "for i in interactions_test_df.iterrows():\n",
        "    user_idx = users_id_to_idx.loc[i[1]['personId']]['index']\n",
        "    article_idx = articles_id_to_idx.loc[i[1]['contentId']]['index']\n",
        "    interaction_strength = i[1]['eventStrength']\n",
        "\n",
        "    data_test[user_idx, article_idx] = interaction_strength"
      ],
      "execution_count": 19,
      "outputs": []
    },
    {
      "cell_type": "code",
      "metadata": {
        "id": "pkOcy5ZPTmUt"
      },
      "source": [
        "data_train = data_train.tocsr()\n",
        "data_test = data_test.tocsr()"
      ],
      "execution_count": 20,
      "outputs": []
    },
    {
      "cell_type": "markdown",
      "metadata": {
        "id": "AiNGVzTveRXE"
      },
      "source": [
        "## Задание 2. (1 балл)"
      ]
    },
    {
      "cell_type": "markdown",
      "metadata": {
        "id": "ZPfVK3STeryM"
      },
      "source": [
        "Обучите модель LightFM с `loss='warp'` и посчитайте *precision@10* на тесте."
      ]
    },
    {
      "cell_type": "code",
      "metadata": {
        "colab": {
          "base_uri": "https://localhost:8080/"
        },
        "id": "YFQxeHw8eVLz",
        "outputId": "5e1ab141-4561-4eb3-9254-a7b41f2c5d97"
      },
      "source": [
        "# Ваш код здесь\n",
        "model = LightFM(no_components=30, loss='warp')\n",
        "%time model.fit(data_train, epochs=4)\n",
        "print(f'Train precision: {precision_at_k(model, data_train).mean()}')\n",
        "print(f'Test precision: {precision_at_k(model, data_test).mean()}')"
      ],
      "execution_count": 21,
      "outputs": [
        {
          "output_type": "stream",
          "text": [
            "CPU times: user 229 ms, sys: 1.96 ms, total: 231 ms\n",
            "Wall time: 232 ms\n",
            "Train precision: 0.20890288054943085\n",
            "Test precision: 0.003971486818045378\n"
          ],
          "name": "stdout"
        }
      ]
    },
    {
      "cell_type": "markdown",
      "metadata": {
        "id": "qZDsG1iAfdrl"
      },
      "source": [
        "## Задание 3. (3 балла)"
      ]
    },
    {
      "cell_type": "markdown",
      "metadata": {
        "id": "F93chvtbgA9N"
      },
      "source": [
        "При вызове метода `fit` LightFM позволяет передавать в `item_features` признаковое описание объектов. Воспользуемся этим. Будем получать признаковое описание из текста статьи в виде [TF-IDF](https://ru.wikipedia.org/wiki/TF-IDF) (можно воспользоваться `TfidfVectorizer` из scikit-learn). Создайте матрицу `feat` размером количесвто статей на размер признакового описание и обучите LightFM с `loss='warp'` и посчитайте precision@10 на тесте."
      ]
    },
    {
      "cell_type": "code",
      "metadata": {
        "id": "5BVOyS4Veq5S"
      },
      "source": [
        "from sklearn.feature_extraction.text import TfidfVectorizer"
      ],
      "execution_count": 22,
      "outputs": []
    },
    {
      "cell_type": "code",
      "metadata": {
        "colab": {
          "base_uri": "https://localhost:8080/",
          "height": 1000
        },
        "id": "s5PRBy0od51M",
        "outputId": "c70ed485-9c0d-4530-b451-44c2b7b03c59"
      },
      "source": [
        "articles_content = articles_df.copy()\n",
        "articles_content = articles_content.set_index('contentId')\n",
        "articles_content['content'] = articles_content['title'] + ' ' + articles_content['text']\n",
        "articles_content"
      ],
      "execution_count": 23,
      "outputs": [
        {
          "output_type": "execute_result",
          "data": {
            "text/html": [
              "<div>\n",
              "<style scoped>\n",
              "    .dataframe tbody tr th:only-of-type {\n",
              "        vertical-align: middle;\n",
              "    }\n",
              "\n",
              "    .dataframe tbody tr th {\n",
              "        vertical-align: top;\n",
              "    }\n",
              "\n",
              "    .dataframe thead th {\n",
              "        text-align: right;\n",
              "    }\n",
              "</style>\n",
              "<table border=\"1\" class=\"dataframe\">\n",
              "  <thead>\n",
              "    <tr style=\"text-align: right;\">\n",
              "      <th></th>\n",
              "      <th>timestamp</th>\n",
              "      <th>eventType</th>\n",
              "      <th>authorPersonId</th>\n",
              "      <th>authorSessionId</th>\n",
              "      <th>authorUserAgent</th>\n",
              "      <th>authorRegion</th>\n",
              "      <th>authorCountry</th>\n",
              "      <th>contentType</th>\n",
              "      <th>url</th>\n",
              "      <th>title</th>\n",
              "      <th>text</th>\n",
              "      <th>lang</th>\n",
              "      <th>content</th>\n",
              "    </tr>\n",
              "    <tr>\n",
              "      <th>contentId</th>\n",
              "      <th></th>\n",
              "      <th></th>\n",
              "      <th></th>\n",
              "      <th></th>\n",
              "      <th></th>\n",
              "      <th></th>\n",
              "      <th></th>\n",
              "      <th></th>\n",
              "      <th></th>\n",
              "      <th></th>\n",
              "      <th></th>\n",
              "      <th></th>\n",
              "      <th></th>\n",
              "    </tr>\n",
              "  </thead>\n",
              "  <tbody>\n",
              "    <tr>\n",
              "      <th>-4110354420726924665</th>\n",
              "      <td>1459193988</td>\n",
              "      <td>CONTENT SHARED</td>\n",
              "      <td>4340306774493623681</td>\n",
              "      <td>8940341205206233829</td>\n",
              "      <td>NaN</td>\n",
              "      <td>NaN</td>\n",
              "      <td>NaN</td>\n",
              "      <td>HTML</td>\n",
              "      <td>http://www.nytimes.com/2016/03/28/business/dea...</td>\n",
              "      <td>Ethereum, a Virtual Currency, Enables Transact...</td>\n",
              "      <td>All of this work is still very early. The firs...</td>\n",
              "      <td>en</td>\n",
              "      <td>Ethereum, a Virtual Currency, Enables Transact...</td>\n",
              "    </tr>\n",
              "    <tr>\n",
              "      <th>-7292285110016212249</th>\n",
              "      <td>1459194146</td>\n",
              "      <td>CONTENT SHARED</td>\n",
              "      <td>4340306774493623681</td>\n",
              "      <td>8940341205206233829</td>\n",
              "      <td>NaN</td>\n",
              "      <td>NaN</td>\n",
              "      <td>NaN</td>\n",
              "      <td>HTML</td>\n",
              "      <td>http://cointelegraph.com/news/bitcoin-future-w...</td>\n",
              "      <td>Bitcoin Future: When GBPcoin of Branson Wins O...</td>\n",
              "      <td>The alarm clock wakes me at 8:00 with stream o...</td>\n",
              "      <td>en</td>\n",
              "      <td>Bitcoin Future: When GBPcoin of Branson Wins O...</td>\n",
              "    </tr>\n",
              "    <tr>\n",
              "      <th>-6151852268067518688</th>\n",
              "      <td>1459194474</td>\n",
              "      <td>CONTENT SHARED</td>\n",
              "      <td>3891637997717104548</td>\n",
              "      <td>-1457532940883382585</td>\n",
              "      <td>NaN</td>\n",
              "      <td>NaN</td>\n",
              "      <td>NaN</td>\n",
              "      <td>HTML</td>\n",
              "      <td>https://cloudplatform.googleblog.com/2016/03/G...</td>\n",
              "      <td>Google Data Center 360° Tour</td>\n",
              "      <td>We're excited to share the Google Data Center ...</td>\n",
              "      <td>en</td>\n",
              "      <td>Google Data Center 360° Tour We're excited to ...</td>\n",
              "    </tr>\n",
              "    <tr>\n",
              "      <th>2448026894306402386</th>\n",
              "      <td>1459194497</td>\n",
              "      <td>CONTENT SHARED</td>\n",
              "      <td>4340306774493623681</td>\n",
              "      <td>8940341205206233829</td>\n",
              "      <td>NaN</td>\n",
              "      <td>NaN</td>\n",
              "      <td>NaN</td>\n",
              "      <td>HTML</td>\n",
              "      <td>https://bitcoinmagazine.com/articles/ibm-wants...</td>\n",
              "      <td>IBM Wants to \"Evolve the Internet\" With Blockc...</td>\n",
              "      <td>The Aite Group projects the blockchain market ...</td>\n",
              "      <td>en</td>\n",
              "      <td>IBM Wants to \"Evolve the Internet\" With Blockc...</td>\n",
              "    </tr>\n",
              "    <tr>\n",
              "      <th>-2826566343807132236</th>\n",
              "      <td>1459194522</td>\n",
              "      <td>CONTENT SHARED</td>\n",
              "      <td>4340306774493623681</td>\n",
              "      <td>8940341205206233829</td>\n",
              "      <td>NaN</td>\n",
              "      <td>NaN</td>\n",
              "      <td>NaN</td>\n",
              "      <td>HTML</td>\n",
              "      <td>http://www.coindesk.com/ieee-blockchain-oxford...</td>\n",
              "      <td>IEEE to Talk Blockchain at Cloud Computing Oxf...</td>\n",
              "      <td>One of the largest and oldest organizations fo...</td>\n",
              "      <td>en</td>\n",
              "      <td>IEEE to Talk Blockchain at Cloud Computing Oxf...</td>\n",
              "    </tr>\n",
              "    <tr>\n",
              "      <th>...</th>\n",
              "      <td>...</td>\n",
              "      <td>...</td>\n",
              "      <td>...</td>\n",
              "      <td>...</td>\n",
              "      <td>...</td>\n",
              "      <td>...</td>\n",
              "      <td>...</td>\n",
              "      <td>...</td>\n",
              "      <td>...</td>\n",
              "      <td>...</td>\n",
              "      <td>...</td>\n",
              "      <td>...</td>\n",
              "      <td>...</td>\n",
              "    </tr>\n",
              "    <tr>\n",
              "      <th>9213260650272029784</th>\n",
              "      <td>1487946604</td>\n",
              "      <td>CONTENT SHARED</td>\n",
              "      <td>3609194402293569455</td>\n",
              "      <td>7144190892417579456</td>\n",
              "      <td>Mozilla/5.0 (Windows NT 10.0; WOW64) AppleWebK...</td>\n",
              "      <td>SP</td>\n",
              "      <td>BR</td>\n",
              "      <td>HTML</td>\n",
              "      <td>https://startupi.com.br/2017/02/liga-ventures-...</td>\n",
              "      <td>Conheça a Liga IoT, plataforma de inovação abe...</td>\n",
              "      <td>A Liga Ventures, aceleradora de startups espec...</td>\n",
              "      <td>pt</td>\n",
              "      <td>Conheça a Liga IoT, plataforma de inovação abe...</td>\n",
              "    </tr>\n",
              "    <tr>\n",
              "      <th>-3295913657316686039</th>\n",
              "      <td>1487947067</td>\n",
              "      <td>CONTENT SHARED</td>\n",
              "      <td>6960073744377754728</td>\n",
              "      <td>-8193630595542572738</td>\n",
              "      <td>Mozilla/5.0 (Macintosh; Intel Mac OS X 10_12_3...</td>\n",
              "      <td>GA</td>\n",
              "      <td>US</td>\n",
              "      <td>HTML</td>\n",
              "      <td>https://thenextweb.com/apps/2017/02/14/amazon-...</td>\n",
              "      <td>Amazon takes on Skype and GoToMeeting with its...</td>\n",
              "      <td>Amazon has launched Chime, a video conferencin...</td>\n",
              "      <td>en</td>\n",
              "      <td>Amazon takes on Skype and GoToMeeting with its...</td>\n",
              "    </tr>\n",
              "    <tr>\n",
              "      <th>3618271604906293310</th>\n",
              "      <td>1488223224</td>\n",
              "      <td>CONTENT SHARED</td>\n",
              "      <td>1908339160857512799</td>\n",
              "      <td>-183341653743161643</td>\n",
              "      <td>Mozilla/5.0 (Macintosh; Intel Mac OS X 10_12_0...</td>\n",
              "      <td>SP</td>\n",
              "      <td>BR</td>\n",
              "      <td>HTML</td>\n",
              "      <td>https://code.org/about/2016</td>\n",
              "      <td>Code.org 2016 Annual Report</td>\n",
              "      <td>February 9, 2017 - We begin each year with a l...</td>\n",
              "      <td>en</td>\n",
              "      <td>Code.org 2016 Annual Report February 9, 2017 -...</td>\n",
              "    </tr>\n",
              "    <tr>\n",
              "      <th>6607431762270322325</th>\n",
              "      <td>1488300719</td>\n",
              "      <td>CONTENT SHARED</td>\n",
              "      <td>-1393866732742189886</td>\n",
              "      <td>2367029511384577082</td>\n",
              "      <td>Mozilla/5.0 (X11; Linux x86_64) AppleWebKit/53...</td>\n",
              "      <td>MG</td>\n",
              "      <td>BR</td>\n",
              "      <td>HTML</td>\n",
              "      <td>https://www.bloomberg.com/news/articles/2017-0...</td>\n",
              "      <td>JPMorgan Software Does in Seconds What Took La...</td>\n",
              "      <td>At JPMorgan Chase &amp; Co., a learning machine is...</td>\n",
              "      <td>en</td>\n",
              "      <td>JPMorgan Software Does in Seconds What Took La...</td>\n",
              "    </tr>\n",
              "    <tr>\n",
              "      <th>4109618890343020064</th>\n",
              "      <td>1488307871</td>\n",
              "      <td>CONTENT SHARED</td>\n",
              "      <td>3891637997717104548</td>\n",
              "      <td>-7416795577834806518</td>\n",
              "      <td>Mozilla/5.0 (X11; Linux x86_64) AppleWebKit/53...</td>\n",
              "      <td>SP</td>\n",
              "      <td>BR</td>\n",
              "      <td>HTML</td>\n",
              "      <td>https://www.acquia.com/blog/partner/2017-acqui...</td>\n",
              "      <td>The 2017 Acquia Partners of the Year</td>\n",
              "      <td>The Acquia Partner Awards Program is comprised...</td>\n",
              "      <td>en</td>\n",
              "      <td>The 2017 Acquia Partners of the Year The Acqui...</td>\n",
              "    </tr>\n",
              "  </tbody>\n",
              "</table>\n",
              "<p>3047 rows × 13 columns</p>\n",
              "</div>"
            ],
            "text/plain": [
              "                       timestamp  ...                                            content\n",
              "contentId                         ...                                                   \n",
              "-4110354420726924665  1459193988  ...  Ethereum, a Virtual Currency, Enables Transact...\n",
              "-7292285110016212249  1459194146  ...  Bitcoin Future: When GBPcoin of Branson Wins O...\n",
              "-6151852268067518688  1459194474  ...  Google Data Center 360° Tour We're excited to ...\n",
              "2448026894306402386   1459194497  ...  IBM Wants to \"Evolve the Internet\" With Blockc...\n",
              "-2826566343807132236  1459194522  ...  IEEE to Talk Blockchain at Cloud Computing Oxf...\n",
              "...                          ...  ...                                                ...\n",
              "9213260650272029784   1487946604  ...  Conheça a Liga IoT, plataforma de inovação abe...\n",
              "-3295913657316686039  1487947067  ...  Amazon takes on Skype and GoToMeeting with its...\n",
              "3618271604906293310   1488223224  ...  Code.org 2016 Annual Report February 9, 2017 -...\n",
              "6607431762270322325   1488300719  ...  JPMorgan Software Does in Seconds What Took La...\n",
              "4109618890343020064   1488307871  ...  The 2017 Acquia Partners of the Year The Acqui...\n",
              "\n",
              "[3047 rows x 13 columns]"
            ]
          },
          "metadata": {
            "tags": []
          },
          "execution_count": 23
        }
      ]
    },
    {
      "cell_type": "code",
      "metadata": {
        "colab": {
          "base_uri": "https://localhost:8080/",
          "height": 431
        },
        "id": "KvZTH3X9jvHU",
        "outputId": "2393be02-93fe-4236-9c1b-fa28730c2176"
      },
      "source": [
        "articles_id_to_idx = articles_id_to_idx.join(articles_content['content'])\n",
        "articles_id_to_idx"
      ],
      "execution_count": 24,
      "outputs": [
        {
          "output_type": "execute_result",
          "data": {
            "text/html": [
              "<div>\n",
              "<style scoped>\n",
              "    .dataframe tbody tr th:only-of-type {\n",
              "        vertical-align: middle;\n",
              "    }\n",
              "\n",
              "    .dataframe tbody tr th {\n",
              "        vertical-align: top;\n",
              "    }\n",
              "\n",
              "    .dataframe thead th {\n",
              "        text-align: right;\n",
              "    }\n",
              "</style>\n",
              "<table border=\"1\" class=\"dataframe\">\n",
              "  <thead>\n",
              "    <tr style=\"text-align: right;\">\n",
              "      <th></th>\n",
              "      <th>index</th>\n",
              "      <th>content</th>\n",
              "    </tr>\n",
              "    <tr>\n",
              "      <th>id</th>\n",
              "      <th></th>\n",
              "      <th></th>\n",
              "    </tr>\n",
              "  </thead>\n",
              "  <tbody>\n",
              "    <tr>\n",
              "      <th>-5065077552540450930</th>\n",
              "      <td>0</td>\n",
              "      <td>Ranking das maiores seguradoras da Europa - 20...</td>\n",
              "    </tr>\n",
              "    <tr>\n",
              "      <th>-6623581327558800021</th>\n",
              "      <td>1</td>\n",
              "      <td>Spanner, the Google Database That Mastered Tim...</td>\n",
              "    </tr>\n",
              "    <tr>\n",
              "      <th>-793729620925729327</th>\n",
              "      <td>2</td>\n",
              "      <td>Closure Compiler in JavaScript Posted by Sam T...</td>\n",
              "    </tr>\n",
              "    <tr>\n",
              "      <th>1469580151036142903</th>\n",
              "      <td>3</td>\n",
              "      <td>Don't document your code. Code your documentat...</td>\n",
              "    </tr>\n",
              "    <tr>\n",
              "      <th>7270966256391553686</th>\n",
              "      <td>4</td>\n",
              "      <td>Announcing .NET Core 1.0 We are excited to ann...</td>\n",
              "    </tr>\n",
              "    <tr>\n",
              "      <th>...</th>\n",
              "      <td>...</td>\n",
              "      <td>...</td>\n",
              "    </tr>\n",
              "    <tr>\n",
              "      <th>4106497696154898573</th>\n",
              "      <td>2979</td>\n",
              "      <td>Learn Swift Programming Syntax | Udacity Lesso...</td>\n",
              "    </tr>\n",
              "    <tr>\n",
              "      <th>-8464215556093549753</th>\n",
              "      <td>2980</td>\n",
              "      <td>HackerRank Women's CodeSprint 2016 Join Women'...</td>\n",
              "    </tr>\n",
              "    <tr>\n",
              "      <th>-8202212195240926680</th>\n",
              "      <td>2981</td>\n",
              "      <td>Cover-More to raise $73.3 million to buy Trave...</td>\n",
              "    </tr>\n",
              "    <tr>\n",
              "      <th>5518462222339671372</th>\n",
              "      <td>2982</td>\n",
              "      <td>Capturing China's $5 trillion productivity opp...</td>\n",
              "    </tr>\n",
              "    <tr>\n",
              "      <th>5937899505996968869</th>\n",
              "      <td>2983</td>\n",
              "      <td>The web is Doom - mobiForge In July 2015 I sug...</td>\n",
              "    </tr>\n",
              "  </tbody>\n",
              "</table>\n",
              "<p>2984 rows × 2 columns</p>\n",
              "</div>"
            ],
            "text/plain": [
              "                      index                                            content\n",
              "id                                                                            \n",
              "-5065077552540450930      0  Ranking das maiores seguradoras da Europa - 20...\n",
              "-6623581327558800021      1  Spanner, the Google Database That Mastered Tim...\n",
              "-793729620925729327       2  Closure Compiler in JavaScript Posted by Sam T...\n",
              "1469580151036142903       3  Don't document your code. Code your documentat...\n",
              "7270966256391553686       4  Announcing .NET Core 1.0 We are excited to ann...\n",
              "...                     ...                                                ...\n",
              "4106497696154898573    2979  Learn Swift Programming Syntax | Udacity Lesso...\n",
              "-8464215556093549753   2980  HackerRank Women's CodeSprint 2016 Join Women'...\n",
              "-8202212195240926680   2981  Cover-More to raise $73.3 million to buy Trave...\n",
              "5518462222339671372    2982  Capturing China's $5 trillion productivity opp...\n",
              "5937899505996968869    2983  The web is Doom - mobiForge In July 2015 I sug...\n",
              "\n",
              "[2984 rows x 2 columns]"
            ]
          },
          "metadata": {
            "tags": []
          },
          "execution_count": 24
        }
      ]
    },
    {
      "cell_type": "code",
      "metadata": {
        "id": "UlVdjM5ZlKr-"
      },
      "source": [
        "articles_id_to_idx = articles_id_to_idx.fillna('')"
      ],
      "execution_count": 25,
      "outputs": []
    },
    {
      "cell_type": "code",
      "metadata": {
        "id": "mnGVaFMDe53w"
      },
      "source": [
        "vect = TfidfVectorizer()\n",
        "feat = vect.fit_transform(articles_id_to_idx['content'])"
      ],
      "execution_count": 26,
      "outputs": []
    },
    {
      "cell_type": "code",
      "metadata": {
        "colab": {
          "base_uri": "https://localhost:8080/"
        },
        "id": "j0MzGFIQlkU9",
        "outputId": "5366412a-ee50-4fcb-fca2-8654d0ed763b"
      },
      "source": [
        "%%time\n",
        "\n",
        "model = LightFM(no_components=30, loss='warp')\n",
        "model.fit(data_train, item_features=feat, epochs=20)\n",
        "print(f'Train precision: {precision_at_k(model, data_train, item_features=feat).mean()}')\n",
        "print(f'Test precision: {precision_at_k(model, data_test, item_features=feat).mean()}')"
      ],
      "execution_count": 27,
      "outputs": [
        {
          "output_type": "stream",
          "text": [
            "Train precision: 0.36375898122787476\n",
            "Test precision: 0.004276985768228769\n",
            "CPU times: user 4min 13s, sys: 224 ms, total: 4min 13s\n",
            "Wall time: 4min 12s\n"
          ],
          "name": "stdout"
        }
      ]
    },
    {
      "cell_type": "markdown",
      "metadata": {
        "id": "8Lwuex6PpsFw"
      },
      "source": [
        "## Задание 4. (2 балла)"
      ]
    },
    {
      "cell_type": "markdown",
      "metadata": {
        "id": "5aZcHjSzp2cZ"
      },
      "source": [
        "В задании 3 мы использовали сырой текст статей. В этом задании необходимо сначала сделать предобработку текста (привести к нижнему регистру, убрать стоп слова, привести слова к номральной форме и т.д.), после чего обучите модель и оценить качество на тестовых данных."
      ]
    },
    {
      "cell_type": "code",
      "metadata": {
        "colab": {
          "base_uri": "https://localhost:8080/"
        },
        "id": "Zi6sY2uznoIa",
        "outputId": "7ece7c1c-b22e-4f1d-b974-275e1d0b77cf"
      },
      "source": [
        "!pip install langdetect\n",
        "from langdetect import detect\n",
        "\n",
        "!python -m spacy download pt_core_news_sm\n",
        "import en_core_web_sm, pt_core_news_sm\n",
        "nlp_en = en_core_web_sm.load()\n",
        "nlp_pt = pt_core_news_sm.load()"
      ],
      "execution_count": 28,
      "outputs": [
        {
          "output_type": "stream",
          "text": [
            "Requirement already satisfied: langdetect in /usr/local/lib/python3.7/dist-packages (1.0.9)\n",
            "Requirement already satisfied: six in /usr/local/lib/python3.7/dist-packages (from langdetect) (1.15.0)\n",
            "Requirement already satisfied: pt_core_news_sm==2.2.5 from https://github.com/explosion/spacy-models/releases/download/pt_core_news_sm-2.2.5/pt_core_news_sm-2.2.5.tar.gz#egg=pt_core_news_sm==2.2.5 in /usr/local/lib/python3.7/dist-packages (2.2.5)\n",
            "Requirement already satisfied: spacy>=2.2.2 in /usr/local/lib/python3.7/dist-packages (from pt_core_news_sm==2.2.5) (2.2.4)\n",
            "Requirement already satisfied: blis<0.5.0,>=0.4.0 in /usr/local/lib/python3.7/dist-packages (from spacy>=2.2.2->pt_core_news_sm==2.2.5) (0.4.1)\n",
            "Requirement already satisfied: cymem<2.1.0,>=2.0.2 in /usr/local/lib/python3.7/dist-packages (from spacy>=2.2.2->pt_core_news_sm==2.2.5) (2.0.5)\n",
            "Requirement already satisfied: setuptools in /usr/local/lib/python3.7/dist-packages (from spacy>=2.2.2->pt_core_news_sm==2.2.5) (56.1.0)\n",
            "Requirement already satisfied: wasabi<1.1.0,>=0.4.0 in /usr/local/lib/python3.7/dist-packages (from spacy>=2.2.2->pt_core_news_sm==2.2.5) (0.8.2)\n",
            "Requirement already satisfied: tqdm<5.0.0,>=4.38.0 in /usr/local/lib/python3.7/dist-packages (from spacy>=2.2.2->pt_core_news_sm==2.2.5) (4.41.1)\n",
            "Requirement already satisfied: requests<3.0.0,>=2.13.0 in /usr/local/lib/python3.7/dist-packages (from spacy>=2.2.2->pt_core_news_sm==2.2.5) (2.23.0)\n",
            "Requirement already satisfied: numpy>=1.15.0 in /usr/local/lib/python3.7/dist-packages (from spacy>=2.2.2->pt_core_news_sm==2.2.5) (1.19.5)\n",
            "Requirement already satisfied: catalogue<1.1.0,>=0.0.7 in /usr/local/lib/python3.7/dist-packages (from spacy>=2.2.2->pt_core_news_sm==2.2.5) (1.0.0)\n",
            "Requirement already satisfied: plac<1.2.0,>=0.9.6 in /usr/local/lib/python3.7/dist-packages (from spacy>=2.2.2->pt_core_news_sm==2.2.5) (1.1.3)\n",
            "Requirement already satisfied: murmurhash<1.1.0,>=0.28.0 in /usr/local/lib/python3.7/dist-packages (from spacy>=2.2.2->pt_core_news_sm==2.2.5) (1.0.5)\n",
            "Requirement already satisfied: srsly<1.1.0,>=1.0.2 in /usr/local/lib/python3.7/dist-packages (from spacy>=2.2.2->pt_core_news_sm==2.2.5) (1.0.5)\n",
            "Requirement already satisfied: thinc==7.4.0 in /usr/local/lib/python3.7/dist-packages (from spacy>=2.2.2->pt_core_news_sm==2.2.5) (7.4.0)\n",
            "Requirement already satisfied: preshed<3.1.0,>=3.0.2 in /usr/local/lib/python3.7/dist-packages (from spacy>=2.2.2->pt_core_news_sm==2.2.5) (3.0.5)\n",
            "Requirement already satisfied: chardet<4,>=3.0.2 in /usr/local/lib/python3.7/dist-packages (from requests<3.0.0,>=2.13.0->spacy>=2.2.2->pt_core_news_sm==2.2.5) (3.0.4)\n",
            "Requirement already satisfied: urllib3!=1.25.0,!=1.25.1,<1.26,>=1.21.1 in /usr/local/lib/python3.7/dist-packages (from requests<3.0.0,>=2.13.0->spacy>=2.2.2->pt_core_news_sm==2.2.5) (1.24.3)\n",
            "Requirement already satisfied: idna<3,>=2.5 in /usr/local/lib/python3.7/dist-packages (from requests<3.0.0,>=2.13.0->spacy>=2.2.2->pt_core_news_sm==2.2.5) (2.10)\n",
            "Requirement already satisfied: certifi>=2017.4.17 in /usr/local/lib/python3.7/dist-packages (from requests<3.0.0,>=2.13.0->spacy>=2.2.2->pt_core_news_sm==2.2.5) (2020.12.5)\n",
            "Requirement already satisfied: importlib-metadata>=0.20; python_version < \"3.8\" in /usr/local/lib/python3.7/dist-packages (from catalogue<1.1.0,>=0.0.7->spacy>=2.2.2->pt_core_news_sm==2.2.5) (3.10.1)\n",
            "Requirement already satisfied: typing-extensions>=3.6.4; python_version < \"3.8\" in /usr/local/lib/python3.7/dist-packages (from importlib-metadata>=0.20; python_version < \"3.8\"->catalogue<1.1.0,>=0.0.7->spacy>=2.2.2->pt_core_news_sm==2.2.5) (3.7.4.3)\n",
            "Requirement already satisfied: zipp>=0.5 in /usr/local/lib/python3.7/dist-packages (from importlib-metadata>=0.20; python_version < \"3.8\"->catalogue<1.1.0,>=0.0.7->spacy>=2.2.2->pt_core_news_sm==2.2.5) (3.4.1)\n",
            "\u001b[38;5;2m✔ Download and installation successful\u001b[0m\n",
            "You can now load the model via spacy.load('pt_core_news_sm')\n"
          ],
          "name": "stdout"
        }
      ]
    },
    {
      "cell_type": "code",
      "metadata": {
        "id": "IZuZ6B1Nn9i5"
      },
      "source": [
        "def preprocess_text(text):\n",
        "    if text:\n",
        "        lang = detect(text)\n",
        "        if lang == 'pt':\n",
        "            doc = nlp_pt(text)\n",
        "        else:\n",
        "            doc = nlp_en(text)\n",
        "        text = ' '.join([token.lemma_.lower() for token in doc if token.lemma_.isalpha()])\n",
        "\n",
        "    return text"
      ],
      "execution_count": 29,
      "outputs": []
    },
    {
      "cell_type": "code",
      "metadata": {
        "colab": {
          "base_uri": "https://localhost:8080/"
        },
        "id": "YcztZNDZocgN",
        "outputId": "0ae78fae-81a6-483a-e877-6a54513b33d7"
      },
      "source": [
        "%%time\n",
        "\n",
        "articles_id_to_idx['content_preproc'] = articles_id_to_idx['content'].apply(preprocess_text) "
      ],
      "execution_count": 30,
      "outputs": [
        {
          "output_type": "stream",
          "text": [
            "CPU times: user 12min 1s, sys: 40.7 s, total: 12min 41s\n",
            "Wall time: 12min 40s\n"
          ],
          "name": "stdout"
        }
      ]
    },
    {
      "cell_type": "code",
      "metadata": {
        "colab": {
          "base_uri": "https://localhost:8080/"
        },
        "id": "MaIlfUJG1R-S",
        "outputId": "07876aac-9f54-4e02-a516-0771e52b3834"
      },
      "source": [
        "import nltk\n",
        "nltk.download('stopwords')\n",
        "from nltk.corpus import stopwords"
      ],
      "execution_count": 31,
      "outputs": [
        {
          "output_type": "stream",
          "text": [
            "[nltk_data] Downloading package stopwords to /root/nltk_data...\n",
            "[nltk_data]   Package stopwords is already up-to-date!\n"
          ],
          "name": "stdout"
        }
      ]
    },
    {
      "cell_type": "code",
      "metadata": {
        "id": "o3ZIOb981V-M"
      },
      "source": [
        "stopwords_en_pt = stopwords.words('english') + stopwords.words('portuguese')"
      ],
      "execution_count": 32,
      "outputs": []
    },
    {
      "cell_type": "code",
      "metadata": {
        "id": "C9uJtdk92H22"
      },
      "source": [
        "vect = TfidfVectorizer(stop_words=stopwords_en_pt,\n",
        "                    #    min_df=0.001\n",
        "                       )"
      ],
      "execution_count": 33,
      "outputs": []
    },
    {
      "cell_type": "code",
      "metadata": {
        "id": "OariD8H8ozwI"
      },
      "source": [
        "feat = vect.fit_transform(articles_id_to_idx['content_preproc'])"
      ],
      "execution_count": 34,
      "outputs": []
    },
    {
      "cell_type": "code",
      "metadata": {
        "colab": {
          "base_uri": "https://localhost:8080/"
        },
        "id": "zBu97bcJ3QuL",
        "outputId": "1a143236-e4bf-4d36-e85e-5934ef5d5b3a"
      },
      "source": [
        "feat"
      ],
      "execution_count": 35,
      "outputs": [
        {
          "output_type": "execute_result",
          "data": {
            "text/plain": [
              "<2984x51141 sparse matrix of type '<class 'numpy.float64'>'\n",
              "\twith 763777 stored elements in Compressed Sparse Row format>"
            ]
          },
          "metadata": {
            "tags": []
          },
          "execution_count": 35
        }
      ]
    },
    {
      "cell_type": "code",
      "metadata": {
        "colab": {
          "base_uri": "https://localhost:8080/"
        },
        "id": "HDSaOLiJpdGj",
        "outputId": "b63fdbe0-b909-4ffb-9dca-b2d6e565990e"
      },
      "source": [
        "# Ваш код здесь\n",
        "%%time\n",
        "\n",
        "model = LightFM(no_components=30, loss='warp')\n",
        "model.fit(data_train, item_features=feat, epochs=20)\n",
        "print(f'Train precision: {precision_at_k(model, data_train, item_features=feat).mean()}')\n",
        "print(f'Test precision: {precision_at_k(model, data_test, item_features=feat).mean()}')"
      ],
      "execution_count": 36,
      "outputs": [
        {
          "output_type": "stream",
          "text": [
            "Train precision: 0.3599820137023926\n",
            "Test precision: 0.0031568226404488087\n",
            "CPU times: user 3min 1s, sys: 147 ms, total: 3min 1s\n",
            "Wall time: 3min 1s\n"
          ],
          "name": "stdout"
        }
      ]
    },
    {
      "cell_type": "markdown",
      "metadata": {
        "id": "VgayAPRpqn7L"
      },
      "source": [
        "Улучшилось ли качество предсказания?"
      ]
    },
    {
      "cell_type": "markdown",
      "metadata": {
        "id": "XKRzLLodq3gq"
      },
      "source": [
        "## Задание 5. (2 балла)"
      ]
    },
    {
      "cell_type": "markdown",
      "metadata": {
        "id": "brjHl49Aq8su"
      },
      "source": [
        "Подберите гиперпараметры модели LightFM (`n_components` и др.) для улучшения качества модели."
      ]
    },
    {
      "cell_type": "code",
      "metadata": {
        "id": "PlwaeCiZqncD",
        "colab": {
          "base_uri": "https://localhost:8080/"
        },
        "outputId": "1148b6e7-6848-4204-8691-645dc4ac2d1f"
      },
      "source": [
        "# Ваш код здесь\n",
        "%%time\n",
        "\n",
        "model = LightFM(no_components=30, loss='warp', learning_schedule='adagrad')\n",
        "model.fit(data_train, item_features=feat, epochs=20)\n",
        "print(f'Train precision: {precision_at_k(model, data_train, item_features=feat).mean()}')\n",
        "print(f'Test precision: {precision_at_k(model, data_test, item_features=feat).mean()}')"
      ],
      "execution_count": 37,
      "outputs": [
        {
          "output_type": "stream",
          "text": [
            "Train precision: 0.36312949657440186\n",
            "Test precision: 0.005091649480164051\n",
            "CPU times: user 3min, sys: 150 ms, total: 3min\n",
            "Wall time: 2min 59s\n"
          ],
          "name": "stdout"
        }
      ]
    },
    {
      "cell_type": "markdown",
      "metadata": {
        "id": "xJA7v07NrYSF"
      },
      "source": [
        "## Бонусное задание. (3 балла)"
      ]
    },
    {
      "cell_type": "markdown",
      "metadata": {
        "id": "veLFUoVRrisk"
      },
      "source": [
        "Выше мы использовали достаточно простое представление текста статьи в виде TF-IDF. В этом задании Вам нужно представить текст статьи (можно вместе с заголовком) в виде эмбеддинга полученного с помощью рекуррентной сети или трансформера (можно использовать любую предобученную модель, которая Вам нравится). Обучите модель с ипользованием этих эмеддингов и сравните результаты с предыдущими."
      ]
    },
    {
      "cell_type": "code",
      "metadata": {
        "colab": {
          "base_uri": "https://localhost:8080/"
        },
        "id": "CQmn1cb-rXU3",
        "outputId": "92aeb6da-1308-4bbf-dce7-c0e52783fa98"
      },
      "source": [
        "!pip install transformers\n",
        "from transformers import AutoTokenizer, AutoModel"
      ],
      "execution_count": null,
      "outputs": [
        {
          "output_type": "stream",
          "text": [
            "Collecting transformers\n",
            "\u001b[?25l  Downloading https://files.pythonhosted.org/packages/d8/b2/57495b5309f09fa501866e225c84532d1fd89536ea62406b2181933fb418/transformers-4.5.1-py3-none-any.whl (2.1MB)\n",
            "\r\u001b[K     |▏                               | 10kB 22.2MB/s eta 0:00:01\r\u001b[K     |▎                               | 20kB 30.6MB/s eta 0:00:01\r\u001b[K     |▌                               | 30kB 22.7MB/s eta 0:00:01\r\u001b[K     |▋                               | 40kB 26.0MB/s eta 0:00:01\r\u001b[K     |▉                               | 51kB 24.9MB/s eta 0:00:01\r\u001b[K     |█                               | 61kB 27.1MB/s eta 0:00:01\r\u001b[K     |█▏                              | 71kB 18.6MB/s eta 0:00:01\r\u001b[K     |█▎                              | 81kB 19.6MB/s eta 0:00:01\r\u001b[K     |█▍                              | 92kB 18.4MB/s eta 0:00:01\r\u001b[K     |█▋                              | 102kB 18.4MB/s eta 0:00:01\r\u001b[K     |█▊                              | 112kB 18.4MB/s eta 0:00:01\r\u001b[K     |██                              | 122kB 18.4MB/s eta 0:00:01\r\u001b[K     |██                              | 133kB 18.4MB/s eta 0:00:01\r\u001b[K     |██▎                             | 143kB 18.4MB/s eta 0:00:01\r\u001b[K     |██▍                             | 153kB 18.4MB/s eta 0:00:01\r\u001b[K     |██▌                             | 163kB 18.4MB/s eta 0:00:01\r\u001b[K     |██▊                             | 174kB 18.4MB/s eta 0:00:01\r\u001b[K     |██▉                             | 184kB 18.4MB/s eta 0:00:01\r\u001b[K     |███                             | 194kB 18.4MB/s eta 0:00:01\r\u001b[K     |███▏                            | 204kB 18.4MB/s eta 0:00:01\r\u001b[K     |███▍                            | 215kB 18.4MB/s eta 0:00:01\r\u001b[K     |███▌                            | 225kB 18.4MB/s eta 0:00:01\r\u001b[K     |███▋                            | 235kB 18.4MB/s eta 0:00:01\r\u001b[K     |███▉                            | 245kB 18.4MB/s eta 0:00:01\r\u001b[K     |████                            | 256kB 18.4MB/s eta 0:00:01\r\u001b[K     |████▏                           | 266kB 18.4MB/s eta 0:00:01\r\u001b[K     |████▎                           | 276kB 18.4MB/s eta 0:00:01\r\u001b[K     |████▌                           | 286kB 18.4MB/s eta 0:00:01\r\u001b[K     |████▋                           | 296kB 18.4MB/s eta 0:00:01\r\u001b[K     |████▊                           | 307kB 18.4MB/s eta 0:00:01\r\u001b[K     |█████                           | 317kB 18.4MB/s eta 0:00:01\r\u001b[K     |█████                           | 327kB 18.4MB/s eta 0:00:01\r\u001b[K     |█████▎                          | 337kB 18.4MB/s eta 0:00:01\r\u001b[K     |█████▍                          | 348kB 18.4MB/s eta 0:00:01\r\u001b[K     |█████▋                          | 358kB 18.4MB/s eta 0:00:01\r\u001b[K     |█████▊                          | 368kB 18.4MB/s eta 0:00:01\r\u001b[K     |█████▉                          | 378kB 18.4MB/s eta 0:00:01\r\u001b[K     |██████                          | 389kB 18.4MB/s eta 0:00:01\r\u001b[K     |██████▏                         | 399kB 18.4MB/s eta 0:00:01\r\u001b[K     |██████▍                         | 409kB 18.4MB/s eta 0:00:01\r\u001b[K     |██████▌                         | 419kB 18.4MB/s eta 0:00:01\r\u001b[K     |██████▊                         | 430kB 18.4MB/s eta 0:00:01\r\u001b[K     |██████▉                         | 440kB 18.4MB/s eta 0:00:01\r\u001b[K     |███████                         | 450kB 18.4MB/s eta 0:00:01\r\u001b[K     |███████▏                        | 460kB 18.4MB/s eta 0:00:01\r\u001b[K     |███████▎                        | 471kB 18.4MB/s eta 0:00:01\r\u001b[K     |███████▌                        | 481kB 18.4MB/s eta 0:00:01\r\u001b[K     |███████▋                        | 491kB 18.4MB/s eta 0:00:01\r\u001b[K     |███████▉                        | 501kB 18.4MB/s eta 0:00:01\r\u001b[K     |████████                        | 512kB 18.4MB/s eta 0:00:01\r\u001b[K     |████████                        | 522kB 18.4MB/s eta 0:00:01\r\u001b[K     |████████▎                       | 532kB 18.4MB/s eta 0:00:01\r\u001b[K     |████████▍                       | 542kB 18.4MB/s eta 0:00:01\r\u001b[K     |████████▋                       | 552kB 18.4MB/s eta 0:00:01\r\u001b[K     |████████▊                       | 563kB 18.4MB/s eta 0:00:01\r\u001b[K     |█████████                       | 573kB 18.4MB/s eta 0:00:01\r\u001b[K     |█████████                       | 583kB 18.4MB/s eta 0:00:01\r\u001b[K     |█████████▎                      | 593kB 18.4MB/s eta 0:00:01\r\u001b[K     |█████████▍                      | 604kB 18.4MB/s eta 0:00:01\r\u001b[K     |█████████▌                      | 614kB 18.4MB/s eta 0:00:01\r\u001b[K     |█████████▊                      | 624kB 18.4MB/s eta 0:00:01\r\u001b[K     |█████████▉                      | 634kB 18.4MB/s eta 0:00:01\r\u001b[K     |██████████                      | 645kB 18.4MB/s eta 0:00:01\r\u001b[K     |██████████▏                     | 655kB 18.4MB/s eta 0:00:01\r\u001b[K     |██████████▍                     | 665kB 18.4MB/s eta 0:00:01\r\u001b[K     |██████████▌                     | 675kB 18.4MB/s eta 0:00:01\r\u001b[K     |██████████▋                     | 686kB 18.4MB/s eta 0:00:01\r\u001b[K     |██████████▉                     | 696kB 18.4MB/s eta 0:00:01\r\u001b[K     |███████████                     | 706kB 18.4MB/s eta 0:00:01\r\u001b[K     |███████████▏                    | 716kB 18.4MB/s eta 0:00:01\r\u001b[K     |███████████▎                    | 727kB 18.4MB/s eta 0:00:01\r\u001b[K     |███████████▌                    | 737kB 18.4MB/s eta 0:00:01\r\u001b[K     |███████████▋                    | 747kB 18.4MB/s eta 0:00:01\r\u001b[K     |███████████▊                    | 757kB 18.4MB/s eta 0:00:01\r\u001b[K     |████████████                    | 768kB 18.4MB/s eta 0:00:01\r\u001b[K     |████████████                    | 778kB 18.4MB/s eta 0:00:01\r\u001b[K     |████████████▎                   | 788kB 18.4MB/s eta 0:00:01\r\u001b[K     |████████████▍                   | 798kB 18.4MB/s eta 0:00:01\r\u001b[K     |████████████▋                   | 808kB 18.4MB/s eta 0:00:01\r\u001b[K     |████████████▊                   | 819kB 18.4MB/s eta 0:00:01\r\u001b[K     |████████████▉                   | 829kB 18.4MB/s eta 0:00:01\r\u001b[K     |█████████████                   | 839kB 18.4MB/s eta 0:00:01\r\u001b[K     |█████████████▏                  | 849kB 18.4MB/s eta 0:00:01\r\u001b[K     |█████████████▍                  | 860kB 18.4MB/s eta 0:00:01\r\u001b[K     |█████████████▌                  | 870kB 18.4MB/s eta 0:00:01\r\u001b[K     |█████████████▊                  | 880kB 18.4MB/s eta 0:00:01\r\u001b[K     |█████████████▉                  | 890kB 18.4MB/s eta 0:00:01\r\u001b[K     |██████████████                  | 901kB 18.4MB/s eta 0:00:01\r\u001b[K     |██████████████▏                 | 911kB 18.4MB/s eta 0:00:01\r\u001b[K     |██████████████▎                 | 921kB 18.4MB/s eta 0:00:01\r\u001b[K     |██████████████▌                 | 931kB 18.4MB/s eta 0:00:01\r\u001b[K     |██████████████▋                 | 942kB 18.4MB/s eta 0:00:01\r\u001b[K     |██████████████▉                 | 952kB 18.4MB/s eta 0:00:01\r\u001b[K     |███████████████                 | 962kB 18.4MB/s eta 0:00:01\r\u001b[K     |███████████████                 | 972kB 18.4MB/s eta 0:00:01\r\u001b[K     |███████████████▎                | 983kB 18.4MB/s eta 0:00:01\r\u001b[K     |███████████████▍                | 993kB 18.4MB/s eta 0:00:01\r\u001b[K     |███████████████▋                | 1.0MB 18.4MB/s eta 0:00:01\r\u001b[K     |███████████████▊                | 1.0MB 18.4MB/s eta 0:00:01\r\u001b[K     |████████████████                | 1.0MB 18.4MB/s eta 0:00:01\r\u001b[K     |████████████████                | 1.0MB 18.4MB/s eta 0:00:01\r\u001b[K     |████████████████▏               | 1.0MB 18.4MB/s eta 0:00:01\r\u001b[K     |████████████████▍               | 1.1MB 18.4MB/s eta 0:00:01\r\u001b[K     |████████████████▌               | 1.1MB 18.4MB/s eta 0:00:01\r\u001b[K     |████████████████▊               | 1.1MB 18.4MB/s eta 0:00:01\r\u001b[K     |████████████████▉               | 1.1MB 18.4MB/s eta 0:00:01\r\u001b[K     |█████████████████               | 1.1MB 18.4MB/s eta 0:00:01\r\u001b[K     |█████████████████▏              | 1.1MB 18.4MB/s eta 0:00:01\r\u001b[K     |█████████████████▍              | 1.1MB 18.4MB/s eta 0:00:01\r\u001b[K     |█████████████████▌              | 1.1MB 18.4MB/s eta 0:00:01\r\u001b[K     |█████████████████▋              | 1.1MB 18.4MB/s eta 0:00:01\r\u001b[K     |█████████████████▉              | 1.1MB 18.4MB/s eta 0:00:01\r\u001b[K     |██████████████████              | 1.2MB 18.4MB/s eta 0:00:01\r\u001b[K     |██████████████████▏             | 1.2MB 18.4MB/s eta 0:00:01\r\u001b[K     |██████████████████▎             | 1.2MB 18.4MB/s eta 0:00:01\r\u001b[K     |██████████████████▌             | 1.2MB 18.4MB/s eta 0:00:01\r\u001b[K     |██████████████████▋             | 1.2MB 18.4MB/s eta 0:00:01\r\u001b[K     |██████████████████▊             | 1.2MB 18.4MB/s eta 0:00:01\r\u001b[K     |███████████████████             | 1.2MB 18.4MB/s eta 0:00:01\r\u001b[K     |███████████████████             | 1.2MB 18.4MB/s eta 0:00:01\r\u001b[K     |███████████████████▎            | 1.2MB 18.4MB/s eta 0:00:01\r\u001b[K     |███████████████████▍            | 1.2MB 18.4MB/s eta 0:00:01\r\u001b[K     |███████████████████▋            | 1.3MB 18.4MB/s eta 0:00:01\r\u001b[K     |███████████████████▊            | 1.3MB 18.4MB/s eta 0:00:01\r\u001b[K     |███████████████████▉            | 1.3MB 18.4MB/s eta 0:00:01\r\u001b[K     |████████████████████            | 1.3MB 18.4MB/s eta 0:00:01\r\u001b[K     |████████████████████▏           | 1.3MB 18.4MB/s eta 0:00:01\r\u001b[K     |████████████████████▍           | 1.3MB 18.4MB/s eta 0:00:01\r\u001b[K     |████████████████████▌           | 1.3MB 18.4MB/s eta 0:00:01\r\u001b[K     |████████████████████▊           | 1.3MB 18.4MB/s eta 0:00:01\r\u001b[K     |████████████████████▉           | 1.3MB 18.4MB/s eta 0:00:01\r\u001b[K     |█████████████████████           | 1.4MB 18.4MB/s eta 0:00:01\r\u001b[K     |█████████████████████▏          | 1.4MB 18.4MB/s eta 0:00:01\r\u001b[K     |█████████████████████▎          | 1.4MB 18.4MB/s eta 0:00:01\r\u001b[K     |█████████████████████▌          | 1.4MB 18.4MB/s eta 0:00:01\r\u001b[K     |█████████████████████▋          | 1.4MB 18.4MB/s eta 0:00:01\r\u001b[K     |█████████████████████▉          | 1.4MB 18.4MB/s eta 0:00:01\r\u001b[K     |██████████████████████          | 1.4MB 18.4MB/s eta 0:00:01\r\u001b[K     |██████████████████████          | 1.4MB 18.4MB/s eta 0:00:01\r\u001b[K     |██████████████████████▎         | 1.4MB 18.4MB/s eta 0:00:01\r\u001b[K     |██████████████████████▍         | 1.4MB 18.4MB/s eta 0:00:01\r\u001b[K     |██████████████████████▋         | 1.5MB 18.4MB/s eta 0:00:01\r\u001b[K     |██████████████████████▊         | 1.5MB 18.4MB/s eta 0:00:01\r\u001b[K     |███████████████████████         | 1.5MB 18.4MB/s eta 0:00:01\r\u001b[K     |███████████████████████         | 1.5MB 18.4MB/s eta 0:00:01\r\u001b[K     |███████████████████████▏        | 1.5MB 18.4MB/s eta 0:00:01\r\u001b[K     |███████████████████████▍        | 1.5MB 18.4MB/s eta 0:00:01\r\u001b[K     |███████████████████████▌        | 1.5MB 18.4MB/s eta 0:00:01\r\u001b[K     |███████████████████████▊        | 1.5MB 18.4MB/s eta 0:00:01\r\u001b[K     |███████████████████████▉        | 1.5MB 18.4MB/s eta 0:00:01\r\u001b[K     |████████████████████████        | 1.5MB 18.4MB/s eta 0:00:01\r\u001b[K     |████████████████████████▏       | 1.6MB 18.4MB/s eta 0:00:01\r\u001b[K     |████████████████████████▎       | 1.6MB 18.4MB/s eta 0:00:01\r\u001b[K     |████████████████████████▌       | 1.6MB 18.4MB/s eta 0:00:01\r\u001b[K     |████████████████████████▋       | 1.6MB 18.4MB/s eta 0:00:01\r\u001b[K     |████████████████████████▉       | 1.6MB 18.4MB/s eta 0:00:01\r\u001b[K     |█████████████████████████       | 1.6MB 18.4MB/s eta 0:00:01\r\u001b[K     |█████████████████████████▏      | 1.6MB 18.4MB/s eta 0:00:01\r\u001b[K     |█████████████████████████▎      | 1.6MB 18.4MB/s eta 0:00:01\r\u001b[K     |█████████████████████████▍      | 1.6MB 18.4MB/s eta 0:00:01\r\u001b[K     |█████████████████████████▋      | 1.6MB 18.4MB/s eta 0:00:01\r\u001b[K     |█████████████████████████▊      | 1.7MB 18.4MB/s eta 0:00:01\r\u001b[K     |██████████████████████████      | 1.7MB 18.4MB/s eta 0:00:01\r\u001b[K     |██████████████████████████      | 1.7MB 18.4MB/s eta 0:00:01\r\u001b[K     |██████████████████████████▎     | 1.7MB 18.4MB/s eta 0:00:01\r\u001b[K     |██████████████████████████▍     | 1.7MB 18.4MB/s eta 0:00:01\r\u001b[K     |██████████████████████████▋     | 1.7MB 18.4MB/s eta 0:00:01\r\u001b[K     |██████████████████████████▊     | 1.7MB 18.4MB/s eta 0:00:01\r\u001b[K     |██████████████████████████▉     | 1.7MB 18.4MB/s eta 0:00:01\r\u001b[K     |███████████████████████████     | 1.7MB 18.4MB/s eta 0:00:01\r\u001b[K     |███████████████████████████▏    | 1.8MB 18.4MB/s eta 0:00:01\r\u001b[K     |███████████████████████████▍    | 1.8MB 18.4MB/s eta 0:00:01\r\u001b[K     |███████████████████████████▌    | 1.8MB 18.4MB/s eta 0:00:01\r\u001b[K     |███████████████████████████▊    | 1.8MB 18.4MB/s eta 0:00:01\r\u001b[K     |███████████████████████████▉    | 1.8MB 18.4MB/s eta 0:00:01\r\u001b[K     |████████████████████████████    | 1.8MB 18.4MB/s eta 0:00:01\r\u001b[K     |████████████████████████████▏   | 1.8MB 18.4MB/s eta 0:00:01\r\u001b[K     |████████████████████████████▎   | 1.8MB 18.4MB/s eta 0:00:01\r\u001b[K     |████████████████████████████▌   | 1.8MB 18.4MB/s eta 0:00:01\r\u001b[K     |████████████████████████████▋   | 1.8MB 18.4MB/s eta 0:00:01\r\u001b[K     |████████████████████████████▉   | 1.9MB 18.4MB/s eta 0:00:01\r\u001b[K     |█████████████████████████████   | 1.9MB 18.4MB/s eta 0:00:01\r\u001b[K     |█████████████████████████████   | 1.9MB 18.4MB/s eta 0:00:01\r\u001b[K     |█████████████████████████████▎  | 1.9MB 18.4MB/s eta 0:00:01\r\u001b[K     |█████████████████████████████▍  | 1.9MB 18.4MB/s eta 0:00:01\r\u001b[K     |█████████████████████████████▋  | 1.9MB 18.4MB/s eta 0:00:01\r\u001b[K     |█████████████████████████████▊  | 1.9MB 18.4MB/s eta 0:00:01\r\u001b[K     |██████████████████████████████  | 1.9MB 18.4MB/s eta 0:00:01\r\u001b[K     |██████████████████████████████  | 1.9MB 18.4MB/s eta 0:00:01\r\u001b[K     |██████████████████████████████▏ | 1.9MB 18.4MB/s eta 0:00:01\r\u001b[K     |██████████████████████████████▍ | 2.0MB 18.4MB/s eta 0:00:01\r\u001b[K     |██████████████████████████████▌ | 2.0MB 18.4MB/s eta 0:00:01\r\u001b[K     |██████████████████████████████▊ | 2.0MB 18.4MB/s eta 0:00:01\r\u001b[K     |██████████████████████████████▉ | 2.0MB 18.4MB/s eta 0:00:01\r\u001b[K     |███████████████████████████████ | 2.0MB 18.4MB/s eta 0:00:01\r\u001b[K     |███████████████████████████████▏| 2.0MB 18.4MB/s eta 0:00:01\r\u001b[K     |███████████████████████████████▎| 2.0MB 18.4MB/s eta 0:00:01\r\u001b[K     |███████████████████████████████▌| 2.0MB 18.4MB/s eta 0:00:01\r\u001b[K     |███████████████████████████████▋| 2.0MB 18.4MB/s eta 0:00:01\r\u001b[K     |███████████████████████████████▉| 2.0MB 18.4MB/s eta 0:00:01\r\u001b[K     |████████████████████████████████| 2.1MB 18.4MB/s eta 0:00:01\r\u001b[K     |████████████████████████████████| 2.1MB 18.4MB/s \n",
            "\u001b[?25hRequirement already satisfied: numpy>=1.17 in /usr/local/lib/python3.7/dist-packages (from transformers) (1.19.5)\n",
            "Requirement already satisfied: packaging in /usr/local/lib/python3.7/dist-packages (from transformers) (20.9)\n",
            "Requirement already satisfied: regex!=2019.12.17 in /usr/local/lib/python3.7/dist-packages (from transformers) (2019.12.20)\n",
            "Requirement already satisfied: importlib-metadata; python_version < \"3.8\" in /usr/local/lib/python3.7/dist-packages (from transformers) (3.10.1)\n",
            "Collecting tokenizers<0.11,>=0.10.1\n",
            "\u001b[?25l  Downloading https://files.pythonhosted.org/packages/ae/04/5b870f26a858552025a62f1649c20d29d2672c02ff3c3fb4c688ca46467a/tokenizers-0.10.2-cp37-cp37m-manylinux2010_x86_64.whl (3.3MB)\n",
            "\u001b[K     |████████████████████████████████| 3.3MB 55.3MB/s \n",
            "\u001b[?25hRequirement already satisfied: requests in /usr/local/lib/python3.7/dist-packages (from transformers) (2.23.0)\n",
            "Requirement already satisfied: filelock in /usr/local/lib/python3.7/dist-packages (from transformers) (3.0.12)\n",
            "Collecting sacremoses\n",
            "\u001b[?25l  Downloading https://files.pythonhosted.org/packages/75/ee/67241dc87f266093c533a2d4d3d69438e57d7a90abb216fa076e7d475d4a/sacremoses-0.0.45-py3-none-any.whl (895kB)\n",
            "\u001b[K     |████████████████████████████████| 901kB 53.8MB/s \n",
            "\u001b[?25hRequirement already satisfied: tqdm>=4.27 in /usr/local/lib/python3.7/dist-packages (from transformers) (4.41.1)\n",
            "Requirement already satisfied: pyparsing>=2.0.2 in /usr/local/lib/python3.7/dist-packages (from packaging->transformers) (2.4.7)\n",
            "Requirement already satisfied: typing-extensions>=3.6.4; python_version < \"3.8\" in /usr/local/lib/python3.7/dist-packages (from importlib-metadata; python_version < \"3.8\"->transformers) (3.7.4.3)\n",
            "Requirement already satisfied: zipp>=0.5 in /usr/local/lib/python3.7/dist-packages (from importlib-metadata; python_version < \"3.8\"->transformers) (3.4.1)\n",
            "Requirement already satisfied: urllib3!=1.25.0,!=1.25.1,<1.26,>=1.21.1 in /usr/local/lib/python3.7/dist-packages (from requests->transformers) (1.24.3)\n",
            "Requirement already satisfied: idna<3,>=2.5 in /usr/local/lib/python3.7/dist-packages (from requests->transformers) (2.10)\n",
            "Requirement already satisfied: chardet<4,>=3.0.2 in /usr/local/lib/python3.7/dist-packages (from requests->transformers) (3.0.4)\n",
            "Requirement already satisfied: certifi>=2017.4.17 in /usr/local/lib/python3.7/dist-packages (from requests->transformers) (2020.12.5)\n",
            "Requirement already satisfied: click in /usr/local/lib/python3.7/dist-packages (from sacremoses->transformers) (7.1.2)\n",
            "Requirement already satisfied: six in /usr/local/lib/python3.7/dist-packages (from sacremoses->transformers) (1.15.0)\n",
            "Requirement already satisfied: joblib in /usr/local/lib/python3.7/dist-packages (from sacremoses->transformers) (1.0.1)\n",
            "Installing collected packages: tokenizers, sacremoses, transformers\n",
            "Successfully installed sacremoses-0.0.45 tokenizers-0.10.2 transformers-4.5.1\n"
          ],
          "name": "stdout"
        }
      ]
    },
    {
      "cell_type": "code",
      "metadata": {
        "id": "Pb_B5ZkMshtr"
      },
      "source": [
        "tokenizer = AutoTokenizer.from_pretrained('bert-base-multilingual-cased')\n",
        "model = AutoModel.from_pretrained('bert-base-multilingual-cased')\n",
        "model.to(device);"
      ],
      "execution_count": null,
      "outputs": []
    },
    {
      "cell_type": "code",
      "metadata": {
        "id": "hX38ELG653Tr"
      },
      "source": [
        "def get_bert_embedding(text, tokenizer, model):\n",
        "    inputs = tokenizer(text, truncation=True, return_tensors='pt')\n",
        "    inputs.to(device)\n",
        "    outputs = model(**inputs)\n",
        "\n",
        "    return outputs[1].squeeze().detach().cpu().numpy()"
      ],
      "execution_count": null,
      "outputs": []
    },
    {
      "cell_type": "code",
      "metadata": {
        "colab": {
          "base_uri": "https://localhost:8080/",
          "height": 282
        },
        "id": "fc___YlU82nm",
        "outputId": "4da62641-5b14-4feb-8d8e-6fb7c461f917"
      },
      "source": [
        "articles_id_to_idx['content'].apply(len).hist()"
      ],
      "execution_count": null,
      "outputs": [
        {
          "output_type": "execute_result",
          "data": {
            "text/plain": [
              "<matplotlib.axes._subplots.AxesSubplot at 0x7fab1bca44d0>"
            ]
          },
          "metadata": {
            "tags": []
          },
          "execution_count": 55
        },
        {
          "output_type": "display_data",
          "data": {
            "image/png": "[encoded data removed]",
            "text/plain": [
              "<Figure size 432x288 with 1 Axes>"
            ]
          },
          "metadata": {
            "tags": []
          }
        }
      ]
    },
    {
      "cell_type": "code",
      "metadata": {
        "colab": {
          "base_uri": "https://localhost:8080/",
          "height": 431
        },
        "id": "sOCdm42h_yKz",
        "outputId": "1153ad63-a03d-4903-91c2-39cefb50aa52"
      },
      "source": [
        "articles_id_to_idx"
      ],
      "execution_count": null,
      "outputs": [
        {
          "output_type": "execute_result",
          "data": {
            "text/html": [
              "<div>\n",
              "<style scoped>\n",
              "    .dataframe tbody tr th:only-of-type {\n",
              "        vertical-align: middle;\n",
              "    }\n",
              "\n",
              "    .dataframe tbody tr th {\n",
              "        vertical-align: top;\n",
              "    }\n",
              "\n",
              "    .dataframe thead th {\n",
              "        text-align: right;\n",
              "    }\n",
              "</style>\n",
              "<table border=\"1\" class=\"dataframe\">\n",
              "  <thead>\n",
              "    <tr style=\"text-align: right;\">\n",
              "      <th></th>\n",
              "      <th>index</th>\n",
              "      <th>content</th>\n",
              "    </tr>\n",
              "    <tr>\n",
              "      <th>id</th>\n",
              "      <th></th>\n",
              "      <th></th>\n",
              "    </tr>\n",
              "  </thead>\n",
              "  <tbody>\n",
              "    <tr>\n",
              "      <th>-5065077552540450930</th>\n",
              "      <td>0</td>\n",
              "      <td>Ranking das maiores seguradoras da Europa - 20...</td>\n",
              "    </tr>\n",
              "    <tr>\n",
              "      <th>-6623581327558800021</th>\n",
              "      <td>1</td>\n",
              "      <td>Spanner, the Google Database That Mastered Tim...</td>\n",
              "    </tr>\n",
              "    <tr>\n",
              "      <th>-793729620925729327</th>\n",
              "      <td>2</td>\n",
              "      <td>Closure Compiler in JavaScript Posted by Sam T...</td>\n",
              "    </tr>\n",
              "    <tr>\n",
              "      <th>1469580151036142903</th>\n",
              "      <td>3</td>\n",
              "      <td>Don't document your code. Code your documentat...</td>\n",
              "    </tr>\n",
              "    <tr>\n",
              "      <th>7270966256391553686</th>\n",
              "      <td>4</td>\n",
              "      <td>Announcing .NET Core 1.0 We are excited to ann...</td>\n",
              "    </tr>\n",
              "    <tr>\n",
              "      <th>...</th>\n",
              "      <td>...</td>\n",
              "      <td>...</td>\n",
              "    </tr>\n",
              "    <tr>\n",
              "      <th>4106497696154898573</th>\n",
              "      <td>2979</td>\n",
              "      <td>Learn Swift Programming Syntax | Udacity Lesso...</td>\n",
              "    </tr>\n",
              "    <tr>\n",
              "      <th>-8464215556093549753</th>\n",
              "      <td>2980</td>\n",
              "      <td>HackerRank Women's CodeSprint 2016 Join Women'...</td>\n",
              "    </tr>\n",
              "    <tr>\n",
              "      <th>-8202212195240926680</th>\n",
              "      <td>2981</td>\n",
              "      <td>Cover-More to raise $73.3 million to buy Trave...</td>\n",
              "    </tr>\n",
              "    <tr>\n",
              "      <th>5518462222339671372</th>\n",
              "      <td>2982</td>\n",
              "      <td>Capturing China's $5 trillion productivity opp...</td>\n",
              "    </tr>\n",
              "    <tr>\n",
              "      <th>5937899505996968869</th>\n",
              "      <td>2983</td>\n",
              "      <td>The web is Doom - mobiForge In July 2015 I sug...</td>\n",
              "    </tr>\n",
              "  </tbody>\n",
              "</table>\n",
              "<p>2984 rows × 2 columns</p>\n",
              "</div>"
            ],
            "text/plain": [
              "                      index                                            content\n",
              "id                                                                            \n",
              "-5065077552540450930      0  Ranking das maiores seguradoras da Europa - 20...\n",
              "-6623581327558800021      1  Spanner, the Google Database That Mastered Tim...\n",
              "-793729620925729327       2  Closure Compiler in JavaScript Posted by Sam T...\n",
              "1469580151036142903       3  Don't document your code. Code your documentat...\n",
              "7270966256391553686       4  Announcing .NET Core 1.0 We are excited to ann...\n",
              "...                     ...                                                ...\n",
              "4106497696154898573    2979  Learn Swift Programming Syntax | Udacity Lesso...\n",
              "-8464215556093549753   2980  HackerRank Women's CodeSprint 2016 Join Women'...\n",
              "-8202212195240926680   2981  Cover-More to raise $73.3 million to buy Trave...\n",
              "5518462222339671372    2982  Capturing China's $5 trillion productivity opp...\n",
              "5937899505996968869    2983  The web is Doom - mobiForge In July 2015 I sug...\n",
              "\n",
              "[2984 rows x 2 columns]"
            ]
          },
          "metadata": {
            "tags": []
          },
          "execution_count": 29
        }
      ]
    },
    {
      "cell_type": "code",
      "metadata": {
        "colab": {
          "base_uri": "https://localhost:8080/"
        },
        "id": "-bENdVhb6P0p",
        "outputId": "00c109ea-9e9b-4dfb-b64f-1480d6f95d94"
      },
      "source": [
        "%%time\n",
        "\n",
        "articles_id_to_idx['bert_embedding'] = articles_id_to_idx['content'].apply(lambda x: get_bert_embedding(x, tokenizer, model))"
      ],
      "execution_count": null,
      "outputs": [
        {
          "output_type": "stream",
          "text": [
            "CPU times: user 1min 14s, sys: 34.9 s, total: 1min 49s\n",
            "Wall time: 1min 49s\n"
          ],
          "name": "stdout"
        }
      ]
    },
    {
      "cell_type": "code",
      "metadata": {
        "id": "N6PklBspCo2U"
      },
      "source": [
        "feat = csr_matrix(articles_id_to_idx['bert_embedding'].tolist())"
      ],
      "execution_count": null,
      "outputs": []
    },
    {
      "cell_type": "code",
      "metadata": {
        "colab": {
          "base_uri": "https://localhost:8080/"
        },
        "id": "ysImm_j8EWRP",
        "outputId": "a66efbfc-81d7-4307-e6ce-2a4037c9a6f1"
      },
      "source": [
        "feat"
      ],
      "execution_count": null,
      "outputs": [
        {
          "output_type": "execute_result",
          "data": {
            "text/plain": [
              "<2984x768 sparse matrix of type '<class 'numpy.float32'>'\n",
              "\twith 2291712 stored elements in Compressed Sparse Row format>"
            ]
          },
          "metadata": {
            "tags": []
          },
          "execution_count": 50
        }
      ]
    },
    {
      "cell_type": "code",
      "metadata": {
        "colab": {
          "base_uri": "https://localhost:8080/"
        },
        "id": "qguyThsh3Q-x",
        "outputId": "edfb148e-0463-4db9-ace1-897b23e8310c"
      },
      "source": [
        "%%time\n",
        "\n",
        "model = LightFM(no_components=50, loss='warp')\n",
        "model.fit(data_train, item_features=feat, epochs=100)\n",
        "print(f'Train precision: {precision_at_k(model, data_train, item_features=feat).mean()}')\n",
        "print(f'Test precision: {precision_at_k(model, data_test, item_features=feat).mean()}')"
      ],
      "execution_count": null,
      "outputs": [
        {
          "output_type": "stream",
          "text": [
            "Train precision: 0.14208632707595825\n",
            "Test precision: 0.004989816341549158\n",
            "CPU times: user 30min 21s, sys: 881 ms, total: 30min 22s\n",
            "Wall time: 30min 16s\n"
          ],
          "name": "stdout"
        }
      ]
    }
  ]
}