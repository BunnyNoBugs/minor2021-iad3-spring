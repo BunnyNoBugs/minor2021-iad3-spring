{
  "nbformat": 4,
  "nbformat_minor": 0,
  "metadata": {
    "kernelspec": {
      "display_name": "Python 3",
      "language": "python",
      "name": "python3"
    },
    "language_info": {
      "codemirror_mode": {
        "name": "ipython",
        "version": 3
      },
      "file_extension": ".py",
      "mimetype": "text/x-python",
      "name": "python",
      "nbconvert_exporter": "python",
      "pygments_lexer": "ipython3",
      "version": "3.8.3"
    },
    "colab": {
      "name": "sem09_recommendations_2.ipynb",
      "provenance": []
    }
  },
  "cells": [
    {
      "cell_type": "markdown",
      "metadata": {
        "id": "t_GiFTG2RThn"
      },
      "source": [
        "<h1><center>Прикладные задачи анализа данных</center></h1>\n",
        "<h2><center>Семинар: рекомендательные системы - 2</center></h2>"
      ]
    },
    {
      "cell_type": "code",
      "metadata": {
        "id": "9UdcSl2NRTht"
      },
      "source": [
        "%matplotlib inline\n",
        "import matplotlib.pyplot as plt\n",
        "import numpy as np\n",
        "import pandas as pd\n",
        "\n",
        "from IPython.display import clear_output"
      ],
      "execution_count": 1,
      "outputs": []
    },
    {
      "cell_type": "markdown",
      "metadata": {
        "id": "ONE_o1PAA60q"
      },
      "source": [
        "Ссылка на колаб -- https://colab.research.google.com/drive/1SJgy615kZLFoxTzoXRoZNf8i1giQ3u21?usp=sharing"
      ]
    },
    {
      "cell_type": "markdown",
      "metadata": {
        "id": "dw2NtjhcRThu"
      },
      "source": [
        "# Рекомендация фильмов"
      ]
    },
    {
      "cell_type": "markdown",
      "metadata": {
        "id": "HFWVf_zqRThu"
      },
      "source": [
        "В этом семинаре рассмотрим рекомендательную систему фильмов на основе нейронных сетей. Будем работать с данными, которые сожержат 1,000,209 анонимных рейтингов для примерно 3,900 фильмов от 6,040 пользователей MovieLens, которые присоединись в 2000.\n",
        "\n",
        "<center><img src=\"https://i.imgflip.com/1pvf4b.jpg\" width=\"400\"></center>\n",
        "\n",
        "**Source:** https://grouplens.org/datasets/movielens/1m/"
      ]
    },
    {
      "cell_type": "code",
      "metadata": {
        "id": "Xn5TmOZtRThv",
        "colab": {
          "base_uri": "https://localhost:8080/"
        },
        "outputId": "b2c78721-595f-4acb-e1aa-1790f697df37"
      },
      "source": [
        "# скачаем данные\n",
        "!wget https://raw.githubusercontent.com/gaoxx643/MovieLens-1M-Dataset/master/movies.dat\n",
        "!wget https://raw.githubusercontent.com/gaoxx643/MovieLens-1M-Dataset/master/users.dat\n",
        "!wget https://raw.githubusercontent.com/gaoxx643/MovieLens-1M-Dataset/master/ratings.dat"
      ],
      "execution_count": 2,
      "outputs": [
        {
          "output_type": "stream",
          "text": [
            "--2021-04-08 05:46:06--  https://raw.githubusercontent.com/gaoxx643/MovieLens-1M-Dataset/master/movies.dat\n",
            "Resolving raw.githubusercontent.com (raw.githubusercontent.com)... 185.199.110.133, 185.199.109.133, 185.199.108.133, ...\n",
            "Connecting to raw.githubusercontent.com (raw.githubusercontent.com)|185.199.110.133|:443... connected.\n",
            "HTTP request sent, awaiting response... 200 OK\n",
            "Length: 171308 (167K) [text/plain]\n",
            "Saving to: ‘movies.dat’\n",
            "\n",
            "movies.dat          100%[===================>] 167.29K  --.-KB/s    in 0.03s   \n",
            "\n",
            "2021-04-08 05:46:06 (5.89 MB/s) - ‘movies.dat’ saved [171308/171308]\n",
            "\n",
            "--2021-04-08 05:46:07--  https://raw.githubusercontent.com/gaoxx643/MovieLens-1M-Dataset/master/users.dat\n",
            "Resolving raw.githubusercontent.com (raw.githubusercontent.com)... 185.199.110.133, 185.199.109.133, 185.199.108.133, ...\n",
            "Connecting to raw.githubusercontent.com (raw.githubusercontent.com)|185.199.110.133|:443... connected.\n",
            "HTTP request sent, awaiting response... 200 OK\n",
            "Length: 134368 (131K) [text/plain]\n",
            "Saving to: ‘users.dat’\n",
            "\n",
            "users.dat           100%[===================>] 131.22K  --.-KB/s    in 0.03s   \n",
            "\n",
            "2021-04-08 05:46:07 (4.92 MB/s) - ‘users.dat’ saved [134368/134368]\n",
            "\n",
            "--2021-04-08 05:46:07--  https://raw.githubusercontent.com/gaoxx643/MovieLens-1M-Dataset/master/ratings.dat\n",
            "Resolving raw.githubusercontent.com (raw.githubusercontent.com)... 185.199.110.133, 185.199.109.133, 185.199.108.133, ...\n",
            "Connecting to raw.githubusercontent.com (raw.githubusercontent.com)|185.199.110.133|:443... connected.\n",
            "HTTP request sent, awaiting response... 200 OK\n",
            "Length: 24594131 (23M) [text/plain]\n",
            "Saving to: ‘ratings.dat’\n",
            "\n",
            "ratings.dat         100%[===================>]  23.45M  31.9MB/s    in 0.7s    \n",
            "\n",
            "2021-04-08 05:46:09 (31.9 MB/s) - ‘ratings.dat’ saved [24594131/24594131]\n",
            "\n"
          ],
          "name": "stdout"
        }
      ]
    },
    {
      "cell_type": "code",
      "metadata": {
        "id": "uDvDRUxERThw"
      },
      "source": [
        ""
      ],
      "execution_count": null,
      "outputs": []
    },
    {
      "cell_type": "markdown",
      "metadata": {
        "id": "2G7Ynem8RThw"
      },
      "source": [
        "### MOVIES FILE DESCRIPTION\n",
        "\n",
        "Movie information is in the file \"movies.dat\" and is in the following\n",
        "format:\n",
        "\n",
        "MovieID::Title::Genres\n",
        "\n",
        "- Titles are identical to titles provided by the IMDB (including\n",
        "year of release)\n",
        "- Genres are pipe-separated and are selected from the following genres:\n",
        "\n",
        "    * Action\n",
        "    * Adventure\n",
        "    * Animation\n",
        "    * Children's\n",
        "    * Comedy\n",
        "    * Crime\n",
        "    * Documentary\n",
        "    * Drama\n",
        "    * Fantasy\n",
        "    * Film-Noir\n",
        "    * Horror\n",
        "    * Musical\n",
        "    * Mystery\n",
        "    * Romance\n",
        "    * Sci-Fi\n",
        "    * Thriller\n",
        "    * War\n",
        "    * Western\n",
        "\n",
        "- Some MovieIDs do not correspond to a movie due to accidental duplicate\n",
        "entries and/or test entries\n",
        "- Movies are mostly entered by hand, so errors and inconsistencies may exist"
      ]
    },
    {
      "cell_type": "code",
      "metadata": {
        "id": "x0IUfHttRThw",
        "colab": {
          "base_uri": "https://localhost:8080/",
          "height": 359
        },
        "outputId": "d1ce265e-8318-4ecb-dee2-3b7b39d4338f"
      },
      "source": [
        "movies = pd.read_csv(\"movies.dat\", sep=\"::\", engine='python', header=None)\n",
        "movies.columns = [\"MovieID\", \"Title\", \"Genres\"]\n",
        "movies.head(10)"
      ],
      "execution_count": 3,
      "outputs": [
        {
          "output_type": "execute_result",
          "data": {
            "text/html": [
              "<div>\n",
              "<style scoped>\n",
              "    .dataframe tbody tr th:only-of-type {\n",
              "        vertical-align: middle;\n",
              "    }\n",
              "\n",
              "    .dataframe tbody tr th {\n",
              "        vertical-align: top;\n",
              "    }\n",
              "\n",
              "    .dataframe thead th {\n",
              "        text-align: right;\n",
              "    }\n",
              "</style>\n",
              "<table border=\"1\" class=\"dataframe\">\n",
              "  <thead>\n",
              "    <tr style=\"text-align: right;\">\n",
              "      <th></th>\n",
              "      <th>MovieID</th>\n",
              "      <th>Title</th>\n",
              "      <th>Genres</th>\n",
              "    </tr>\n",
              "  </thead>\n",
              "  <tbody>\n",
              "    <tr>\n",
              "      <th>0</th>\n",
              "      <td>1</td>\n",
              "      <td>Toy Story (1995)</td>\n",
              "      <td>Animation|Children's|Comedy</td>\n",
              "    </tr>\n",
              "    <tr>\n",
              "      <th>1</th>\n",
              "      <td>2</td>\n",
              "      <td>Jumanji (1995)</td>\n",
              "      <td>Adventure|Children's|Fantasy</td>\n",
              "    </tr>\n",
              "    <tr>\n",
              "      <th>2</th>\n",
              "      <td>3</td>\n",
              "      <td>Grumpier Old Men (1995)</td>\n",
              "      <td>Comedy|Romance</td>\n",
              "    </tr>\n",
              "    <tr>\n",
              "      <th>3</th>\n",
              "      <td>4</td>\n",
              "      <td>Waiting to Exhale (1995)</td>\n",
              "      <td>Comedy|Drama</td>\n",
              "    </tr>\n",
              "    <tr>\n",
              "      <th>4</th>\n",
              "      <td>5</td>\n",
              "      <td>Father of the Bride Part II (1995)</td>\n",
              "      <td>Comedy</td>\n",
              "    </tr>\n",
              "    <tr>\n",
              "      <th>5</th>\n",
              "      <td>6</td>\n",
              "      <td>Heat (1995)</td>\n",
              "      <td>Action|Crime|Thriller</td>\n",
              "    </tr>\n",
              "    <tr>\n",
              "      <th>6</th>\n",
              "      <td>7</td>\n",
              "      <td>Sabrina (1995)</td>\n",
              "      <td>Comedy|Romance</td>\n",
              "    </tr>\n",
              "    <tr>\n",
              "      <th>7</th>\n",
              "      <td>8</td>\n",
              "      <td>Tom and Huck (1995)</td>\n",
              "      <td>Adventure|Children's</td>\n",
              "    </tr>\n",
              "    <tr>\n",
              "      <th>8</th>\n",
              "      <td>9</td>\n",
              "      <td>Sudden Death (1995)</td>\n",
              "      <td>Action</td>\n",
              "    </tr>\n",
              "    <tr>\n",
              "      <th>9</th>\n",
              "      <td>10</td>\n",
              "      <td>GoldenEye (1995)</td>\n",
              "      <td>Action|Adventure|Thriller</td>\n",
              "    </tr>\n",
              "  </tbody>\n",
              "</table>\n",
              "</div>"
            ],
            "text/plain": [
              "   MovieID                               Title                        Genres\n",
              "0        1                    Toy Story (1995)   Animation|Children's|Comedy\n",
              "1        2                      Jumanji (1995)  Adventure|Children's|Fantasy\n",
              "2        3             Grumpier Old Men (1995)                Comedy|Romance\n",
              "3        4            Waiting to Exhale (1995)                  Comedy|Drama\n",
              "4        5  Father of the Bride Part II (1995)                        Comedy\n",
              "5        6                         Heat (1995)         Action|Crime|Thriller\n",
              "6        7                      Sabrina (1995)                Comedy|Romance\n",
              "7        8                 Tom and Huck (1995)          Adventure|Children's\n",
              "8        9                 Sudden Death (1995)                        Action\n",
              "9       10                    GoldenEye (1995)     Action|Adventure|Thriller"
            ]
          },
          "metadata": {
            "tags": []
          },
          "execution_count": 3
        }
      ]
    },
    {
      "cell_type": "markdown",
      "metadata": {
        "id": "p1NZuEQcRThx"
      },
      "source": [
        "### USERS FILE DESCRIPTION\n",
        "\n",
        "User information is in the file \"users.dat\" and is in the following\n",
        "format:\n",
        "\n",
        "UserID::Gender::Age::Occupation::Zip-code\n",
        "\n",
        "All demographic information is provided voluntarily by the users and is\n",
        "not checked for accuracy.  Only users who have provided some demographic\n",
        "information are included in this data set.\n",
        "\n",
        "- Gender is denoted by a \"M\" for male and \"F\" for female\n",
        "- Age is chosen from the following ranges:\n",
        "\n",
        "    *  1:  \"Under 18\"\n",
        "    * 18:  \"18-24\"\n",
        "    * 25:  \"25-34\"\n",
        "    * 35:  \"35-44\"\n",
        "    * 45:  \"45-49\"\n",
        "    * 50:  \"50-55\"\n",
        "    * 56:  \"56+\"\n",
        "\n",
        "- Occupation is chosen from the following choices:\n",
        "\n",
        "    *  0:  \"other\" or not specified\n",
        "    *  1:  \"academic/educator\"\n",
        "    *  2:  \"artist\"\n",
        "    *  3:  \"clerical/admin\"\n",
        "    *  4:  \"college/grad student\"\n",
        "    *  5:  \"customer service\"\n",
        "    *  6:  \"doctor/health care\"\n",
        "    *  7:  \"executive/managerial\"\n",
        "    *  8:  \"farmer\"\n",
        "    *  9:  \"homemaker\"\n",
        "    * 10:  \"K-12 student\"\n",
        "    * 11:  \"lawyer\"\n",
        "    * 12:  \"programmer\"\n",
        "    * 13:  \"retired\"\n",
        "    * 14:  \"sales/marketing\"\n",
        "    * 15:  \"scientist\"\n",
        "    * 16:  \"self-employed\"\n",
        "    * 17:  \"technician/engineer\"\n",
        "    * 18:  \"tradesman/craftsman\"\n",
        "    * 19:  \"unemployed\"\n",
        "    * 20:  \"writer\""
      ]
    },
    {
      "cell_type": "code",
      "metadata": {
        "id": "v9B7-kVjRThx",
        "colab": {
          "base_uri": "https://localhost:8080/",
          "height": 359
        },
        "outputId": "8adcc397-beb7-4a52-acb1-11a32d859ef4"
      },
      "source": [
        "users = pd.read_csv(\"users.dat\", sep=\"::\", engine='python', header=None)\n",
        "users.columns = [\"UserID\", \"Gender\", \"Age\", \"Occupation\", \"Zip-code\"]\n",
        "users.head(10)"
      ],
      "execution_count": 4,
      "outputs": [
        {
          "output_type": "execute_result",
          "data": {
            "text/html": [
              "<div>\n",
              "<style scoped>\n",
              "    .dataframe tbody tr th:only-of-type {\n",
              "        vertical-align: middle;\n",
              "    }\n",
              "\n",
              "    .dataframe tbody tr th {\n",
              "        vertical-align: top;\n",
              "    }\n",
              "\n",
              "    .dataframe thead th {\n",
              "        text-align: right;\n",
              "    }\n",
              "</style>\n",
              "<table border=\"1\" class=\"dataframe\">\n",
              "  <thead>\n",
              "    <tr style=\"text-align: right;\">\n",
              "      <th></th>\n",
              "      <th>UserID</th>\n",
              "      <th>Gender</th>\n",
              "      <th>Age</th>\n",
              "      <th>Occupation</th>\n",
              "      <th>Zip-code</th>\n",
              "    </tr>\n",
              "  </thead>\n",
              "  <tbody>\n",
              "    <tr>\n",
              "      <th>0</th>\n",
              "      <td>1</td>\n",
              "      <td>F</td>\n",
              "      <td>1</td>\n",
              "      <td>10</td>\n",
              "      <td>48067</td>\n",
              "    </tr>\n",
              "    <tr>\n",
              "      <th>1</th>\n",
              "      <td>2</td>\n",
              "      <td>M</td>\n",
              "      <td>56</td>\n",
              "      <td>16</td>\n",
              "      <td>70072</td>\n",
              "    </tr>\n",
              "    <tr>\n",
              "      <th>2</th>\n",
              "      <td>3</td>\n",
              "      <td>M</td>\n",
              "      <td>25</td>\n",
              "      <td>15</td>\n",
              "      <td>55117</td>\n",
              "    </tr>\n",
              "    <tr>\n",
              "      <th>3</th>\n",
              "      <td>4</td>\n",
              "      <td>M</td>\n",
              "      <td>45</td>\n",
              "      <td>7</td>\n",
              "      <td>02460</td>\n",
              "    </tr>\n",
              "    <tr>\n",
              "      <th>4</th>\n",
              "      <td>5</td>\n",
              "      <td>M</td>\n",
              "      <td>25</td>\n",
              "      <td>20</td>\n",
              "      <td>55455</td>\n",
              "    </tr>\n",
              "    <tr>\n",
              "      <th>5</th>\n",
              "      <td>6</td>\n",
              "      <td>F</td>\n",
              "      <td>50</td>\n",
              "      <td>9</td>\n",
              "      <td>55117</td>\n",
              "    </tr>\n",
              "    <tr>\n",
              "      <th>6</th>\n",
              "      <td>7</td>\n",
              "      <td>M</td>\n",
              "      <td>35</td>\n",
              "      <td>1</td>\n",
              "      <td>06810</td>\n",
              "    </tr>\n",
              "    <tr>\n",
              "      <th>7</th>\n",
              "      <td>8</td>\n",
              "      <td>M</td>\n",
              "      <td>25</td>\n",
              "      <td>12</td>\n",
              "      <td>11413</td>\n",
              "    </tr>\n",
              "    <tr>\n",
              "      <th>8</th>\n",
              "      <td>9</td>\n",
              "      <td>M</td>\n",
              "      <td>25</td>\n",
              "      <td>17</td>\n",
              "      <td>61614</td>\n",
              "    </tr>\n",
              "    <tr>\n",
              "      <th>9</th>\n",
              "      <td>10</td>\n",
              "      <td>F</td>\n",
              "      <td>35</td>\n",
              "      <td>1</td>\n",
              "      <td>95370</td>\n",
              "    </tr>\n",
              "  </tbody>\n",
              "</table>\n",
              "</div>"
            ],
            "text/plain": [
              "   UserID Gender  Age  Occupation Zip-code\n",
              "0       1      F    1          10    48067\n",
              "1       2      M   56          16    70072\n",
              "2       3      M   25          15    55117\n",
              "3       4      M   45           7    02460\n",
              "4       5      M   25          20    55455\n",
              "5       6      F   50           9    55117\n",
              "6       7      M   35           1    06810\n",
              "7       8      M   25          12    11413\n",
              "8       9      M   25          17    61614\n",
              "9      10      F   35           1    95370"
            ]
          },
          "metadata": {
            "tags": []
          },
          "execution_count": 4
        }
      ]
    },
    {
      "cell_type": "markdown",
      "metadata": {
        "id": "r02gjVlVRThy"
      },
      "source": [
        "### RATINGS FILE DESCRIPTION\n",
        "\n",
        "All ratings are contained in the file \"ratings.dat\" and are in the\n",
        "following format:\n",
        "\n",
        "UserID::MovieID::Rating::Timestamp\n",
        "\n",
        "- UserIDs range between 1 and 6040 \n",
        "- MovieIDs range between 1 and 3952\n",
        "- Ratings are made on a 5-star scale (whole-star ratings only)\n",
        "- Timestamp is represented in seconds since the epoch as returned by time(2)\n",
        "- Each user has at least 20 ratings"
      ]
    },
    {
      "cell_type": "code",
      "metadata": {
        "id": "ySghRyJxRThy",
        "colab": {
          "base_uri": "https://localhost:8080/",
          "height": 359
        },
        "outputId": "614a088f-10bd-4ec9-c20d-918c220341d0"
      },
      "source": [
        "ratings = pd.read_csv(\"ratings.dat\", sep=\"::\", engine='python', header=None)\n",
        "ratings.columns = [\"UserID\", \"MovieID\", \"Rating\", \"Timestamp\"]\n",
        "ratings.head(10)"
      ],
      "execution_count": 5,
      "outputs": [
        {
          "output_type": "execute_result",
          "data": {
            "text/html": [
              "<div>\n",
              "<style scoped>\n",
              "    .dataframe tbody tr th:only-of-type {\n",
              "        vertical-align: middle;\n",
              "    }\n",
              "\n",
              "    .dataframe tbody tr th {\n",
              "        vertical-align: top;\n",
              "    }\n",
              "\n",
              "    .dataframe thead th {\n",
              "        text-align: right;\n",
              "    }\n",
              "</style>\n",
              "<table border=\"1\" class=\"dataframe\">\n",
              "  <thead>\n",
              "    <tr style=\"text-align: right;\">\n",
              "      <th></th>\n",
              "      <th>UserID</th>\n",
              "      <th>MovieID</th>\n",
              "      <th>Rating</th>\n",
              "      <th>Timestamp</th>\n",
              "    </tr>\n",
              "  </thead>\n",
              "  <tbody>\n",
              "    <tr>\n",
              "      <th>0</th>\n",
              "      <td>1</td>\n",
              "      <td>1193</td>\n",
              "      <td>5</td>\n",
              "      <td>978300760</td>\n",
              "    </tr>\n",
              "    <tr>\n",
              "      <th>1</th>\n",
              "      <td>1</td>\n",
              "      <td>661</td>\n",
              "      <td>3</td>\n",
              "      <td>978302109</td>\n",
              "    </tr>\n",
              "    <tr>\n",
              "      <th>2</th>\n",
              "      <td>1</td>\n",
              "      <td>914</td>\n",
              "      <td>3</td>\n",
              "      <td>978301968</td>\n",
              "    </tr>\n",
              "    <tr>\n",
              "      <th>3</th>\n",
              "      <td>1</td>\n",
              "      <td>3408</td>\n",
              "      <td>4</td>\n",
              "      <td>978300275</td>\n",
              "    </tr>\n",
              "    <tr>\n",
              "      <th>4</th>\n",
              "      <td>1</td>\n",
              "      <td>2355</td>\n",
              "      <td>5</td>\n",
              "      <td>978824291</td>\n",
              "    </tr>\n",
              "    <tr>\n",
              "      <th>5</th>\n",
              "      <td>1</td>\n",
              "      <td>1197</td>\n",
              "      <td>3</td>\n",
              "      <td>978302268</td>\n",
              "    </tr>\n",
              "    <tr>\n",
              "      <th>6</th>\n",
              "      <td>1</td>\n",
              "      <td>1287</td>\n",
              "      <td>5</td>\n",
              "      <td>978302039</td>\n",
              "    </tr>\n",
              "    <tr>\n",
              "      <th>7</th>\n",
              "      <td>1</td>\n",
              "      <td>2804</td>\n",
              "      <td>5</td>\n",
              "      <td>978300719</td>\n",
              "    </tr>\n",
              "    <tr>\n",
              "      <th>8</th>\n",
              "      <td>1</td>\n",
              "      <td>594</td>\n",
              "      <td>4</td>\n",
              "      <td>978302268</td>\n",
              "    </tr>\n",
              "    <tr>\n",
              "      <th>9</th>\n",
              "      <td>1</td>\n",
              "      <td>919</td>\n",
              "      <td>4</td>\n",
              "      <td>978301368</td>\n",
              "    </tr>\n",
              "  </tbody>\n",
              "</table>\n",
              "</div>"
            ],
            "text/plain": [
              "   UserID  MovieID  Rating  Timestamp\n",
              "0       1     1193       5  978300760\n",
              "1       1      661       3  978302109\n",
              "2       1      914       3  978301968\n",
              "3       1     3408       4  978300275\n",
              "4       1     2355       5  978824291\n",
              "5       1     1197       3  978302268\n",
              "6       1     1287       5  978302039\n",
              "7       1     2804       5  978300719\n",
              "8       1      594       4  978302268\n",
              "9       1      919       4  978301368"
            ]
          },
          "metadata": {
            "tags": []
          },
          "execution_count": 5
        }
      ]
    },
    {
      "cell_type": "code",
      "metadata": {
        "id": "aF9SNY6ARThy"
      },
      "source": [
        ""
      ],
      "execution_count": null,
      "outputs": []
    },
    {
      "cell_type": "markdown",
      "metadata": {
        "id": "JCxdl8HmRThz"
      },
      "source": [
        "# Предобработанные данные\n",
        "\n",
        "Для построения нашей рекомендательной системы мы будем использовать уже подготовленные данные. "
      ]
    },
    {
      "cell_type": "code",
      "metadata": {
        "id": "4wKuALN8RThz",
        "colab": {
          "base_uri": "https://localhost:8080/"
        },
        "outputId": "53f5eb3d-0c8a-4a90-ded8-1ed0c5c67cfd"
      },
      "source": [
        "# загружаем данные\n",
        "!wget https://raw.githubusercontent.com/hexiangnan/neural_collaborative_filtering/master/Data/ml-1m.test.negative\n",
        "!wget https://raw.githubusercontent.com/hexiangnan/neural_collaborative_filtering/master/Data/ml-1m.test.rating\n",
        "!wget https://raw.githubusercontent.com/hexiangnan/neural_collaborative_filtering/master/Data/ml-1m.train.rating"
      ],
      "execution_count": 6,
      "outputs": [
        {
          "output_type": "stream",
          "text": [
            "--2021-04-08 05:46:27--  https://raw.githubusercontent.com/hexiangnan/neural_collaborative_filtering/master/Data/ml-1m.test.negative\n",
            "Resolving raw.githubusercontent.com (raw.githubusercontent.com)... 185.199.109.133, 185.199.108.133, 185.199.111.133, ...\n",
            "Connecting to raw.githubusercontent.com (raw.githubusercontent.com)|185.199.109.133|:443... connected.\n",
            "HTTP request sent, awaiting response... 200 OK\n",
            "Length: 2891424 (2.8M) [text/plain]\n",
            "Saving to: ‘ml-1m.test.negative’\n",
            "\n",
            "ml-1m.test.negative 100%[===================>]   2.76M  --.-KB/s    in 0.1s    \n",
            "\n",
            "2021-04-08 05:46:29 (19.0 MB/s) - ‘ml-1m.test.negative’ saved [2891424/2891424]\n",
            "\n",
            "--2021-04-08 05:46:29--  https://raw.githubusercontent.com/hexiangnan/neural_collaborative_filtering/master/Data/ml-1m.test.rating\n",
            "Resolving raw.githubusercontent.com (raw.githubusercontent.com)... 185.199.108.133, 185.199.109.133, 185.199.110.133, ...\n",
            "Connecting to raw.githubusercontent.com (raw.githubusercontent.com)|185.199.108.133|:443... connected.\n",
            "HTTP request sent, awaiting response... 200 OK\n",
            "Length: 128039 (125K) [text/plain]\n",
            "Saving to: ‘ml-1m.test.rating’\n",
            "\n",
            "ml-1m.test.rating   100%[===================>] 125.04K  --.-KB/s    in 0.03s   \n",
            "\n",
            "2021-04-08 05:46:30 (4.54 MB/s) - ‘ml-1m.test.rating’ saved [128039/128039]\n",
            "\n",
            "--2021-04-08 05:46:30--  https://raw.githubusercontent.com/hexiangnan/neural_collaborative_filtering/master/Data/ml-1m.train.rating\n",
            "Resolving raw.githubusercontent.com (raw.githubusercontent.com)... 185.199.108.133, 185.199.109.133, 185.199.110.133, ...\n",
            "Connecting to raw.githubusercontent.com (raw.githubusercontent.com)|185.199.108.133|:443... connected.\n",
            "HTTP request sent, awaiting response... 200 OK\n",
            "Length: 20982911 (20M) [text/plain]\n",
            "Saving to: ‘ml-1m.train.rating’\n",
            "\n",
            "ml-1m.train.rating  100%[===================>]  20.01M  42.9MB/s    in 0.5s    \n",
            "\n",
            "2021-04-08 05:46:33 (42.9 MB/s) - ‘ml-1m.train.rating’ saved [20982911/20982911]\n",
            "\n"
          ],
          "name": "stdout"
        }
      ]
    },
    {
      "cell_type": "code",
      "metadata": {
        "id": "xuG0-NGXRTh0"
      },
      "source": [
        ""
      ],
      "execution_count": null,
      "outputs": []
    },
    {
      "cell_type": "markdown",
      "metadata": {
        "id": "-EIzix0mRTh0"
      },
      "source": [
        "Данные предварительно предобработаны:\n",
        "\n",
        "**train.rating:**\n",
        "- Train file.\n",
        "- Each Line is a training instance: userID itemID rating timestamp (if have)"
      ]
    },
    {
      "cell_type": "code",
      "metadata": {
        "id": "rCTtE-I1RTh1",
        "colab": {
          "base_uri": "https://localhost:8080/",
          "height": 204
        },
        "outputId": "47768940-766f-439b-be93-75433cad4360"
      },
      "source": [
        "train_data = pd.read_csv(\"ml-1m.train.rating\", sep='\\t', header=None, names=['user', 'item', 'rating', 'timestamp'], \n",
        "                         usecols=[0, 1, 2, 3], dtype={0: np.int32, 1: np.int32, 2: np.int32, 3: np.int32})\n",
        "train_data.head()"
      ],
      "execution_count": 7,
      "outputs": [
        {
          "output_type": "execute_result",
          "data": {
            "text/html": [
              "<div>\n",
              "<style scoped>\n",
              "    .dataframe tbody tr th:only-of-type {\n",
              "        vertical-align: middle;\n",
              "    }\n",
              "\n",
              "    .dataframe tbody tr th {\n",
              "        vertical-align: top;\n",
              "    }\n",
              "\n",
              "    .dataframe thead th {\n",
              "        text-align: right;\n",
              "    }\n",
              "</style>\n",
              "<table border=\"1\" class=\"dataframe\">\n",
              "  <thead>\n",
              "    <tr style=\"text-align: right;\">\n",
              "      <th></th>\n",
              "      <th>user</th>\n",
              "      <th>item</th>\n",
              "      <th>rating</th>\n",
              "      <th>timestamp</th>\n",
              "    </tr>\n",
              "  </thead>\n",
              "  <tbody>\n",
              "    <tr>\n",
              "      <th>0</th>\n",
              "      <td>0</td>\n",
              "      <td>32</td>\n",
              "      <td>4</td>\n",
              "      <td>978824330</td>\n",
              "    </tr>\n",
              "    <tr>\n",
              "      <th>1</th>\n",
              "      <td>0</td>\n",
              "      <td>34</td>\n",
              "      <td>4</td>\n",
              "      <td>978824330</td>\n",
              "    </tr>\n",
              "    <tr>\n",
              "      <th>2</th>\n",
              "      <td>0</td>\n",
              "      <td>4</td>\n",
              "      <td>5</td>\n",
              "      <td>978824291</td>\n",
              "    </tr>\n",
              "    <tr>\n",
              "      <th>3</th>\n",
              "      <td>0</td>\n",
              "      <td>35</td>\n",
              "      <td>4</td>\n",
              "      <td>978824291</td>\n",
              "    </tr>\n",
              "    <tr>\n",
              "      <th>4</th>\n",
              "      <td>0</td>\n",
              "      <td>30</td>\n",
              "      <td>4</td>\n",
              "      <td>978824291</td>\n",
              "    </tr>\n",
              "  </tbody>\n",
              "</table>\n",
              "</div>"
            ],
            "text/plain": [
              "   user  item  rating  timestamp\n",
              "0     0    32       4  978824330\n",
              "1     0    34       4  978824330\n",
              "2     0     4       5  978824291\n",
              "3     0    35       4  978824291\n",
              "4     0    30       4  978824291"
            ]
          },
          "metadata": {
            "tags": []
          },
          "execution_count": 7
        }
      ]
    },
    {
      "cell_type": "code",
      "metadata": {
        "id": "LPL4u7jsRTh1",
        "colab": {
          "base_uri": "https://localhost:8080/"
        },
        "outputId": "3b9cc9f6-f94b-4ead-c190-ce6051018d22"
      },
      "source": [
        "user_num = train_data['user'].max() + 1\n",
        "item_num = train_data['item'].max() + 1\n",
        "\n",
        "user_num, item_num"
      ],
      "execution_count": 8,
      "outputs": [
        {
          "output_type": "execute_result",
          "data": {
            "text/plain": [
              "(6040, 3706)"
            ]
          },
          "metadata": {
            "tags": []
          },
          "execution_count": 8
        }
      ]
    },
    {
      "cell_type": "code",
      "metadata": {
        "id": "E76Lb5ZCRTh1",
        "colab": {
          "base_uri": "https://localhost:8080/"
        },
        "outputId": "0b6a2116-c80b-4fe4-ea41-e817040459b7"
      },
      "source": [
        "train_data = train_data[['user', 'item']].values.tolist()\n",
        "train_data[:5]"
      ],
      "execution_count": 9,
      "outputs": [
        {
          "output_type": "execute_result",
          "data": {
            "text/plain": [
              "[[0, 32], [0, 34], [0, 4], [0, 35], [0, 30]]"
            ]
          },
          "metadata": {
            "tags": []
          },
          "execution_count": 9
        }
      ]
    },
    {
      "cell_type": "markdown",
      "metadata": {
        "id": "P0J-orW6RTh2"
      },
      "source": [
        "Матрица ретингов: строки - пользователи, столбцы - фильмы, на пересечении - 0 (не смотрел фильм) или 1 (смотрел)."
      ]
    },
    {
      "cell_type": "code",
      "metadata": {
        "id": "Zaj0lVEIRTh2"
      },
      "source": [
        "import scipy.sparse as sp\n",
        "\n",
        "# load ratings as a dok matrix\n",
        "train_mat = sp.dok_matrix((user_num, item_num), dtype=np.float32)\n",
        "for x in train_data:\n",
        "    train_mat[x[0], x[1]] = 1.0\n",
        "    \n",
        "# train_mat[userID, itemID] = 0 or 1"
      ],
      "execution_count": 10,
      "outputs": []
    },
    {
      "cell_type": "markdown",
      "metadata": {
        "id": "__GzZ0jMRTh2"
      },
      "source": [
        "**test.rating:**\n",
        "- Test file (positive instances). \n",
        "- Each Line is a testing instance: userID itemID rating timestamp (if have)"
      ]
    },
    {
      "cell_type": "code",
      "metadata": {
        "id": "e2D0UYt7RTh2",
        "colab": {
          "base_uri": "https://localhost:8080/",
          "height": 204
        },
        "outputId": "38f147a8-a990-49c6-c286-45a44d196859"
      },
      "source": [
        "test_data = pd.read_csv(\"ml-1m.test.rating\", sep='\\t', header=None, names=['user', 'item', 'rating', 'timestamp'], \n",
        "                         usecols=[0, 1, 2, 3], dtype={0: np.int32, 1: np.int32, 2: np.int32, 3: np.int32})\n",
        "test_data.head()"
      ],
      "execution_count": 11,
      "outputs": [
        {
          "output_type": "execute_result",
          "data": {
            "text/html": [
              "<div>\n",
              "<style scoped>\n",
              "    .dataframe tbody tr th:only-of-type {\n",
              "        vertical-align: middle;\n",
              "    }\n",
              "\n",
              "    .dataframe tbody tr th {\n",
              "        vertical-align: top;\n",
              "    }\n",
              "\n",
              "    .dataframe thead th {\n",
              "        text-align: right;\n",
              "    }\n",
              "</style>\n",
              "<table border=\"1\" class=\"dataframe\">\n",
              "  <thead>\n",
              "    <tr style=\"text-align: right;\">\n",
              "      <th></th>\n",
              "      <th>user</th>\n",
              "      <th>item</th>\n",
              "      <th>rating</th>\n",
              "      <th>timestamp</th>\n",
              "    </tr>\n",
              "  </thead>\n",
              "  <tbody>\n",
              "    <tr>\n",
              "      <th>0</th>\n",
              "      <td>0</td>\n",
              "      <td>25</td>\n",
              "      <td>5</td>\n",
              "      <td>978824351</td>\n",
              "    </tr>\n",
              "    <tr>\n",
              "      <th>1</th>\n",
              "      <td>1</td>\n",
              "      <td>133</td>\n",
              "      <td>3</td>\n",
              "      <td>978300174</td>\n",
              "    </tr>\n",
              "    <tr>\n",
              "      <th>2</th>\n",
              "      <td>2</td>\n",
              "      <td>207</td>\n",
              "      <td>4</td>\n",
              "      <td>978298504</td>\n",
              "    </tr>\n",
              "    <tr>\n",
              "      <th>3</th>\n",
              "      <td>3</td>\n",
              "      <td>208</td>\n",
              "      <td>4</td>\n",
              "      <td>978294282</td>\n",
              "    </tr>\n",
              "    <tr>\n",
              "      <th>4</th>\n",
              "      <td>4</td>\n",
              "      <td>222</td>\n",
              "      <td>2</td>\n",
              "      <td>978246585</td>\n",
              "    </tr>\n",
              "  </tbody>\n",
              "</table>\n",
              "</div>"
            ],
            "text/plain": [
              "   user  item  rating  timestamp\n",
              "0     0    25       5  978824351\n",
              "1     1   133       3  978300174\n",
              "2     2   207       4  978298504\n",
              "3     3   208       4  978294282\n",
              "4     4   222       2  978246585"
            ]
          },
          "metadata": {
            "tags": []
          },
          "execution_count": 11
        }
      ]
    },
    {
      "cell_type": "markdown",
      "metadata": {
        "id": "RcNxg-3BRTh3"
      },
      "source": [
        "**test.negative**\n",
        "- Test file (negative instances).\n",
        "- Each line corresponds to the line of test.rating, containing 99 negative samples.  \n",
        "- Each line is in the format: (userID,itemID) negativeItemID1 negativeItemID2 ...\n",
        "\n",
        "Это подготовленный набор данных, который мы будем использовать для тестирования нашей рекомендательной системы. Для каждого пользователя он содержит 1 фильм, который он сомтрел, и 99 фильмов, которые он НЕ смотрел. Мы будем использовать их для подсчета метрик качества."
      ]
    },
    {
      "cell_type": "code",
      "metadata": {
        "id": "9YzZdo3RRTh3"
      },
      "source": [
        "test_data = []\n",
        "with open(\"ml-1m.test.negative\", 'r') as fd:\n",
        "    line = fd.readline()\n",
        "    while line != None and line != '':\n",
        "        arr = line.split('\\t')\n",
        "        u = eval(arr[0])[0]\n",
        "        test_data.append([u, eval(arr[0])[1]])\n",
        "        for i in arr[1:]:\n",
        "            test_data.append([u, int(i)])\n",
        "        line = fd.readline()"
      ],
      "execution_count": 12,
      "outputs": []
    },
    {
      "cell_type": "code",
      "metadata": {
        "id": "Oq3oCiv7RTh3",
        "colab": {
          "base_uri": "https://localhost:8080/"
        },
        "outputId": "8544844e-20d3-4434-86f5-03a1b5c22ada"
      },
      "source": [
        "test_data[:5]"
      ],
      "execution_count": 13,
      "outputs": [
        {
          "output_type": "execute_result",
          "data": {
            "text/plain": [
              "[[0, 25], [0, 1064], [0, 174], [0, 2791], [0, 3373]]"
            ]
          },
          "metadata": {
            "tags": []
          },
          "execution_count": 13
        }
      ]
    },
    {
      "cell_type": "markdown",
      "metadata": {
        "id": "adWHSszORTh3"
      },
      "source": [
        "# Подготовка dataloaders\n",
        "\n",
        "Реализуем специальный класс для работы с данными. "
      ]
    },
    {
      "cell_type": "code",
      "metadata": {
        "id": "qRV6SE05RTh3",
        "colab": {
          "base_uri": "https://localhost:8080/"
        },
        "outputId": "63938be9-341e-4639-88de-114af72e3095"
      },
      "source": [
        "import torch\n",
        "import torch.nn as nn\n",
        "import torch.nn.functional as F \n",
        "import torch.optim as optim\n",
        "import torch.utils.data as data\n",
        "\n",
        "DEVICE = torch.device(\"cuda\" if torch.cuda.is_available() else \"cpu\")\n",
        "print(DEVICE)"
      ],
      "execution_count": 14,
      "outputs": [
        {
          "output_type": "stream",
          "text": [
            "cpu\n"
          ],
          "name": "stdout"
        }
      ]
    },
    {
      "cell_type": "code",
      "metadata": {
        "id": "dKHHBA8aRTh4"
      },
      "source": [
        "class NCFData(data.Dataset):\n",
        "    \n",
        "    def __init__(self, features, num_item, train_mat=None, num_ng=0, is_training=None):\n",
        "        super(NCFData, self).__init__()\n",
        "        \n",
        "        \"\"\" Note that the labels are only useful when training, we thus \n",
        "            add them in the ng_sample() function.\n",
        "        \"\"\"\n",
        "        \n",
        "        self.features_ps = features\n",
        "        self.num_item = num_item\n",
        "        self.train_mat = train_mat\n",
        "        self.num_ng = num_ng\n",
        "        self.is_training = is_training\n",
        "        self.labels = [0 for _ in range(len(features))]\n",
        "\n",
        "    \n",
        "    def ng_sample(self):\n",
        "        # добавляем фильмы, которые пользователь не смотрел.\n",
        "        # это нужно для примеров 0-го класса при обучении.\n",
        "        \n",
        "        assert self.is_training, 'no need to sampling when testing'\n",
        "\n",
        "        self.features_ng = []\n",
        "        for x in self.features_ps:\n",
        "            u = x[0]\n",
        "            for t in range(self.num_ng):\n",
        "                j = np.random.randint(self.num_item)\n",
        "                while (u, j) in self.train_mat:\n",
        "                    j = np.random.randint(self.num_item)\n",
        "                self.features_ng.append([u, j])\n",
        "\n",
        "        # тру метрки классов\n",
        "        labels_ps = [1 for _ in range(len(self.features_ps))]\n",
        "        labels_ng = [0 for _ in range(len(self.features_ng))]\n",
        "\n",
        "        self.features_fill = self.features_ps + self.features_ng\n",
        "        self.labels_fill = labels_ps + labels_ng\n",
        "\n",
        "    \n",
        "    def __len__(self):\n",
        "        return (self.num_ng + 1) * len(self.labels)\n",
        "\n",
        "    \n",
        "    def __getitem__(self, idx):\n",
        "        \n",
        "        features = self.features_fill if self.is_training \\\n",
        "                    else self.features_ps\n",
        "        labels = self.labels_fill if self.is_training \\\n",
        "                    else self.labels\n",
        "\n",
        "        user = features[idx][0]\n",
        "        item = features[idx][1]\n",
        "        label = labels[idx]          # Нужны только для обучения. В тесте не используются.\n",
        "        return user, item, label"
      ],
      "execution_count": 15,
      "outputs": []
    },
    {
      "cell_type": "code",
      "metadata": {
        "id": "9i39wfhSRTh4"
      },
      "source": [
        "train_dataset = NCFData(train_data, item_num, train_mat, num_ng=1, is_training=True)\n",
        "test_dataset  = NCFData(test_data,  item_num, train_mat, num_ng=0, is_training=False)"
      ],
      "execution_count": 16,
      "outputs": []
    },
    {
      "cell_type": "code",
      "metadata": {
        "id": "5dG9-YB5RTh4"
      },
      "source": [
        "# попросим класс добавить негативный примеров (фильмы. которые не смотрел пользователь)\n",
        "train_dataset.ng_sample()"
      ],
      "execution_count": 17,
      "outputs": []
    },
    {
      "cell_type": "code",
      "metadata": {
        "id": "dwgd7a2TRTh4",
        "colab": {
          "base_uri": "https://localhost:8080/"
        },
        "outputId": "88c4fb71-b1c9-4c63-97ef-d10bb5d31c17"
      },
      "source": [
        "# пример использования\n",
        "print(\"User, Item, Label\")\n",
        "\n",
        "for idx, (user, item, label) in enumerate(train_dataset):\n",
        "    print(user, item, label)\n",
        "    if idx > 5: break"
      ],
      "execution_count": 18,
      "outputs": [
        {
          "output_type": "stream",
          "text": [
            "User, Item, Label\n",
            "0 32 1\n",
            "0 34 1\n",
            "0 4 1\n",
            "0 35 1\n",
            "0 30 1\n",
            "0 29 1\n",
            "0 33 1\n"
          ],
          "name": "stdout"
        }
      ]
    },
    {
      "cell_type": "code",
      "metadata": {
        "id": "aFXMwx0LRTh5",
        "colab": {
          "base_uri": "https://localhost:8080/"
        },
        "outputId": "7462a4ae-89ce-4785-9c8b-f0f0ac252ec8"
      },
      "source": [
        "# создадим лоадеры для pytorch\n",
        "train_loader = data.DataLoader(train_dataset, batch_size=256, shuffle=True, num_workers=4)\n",
        "test_loader  = data.DataLoader(test_dataset,  batch_size=100, shuffle=False, num_workers=0) # one user per batch !!!"
      ],
      "execution_count": 19,
      "outputs": [
        {
          "output_type": "stream",
          "text": [
            "/usr/local/lib/python3.7/dist-packages/torch/utils/data/dataloader.py:477: UserWarning: This DataLoader will create 4 worker processes in total. Our suggested max number of worker in current system is 2, which is smaller than what this DataLoader is going to create. Please be aware that excessive worker creation might get DataLoader running slow or even freeze, lower the worker number to avoid potential slowness/freeze if necessary.\n",
            "  cpuset_checked))\n"
          ],
          "name": "stderr"
        }
      ]
    },
    {
      "cell_type": "code",
      "metadata": {
        "id": "as_m5ctQRTh5",
        "colab": {
          "base_uri": "https://localhost:8080/"
        },
        "outputId": "80fc7fc1-8b4f-4c4a-a1e5-0c457c6b28eb"
      },
      "source": [
        "for i in range(30):\n",
        "  print(train_dataset[i])"
      ],
      "execution_count": 20,
      "outputs": [
        {
          "output_type": "stream",
          "text": [
            "(0, 32, 1)\n",
            "(0, 34, 1)\n",
            "(0, 4, 1)\n",
            "(0, 35, 1)\n",
            "(0, 30, 1)\n",
            "(0, 29, 1)\n",
            "(0, 33, 1)\n",
            "(0, 40, 1)\n",
            "(0, 10, 1)\n",
            "(0, 16, 1)\n",
            "(0, 23, 1)\n",
            "(0, 28, 1)\n",
            "(0, 12, 1)\n",
            "(0, 8, 1)\n",
            "(0, 5, 1)\n",
            "(0, 20, 1)\n",
            "(0, 46, 1)\n",
            "(0, 15, 1)\n",
            "(0, 50, 1)\n",
            "(0, 49, 1)\n",
            "(0, 13, 1)\n",
            "(0, 1, 1)\n",
            "(0, 52, 1)\n",
            "(0, 38, 1)\n",
            "(0, 19, 1)\n",
            "(0, 6, 1)\n",
            "(0, 2, 1)\n",
            "(0, 26, 1)\n",
            "(0, 17, 1)\n",
            "(0, 39, 1)\n"
          ],
          "name": "stdout"
        }
      ]
    },
    {
      "cell_type": "markdown",
      "metadata": {
        "id": "5PD-2g9yRTh5"
      },
      "source": [
        "# Neural Collaborative Filtering (NCF)"
      ]
    },
    {
      "cell_type": "markdown",
      "metadata": {
        "id": "Irs3IfVlRTh5"
      },
      "source": [
        "### Matrix factorization algorithm\n",
        "\n",
        "NCF - это нейронная модель матричной факторизации, которая объединяет Generalized Matrix Factorization (GMF) и Multi-Layer Perceptron (MLP), объединяя в себе сильные стороны линейности MF и нелинейности MLP для моделирования скрытых структур user-item.\n",
        "\n",
        "Схема архитектуры NCF:"
      ]
    },
    {
      "cell_type": "markdown",
      "metadata": {
        "id": "OZ6vB-xtRTh5"
      },
      "source": [
        "<img src=\"https://recodatasets.blob.core.windows.net/images/NCF.svg?sanitize=true\">\n",
        "\n",
        "На схеме видно, как используются скрытые вектора пользователей и айтемов и как затем объединяются выходы из слоя GMF (слева) и слоя MLP (справа).\n",
        "\n",
        "**Статья:** Xiangnan He, Lizi Liao, Hanwang Zhang, Liqiang Nie, Xia Hu & Tat-Seng Chua, Neural Collaborative Filtering, 2017 https://arxiv.org/abs/1708.05031\n",
        "\n",
        "### 1 Модель GMF\n",
        "\n",
        "В ALS, матрицу оценок можно записать как:\n",
        "\n",
        "$$\\hat { r } _ { u , i } = q _ { i } ^ { T } p _ { u }$$\n",
        "\n",
        "GMF представляет собой слой NCF как стандартный выходной слой MF. Поэтому MF может быть легко обобщена и расширена. Например, если мы позволим веса ребер выходно слоя обучаться без общего ограничения - это даст вариант MF, который позволяет варьировать важность скрытых измерений. А если мы будем использовать нелинейную функцию активации, это даст обобщение MF до нелинейной формы, которая может быть более выразительной чем линейная MF модель. GMF может быть записана как:\n",
        "\n",
        "$$\\hat { r } _ { u , i } = a _ { o u t } \\left( h ^ { T } \\left( q _ { i } \\odot p _ { u } \\right) \\right)$$\n",
        "\n",
        "где $\\odot$ - поэлементное произведение векторов, ${a}_{out}$ и ${h}$ обозначают функцию активации и веса ребер выходного слоя соответственно. MF может рассматриваться как частный случай GMF. Интуитивно, если мы используем тождественную функцию для ${a}_{out}$ и выбираем единичный вектор в качестве ${h}$, то мы в точности повторяем модель MF."
      ]
    },
    {
      "cell_type": "markdown",
      "metadata": {
        "id": "peDEx_ycRTh6"
      },
      "source": [
        "### 2 Модель MLP\n",
        "\n",
        "NCF использует два способа при моделировании рейтингов:\n",
        "\n",
        "1) поэлементное произведение векторов,\n",
        "2) конкатенация векторов.\n",
        "\n",
        "Сразу после контатенации скрытых признаков пользователей и айтемов применяется стандартная модель MLP. Это дает возможность наделить модель большим уровнем гибкости и нелинейности для изучения взаимодействий между $p_{u}$ и $q_{i}$. \n",
        "\n",
        "Запишем модель MLP модель более строго:\n",
        "\n",
        "Для входного слоя, используется конкатенация векторов пользователей и айтемов:\n",
        "\n",
        "$$z _ { 1 } = \\phi _ { 1 } \\left( p _ { u } , q _ { i } \\right) = \\left[ \\begin{array} { c } { p _ { u } } \\\\ { q _ { i } } \\end{array} \\right]$$\n",
        "\n",
        "Для скрытых и выходного слоев MLP запись имеет вид:\n",
        "\n",
        "$$\n",
        "\\phi _ { l } \\left( z _ { l } \\right) = a _ { o u t } \\left( W _ { l } ^ { T } z _ { l } + b _ { l } \\right) , ( l = 2,3 , \\ldots , L - 1 )\n",
        "$$\n",
        "\n",
        "и:\n",
        "\n",
        "$$\n",
        "\\hat { r } _ { u , i } = \\sigma \\left( h ^ { T } \\phi \\left( z _ { L - 1 } \\right) \\right)\n",
        "$$\n",
        "\n",
        "где ${ W }_{ l }$, ${ b }_{ l }$, и ${ a }_{ out }$ обозначают матрицу весов, вектор свободных членов и функцию активации для $l$-ого слоя, соответственно. В качестве функций активации MLP слоев, мы вольны выбирать любую: сигмоиду, гиперболический тангенс, ReLU и другие. В качестве функции активации на выходном слое используется сигмоида $\\sigma(x)=\\frac{1}{1+e^{-x}}$, чтобы ограничить оценки диапазоном (0,1)."
      ]
    },
    {
      "cell_type": "markdown",
      "metadata": {
        "id": "AA-6v69KRTh6"
      },
      "source": [
        "### 3 Смешивание GMF и MLP\n",
        "\n",
        "Чтобы обеспечить большую гибкость нашей смешанной модели мы позволяем GMF и MLP обучать независимые эмбединги и затем комбинируем две модели объединяя их последние скрытие слои. Мы взяли $\\phi^{GMF}$ из GMF:\n",
        "\n",
        "$$\\phi _ { u , i } ^ { G M F } = p _ { u } ^ { G M F } \\odot q _ { i } ^ { G M F }$$\n",
        "\n",
        "и получили $\\phi^{MLP}$ из MLP:\n",
        "\n",
        "$$\\phi _ { u , i } ^ { M L P } = a _ { o u t } \\left( W _ { L } ^ { T } \\left( a _ { o u t } \\left( \\ldots a _ { o u t } \\left( W _ { 2 } ^ { T } \\left[ \\begin{array} { c } { p _ { u } ^ { M L P } } \\\\ { q _ { i } ^ { M L P } } \\end{array} \\right] + b _ { 2 } \\right) \\ldots \\right) \\right) + b _ { L }\\right.$$\n",
        "\n",
        "Наконец, мы смешали выходы из GMF и MLP:\n",
        "\n",
        "$$\\hat { r } _ { u , i } = \\sigma \\left( h ^ { T } \\left[ \\begin{array} { l } { \\phi ^ { G M F } } \\\\ { \\phi ^ { M L P } } \\end{array} \\right] \\right)$$\n",
        "\n",
        "Модель сочетает линейность MF и нелинейность DNN при моделировании скрытых user–item структур."
      ]
    },
    {
      "cell_type": "markdown",
      "metadata": {
        "id": "opt6mapSRTh6"
      },
      "source": [
        "### 4 Целевая функция\n",
        "\n",
        "Мы можем записать функцию правдоподобия как:\n",
        "\n",
        "$$P \\left( \\mathcal { R } , \\mathcal { R } ^ { - } | \\mathbf { P } , \\mathbf { Q } , \\Theta \\right) = \\prod _ { ( u , i ) \\in \\mathcal { R } } \\hat { r } _ { u , i } \\prod _ { ( u , j ) \\in \\mathcal { R } ^{ - } } \\left( 1 - \\hat { r } _ { u , j } \\right)$$\n",
        "\n",
        "Где $\\mathcal{R}$ обозначает множество наблюдаемых взаимодействий пользователя, а $\\mathcal{ R } ^ { - }$ обозначает множество негативных наблюдений. $\\mathbf{P}$ и $\\mathbf{Q}$ - это скрытая матрица признаков пользователей и айтемов соответственно, $\\Theta$ - параметры модели. Взяв со знаком минус логарифм от правдоподобия мы получим целевую функцию для минимизации NCF алгоритма. Что-то напоминает, не правда ли? https://en.wikipedia.org/wiki/Cross_entropy\n",
        "\n",
        "$$L = - \\sum _ { ( u , i ) \\in \\mathcal { R } \\cup { \\mathcal { R } } ^ { - } } r _ { u , i } \\log \\hat { r } _ { u , i } + \\left( 1 - r _ { u , i } \\right) \\log \\left( 1 - \\hat { r } _ { u , i } \\right)$$"
      ]
    },
    {
      "cell_type": "markdown",
      "metadata": {
        "id": "2F3cU7_8RTh6"
      },
      "source": [
        " "
      ]
    },
    {
      "cell_type": "code",
      "metadata": {
        "id": "8uLu3bsMRTh6"
      },
      "source": [
        "class NCF(nn.Module):\n",
        "    def __init__(self, user_num, item_num, factor_num, num_layers,\n",
        "                    dropout, model, GMF_model=None, MLP_model=None):\n",
        "        super(NCF, self).__init__()\n",
        "        \n",
        "        \"\"\"\n",
        "        user_num: number of users;\n",
        "        item_num: number of items;\n",
        "        factor_num: number of predictive factors;\n",
        "        num_layers: the number of layers in MLP model;\n",
        "        dropout: dropout rate between fully connected layers;\n",
        "        model: 'MLP', 'GMF', 'NeuMF-end', and 'NeuMF-pre';\n",
        "        GMF_model: pre-trained GMF weights;\n",
        "        MLP_model: pre-trained MLP weights.\n",
        "        \"\"\"        \n",
        "        \n",
        "        self.dropout = dropout\n",
        "        self.model = model\n",
        "        self.GMF_model = GMF_model\n",
        "        self.MLP_model = MLP_model\n",
        "\n",
        "        self.embed_user_GMF = nn.Embedding(user_num, factor_num)\n",
        "        self.embed_item_GMF = nn.Embedding(item_num, factor_num)\n",
        "        \n",
        "        self.embed_user_MLP = nn.Embedding(user_num, factor_num * (2 ** (num_layers - 1)))\n",
        "        self.embed_item_MLP = nn.Embedding(item_num, factor_num * (2 ** (num_layers - 1)))\n",
        "\n",
        "        MLP_modules = []\n",
        "        for i in range(num_layers):\n",
        "            input_size = factor_num * (2 ** (num_layers - i))\n",
        "            MLP_modules.append(nn.Dropout(p=self.dropout))\n",
        "            MLP_modules.append(nn.Linear(input_size, input_size//2))\n",
        "            MLP_modules.append(nn.ReLU())\n",
        "        self.MLP_layers = nn.Sequential(*MLP_modules)\n",
        "\n",
        "        if self.model in ['MLP', 'GMF']:\n",
        "            predict_size = factor_num \n",
        "        else:\n",
        "            predict_size = factor_num * 2\n",
        "        self.predict_layer = nn.Linear(predict_size, 1)\n",
        "\n",
        "        self._init_weight_()\n",
        "\n",
        "    \n",
        "    def _init_weight_(self):\n",
        "        \n",
        "        \"\"\" We leave the weights initialization here. \"\"\"\n",
        "        \n",
        "        if not self.model == 'NeuMF-pre':\n",
        "            nn.init.normal_(self.embed_user_GMF.weight, std=0.01)\n",
        "            nn.init.normal_(self.embed_user_MLP.weight, std=0.01)\n",
        "            nn.init.normal_(self.embed_item_GMF.weight, std=0.01)\n",
        "            nn.init.normal_(self.embed_item_MLP.weight, std=0.01)\n",
        "\n",
        "            for m in self.MLP_layers:\n",
        "                if isinstance(m, nn.Linear):\n",
        "                    nn.init.xavier_uniform_(m.weight)\n",
        "            \n",
        "            nn.init.kaiming_uniform_(self.predict_layer.weight, a=1, nonlinearity='sigmoid')\n",
        "\n",
        "            for m in self.modules():\n",
        "                if isinstance(m, nn.Linear) and m.bias is not None:\n",
        "                    m.bias.data.zero_()\n",
        "        else:\n",
        "            # embedding layers\n",
        "            self.embed_user_GMF.weight.data.copy_(self.GMF_model.embed_user_GMF.weight)\n",
        "            self.embed_item_GMF.weight.data.copy_(self.GMF_model.embed_item_GMF.weight)\n",
        "            self.embed_user_MLP.weight.data.copy_(self.MLP_model.embed_user_MLP.weight)\n",
        "            self.embed_item_MLP.weight.data.copy_(self.MLP_model.embed_item_MLP.weight)\n",
        "\n",
        "            # mlp layers\n",
        "            for (m1, m2) in zip(self.MLP_layers, self.MLP_model.MLP_layers):\n",
        "                if isinstance(m1, nn.Linear) and isinstance(m2, nn.Linear):\n",
        "                    m1.weight.data.copy_(m2.weight)\n",
        "                    m1.bias.data.copy_(m2.bias)\n",
        "\n",
        "            # predict layers\n",
        "            predict_weight = torch.cat([\n",
        "                self.GMF_model.predict_layer.weight, \n",
        "                self.MLP_model.predict_layer.weight], dim=1)\n",
        "            \n",
        "            precit_bias = self.GMF_model.predict_layer.bias + self.MLP_model.predict_layer.bias\n",
        "\n",
        "            self.predict_layer.weight.data.copy_(0.5 * predict_weight)\n",
        "            self.predict_layer.bias.data.copy_(0.5 * precit_bias)\n",
        "\n",
        "    def forward(self, user, item):\n",
        "        \n",
        "        if not self.model == 'MLP':\n",
        "            embed_user_GMF = # your code here\n",
        "            embed_item_GMF = # your code here\n",
        "            output_GMF = # your code here\n",
        "        \n",
        "        if not self.model == 'GMF':\n",
        "            embed_user_MLP = # your code here\n",
        "            embed_item_MLP = # your code here\n",
        "            interaction = # your code here\n",
        "            output_MLP = # your code here\n",
        "\n",
        "        if self.model == 'GMF':\n",
        "            concat = output_GMF\n",
        "        elif self.model == 'MLP':\n",
        "            concat = output_MLP\n",
        "        else:\n",
        "            concat = torch.cat((output_GMF, output_MLP), -1)\n",
        "\n",
        "        prediction = self.predict_layer(concat)\n",
        "        return prediction.view(-1)"
      ],
      "execution_count": 24,
      "outputs": []
    },
    {
      "cell_type": "code",
      "metadata": {
        "id": "2FOBO1WGRTh7"
      },
      "source": [
        "model = NCF(user_num, item_num, factor_num=32, num_layers=3, dropout=0.0, model='NeuMF-end')\n",
        "model.to(DEVICE)\n",
        "\n",
        "loss_function = nn.BCEWithLogitsLoss()\n",
        "optimizer = optim.Adam(model.parameters(), lr=0.001)"
      ],
      "execution_count": 25,
      "outputs": []
    },
    {
      "cell_type": "markdown",
      "metadata": {
        "id": "BwVqJlT-RTh7"
      },
      "source": [
        "# Обучение модели"
      ]
    },
    {
      "cell_type": "code",
      "metadata": {
        "id": "VXZu5Gk0RTh7",
        "colab": {
          "base_uri": "https://localhost:8080/",
          "height": 391
        },
        "outputId": "6acf50fe-bd57-4101-acae-ce4d57bd9abc"
      },
      "source": [
        "%%time\n",
        "\n",
        "loss_val = []\n",
        "\n",
        "for epoch in range(1): # try more epoches\n",
        "    \n",
        "    # Train\n",
        "    model.train() # Enable dropout (if have).\n",
        "    train_loader.dataset.ng_sample()\n",
        "\n",
        "    for user, item, label in train_loader:\n",
        "        user = user.to(DEVICE)\n",
        "        item = item.to(DEVICE)\n",
        "        label = label.float().to(DEVICE)\n",
        "\n",
        "        model.zero_grad()\n",
        "        prediction = model(user, item)\n",
        "        loss = loss_function(prediction, label)\n",
        "        loss.backward()\n",
        "        optimizer.step()\n",
        "        \n",
        "        \n",
        "        # Plot learning curve\n",
        "        loss_val.append(loss.cpu().detach().numpy())\n",
        "        \n",
        "        if len(loss_val) % 100 != 0: continue\n",
        "        \n",
        "        clear_output(wait=True)\n",
        "        plt.figure(figsize=(10, 5))\n",
        "        plt.plot(loss_val)\n",
        "        plt.xlabel(\"Number of iterations\", size=14)\n",
        "        plt.ylabel(\"Loss\", size=14)\n",
        "        plt.title(\"Epoch number: \"+str(epoch+1), size=14)\n",
        "        plt.show()"
      ],
      "execution_count": 26,
      "outputs": [
        {
          "output_type": "display_data",
          "data": {
            "image/png": "[encoded data removed]",
            "text/plain": [
              "<Figure size 720x360 with 1 Axes>"
            ]
          },
          "metadata": {
            "tags": [],
            "needs_background": "light"
          }
        },
        {
          "output_type": "stream",
          "text": [
            "CPU times: user 2min 37s, sys: 6.76 s, total: 2min 43s\n",
            "Wall time: 2min 51s\n"
          ],
          "name": "stdout"
        }
      ]
    },
    {
      "cell_type": "markdown",
      "metadata": {
        "id": "7WR8EXOzRTh7"
      },
      "source": [
        "# Метрики качества"
      ]
    },
    {
      "cell_type": "markdown",
      "metadata": {
        "id": "9dMG3jfHRTh7"
      },
      "source": [
        "**Метрики качества предсказания событий:**\n",
        "\n",
        "$$Hitrate@k = |R_u (k) \\cap L_u|$$\n",
        "\n",
        "$$Precision@k = \\frac{|R_u (k) \\cap L_u|}{|R_u (k)|}$$\n",
        "\n",
        "$$Recall@k = \\frac{|R_u (k) \\cap L_u|}{|L_u|}$$\n",
        "\n",
        "где $R_u$ (k) - список k лучших рекомендаций алгоритма; $L_u$ - список фильмов, которые пользователь реально посмотрел.\n",
        "\n",
        "\n",
        "**Метрики качества ранжирования:**\n",
        "\n",
        "$$ DCG@k =  \\sum_{p=1}^{k} g(r_{ui_{p}}) d(p) $$\n",
        "\n",
        "где $p$ - позиция фильма в списке рекомендаций; $g(r) = 2^r - 1$; $d(p) = \\frac{1}{\\log(p+1)}$.\n",
        "\n",
        "$$ nDCG@k =  \\frac{DCG@k}{max DCG@k}$$\n",
        "\n",
        "\n",
        "**Конспект**: https://github.com/hse-ds/iad-applied-ds/blob/master/2020/lectures/lecture03-recommender.pdf"
      ]
    },
    {
      "cell_type": "markdown",
      "metadata": {
        "id": "n2URe9_7RTh8"
      },
      "source": [
        "### Задание 1\n",
        "\n",
        "Напишите функцию для подсчета `Hitrate@k`."
      ]
    },
    {
      "cell_type": "code",
      "metadata": {
        "id": "_OdR_9M6RTh8"
      },
      "source": [
        "def hit(gt_item, pred_items):\n",
        "    \"\"\"\n",
        "    gt_item : ID фильма, который пользователь реально посмотрел.\n",
        "    pred_items: спискок К рекомендаций фильмов.\n",
        "    \n",
        "    Пример:\n",
        "    gt_item = 25\n",
        "    pred_items = [128, 25, 174, 273, 175, 1135, 1182, 617, 58, 1902]\n",
        "    \"\"\"\n",
        "    ### YOUR CODE HERE ####\n",
        "\n",
        "    return 0\n",
        "    ### THE END ###########"
      ],
      "execution_count": 27,
      "outputs": []
    },
    {
      "cell_type": "markdown",
      "metadata": {
        "id": "GxF6W29TRTh8"
      },
      "source": [
        "### Задание 2\n",
        "\n",
        "Напишите функцию для подсчета `nDCG@k`. Используйте $g(r) = 1$."
      ]
    },
    {
      "cell_type": "code",
      "metadata": {
        "id": "dDQMpdGgRTh8"
      },
      "source": [
        "def ndcg(gt_item, pred_items):\n",
        "    \"\"\"\n",
        "    gt_item : ID фильма, который пользователь реально посмотрел.\n",
        "    pred_items: спискок К рекомендаций фильмов.\n",
        "    \n",
        "    Пример:\n",
        "    gt_item = 25\n",
        "    pred_items = [128, 25, 174, 273, 175, 1135, 1182, 617, 58, 1902]\n",
        "    \"\"\"\n",
        "    ### YOUR CODE HERE ####\n",
        "\n",
        "    return 0\n",
        "    ### THE END ###########"
      ],
      "execution_count": 28,
      "outputs": []
    },
    {
      "cell_type": "markdown",
      "metadata": {
        "id": "0kLeTPFJRTh8"
      },
      "source": [
        "### Задание 3\n",
        "\n",
        "Напишите функцию, которая будет считать средние значения метрик качесвта на тестовых данных. Используйте `torch.topk()` и `torch.take()`."
      ]
    },
    {
      "cell_type": "code",
      "metadata": {
        "id": "65xo2_BkRTh8"
      },
      "source": [
        "def metrics(model, test_loader, top_k):\n",
        "    HR, NDCG = [], []\n",
        "\n",
        "    for user, item, label in test_loader:\n",
        "        \n",
        "        user = user.to(DEVICE)\n",
        "        item = item.to(DEVICE)\n",
        "\n",
        "        predictions = model(user, item)\n",
        "        _, indices = torch.topk(predictions, top_k)\n",
        "        recommends = torch.take(item, indices).cpu().numpy().tolist()\n",
        "\n",
        "        gt_item = item[0].item()\n",
        "        HR.append(hit(gt_item, recommends))\n",
        "        NDCG.append(ndcg(gt_item, recommends))\n",
        "\n",
        "    return np.mean(HR), np.mean(NDCG)"
      ],
      "execution_count": 29,
      "outputs": []
    },
    {
      "cell_type": "markdown",
      "metadata": {
        "id": "QDnO7mt9RTh9"
      },
      "source": [
        "Посчитаем метрики качества на тесте."
      ]
    },
    {
      "cell_type": "code",
      "metadata": {
        "id": "YGFLg1rTRTh9",
        "colab": {
          "base_uri": "https://localhost:8080/"
        },
        "outputId": "e2d6209a-1786-426a-ce75-6693e7577059"
      },
      "source": [
        "model.eval()\n",
        "HR, NDCG = metrics(model, test_loader, top_k=10)\n",
        "HR, NDCG"
      ],
      "execution_count": 30,
      "outputs": [
        {
          "output_type": "execute_result",
          "data": {
            "text/plain": [
              "(0.5852649006622517, 0.469997872814622)"
            ]
          },
          "metadata": {
            "tags": []
          },
          "execution_count": 30
        }
      ]
    },
    {
      "cell_type": "markdown",
      "metadata": {
        "id": "AwXmrnMKRTh9"
      },
      "source": [
        "# Factorization Machine (FM)\n",
        "\n",
        "Авторы статьи https://arxiv.org/abs/2005.09683 утверждают, что NCF плохо учит произведение векторов. В результате, более простые методы демонстрируют лучшее качество рекомендаций. Сравним NCF c FM.\n",
        "\n",
        "<img src=\"https://s3-us-west-1.amazonaws.com/sijunhe-blog/plots/post15/fm_example.png\">\n",
        "\n",
        "Модель предполагает, что рейтинг $\\hat{y}(x)$ зависит от вектора признаков следующим образом:\n",
        "$$\\hat{y}(x) = w_0 + \\sum_{i=1}^{n}w_i x_i + \\sum_{i=1}^{n} \\sum_{j=i+1}^{n} <v_i, v_j> x_i x_j$$\n",
        "\n",
        "**Конспект:** https://github.com/hse-ds/iad-applied-ds/blob/master/2020/lectures/lecture02-recommender.pdf"
      ]
    },
    {
      "cell_type": "code",
      "metadata": {
        "id": "yC64tb55RTh9",
        "colab": {
          "base_uri": "https://localhost:8080/"
        },
        "outputId": "aec093a2-ef0e-4a40-a5cb-8f4bef412ec4"
      },
      "source": [
        "!pip install git+https://github.com/coreylynch/pyFM"
      ],
      "execution_count": 31,
      "outputs": [
        {
          "output_type": "stream",
          "text": [
            "Collecting git+https://github.com/coreylynch/pyFM\n",
            "  Cloning https://github.com/coreylynch/pyFM to /tmp/pip-req-build-rns3hpud\n",
            "  Running command git clone -q https://github.com/coreylynch/pyFM /tmp/pip-req-build-rns3hpud\n",
            "Building wheels for collected packages: pyfm\n",
            "  Building wheel for pyfm (setup.py) ... \u001b[?25l\u001b[?25hdone\n",
            "  Created wheel for pyfm: filename=pyfm-0.0.0-cp37-cp37m-linux_x86_64.whl size=216608 sha256=ae5a814e0871950e1faeb0561ec3d118bf8a89845dfbc26012f2fb8b8b395b9f\n",
            "  Stored in directory: /tmp/pip-ephem-wheel-cache-mrww5d1g/wheels/3b/d9/ef/1b148c527d39344632833679e79b3db1798a40b0f64f917b13\n",
            "Successfully built pyfm\n",
            "Installing collected packages: pyfm\n",
            "Successfully installed pyfm-0.0.0\n"
          ],
          "name": "stdout"
        }
      ]
    },
    {
      "cell_type": "code",
      "metadata": {
        "id": "M7m4IDXlRTh9"
      },
      "source": [
        "from pyfm import pylibfm\n",
        "from sklearn.feature_extraction import DictVectorizer"
      ],
      "execution_count": 32,
      "outputs": []
    },
    {
      "cell_type": "markdown",
      "metadata": {
        "id": "uy-swMN_RTh-"
      },
      "source": [
        "## Подготовка данных\n",
        "Приведем обучающую выборку к нужному формату."
      ]
    },
    {
      "cell_type": "code",
      "metadata": {
        "id": "BIx55-1zRTh-"
      },
      "source": [
        "train_dataset_fm = []\n",
        "y_train = []\n",
        "\n",
        "for i in range(0, len(train_dataset.features_fill), 10): # весь датасет может сломать pyfm !!!\n",
        "    user, item = train_dataset.features_fill[i]\n",
        "    label      = train_dataset.labels_fill[i]\n",
        "    train_dataset_fm += [{'user': str(user), 'item': str(item)}]\n",
        "    y_train += [label]"
      ],
      "execution_count": 33,
      "outputs": []
    },
    {
      "cell_type": "code",
      "metadata": {
        "id": "qZOvN_heRTh-",
        "colab": {
          "base_uri": "https://localhost:8080/"
        },
        "outputId": "803e1113-41d6-47b9-c022-183c343024b1"
      },
      "source": [
        "# пример\n",
        "train_dataset_fm[:5]"
      ],
      "execution_count": 34,
      "outputs": [
        {
          "output_type": "execute_result",
          "data": {
            "text/plain": [
              "[{'item': '32', 'user': '0'},\n",
              " {'item': '23', 'user': '0'},\n",
              " {'item': '13', 'user': '0'},\n",
              " {'item': '45', 'user': '0'},\n",
              " {'item': '44', 'user': '0'}]"
            ]
          },
          "metadata": {
            "tags": []
          },
          "execution_count": 34
        }
      ]
    },
    {
      "cell_type": "code",
      "metadata": {
        "id": "EGB13XtDRTh-",
        "colab": {
          "base_uri": "https://localhost:8080/"
        },
        "outputId": "a2a532ee-33a8-43b8-85fe-071763127355"
      },
      "source": [
        "# пример\n",
        "y_train[:5]"
      ],
      "execution_count": 35,
      "outputs": [
        {
          "output_type": "execute_result",
          "data": {
            "text/plain": [
              "[1, 1, 1, 1, 1]"
            ]
          },
          "metadata": {
            "tags": []
          },
          "execution_count": 35
        }
      ]
    },
    {
      "cell_type": "markdown",
      "metadata": {
        "id": "j_NZWH1NRTh-"
      },
      "source": [
        "## Обучение FM"
      ]
    },
    {
      "cell_type": "code",
      "metadata": {
        "id": "62XsQTf2RTh-"
      },
      "source": [
        "# переведем словарь в метрицу векторов x\n",
        "v = DictVectorizer()\n",
        "X_train = v.fit_transform(train_dataset_fm)\n",
        "y_train = np.array(y_train)"
      ],
      "execution_count": null,
      "outputs": []
    },
    {
      "cell_type": "code",
      "metadata": {
        "colab": {
          "base_uri": "https://localhost:8080/"
        },
        "id": "QlF2Bxp3AT6s",
        "outputId": "07326dc3-2024-49c4-a15f-3a298ec09ae7"
      },
      "source": [
        "len(train_dataset_fm)"
      ],
      "execution_count": null,
      "outputs": [
        {
          "output_type": "execute_result",
          "data": {
            "text/plain": [
              "198834"
            ]
          },
          "metadata": {
            "tags": []
          },
          "execution_count": 66
        }
      ]
    },
    {
      "cell_type": "code",
      "metadata": {
        "colab": {
          "base_uri": "https://localhost:8080/"
        },
        "id": "OT4iAIy0AReO",
        "outputId": "b6244e57-a464-4c03-ceb4-d416bf1c5fad"
      },
      "source": [
        "X_train.shape"
      ],
      "execution_count": null,
      "outputs": [
        {
          "output_type": "execute_result",
          "data": {
            "text/plain": [
              "(198834, 9746)"
            ]
          },
          "metadata": {
            "tags": []
          },
          "execution_count": 64
        }
      ]
    },
    {
      "cell_type": "code",
      "metadata": {
        "colab": {
          "base_uri": "https://localhost:8080/"
        },
        "id": "dIO83eYC_1K4",
        "outputId": "5b41c375-892f-4526-e316-8601f6859937"
      },
      "source": [
        "y_train.mean()"
      ],
      "execution_count": null,
      "outputs": [
        {
          "output_type": "execute_result",
          "data": {
            "text/plain": [
              "0.5"
            ]
          },
          "metadata": {
            "tags": []
          },
          "execution_count": 63
        }
      ]
    },
    {
      "cell_type": "code",
      "metadata": {
        "id": "6SISZd-uRTh-",
        "colab": {
          "base_uri": "https://localhost:8080/"
        },
        "outputId": "7b9a52cf-3751-4ee2-e540-bd27c9e3618e"
      },
      "source": [
        "%%time\n",
        "# обучение\n",
        "fm = pylibfm.FM(num_factors=32, num_iter=20, verbose=True, task=\"classification\", \n",
        "                initial_learning_rate=0.01, learning_rate_schedule=\"optimal\")\n",
        "fm.fit(X_train, y_train)"
      ],
      "execution_count": null,
      "outputs": [
        {
          "output_type": "stream",
          "text": [
            "Creating validation dataset of 0.01 of training for adaptive regularization\n",
            "-- Epoch 1\n",
            "Training log loss: 0.66203\n",
            "-- Epoch 2\n",
            "Training log loss: 0.61101\n",
            "-- Epoch 3\n",
            "Training log loss: 0.57776\n",
            "-- Epoch 4\n",
            "Training log loss: 0.55446\n",
            "-- Epoch 5\n",
            "Training log loss: 0.53722\n",
            "-- Epoch 6\n",
            "Training log loss: 0.52402\n",
            "-- Epoch 7\n",
            "Training log loss: 0.51362\n",
            "-- Epoch 8\n",
            "Training log loss: 0.50524\n",
            "-- Epoch 9\n",
            "Training log loss: 0.49835\n",
            "-- Epoch 10\n",
            "Training log loss: 0.49260\n",
            "-- Epoch 11\n",
            "Training log loss: 0.48774\n",
            "-- Epoch 12\n",
            "Training log loss: 0.48341\n",
            "-- Epoch 13\n",
            "Training log loss: 0.47974\n",
            "-- Epoch 14\n",
            "Training log loss: 0.47640\n",
            "-- Epoch 15\n",
            "Training log loss: 0.47332\n",
            "-- Epoch 16\n",
            "Training log loss: 0.47059\n",
            "-- Epoch 17\n",
            "Training log loss: 0.46796\n",
            "-- Epoch 18\n",
            "Training log loss: 0.46546\n",
            "-- Epoch 19\n",
            "Training log loss: 0.46305\n",
            "-- Epoch 20\n",
            "Training log loss: 0.46078\n",
            "CPU times: user 3min 16s, sys: 1.02 s, total: 3min 17s\n",
            "Wall time: 3min 17s\n"
          ],
          "name": "stdout"
        }
      ]
    },
    {
      "cell_type": "markdown",
      "metadata": {
        "id": "qBTnnZgPRTh_"
      },
      "source": [
        "## Измерение качества"
      ]
    },
    {
      "cell_type": "markdown",
      "metadata": {
        "id": "rs7VZkBdRTh_"
      },
      "source": [
        "### Задание 4\n",
        "\n",
        "Напишите функцию, которая будет считать средние значения метрик качесвта на тестовых данных. Используйте `torch.topk()` и `torch.take()`."
      ]
    },
    {
      "cell_type": "code",
      "metadata": {
        "id": "3wFo6imrRTh_"
      },
      "source": [
        "def metricsFM(model, test_loader, top_k):\n",
        "    HR, NDCG = [], []\n",
        "\n",
        "    for user, item, label in test_loader:\n",
        "        \n",
        "        ### YOUR CODE HERE ####\n",
        "        ui = [{'user': str(u), 'item': str(i)} for (u, i) in zip(user.detach().numpy(), item.detach().numpy())]\n",
        "        predictions = model.predict(v.transform(ui))\n",
        "        _, indices = torch.topk(torch.tensor(predictions), top_k)\n",
        "        recommends = torch.take(item, indices).cpu().numpy().tolist()\n",
        "\n",
        "        gt_item = item[0].item()\n",
        "        HR.append(hit(gt_item, recommends))\n",
        "        NDCG.append(ndcg(gt_item, recommends))\n",
        "        ### THE END ###########\n",
        "\n",
        "    return np.mean(HR), np.mean(NDCG)"
      ],
      "execution_count": null,
      "outputs": []
    },
    {
      "cell_type": "code",
      "metadata": {
        "id": "A6dGyE9NRTh_",
        "colab": {
          "base_uri": "https://localhost:8080/"
        },
        "outputId": "327df499-0c18-4a22-b690-08565d4c8421"
      },
      "source": [
        "HR, NDCG = metricsFM(fm, test_loader, top_k=10)\n",
        "HR, NDCG"
      ],
      "execution_count": null,
      "outputs": [
        {
          "output_type": "execute_result",
          "data": {
            "text/plain": [
              "(0.44437086092715233, 0.24238351163304817)"
            ]
          },
          "metadata": {
            "tags": []
          },
          "execution_count": 46
        }
      ]
    },
    {
      "cell_type": "markdown",
      "metadata": {
        "id": "LAm8jTzYRTh_"
      },
      "source": [
        "# Вопросы:\n",
        "- Какой из алгоритмов лучше?\n",
        "- Как вы думаете почему?"
      ]
    },
    {
      "cell_type": "markdown",
      "metadata": {
        "id": "93KD8uVMRTh_"
      },
      "source": [
        "# Ссылки\n",
        "\n",
        "- Тетрадка реализовна на основе кода https://github.com/guoyang9/NCF."
      ]
    },
    {
      "cell_type": "code",
      "metadata": {
        "id": "R1jsoAweRTiA"
      },
      "source": [
        ""
      ],
      "execution_count": null,
      "outputs": []
    }
  ]
}