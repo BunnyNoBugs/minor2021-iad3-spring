{
  "nbformat": 4,
  "nbformat_minor": 0,
  "metadata": {
    "kernelspec": {
      "display_name": "Python 3",
      "language": "python",
      "name": "python3"
    },
    "language_info": {
      "codemirror_mode": {
        "name": "ipython",
        "version": 3
      },
      "file_extension": ".py",
      "mimetype": "text/x-python",
      "name": "python",
      "nbconvert_exporter": "python",
      "pygments_lexer": "ipython3",
      "version": "3.8.3"
    },
    "colab": {
      "name": "Копия блокнота \"sem11_stat2.ipynb\"",
      "provenance": [],
      "include_colab_link": true
    }
  },
  "cells": [
    {
      "cell_type": "markdown",
      "metadata": {
        "id": "view-in-github",
        "colab_type": "text"
      },
      "source": [
        "<a href=\"https://colab.research.google.com/github/BunnyNoBugs/minor2021-iad3-spring/blob/main/sem11_stat2/sem11_stat2.ipynb\" target=\"_parent\"><img src=\"https://colab.research.google.com/assets/colab-badge.svg\" alt=\"Open In Colab\"/></a>"
      ]
    },
    {
      "cell_type": "markdown",
      "metadata": {
        "id": "qzDrw3NuzJEa"
      },
      "source": [
        "## Семинар 11: AB, Статистика 2"
      ]
    },
    {
      "cell_type": "markdown",
      "metadata": {
        "id": "R-Qan_mzzJEe"
      },
      "source": [
        "## План семинара\n",
        "- [Часть 0. Идея статистического вывода](#Часть-0.-Идея-статистического-вывода)\n",
        "    - [Статистические гипотезы](#Статистические-гипотезы)\n",
        "    - [Статистический критерий](#Статистический-критерий)\n",
        "    - [Уровень статистической значимости (p-value)](#Уровень-статистической-значимости-(p-value))\n",
        "    - [Ошибки первого и второго рода](#Ошибки-первого-и-второго-рода)\n",
        "    - [Мощность критерия](#Мощность-критерия)\n",
        "- [Часть 1. Сравнение средних и t-тест](#Часть-1.-Сравнение-средних-и-t-тест)\n",
        "    - [Случай несвязных выборок](#Случай-несвязных-выборок)\n",
        "    - [Случай связных выборок](#Случай-связных-выборок)\n",
        "    - [Требования к данным](#Требования-к-данным)\n",
        "- [Часть 2. Хи-квадрат](#Часть-2.-Хи-квадрат)\n",
        "    - [Сравнение эмпирического распределения с теоретическим](#Сравнение-эмпирического-распределения-с-теоретическим)\n",
        "    - [Сравнение двух экспериментальных распределений](#Сравнение-двух-экспериментальных-распределений)"
      ]
    },
    {
      "cell_type": "code",
      "metadata": {
        "id": "2o58FCBBzJEf"
      },
      "source": [
        "import numpy as np\n",
        "import matplotlib.pyplot as plt\n",
        "%matplotlib inline"
      ],
      "execution_count": null,
      "outputs": []
    },
    {
      "cell_type": "markdown",
      "metadata": {
        "id": "iUtJNdRNzJEg"
      },
      "source": [
        "## Часть 0. Идея статистического вывода"
      ]
    },
    {
      "cell_type": "markdown",
      "metadata": {
        "id": "PKd-j_bDzJEg"
      },
      "source": [
        "Для начала, вспомним некоторые понятия из математической статистики."
      ]
    },
    {
      "cell_type": "markdown",
      "metadata": {
        "id": "DcoP4HH3zJEg"
      },
      "source": [
        "### Статистические гипотезы"
      ]
    },
    {
      "cell_type": "markdown",
      "metadata": {
        "id": "07UvQn7FzJEg"
      },
      "source": [
        "Исследователю в процессе работы часто приходится отвечать на вопросы типа:\n",
        "1. Можно ли утверждать, что новый баннер увеличивает CTR (click-through rate)?\n",
        "2. Действительно ли разаботанное лекарство ускоряет процесс выздоравления пациентов?\n",
        "3. Правда ли, что средняя продолжительность жизни в двух конкретных странах разная?\n",
        "4. И др.\n",
        "\n",
        "Для того, чтобы ответить на эти вопросы необходимо сформулировать статистические гипотезы. Формулирование гипотез систематизирует предположения исследователя и представляет их в четком и лаконичном виде.\n",
        "\n",
        "\n",
        "Статистические гипотезы разделяют на **нулевые** и **альтернативные**:\n",
        "1. **Нулевая гипотеза $H_0$** - это гипотеза об отсутствии различий. Нулевая гипотеза - это то, что мы хотим опровергнуть, если перед нами стоит задача доказать значимость различий.\n",
        "2. **Альтернативная гипотеза $H_1$** - это гипотеза о значимости различий, то, что мы хотим доказать.\n",
        "\n",
        "\n",
        "Например, для третьего вопроса гипотезы можно сформулировать следующим образом:\n",
        "1. **Нулевая гипотеза $H_0$**: среднии продолжительности жизни в этих странах **равны**.\n",
        "2. **Альтернативная гипотеза $H_1$**: среднии продолжительности жизни в этих странах **не равны**."
      ]
    },
    {
      "cell_type": "markdown",
      "metadata": {
        "id": "pH4SsBvQzJEi"
      },
      "source": [
        "**Задание:** Сформулируйте нулевую и альтернативную гипотезы для первого и второго вопроса."
      ]
    },
    {
      "cell_type": "markdown",
      "metadata": {
        "id": "KLVQW8WOzJEi"
      },
      "source": [
        "### Статистический критерий"
      ]
    },
    {
      "cell_type": "markdown",
      "metadata": {
        "id": "K1cMn5DRzJEi"
      },
      "source": [
        "Статистический критерий - это решающее правило, обеспечивающее надежное поведение, то есть принятие истинной и отклонение ложной гипотезы с высокой вероятностью. Статистические критерии обозначают также метод расчета определенного числа и само это число."
      ]
    },
    {
      "cell_type": "markdown",
      "metadata": {
        "id": "HAIOLiLPzJEi"
      },
      "source": [
        "### Уровень статистической значимости (p-value)"
      ]
    },
    {
      "cell_type": "markdown",
      "metadata": {
        "id": "S7p8ulbCzJEi"
      },
      "source": [
        "**Уровень значимости** - это вероятность того, что мы сочли различия существенными, а они на самом деле случайны.\n",
        "Когда мы указываем, что различия достоверны на $5\\%$-ом уровне значимости, или при $р<0,05$, то мы имеем виду, что вероятность того,\n",
        "что они все-таки недостоверны, составляет $0,05$.\n",
        "\n",
        "Если перевести все это на более формализованный язык, то уровень значимости - это вероятность отклонения нулевой гипотезы, в то\n",
        "время как она верна.\n",
        "\n",
        "Нулевую гипотезу отклоняют (обычно), если достигнутый уровень значимости $р<0,05$."
      ]
    },
    {
      "cell_type": "markdown",
      "metadata": {
        "id": "GgkW1RyxzJEj"
      },
      "source": [
        "### Ошибки первого и второго рода"
      ]
    },
    {
      "cell_type": "markdown",
      "metadata": {
        "id": "120SHG5IzJEj"
      },
      "source": [
        "- **Ошибкой I рода** называется ошибка, состоящая в том, что мы **отклонили** нулевую гипотезу, в то время как она верна.\n",
        "- **Ошибкой II рода** называется ошибка, состоящая в том, что мы **приняли** нулевую гипотезу, в то время как она неверна."
      ]
    },
    {
      "cell_type": "markdown",
      "metadata": {
        "id": "QO5lQ6F4zJEj"
      },
      "source": [
        "### Мощность критерия"
      ]
    },
    {
      "cell_type": "markdown",
      "metadata": {
        "id": "f4lYgDAJzJEj"
      },
      "source": [
        "**Мощность критерия** - это его способность выявлять различия, если они есть. Иными словами, это его способность отклонить нулевую гипотезу об отсутствии различий, если она неверна.\n",
        "\n",
        "\n",
        "Вероятность ошибки II рода обозначается как $\\beta$.\n",
        "\n",
        "Мощность критерия - это его способность не допустить ошибку II рода, поэтому:\n",
        "\n",
        "   - Мощность $ = 1 - \\beta$.\n",
        "\n",
        "Мощность критерия определяется эмпирическим путем. Одни и те же задачи могут быть решены с помощью разных критериев, при\n",
        "этом обнаруживается, что некоторые критерии позволяют выявить различия там, где другие оказываются неспособными это сделать, или выявляют более высокий уровень значимости различий. Возникает вопрос:\n",
        "а зачем же тогда использовать менее мощные критерии? Дело в том,\n",
        "что основанием для выбора критерия может быть не только мощность,\n",
        "но и другие его характеристики, а именно:\n",
        "- простота\n",
        "- более широкий диапазон использования (например, по отношению к данным, определенным по номинативной шкале, или по отношению к\n",
        "большим $n$)\n",
        "- применимость по отношению к неравным по объему выборкам"
      ]
    },
    {
      "cell_type": "markdown",
      "metadata": {
        "id": "bIGzyUWDzJEk"
      },
      "source": [
        "## Часть 1. Сравнение средних и t-тест"
      ]
    },
    {
      "cell_type": "code",
      "metadata": {
        "id": "n0zjmDs4zJEk"
      },
      "source": [
        "from scipy.stats import ttest_ind, ttest_rel\n",
        "from scipy.stats import t, norm"
      ],
      "execution_count": null,
      "outputs": []
    },
    {
      "cell_type": "markdown",
      "metadata": {
        "id": "nduzXf6NzJEk"
      },
      "source": [
        "**t-критерий Стьюдента** (или **t-тест**) направлен на оценку различий велечин средних $\\bar{X}$ и $\\bar{Y}$ двух выборок $X$ и $Y$, которые распределенны по нормальному закону. Критерий может быть использован для сопоставления средних у связных и несвязных выборок, причем выборки могут быть не равны по величине.\n",
        "\n",
        "t-критерий Стьюдента основан на **распределении Стьюдента** - однопараметрическом непрерывном распредлении, где в качестве параметра выступает **число степеней свободы $n$**. Число степений свободы считается как количество элементов выборки минус 1.\n",
        "\n",
        "Распределение Стьюдента очень похоже на нормальное распределение, но его график плотности при малом количестве степеней свободы имеет более тяжелые хвосты - случайная величина чаще **сильно** отклоняется от своего среднего значения. При $n\\geq30$ практически полностью совпадает с нормальным распределением."
      ]
    },
    {
      "cell_type": "code",
      "metadata": {
        "id": "HnSGWak3zJEl",
        "colab": {
          "base_uri": "https://localhost:8080/",
          "height": 428
        },
        "outputId": "c82acfc9-3645-4a9f-b247-8c72d8377ceb"
      },
      "source": [
        "fig, ax = plt.subplots(1, 1, figsize=(10,7))\n",
        "x = np.linspace(t.ppf(0.01, 3), t.ppf(0.99, 3), 100)\n",
        "ax.plot(x, t.pdf(x, 1), 'r', lw=1, label='n = 1')\n",
        "ax.plot(x, t.pdf(x, 5), 'b-', lw=1, label='n = 5')\n",
        "ax.plot(x, t.pdf(x, 30), 'g-', lw=1, label='n = 30')\n",
        "ax.plot(x, t.pdf(x, 100), 'r+', lw=1, label='n = 100')\n",
        "ax.plot(x, norm.pdf(x), 'black', lw=1, label='normal')\n",
        "ax.legend();"
      ],
      "execution_count": null,
      "outputs": [
        {
          "output_type": "display_data",
          "data": {
            "image/png": "[encoded data removed]",
            "text/plain": [
              "<Figure size 720x504 with 1 Axes>"
            ]
          },
          "metadata": {
            "tags": [],
            "needs_background": "light"
          }
        }
      ]
    },
    {
      "cell_type": "markdown",
      "metadata": {
        "id": "dbQu6RrqzJEl"
      },
      "source": [
        "### Случай несвязных выборок"
      ]
    },
    {
      "cell_type": "markdown",
      "metadata": {
        "id": "MzAfsjvizJEl"
      },
      "source": [
        "Рассмотрим следующий пример:\n",
        "\n",
        "Психолог измерял время сложной сенсомотороной реакции выбора (в мс) в контрольной и эксперментальной группах. В экспериментальную группу ($X$) входили 9 спортсменов высокой квалификации. Контрольной группой ($Y$) являлись 8 человек, активно не занимающиеся спортом. Психолог проверяет гипотезу о том, что средняя скорость сложной сенсомоторной реакции выбора у спортсменов выше, чем эта же величина у людей, не занимающихся спортом.\n",
        "\n",
        "В результате эксперимента получились следующие средние значения:\n",
        "- Для спортсменов: $\\bar{X} = 526$\n",
        "- Для не занимающихся спортом: $\\bar{Y} = 638$\n",
        "\n",
        "Сырые данные эксперимента приведены ниже."
      ]
    },
    {
      "cell_type": "code",
      "metadata": {
        "id": "YEaZHC2WzJEl"
      },
      "source": [
        "# Экспериментальная группа\n",
        "X_1 = [504, 560, 420, 600, 580, 530, 490, 580, 470]\n",
        "# Контрольная группа\n",
        "Y_1 = [580, 692, 700, 621, 640, 561, 680, 630]"
      ],
      "execution_count": null,
      "outputs": []
    },
    {
      "cell_type": "markdown",
      "metadata": {
        "id": "odJjUQmkzJEl"
      },
      "source": [
        "**Задание:** Сформулируйте нулевую и альтернативную гипотезы."
      ]
    },
    {
      "cell_type": "markdown",
      "metadata": {
        "id": "pbC8xTnizJEm"
      },
      "source": [
        "Проверим, является ли различие в средних статистически значимым.  Для этого воспользуемся функцией [`ttest_ind`](https://docs.scipy.org/doc/scipy/reference/generated/scipy.stats.ttest_ind.html) для **несвязных** выборок."
      ]
    },
    {
      "cell_type": "code",
      "metadata": {
        "id": "YEnGcX0FzJEm",
        "colab": {
          "base_uri": "https://localhost:8080/"
        },
        "outputId": "b1bfe594-714f-437d-fc26-430568466071"
      },
      "source": [
        "###################################################\n",
        "# Ваш код здесь\n",
        "ttest_ind(X_1, Y_1)\n",
        "###################################################"
      ],
      "execution_count": null,
      "outputs": [
        {
          "output_type": "execute_result",
          "data": {
            "text/plain": [
              "Ttest_indResult(statistic=-4.12624181242505, pvalue=0.0008972556364194241)"
            ]
          },
          "metadata": {
            "tags": []
          },
          "execution_count": 8
        }
      ]
    },
    {
      "cell_type": "markdown",
      "metadata": {
        "id": "jjzBZQ26zJEm"
      },
      "source": [
        "**Вопрос:** Что можно сказать про результаты теста?"
      ]
    },
    {
      "cell_type": "markdown",
      "metadata": {
        "id": "Pc-FtMCNzJEm"
      },
      "source": [
        "**Задание:** Допустим, в ходе исследования мы хотели выяснить, влияет ли новый разработанный препарат на скорость выздоравления. Экспериментальная группа получала разработанный препарат, а контрольная - нет. Мы замеряли время выздоравления и применили t-тест к полученным данным. И в итоге получили $p = 0.004$.\n",
        "\n",
        "Выберете правильные утверждения:\n",
        "\n",
        "1. Т.к. в нашем исследовании $p$ уровень значимости равен 0,004, то вероятность того, что верна нулевая гипотеза (новый препарат не влияет на скорость выздоровления) также равняется всего-лишь 0,004.\n",
        "2. Если бы в исследовании мы получили $p=0,9$, это означало бы, что верна нулевая гипотеза, и новый препарат не влияет на скорость выздоровления.\n",
        "3. Чем меньше p уровень значимости, тем сильнее получаемые различия. Например, если бы p уровень значимости в нашем исследовании был бы равен 0,0001, значит новый препарат еще сильнее бы влиял на скорость выздоровления.\n",
        "4. Вероятность получить такие (как в эксперименте) или большие различия между среднем временнем выздоравления в экспериментальной и контрольной группе, при условии того, что нулевая гипотеза верна, равна 0.004."
      ]
    },
    {
      "cell_type": "markdown",
      "metadata": {
        "id": "tuU8xArOzJEm"
      },
      "source": [
        "### Случай связных выборок"
      ]
    },
    {
      "cell_type": "markdown",
      "metadata": {
        "id": "5L_LlEfSzJEm"
      },
      "source": [
        "Рассмотрим следующий пример:\n",
        "\n",
        "Психолог предположил, что в результате обучения время решения эквивалентных задач (т.е. имеющих один и тот же алгоритм решения) будет значимо уменьшаться. Для проверки гипотезы у восьми испытуемых сравнивалось время решения (в минутах) первой и третьей задач.\n",
        "\n",
        "В результате эксперимента получились следующие средние значения:\n",
        "- Для первой задачи: $\\bar{X} = 4.6375$\n",
        "- Для третьей задачи: $\\bar{Y} = 3.4875$\n",
        "\n",
        "Сырые данные приведены ниже."
      ]
    },
    {
      "cell_type": "code",
      "metadata": {
        "id": "1dp1AY3SzJEn"
      },
      "source": [
        "# Время, потраченое на решение первой задачи\n",
        "X_2 = [4.0, 3.5, 4.1, 5.5, 4.6, 6.0, 5.1, 4.3]\n",
        "# Время, потраченое на решение третьей задачи\n",
        "Y_2 = [3.0, 3.0, 3.8, 2.1, 4.9, 5.3, 3.1, 2.7]"
      ],
      "execution_count": null,
      "outputs": []
    },
    {
      "cell_type": "markdown",
      "metadata": {
        "id": "Gga6CjMczJEn"
      },
      "source": [
        "**Задание:** Сформулируйте нулевую и альтернативную гипотезы."
      ]
    },
    {
      "cell_type": "markdown",
      "metadata": {
        "id": "9fG1bOD5zJEn"
      },
      "source": [
        "Проверим, являются ли различие в средних статистически значимым.  Для этого воспользуемся функцией [`ttest_rel`](https://docs.scipy.org/doc/scipy/reference/generated/scipy.stats.ttest_rel.html#scipy.stats.ttest_rel) для **связных** выборок."
      ]
    },
    {
      "cell_type": "code",
      "metadata": {
        "id": "TKI7pnazzJEn",
        "colab": {
          "base_uri": "https://localhost:8080/"
        },
        "outputId": "08bc6b84-96f7-47e7-dc46-12054dc042b0"
      },
      "source": [
        "###################################################\n",
        "# Ваш код здесь\n",
        "ttest_rel(X_2, Y_2)\n",
        "###################################################"
      ],
      "execution_count": null,
      "outputs": [
        {
          "output_type": "execute_result",
          "data": {
            "text/plain": [
              "Ttest_relResult(statistic=2.7979908224842562, pvalue=0.02660095438966255)"
            ]
          },
          "metadata": {
            "tags": []
          },
          "execution_count": 18
        }
      ]
    },
    {
      "cell_type": "code",
      "metadata": {
        "id": "PYqFk5PrAqFL",
        "colab": {
          "base_uri": "https://localhost:8080/"
        },
        "outputId": "6686f6d1-bc52-4785-b4af-9f6d5be3e092"
      },
      "source": [
        "ttest_ind(X_2, Y_2)"
      ],
      "execution_count": null,
      "outputs": [
        {
          "output_type": "execute_result",
          "data": {
            "text/plain": [
              "Ttest_indResult(statistic=2.34502977713557, pvalue=0.03428662473942781)"
            ]
          },
          "metadata": {
            "tags": []
          },
          "execution_count": 14
        }
      ]
    },
    {
      "cell_type": "markdown",
      "metadata": {
        "id": "J1grgxPbzJEn"
      },
      "source": [
        "**Вопрос:** Что можно сказать про результаты теста?"
      ]
    },
    {
      "cell_type": "markdown",
      "metadata": {
        "id": "G7cGr0urzJEo"
      },
      "source": [
        "### Требования к данным"
      ]
    },
    {
      "cell_type": "markdown",
      "metadata": {
        "id": "_kTHeS8QzJEo"
      },
      "source": [
        "Для применения t-критерия Стьюдента данные должны удовлетворять следующим условиям:\n",
        "- **несвязные выборки**:\n",
        "    1. Гомогенность дисперсий - дисперсии внутри наших групп должны быть приблизительно одинаковыми\n",
        "    2. Нормальность распределения (особенно важно для выборок с количеством наблюдений меньше 30)\n",
        "    \n",
        "    \n",
        "- **связные выборки**:\n",
        "    1. Нормальность распределения (особенно важно для выборок с количеством наблюдений меньше 30)"
      ]
    },
    {
      "cell_type": "markdown",
      "metadata": {
        "id": "2D8KvgHozJEo"
      },
      "source": [
        "#### Проверка гомогенности дисперсий"
      ]
    },
    {
      "cell_type": "code",
      "metadata": {
        "id": "5YN2wmM7zJEo"
      },
      "source": [
        "from scipy.stats import levene"
      ],
      "execution_count": null,
      "outputs": []
    },
    {
      "cell_type": "markdown",
      "metadata": {
        "id": "9V5cm8VDzJEo"
      },
      "source": [
        "Проверить гомогенность дисперсий можно с помощью **критерия Левена**. Проделаем это для примера с несвязными выборками, используя функцию [`levene`](https://docs.scipy.org/doc/scipy/reference/generated/scipy.stats.levene.html#scipy.stats.levene)."
      ]
    },
    {
      "cell_type": "code",
      "metadata": {
        "id": "PdlwvEDgzJEo",
        "colab": {
          "base_uri": "https://localhost:8080/"
        },
        "outputId": "69f53596-ca81-4090-f9b4-2f20a7308cbb"
      },
      "source": [
        "###################################################\n",
        "# Ваш код здесь\n",
        "levene(X_2, Y_2)\n",
        "###################################################"
      ],
      "execution_count": null,
      "outputs": [
        {
          "output_type": "execute_result",
          "data": {
            "text/plain": [
              "LeveneResult(statistic=0.12853470437017966, pvalue=0.7253047789632902)"
            ]
          },
          "metadata": {
            "tags": []
          },
          "execution_count": 23
        }
      ]
    },
    {
      "cell_type": "markdown",
      "metadata": {
        "id": "EQgM2ijyzJEp"
      },
      "source": [
        "**Вопрос:** Что можно сказать про результаты теста?"
      ]
    },
    {
      "cell_type": "markdown",
      "metadata": {
        "id": "DD2G6Z75zJEp"
      },
      "source": [
        "#### Проверка нормальности распределения"
      ]
    },
    {
      "cell_type": "code",
      "metadata": {
        "id": "-AowatkGzJEp"
      },
      "source": [
        "from scipy.stats import shapiro"
      ],
      "execution_count": null,
      "outputs": []
    },
    {
      "cell_type": "markdown",
      "metadata": {
        "id": "iYEVrABkzJEp"
      },
      "source": [
        "Проверить распределение на нормальность можно:\n",
        "- визуально с помощью **графика квантиль-квантиль (Q-Q plot)** или\n",
        "- с помощью **кретерия Шапиро-Уилка**\n",
        "\n",
        "Давайте сначала проверим наши выборки по критерию Шапиро-Уилка ([`shapiro`](https://docs.scipy.org/doc/scipy/reference/generated/scipy.stats.shapiro.html#scipy.stats.shapiro))"
      ]
    },
    {
      "cell_type": "code",
      "metadata": {
        "id": "nC5LItfDzJEp",
        "colab": {
          "base_uri": "https://localhost:8080/"
        },
        "outputId": "1157ca5f-f674-439f-8f05-41826c328841"
      },
      "source": [
        "###################################################\n",
        "# Ваш код здесь\n",
        "print(shapiro(X_2))\n",
        "print(shapiro(Y_2))\n",
        "###################################################"
      ],
      "execution_count": null,
      "outputs": [
        {
          "output_type": "stream",
          "text": [
            "(0.9654372930526733, 0.8599994778633118)\n",
            "(0.9026064872741699, 0.30491647124290466)\n"
          ],
          "name": "stdout"
        }
      ]
    },
    {
      "cell_type": "markdown",
      "metadata": {
        "id": "kpeoEbSqzJEp"
      },
      "source": [
        "**Вопрос:** Что можно сказать про результаты теста?"
      ]
    },
    {
      "cell_type": "markdown",
      "metadata": {
        "id": "_OpjuCdmzJEp"
      },
      "source": [
        "Теперь давайте для начала потренируемся в интерпретации [Q-Q plot](https://en.wikipedia.org/wiki/Q%E2%80%93Q_plot) на синтетических данных. Воспользуемся функцией [`qqplot`](https://www.statsmodels.org/stable/generated/statsmodels.graphics.gofplots.qqplot.html)."
      ]
    },
    {
      "cell_type": "markdown",
      "metadata": {
        "id": "kvuLmhESzJEq"
      },
      "source": [
        "<img src=\"https://upload.wikimedia.org/wikipedia/commons/0/08/Normal_normal_qq.svg\" width=\"400\">"
      ]
    },
    {
      "cell_type": "code",
      "metadata": {
        "id": "DOrDd2qWzJEq",
        "colab": {
          "base_uri": "https://localhost:8080/"
        },
        "outputId": "ee175b4b-5611-43a6-85cf-e2b5bc9e0d5d"
      },
      "source": [
        "from statsmodels.api import qqplot"
      ],
      "execution_count": null,
      "outputs": [
        {
          "output_type": "stream",
          "text": [
            "/usr/local/lib/python3.7/dist-packages/statsmodels/tools/_testing.py:19: FutureWarning: pandas.util.testing is deprecated. Use the functions in the public API at pandas.testing instead.\n",
            "  import pandas.util.testing as tm\n"
          ],
          "name": "stderr"
        }
      ]
    },
    {
      "cell_type": "markdown",
      "metadata": {
        "id": "9PCPCtezzJEq"
      },
      "source": [
        "1. Сгенерируем четыре выборки размером 1000:\n",
        "    - из нормального распределения\n",
        "    - из нормального распределения, скошенного впрово [`skewnorm`](https://docs.scipy.org/doc/scipy/reference/generated/scipy.stats.skewnorm.html),  с коэффициентом ассиметрии $= 2$\n",
        "    - из нормального распруделения, скошенного влево, с коэффициентом ассиметрии $= -2$\n",
        "    - из распределения Стьюдента с двумя степенями свободы\n",
        "2. Для каждой выборки построим Q-Q plot. Будем сравнивать с нормальным распределением, так же будем отображать контрольную линию.\n",
        "3. Также, для каждой выборки построим график её плостности распределения и плотности нормального распределения.\n",
        "\n",
        "3. Проинтерпретируем графики"
      ]
    },
    {
      "cell_type": "code",
      "metadata": {
        "id": "QS9iEK9SzJEq"
      },
      "source": [
        "# Нормальное распределение\n",
        "###################################################\n",
        "# Ваш код здесь\n",
        "###################################################"
      ],
      "execution_count": null,
      "outputs": []
    },
    {
      "cell_type": "code",
      "metadata": {
        "id": "V-2s9MCezJEq"
      },
      "source": [
        "# Нормальное распределение, скошенное вправо\n",
        "###################################################\n",
        "# Ваш код здесь\n",
        "###################################################"
      ],
      "execution_count": null,
      "outputs": []
    },
    {
      "cell_type": "code",
      "metadata": {
        "id": "qKB633qPzJEq"
      },
      "source": [
        "# Нормальное распределение, скошенное влево\n",
        "###################################################\n",
        "# Ваш код здесь\n",
        "###################################################"
      ],
      "execution_count": null,
      "outputs": []
    },
    {
      "cell_type": "code",
      "metadata": {
        "id": "JYai7GYezJEr"
      },
      "source": [
        "# Распределение Стьюдента, n = 2\n",
        "###################################################\n",
        "# Ваш код здесь\n",
        "###################################################"
      ],
      "execution_count": null,
      "outputs": []
    },
    {
      "cell_type": "markdown",
      "metadata": {
        "id": "6Cn8OFqTzJEr"
      },
      "source": [
        "Теперь проверим наши данные на нормальность с помошью Q-Q plot."
      ]
    },
    {
      "cell_type": "code",
      "metadata": {
        "id": "gGLvqZn_zJEr",
        "colab": {
          "base_uri": "https://localhost:8080/",
          "height": 279
        },
        "outputId": "dcfb034a-51aa-41fe-d021-115bba3ed66b"
      },
      "source": [
        "###################################################\n",
        "# Ваш код здесь\n",
        "fig = qqplot(np.array(X_2), norm, fit=True, line='45')\n",
        "###################################################"
      ],
      "execution_count": null,
      "outputs": [
        {
          "output_type": "display_data",
          "data": {
            "image/png": "[encoded data removed]",
            "text/plain": [
              "<Figure size 432x288 with 1 Axes>"
            ]
          },
          "metadata": {
            "tags": [],
            "needs_background": "light"
          }
        }
      ]
    },
    {
      "cell_type": "markdown",
      "metadata": {
        "id": "CIKkJGMozJEr"
      },
      "source": [
        "## Часть 2. Хи-квадрат"
      ]
    },
    {
      "cell_type": "markdown",
      "metadata": {
        "id": "KXukWds8zJEr"
      },
      "source": [
        "Критерий $\\chi^2$ используют в двух случаях:\n",
        "1. Для расчета согласия эмперического распределения и предполагаемого теоретического. В этом случае проверяется нулевая гипотеза об отсутствии различий между теоретическим и эмперическим распределениями.\n",
        "\n",
        "2. Для расчета однородности двух независимых экспериментальных выборок. В этом случае проверятеся гипотеза $H_0$ об отсутствии различий между двумя эмпирическими (экспериментальными) распределениями.\n",
        "\n",
        "\n",
        "Критерий основан на **распределении $\\chi^2$**. **Распределении $\\chi^2$ с $k$ степенями свободы** - это распределение суммы квадратов $k$ независимых стандартных нормальных случайных величин.\n",
        "\n",
        "Если\n",
        "$$Y = \\sum\\limits_{i=1}^{k} X_i$$ и $$X_i \\sim N(0, 1)$$ то $$Y \\sim \\chi^2_k$$\n",
        "\n",
        "По выборке параметр $k$ определяется как число элементов в выборке минус 1.\n",
        "\n",
        "Графики плотности распределения для разных значений $k$.\n",
        "<img src=\"https://upload.wikimedia.org/wikipedia/commons/2/21/Chi-square_distributionPDF.png?uselang=ru\" width=500>\n",
        "\n",
        "Исходнык данные для $\\chi^2$ могут буть представлены в любой шкале, например категоральной. Тогда, решаемый вопрос можно было бы сформулировать так: с одинаковой ли частотой встречаются разные значения признака в эмпирическом и теоретическом распределениях.\n",
        "\n",
        "\n",
        "Критерий построен так, что при полном совпадении экспериментального и теоретического (или двух экспериментальных) распределений величина $\\chi^2_{эмп}$ (*хи*-квадрат эмпирическое) $=0$, и чем больше расхождение между сопоставляемыми распределениями, тем больше величина значения $\\chi^2_{эмп}$."
      ]
    },
    {
      "cell_type": "markdown",
      "metadata": {
        "id": "QJV9NRIAzJEr"
      },
      "source": [
        "### Сравнение эмпирического распределения с теоретическим"
      ]
    },
    {
      "cell_type": "markdown",
      "metadata": {
        "id": "4chfWlxMzJEr"
      },
      "source": [
        "#### Пример с игральной костью\n",
        "Предположим, что исследователю в эксперименте необходимо использовать игральный кубик (шестигранный). Для чистоты эксперимента кубик должен быть \"идеальным\", т.е. таким, чтобы при достаточно большом числе подбрасываний, каждая грань выпадала бы примерно равное число раз. Задача состоит в выяснении того, будет ли данный кубик близок к идеальному?\n",
        "\n",
        "Чтобы это проверить, исследователь подбросил кубик 60 раз, при этом количество выпадений каждой грани распределилось следующим образом:\n",
        "\n",
        "| **Грани кубика**| 1 | 2 | 3 | 4 | 5 | 6 |\n",
        "|------|------|------|------|------|------|------|\n",
        "|**Эмпирические частоты** | 12 | 9 | 11 | 14 | 8 | 6 |\n",
        "|**Теоретические частоты** | 10 | 10 | 10 | 10 | 10 | 10 |\n",
        "\n",
        "**Задание:** Сформулируйте нулевую и альтернативную гипотезы.\n",
        "\n",
        "Применим критерий $\\chi^2$, воспользовавшись функцией [`chisquare`](https://docs.scipy.org/doc/scipy/reference/generated/scipy.stats.chisquare.html#scipy.stats.chisquare)"
      ]
    },
    {
      "cell_type": "code",
      "metadata": {
        "id": "Ikn99JsBzJEs",
        "colab": {
          "base_uri": "https://localhost:8080/"
        },
        "outputId": "3f0ad3b3-d722-4395-edf9-00726e4d3f08"
      },
      "source": [
        "from scipy.stats import chisquare\n",
        "###################################################\n",
        "# Ваш код здесь\n",
        "obs = [12, 9, 11, 14, 8, 6]\n",
        "exp = [10, 10, 10, 10, 10, 10]\n",
        "\n",
        "print(chisquare(obs, exp))\n",
        "###################################################"
      ],
      "execution_count": null,
      "outputs": [
        {
          "output_type": "stream",
          "text": [
            "Power_divergenceResult(statistic=4.2, pvalue=0.5209949534314051)\n"
          ],
          "name": "stdout"
        }
      ]
    },
    {
      "cell_type": "markdown",
      "metadata": {
        "id": "6jY9XNHlzJEt"
      },
      "source": [
        "**Вопрос:** Что можно сказать про результаты теста?\n",
        "\n",
        "Кубик честный\n"
      ]
    },
    {
      "cell_type": "markdown",
      "metadata": {
        "id": "3nvHQT5CzJEt"
      },
      "source": [
        "### Сравнение двух экспериментальных распределений"
      ]
    },
    {
      "cell_type": "markdown",
      "metadata": {
        "id": "JWenApVGzJEt"
      },
      "source": [
        "На практике часто встречаются задачи, в которых необходимо сравнивать не теоретическое распределение с эмпирическим, а два и более эмпирических распределения между собой.\n",
        "\n",
        "Рассмотрим задачу:\n",
        "\n",
        "Одинаков ли уровень подготовленности учащихся в двух школах, если в первой школе из 100 человек поступило в вуз 82 человека, а во второй школе из 87 поступили 44?\n",
        "\n",
        "**Таблица сопряженности:**\n",
        "\n",
        "|№ школы|школа 1|школа 2|\n",
        "|------|------|------|\n",
        "|**Число поступивших**|82|18|\n",
        "|**Число не поступивших**|44|43|\n",
        "|**Всего**|100|87|\n",
        "\n",
        "**Задание:** Сформулируйте нулевую и альтернативную гипотезы.\n",
        "\n",
        "Применим критерий $\\chi^2$, воспользовавшись функцией [`chi2_contingency`](https://docs.scipy.org/doc/scipy/reference/generated/scipy.stats.chi2_contingency.html#scipy.stats.chi2_contingency)"
      ]
    },
    {
      "cell_type": "code",
      "metadata": {
        "id": "vFaBj_qlzJEt",
        "colab": {
          "base_uri": "https://localhost:8080/"
        },
        "outputId": "5c34b64d-9e44-46f6-f0ab-f7eba8af364c"
      },
      "source": [
        "from scipy.stats import chi2_contingency\n",
        "###################################################\n",
        "# Ваш код здесь\n",
        "cont_table = np.array([[82, 44], [18, 43]])\n",
        "chi2_contingency(cont_table)\n",
        "###################################################"
      ],
      "execution_count": null,
      "outputs": [
        {
          "output_type": "execute_result",
          "data": {
            "text/plain": [
              "(19.498190870249235,\n",
              " 1.0069500556409318e-05,\n",
              " 1,\n",
              " array([[67.37967914, 58.62032086],\n",
              "        [32.62032086, 28.37967914]]))"
            ]
          },
          "metadata": {
            "tags": []
          },
          "execution_count": 51
        }
      ]
    },
    {
      "cell_type": "code",
      "metadata": {
        "id": "xgqOq2O4NDWA",
        "colab": {
          "base_uri": "https://localhost:8080/"
        },
        "outputId": "b2d8f94d-256d-40cd-cb2b-37993cfc8c72"
      },
      "source": [
        "cont_table"
      ],
      "execution_count": null,
      "outputs": [
        {
          "output_type": "execute_result",
          "data": {
            "text/plain": [
              "array([[ 82,  18],\n",
              "       [ 44,  43],\n",
              "       [100,  87]])"
            ]
          },
          "metadata": {
            "tags": []
          },
          "execution_count": 46
        }
      ]
    },
    {
      "cell_type": "markdown",
      "metadata": {
        "id": "FPJ0p9q3zJEt"
      },
      "source": [
        "**Вопрос:** Что можно сказать про результаты теста?"
      ]
    },
    {
      "cell_type": "code",
      "metadata": {
        "id": "SeQK49nezJEt"
      },
      "source": [
        ""
      ],
      "execution_count": null,
      "outputs": []
    }
  ]
}